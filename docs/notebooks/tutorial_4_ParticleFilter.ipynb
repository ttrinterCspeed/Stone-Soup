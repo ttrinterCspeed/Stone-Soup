{
 "cells": [
  {
   "cell_type": "markdown",
   "metadata": {},
   "source": [
    "# 4 - Sampling methods: particle filter\n",
    "\n",
    "In the previous tutorials we encountered some shortcomings in describing distributions as Gaussians, albeit with considerable flexibility in coping with the non-linear transforms.\n",
    "\n",
    "Sampling methods offer an attractive alternative to such parametric methods in that there is no need for complicated though approximate covariance calculations. In this tutorial we look at a class of *sequential Monte Carlo sampling* methods, and in particular, the *particle filter*.\n",
    "\n",
    "Colloquially we can think of a particle filter as a series of point samples being recursed through the predict-update stages of a Bayesian filter. The diversity of samples compensates for the lack of a covariance estimate, though often at the expense of increased computation requirements.\n",
    "\n",
    "## Background\n",
    "In more detail, we seek to approximate the posterior state estimate as a sum of samples, or particles,\n",
    "$$\n",
    "       p(\\textbf{x}_{k}|\\textbf{z}_{1:k}) \\approx\n",
    "       \\sum_{i} w_{k}^i \\delta (\\textbf{x}_{k} - \\textbf{x}_{k}^i)\n",
    "$$\n",
    "\n",
    "where $w_{k}^i$ are weights such that $\\sum\\limits_{i} w_{k}^i = 1$. This posterior can be calculated, and subsequently maintained, by successive applications of the Chapman-Kolmogorov equation and Bayes rule in an analogous manner to the Kalman family of filters of previous tutorials. There is considerable flexibility in how to sample from these various distributions and the interested reader can refer to [#]_ for more detail.\n",
    "\n",
    "The present tutorial focuses on a so-called *sequential importance resampling* filter. This is facilitated by a number of Stone Soup classes. The weight-update equation is,\n",
    "$$\n",
    "           w^i_k = w^i_{k-1}\n",
    "           \\frac{p(\\mathbf{z}_k|\\mathbf{x}^i_k) p(\\mathbf{x}^i_k|\\mathbf{x}^1_{k-1})}\n",
    "                {q(\\mathbf{x}^i_k|\\mathbf{x}^1_{k-1},\\mathbf{z}^i_{1:k})}\n",
    "$$\n",
    "\n",
    "where $p(\\mathbf{z}_k | \\mathbf{x}^i_k)$ is the likelihood distribution (as defined by the `MeasurementModel`) and $p(\\mathbf{x}^i_k|\\mathbf{x}^1_{k-1})$ is the transition probability distribution (`TransitionModel`). The $q(\\cdot)$ distribution -- the importance density -- should approximate the posterior distribution, while still being easy to sample from.\n",
    "\n",
    "A common occurrence in such methods is that of *sample impoverishment*. After a few iterations, all but a small number of the particles will have negligible weight. This affects accuracy and wastes computation on particles with little effect on the estimate. Many resampling schemes exist and are designed to redistribute particles to areas where the posterior probability is higher. In Stone Soup such resampling is accomplished by a `Resampler`. More detail is provided in the example below.\n",
    "\n",
    "## Nearly-constant velocity example\n",
    "We continue in the same vein as the previous tutorials.\n",
    "\n",
    "### Ground truth\n",
    "\n"
   ]
  },
  {
   "cell_type": "code",
   "execution_count": 1,
   "metadata": {},
   "outputs": [],
   "source": [
    "# Import the necessary libraries\n",
    "import numpy as np\n",
    "\n",
    "from datetime import datetime\n",
    "from datetime import timedelta\n",
    "\n",
    "# Initialise Stone Soup ground-truth and transition models.\n",
    "from stonesoup.models.transition.linear import CombinedLinearGaussianTransitionModel, \\\n",
    "    ConstantVelocity\n",
    "from stonesoup.types.groundtruth import GroundTruthPath, GroundTruthState\n",
    "\n",
    "np.random.seed(1991)\n",
    "start_time = datetime.now().replace(microsecond=0)"
   ]
  },
  {
   "cell_type": "code",
   "execution_count": 2,
   "metadata": {},
   "outputs": [
    {
     "data": {
      "application/vnd.plotly.v1+json": {
       "config": {
        "plotlyServerURL": "https://plot.ly"
       },
       "data": [
        {
         "hoverinfo": "none",
         "legendgroup": "Ground Truth",
         "legendrank": 100,
         "line": {
          "color": "#EF553B",
          "dash": "dash"
         },
         "mode": "lines",
         "name": "Ground Truth",
         "showlegend": true,
         "type": "scatter",
         "x": [],
         "y": []
        },
        {
         "hoverinfo": "none",
         "legendgroup": "Ground Truth",
         "legendrank": 100,
         "line": {
          "color": "#EF553B",
          "dash": "dash"
         },
         "mode": "lines",
         "name": "Ground Truth",
         "showlegend": false,
         "type": "scatter",
         "x": [],
         "y": []
        }
       ],
       "frames": [
        {
         "data": [
          {
           "type": "scatter",
           "x": [
            0,
            0
           ],
           "y": [
            0,
            0
           ]
          },
          {
           "hovertemplate": "GroundTruthState<br>(%{x}, %{y})<br>Time: %{meta}",
           "meta": [
            "2024-10-24 13:08:08"
           ],
           "type": "scatter",
           "x": [
            0,
            null
           ],
           "y": [
            0,
            null
           ]
          }
         ],
         "name": "2024-10-24 13:08:08",
         "traces": [
          0,
          1
         ]
        },
        {
         "data": [
          {
           "type": "scatter",
           "x": [
            0,
            0
           ],
           "y": [
            0,
            0
           ]
          },
          {
           "hovertemplate": "GroundTruthState<br>(%{x}, %{y})<br>Time: %{meta}",
           "meta": [
            "2024-10-24 13:08:08",
            "2024-10-24 13:08:09"
           ],
           "type": "scatter",
           "x": [
            0,
            1.177223465328352,
            null
           ],
           "y": [
            0,
            1.0006757513847795,
            null
           ]
          }
         ],
         "name": "2024-10-24 13:08:09",
         "traces": [
          0,
          1
         ]
        },
        {
         "data": [
          {
           "type": "scatter",
           "x": [
            0,
            0
           ],
           "y": [
            0,
            0
           ]
          },
          {
           "hovertemplate": "GroundTruthState<br>(%{x}, %{y})<br>Time: %{meta}",
           "meta": [
            "2024-10-24 13:08:08",
            "2024-10-24 13:08:09",
            "2024-10-24 13:08:10"
           ],
           "type": "scatter",
           "x": [
            0,
            1.177223465328352,
            2.275462874700381,
            null
           ],
           "y": [
            0,
            1.0006757513847795,
            2.0307275520116606,
            null
           ]
          }
         ],
         "name": "2024-10-24 13:08:10",
         "traces": [
          0,
          1
         ]
        },
        {
         "data": [
          {
           "type": "scatter",
           "x": [
            0,
            0
           ],
           "y": [
            0,
            0
           ]
          },
          {
           "hovertemplate": "GroundTruthState<br>(%{x}, %{y})<br>Time: %{meta}",
           "meta": [
            "2024-10-24 13:08:08",
            "2024-10-24 13:08:09",
            "2024-10-24 13:08:10",
            "2024-10-24 13:08:11"
           ],
           "type": "scatter",
           "x": [
            0,
            1.177223465328352,
            2.275462874700381,
            3.1560399703547968,
            null
           ],
           "y": [
            0,
            1.0006757513847795,
            2.0307275520116606,
            3.2076890985336823,
            null
           ]
          }
         ],
         "name": "2024-10-24 13:08:11",
         "traces": [
          0,
          1
         ]
        },
        {
         "data": [
          {
           "type": "scatter",
           "x": [
            0,
            0
           ],
           "y": [
            0,
            0
           ]
          },
          {
           "hovertemplate": "GroundTruthState<br>(%{x}, %{y})<br>Time: %{meta}",
           "meta": [
            "2024-10-24 13:08:08",
            "2024-10-24 13:08:09",
            "2024-10-24 13:08:10",
            "2024-10-24 13:08:11",
            "2024-10-24 13:08:12"
           ],
           "type": "scatter",
           "x": [
            0,
            1.177223465328352,
            2.275462874700381,
            3.1560399703547968,
            4.111484568780832,
            null
           ],
           "y": [
            0,
            1.0006757513847795,
            2.0307275520116606,
            3.2076890985336823,
            4.681546580969336,
            null
           ]
          }
         ],
         "name": "2024-10-24 13:08:12",
         "traces": [
          0,
          1
         ]
        },
        {
         "data": [
          {
           "type": "scatter",
           "x": [
            0,
            0
           ],
           "y": [
            0,
            0
           ]
          },
          {
           "hovertemplate": "GroundTruthState<br>(%{x}, %{y})<br>Time: %{meta}",
           "meta": [
            "2024-10-24 13:08:08",
            "2024-10-24 13:08:09",
            "2024-10-24 13:08:10",
            "2024-10-24 13:08:11",
            "2024-10-24 13:08:12",
            "2024-10-24 13:08:13"
           ],
           "type": "scatter",
           "x": [
            0,
            1.177223465328352,
            2.275462874700381,
            3.1560399703547968,
            4.111484568780832,
            5.068918699968233,
            null
           ],
           "y": [
            0,
            1.0006757513847795,
            2.0307275520116606,
            3.2076890985336823,
            4.681546580969336,
            6.424096316700446,
            null
           ]
          }
         ],
         "name": "2024-10-24 13:08:13",
         "traces": [
          0,
          1
         ]
        },
        {
         "data": [
          {
           "type": "scatter",
           "x": [
            0,
            0
           ],
           "y": [
            0,
            0
           ]
          },
          {
           "hovertemplate": "GroundTruthState<br>(%{x}, %{y})<br>Time: %{meta}",
           "meta": [
            "2024-10-24 13:08:08",
            "2024-10-24 13:08:09",
            "2024-10-24 13:08:10",
            "2024-10-24 13:08:11",
            "2024-10-24 13:08:12",
            "2024-10-24 13:08:13",
            "2024-10-24 13:08:14"
           ],
           "type": "scatter",
           "x": [
            0,
            1.177223465328352,
            2.275462874700381,
            3.1560399703547968,
            4.111484568780832,
            5.068918699968233,
            6.134103970132443,
            null
           ],
           "y": [
            0,
            1.0006757513847795,
            2.0307275520116606,
            3.2076890985336823,
            4.681546580969336,
            6.424096316700446,
            8.291557310607626,
            null
           ]
          }
         ],
         "name": "2024-10-24 13:08:14",
         "traces": [
          0,
          1
         ]
        },
        {
         "data": [
          {
           "type": "scatter",
           "x": [
            0,
            0
           ],
           "y": [
            0,
            0
           ]
          },
          {
           "hovertemplate": "GroundTruthState<br>(%{x}, %{y})<br>Time: %{meta}",
           "meta": [
            "2024-10-24 13:08:09",
            "2024-10-24 13:08:10",
            "2024-10-24 13:08:11",
            "2024-10-24 13:08:12",
            "2024-10-24 13:08:13",
            "2024-10-24 13:08:14",
            "2024-10-24 13:08:15"
           ],
           "type": "scatter",
           "x": [
            1.177223465328352,
            2.275462874700381,
            3.1560399703547968,
            4.111484568780832,
            5.068918699968233,
            6.134103970132443,
            7.336661592351442,
            null
           ],
           "y": [
            1.0006757513847795,
            2.0307275520116606,
            3.2076890985336823,
            4.681546580969336,
            6.424096316700446,
            8.291557310607626,
            10.210133065599429,
            null
           ]
          }
         ],
         "name": "2024-10-24 13:08:15",
         "traces": [
          0,
          1
         ]
        },
        {
         "data": [
          {
           "type": "scatter",
           "x": [
            0,
            0
           ],
           "y": [
            0,
            0
           ]
          },
          {
           "hovertemplate": "GroundTruthState<br>(%{x}, %{y})<br>Time: %{meta}",
           "meta": [
            "2024-10-24 13:08:10",
            "2024-10-24 13:08:11",
            "2024-10-24 13:08:12",
            "2024-10-24 13:08:13",
            "2024-10-24 13:08:14",
            "2024-10-24 13:08:15",
            "2024-10-24 13:08:16"
           ],
           "type": "scatter",
           "x": [
            2.275462874700381,
            3.1560399703547968,
            4.111484568780832,
            5.068918699968233,
            6.134103970132443,
            7.336661592351442,
            8.708739774094603,
            null
           ],
           "y": [
            2.0307275520116606,
            3.2076890985336823,
            4.681546580969336,
            6.424096316700446,
            8.291557310607626,
            10.210133065599429,
            12.639171131337447,
            null
           ]
          }
         ],
         "name": "2024-10-24 13:08:16",
         "traces": [
          0,
          1
         ]
        },
        {
         "data": [
          {
           "type": "scatter",
           "x": [
            0,
            0
           ],
           "y": [
            0,
            0
           ]
          },
          {
           "hovertemplate": "GroundTruthState<br>(%{x}, %{y})<br>Time: %{meta}",
           "meta": [
            "2024-10-24 13:08:11",
            "2024-10-24 13:08:12",
            "2024-10-24 13:08:13",
            "2024-10-24 13:08:14",
            "2024-10-24 13:08:15",
            "2024-10-24 13:08:16",
            "2024-10-24 13:08:17"
           ],
           "type": "scatter",
           "x": [
            3.1560399703547968,
            4.111484568780832,
            5.068918699968233,
            6.134103970132443,
            7.336661592351442,
            8.708739774094603,
            9.661668970928952,
            null
           ],
           "y": [
            3.2076890985336823,
            4.681546580969336,
            6.424096316700446,
            8.291557310607626,
            10.210133065599429,
            12.639171131337447,
            15.077240437037124,
            null
           ]
          }
         ],
         "name": "2024-10-24 13:08:17",
         "traces": [
          0,
          1
         ]
        },
        {
         "data": [
          {
           "type": "scatter",
           "x": [
            0,
            0
           ],
           "y": [
            0,
            0
           ]
          },
          {
           "hovertemplate": "GroundTruthState<br>(%{x}, %{y})<br>Time: %{meta}",
           "meta": [
            "2024-10-24 13:08:12",
            "2024-10-24 13:08:13",
            "2024-10-24 13:08:14",
            "2024-10-24 13:08:15",
            "2024-10-24 13:08:16",
            "2024-10-24 13:08:17",
            "2024-10-24 13:08:18"
           ],
           "type": "scatter",
           "x": [
            4.111484568780832,
            5.068918699968233,
            6.134103970132443,
            7.336661592351442,
            8.708739774094603,
            9.661668970928952,
            10.289427281808946,
            null
           ],
           "y": [
            4.681546580969336,
            6.424096316700446,
            8.291557310607626,
            10.210133065599429,
            12.639171131337447,
            15.077240437037124,
            17.463880393414996,
            null
           ]
          }
         ],
         "name": "2024-10-24 13:08:18",
         "traces": [
          0,
          1
         ]
        },
        {
         "data": [
          {
           "type": "scatter",
           "x": [
            0,
            0
           ],
           "y": [
            0,
            0
           ]
          },
          {
           "hovertemplate": "GroundTruthState<br>(%{x}, %{y})<br>Time: %{meta}",
           "meta": [
            "2024-10-24 13:08:13",
            "2024-10-24 13:08:14",
            "2024-10-24 13:08:15",
            "2024-10-24 13:08:16",
            "2024-10-24 13:08:17",
            "2024-10-24 13:08:18",
            "2024-10-24 13:08:19"
           ],
           "type": "scatter",
           "x": [
            5.068918699968233,
            6.134103970132443,
            7.336661592351442,
            8.708739774094603,
            9.661668970928952,
            10.289427281808946,
            10.90851617793013,
            null
           ],
           "y": [
            6.424096316700446,
            8.291557310607626,
            10.210133065599429,
            12.639171131337447,
            15.077240437037124,
            17.463880393414996,
            19.922987588268054,
            null
           ]
          }
         ],
         "name": "2024-10-24 13:08:19",
         "traces": [
          0,
          1
         ]
        },
        {
         "data": [
          {
           "type": "scatter",
           "x": [
            0,
            0
           ],
           "y": [
            0,
            0
           ]
          },
          {
           "hovertemplate": "GroundTruthState<br>(%{x}, %{y})<br>Time: %{meta}",
           "meta": [
            "2024-10-24 13:08:14",
            "2024-10-24 13:08:15",
            "2024-10-24 13:08:16",
            "2024-10-24 13:08:17",
            "2024-10-24 13:08:18",
            "2024-10-24 13:08:19",
            "2024-10-24 13:08:20"
           ],
           "type": "scatter",
           "x": [
            6.134103970132443,
            7.336661592351442,
            8.708739774094603,
            9.661668970928952,
            10.289427281808946,
            10.90851617793013,
            11.43649485409589,
            null
           ],
           "y": [
            8.291557310607626,
            10.210133065599429,
            12.639171131337447,
            15.077240437037124,
            17.463880393414996,
            19.922987588268054,
            22.43523846129129,
            null
           ]
          }
         ],
         "name": "2024-10-24 13:08:20",
         "traces": [
          0,
          1
         ]
        },
        {
         "data": [
          {
           "type": "scatter",
           "x": [
            0,
            0
           ],
           "y": [
            0,
            0
           ]
          },
          {
           "hovertemplate": "GroundTruthState<br>(%{x}, %{y})<br>Time: %{meta}",
           "meta": [
            "2024-10-24 13:08:15",
            "2024-10-24 13:08:16",
            "2024-10-24 13:08:17",
            "2024-10-24 13:08:18",
            "2024-10-24 13:08:19",
            "2024-10-24 13:08:20",
            "2024-10-24 13:08:21"
           ],
           "type": "scatter",
           "x": [
            7.336661592351442,
            8.708739774094603,
            9.661668970928952,
            10.289427281808946,
            10.90851617793013,
            11.43649485409589,
            12.083757383111484,
            null
           ],
           "y": [
            10.210133065599429,
            12.639171131337447,
            15.077240437037124,
            17.463880393414996,
            19.922987588268054,
            22.43523846129129,
            25.226253707256983,
            null
           ]
          }
         ],
         "name": "2024-10-24 13:08:21",
         "traces": [
          0,
          1
         ]
        },
        {
         "data": [
          {
           "type": "scatter",
           "x": [
            0,
            0
           ],
           "y": [
            0,
            0
           ]
          },
          {
           "hovertemplate": "GroundTruthState<br>(%{x}, %{y})<br>Time: %{meta}",
           "meta": [
            "2024-10-24 13:08:16",
            "2024-10-24 13:08:17",
            "2024-10-24 13:08:18",
            "2024-10-24 13:08:19",
            "2024-10-24 13:08:20",
            "2024-10-24 13:08:21",
            "2024-10-24 13:08:22"
           ],
           "type": "scatter",
           "x": [
            8.708739774094603,
            9.661668970928952,
            10.289427281808946,
            10.90851617793013,
            11.43649485409589,
            12.083757383111484,
            12.857255540294034,
            null
           ],
           "y": [
            12.639171131337447,
            15.077240437037124,
            17.463880393414996,
            19.922987588268054,
            22.43523846129129,
            25.226253707256983,
            28.317087024384634,
            null
           ]
          }
         ],
         "name": "2024-10-24 13:08:22",
         "traces": [
          0,
          1
         ]
        },
        {
         "data": [
          {
           "type": "scatter",
           "x": [
            0,
            0
           ],
           "y": [
            0,
            0
           ]
          },
          {
           "hovertemplate": "GroundTruthState<br>(%{x}, %{y})<br>Time: %{meta}",
           "meta": [
            "2024-10-24 13:08:17",
            "2024-10-24 13:08:18",
            "2024-10-24 13:08:19",
            "2024-10-24 13:08:20",
            "2024-10-24 13:08:21",
            "2024-10-24 13:08:22",
            "2024-10-24 13:08:23"
           ],
           "type": "scatter",
           "x": [
            9.661668970928952,
            10.289427281808946,
            10.90851617793013,
            11.43649485409589,
            12.083757383111484,
            12.857255540294034,
            13.664009379110706,
            null
           ],
           "y": [
            15.077240437037124,
            17.463880393414996,
            19.922987588268054,
            22.43523846129129,
            25.226253707256983,
            28.317087024384634,
            31.653600280950233,
            null
           ]
          }
         ],
         "name": "2024-10-24 13:08:23",
         "traces": [
          0,
          1
         ]
        },
        {
         "data": [
          {
           "type": "scatter",
           "x": [
            0,
            0
           ],
           "y": [
            0,
            0
           ]
          },
          {
           "hovertemplate": "GroundTruthState<br>(%{x}, %{y})<br>Time: %{meta}",
           "meta": [
            "2024-10-24 13:08:18",
            "2024-10-24 13:08:19",
            "2024-10-24 13:08:20",
            "2024-10-24 13:08:21",
            "2024-10-24 13:08:22",
            "2024-10-24 13:08:23",
            "2024-10-24 13:08:24"
           ],
           "type": "scatter",
           "x": [
            10.289427281808946,
            10.90851617793013,
            11.43649485409589,
            12.083757383111484,
            12.857255540294034,
            13.664009379110706,
            14.66094199646186,
            null
           ],
           "y": [
            17.463880393414996,
            19.922987588268054,
            22.43523846129129,
            25.226253707256983,
            28.317087024384634,
            31.653600280950233,
            34.95982666405545,
            null
           ]
          }
         ],
         "name": "2024-10-24 13:08:24",
         "traces": [
          0,
          1
         ]
        },
        {
         "data": [
          {
           "type": "scatter",
           "x": [
            0,
            0
           ],
           "y": [
            0,
            0
           ]
          },
          {
           "hovertemplate": "GroundTruthState<br>(%{x}, %{y})<br>Time: %{meta}",
           "meta": [
            "2024-10-24 13:08:19",
            "2024-10-24 13:08:20",
            "2024-10-24 13:08:21",
            "2024-10-24 13:08:22",
            "2024-10-24 13:08:23",
            "2024-10-24 13:08:24",
            "2024-10-24 13:08:25"
           ],
           "type": "scatter",
           "x": [
            10.90851617793013,
            11.43649485409589,
            12.083757383111484,
            12.857255540294034,
            13.664009379110706,
            14.66094199646186,
            15.763691585187017,
            null
           ],
           "y": [
            19.922987588268054,
            22.43523846129129,
            25.226253707256983,
            28.317087024384634,
            31.653600280950233,
            34.95982666405545,
            38.32678424492485,
            null
           ]
          }
         ],
         "name": "2024-10-24 13:08:25",
         "traces": [
          0,
          1
         ]
        },
        {
         "data": [
          {
           "type": "scatter",
           "x": [
            0,
            0
           ],
           "y": [
            0,
            0
           ]
          },
          {
           "hovertemplate": "GroundTruthState<br>(%{x}, %{y})<br>Time: %{meta}",
           "meta": [
            "2024-10-24 13:08:20",
            "2024-10-24 13:08:21",
            "2024-10-24 13:08:22",
            "2024-10-24 13:08:23",
            "2024-10-24 13:08:24",
            "2024-10-24 13:08:25",
            "2024-10-24 13:08:26"
           ],
           "type": "scatter",
           "x": [
            11.43649485409589,
            12.083757383111484,
            12.857255540294034,
            13.664009379110706,
            14.66094199646186,
            15.763691585187017,
            16.994297584708757,
            null
           ],
           "y": [
            22.43523846129129,
            25.226253707256983,
            28.317087024384634,
            31.653600280950233,
            34.95982666405545,
            38.32678424492485,
            41.65059655664205,
            null
           ]
          }
         ],
         "name": "2024-10-24 13:08:26",
         "traces": [
          0,
          1
         ]
        },
        {
         "data": [
          {
           "type": "scatter",
           "x": [
            0,
            0
           ],
           "y": [
            0,
            0
           ]
          },
          {
           "hovertemplate": "GroundTruthState<br>(%{x}, %{y})<br>Time: %{meta}",
           "meta": [
            "2024-10-24 13:08:21",
            "2024-10-24 13:08:22",
            "2024-10-24 13:08:23",
            "2024-10-24 13:08:24",
            "2024-10-24 13:08:25",
            "2024-10-24 13:08:26",
            "2024-10-24 13:08:27"
           ],
           "type": "scatter",
           "x": [
            12.083757383111484,
            12.857255540294034,
            13.664009379110706,
            14.66094199646186,
            15.763691585187017,
            16.994297584708757,
            18.302114239501268,
            null
           ],
           "y": [
            25.226253707256983,
            28.317087024384634,
            31.653600280950233,
            34.95982666405545,
            38.32678424492485,
            41.65059655664205,
            44.94718306572588,
            null
           ]
          }
         ],
         "name": "2024-10-24 13:08:27",
         "traces": [
          0,
          1
         ]
        },
        {
         "data": [
          {
           "type": "scatter",
           "x": [
            0,
            0
           ],
           "y": [
            0,
            0
           ]
          },
          {
           "hovertemplate": "GroundTruthState<br>(%{x}, %{y})<br>Time: %{meta}",
           "meta": [
            "2024-10-24 13:08:22",
            "2024-10-24 13:08:23",
            "2024-10-24 13:08:24",
            "2024-10-24 13:08:25",
            "2024-10-24 13:08:26",
            "2024-10-24 13:08:27",
            "2024-10-24 13:08:28"
           ],
           "type": "scatter",
           "x": [
            12.857255540294034,
            13.664009379110706,
            14.66094199646186,
            15.763691585187017,
            16.994297584708757,
            18.302114239501268,
            19.71972436026734,
            null
           ],
           "y": [
            28.317087024384634,
            31.653600280950233,
            34.95982666405545,
            38.32678424492485,
            41.65059655664205,
            44.94718306572588,
            48.066958689446075,
            null
           ]
          }
         ],
         "name": "2024-10-24 13:08:28",
         "traces": [
          0,
          1
         ]
        }
       ],
       "layout": {
        "autosize": true,
        "colorway": [
         "#EF553B",
         "#00CC96",
         "#AB63FA",
         "#FFA15A",
         "#19D3F3",
         "#FF6692",
         "#B6E880",
         "#FF97FF",
         "#FECB52"
        ],
        "height": 550,
        "sliders": [
         {
          "currentvalue": {
           "font": {
            "size": 16
           },
           "prefix": "Time: ",
           "visible": true,
           "xanchor": "right"
          },
          "len": 0.9,
          "pad": {
           "b": 10,
           "t": 50
          },
          "steps": [
           {
            "args": [
             [
              "2024-10-24 13:08:08"
             ],
             {
              "frame": {
               "duration": 1,
               "easing": "linear",
               "redraw": true
              },
              "transition": {
               "duration": 0,
               "easing": "linear"
              }
             }
            ],
            "label": "13:08:08",
            "method": "animate"
           },
           {
            "args": [
             [
              "2024-10-24 13:08:09"
             ],
             {
              "frame": {
               "duration": 1,
               "easing": "linear",
               "redraw": true
              },
              "transition": {
               "duration": 0,
               "easing": "linear"
              }
             }
            ],
            "label": "13:08:09",
            "method": "animate"
           },
           {
            "args": [
             [
              "2024-10-24 13:08:10"
             ],
             {
              "frame": {
               "duration": 1,
               "easing": "linear",
               "redraw": true
              },
              "transition": {
               "duration": 0,
               "easing": "linear"
              }
             }
            ],
            "label": "13:08:10",
            "method": "animate"
           },
           {
            "args": [
             [
              "2024-10-24 13:08:11"
             ],
             {
              "frame": {
               "duration": 1,
               "easing": "linear",
               "redraw": true
              },
              "transition": {
               "duration": 0,
               "easing": "linear"
              }
             }
            ],
            "label": "13:08:11",
            "method": "animate"
           },
           {
            "args": [
             [
              "2024-10-24 13:08:12"
             ],
             {
              "frame": {
               "duration": 1,
               "easing": "linear",
               "redraw": true
              },
              "transition": {
               "duration": 0,
               "easing": "linear"
              }
             }
            ],
            "label": "13:08:12",
            "method": "animate"
           },
           {
            "args": [
             [
              "2024-10-24 13:08:13"
             ],
             {
              "frame": {
               "duration": 1,
               "easing": "linear",
               "redraw": true
              },
              "transition": {
               "duration": 0,
               "easing": "linear"
              }
             }
            ],
            "label": "13:08:13",
            "method": "animate"
           },
           {
            "args": [
             [
              "2024-10-24 13:08:14"
             ],
             {
              "frame": {
               "duration": 1,
               "easing": "linear",
               "redraw": true
              },
              "transition": {
               "duration": 0,
               "easing": "linear"
              }
             }
            ],
            "label": "13:08:14",
            "method": "animate"
           },
           {
            "args": [
             [
              "2024-10-24 13:08:15"
             ],
             {
              "frame": {
               "duration": 1,
               "easing": "linear",
               "redraw": true
              },
              "transition": {
               "duration": 0,
               "easing": "linear"
              }
             }
            ],
            "label": "13:08:15",
            "method": "animate"
           },
           {
            "args": [
             [
              "2024-10-24 13:08:16"
             ],
             {
              "frame": {
               "duration": 1,
               "easing": "linear",
               "redraw": true
              },
              "transition": {
               "duration": 0,
               "easing": "linear"
              }
             }
            ],
            "label": "13:08:16",
            "method": "animate"
           },
           {
            "args": [
             [
              "2024-10-24 13:08:17"
             ],
             {
              "frame": {
               "duration": 1,
               "easing": "linear",
               "redraw": true
              },
              "transition": {
               "duration": 0,
               "easing": "linear"
              }
             }
            ],
            "label": "13:08:17",
            "method": "animate"
           },
           {
            "args": [
             [
              "2024-10-24 13:08:18"
             ],
             {
              "frame": {
               "duration": 1,
               "easing": "linear",
               "redraw": true
              },
              "transition": {
               "duration": 0,
               "easing": "linear"
              }
             }
            ],
            "label": "13:08:18",
            "method": "animate"
           },
           {
            "args": [
             [
              "2024-10-24 13:08:19"
             ],
             {
              "frame": {
               "duration": 1,
               "easing": "linear",
               "redraw": true
              },
              "transition": {
               "duration": 0,
               "easing": "linear"
              }
             }
            ],
            "label": "13:08:19",
            "method": "animate"
           },
           {
            "args": [
             [
              "2024-10-24 13:08:20"
             ],
             {
              "frame": {
               "duration": 1,
               "easing": "linear",
               "redraw": true
              },
              "transition": {
               "duration": 0,
               "easing": "linear"
              }
             }
            ],
            "label": "13:08:20",
            "method": "animate"
           },
           {
            "args": [
             [
              "2024-10-24 13:08:21"
             ],
             {
              "frame": {
               "duration": 1,
               "easing": "linear",
               "redraw": true
              },
              "transition": {
               "duration": 0,
               "easing": "linear"
              }
             }
            ],
            "label": "13:08:21",
            "method": "animate"
           },
           {
            "args": [
             [
              "2024-10-24 13:08:22"
             ],
             {
              "frame": {
               "duration": 1,
               "easing": "linear",
               "redraw": true
              },
              "transition": {
               "duration": 0,
               "easing": "linear"
              }
             }
            ],
            "label": "13:08:22",
            "method": "animate"
           },
           {
            "args": [
             [
              "2024-10-24 13:08:23"
             ],
             {
              "frame": {
               "duration": 1,
               "easing": "linear",
               "redraw": true
              },
              "transition": {
               "duration": 0,
               "easing": "linear"
              }
             }
            ],
            "label": "13:08:23",
            "method": "animate"
           },
           {
            "args": [
             [
              "2024-10-24 13:08:24"
             ],
             {
              "frame": {
               "duration": 1,
               "easing": "linear",
               "redraw": true
              },
              "transition": {
               "duration": 0,
               "easing": "linear"
              }
             }
            ],
            "label": "13:08:24",
            "method": "animate"
           },
           {
            "args": [
             [
              "2024-10-24 13:08:25"
             ],
             {
              "frame": {
               "duration": 1,
               "easing": "linear",
               "redraw": true
              },
              "transition": {
               "duration": 0,
               "easing": "linear"
              }
             }
            ],
            "label": "13:08:25",
            "method": "animate"
           },
           {
            "args": [
             [
              "2024-10-24 13:08:26"
             ],
             {
              "frame": {
               "duration": 1,
               "easing": "linear",
               "redraw": true
              },
              "transition": {
               "duration": 0,
               "easing": "linear"
              }
             }
            ],
            "label": "13:08:26",
            "method": "animate"
           },
           {
            "args": [
             [
              "2024-10-24 13:08:27"
             ],
             {
              "frame": {
               "duration": 1,
               "easing": "linear",
               "redraw": true
              },
              "transition": {
               "duration": 0,
               "easing": "linear"
              }
             }
            ],
            "label": "13:08:27",
            "method": "animate"
           },
           {
            "args": [
             [
              "2024-10-24 13:08:28"
             ],
             {
              "frame": {
               "duration": 1,
               "easing": "linear",
               "redraw": true
              },
              "transition": {
               "duration": 0,
               "easing": "linear"
              }
             }
            ],
            "label": "13:08:28",
            "method": "animate"
           }
          ],
          "transition": {
           "duration": 285.7142857142857,
           "easing": "linear"
          },
          "x": 0.1,
          "xanchor": "left",
          "y": 0,
          "yanchor": "top"
         }
        ],
        "template": {
         "data": {
          "bar": [
           {
            "error_x": {
             "color": "#2a3f5f"
            },
            "error_y": {
             "color": "#2a3f5f"
            },
            "marker": {
             "line": {
              "color": "#E5ECF6",
              "width": 0.5
             },
             "pattern": {
              "fillmode": "overlay",
              "size": 10,
              "solidity": 0.2
             }
            },
            "type": "bar"
           }
          ],
          "barpolar": [
           {
            "marker": {
             "line": {
              "color": "#E5ECF6",
              "width": 0.5
             },
             "pattern": {
              "fillmode": "overlay",
              "size": 10,
              "solidity": 0.2
             }
            },
            "type": "barpolar"
           }
          ],
          "carpet": [
           {
            "aaxis": {
             "endlinecolor": "#2a3f5f",
             "gridcolor": "white",
             "linecolor": "white",
             "minorgridcolor": "white",
             "startlinecolor": "#2a3f5f"
            },
            "baxis": {
             "endlinecolor": "#2a3f5f",
             "gridcolor": "white",
             "linecolor": "white",
             "minorgridcolor": "white",
             "startlinecolor": "#2a3f5f"
            },
            "type": "carpet"
           }
          ],
          "choropleth": [
           {
            "colorbar": {
             "outlinewidth": 0,
             "ticks": ""
            },
            "type": "choropleth"
           }
          ],
          "contour": [
           {
            "colorbar": {
             "outlinewidth": 0,
             "ticks": ""
            },
            "colorscale": [
             [
              0,
              "#0d0887"
             ],
             [
              0.1111111111111111,
              "#46039f"
             ],
             [
              0.2222222222222222,
              "#7201a8"
             ],
             [
              0.3333333333333333,
              "#9c179e"
             ],
             [
              0.4444444444444444,
              "#bd3786"
             ],
             [
              0.5555555555555556,
              "#d8576b"
             ],
             [
              0.6666666666666666,
              "#ed7953"
             ],
             [
              0.7777777777777778,
              "#fb9f3a"
             ],
             [
              0.8888888888888888,
              "#fdca26"
             ],
             [
              1,
              "#f0f921"
             ]
            ],
            "type": "contour"
           }
          ],
          "contourcarpet": [
           {
            "colorbar": {
             "outlinewidth": 0,
             "ticks": ""
            },
            "type": "contourcarpet"
           }
          ],
          "heatmap": [
           {
            "colorbar": {
             "outlinewidth": 0,
             "ticks": ""
            },
            "colorscale": [
             [
              0,
              "#0d0887"
             ],
             [
              0.1111111111111111,
              "#46039f"
             ],
             [
              0.2222222222222222,
              "#7201a8"
             ],
             [
              0.3333333333333333,
              "#9c179e"
             ],
             [
              0.4444444444444444,
              "#bd3786"
             ],
             [
              0.5555555555555556,
              "#d8576b"
             ],
             [
              0.6666666666666666,
              "#ed7953"
             ],
             [
              0.7777777777777778,
              "#fb9f3a"
             ],
             [
              0.8888888888888888,
              "#fdca26"
             ],
             [
              1,
              "#f0f921"
             ]
            ],
            "type": "heatmap"
           }
          ],
          "heatmapgl": [
           {
            "colorbar": {
             "outlinewidth": 0,
             "ticks": ""
            },
            "colorscale": [
             [
              0,
              "#0d0887"
             ],
             [
              0.1111111111111111,
              "#46039f"
             ],
             [
              0.2222222222222222,
              "#7201a8"
             ],
             [
              0.3333333333333333,
              "#9c179e"
             ],
             [
              0.4444444444444444,
              "#bd3786"
             ],
             [
              0.5555555555555556,
              "#d8576b"
             ],
             [
              0.6666666666666666,
              "#ed7953"
             ],
             [
              0.7777777777777778,
              "#fb9f3a"
             ],
             [
              0.8888888888888888,
              "#fdca26"
             ],
             [
              1,
              "#f0f921"
             ]
            ],
            "type": "heatmapgl"
           }
          ],
          "histogram": [
           {
            "marker": {
             "pattern": {
              "fillmode": "overlay",
              "size": 10,
              "solidity": 0.2
             }
            },
            "type": "histogram"
           }
          ],
          "histogram2d": [
           {
            "colorbar": {
             "outlinewidth": 0,
             "ticks": ""
            },
            "colorscale": [
             [
              0,
              "#0d0887"
             ],
             [
              0.1111111111111111,
              "#46039f"
             ],
             [
              0.2222222222222222,
              "#7201a8"
             ],
             [
              0.3333333333333333,
              "#9c179e"
             ],
             [
              0.4444444444444444,
              "#bd3786"
             ],
             [
              0.5555555555555556,
              "#d8576b"
             ],
             [
              0.6666666666666666,
              "#ed7953"
             ],
             [
              0.7777777777777778,
              "#fb9f3a"
             ],
             [
              0.8888888888888888,
              "#fdca26"
             ],
             [
              1,
              "#f0f921"
             ]
            ],
            "type": "histogram2d"
           }
          ],
          "histogram2dcontour": [
           {
            "colorbar": {
             "outlinewidth": 0,
             "ticks": ""
            },
            "colorscale": [
             [
              0,
              "#0d0887"
             ],
             [
              0.1111111111111111,
              "#46039f"
             ],
             [
              0.2222222222222222,
              "#7201a8"
             ],
             [
              0.3333333333333333,
              "#9c179e"
             ],
             [
              0.4444444444444444,
              "#bd3786"
             ],
             [
              0.5555555555555556,
              "#d8576b"
             ],
             [
              0.6666666666666666,
              "#ed7953"
             ],
             [
              0.7777777777777778,
              "#fb9f3a"
             ],
             [
              0.8888888888888888,
              "#fdca26"
             ],
             [
              1,
              "#f0f921"
             ]
            ],
            "type": "histogram2dcontour"
           }
          ],
          "mesh3d": [
           {
            "colorbar": {
             "outlinewidth": 0,
             "ticks": ""
            },
            "type": "mesh3d"
           }
          ],
          "parcoords": [
           {
            "line": {
             "colorbar": {
              "outlinewidth": 0,
              "ticks": ""
             }
            },
            "type": "parcoords"
           }
          ],
          "pie": [
           {
            "automargin": true,
            "type": "pie"
           }
          ],
          "scatter": [
           {
            "fillpattern": {
             "fillmode": "overlay",
             "size": 10,
             "solidity": 0.2
            },
            "type": "scatter"
           }
          ],
          "scatter3d": [
           {
            "line": {
             "colorbar": {
              "outlinewidth": 0,
              "ticks": ""
             }
            },
            "marker": {
             "colorbar": {
              "outlinewidth": 0,
              "ticks": ""
             }
            },
            "type": "scatter3d"
           }
          ],
          "scattercarpet": [
           {
            "marker": {
             "colorbar": {
              "outlinewidth": 0,
              "ticks": ""
             }
            },
            "type": "scattercarpet"
           }
          ],
          "scattergeo": [
           {
            "marker": {
             "colorbar": {
              "outlinewidth": 0,
              "ticks": ""
             }
            },
            "type": "scattergeo"
           }
          ],
          "scattergl": [
           {
            "marker": {
             "colorbar": {
              "outlinewidth": 0,
              "ticks": ""
             }
            },
            "type": "scattergl"
           }
          ],
          "scattermapbox": [
           {
            "marker": {
             "colorbar": {
              "outlinewidth": 0,
              "ticks": ""
             }
            },
            "type": "scattermapbox"
           }
          ],
          "scatterpolar": [
           {
            "marker": {
             "colorbar": {
              "outlinewidth": 0,
              "ticks": ""
             }
            },
            "type": "scatterpolar"
           }
          ],
          "scatterpolargl": [
           {
            "marker": {
             "colorbar": {
              "outlinewidth": 0,
              "ticks": ""
             }
            },
            "type": "scatterpolargl"
           }
          ],
          "scatterternary": [
           {
            "marker": {
             "colorbar": {
              "outlinewidth": 0,
              "ticks": ""
             }
            },
            "type": "scatterternary"
           }
          ],
          "surface": [
           {
            "colorbar": {
             "outlinewidth": 0,
             "ticks": ""
            },
            "colorscale": [
             [
              0,
              "#0d0887"
             ],
             [
              0.1111111111111111,
              "#46039f"
             ],
             [
              0.2222222222222222,
              "#7201a8"
             ],
             [
              0.3333333333333333,
              "#9c179e"
             ],
             [
              0.4444444444444444,
              "#bd3786"
             ],
             [
              0.5555555555555556,
              "#d8576b"
             ],
             [
              0.6666666666666666,
              "#ed7953"
             ],
             [
              0.7777777777777778,
              "#fb9f3a"
             ],
             [
              0.8888888888888888,
              "#fdca26"
             ],
             [
              1,
              "#f0f921"
             ]
            ],
            "type": "surface"
           }
          ],
          "table": [
           {
            "cells": {
             "fill": {
              "color": "#EBF0F8"
             },
             "line": {
              "color": "white"
             }
            },
            "header": {
             "fill": {
              "color": "#C8D4E3"
             },
             "line": {
              "color": "white"
             }
            },
            "type": "table"
           }
          ]
         },
         "layout": {
          "annotationdefaults": {
           "arrowcolor": "#2a3f5f",
           "arrowhead": 0,
           "arrowwidth": 1
          },
          "autotypenumbers": "strict",
          "coloraxis": {
           "colorbar": {
            "outlinewidth": 0,
            "ticks": ""
           }
          },
          "colorscale": {
           "diverging": [
            [
             0,
             "#8e0152"
            ],
            [
             0.1,
             "#c51b7d"
            ],
            [
             0.2,
             "#de77ae"
            ],
            [
             0.3,
             "#f1b6da"
            ],
            [
             0.4,
             "#fde0ef"
            ],
            [
             0.5,
             "#f7f7f7"
            ],
            [
             0.6,
             "#e6f5d0"
            ],
            [
             0.7,
             "#b8e186"
            ],
            [
             0.8,
             "#7fbc41"
            ],
            [
             0.9,
             "#4d9221"
            ],
            [
             1,
             "#276419"
            ]
           ],
           "sequential": [
            [
             0,
             "#0d0887"
            ],
            [
             0.1111111111111111,
             "#46039f"
            ],
            [
             0.2222222222222222,
             "#7201a8"
            ],
            [
             0.3333333333333333,
             "#9c179e"
            ],
            [
             0.4444444444444444,
             "#bd3786"
            ],
            [
             0.5555555555555556,
             "#d8576b"
            ],
            [
             0.6666666666666666,
             "#ed7953"
            ],
            [
             0.7777777777777778,
             "#fb9f3a"
            ],
            [
             0.8888888888888888,
             "#fdca26"
            ],
            [
             1,
             "#f0f921"
            ]
           ],
           "sequentialminus": [
            [
             0,
             "#0d0887"
            ],
            [
             0.1111111111111111,
             "#46039f"
            ],
            [
             0.2222222222222222,
             "#7201a8"
            ],
            [
             0.3333333333333333,
             "#9c179e"
            ],
            [
             0.4444444444444444,
             "#bd3786"
            ],
            [
             0.5555555555555556,
             "#d8576b"
            ],
            [
             0.6666666666666666,
             "#ed7953"
            ],
            [
             0.7777777777777778,
             "#fb9f3a"
            ],
            [
             0.8888888888888888,
             "#fdca26"
            ],
            [
             1,
             "#f0f921"
            ]
           ]
          },
          "colorway": [
           "#636efa",
           "#EF553B",
           "#00cc96",
           "#ab63fa",
           "#FFA15A",
           "#19d3f3",
           "#FF6692",
           "#B6E880",
           "#FF97FF",
           "#FECB52"
          ],
          "font": {
           "color": "#2a3f5f"
          },
          "geo": {
           "bgcolor": "white",
           "lakecolor": "white",
           "landcolor": "#E5ECF6",
           "showlakes": true,
           "showland": true,
           "subunitcolor": "white"
          },
          "hoverlabel": {
           "align": "left"
          },
          "hovermode": "closest",
          "mapbox": {
           "style": "light"
          },
          "paper_bgcolor": "white",
          "plot_bgcolor": "#E5ECF6",
          "polar": {
           "angularaxis": {
            "gridcolor": "white",
            "linecolor": "white",
            "ticks": ""
           },
           "bgcolor": "#E5ECF6",
           "radialaxis": {
            "gridcolor": "white",
            "linecolor": "white",
            "ticks": ""
           }
          },
          "scene": {
           "xaxis": {
            "backgroundcolor": "#E5ECF6",
            "gridcolor": "white",
            "gridwidth": 2,
            "linecolor": "white",
            "showbackground": true,
            "ticks": "",
            "zerolinecolor": "white"
           },
           "yaxis": {
            "backgroundcolor": "#E5ECF6",
            "gridcolor": "white",
            "gridwidth": 2,
            "linecolor": "white",
            "showbackground": true,
            "ticks": "",
            "zerolinecolor": "white"
           },
           "zaxis": {
            "backgroundcolor": "#E5ECF6",
            "gridcolor": "white",
            "gridwidth": 2,
            "linecolor": "white",
            "showbackground": true,
            "ticks": "",
            "zerolinecolor": "white"
           }
          },
          "shapedefaults": {
           "line": {
            "color": "#2a3f5f"
           }
          },
          "ternary": {
           "aaxis": {
            "gridcolor": "white",
            "linecolor": "white",
            "ticks": ""
           },
           "baxis": {
            "gridcolor": "white",
            "linecolor": "white",
            "ticks": ""
           },
           "bgcolor": "#E5ECF6",
           "caxis": {
            "gridcolor": "white",
            "linecolor": "white",
            "ticks": ""
           }
          },
          "title": {
           "x": 0.05
          },
          "xaxis": {
           "automargin": true,
           "gridcolor": "white",
           "linecolor": "white",
           "ticks": "",
           "title": {
            "standoff": 15
           },
           "zerolinecolor": "white",
           "zerolinewidth": 2
          },
          "yaxis": {
           "automargin": true,
           "gridcolor": "white",
           "linecolor": "white",
           "ticks": "",
           "title": {
            "standoff": 15
           },
           "zerolinecolor": "white",
           "zerolinewidth": 2
          }
         }
        },
        "updatemenus": [
         {
          "buttons": [
           {
            "args": [
             null,
             {
              "frame": {
               "duration": 285.7142857142857,
               "redraw": true
              },
              "fromcurrent": true,
              "transition": {
               "duration": 0
              }
             }
            ],
            "label": "Play",
            "method": "animate"
           },
           {
            "args": [
             [
              null
             ],
             {
              "frame": {
               "duration": 0,
               "redraw": true
              },
              "mode": "immediate",
              "transition": {
               "duration": 0
              }
             }
            ],
            "label": "Stop",
            "method": "animate"
           }
          ],
          "direction": "left",
          "pad": {
           "r": 10,
           "t": 75
          },
          "showactive": true,
          "type": "buttons",
          "x": 0.1,
          "xanchor": "right",
          "y": 0,
          "yanchor": "top"
         }
        ],
        "xaxis": {
         "range": [
          -0.9859862180133669,
          20.705710578280705
         ],
         "title": {
          "text": "<i>x</i>"
         }
        },
        "yaxis": {
         "range": [
          -2.4033479344723037,
          50.470306623918376
         ],
         "title": {
          "text": "<i>y</i>"
         }
        }
       }
      }
     },
     "metadata": {},
     "output_type": "display_data"
    }
   ],
   "source": [
    "transition_model = CombinedLinearGaussianTransitionModel([ConstantVelocity(0.05),\n",
    "                                                          ConstantVelocity(0.05)])\n",
    "timesteps = [start_time]\n",
    "truth = GroundTruthPath([GroundTruthState([0, 1, 0, 1], timestamp=start_time)])\n",
    "\n",
    "# Create the truth path\n",
    "for k in range(1, 21):\n",
    "    timesteps.append(start_time+timedelta(seconds=k))\n",
    "    truth.append(GroundTruthState(\n",
    "        transition_model.function(truth[k-1], noise=True, time_interval=timedelta(seconds=1)),\n",
    "        timestamp=timesteps[k]))\n",
    "\n",
    "# Plot the ground truth.\n",
    "from stonesoup.plotter import AnimatedPlotterly\n",
    "plotter = AnimatedPlotterly(timesteps, tail_length=0.3)\n",
    "plotter.plot_ground_truths(truth, [0, 2])\n",
    "plotter.fig"
   ]
  },
  {
   "cell_type": "code",
   "execution_count": 3,
   "metadata": {},
   "outputs": [
    {
     "data": {
      "application/vnd.plotly.v1+json": {
       "config": {
        "plotlyServerURL": "https://plot.ly"
       },
       "data": [
        {
         "hoverinfo": "none",
         "legendgroup": "Ground Truth",
         "legendrank": 100,
         "line": {
          "color": "#EF553B",
          "dash": "dash"
         },
         "mode": "lines",
         "name": "Ground Truth",
         "showlegend": true,
         "type": "scatter",
         "x": [],
         "y": []
        },
        {
         "hoverinfo": "none",
         "legendgroup": "Ground Truth",
         "legendrank": 100,
         "line": {
          "color": "#EF553B",
          "dash": "dash"
         },
         "mode": "lines",
         "name": "Ground Truth",
         "showlegend": false,
         "type": "scatter",
         "x": [],
         "y": []
        },
        {
         "hoverinfo": "none",
         "legendgroup": "Measurements",
         "legendrank": 200,
         "marker": {
          "color": "#636EFA"
         },
         "mode": "markers",
         "name": "Measurements",
         "showlegend": true,
         "type": "scatter",
         "x": [],
         "y": []
        },
        {
         "hoverinfo": "none",
         "legendgroup": "Measurements",
         "legendrank": 200,
         "marker": {
          "color": "#636EFA"
         },
         "mode": "markers",
         "name": "Measurements",
         "showlegend": false,
         "type": "scatter",
         "x": [],
         "y": []
        }
       ],
       "frames": [
        {
         "data": [
          {
           "type": "scatter",
           "x": [
            0,
            0
           ],
           "y": [
            0,
            0
           ]
          },
          {
           "hovertemplate": "GroundTruthState<br>(%{x}, %{y})<br>Time: %{meta}",
           "meta": [
            "2024-10-24 13:08:08"
           ],
           "type": "scatter",
           "x": [
            0,
            null
           ],
           "y": [
            0,
            null
           ]
          },
          {
           "type": "scatter",
           "x": [
            null,
            null
           ],
           "y": [
            null,
            null
           ]
          },
          {
           "hovertemplate": "Detection<br>(%{x}, %{y})<br>Time: %{meta}",
           "meta": [
            "2024-10-24 13:08:08"
           ],
           "type": "scatter",
           "x": [
            2.221819350783221,
            null
           ],
           "y": [
            -0.9499062386905731,
            null
           ]
          }
         ],
         "name": "2024-10-24 13:08:08",
         "traces": [
          0,
          1,
          2,
          3
         ]
        },
        {
         "data": [
          {
           "type": "scatter",
           "x": [
            0,
            0
           ],
           "y": [
            0,
            0
           ]
          },
          {
           "hovertemplate": "GroundTruthState<br>(%{x}, %{y})<br>Time: %{meta}",
           "meta": [
            "2024-10-24 13:08:08",
            "2024-10-24 13:08:09"
           ],
           "type": "scatter",
           "x": [
            0,
            1.177223465328352,
            null
           ],
           "y": [
            0,
            1.0006757513847795,
            null
           ]
          },
          {
           "type": "scatter",
           "x": [
            null,
            null
           ],
           "y": [
            null,
            null
           ]
          },
          {
           "hovertemplate": "Detection<br>(%{x}, %{y})<br>Time: %{meta}",
           "meta": [
            "2024-10-24 13:08:08",
            "2024-10-24 13:08:09"
           ],
           "type": "scatter",
           "x": [
            2.221819350783221,
            1.549042106302693,
            null
           ],
           "y": [
            -0.9499062386905731,
            -2.188124288687379,
            null
           ]
          }
         ],
         "name": "2024-10-24 13:08:09",
         "traces": [
          0,
          1,
          2,
          3
         ]
        },
        {
         "data": [
          {
           "type": "scatter",
           "x": [
            0,
            0
           ],
           "y": [
            0,
            0
           ]
          },
          {
           "hovertemplate": "GroundTruthState<br>(%{x}, %{y})<br>Time: %{meta}",
           "meta": [
            "2024-10-24 13:08:08",
            "2024-10-24 13:08:09",
            "2024-10-24 13:08:10"
           ],
           "type": "scatter",
           "x": [
            0,
            1.177223465328352,
            2.275462874700381,
            null
           ],
           "y": [
            0,
            1.0006757513847795,
            2.0307275520116606,
            null
           ]
          },
          {
           "type": "scatter",
           "x": [
            null,
            null
           ],
           "y": [
            null,
            null
           ]
          },
          {
           "hovertemplate": "Detection<br>(%{x}, %{y})<br>Time: %{meta}",
           "meta": [
            "2024-10-24 13:08:08",
            "2024-10-24 13:08:09",
            "2024-10-24 13:08:10"
           ],
           "type": "scatter",
           "x": [
            2.221819350783221,
            1.549042106302693,
            4.1185639808006655,
            null
           ],
           "y": [
            -0.9499062386905731,
            -2.188124288687379,
            11.127224359918513,
            null
           ]
          }
         ],
         "name": "2024-10-24 13:08:10",
         "traces": [
          0,
          1,
          2,
          3
         ]
        },
        {
         "data": [
          {
           "type": "scatter",
           "x": [
            0,
            0
           ],
           "y": [
            0,
            0
           ]
          },
          {
           "hovertemplate": "GroundTruthState<br>(%{x}, %{y})<br>Time: %{meta}",
           "meta": [
            "2024-10-24 13:08:08",
            "2024-10-24 13:08:09",
            "2024-10-24 13:08:10",
            "2024-10-24 13:08:11"
           ],
           "type": "scatter",
           "x": [
            0,
            1.177223465328352,
            2.275462874700381,
            3.1560399703547968,
            null
           ],
           "y": [
            0,
            1.0006757513847795,
            2.0307275520116606,
            3.2076890985336823,
            null
           ]
          },
          {
           "type": "scatter",
           "x": [
            null,
            null
           ],
           "y": [
            null,
            null
           ]
          },
          {
           "hovertemplate": "Detection<br>(%{x}, %{y})<br>Time: %{meta}",
           "meta": [
            "2024-10-24 13:08:08",
            "2024-10-24 13:08:09",
            "2024-10-24 13:08:10",
            "2024-10-24 13:08:11"
           ],
           "type": "scatter",
           "x": [
            2.221819350783221,
            1.549042106302693,
            4.1185639808006655,
            4.534156951991264,
            null
           ],
           "y": [
            -0.9499062386905731,
            -2.188124288687379,
            11.127224359918513,
            4.770342745174409,
            null
           ]
          }
         ],
         "name": "2024-10-24 13:08:11",
         "traces": [
          0,
          1,
          2,
          3
         ]
        },
        {
         "data": [
          {
           "type": "scatter",
           "x": [
            0,
            0
           ],
           "y": [
            0,
            0
           ]
          },
          {
           "hovertemplate": "GroundTruthState<br>(%{x}, %{y})<br>Time: %{meta}",
           "meta": [
            "2024-10-24 13:08:08",
            "2024-10-24 13:08:09",
            "2024-10-24 13:08:10",
            "2024-10-24 13:08:11",
            "2024-10-24 13:08:12"
           ],
           "type": "scatter",
           "x": [
            0,
            1.177223465328352,
            2.275462874700381,
            3.1560399703547968,
            4.111484568780832,
            null
           ],
           "y": [
            0,
            1.0006757513847795,
            2.0307275520116606,
            3.2076890985336823,
            4.681546580969336,
            null
           ]
          },
          {
           "type": "scatter",
           "x": [
            null,
            null
           ],
           "y": [
            null,
            null
           ]
          },
          {
           "hovertemplate": "Detection<br>(%{x}, %{y})<br>Time: %{meta}",
           "meta": [
            "2024-10-24 13:08:08",
            "2024-10-24 13:08:09",
            "2024-10-24 13:08:10",
            "2024-10-24 13:08:11",
            "2024-10-24 13:08:12"
           ],
           "type": "scatter",
           "x": [
            2.221819350783221,
            1.549042106302693,
            4.1185639808006655,
            4.534156951991264,
            4.473015456288891,
            null
           ],
           "y": [
            -0.9499062386905731,
            -2.188124288687379,
            11.127224359918513,
            4.770342745174409,
            4.421986485240061,
            null
           ]
          }
         ],
         "name": "2024-10-24 13:08:12",
         "traces": [
          0,
          1,
          2,
          3
         ]
        },
        {
         "data": [
          {
           "type": "scatter",
           "x": [
            0,
            0
           ],
           "y": [
            0,
            0
           ]
          },
          {
           "hovertemplate": "GroundTruthState<br>(%{x}, %{y})<br>Time: %{meta}",
           "meta": [
            "2024-10-24 13:08:08",
            "2024-10-24 13:08:09",
            "2024-10-24 13:08:10",
            "2024-10-24 13:08:11",
            "2024-10-24 13:08:12",
            "2024-10-24 13:08:13"
           ],
           "type": "scatter",
           "x": [
            0,
            1.177223465328352,
            2.275462874700381,
            3.1560399703547968,
            4.111484568780832,
            5.068918699968233,
            null
           ],
           "y": [
            0,
            1.0006757513847795,
            2.0307275520116606,
            3.2076890985336823,
            4.681546580969336,
            6.424096316700446,
            null
           ]
          },
          {
           "type": "scatter",
           "x": [
            null,
            null
           ],
           "y": [
            null,
            null
           ]
          },
          {
           "hovertemplate": "Detection<br>(%{x}, %{y})<br>Time: %{meta}",
           "meta": [
            "2024-10-24 13:08:08",
            "2024-10-24 13:08:09",
            "2024-10-24 13:08:10",
            "2024-10-24 13:08:11",
            "2024-10-24 13:08:12",
            "2024-10-24 13:08:13"
           ],
           "type": "scatter",
           "x": [
            2.221819350783221,
            1.549042106302693,
            4.1185639808006655,
            4.534156951991264,
            4.473015456288891,
            5.832101951594851,
            null
           ],
           "y": [
            -0.9499062386905731,
            -2.188124288687379,
            11.127224359918513,
            4.770342745174409,
            4.421986485240061,
            9.132252939840118,
            null
           ]
          }
         ],
         "name": "2024-10-24 13:08:13",
         "traces": [
          0,
          1,
          2,
          3
         ]
        },
        {
         "data": [
          {
           "type": "scatter",
           "x": [
            0,
            0
           ],
           "y": [
            0,
            0
           ]
          },
          {
           "hovertemplate": "GroundTruthState<br>(%{x}, %{y})<br>Time: %{meta}",
           "meta": [
            "2024-10-24 13:08:08",
            "2024-10-24 13:08:09",
            "2024-10-24 13:08:10",
            "2024-10-24 13:08:11",
            "2024-10-24 13:08:12",
            "2024-10-24 13:08:13",
            "2024-10-24 13:08:14"
           ],
           "type": "scatter",
           "x": [
            0,
            1.177223465328352,
            2.275462874700381,
            3.1560399703547968,
            4.111484568780832,
            5.068918699968233,
            6.134103970132443,
            null
           ],
           "y": [
            0,
            1.0006757513847795,
            2.0307275520116606,
            3.2076890985336823,
            4.681546580969336,
            6.424096316700446,
            8.291557310607626,
            null
           ]
          },
          {
           "type": "scatter",
           "x": [
            null,
            null
           ],
           "y": [
            null,
            null
           ]
          },
          {
           "hovertemplate": "Detection<br>(%{x}, %{y})<br>Time: %{meta}",
           "meta": [
            "2024-10-24 13:08:08",
            "2024-10-24 13:08:09",
            "2024-10-24 13:08:10",
            "2024-10-24 13:08:11",
            "2024-10-24 13:08:12",
            "2024-10-24 13:08:13",
            "2024-10-24 13:08:14"
           ],
           "type": "scatter",
           "x": [
            2.221819350783221,
            1.549042106302693,
            4.1185639808006655,
            4.534156951991264,
            4.473015456288891,
            5.832101951594851,
            4.671810836553469,
            null
           ],
           "y": [
            -0.9499062386905731,
            -2.188124288687379,
            11.127224359918513,
            4.770342745174409,
            4.421986485240061,
            9.132252939840118,
            9.016148199021414,
            null
           ]
          }
         ],
         "name": "2024-10-24 13:08:14",
         "traces": [
          0,
          1,
          2,
          3
         ]
        },
        {
         "data": [
          {
           "type": "scatter",
           "x": [
            0,
            0
           ],
           "y": [
            0,
            0
           ]
          },
          {
           "hovertemplate": "GroundTruthState<br>(%{x}, %{y})<br>Time: %{meta}",
           "meta": [
            "2024-10-24 13:08:09",
            "2024-10-24 13:08:10",
            "2024-10-24 13:08:11",
            "2024-10-24 13:08:12",
            "2024-10-24 13:08:13",
            "2024-10-24 13:08:14",
            "2024-10-24 13:08:15"
           ],
           "type": "scatter",
           "x": [
            1.177223465328352,
            2.275462874700381,
            3.1560399703547968,
            4.111484568780832,
            5.068918699968233,
            6.134103970132443,
            7.336661592351442,
            null
           ],
           "y": [
            1.0006757513847795,
            2.0307275520116606,
            3.2076890985336823,
            4.681546580969336,
            6.424096316700446,
            8.291557310607626,
            10.210133065599429,
            null
           ]
          },
          {
           "type": "scatter",
           "x": [
            null,
            null
           ],
           "y": [
            null,
            null
           ]
          },
          {
           "hovertemplate": "Detection<br>(%{x}, %{y})<br>Time: %{meta}",
           "meta": [
            "2024-10-24 13:08:09",
            "2024-10-24 13:08:10",
            "2024-10-24 13:08:11",
            "2024-10-24 13:08:12",
            "2024-10-24 13:08:13",
            "2024-10-24 13:08:14",
            "2024-10-24 13:08:15"
           ],
           "type": "scatter",
           "x": [
            1.549042106302693,
            4.1185639808006655,
            4.534156951991264,
            4.473015456288891,
            5.832101951594851,
            4.671810836553469,
            6.911778516695591,
            null
           ],
           "y": [
            -2.188124288687379,
            11.127224359918513,
            4.770342745174409,
            4.421986485240061,
            9.132252939840118,
            9.016148199021414,
            6.676642845595845,
            null
           ]
          }
         ],
         "name": "2024-10-24 13:08:15",
         "traces": [
          0,
          1,
          2,
          3
         ]
        },
        {
         "data": [
          {
           "type": "scatter",
           "x": [
            0,
            0
           ],
           "y": [
            0,
            0
           ]
          },
          {
           "hovertemplate": "GroundTruthState<br>(%{x}, %{y})<br>Time: %{meta}",
           "meta": [
            "2024-10-24 13:08:10",
            "2024-10-24 13:08:11",
            "2024-10-24 13:08:12",
            "2024-10-24 13:08:13",
            "2024-10-24 13:08:14",
            "2024-10-24 13:08:15",
            "2024-10-24 13:08:16"
           ],
           "type": "scatter",
           "x": [
            2.275462874700381,
            3.1560399703547968,
            4.111484568780832,
            5.068918699968233,
            6.134103970132443,
            7.336661592351442,
            8.708739774094603,
            null
           ],
           "y": [
            2.0307275520116606,
            3.2076890985336823,
            4.681546580969336,
            6.424096316700446,
            8.291557310607626,
            10.210133065599429,
            12.639171131337447,
            null
           ]
          },
          {
           "type": "scatter",
           "x": [
            null,
            null
           ],
           "y": [
            null,
            null
           ]
          },
          {
           "hovertemplate": "Detection<br>(%{x}, %{y})<br>Time: %{meta}",
           "meta": [
            "2024-10-24 13:08:10",
            "2024-10-24 13:08:11",
            "2024-10-24 13:08:12",
            "2024-10-24 13:08:13",
            "2024-10-24 13:08:14",
            "2024-10-24 13:08:15",
            "2024-10-24 13:08:16"
           ],
           "type": "scatter",
           "x": [
            4.1185639808006655,
            4.534156951991264,
            4.473015456288891,
            5.832101951594851,
            4.671810836553469,
            6.911778516695591,
            9.91607756750875,
            null
           ],
           "y": [
            11.127224359918513,
            4.770342745174409,
            4.421986485240061,
            9.132252939840118,
            9.016148199021414,
            6.676642845595845,
            13.098478086148486,
            null
           ]
          }
         ],
         "name": "2024-10-24 13:08:16",
         "traces": [
          0,
          1,
          2,
          3
         ]
        },
        {
         "data": [
          {
           "type": "scatter",
           "x": [
            0,
            0
           ],
           "y": [
            0,
            0
           ]
          },
          {
           "hovertemplate": "GroundTruthState<br>(%{x}, %{y})<br>Time: %{meta}",
           "meta": [
            "2024-10-24 13:08:11",
            "2024-10-24 13:08:12",
            "2024-10-24 13:08:13",
            "2024-10-24 13:08:14",
            "2024-10-24 13:08:15",
            "2024-10-24 13:08:16",
            "2024-10-24 13:08:17"
           ],
           "type": "scatter",
           "x": [
            3.1560399703547968,
            4.111484568780832,
            5.068918699968233,
            6.134103970132443,
            7.336661592351442,
            8.708739774094603,
            9.661668970928952,
            null
           ],
           "y": [
            3.2076890985336823,
            4.681546580969336,
            6.424096316700446,
            8.291557310607626,
            10.210133065599429,
            12.639171131337447,
            15.077240437037124,
            null
           ]
          },
          {
           "type": "scatter",
           "x": [
            null,
            null
           ],
           "y": [
            null,
            null
           ]
          },
          {
           "hovertemplate": "Detection<br>(%{x}, %{y})<br>Time: %{meta}",
           "meta": [
            "2024-10-24 13:08:11",
            "2024-10-24 13:08:12",
            "2024-10-24 13:08:13",
            "2024-10-24 13:08:14",
            "2024-10-24 13:08:15",
            "2024-10-24 13:08:16",
            "2024-10-24 13:08:17"
           ],
           "type": "scatter",
           "x": [
            4.534156951991264,
            4.473015456288891,
            5.832101951594851,
            4.671810836553469,
            6.911778516695591,
            9.91607756750875,
            13.220645587904379,
            null
           ],
           "y": [
            4.770342745174409,
            4.421986485240061,
            9.132252939840118,
            9.016148199021414,
            6.676642845595845,
            13.098478086148486,
            19.91019957588045,
            null
           ]
          }
         ],
         "name": "2024-10-24 13:08:17",
         "traces": [
          0,
          1,
          2,
          3
         ]
        },
        {
         "data": [
          {
           "type": "scatter",
           "x": [
            0,
            0
           ],
           "y": [
            0,
            0
           ]
          },
          {
           "hovertemplate": "GroundTruthState<br>(%{x}, %{y})<br>Time: %{meta}",
           "meta": [
            "2024-10-24 13:08:12",
            "2024-10-24 13:08:13",
            "2024-10-24 13:08:14",
            "2024-10-24 13:08:15",
            "2024-10-24 13:08:16",
            "2024-10-24 13:08:17",
            "2024-10-24 13:08:18"
           ],
           "type": "scatter",
           "x": [
            4.111484568780832,
            5.068918699968233,
            6.134103970132443,
            7.336661592351442,
            8.708739774094603,
            9.661668970928952,
            10.289427281808946,
            null
           ],
           "y": [
            4.681546580969336,
            6.424096316700446,
            8.291557310607626,
            10.210133065599429,
            12.639171131337447,
            15.077240437037124,
            17.463880393414996,
            null
           ]
          },
          {
           "type": "scatter",
           "x": [
            null,
            null
           ],
           "y": [
            null,
            null
           ]
          },
          {
           "hovertemplate": "Detection<br>(%{x}, %{y})<br>Time: %{meta}",
           "meta": [
            "2024-10-24 13:08:12",
            "2024-10-24 13:08:13",
            "2024-10-24 13:08:14",
            "2024-10-24 13:08:15",
            "2024-10-24 13:08:16",
            "2024-10-24 13:08:17",
            "2024-10-24 13:08:18"
           ],
           "type": "scatter",
           "x": [
            4.473015456288891,
            5.832101951594851,
            4.671810836553469,
            6.911778516695591,
            9.91607756750875,
            13.220645587904379,
            9.849936778112081,
            null
           ],
           "y": [
            4.421986485240061,
            9.132252939840118,
            9.016148199021414,
            6.676642845595845,
            13.098478086148486,
            19.91019957588045,
            16.496589458288486,
            null
           ]
          }
         ],
         "name": "2024-10-24 13:08:18",
         "traces": [
          0,
          1,
          2,
          3
         ]
        },
        {
         "data": [
          {
           "type": "scatter",
           "x": [
            0,
            0
           ],
           "y": [
            0,
            0
           ]
          },
          {
           "hovertemplate": "GroundTruthState<br>(%{x}, %{y})<br>Time: %{meta}",
           "meta": [
            "2024-10-24 13:08:13",
            "2024-10-24 13:08:14",
            "2024-10-24 13:08:15",
            "2024-10-24 13:08:16",
            "2024-10-24 13:08:17",
            "2024-10-24 13:08:18",
            "2024-10-24 13:08:19"
           ],
           "type": "scatter",
           "x": [
            5.068918699968233,
            6.134103970132443,
            7.336661592351442,
            8.708739774094603,
            9.661668970928952,
            10.289427281808946,
            10.90851617793013,
            null
           ],
           "y": [
            6.424096316700446,
            8.291557310607626,
            10.210133065599429,
            12.639171131337447,
            15.077240437037124,
            17.463880393414996,
            19.922987588268054,
            null
           ]
          },
          {
           "type": "scatter",
           "x": [
            null,
            null
           ],
           "y": [
            null,
            null
           ]
          },
          {
           "hovertemplate": "Detection<br>(%{x}, %{y})<br>Time: %{meta}",
           "meta": [
            "2024-10-24 13:08:13",
            "2024-10-24 13:08:14",
            "2024-10-24 13:08:15",
            "2024-10-24 13:08:16",
            "2024-10-24 13:08:17",
            "2024-10-24 13:08:18",
            "2024-10-24 13:08:19"
           ],
           "type": "scatter",
           "x": [
            5.832101951594851,
            4.671810836553469,
            6.911778516695591,
            9.91607756750875,
            13.220645587904379,
            9.849936778112081,
            11.551415784923044,
            null
           ],
           "y": [
            9.132252939840118,
            9.016148199021414,
            6.676642845595845,
            13.098478086148486,
            19.91019957588045,
            16.496589458288486,
            20.2252725135359,
            null
           ]
          }
         ],
         "name": "2024-10-24 13:08:19",
         "traces": [
          0,
          1,
          2,
          3
         ]
        },
        {
         "data": [
          {
           "type": "scatter",
           "x": [
            0,
            0
           ],
           "y": [
            0,
            0
           ]
          },
          {
           "hovertemplate": "GroundTruthState<br>(%{x}, %{y})<br>Time: %{meta}",
           "meta": [
            "2024-10-24 13:08:14",
            "2024-10-24 13:08:15",
            "2024-10-24 13:08:16",
            "2024-10-24 13:08:17",
            "2024-10-24 13:08:18",
            "2024-10-24 13:08:19",
            "2024-10-24 13:08:20"
           ],
           "type": "scatter",
           "x": [
            6.134103970132443,
            7.336661592351442,
            8.708739774094603,
            9.661668970928952,
            10.289427281808946,
            10.90851617793013,
            11.43649485409589,
            null
           ],
           "y": [
            8.291557310607626,
            10.210133065599429,
            12.639171131337447,
            15.077240437037124,
            17.463880393414996,
            19.922987588268054,
            22.43523846129129,
            null
           ]
          },
          {
           "type": "scatter",
           "x": [
            null,
            null
           ],
           "y": [
            null,
            null
           ]
          },
          {
           "hovertemplate": "Detection<br>(%{x}, %{y})<br>Time: %{meta}",
           "meta": [
            "2024-10-24 13:08:14",
            "2024-10-24 13:08:15",
            "2024-10-24 13:08:16",
            "2024-10-24 13:08:17",
            "2024-10-24 13:08:18",
            "2024-10-24 13:08:19",
            "2024-10-24 13:08:20"
           ],
           "type": "scatter",
           "x": [
            4.671810836553469,
            6.911778516695591,
            9.91607756750875,
            13.220645587904379,
            9.849936778112081,
            11.551415784923044,
            13.495870684052178,
            null
           ],
           "y": [
            9.016148199021414,
            6.676642845595845,
            13.098478086148486,
            19.91019957588045,
            16.496589458288486,
            20.2252725135359,
            26.37557225257571,
            null
           ]
          }
         ],
         "name": "2024-10-24 13:08:20",
         "traces": [
          0,
          1,
          2,
          3
         ]
        },
        {
         "data": [
          {
           "type": "scatter",
           "x": [
            0,
            0
           ],
           "y": [
            0,
            0
           ]
          },
          {
           "hovertemplate": "GroundTruthState<br>(%{x}, %{y})<br>Time: %{meta}",
           "meta": [
            "2024-10-24 13:08:15",
            "2024-10-24 13:08:16",
            "2024-10-24 13:08:17",
            "2024-10-24 13:08:18",
            "2024-10-24 13:08:19",
            "2024-10-24 13:08:20",
            "2024-10-24 13:08:21"
           ],
           "type": "scatter",
           "x": [
            7.336661592351442,
            8.708739774094603,
            9.661668970928952,
            10.289427281808946,
            10.90851617793013,
            11.43649485409589,
            12.083757383111484,
            null
           ],
           "y": [
            10.210133065599429,
            12.639171131337447,
            15.077240437037124,
            17.463880393414996,
            19.922987588268054,
            22.43523846129129,
            25.226253707256983,
            null
           ]
          },
          {
           "type": "scatter",
           "x": [
            null,
            null
           ],
           "y": [
            null,
            null
           ]
          },
          {
           "hovertemplate": "Detection<br>(%{x}, %{y})<br>Time: %{meta}",
           "meta": [
            "2024-10-24 13:08:15",
            "2024-10-24 13:08:16",
            "2024-10-24 13:08:17",
            "2024-10-24 13:08:18",
            "2024-10-24 13:08:19",
            "2024-10-24 13:08:20",
            "2024-10-24 13:08:21"
           ],
           "type": "scatter",
           "x": [
            6.911778516695591,
            9.91607756750875,
            13.220645587904379,
            9.849936778112081,
            11.551415784923044,
            13.495870684052178,
            9.210581625879023,
            null
           ],
           "y": [
            6.676642845595845,
            13.098478086148486,
            19.91019957588045,
            16.496589458288486,
            20.2252725135359,
            26.37557225257571,
            20.926146862627856,
            null
           ]
          }
         ],
         "name": "2024-10-24 13:08:21",
         "traces": [
          0,
          1,
          2,
          3
         ]
        },
        {
         "data": [
          {
           "type": "scatter",
           "x": [
            0,
            0
           ],
           "y": [
            0,
            0
           ]
          },
          {
           "hovertemplate": "GroundTruthState<br>(%{x}, %{y})<br>Time: %{meta}",
           "meta": [
            "2024-10-24 13:08:16",
            "2024-10-24 13:08:17",
            "2024-10-24 13:08:18",
            "2024-10-24 13:08:19",
            "2024-10-24 13:08:20",
            "2024-10-24 13:08:21",
            "2024-10-24 13:08:22"
           ],
           "type": "scatter",
           "x": [
            8.708739774094603,
            9.661668970928952,
            10.289427281808946,
            10.90851617793013,
            11.43649485409589,
            12.083757383111484,
            12.857255540294034,
            null
           ],
           "y": [
            12.639171131337447,
            15.077240437037124,
            17.463880393414996,
            19.922987588268054,
            22.43523846129129,
            25.226253707256983,
            28.317087024384634,
            null
           ]
          },
          {
           "type": "scatter",
           "x": [
            null,
            null
           ],
           "y": [
            null,
            null
           ]
          },
          {
           "hovertemplate": "Detection<br>(%{x}, %{y})<br>Time: %{meta}",
           "meta": [
            "2024-10-24 13:08:16",
            "2024-10-24 13:08:17",
            "2024-10-24 13:08:18",
            "2024-10-24 13:08:19",
            "2024-10-24 13:08:20",
            "2024-10-24 13:08:21",
            "2024-10-24 13:08:22"
           ],
           "type": "scatter",
           "x": [
            9.91607756750875,
            13.220645587904379,
            9.849936778112081,
            11.551415784923044,
            13.495870684052178,
            9.210581625879023,
            14.826171916953918,
            null
           ],
           "y": [
            13.098478086148486,
            19.91019957588045,
            16.496589458288486,
            20.2252725135359,
            26.37557225257571,
            20.926146862627856,
            29.98172162643846,
            null
           ]
          }
         ],
         "name": "2024-10-24 13:08:22",
         "traces": [
          0,
          1,
          2,
          3
         ]
        },
        {
         "data": [
          {
           "type": "scatter",
           "x": [
            0,
            0
           ],
           "y": [
            0,
            0
           ]
          },
          {
           "hovertemplate": "GroundTruthState<br>(%{x}, %{y})<br>Time: %{meta}",
           "meta": [
            "2024-10-24 13:08:17",
            "2024-10-24 13:08:18",
            "2024-10-24 13:08:19",
            "2024-10-24 13:08:20",
            "2024-10-24 13:08:21",
            "2024-10-24 13:08:22",
            "2024-10-24 13:08:23"
           ],
           "type": "scatter",
           "x": [
            9.661668970928952,
            10.289427281808946,
            10.90851617793013,
            11.43649485409589,
            12.083757383111484,
            12.857255540294034,
            13.664009379110706,
            null
           ],
           "y": [
            15.077240437037124,
            17.463880393414996,
            19.922987588268054,
            22.43523846129129,
            25.226253707256983,
            28.317087024384634,
            31.653600280950233,
            null
           ]
          },
          {
           "type": "scatter",
           "x": [
            null,
            null
           ],
           "y": [
            null,
            null
           ]
          },
          {
           "hovertemplate": "Detection<br>(%{x}, %{y})<br>Time: %{meta}",
           "meta": [
            "2024-10-24 13:08:17",
            "2024-10-24 13:08:18",
            "2024-10-24 13:08:19",
            "2024-10-24 13:08:20",
            "2024-10-24 13:08:21",
            "2024-10-24 13:08:22",
            "2024-10-24 13:08:23"
           ],
           "type": "scatter",
           "x": [
            13.220645587904379,
            9.849936778112081,
            11.551415784923044,
            13.495870684052178,
            9.210581625879023,
            14.826171916953918,
            11.694085658745927,
            null
           ],
           "y": [
            19.91019957588045,
            16.496589458288486,
            20.2252725135359,
            26.37557225257571,
            20.926146862627856,
            29.98172162643846,
            27.230418264224387,
            null
           ]
          }
         ],
         "name": "2024-10-24 13:08:23",
         "traces": [
          0,
          1,
          2,
          3
         ]
        },
        {
         "data": [
          {
           "type": "scatter",
           "x": [
            0,
            0
           ],
           "y": [
            0,
            0
           ]
          },
          {
           "hovertemplate": "GroundTruthState<br>(%{x}, %{y})<br>Time: %{meta}",
           "meta": [
            "2024-10-24 13:08:18",
            "2024-10-24 13:08:19",
            "2024-10-24 13:08:20",
            "2024-10-24 13:08:21",
            "2024-10-24 13:08:22",
            "2024-10-24 13:08:23",
            "2024-10-24 13:08:24"
           ],
           "type": "scatter",
           "x": [
            10.289427281808946,
            10.90851617793013,
            11.43649485409589,
            12.083757383111484,
            12.857255540294034,
            13.664009379110706,
            14.66094199646186,
            null
           ],
           "y": [
            17.463880393414996,
            19.922987588268054,
            22.43523846129129,
            25.226253707256983,
            28.317087024384634,
            31.653600280950233,
            34.95982666405545,
            null
           ]
          },
          {
           "type": "scatter",
           "x": [
            null,
            null
           ],
           "y": [
            null,
            null
           ]
          },
          {
           "hovertemplate": "Detection<br>(%{x}, %{y})<br>Time: %{meta}",
           "meta": [
            "2024-10-24 13:08:18",
            "2024-10-24 13:08:19",
            "2024-10-24 13:08:20",
            "2024-10-24 13:08:21",
            "2024-10-24 13:08:22",
            "2024-10-24 13:08:23",
            "2024-10-24 13:08:24"
           ],
           "type": "scatter",
           "x": [
            9.849936778112081,
            11.551415784923044,
            13.495870684052178,
            9.210581625879023,
            14.826171916953918,
            11.694085658745927,
            16.034063908529554,
            null
           ],
           "y": [
            16.496589458288486,
            20.2252725135359,
            26.37557225257571,
            20.926146862627856,
            29.98172162643846,
            27.230418264224387,
            36.07693971814102,
            null
           ]
          }
         ],
         "name": "2024-10-24 13:08:24",
         "traces": [
          0,
          1,
          2,
          3
         ]
        },
        {
         "data": [
          {
           "type": "scatter",
           "x": [
            0,
            0
           ],
           "y": [
            0,
            0
           ]
          },
          {
           "hovertemplate": "GroundTruthState<br>(%{x}, %{y})<br>Time: %{meta}",
           "meta": [
            "2024-10-24 13:08:19",
            "2024-10-24 13:08:20",
            "2024-10-24 13:08:21",
            "2024-10-24 13:08:22",
            "2024-10-24 13:08:23",
            "2024-10-24 13:08:24",
            "2024-10-24 13:08:25"
           ],
           "type": "scatter",
           "x": [
            10.90851617793013,
            11.43649485409589,
            12.083757383111484,
            12.857255540294034,
            13.664009379110706,
            14.66094199646186,
            15.763691585187017,
            null
           ],
           "y": [
            19.922987588268054,
            22.43523846129129,
            25.226253707256983,
            28.317087024384634,
            31.653600280950233,
            34.95982666405545,
            38.32678424492485,
            null
           ]
          },
          {
           "type": "scatter",
           "x": [
            null,
            null
           ],
           "y": [
            null,
            null
           ]
          },
          {
           "hovertemplate": "Detection<br>(%{x}, %{y})<br>Time: %{meta}",
           "meta": [
            "2024-10-24 13:08:19",
            "2024-10-24 13:08:20",
            "2024-10-24 13:08:21",
            "2024-10-24 13:08:22",
            "2024-10-24 13:08:23",
            "2024-10-24 13:08:24",
            "2024-10-24 13:08:25"
           ],
           "type": "scatter",
           "x": [
            11.551415784923044,
            13.495870684052178,
            9.210581625879023,
            14.826171916953918,
            11.694085658745927,
            16.034063908529554,
            19.22262346395934,
            null
           ],
           "y": [
            20.2252725135359,
            26.37557225257571,
            20.926146862627856,
            29.98172162643846,
            27.230418264224387,
            36.07693971814102,
            39.61561849446898,
            null
           ]
          }
         ],
         "name": "2024-10-24 13:08:25",
         "traces": [
          0,
          1,
          2,
          3
         ]
        },
        {
         "data": [
          {
           "type": "scatter",
           "x": [
            0,
            0
           ],
           "y": [
            0,
            0
           ]
          },
          {
           "hovertemplate": "GroundTruthState<br>(%{x}, %{y})<br>Time: %{meta}",
           "meta": [
            "2024-10-24 13:08:20",
            "2024-10-24 13:08:21",
            "2024-10-24 13:08:22",
            "2024-10-24 13:08:23",
            "2024-10-24 13:08:24",
            "2024-10-24 13:08:25",
            "2024-10-24 13:08:26"
           ],
           "type": "scatter",
           "x": [
            11.43649485409589,
            12.083757383111484,
            12.857255540294034,
            13.664009379110706,
            14.66094199646186,
            15.763691585187017,
            16.994297584708757,
            null
           ],
           "y": [
            22.43523846129129,
            25.226253707256983,
            28.317087024384634,
            31.653600280950233,
            34.95982666405545,
            38.32678424492485,
            41.65059655664205,
            null
           ]
          },
          {
           "type": "scatter",
           "x": [
            null,
            null
           ],
           "y": [
            null,
            null
           ]
          },
          {
           "hovertemplate": "Detection<br>(%{x}, %{y})<br>Time: %{meta}",
           "meta": [
            "2024-10-24 13:08:20",
            "2024-10-24 13:08:21",
            "2024-10-24 13:08:22",
            "2024-10-24 13:08:23",
            "2024-10-24 13:08:24",
            "2024-10-24 13:08:25",
            "2024-10-24 13:08:26"
           ],
           "type": "scatter",
           "x": [
            13.495870684052178,
            9.210581625879023,
            14.826171916953918,
            11.694085658745927,
            16.034063908529554,
            19.22262346395934,
            17.806013715912904,
            null
           ],
           "y": [
            26.37557225257571,
            20.926146862627856,
            29.98172162643846,
            27.230418264224387,
            36.07693971814102,
            39.61561849446898,
            42.696316985016416,
            null
           ]
          }
         ],
         "name": "2024-10-24 13:08:26",
         "traces": [
          0,
          1,
          2,
          3
         ]
        },
        {
         "data": [
          {
           "type": "scatter",
           "x": [
            0,
            0
           ],
           "y": [
            0,
            0
           ]
          },
          {
           "hovertemplate": "GroundTruthState<br>(%{x}, %{y})<br>Time: %{meta}",
           "meta": [
            "2024-10-24 13:08:21",
            "2024-10-24 13:08:22",
            "2024-10-24 13:08:23",
            "2024-10-24 13:08:24",
            "2024-10-24 13:08:25",
            "2024-10-24 13:08:26",
            "2024-10-24 13:08:27"
           ],
           "type": "scatter",
           "x": [
            12.083757383111484,
            12.857255540294034,
            13.664009379110706,
            14.66094199646186,
            15.763691585187017,
            16.994297584708757,
            18.302114239501268,
            null
           ],
           "y": [
            25.226253707256983,
            28.317087024384634,
            31.653600280950233,
            34.95982666405545,
            38.32678424492485,
            41.65059655664205,
            44.94718306572588,
            null
           ]
          },
          {
           "type": "scatter",
           "x": [
            null,
            null
           ],
           "y": [
            null,
            null
           ]
          },
          {
           "hovertemplate": "Detection<br>(%{x}, %{y})<br>Time: %{meta}",
           "meta": [
            "2024-10-24 13:08:21",
            "2024-10-24 13:08:22",
            "2024-10-24 13:08:23",
            "2024-10-24 13:08:24",
            "2024-10-24 13:08:25",
            "2024-10-24 13:08:26",
            "2024-10-24 13:08:27"
           ],
           "type": "scatter",
           "x": [
            9.210581625879023,
            14.826171916953918,
            11.694085658745927,
            16.034063908529554,
            19.22262346395934,
            17.806013715912904,
            22.259832475318472,
            null
           ],
           "y": [
            20.926146862627856,
            29.98172162643846,
            27.230418264224387,
            36.07693971814102,
            39.61561849446898,
            42.696316985016416,
            45.97561544057756,
            null
           ]
          }
         ],
         "name": "2024-10-24 13:08:27",
         "traces": [
          0,
          1,
          2,
          3
         ]
        },
        {
         "data": [
          {
           "type": "scatter",
           "x": [
            0,
            0
           ],
           "y": [
            0,
            0
           ]
          },
          {
           "hovertemplate": "GroundTruthState<br>(%{x}, %{y})<br>Time: %{meta}",
           "meta": [
            "2024-10-24 13:08:22",
            "2024-10-24 13:08:23",
            "2024-10-24 13:08:24",
            "2024-10-24 13:08:25",
            "2024-10-24 13:08:26",
            "2024-10-24 13:08:27",
            "2024-10-24 13:08:28"
           ],
           "type": "scatter",
           "x": [
            12.857255540294034,
            13.664009379110706,
            14.66094199646186,
            15.763691585187017,
            16.994297584708757,
            18.302114239501268,
            19.71972436026734,
            null
           ],
           "y": [
            28.317087024384634,
            31.653600280950233,
            34.95982666405545,
            38.32678424492485,
            41.65059655664205,
            44.94718306572588,
            48.066958689446075,
            null
           ]
          },
          {
           "type": "scatter",
           "x": [
            null,
            null
           ],
           "y": [
            null,
            null
           ]
          },
          {
           "hovertemplate": "Detection<br>(%{x}, %{y})<br>Time: %{meta}",
           "meta": [
            "2024-10-24 13:08:22",
            "2024-10-24 13:08:23",
            "2024-10-24 13:08:24",
            "2024-10-24 13:08:25",
            "2024-10-24 13:08:26",
            "2024-10-24 13:08:27",
            "2024-10-24 13:08:28"
           ],
           "type": "scatter",
           "x": [
            14.826171916953918,
            11.694085658745927,
            16.034063908529554,
            19.22262346395934,
            17.806013715912904,
            22.259832475318472,
            25.395634186662065,
            null
           ],
           "y": [
            29.98172162643846,
            27.230418264224387,
            36.07693971814102,
            39.61561849446898,
            42.696316985016416,
            45.97561544057756,
            51.12448304412903,
            null
           ]
          }
         ],
         "name": "2024-10-24 13:08:28",
         "traces": [
          0,
          1,
          2,
          3
         ]
        }
       ],
       "layout": {
        "autosize": true,
        "colorway": [
         "#EF553B",
         "#00CC96",
         "#AB63FA",
         "#FFA15A",
         "#19D3F3",
         "#FF6692",
         "#B6E880",
         "#FF97FF",
         "#FECB52"
        ],
        "height": 550,
        "sliders": [
         {
          "currentvalue": {
           "font": {
            "size": 16
           },
           "prefix": "Time: ",
           "visible": true,
           "xanchor": "right"
          },
          "len": 0.9,
          "pad": {
           "b": 10,
           "t": 50
          },
          "steps": [
           {
            "args": [
             [
              "2024-10-24 13:08:08"
             ],
             {
              "frame": {
               "duration": 1,
               "easing": "linear",
               "redraw": true
              },
              "transition": {
               "duration": 0,
               "easing": "linear"
              }
             }
            ],
            "label": "13:08:08",
            "method": "animate"
           },
           {
            "args": [
             [
              "2024-10-24 13:08:09"
             ],
             {
              "frame": {
               "duration": 1,
               "easing": "linear",
               "redraw": true
              },
              "transition": {
               "duration": 0,
               "easing": "linear"
              }
             }
            ],
            "label": "13:08:09",
            "method": "animate"
           },
           {
            "args": [
             [
              "2024-10-24 13:08:10"
             ],
             {
              "frame": {
               "duration": 1,
               "easing": "linear",
               "redraw": true
              },
              "transition": {
               "duration": 0,
               "easing": "linear"
              }
             }
            ],
            "label": "13:08:10",
            "method": "animate"
           },
           {
            "args": [
             [
              "2024-10-24 13:08:11"
             ],
             {
              "frame": {
               "duration": 1,
               "easing": "linear",
               "redraw": true
              },
              "transition": {
               "duration": 0,
               "easing": "linear"
              }
             }
            ],
            "label": "13:08:11",
            "method": "animate"
           },
           {
            "args": [
             [
              "2024-10-24 13:08:12"
             ],
             {
              "frame": {
               "duration": 1,
               "easing": "linear",
               "redraw": true
              },
              "transition": {
               "duration": 0,
               "easing": "linear"
              }
             }
            ],
            "label": "13:08:12",
            "method": "animate"
           },
           {
            "args": [
             [
              "2024-10-24 13:08:13"
             ],
             {
              "frame": {
               "duration": 1,
               "easing": "linear",
               "redraw": true
              },
              "transition": {
               "duration": 0,
               "easing": "linear"
              }
             }
            ],
            "label": "13:08:13",
            "method": "animate"
           },
           {
            "args": [
             [
              "2024-10-24 13:08:14"
             ],
             {
              "frame": {
               "duration": 1,
               "easing": "linear",
               "redraw": true
              },
              "transition": {
               "duration": 0,
               "easing": "linear"
              }
             }
            ],
            "label": "13:08:14",
            "method": "animate"
           },
           {
            "args": [
             [
              "2024-10-24 13:08:15"
             ],
             {
              "frame": {
               "duration": 1,
               "easing": "linear",
               "redraw": true
              },
              "transition": {
               "duration": 0,
               "easing": "linear"
              }
             }
            ],
            "label": "13:08:15",
            "method": "animate"
           },
           {
            "args": [
             [
              "2024-10-24 13:08:16"
             ],
             {
              "frame": {
               "duration": 1,
               "easing": "linear",
               "redraw": true
              },
              "transition": {
               "duration": 0,
               "easing": "linear"
              }
             }
            ],
            "label": "13:08:16",
            "method": "animate"
           },
           {
            "args": [
             [
              "2024-10-24 13:08:17"
             ],
             {
              "frame": {
               "duration": 1,
               "easing": "linear",
               "redraw": true
              },
              "transition": {
               "duration": 0,
               "easing": "linear"
              }
             }
            ],
            "label": "13:08:17",
            "method": "animate"
           },
           {
            "args": [
             [
              "2024-10-24 13:08:18"
             ],
             {
              "frame": {
               "duration": 1,
               "easing": "linear",
               "redraw": true
              },
              "transition": {
               "duration": 0,
               "easing": "linear"
              }
             }
            ],
            "label": "13:08:18",
            "method": "animate"
           },
           {
            "args": [
             [
              "2024-10-24 13:08:19"
             ],
             {
              "frame": {
               "duration": 1,
               "easing": "linear",
               "redraw": true
              },
              "transition": {
               "duration": 0,
               "easing": "linear"
              }
             }
            ],
            "label": "13:08:19",
            "method": "animate"
           },
           {
            "args": [
             [
              "2024-10-24 13:08:20"
             ],
             {
              "frame": {
               "duration": 1,
               "easing": "linear",
               "redraw": true
              },
              "transition": {
               "duration": 0,
               "easing": "linear"
              }
             }
            ],
            "label": "13:08:20",
            "method": "animate"
           },
           {
            "args": [
             [
              "2024-10-24 13:08:21"
             ],
             {
              "frame": {
               "duration": 1,
               "easing": "linear",
               "redraw": true
              },
              "transition": {
               "duration": 0,
               "easing": "linear"
              }
             }
            ],
            "label": "13:08:21",
            "method": "animate"
           },
           {
            "args": [
             [
              "2024-10-24 13:08:22"
             ],
             {
              "frame": {
               "duration": 1,
               "easing": "linear",
               "redraw": true
              },
              "transition": {
               "duration": 0,
               "easing": "linear"
              }
             }
            ],
            "label": "13:08:22",
            "method": "animate"
           },
           {
            "args": [
             [
              "2024-10-24 13:08:23"
             ],
             {
              "frame": {
               "duration": 1,
               "easing": "linear",
               "redraw": true
              },
              "transition": {
               "duration": 0,
               "easing": "linear"
              }
             }
            ],
            "label": "13:08:23",
            "method": "animate"
           },
           {
            "args": [
             [
              "2024-10-24 13:08:24"
             ],
             {
              "frame": {
               "duration": 1,
               "easing": "linear",
               "redraw": true
              },
              "transition": {
               "duration": 0,
               "easing": "linear"
              }
             }
            ],
            "label": "13:08:24",
            "method": "animate"
           },
           {
            "args": [
             [
              "2024-10-24 13:08:25"
             ],
             {
              "frame": {
               "duration": 1,
               "easing": "linear",
               "redraw": true
              },
              "transition": {
               "duration": 0,
               "easing": "linear"
              }
             }
            ],
            "label": "13:08:25",
            "method": "animate"
           },
           {
            "args": [
             [
              "2024-10-24 13:08:26"
             ],
             {
              "frame": {
               "duration": 1,
               "easing": "linear",
               "redraw": true
              },
              "transition": {
               "duration": 0,
               "easing": "linear"
              }
             }
            ],
            "label": "13:08:26",
            "method": "animate"
           },
           {
            "args": [
             [
              "2024-10-24 13:08:27"
             ],
             {
              "frame": {
               "duration": 1,
               "easing": "linear",
               "redraw": true
              },
              "transition": {
               "duration": 0,
               "easing": "linear"
              }
             }
            ],
            "label": "13:08:27",
            "method": "animate"
           },
           {
            "args": [
             [
              "2024-10-24 13:08:28"
             ],
             {
              "frame": {
               "duration": 1,
               "easing": "linear",
               "redraw": true
              },
              "transition": {
               "duration": 0,
               "easing": "linear"
              }
             }
            ],
            "label": "13:08:28",
            "method": "animate"
           }
          ],
          "transition": {
           "duration": 285.7142857142857,
           "easing": "linear"
          },
          "x": 0.1,
          "xanchor": "left",
          "y": 0,
          "yanchor": "top"
         }
        ],
        "template": {
         "data": {
          "bar": [
           {
            "error_x": {
             "color": "#2a3f5f"
            },
            "error_y": {
             "color": "#2a3f5f"
            },
            "marker": {
             "line": {
              "color": "#E5ECF6",
              "width": 0.5
             },
             "pattern": {
              "fillmode": "overlay",
              "size": 10,
              "solidity": 0.2
             }
            },
            "type": "bar"
           }
          ],
          "barpolar": [
           {
            "marker": {
             "line": {
              "color": "#E5ECF6",
              "width": 0.5
             },
             "pattern": {
              "fillmode": "overlay",
              "size": 10,
              "solidity": 0.2
             }
            },
            "type": "barpolar"
           }
          ],
          "carpet": [
           {
            "aaxis": {
             "endlinecolor": "#2a3f5f",
             "gridcolor": "white",
             "linecolor": "white",
             "minorgridcolor": "white",
             "startlinecolor": "#2a3f5f"
            },
            "baxis": {
             "endlinecolor": "#2a3f5f",
             "gridcolor": "white",
             "linecolor": "white",
             "minorgridcolor": "white",
             "startlinecolor": "#2a3f5f"
            },
            "type": "carpet"
           }
          ],
          "choropleth": [
           {
            "colorbar": {
             "outlinewidth": 0,
             "ticks": ""
            },
            "type": "choropleth"
           }
          ],
          "contour": [
           {
            "colorbar": {
             "outlinewidth": 0,
             "ticks": ""
            },
            "colorscale": [
             [
              0,
              "#0d0887"
             ],
             [
              0.1111111111111111,
              "#46039f"
             ],
             [
              0.2222222222222222,
              "#7201a8"
             ],
             [
              0.3333333333333333,
              "#9c179e"
             ],
             [
              0.4444444444444444,
              "#bd3786"
             ],
             [
              0.5555555555555556,
              "#d8576b"
             ],
             [
              0.6666666666666666,
              "#ed7953"
             ],
             [
              0.7777777777777778,
              "#fb9f3a"
             ],
             [
              0.8888888888888888,
              "#fdca26"
             ],
             [
              1,
              "#f0f921"
             ]
            ],
            "type": "contour"
           }
          ],
          "contourcarpet": [
           {
            "colorbar": {
             "outlinewidth": 0,
             "ticks": ""
            },
            "type": "contourcarpet"
           }
          ],
          "heatmap": [
           {
            "colorbar": {
             "outlinewidth": 0,
             "ticks": ""
            },
            "colorscale": [
             [
              0,
              "#0d0887"
             ],
             [
              0.1111111111111111,
              "#46039f"
             ],
             [
              0.2222222222222222,
              "#7201a8"
             ],
             [
              0.3333333333333333,
              "#9c179e"
             ],
             [
              0.4444444444444444,
              "#bd3786"
             ],
             [
              0.5555555555555556,
              "#d8576b"
             ],
             [
              0.6666666666666666,
              "#ed7953"
             ],
             [
              0.7777777777777778,
              "#fb9f3a"
             ],
             [
              0.8888888888888888,
              "#fdca26"
             ],
             [
              1,
              "#f0f921"
             ]
            ],
            "type": "heatmap"
           }
          ],
          "heatmapgl": [
           {
            "colorbar": {
             "outlinewidth": 0,
             "ticks": ""
            },
            "colorscale": [
             [
              0,
              "#0d0887"
             ],
             [
              0.1111111111111111,
              "#46039f"
             ],
             [
              0.2222222222222222,
              "#7201a8"
             ],
             [
              0.3333333333333333,
              "#9c179e"
             ],
             [
              0.4444444444444444,
              "#bd3786"
             ],
             [
              0.5555555555555556,
              "#d8576b"
             ],
             [
              0.6666666666666666,
              "#ed7953"
             ],
             [
              0.7777777777777778,
              "#fb9f3a"
             ],
             [
              0.8888888888888888,
              "#fdca26"
             ],
             [
              1,
              "#f0f921"
             ]
            ],
            "type": "heatmapgl"
           }
          ],
          "histogram": [
           {
            "marker": {
             "pattern": {
              "fillmode": "overlay",
              "size": 10,
              "solidity": 0.2
             }
            },
            "type": "histogram"
           }
          ],
          "histogram2d": [
           {
            "colorbar": {
             "outlinewidth": 0,
             "ticks": ""
            },
            "colorscale": [
             [
              0,
              "#0d0887"
             ],
             [
              0.1111111111111111,
              "#46039f"
             ],
             [
              0.2222222222222222,
              "#7201a8"
             ],
             [
              0.3333333333333333,
              "#9c179e"
             ],
             [
              0.4444444444444444,
              "#bd3786"
             ],
             [
              0.5555555555555556,
              "#d8576b"
             ],
             [
              0.6666666666666666,
              "#ed7953"
             ],
             [
              0.7777777777777778,
              "#fb9f3a"
             ],
             [
              0.8888888888888888,
              "#fdca26"
             ],
             [
              1,
              "#f0f921"
             ]
            ],
            "type": "histogram2d"
           }
          ],
          "histogram2dcontour": [
           {
            "colorbar": {
             "outlinewidth": 0,
             "ticks": ""
            },
            "colorscale": [
             [
              0,
              "#0d0887"
             ],
             [
              0.1111111111111111,
              "#46039f"
             ],
             [
              0.2222222222222222,
              "#7201a8"
             ],
             [
              0.3333333333333333,
              "#9c179e"
             ],
             [
              0.4444444444444444,
              "#bd3786"
             ],
             [
              0.5555555555555556,
              "#d8576b"
             ],
             [
              0.6666666666666666,
              "#ed7953"
             ],
             [
              0.7777777777777778,
              "#fb9f3a"
             ],
             [
              0.8888888888888888,
              "#fdca26"
             ],
             [
              1,
              "#f0f921"
             ]
            ],
            "type": "histogram2dcontour"
           }
          ],
          "mesh3d": [
           {
            "colorbar": {
             "outlinewidth": 0,
             "ticks": ""
            },
            "type": "mesh3d"
           }
          ],
          "parcoords": [
           {
            "line": {
             "colorbar": {
              "outlinewidth": 0,
              "ticks": ""
             }
            },
            "type": "parcoords"
           }
          ],
          "pie": [
           {
            "automargin": true,
            "type": "pie"
           }
          ],
          "scatter": [
           {
            "fillpattern": {
             "fillmode": "overlay",
             "size": 10,
             "solidity": 0.2
            },
            "type": "scatter"
           }
          ],
          "scatter3d": [
           {
            "line": {
             "colorbar": {
              "outlinewidth": 0,
              "ticks": ""
             }
            },
            "marker": {
             "colorbar": {
              "outlinewidth": 0,
              "ticks": ""
             }
            },
            "type": "scatter3d"
           }
          ],
          "scattercarpet": [
           {
            "marker": {
             "colorbar": {
              "outlinewidth": 0,
              "ticks": ""
             }
            },
            "type": "scattercarpet"
           }
          ],
          "scattergeo": [
           {
            "marker": {
             "colorbar": {
              "outlinewidth": 0,
              "ticks": ""
             }
            },
            "type": "scattergeo"
           }
          ],
          "scattergl": [
           {
            "marker": {
             "colorbar": {
              "outlinewidth": 0,
              "ticks": ""
             }
            },
            "type": "scattergl"
           }
          ],
          "scattermapbox": [
           {
            "marker": {
             "colorbar": {
              "outlinewidth": 0,
              "ticks": ""
             }
            },
            "type": "scattermapbox"
           }
          ],
          "scatterpolar": [
           {
            "marker": {
             "colorbar": {
              "outlinewidth": 0,
              "ticks": ""
             }
            },
            "type": "scatterpolar"
           }
          ],
          "scatterpolargl": [
           {
            "marker": {
             "colorbar": {
              "outlinewidth": 0,
              "ticks": ""
             }
            },
            "type": "scatterpolargl"
           }
          ],
          "scatterternary": [
           {
            "marker": {
             "colorbar": {
              "outlinewidth": 0,
              "ticks": ""
             }
            },
            "type": "scatterternary"
           }
          ],
          "surface": [
           {
            "colorbar": {
             "outlinewidth": 0,
             "ticks": ""
            },
            "colorscale": [
             [
              0,
              "#0d0887"
             ],
             [
              0.1111111111111111,
              "#46039f"
             ],
             [
              0.2222222222222222,
              "#7201a8"
             ],
             [
              0.3333333333333333,
              "#9c179e"
             ],
             [
              0.4444444444444444,
              "#bd3786"
             ],
             [
              0.5555555555555556,
              "#d8576b"
             ],
             [
              0.6666666666666666,
              "#ed7953"
             ],
             [
              0.7777777777777778,
              "#fb9f3a"
             ],
             [
              0.8888888888888888,
              "#fdca26"
             ],
             [
              1,
              "#f0f921"
             ]
            ],
            "type": "surface"
           }
          ],
          "table": [
           {
            "cells": {
             "fill": {
              "color": "#EBF0F8"
             },
             "line": {
              "color": "white"
             }
            },
            "header": {
             "fill": {
              "color": "#C8D4E3"
             },
             "line": {
              "color": "white"
             }
            },
            "type": "table"
           }
          ]
         },
         "layout": {
          "annotationdefaults": {
           "arrowcolor": "#2a3f5f",
           "arrowhead": 0,
           "arrowwidth": 1
          },
          "autotypenumbers": "strict",
          "coloraxis": {
           "colorbar": {
            "outlinewidth": 0,
            "ticks": ""
           }
          },
          "colorscale": {
           "diverging": [
            [
             0,
             "#8e0152"
            ],
            [
             0.1,
             "#c51b7d"
            ],
            [
             0.2,
             "#de77ae"
            ],
            [
             0.3,
             "#f1b6da"
            ],
            [
             0.4,
             "#fde0ef"
            ],
            [
             0.5,
             "#f7f7f7"
            ],
            [
             0.6,
             "#e6f5d0"
            ],
            [
             0.7,
             "#b8e186"
            ],
            [
             0.8,
             "#7fbc41"
            ],
            [
             0.9,
             "#4d9221"
            ],
            [
             1,
             "#276419"
            ]
           ],
           "sequential": [
            [
             0,
             "#0d0887"
            ],
            [
             0.1111111111111111,
             "#46039f"
            ],
            [
             0.2222222222222222,
             "#7201a8"
            ],
            [
             0.3333333333333333,
             "#9c179e"
            ],
            [
             0.4444444444444444,
             "#bd3786"
            ],
            [
             0.5555555555555556,
             "#d8576b"
            ],
            [
             0.6666666666666666,
             "#ed7953"
            ],
            [
             0.7777777777777778,
             "#fb9f3a"
            ],
            [
             0.8888888888888888,
             "#fdca26"
            ],
            [
             1,
             "#f0f921"
            ]
           ],
           "sequentialminus": [
            [
             0,
             "#0d0887"
            ],
            [
             0.1111111111111111,
             "#46039f"
            ],
            [
             0.2222222222222222,
             "#7201a8"
            ],
            [
             0.3333333333333333,
             "#9c179e"
            ],
            [
             0.4444444444444444,
             "#bd3786"
            ],
            [
             0.5555555555555556,
             "#d8576b"
            ],
            [
             0.6666666666666666,
             "#ed7953"
            ],
            [
             0.7777777777777778,
             "#fb9f3a"
            ],
            [
             0.8888888888888888,
             "#fdca26"
            ],
            [
             1,
             "#f0f921"
            ]
           ]
          },
          "colorway": [
           "#636efa",
           "#EF553B",
           "#00cc96",
           "#ab63fa",
           "#FFA15A",
           "#19d3f3",
           "#FF6692",
           "#B6E880",
           "#FF97FF",
           "#FECB52"
          ],
          "font": {
           "color": "#2a3f5f"
          },
          "geo": {
           "bgcolor": "white",
           "lakecolor": "white",
           "landcolor": "#E5ECF6",
           "showlakes": true,
           "showland": true,
           "subunitcolor": "white"
          },
          "hoverlabel": {
           "align": "left"
          },
          "hovermode": "closest",
          "mapbox": {
           "style": "light"
          },
          "paper_bgcolor": "white",
          "plot_bgcolor": "#E5ECF6",
          "polar": {
           "angularaxis": {
            "gridcolor": "white",
            "linecolor": "white",
            "ticks": ""
           },
           "bgcolor": "#E5ECF6",
           "radialaxis": {
            "gridcolor": "white",
            "linecolor": "white",
            "ticks": ""
           }
          },
          "scene": {
           "xaxis": {
            "backgroundcolor": "#E5ECF6",
            "gridcolor": "white",
            "gridwidth": 2,
            "linecolor": "white",
            "showbackground": true,
            "ticks": "",
            "zerolinecolor": "white"
           },
           "yaxis": {
            "backgroundcolor": "#E5ECF6",
            "gridcolor": "white",
            "gridwidth": 2,
            "linecolor": "white",
            "showbackground": true,
            "ticks": "",
            "zerolinecolor": "white"
           },
           "zaxis": {
            "backgroundcolor": "#E5ECF6",
            "gridcolor": "white",
            "gridwidth": 2,
            "linecolor": "white",
            "showbackground": true,
            "ticks": "",
            "zerolinecolor": "white"
           }
          },
          "shapedefaults": {
           "line": {
            "color": "#2a3f5f"
           }
          },
          "ternary": {
           "aaxis": {
            "gridcolor": "white",
            "linecolor": "white",
            "ticks": ""
           },
           "baxis": {
            "gridcolor": "white",
            "linecolor": "white",
            "ticks": ""
           },
           "bgcolor": "#E5ECF6",
           "caxis": {
            "gridcolor": "white",
            "linecolor": "white",
            "ticks": ""
           }
          },
          "title": {
           "x": 0.05
          },
          "xaxis": {
           "automargin": true,
           "gridcolor": "white",
           "linecolor": "white",
           "ticks": "",
           "title": {
            "standoff": 15
           },
           "zerolinecolor": "white",
           "zerolinewidth": 2
          },
          "yaxis": {
           "automargin": true,
           "gridcolor": "white",
           "linecolor": "white",
           "ticks": "",
           "title": {
            "standoff": 15
           },
           "zerolinecolor": "white",
           "zerolinewidth": 2
          }
         }
        },
        "updatemenus": [
         {
          "buttons": [
           {
            "args": [
             null,
             {
              "frame": {
               "duration": 285.7142857142857,
               "redraw": true
              },
              "fromcurrent": true,
              "transition": {
               "duration": 0
              }
             }
            ],
            "label": "Play",
            "method": "animate"
           },
           {
            "args": [
             [
              null
             ],
             {
              "frame": {
               "duration": 0,
               "redraw": true
              },
              "mode": "immediate",
              "transition": {
               "duration": 0
              }
             }
            ],
            "label": "Stop",
            "method": "animate"
           }
          ],
          "direction": "left",
          "pad": {
           "r": 10,
           "t": 75
          },
          "showactive": true,
          "type": "buttons",
          "x": 0.1,
          "xanchor": "right",
          "y": 0,
          "yanchor": "top"
         }
        ],
        "xaxis": {
         "range": [
          -2.3050672382471387,
          26.714715206895836
         ],
         "title": {
          "text": "<i>x</i>"
         }
        },
        "yaxis": {
         "range": [
          -5.079739483402371,
          53.80087459305909
         ],
         "title": {
          "text": "<i>y</i>"
         }
        }
       }
      }
     },
     "metadata": {},
     "output_type": "display_data"
    }
   ],
   "source": [
    "# Initialise the bearing, range sensor using the appropriate measurement model.\n",
    "from stonesoup.models.measurement.nonlinear import CartesianToBearingRange\n",
    "from stonesoup.types.detection import Detection\n",
    "\n",
    "sensor_x = 50\n",
    "sensor_y = 0\n",
    "\n",
    "measurement_model = CartesianToBearingRange(\n",
    "    ndim_state=4,\n",
    "    mapping=(0, 2),\n",
    "    noise_covar=np.diag([np.radians(0.2), 1]),\n",
    "    translation_offset=np.array([[sensor_x], [sensor_y]])\n",
    ")\n",
    "\n",
    "# Populate the measurement array\n",
    "measurements = []\n",
    "for state in truth:\n",
    "    measurement = measurement_model.function(state, noise=True)\n",
    "    measurements.append(Detection(measurement, timestamp=state.timestamp,\n",
    "                                  measurement_model=measurement_model))\n",
    "\n",
    "# Plot those measurements\n",
    "plotter.plot_measurements(measurements, [0, 2])\n",
    "plotter.fig"
   ]
  },
  {
   "cell_type": "markdown",
   "metadata": {},
   "source": [
    "## Set up the particle filter\n",
    "Analogously to the Kalman family, we create a `ParticlePredictor` and a `ParticleUpdater` which take responsibility for the predict and update steps respectively. These require a `TransitionModel` and `MeasurementModel` as before.\n",
    "To cope with sample sparsity we also include a resampler, in this instance `SystematicResampler`, which is passed to the updater. It should be noted that there are many resampling schemes, and almost as many choices as to when to undertake resampling. The systematic resampler is described in [#]_, and in what follows below resampling is undertaken at each time-step. More resamplers that are included in Stone Soup are covered in the [Resampler Tutorial](https://stonesoup.readthedocs.io/en/latest/auto_tutorials/sampling/ResamplingTutorial.html#sphx-glr-auto-tutorials-sampling-resamplingtutorial-py)\n",
    "\n",
    "### Use of Effective Sample Size resampler (ESS)\n",
    "Resampling removes particles with a low weight and duplicates particles with a high weight. A side effect of this is that additional variance is added. Use of `SystematicResampler` at each time-step means that additional variance is being introduced when it may not necessarily be required. To reduce the additional variance, it may be optimal to resample less frequently.\n",
    "\n",
    "The Effective Sample Size resampler (`ESSResampler`) compares the variance of the unnormalised weights of the particles to a pre-specified threshold, and only resamples when the variance is greater than this threshold. This threshold is often calculated by the ESS criterion (at time n) given by:\n",
    "$$\n",
    "           ESS = \\left(\\sum_{i=1}^{N} (W_{n}^i)^2\\right)^{-1}\n",
    "$$"
   ]
  },
  {
   "cell_type": "code",
   "execution_count": 4,
   "metadata": {},
   "outputs": [],
   "source": [
    "from stonesoup.predictor.particle import ParticlePredictor\n",
    "predictor = ParticlePredictor(transition_model)\n",
    "from stonesoup.resampler.particle import ESSResampler\n",
    "resampler = ESSResampler()\n",
    "from stonesoup.updater.particle import ParticleUpdater\n",
    "updater = ParticleUpdater(measurement_model, resampler)"
   ]
  },
  {
   "cell_type": "markdown",
   "metadata": {},
   "source": [
    "### Initialise a prior\n",
    "To start we create a prior estimate. This is a `ParticleState` which describes the state as a distribution of particles using `StateVectors` and weights. This is sampled from the Gaussian distribution (using the same parameters we had in the previous examples)."
   ]
  },
  {
   "cell_type": "code",
   "execution_count": 25,
   "metadata": {},
   "outputs": [],
   "source": [
    "from scipy.stats import multivariate_normal\n",
    "\n",
    "from stonesoup.types.numeric import Probability  # Similar to a float type\n",
    "from stonesoup.types.state import ParticleState\n",
    "from stonesoup.types.array import StateVectors\n",
    "\n",
    "number_particles = 1000\n",
    "\n",
    "# Sample from the prior Gaussian distribution\n",
    "samples = multivariate_normal.rvs(np.array([0, 1, 0, 1]),\n",
    "                                  np.diag([1.5, 0.5, 1.5, 0.5]),\n",
    "                                  size=number_particles)\n",
    "\n",
    "# Create prior particle state.\n",
    "prior = ParticleState(state_vector=StateVectors(samples.T),\n",
    "                      weight=np.array([Probability(1/number_particles)]*number_particles),\n",
    "                      timestamp=start_time)"
   ]
  },
  {
   "cell_type": "markdown",
   "metadata": {},
   "source": [
    "## Run the tracker\n",
    "We now run the predict and update steps, propagating the collection of particles and resampling when told to (at every step)."
   ]
  },
  {
   "cell_type": "code",
   "execution_count": null,
   "metadata": {},
   "outputs": [],
   "source": [
    "from stonesoup.types.hypothesis import SingleHypothesis\n",
    "from stonesoup.types.track import Track\n",
    "\n",
    "plotter = AnimatedPlotterly(timesteps, tail_length=0.3)\n",
    "\n",
    "track = Track()\n",
    "for measurement in measurements:\n",
    "    prediction = predictor.predict(prior, timestamp=measurement.timestamp)\n",
    "    hypothesis = SingleHypothesis(prediction, measurement)\n",
    "    post = updater.update(hypothesis)\n",
    "    track.append(post)\n",
    "    prior = track[-1]\n",
    "\n",
    "# Plot the resulting track with the sample points at each iteration. Can also change 'plot_history'\n",
    "# to True if wanted.\n",
    "\n",
    "plotter.plot_ground_truths(truth, [0, 2])\n",
    "plotter.plot_tracks(track, [0, 2], particle=True, plot_history=False)\n",
    "plotter.fig"
   ]
  },
  {
   "cell_type": "markdown",
   "metadata": {},
   "source": [
    "## Key points\n",
    "1. Sampling methods offer an attractive alternative to Kalman-based filtering for recursive state estimation.\n",
    "2. The particle filter trades off a more subtle quantification of a non-Gaussian estimate against increased computational effort.\n",
    "3. Very often particle filters encounter sample impoverishment and require a resampling step.\n",
    "\n",
    "## References\n",
    "1. Sanjeev Arulampalam M., Maskell S., Gordon N., Clapp T. 2002, Tutorial on Particle Filters for Online Nonlinear/Non-Gaussian Bayesian Tracking,  IEEE transactions on signal processing, vol. 50, no. 2\n",
    "\n",
    "1. Carpenter J., Clifford P., Fearnhead P. 1999, An improved particle filter for non-linear problems, IEE Proc., Radar Sonar Navigation, 146:2–7"
   ]
  }
 ],
 "metadata": {
  "kernelspec": {
   "display_name": "asterix",
   "language": "python",
   "name": "python3"
  },
  "language_info": {
   "codemirror_mode": {
    "name": "ipython",
    "version": 3
   },
   "file_extension": ".py",
   "mimetype": "text/x-python",
   "name": "python",
   "nbconvert_exporter": "python",
   "pygments_lexer": "ipython3",
   "version": "3.8.18"
  }
 },
 "nbformat": 4,
 "nbformat_minor": 2
}
