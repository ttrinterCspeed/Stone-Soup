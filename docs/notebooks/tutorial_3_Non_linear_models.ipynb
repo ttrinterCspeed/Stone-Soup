{
 "cells": [
  {
   "cell_type": "markdown",
   "metadata": {},
   "source": [
    "# Tutorial 3: Non-linear models: unscented Kalman Filter"
   ]
  },
  {
   "cell_type": "markdown",
   "metadata": {},
   "source": [
    "The previous tutorial showed how the extended Kalman filter propagates estimates using a first-order linearisation of the transition and/or sensor models. Clearly there are limits to such an approximation, and in situations where models deviate significantly from linearity, performance can suffer.\n",
    "\n",
    "In such situations it can be beneficial to seek alternative approximations. One such comes via the so-called *unscented transform* (UT). In this we characterise a Gaussian distribution using a series of weighted samples, *sigma points*, and propagate these through the non-linear function. A transformed Gaussian is then reconstructed from the new sigma points. This forms the basis for the unscented Kalman filter (UKF). This tutorial will first run a simulation in an entirely equivalent fashion to the previous (EKF) tutorial. We'll then look into more precise details concerning the UT and try and develop some intuition into the reasons for its effectiveness. \n",
    "\n",
    "## Background\n",
    "Limited detail on how Stone Soup does the UKF is provided below. See Julier et al. (2000) []_ for fuller, better details of the UKF.\n",
    "\n",
    "For dimension $D$, a set of $2 D + 1$ sigma points are calculated at:\n",
    "\n",
    "$$\n",
    "           \\mathbf{s}_j = \\mathbf{x}, \\ \\ j = 0 \\\\\n",
    "           \\mathbf{s}_j = \\mathbf{x} + \\alpha \\sqrt{\\kappa} A_j, \\ \\ j = 1, ..., D \\\\\n",
    "           \\mathbf{s}_j = \\mathbf{x} - \\alpha \\sqrt{\\kappa} A_j, \\ \\ j = D + 1, ..., 2 D\n",
    "$$\n",
    "\n",
    " where $A_j$ is the $j$ th column of $A$, a *square root matrix* of the covariance, $P = AA^T$, of the state to be approximated, and $\\mathbf{x}$ is its\n",
    " mean.\n",
    "\n",
    " Two sets of weights, mean and covariance, are calculated:\n",
    "\n",
    "$$\n",
    "           W^m_0 = \\frac{\\lambda}{c} \\\\\n",
    "           W^c_0 = \\frac{\\lambda}{c} + (1 - \\alpha^2 + \\beta) \\\\\n",
    "           W^m_j = W^c_j = \\frac{1}{2 c}\n",
    "$$\n",
    "\n",
    " where $c = \\alpha^2 (D + \\kappa)$, $\\lambda = c - D$. The parameters $\\alpha, \\ \\beta, \\ \\kappa$ are user-selectable parameters with default values of\n",
    " $0.5, \\ 2, \\ 3 - D$.\n",
    "\n",
    " After the sigma points are transformed $\\mathbf{s^{\\prime}} = f( \\mathbf{s} )$, the distribution is reconstructed as:\n",
    "\n",
    " $$\n",
    "           \\mathbf{x}^\\prime = \\sum\\limits^{2 D}_{0} W^{m}_j \\mathbf{s}^{\\prime}_j \\\\\n",
    "           P^\\prime = (\\mathbf{s}^{\\prime} - \\mathbf{x}^\\prime) \\, diag(W^c) \\,\n",
    "           (\\mathbf{s}^{\\prime} - \\mathbf{x}^\\prime)^T + Q\n",
    "$$\n",
    "\n",
    "The posterior mean and covariance are accurate to the 2nd order Taylor expansion for any non-linear model.\n",
    "\n",
    "## Nearly-constant velocity example\n",
    "This example is equivalent to that in the previous (EKF) tutorial. As with that one, you are invited to play with the parameters and watch what happens.\n"
   ]
  },
  {
   "cell_type": "code",
   "execution_count": 1,
   "metadata": {},
   "outputs": [],
   "source": [
    "# Some general imports and initialise time\n",
    "import numpy as np\n",
    "from datetime import datetime, timedelta\n",
    "\n",
    "np.random.seed(1991)\n",
    "\n",
    "start_time = datetime.now().replace(microsecond=0)"
   ]
  },
  {
   "cell_type": "code",
   "execution_count": 2,
   "metadata": {},
   "outputs": [],
   "source": [
    "from stonesoup.types.groundtruth import GroundTruthPath, GroundTruthState\n",
    "from stonesoup.models.transition.linear import CombinedLinearGaussianTransitionModel, \\\n",
    "                                               ConstantVelocity\n",
    "\n",
    "transition_model = CombinedLinearGaussianTransitionModel([ConstantVelocity(0.05),\n",
    "                                                          ConstantVelocity(0.05)])\n",
    "timesteps = [start_time]\n",
    "truth = GroundTruthPath([GroundTruthState([0, 1, 0, 1], timestamp=timesteps[0])])\n",
    "\n",
    "for k in range(1, 21):\n",
    "    timesteps.append(start_time+timedelta(seconds=k))\n",
    "    truth.append(GroundTruthState(\n",
    "        transition_model.function(truth[k-1], noise=True, time_interval=timedelta(seconds=1)),\n",
    "        timestamp=timesteps[k]))\n"
   ]
  },
  {
   "cell_type": "markdown",
   "metadata": {},
   "source": [
    "### Set-up plot to render ground truth, as before."
   ]
  },
  {
   "cell_type": "code",
   "execution_count": 4,
   "metadata": {},
   "outputs": [
    {
     "data": {
      "application/vnd.plotly.v1+json": {
       "config": {
        "plotlyServerURL": "https://plot.ly"
       },
       "data": [
        {
         "hoverinfo": "none",
         "legendgroup": "Ground Truth",
         "legendrank": 100,
         "line": {
          "color": "#EF553B",
          "dash": "dash"
         },
         "mode": "lines",
         "name": "Ground Truth",
         "showlegend": true,
         "type": "scatter",
         "x": [],
         "y": []
        },
        {
         "hoverinfo": "none",
         "legendgroup": "Ground Truth",
         "legendrank": 100,
         "line": {
          "color": "#EF553B",
          "dash": "dash"
         },
         "mode": "lines",
         "name": "Ground Truth",
         "showlegend": false,
         "type": "scatter",
         "x": [],
         "y": []
        }
       ],
       "frames": [
        {
         "data": [
          {
           "type": "scatter",
           "x": [
            0,
            0
           ],
           "y": [
            0,
            0
           ]
          },
          {
           "hovertemplate": "GroundTruthState<br>(%{x}, %{y})<br>Time: %{meta}",
           "meta": [
            "2024-10-24 11:56:34"
           ],
           "type": "scatter",
           "x": [
            0,
            null
           ],
           "y": [
            0,
            null
           ]
          }
         ],
         "name": "2024-10-24 11:56:34",
         "traces": [
          0,
          1
         ]
        },
        {
         "data": [
          {
           "type": "scatter",
           "x": [
            0,
            0
           ],
           "y": [
            0,
            0
           ]
          },
          {
           "hovertemplate": "GroundTruthState<br>(%{x}, %{y})<br>Time: %{meta}",
           "meta": [
            "2024-10-24 11:56:34",
            "2024-10-24 11:56:35"
           ],
           "type": "scatter",
           "x": [
            0,
            1.177223465328352,
            null
           ],
           "y": [
            0,
            1.0006757513847795,
            null
           ]
          }
         ],
         "name": "2024-10-24 11:56:35",
         "traces": [
          0,
          1
         ]
        },
        {
         "data": [
          {
           "type": "scatter",
           "x": [
            0,
            0
           ],
           "y": [
            0,
            0
           ]
          },
          {
           "hovertemplate": "GroundTruthState<br>(%{x}, %{y})<br>Time: %{meta}",
           "meta": [
            "2024-10-24 11:56:34",
            "2024-10-24 11:56:35",
            "2024-10-24 11:56:36"
           ],
           "type": "scatter",
           "x": [
            0,
            1.177223465328352,
            2.275462874700381,
            null
           ],
           "y": [
            0,
            1.0006757513847795,
            2.0307275520116606,
            null
           ]
          }
         ],
         "name": "2024-10-24 11:56:36",
         "traces": [
          0,
          1
         ]
        },
        {
         "data": [
          {
           "type": "scatter",
           "x": [
            0,
            0
           ],
           "y": [
            0,
            0
           ]
          },
          {
           "hovertemplate": "GroundTruthState<br>(%{x}, %{y})<br>Time: %{meta}",
           "meta": [
            "2024-10-24 11:56:34",
            "2024-10-24 11:56:35",
            "2024-10-24 11:56:36",
            "2024-10-24 11:56:37"
           ],
           "type": "scatter",
           "x": [
            0,
            1.177223465328352,
            2.275462874700381,
            3.1560399703547968,
            null
           ],
           "y": [
            0,
            1.0006757513847795,
            2.0307275520116606,
            3.2076890985336823,
            null
           ]
          }
         ],
         "name": "2024-10-24 11:56:37",
         "traces": [
          0,
          1
         ]
        },
        {
         "data": [
          {
           "type": "scatter",
           "x": [
            0,
            0
           ],
           "y": [
            0,
            0
           ]
          },
          {
           "hovertemplate": "GroundTruthState<br>(%{x}, %{y})<br>Time: %{meta}",
           "meta": [
            "2024-10-24 11:56:34",
            "2024-10-24 11:56:35",
            "2024-10-24 11:56:36",
            "2024-10-24 11:56:37",
            "2024-10-24 11:56:38"
           ],
           "type": "scatter",
           "x": [
            0,
            1.177223465328352,
            2.275462874700381,
            3.1560399703547968,
            4.111484568780832,
            null
           ],
           "y": [
            0,
            1.0006757513847795,
            2.0307275520116606,
            3.2076890985336823,
            4.681546580969336,
            null
           ]
          }
         ],
         "name": "2024-10-24 11:56:38",
         "traces": [
          0,
          1
         ]
        },
        {
         "data": [
          {
           "type": "scatter",
           "x": [
            0,
            0
           ],
           "y": [
            0,
            0
           ]
          },
          {
           "hovertemplate": "GroundTruthState<br>(%{x}, %{y})<br>Time: %{meta}",
           "meta": [
            "2024-10-24 11:56:34",
            "2024-10-24 11:56:35",
            "2024-10-24 11:56:36",
            "2024-10-24 11:56:37",
            "2024-10-24 11:56:38",
            "2024-10-24 11:56:39"
           ],
           "type": "scatter",
           "x": [
            0,
            1.177223465328352,
            2.275462874700381,
            3.1560399703547968,
            4.111484568780832,
            5.068918699968233,
            null
           ],
           "y": [
            0,
            1.0006757513847795,
            2.0307275520116606,
            3.2076890985336823,
            4.681546580969336,
            6.424096316700446,
            null
           ]
          }
         ],
         "name": "2024-10-24 11:56:39",
         "traces": [
          0,
          1
         ]
        },
        {
         "data": [
          {
           "type": "scatter",
           "x": [
            0,
            0
           ],
           "y": [
            0,
            0
           ]
          },
          {
           "hovertemplate": "GroundTruthState<br>(%{x}, %{y})<br>Time: %{meta}",
           "meta": [
            "2024-10-24 11:56:34",
            "2024-10-24 11:56:35",
            "2024-10-24 11:56:36",
            "2024-10-24 11:56:37",
            "2024-10-24 11:56:38",
            "2024-10-24 11:56:39",
            "2024-10-24 11:56:40"
           ],
           "type": "scatter",
           "x": [
            0,
            1.177223465328352,
            2.275462874700381,
            3.1560399703547968,
            4.111484568780832,
            5.068918699968233,
            6.134103970132443,
            null
           ],
           "y": [
            0,
            1.0006757513847795,
            2.0307275520116606,
            3.2076890985336823,
            4.681546580969336,
            6.424096316700446,
            8.291557310607626,
            null
           ]
          }
         ],
         "name": "2024-10-24 11:56:40",
         "traces": [
          0,
          1
         ]
        },
        {
         "data": [
          {
           "type": "scatter",
           "x": [
            0,
            0
           ],
           "y": [
            0,
            0
           ]
          },
          {
           "hovertemplate": "GroundTruthState<br>(%{x}, %{y})<br>Time: %{meta}",
           "meta": [
            "2024-10-24 11:56:35",
            "2024-10-24 11:56:36",
            "2024-10-24 11:56:37",
            "2024-10-24 11:56:38",
            "2024-10-24 11:56:39",
            "2024-10-24 11:56:40",
            "2024-10-24 11:56:41"
           ],
           "type": "scatter",
           "x": [
            1.177223465328352,
            2.275462874700381,
            3.1560399703547968,
            4.111484568780832,
            5.068918699968233,
            6.134103970132443,
            7.336661592351442,
            null
           ],
           "y": [
            1.0006757513847795,
            2.0307275520116606,
            3.2076890985336823,
            4.681546580969336,
            6.424096316700446,
            8.291557310607626,
            10.210133065599429,
            null
           ]
          }
         ],
         "name": "2024-10-24 11:56:41",
         "traces": [
          0,
          1
         ]
        },
        {
         "data": [
          {
           "type": "scatter",
           "x": [
            0,
            0
           ],
           "y": [
            0,
            0
           ]
          },
          {
           "hovertemplate": "GroundTruthState<br>(%{x}, %{y})<br>Time: %{meta}",
           "meta": [
            "2024-10-24 11:56:36",
            "2024-10-24 11:56:37",
            "2024-10-24 11:56:38",
            "2024-10-24 11:56:39",
            "2024-10-24 11:56:40",
            "2024-10-24 11:56:41",
            "2024-10-24 11:56:42"
           ],
           "type": "scatter",
           "x": [
            2.275462874700381,
            3.1560399703547968,
            4.111484568780832,
            5.068918699968233,
            6.134103970132443,
            7.336661592351442,
            8.708739774094603,
            null
           ],
           "y": [
            2.0307275520116606,
            3.2076890985336823,
            4.681546580969336,
            6.424096316700446,
            8.291557310607626,
            10.210133065599429,
            12.639171131337447,
            null
           ]
          }
         ],
         "name": "2024-10-24 11:56:42",
         "traces": [
          0,
          1
         ]
        },
        {
         "data": [
          {
           "type": "scatter",
           "x": [
            0,
            0
           ],
           "y": [
            0,
            0
           ]
          },
          {
           "hovertemplate": "GroundTruthState<br>(%{x}, %{y})<br>Time: %{meta}",
           "meta": [
            "2024-10-24 11:56:37",
            "2024-10-24 11:56:38",
            "2024-10-24 11:56:39",
            "2024-10-24 11:56:40",
            "2024-10-24 11:56:41",
            "2024-10-24 11:56:42",
            "2024-10-24 11:56:43"
           ],
           "type": "scatter",
           "x": [
            3.1560399703547968,
            4.111484568780832,
            5.068918699968233,
            6.134103970132443,
            7.336661592351442,
            8.708739774094603,
            9.661668970928952,
            null
           ],
           "y": [
            3.2076890985336823,
            4.681546580969336,
            6.424096316700446,
            8.291557310607626,
            10.210133065599429,
            12.639171131337447,
            15.077240437037124,
            null
           ]
          }
         ],
         "name": "2024-10-24 11:56:43",
         "traces": [
          0,
          1
         ]
        },
        {
         "data": [
          {
           "type": "scatter",
           "x": [
            0,
            0
           ],
           "y": [
            0,
            0
           ]
          },
          {
           "hovertemplate": "GroundTruthState<br>(%{x}, %{y})<br>Time: %{meta}",
           "meta": [
            "2024-10-24 11:56:38",
            "2024-10-24 11:56:39",
            "2024-10-24 11:56:40",
            "2024-10-24 11:56:41",
            "2024-10-24 11:56:42",
            "2024-10-24 11:56:43",
            "2024-10-24 11:56:44"
           ],
           "type": "scatter",
           "x": [
            4.111484568780832,
            5.068918699968233,
            6.134103970132443,
            7.336661592351442,
            8.708739774094603,
            9.661668970928952,
            10.289427281808946,
            null
           ],
           "y": [
            4.681546580969336,
            6.424096316700446,
            8.291557310607626,
            10.210133065599429,
            12.639171131337447,
            15.077240437037124,
            17.463880393414996,
            null
           ]
          }
         ],
         "name": "2024-10-24 11:56:44",
         "traces": [
          0,
          1
         ]
        },
        {
         "data": [
          {
           "type": "scatter",
           "x": [
            0,
            0
           ],
           "y": [
            0,
            0
           ]
          },
          {
           "hovertemplate": "GroundTruthState<br>(%{x}, %{y})<br>Time: %{meta}",
           "meta": [
            "2024-10-24 11:56:39",
            "2024-10-24 11:56:40",
            "2024-10-24 11:56:41",
            "2024-10-24 11:56:42",
            "2024-10-24 11:56:43",
            "2024-10-24 11:56:44",
            "2024-10-24 11:56:45"
           ],
           "type": "scatter",
           "x": [
            5.068918699968233,
            6.134103970132443,
            7.336661592351442,
            8.708739774094603,
            9.661668970928952,
            10.289427281808946,
            10.90851617793013,
            null
           ],
           "y": [
            6.424096316700446,
            8.291557310607626,
            10.210133065599429,
            12.639171131337447,
            15.077240437037124,
            17.463880393414996,
            19.922987588268054,
            null
           ]
          }
         ],
         "name": "2024-10-24 11:56:45",
         "traces": [
          0,
          1
         ]
        },
        {
         "data": [
          {
           "type": "scatter",
           "x": [
            0,
            0
           ],
           "y": [
            0,
            0
           ]
          },
          {
           "hovertemplate": "GroundTruthState<br>(%{x}, %{y})<br>Time: %{meta}",
           "meta": [
            "2024-10-24 11:56:40",
            "2024-10-24 11:56:41",
            "2024-10-24 11:56:42",
            "2024-10-24 11:56:43",
            "2024-10-24 11:56:44",
            "2024-10-24 11:56:45",
            "2024-10-24 11:56:46"
           ],
           "type": "scatter",
           "x": [
            6.134103970132443,
            7.336661592351442,
            8.708739774094603,
            9.661668970928952,
            10.289427281808946,
            10.90851617793013,
            11.43649485409589,
            null
           ],
           "y": [
            8.291557310607626,
            10.210133065599429,
            12.639171131337447,
            15.077240437037124,
            17.463880393414996,
            19.922987588268054,
            22.43523846129129,
            null
           ]
          }
         ],
         "name": "2024-10-24 11:56:46",
         "traces": [
          0,
          1
         ]
        },
        {
         "data": [
          {
           "type": "scatter",
           "x": [
            0,
            0
           ],
           "y": [
            0,
            0
           ]
          },
          {
           "hovertemplate": "GroundTruthState<br>(%{x}, %{y})<br>Time: %{meta}",
           "meta": [
            "2024-10-24 11:56:41",
            "2024-10-24 11:56:42",
            "2024-10-24 11:56:43",
            "2024-10-24 11:56:44",
            "2024-10-24 11:56:45",
            "2024-10-24 11:56:46",
            "2024-10-24 11:56:47"
           ],
           "type": "scatter",
           "x": [
            7.336661592351442,
            8.708739774094603,
            9.661668970928952,
            10.289427281808946,
            10.90851617793013,
            11.43649485409589,
            12.083757383111484,
            null
           ],
           "y": [
            10.210133065599429,
            12.639171131337447,
            15.077240437037124,
            17.463880393414996,
            19.922987588268054,
            22.43523846129129,
            25.226253707256983,
            null
           ]
          }
         ],
         "name": "2024-10-24 11:56:47",
         "traces": [
          0,
          1
         ]
        },
        {
         "data": [
          {
           "type": "scatter",
           "x": [
            0,
            0
           ],
           "y": [
            0,
            0
           ]
          },
          {
           "hovertemplate": "GroundTruthState<br>(%{x}, %{y})<br>Time: %{meta}",
           "meta": [
            "2024-10-24 11:56:42",
            "2024-10-24 11:56:43",
            "2024-10-24 11:56:44",
            "2024-10-24 11:56:45",
            "2024-10-24 11:56:46",
            "2024-10-24 11:56:47",
            "2024-10-24 11:56:48"
           ],
           "type": "scatter",
           "x": [
            8.708739774094603,
            9.661668970928952,
            10.289427281808946,
            10.90851617793013,
            11.43649485409589,
            12.083757383111484,
            12.857255540294034,
            null
           ],
           "y": [
            12.639171131337447,
            15.077240437037124,
            17.463880393414996,
            19.922987588268054,
            22.43523846129129,
            25.226253707256983,
            28.317087024384634,
            null
           ]
          }
         ],
         "name": "2024-10-24 11:56:48",
         "traces": [
          0,
          1
         ]
        },
        {
         "data": [
          {
           "type": "scatter",
           "x": [
            0,
            0
           ],
           "y": [
            0,
            0
           ]
          },
          {
           "hovertemplate": "GroundTruthState<br>(%{x}, %{y})<br>Time: %{meta}",
           "meta": [
            "2024-10-24 11:56:43",
            "2024-10-24 11:56:44",
            "2024-10-24 11:56:45",
            "2024-10-24 11:56:46",
            "2024-10-24 11:56:47",
            "2024-10-24 11:56:48",
            "2024-10-24 11:56:49"
           ],
           "type": "scatter",
           "x": [
            9.661668970928952,
            10.289427281808946,
            10.90851617793013,
            11.43649485409589,
            12.083757383111484,
            12.857255540294034,
            13.664009379110706,
            null
           ],
           "y": [
            15.077240437037124,
            17.463880393414996,
            19.922987588268054,
            22.43523846129129,
            25.226253707256983,
            28.317087024384634,
            31.653600280950233,
            null
           ]
          }
         ],
         "name": "2024-10-24 11:56:49",
         "traces": [
          0,
          1
         ]
        },
        {
         "data": [
          {
           "type": "scatter",
           "x": [
            0,
            0
           ],
           "y": [
            0,
            0
           ]
          },
          {
           "hovertemplate": "GroundTruthState<br>(%{x}, %{y})<br>Time: %{meta}",
           "meta": [
            "2024-10-24 11:56:44",
            "2024-10-24 11:56:45",
            "2024-10-24 11:56:46",
            "2024-10-24 11:56:47",
            "2024-10-24 11:56:48",
            "2024-10-24 11:56:49",
            "2024-10-24 11:56:50"
           ],
           "type": "scatter",
           "x": [
            10.289427281808946,
            10.90851617793013,
            11.43649485409589,
            12.083757383111484,
            12.857255540294034,
            13.664009379110706,
            14.66094199646186,
            null
           ],
           "y": [
            17.463880393414996,
            19.922987588268054,
            22.43523846129129,
            25.226253707256983,
            28.317087024384634,
            31.653600280950233,
            34.95982666405545,
            null
           ]
          }
         ],
         "name": "2024-10-24 11:56:50",
         "traces": [
          0,
          1
         ]
        },
        {
         "data": [
          {
           "type": "scatter",
           "x": [
            0,
            0
           ],
           "y": [
            0,
            0
           ]
          },
          {
           "hovertemplate": "GroundTruthState<br>(%{x}, %{y})<br>Time: %{meta}",
           "meta": [
            "2024-10-24 11:56:45",
            "2024-10-24 11:56:46",
            "2024-10-24 11:56:47",
            "2024-10-24 11:56:48",
            "2024-10-24 11:56:49",
            "2024-10-24 11:56:50",
            "2024-10-24 11:56:51"
           ],
           "type": "scatter",
           "x": [
            10.90851617793013,
            11.43649485409589,
            12.083757383111484,
            12.857255540294034,
            13.664009379110706,
            14.66094199646186,
            15.763691585187017,
            null
           ],
           "y": [
            19.922987588268054,
            22.43523846129129,
            25.226253707256983,
            28.317087024384634,
            31.653600280950233,
            34.95982666405545,
            38.32678424492485,
            null
           ]
          }
         ],
         "name": "2024-10-24 11:56:51",
         "traces": [
          0,
          1
         ]
        },
        {
         "data": [
          {
           "type": "scatter",
           "x": [
            0,
            0
           ],
           "y": [
            0,
            0
           ]
          },
          {
           "hovertemplate": "GroundTruthState<br>(%{x}, %{y})<br>Time: %{meta}",
           "meta": [
            "2024-10-24 11:56:46",
            "2024-10-24 11:56:47",
            "2024-10-24 11:56:48",
            "2024-10-24 11:56:49",
            "2024-10-24 11:56:50",
            "2024-10-24 11:56:51",
            "2024-10-24 11:56:52"
           ],
           "type": "scatter",
           "x": [
            11.43649485409589,
            12.083757383111484,
            12.857255540294034,
            13.664009379110706,
            14.66094199646186,
            15.763691585187017,
            16.994297584708757,
            null
           ],
           "y": [
            22.43523846129129,
            25.226253707256983,
            28.317087024384634,
            31.653600280950233,
            34.95982666405545,
            38.32678424492485,
            41.65059655664205,
            null
           ]
          }
         ],
         "name": "2024-10-24 11:56:52",
         "traces": [
          0,
          1
         ]
        },
        {
         "data": [
          {
           "type": "scatter",
           "x": [
            0,
            0
           ],
           "y": [
            0,
            0
           ]
          },
          {
           "hovertemplate": "GroundTruthState<br>(%{x}, %{y})<br>Time: %{meta}",
           "meta": [
            "2024-10-24 11:56:47",
            "2024-10-24 11:56:48",
            "2024-10-24 11:56:49",
            "2024-10-24 11:56:50",
            "2024-10-24 11:56:51",
            "2024-10-24 11:56:52",
            "2024-10-24 11:56:53"
           ],
           "type": "scatter",
           "x": [
            12.083757383111484,
            12.857255540294034,
            13.664009379110706,
            14.66094199646186,
            15.763691585187017,
            16.994297584708757,
            18.302114239501268,
            null
           ],
           "y": [
            25.226253707256983,
            28.317087024384634,
            31.653600280950233,
            34.95982666405545,
            38.32678424492485,
            41.65059655664205,
            44.94718306572588,
            null
           ]
          }
         ],
         "name": "2024-10-24 11:56:53",
         "traces": [
          0,
          1
         ]
        },
        {
         "data": [
          {
           "type": "scatter",
           "x": [
            0,
            0
           ],
           "y": [
            0,
            0
           ]
          },
          {
           "hovertemplate": "GroundTruthState<br>(%{x}, %{y})<br>Time: %{meta}",
           "meta": [
            "2024-10-24 11:56:48",
            "2024-10-24 11:56:49",
            "2024-10-24 11:56:50",
            "2024-10-24 11:56:51",
            "2024-10-24 11:56:52",
            "2024-10-24 11:56:53",
            "2024-10-24 11:56:54"
           ],
           "type": "scatter",
           "x": [
            12.857255540294034,
            13.664009379110706,
            14.66094199646186,
            15.763691585187017,
            16.994297584708757,
            18.302114239501268,
            19.71972436026734,
            null
           ],
           "y": [
            28.317087024384634,
            31.653600280950233,
            34.95982666405545,
            38.32678424492485,
            41.65059655664205,
            44.94718306572588,
            48.066958689446075,
            null
           ]
          }
         ],
         "name": "2024-10-24 11:56:54",
         "traces": [
          0,
          1
         ]
        }
       ],
       "layout": {
        "autosize": true,
        "colorway": [
         "#EF553B",
         "#00CC96",
         "#AB63FA",
         "#FFA15A",
         "#19D3F3",
         "#FF6692",
         "#B6E880",
         "#FF97FF",
         "#FECB52"
        ],
        "height": 550,
        "sliders": [
         {
          "currentvalue": {
           "font": {
            "size": 16
           },
           "prefix": "Time: ",
           "visible": true,
           "xanchor": "right"
          },
          "len": 0.9,
          "pad": {
           "b": 10,
           "t": 50
          },
          "steps": [
           {
            "args": [
             [
              "2024-10-24 11:56:34"
             ],
             {
              "frame": {
               "duration": 1,
               "easing": "linear",
               "redraw": true
              },
              "transition": {
               "duration": 0,
               "easing": "linear"
              }
             }
            ],
            "label": "11:56:34",
            "method": "animate"
           },
           {
            "args": [
             [
              "2024-10-24 11:56:35"
             ],
             {
              "frame": {
               "duration": 1,
               "easing": "linear",
               "redraw": true
              },
              "transition": {
               "duration": 0,
               "easing": "linear"
              }
             }
            ],
            "label": "11:56:35",
            "method": "animate"
           },
           {
            "args": [
             [
              "2024-10-24 11:56:36"
             ],
             {
              "frame": {
               "duration": 1,
               "easing": "linear",
               "redraw": true
              },
              "transition": {
               "duration": 0,
               "easing": "linear"
              }
             }
            ],
            "label": "11:56:36",
            "method": "animate"
           },
           {
            "args": [
             [
              "2024-10-24 11:56:37"
             ],
             {
              "frame": {
               "duration": 1,
               "easing": "linear",
               "redraw": true
              },
              "transition": {
               "duration": 0,
               "easing": "linear"
              }
             }
            ],
            "label": "11:56:37",
            "method": "animate"
           },
           {
            "args": [
             [
              "2024-10-24 11:56:38"
             ],
             {
              "frame": {
               "duration": 1,
               "easing": "linear",
               "redraw": true
              },
              "transition": {
               "duration": 0,
               "easing": "linear"
              }
             }
            ],
            "label": "11:56:38",
            "method": "animate"
           },
           {
            "args": [
             [
              "2024-10-24 11:56:39"
             ],
             {
              "frame": {
               "duration": 1,
               "easing": "linear",
               "redraw": true
              },
              "transition": {
               "duration": 0,
               "easing": "linear"
              }
             }
            ],
            "label": "11:56:39",
            "method": "animate"
           },
           {
            "args": [
             [
              "2024-10-24 11:56:40"
             ],
             {
              "frame": {
               "duration": 1,
               "easing": "linear",
               "redraw": true
              },
              "transition": {
               "duration": 0,
               "easing": "linear"
              }
             }
            ],
            "label": "11:56:40",
            "method": "animate"
           },
           {
            "args": [
             [
              "2024-10-24 11:56:41"
             ],
             {
              "frame": {
               "duration": 1,
               "easing": "linear",
               "redraw": true
              },
              "transition": {
               "duration": 0,
               "easing": "linear"
              }
             }
            ],
            "label": "11:56:41",
            "method": "animate"
           },
           {
            "args": [
             [
              "2024-10-24 11:56:42"
             ],
             {
              "frame": {
               "duration": 1,
               "easing": "linear",
               "redraw": true
              },
              "transition": {
               "duration": 0,
               "easing": "linear"
              }
             }
            ],
            "label": "11:56:42",
            "method": "animate"
           },
           {
            "args": [
             [
              "2024-10-24 11:56:43"
             ],
             {
              "frame": {
               "duration": 1,
               "easing": "linear",
               "redraw": true
              },
              "transition": {
               "duration": 0,
               "easing": "linear"
              }
             }
            ],
            "label": "11:56:43",
            "method": "animate"
           },
           {
            "args": [
             [
              "2024-10-24 11:56:44"
             ],
             {
              "frame": {
               "duration": 1,
               "easing": "linear",
               "redraw": true
              },
              "transition": {
               "duration": 0,
               "easing": "linear"
              }
             }
            ],
            "label": "11:56:44",
            "method": "animate"
           },
           {
            "args": [
             [
              "2024-10-24 11:56:45"
             ],
             {
              "frame": {
               "duration": 1,
               "easing": "linear",
               "redraw": true
              },
              "transition": {
               "duration": 0,
               "easing": "linear"
              }
             }
            ],
            "label": "11:56:45",
            "method": "animate"
           },
           {
            "args": [
             [
              "2024-10-24 11:56:46"
             ],
             {
              "frame": {
               "duration": 1,
               "easing": "linear",
               "redraw": true
              },
              "transition": {
               "duration": 0,
               "easing": "linear"
              }
             }
            ],
            "label": "11:56:46",
            "method": "animate"
           },
           {
            "args": [
             [
              "2024-10-24 11:56:47"
             ],
             {
              "frame": {
               "duration": 1,
               "easing": "linear",
               "redraw": true
              },
              "transition": {
               "duration": 0,
               "easing": "linear"
              }
             }
            ],
            "label": "11:56:47",
            "method": "animate"
           },
           {
            "args": [
             [
              "2024-10-24 11:56:48"
             ],
             {
              "frame": {
               "duration": 1,
               "easing": "linear",
               "redraw": true
              },
              "transition": {
               "duration": 0,
               "easing": "linear"
              }
             }
            ],
            "label": "11:56:48",
            "method": "animate"
           },
           {
            "args": [
             [
              "2024-10-24 11:56:49"
             ],
             {
              "frame": {
               "duration": 1,
               "easing": "linear",
               "redraw": true
              },
              "transition": {
               "duration": 0,
               "easing": "linear"
              }
             }
            ],
            "label": "11:56:49",
            "method": "animate"
           },
           {
            "args": [
             [
              "2024-10-24 11:56:50"
             ],
             {
              "frame": {
               "duration": 1,
               "easing": "linear",
               "redraw": true
              },
              "transition": {
               "duration": 0,
               "easing": "linear"
              }
             }
            ],
            "label": "11:56:50",
            "method": "animate"
           },
           {
            "args": [
             [
              "2024-10-24 11:56:51"
             ],
             {
              "frame": {
               "duration": 1,
               "easing": "linear",
               "redraw": true
              },
              "transition": {
               "duration": 0,
               "easing": "linear"
              }
             }
            ],
            "label": "11:56:51",
            "method": "animate"
           },
           {
            "args": [
             [
              "2024-10-24 11:56:52"
             ],
             {
              "frame": {
               "duration": 1,
               "easing": "linear",
               "redraw": true
              },
              "transition": {
               "duration": 0,
               "easing": "linear"
              }
             }
            ],
            "label": "11:56:52",
            "method": "animate"
           },
           {
            "args": [
             [
              "2024-10-24 11:56:53"
             ],
             {
              "frame": {
               "duration": 1,
               "easing": "linear",
               "redraw": true
              },
              "transition": {
               "duration": 0,
               "easing": "linear"
              }
             }
            ],
            "label": "11:56:53",
            "method": "animate"
           },
           {
            "args": [
             [
              "2024-10-24 11:56:54"
             ],
             {
              "frame": {
               "duration": 1,
               "easing": "linear",
               "redraw": true
              },
              "transition": {
               "duration": 0,
               "easing": "linear"
              }
             }
            ],
            "label": "11:56:54",
            "method": "animate"
           }
          ],
          "transition": {
           "duration": 285.7142857142857,
           "easing": "linear"
          },
          "x": 0.1,
          "xanchor": "left",
          "y": 0,
          "yanchor": "top"
         }
        ],
        "template": {
         "data": {
          "bar": [
           {
            "error_x": {
             "color": "#2a3f5f"
            },
            "error_y": {
             "color": "#2a3f5f"
            },
            "marker": {
             "line": {
              "color": "#E5ECF6",
              "width": 0.5
             },
             "pattern": {
              "fillmode": "overlay",
              "size": 10,
              "solidity": 0.2
             }
            },
            "type": "bar"
           }
          ],
          "barpolar": [
           {
            "marker": {
             "line": {
              "color": "#E5ECF6",
              "width": 0.5
             },
             "pattern": {
              "fillmode": "overlay",
              "size": 10,
              "solidity": 0.2
             }
            },
            "type": "barpolar"
           }
          ],
          "carpet": [
           {
            "aaxis": {
             "endlinecolor": "#2a3f5f",
             "gridcolor": "white",
             "linecolor": "white",
             "minorgridcolor": "white",
             "startlinecolor": "#2a3f5f"
            },
            "baxis": {
             "endlinecolor": "#2a3f5f",
             "gridcolor": "white",
             "linecolor": "white",
             "minorgridcolor": "white",
             "startlinecolor": "#2a3f5f"
            },
            "type": "carpet"
           }
          ],
          "choropleth": [
           {
            "colorbar": {
             "outlinewidth": 0,
             "ticks": ""
            },
            "type": "choropleth"
           }
          ],
          "contour": [
           {
            "colorbar": {
             "outlinewidth": 0,
             "ticks": ""
            },
            "colorscale": [
             [
              0,
              "#0d0887"
             ],
             [
              0.1111111111111111,
              "#46039f"
             ],
             [
              0.2222222222222222,
              "#7201a8"
             ],
             [
              0.3333333333333333,
              "#9c179e"
             ],
             [
              0.4444444444444444,
              "#bd3786"
             ],
             [
              0.5555555555555556,
              "#d8576b"
             ],
             [
              0.6666666666666666,
              "#ed7953"
             ],
             [
              0.7777777777777778,
              "#fb9f3a"
             ],
             [
              0.8888888888888888,
              "#fdca26"
             ],
             [
              1,
              "#f0f921"
             ]
            ],
            "type": "contour"
           }
          ],
          "contourcarpet": [
           {
            "colorbar": {
             "outlinewidth": 0,
             "ticks": ""
            },
            "type": "contourcarpet"
           }
          ],
          "heatmap": [
           {
            "colorbar": {
             "outlinewidth": 0,
             "ticks": ""
            },
            "colorscale": [
             [
              0,
              "#0d0887"
             ],
             [
              0.1111111111111111,
              "#46039f"
             ],
             [
              0.2222222222222222,
              "#7201a8"
             ],
             [
              0.3333333333333333,
              "#9c179e"
             ],
             [
              0.4444444444444444,
              "#bd3786"
             ],
             [
              0.5555555555555556,
              "#d8576b"
             ],
             [
              0.6666666666666666,
              "#ed7953"
             ],
             [
              0.7777777777777778,
              "#fb9f3a"
             ],
             [
              0.8888888888888888,
              "#fdca26"
             ],
             [
              1,
              "#f0f921"
             ]
            ],
            "type": "heatmap"
           }
          ],
          "heatmapgl": [
           {
            "colorbar": {
             "outlinewidth": 0,
             "ticks": ""
            },
            "colorscale": [
             [
              0,
              "#0d0887"
             ],
             [
              0.1111111111111111,
              "#46039f"
             ],
             [
              0.2222222222222222,
              "#7201a8"
             ],
             [
              0.3333333333333333,
              "#9c179e"
             ],
             [
              0.4444444444444444,
              "#bd3786"
             ],
             [
              0.5555555555555556,
              "#d8576b"
             ],
             [
              0.6666666666666666,
              "#ed7953"
             ],
             [
              0.7777777777777778,
              "#fb9f3a"
             ],
             [
              0.8888888888888888,
              "#fdca26"
             ],
             [
              1,
              "#f0f921"
             ]
            ],
            "type": "heatmapgl"
           }
          ],
          "histogram": [
           {
            "marker": {
             "pattern": {
              "fillmode": "overlay",
              "size": 10,
              "solidity": 0.2
             }
            },
            "type": "histogram"
           }
          ],
          "histogram2d": [
           {
            "colorbar": {
             "outlinewidth": 0,
             "ticks": ""
            },
            "colorscale": [
             [
              0,
              "#0d0887"
             ],
             [
              0.1111111111111111,
              "#46039f"
             ],
             [
              0.2222222222222222,
              "#7201a8"
             ],
             [
              0.3333333333333333,
              "#9c179e"
             ],
             [
              0.4444444444444444,
              "#bd3786"
             ],
             [
              0.5555555555555556,
              "#d8576b"
             ],
             [
              0.6666666666666666,
              "#ed7953"
             ],
             [
              0.7777777777777778,
              "#fb9f3a"
             ],
             [
              0.8888888888888888,
              "#fdca26"
             ],
             [
              1,
              "#f0f921"
             ]
            ],
            "type": "histogram2d"
           }
          ],
          "histogram2dcontour": [
           {
            "colorbar": {
             "outlinewidth": 0,
             "ticks": ""
            },
            "colorscale": [
             [
              0,
              "#0d0887"
             ],
             [
              0.1111111111111111,
              "#46039f"
             ],
             [
              0.2222222222222222,
              "#7201a8"
             ],
             [
              0.3333333333333333,
              "#9c179e"
             ],
             [
              0.4444444444444444,
              "#bd3786"
             ],
             [
              0.5555555555555556,
              "#d8576b"
             ],
             [
              0.6666666666666666,
              "#ed7953"
             ],
             [
              0.7777777777777778,
              "#fb9f3a"
             ],
             [
              0.8888888888888888,
              "#fdca26"
             ],
             [
              1,
              "#f0f921"
             ]
            ],
            "type": "histogram2dcontour"
           }
          ],
          "mesh3d": [
           {
            "colorbar": {
             "outlinewidth": 0,
             "ticks": ""
            },
            "type": "mesh3d"
           }
          ],
          "parcoords": [
           {
            "line": {
             "colorbar": {
              "outlinewidth": 0,
              "ticks": ""
             }
            },
            "type": "parcoords"
           }
          ],
          "pie": [
           {
            "automargin": true,
            "type": "pie"
           }
          ],
          "scatter": [
           {
            "fillpattern": {
             "fillmode": "overlay",
             "size": 10,
             "solidity": 0.2
            },
            "type": "scatter"
           }
          ],
          "scatter3d": [
           {
            "line": {
             "colorbar": {
              "outlinewidth": 0,
              "ticks": ""
             }
            },
            "marker": {
             "colorbar": {
              "outlinewidth": 0,
              "ticks": ""
             }
            },
            "type": "scatter3d"
           }
          ],
          "scattercarpet": [
           {
            "marker": {
             "colorbar": {
              "outlinewidth": 0,
              "ticks": ""
             }
            },
            "type": "scattercarpet"
           }
          ],
          "scattergeo": [
           {
            "marker": {
             "colorbar": {
              "outlinewidth": 0,
              "ticks": ""
             }
            },
            "type": "scattergeo"
           }
          ],
          "scattergl": [
           {
            "marker": {
             "colorbar": {
              "outlinewidth": 0,
              "ticks": ""
             }
            },
            "type": "scattergl"
           }
          ],
          "scattermapbox": [
           {
            "marker": {
             "colorbar": {
              "outlinewidth": 0,
              "ticks": ""
             }
            },
            "type": "scattermapbox"
           }
          ],
          "scatterpolar": [
           {
            "marker": {
             "colorbar": {
              "outlinewidth": 0,
              "ticks": ""
             }
            },
            "type": "scatterpolar"
           }
          ],
          "scatterpolargl": [
           {
            "marker": {
             "colorbar": {
              "outlinewidth": 0,
              "ticks": ""
             }
            },
            "type": "scatterpolargl"
           }
          ],
          "scatterternary": [
           {
            "marker": {
             "colorbar": {
              "outlinewidth": 0,
              "ticks": ""
             }
            },
            "type": "scatterternary"
           }
          ],
          "surface": [
           {
            "colorbar": {
             "outlinewidth": 0,
             "ticks": ""
            },
            "colorscale": [
             [
              0,
              "#0d0887"
             ],
             [
              0.1111111111111111,
              "#46039f"
             ],
             [
              0.2222222222222222,
              "#7201a8"
             ],
             [
              0.3333333333333333,
              "#9c179e"
             ],
             [
              0.4444444444444444,
              "#bd3786"
             ],
             [
              0.5555555555555556,
              "#d8576b"
             ],
             [
              0.6666666666666666,
              "#ed7953"
             ],
             [
              0.7777777777777778,
              "#fb9f3a"
             ],
             [
              0.8888888888888888,
              "#fdca26"
             ],
             [
              1,
              "#f0f921"
             ]
            ],
            "type": "surface"
           }
          ],
          "table": [
           {
            "cells": {
             "fill": {
              "color": "#EBF0F8"
             },
             "line": {
              "color": "white"
             }
            },
            "header": {
             "fill": {
              "color": "#C8D4E3"
             },
             "line": {
              "color": "white"
             }
            },
            "type": "table"
           }
          ]
         },
         "layout": {
          "annotationdefaults": {
           "arrowcolor": "#2a3f5f",
           "arrowhead": 0,
           "arrowwidth": 1
          },
          "autotypenumbers": "strict",
          "coloraxis": {
           "colorbar": {
            "outlinewidth": 0,
            "ticks": ""
           }
          },
          "colorscale": {
           "diverging": [
            [
             0,
             "#8e0152"
            ],
            [
             0.1,
             "#c51b7d"
            ],
            [
             0.2,
             "#de77ae"
            ],
            [
             0.3,
             "#f1b6da"
            ],
            [
             0.4,
             "#fde0ef"
            ],
            [
             0.5,
             "#f7f7f7"
            ],
            [
             0.6,
             "#e6f5d0"
            ],
            [
             0.7,
             "#b8e186"
            ],
            [
             0.8,
             "#7fbc41"
            ],
            [
             0.9,
             "#4d9221"
            ],
            [
             1,
             "#276419"
            ]
           ],
           "sequential": [
            [
             0,
             "#0d0887"
            ],
            [
             0.1111111111111111,
             "#46039f"
            ],
            [
             0.2222222222222222,
             "#7201a8"
            ],
            [
             0.3333333333333333,
             "#9c179e"
            ],
            [
             0.4444444444444444,
             "#bd3786"
            ],
            [
             0.5555555555555556,
             "#d8576b"
            ],
            [
             0.6666666666666666,
             "#ed7953"
            ],
            [
             0.7777777777777778,
             "#fb9f3a"
            ],
            [
             0.8888888888888888,
             "#fdca26"
            ],
            [
             1,
             "#f0f921"
            ]
           ],
           "sequentialminus": [
            [
             0,
             "#0d0887"
            ],
            [
             0.1111111111111111,
             "#46039f"
            ],
            [
             0.2222222222222222,
             "#7201a8"
            ],
            [
             0.3333333333333333,
             "#9c179e"
            ],
            [
             0.4444444444444444,
             "#bd3786"
            ],
            [
             0.5555555555555556,
             "#d8576b"
            ],
            [
             0.6666666666666666,
             "#ed7953"
            ],
            [
             0.7777777777777778,
             "#fb9f3a"
            ],
            [
             0.8888888888888888,
             "#fdca26"
            ],
            [
             1,
             "#f0f921"
            ]
           ]
          },
          "colorway": [
           "#636efa",
           "#EF553B",
           "#00cc96",
           "#ab63fa",
           "#FFA15A",
           "#19d3f3",
           "#FF6692",
           "#B6E880",
           "#FF97FF",
           "#FECB52"
          ],
          "font": {
           "color": "#2a3f5f"
          },
          "geo": {
           "bgcolor": "white",
           "lakecolor": "white",
           "landcolor": "#E5ECF6",
           "showlakes": true,
           "showland": true,
           "subunitcolor": "white"
          },
          "hoverlabel": {
           "align": "left"
          },
          "hovermode": "closest",
          "mapbox": {
           "style": "light"
          },
          "paper_bgcolor": "white",
          "plot_bgcolor": "#E5ECF6",
          "polar": {
           "angularaxis": {
            "gridcolor": "white",
            "linecolor": "white",
            "ticks": ""
           },
           "bgcolor": "#E5ECF6",
           "radialaxis": {
            "gridcolor": "white",
            "linecolor": "white",
            "ticks": ""
           }
          },
          "scene": {
           "xaxis": {
            "backgroundcolor": "#E5ECF6",
            "gridcolor": "white",
            "gridwidth": 2,
            "linecolor": "white",
            "showbackground": true,
            "ticks": "",
            "zerolinecolor": "white"
           },
           "yaxis": {
            "backgroundcolor": "#E5ECF6",
            "gridcolor": "white",
            "gridwidth": 2,
            "linecolor": "white",
            "showbackground": true,
            "ticks": "",
            "zerolinecolor": "white"
           },
           "zaxis": {
            "backgroundcolor": "#E5ECF6",
            "gridcolor": "white",
            "gridwidth": 2,
            "linecolor": "white",
            "showbackground": true,
            "ticks": "",
            "zerolinecolor": "white"
           }
          },
          "shapedefaults": {
           "line": {
            "color": "#2a3f5f"
           }
          },
          "ternary": {
           "aaxis": {
            "gridcolor": "white",
            "linecolor": "white",
            "ticks": ""
           },
           "baxis": {
            "gridcolor": "white",
            "linecolor": "white",
            "ticks": ""
           },
           "bgcolor": "#E5ECF6",
           "caxis": {
            "gridcolor": "white",
            "linecolor": "white",
            "ticks": ""
           }
          },
          "title": {
           "x": 0.05
          },
          "xaxis": {
           "automargin": true,
           "gridcolor": "white",
           "linecolor": "white",
           "ticks": "",
           "title": {
            "standoff": 15
           },
           "zerolinecolor": "white",
           "zerolinewidth": 2
          },
          "yaxis": {
           "automargin": true,
           "gridcolor": "white",
           "linecolor": "white",
           "ticks": "",
           "title": {
            "standoff": 15
           },
           "zerolinecolor": "white",
           "zerolinewidth": 2
          }
         }
        },
        "updatemenus": [
         {
          "buttons": [
           {
            "args": [
             null,
             {
              "frame": {
               "duration": 285.7142857142857,
               "redraw": true
              },
              "fromcurrent": true,
              "transition": {
               "duration": 0
              }
             }
            ],
            "label": "Play",
            "method": "animate"
           },
           {
            "args": [
             [
              null
             ],
             {
              "frame": {
               "duration": 0,
               "redraw": true
              },
              "mode": "immediate",
              "transition": {
               "duration": 0
              }
             }
            ],
            "label": "Stop",
            "method": "animate"
           }
          ],
          "direction": "left",
          "pad": {
           "r": 10,
           "t": 75
          },
          "showactive": true,
          "type": "buttons",
          "x": 0.1,
          "xanchor": "right",
          "y": 0,
          "yanchor": "top"
         }
        ],
        "xaxis": {
         "range": [
          -0.9859862180133669,
          20.705710578280705
         ],
         "title": {
          "text": "<i>x</i>"
         }
        },
        "yaxis": {
         "range": [
          -2.4033479344723037,
          50.470306623918376
         ],
         "title": {
          "text": "<i>y</i>"
         }
        }
       }
      }
     },
     "metadata": {},
     "output_type": "display_data"
    }
   ],
   "source": [
    "from stonesoup.plotter import AnimatedPlotterly\n",
    "plotter = AnimatedPlotterly(timesteps, tail_length=0.3)\n",
    "plotter.plot_ground_truths(truth, [0, 2])\n",
    "plotter.fig"
   ]
  },
  {
   "cell_type": "markdown",
   "metadata": {},
   "source": [
    "### Simulate the measurement"
   ]
  },
  {
   "cell_type": "code",
   "execution_count": 5,
   "metadata": {},
   "outputs": [
    {
     "data": {
      "application/vnd.plotly.v1+json": {
       "config": {
        "plotlyServerURL": "https://plot.ly"
       },
       "data": [
        {
         "hoverinfo": "none",
         "legendgroup": "Ground Truth",
         "legendrank": 100,
         "line": {
          "color": "#EF553B",
          "dash": "dash"
         },
         "mode": "lines",
         "name": "Ground Truth",
         "showlegend": true,
         "type": "scatter",
         "x": [],
         "y": []
        },
        {
         "hoverinfo": "none",
         "legendgroup": "Ground Truth",
         "legendrank": 100,
         "line": {
          "color": "#EF553B",
          "dash": "dash"
         },
         "mode": "lines",
         "name": "Ground Truth",
         "showlegend": false,
         "type": "scatter",
         "x": [],
         "y": []
        },
        {
         "hoverinfo": "none",
         "legendgroup": "Measurements",
         "legendrank": 200,
         "marker": {
          "color": "#636EFA"
         },
         "mode": "markers",
         "name": "Measurements",
         "showlegend": true,
         "type": "scatter",
         "x": [],
         "y": []
        },
        {
         "hoverinfo": "none",
         "legendgroup": "Measurements",
         "legendrank": 200,
         "marker": {
          "color": "#636EFA"
         },
         "mode": "markers",
         "name": "Measurements",
         "showlegend": false,
         "type": "scatter",
         "x": [],
         "y": []
        }
       ],
       "frames": [
        {
         "data": [
          {
           "type": "scatter",
           "x": [
            0,
            0
           ],
           "y": [
            0,
            0
           ]
          },
          {
           "hovertemplate": "GroundTruthState<br>(%{x}, %{y})<br>Time: %{meta}",
           "meta": [
            "2024-10-24 11:56:34"
           ],
           "type": "scatter",
           "x": [
            0,
            null
           ],
           "y": [
            0,
            null
           ]
          },
          {
           "type": "scatter",
           "x": [
            null,
            null
           ],
           "y": [
            null,
            null
           ]
          },
          {
           "hovertemplate": "Detection<br>(%{x}, %{y})<br>Time: %{meta}",
           "meta": [
            "2024-10-24 11:56:34"
           ],
           "type": "scatter",
           "x": [
            2.221819350783221,
            null
           ],
           "y": [
            -0.9499062386905731,
            null
           ]
          }
         ],
         "name": "2024-10-24 11:56:34",
         "traces": [
          0,
          1,
          2,
          3
         ]
        },
        {
         "data": [
          {
           "type": "scatter",
           "x": [
            0,
            0
           ],
           "y": [
            0,
            0
           ]
          },
          {
           "hovertemplate": "GroundTruthState<br>(%{x}, %{y})<br>Time: %{meta}",
           "meta": [
            "2024-10-24 11:56:34",
            "2024-10-24 11:56:35"
           ],
           "type": "scatter",
           "x": [
            0,
            1.177223465328352,
            null
           ],
           "y": [
            0,
            1.0006757513847795,
            null
           ]
          },
          {
           "type": "scatter",
           "x": [
            null,
            null
           ],
           "y": [
            null,
            null
           ]
          },
          {
           "hovertemplate": "Detection<br>(%{x}, %{y})<br>Time: %{meta}",
           "meta": [
            "2024-10-24 11:56:34",
            "2024-10-24 11:56:35"
           ],
           "type": "scatter",
           "x": [
            2.221819350783221,
            1.549042106302693,
            null
           ],
           "y": [
            -0.9499062386905731,
            -2.188124288687379,
            null
           ]
          }
         ],
         "name": "2024-10-24 11:56:35",
         "traces": [
          0,
          1,
          2,
          3
         ]
        },
        {
         "data": [
          {
           "type": "scatter",
           "x": [
            0,
            0
           ],
           "y": [
            0,
            0
           ]
          },
          {
           "hovertemplate": "GroundTruthState<br>(%{x}, %{y})<br>Time: %{meta}",
           "meta": [
            "2024-10-24 11:56:34",
            "2024-10-24 11:56:35",
            "2024-10-24 11:56:36"
           ],
           "type": "scatter",
           "x": [
            0,
            1.177223465328352,
            2.275462874700381,
            null
           ],
           "y": [
            0,
            1.0006757513847795,
            2.0307275520116606,
            null
           ]
          },
          {
           "type": "scatter",
           "x": [
            null,
            null
           ],
           "y": [
            null,
            null
           ]
          },
          {
           "hovertemplate": "Detection<br>(%{x}, %{y})<br>Time: %{meta}",
           "meta": [
            "2024-10-24 11:56:34",
            "2024-10-24 11:56:35",
            "2024-10-24 11:56:36"
           ],
           "type": "scatter",
           "x": [
            2.221819350783221,
            1.549042106302693,
            4.1185639808006655,
            null
           ],
           "y": [
            -0.9499062386905731,
            -2.188124288687379,
            11.127224359918513,
            null
           ]
          }
         ],
         "name": "2024-10-24 11:56:36",
         "traces": [
          0,
          1,
          2,
          3
         ]
        },
        {
         "data": [
          {
           "type": "scatter",
           "x": [
            0,
            0
           ],
           "y": [
            0,
            0
           ]
          },
          {
           "hovertemplate": "GroundTruthState<br>(%{x}, %{y})<br>Time: %{meta}",
           "meta": [
            "2024-10-24 11:56:34",
            "2024-10-24 11:56:35",
            "2024-10-24 11:56:36",
            "2024-10-24 11:56:37"
           ],
           "type": "scatter",
           "x": [
            0,
            1.177223465328352,
            2.275462874700381,
            3.1560399703547968,
            null
           ],
           "y": [
            0,
            1.0006757513847795,
            2.0307275520116606,
            3.2076890985336823,
            null
           ]
          },
          {
           "type": "scatter",
           "x": [
            null,
            null
           ],
           "y": [
            null,
            null
           ]
          },
          {
           "hovertemplate": "Detection<br>(%{x}, %{y})<br>Time: %{meta}",
           "meta": [
            "2024-10-24 11:56:34",
            "2024-10-24 11:56:35",
            "2024-10-24 11:56:36",
            "2024-10-24 11:56:37"
           ],
           "type": "scatter",
           "x": [
            2.221819350783221,
            1.549042106302693,
            4.1185639808006655,
            4.534156951991264,
            null
           ],
           "y": [
            -0.9499062386905731,
            -2.188124288687379,
            11.127224359918513,
            4.770342745174409,
            null
           ]
          }
         ],
         "name": "2024-10-24 11:56:37",
         "traces": [
          0,
          1,
          2,
          3
         ]
        },
        {
         "data": [
          {
           "type": "scatter",
           "x": [
            0,
            0
           ],
           "y": [
            0,
            0
           ]
          },
          {
           "hovertemplate": "GroundTruthState<br>(%{x}, %{y})<br>Time: %{meta}",
           "meta": [
            "2024-10-24 11:56:34",
            "2024-10-24 11:56:35",
            "2024-10-24 11:56:36",
            "2024-10-24 11:56:37",
            "2024-10-24 11:56:38"
           ],
           "type": "scatter",
           "x": [
            0,
            1.177223465328352,
            2.275462874700381,
            3.1560399703547968,
            4.111484568780832,
            null
           ],
           "y": [
            0,
            1.0006757513847795,
            2.0307275520116606,
            3.2076890985336823,
            4.681546580969336,
            null
           ]
          },
          {
           "type": "scatter",
           "x": [
            null,
            null
           ],
           "y": [
            null,
            null
           ]
          },
          {
           "hovertemplate": "Detection<br>(%{x}, %{y})<br>Time: %{meta}",
           "meta": [
            "2024-10-24 11:56:34",
            "2024-10-24 11:56:35",
            "2024-10-24 11:56:36",
            "2024-10-24 11:56:37",
            "2024-10-24 11:56:38"
           ],
           "type": "scatter",
           "x": [
            2.221819350783221,
            1.549042106302693,
            4.1185639808006655,
            4.534156951991264,
            4.473015456288891,
            null
           ],
           "y": [
            -0.9499062386905731,
            -2.188124288687379,
            11.127224359918513,
            4.770342745174409,
            4.421986485240061,
            null
           ]
          }
         ],
         "name": "2024-10-24 11:56:38",
         "traces": [
          0,
          1,
          2,
          3
         ]
        },
        {
         "data": [
          {
           "type": "scatter",
           "x": [
            0,
            0
           ],
           "y": [
            0,
            0
           ]
          },
          {
           "hovertemplate": "GroundTruthState<br>(%{x}, %{y})<br>Time: %{meta}",
           "meta": [
            "2024-10-24 11:56:34",
            "2024-10-24 11:56:35",
            "2024-10-24 11:56:36",
            "2024-10-24 11:56:37",
            "2024-10-24 11:56:38",
            "2024-10-24 11:56:39"
           ],
           "type": "scatter",
           "x": [
            0,
            1.177223465328352,
            2.275462874700381,
            3.1560399703547968,
            4.111484568780832,
            5.068918699968233,
            null
           ],
           "y": [
            0,
            1.0006757513847795,
            2.0307275520116606,
            3.2076890985336823,
            4.681546580969336,
            6.424096316700446,
            null
           ]
          },
          {
           "type": "scatter",
           "x": [
            null,
            null
           ],
           "y": [
            null,
            null
           ]
          },
          {
           "hovertemplate": "Detection<br>(%{x}, %{y})<br>Time: %{meta}",
           "meta": [
            "2024-10-24 11:56:34",
            "2024-10-24 11:56:35",
            "2024-10-24 11:56:36",
            "2024-10-24 11:56:37",
            "2024-10-24 11:56:38",
            "2024-10-24 11:56:39"
           ],
           "type": "scatter",
           "x": [
            2.221819350783221,
            1.549042106302693,
            4.1185639808006655,
            4.534156951991264,
            4.473015456288891,
            5.832101951594851,
            null
           ],
           "y": [
            -0.9499062386905731,
            -2.188124288687379,
            11.127224359918513,
            4.770342745174409,
            4.421986485240061,
            9.132252939840118,
            null
           ]
          }
         ],
         "name": "2024-10-24 11:56:39",
         "traces": [
          0,
          1,
          2,
          3
         ]
        },
        {
         "data": [
          {
           "type": "scatter",
           "x": [
            0,
            0
           ],
           "y": [
            0,
            0
           ]
          },
          {
           "hovertemplate": "GroundTruthState<br>(%{x}, %{y})<br>Time: %{meta}",
           "meta": [
            "2024-10-24 11:56:34",
            "2024-10-24 11:56:35",
            "2024-10-24 11:56:36",
            "2024-10-24 11:56:37",
            "2024-10-24 11:56:38",
            "2024-10-24 11:56:39",
            "2024-10-24 11:56:40"
           ],
           "type": "scatter",
           "x": [
            0,
            1.177223465328352,
            2.275462874700381,
            3.1560399703547968,
            4.111484568780832,
            5.068918699968233,
            6.134103970132443,
            null
           ],
           "y": [
            0,
            1.0006757513847795,
            2.0307275520116606,
            3.2076890985336823,
            4.681546580969336,
            6.424096316700446,
            8.291557310607626,
            null
           ]
          },
          {
           "type": "scatter",
           "x": [
            null,
            null
           ],
           "y": [
            null,
            null
           ]
          },
          {
           "hovertemplate": "Detection<br>(%{x}, %{y})<br>Time: %{meta}",
           "meta": [
            "2024-10-24 11:56:34",
            "2024-10-24 11:56:35",
            "2024-10-24 11:56:36",
            "2024-10-24 11:56:37",
            "2024-10-24 11:56:38",
            "2024-10-24 11:56:39",
            "2024-10-24 11:56:40"
           ],
           "type": "scatter",
           "x": [
            2.221819350783221,
            1.549042106302693,
            4.1185639808006655,
            4.534156951991264,
            4.473015456288891,
            5.832101951594851,
            4.671810836553469,
            null
           ],
           "y": [
            -0.9499062386905731,
            -2.188124288687379,
            11.127224359918513,
            4.770342745174409,
            4.421986485240061,
            9.132252939840118,
            9.016148199021414,
            null
           ]
          }
         ],
         "name": "2024-10-24 11:56:40",
         "traces": [
          0,
          1,
          2,
          3
         ]
        },
        {
         "data": [
          {
           "type": "scatter",
           "x": [
            0,
            0
           ],
           "y": [
            0,
            0
           ]
          },
          {
           "hovertemplate": "GroundTruthState<br>(%{x}, %{y})<br>Time: %{meta}",
           "meta": [
            "2024-10-24 11:56:35",
            "2024-10-24 11:56:36",
            "2024-10-24 11:56:37",
            "2024-10-24 11:56:38",
            "2024-10-24 11:56:39",
            "2024-10-24 11:56:40",
            "2024-10-24 11:56:41"
           ],
           "type": "scatter",
           "x": [
            1.177223465328352,
            2.275462874700381,
            3.1560399703547968,
            4.111484568780832,
            5.068918699968233,
            6.134103970132443,
            7.336661592351442,
            null
           ],
           "y": [
            1.0006757513847795,
            2.0307275520116606,
            3.2076890985336823,
            4.681546580969336,
            6.424096316700446,
            8.291557310607626,
            10.210133065599429,
            null
           ]
          },
          {
           "type": "scatter",
           "x": [
            null,
            null
           ],
           "y": [
            null,
            null
           ]
          },
          {
           "hovertemplate": "Detection<br>(%{x}, %{y})<br>Time: %{meta}",
           "meta": [
            "2024-10-24 11:56:35",
            "2024-10-24 11:56:36",
            "2024-10-24 11:56:37",
            "2024-10-24 11:56:38",
            "2024-10-24 11:56:39",
            "2024-10-24 11:56:40",
            "2024-10-24 11:56:41"
           ],
           "type": "scatter",
           "x": [
            1.549042106302693,
            4.1185639808006655,
            4.534156951991264,
            4.473015456288891,
            5.832101951594851,
            4.671810836553469,
            6.911778516695591,
            null
           ],
           "y": [
            -2.188124288687379,
            11.127224359918513,
            4.770342745174409,
            4.421986485240061,
            9.132252939840118,
            9.016148199021414,
            6.676642845595845,
            null
           ]
          }
         ],
         "name": "2024-10-24 11:56:41",
         "traces": [
          0,
          1,
          2,
          3
         ]
        },
        {
         "data": [
          {
           "type": "scatter",
           "x": [
            0,
            0
           ],
           "y": [
            0,
            0
           ]
          },
          {
           "hovertemplate": "GroundTruthState<br>(%{x}, %{y})<br>Time: %{meta}",
           "meta": [
            "2024-10-24 11:56:36",
            "2024-10-24 11:56:37",
            "2024-10-24 11:56:38",
            "2024-10-24 11:56:39",
            "2024-10-24 11:56:40",
            "2024-10-24 11:56:41",
            "2024-10-24 11:56:42"
           ],
           "type": "scatter",
           "x": [
            2.275462874700381,
            3.1560399703547968,
            4.111484568780832,
            5.068918699968233,
            6.134103970132443,
            7.336661592351442,
            8.708739774094603,
            null
           ],
           "y": [
            2.0307275520116606,
            3.2076890985336823,
            4.681546580969336,
            6.424096316700446,
            8.291557310607626,
            10.210133065599429,
            12.639171131337447,
            null
           ]
          },
          {
           "type": "scatter",
           "x": [
            null,
            null
           ],
           "y": [
            null,
            null
           ]
          },
          {
           "hovertemplate": "Detection<br>(%{x}, %{y})<br>Time: %{meta}",
           "meta": [
            "2024-10-24 11:56:36",
            "2024-10-24 11:56:37",
            "2024-10-24 11:56:38",
            "2024-10-24 11:56:39",
            "2024-10-24 11:56:40",
            "2024-10-24 11:56:41",
            "2024-10-24 11:56:42"
           ],
           "type": "scatter",
           "x": [
            4.1185639808006655,
            4.534156951991264,
            4.473015456288891,
            5.832101951594851,
            4.671810836553469,
            6.911778516695591,
            9.91607756750875,
            null
           ],
           "y": [
            11.127224359918513,
            4.770342745174409,
            4.421986485240061,
            9.132252939840118,
            9.016148199021414,
            6.676642845595845,
            13.098478086148486,
            null
           ]
          }
         ],
         "name": "2024-10-24 11:56:42",
         "traces": [
          0,
          1,
          2,
          3
         ]
        },
        {
         "data": [
          {
           "type": "scatter",
           "x": [
            0,
            0
           ],
           "y": [
            0,
            0
           ]
          },
          {
           "hovertemplate": "GroundTruthState<br>(%{x}, %{y})<br>Time: %{meta}",
           "meta": [
            "2024-10-24 11:56:37",
            "2024-10-24 11:56:38",
            "2024-10-24 11:56:39",
            "2024-10-24 11:56:40",
            "2024-10-24 11:56:41",
            "2024-10-24 11:56:42",
            "2024-10-24 11:56:43"
           ],
           "type": "scatter",
           "x": [
            3.1560399703547968,
            4.111484568780832,
            5.068918699968233,
            6.134103970132443,
            7.336661592351442,
            8.708739774094603,
            9.661668970928952,
            null
           ],
           "y": [
            3.2076890985336823,
            4.681546580969336,
            6.424096316700446,
            8.291557310607626,
            10.210133065599429,
            12.639171131337447,
            15.077240437037124,
            null
           ]
          },
          {
           "type": "scatter",
           "x": [
            null,
            null
           ],
           "y": [
            null,
            null
           ]
          },
          {
           "hovertemplate": "Detection<br>(%{x}, %{y})<br>Time: %{meta}",
           "meta": [
            "2024-10-24 11:56:37",
            "2024-10-24 11:56:38",
            "2024-10-24 11:56:39",
            "2024-10-24 11:56:40",
            "2024-10-24 11:56:41",
            "2024-10-24 11:56:42",
            "2024-10-24 11:56:43"
           ],
           "type": "scatter",
           "x": [
            4.534156951991264,
            4.473015456288891,
            5.832101951594851,
            4.671810836553469,
            6.911778516695591,
            9.91607756750875,
            13.220645587904379,
            null
           ],
           "y": [
            4.770342745174409,
            4.421986485240061,
            9.132252939840118,
            9.016148199021414,
            6.676642845595845,
            13.098478086148486,
            19.91019957588045,
            null
           ]
          }
         ],
         "name": "2024-10-24 11:56:43",
         "traces": [
          0,
          1,
          2,
          3
         ]
        },
        {
         "data": [
          {
           "type": "scatter",
           "x": [
            0,
            0
           ],
           "y": [
            0,
            0
           ]
          },
          {
           "hovertemplate": "GroundTruthState<br>(%{x}, %{y})<br>Time: %{meta}",
           "meta": [
            "2024-10-24 11:56:38",
            "2024-10-24 11:56:39",
            "2024-10-24 11:56:40",
            "2024-10-24 11:56:41",
            "2024-10-24 11:56:42",
            "2024-10-24 11:56:43",
            "2024-10-24 11:56:44"
           ],
           "type": "scatter",
           "x": [
            4.111484568780832,
            5.068918699968233,
            6.134103970132443,
            7.336661592351442,
            8.708739774094603,
            9.661668970928952,
            10.289427281808946,
            null
           ],
           "y": [
            4.681546580969336,
            6.424096316700446,
            8.291557310607626,
            10.210133065599429,
            12.639171131337447,
            15.077240437037124,
            17.463880393414996,
            null
           ]
          },
          {
           "type": "scatter",
           "x": [
            null,
            null
           ],
           "y": [
            null,
            null
           ]
          },
          {
           "hovertemplate": "Detection<br>(%{x}, %{y})<br>Time: %{meta}",
           "meta": [
            "2024-10-24 11:56:38",
            "2024-10-24 11:56:39",
            "2024-10-24 11:56:40",
            "2024-10-24 11:56:41",
            "2024-10-24 11:56:42",
            "2024-10-24 11:56:43",
            "2024-10-24 11:56:44"
           ],
           "type": "scatter",
           "x": [
            4.473015456288891,
            5.832101951594851,
            4.671810836553469,
            6.911778516695591,
            9.91607756750875,
            13.220645587904379,
            9.849936778112081,
            null
           ],
           "y": [
            4.421986485240061,
            9.132252939840118,
            9.016148199021414,
            6.676642845595845,
            13.098478086148486,
            19.91019957588045,
            16.496589458288486,
            null
           ]
          }
         ],
         "name": "2024-10-24 11:56:44",
         "traces": [
          0,
          1,
          2,
          3
         ]
        },
        {
         "data": [
          {
           "type": "scatter",
           "x": [
            0,
            0
           ],
           "y": [
            0,
            0
           ]
          },
          {
           "hovertemplate": "GroundTruthState<br>(%{x}, %{y})<br>Time: %{meta}",
           "meta": [
            "2024-10-24 11:56:39",
            "2024-10-24 11:56:40",
            "2024-10-24 11:56:41",
            "2024-10-24 11:56:42",
            "2024-10-24 11:56:43",
            "2024-10-24 11:56:44",
            "2024-10-24 11:56:45"
           ],
           "type": "scatter",
           "x": [
            5.068918699968233,
            6.134103970132443,
            7.336661592351442,
            8.708739774094603,
            9.661668970928952,
            10.289427281808946,
            10.90851617793013,
            null
           ],
           "y": [
            6.424096316700446,
            8.291557310607626,
            10.210133065599429,
            12.639171131337447,
            15.077240437037124,
            17.463880393414996,
            19.922987588268054,
            null
           ]
          },
          {
           "type": "scatter",
           "x": [
            null,
            null
           ],
           "y": [
            null,
            null
           ]
          },
          {
           "hovertemplate": "Detection<br>(%{x}, %{y})<br>Time: %{meta}",
           "meta": [
            "2024-10-24 11:56:39",
            "2024-10-24 11:56:40",
            "2024-10-24 11:56:41",
            "2024-10-24 11:56:42",
            "2024-10-24 11:56:43",
            "2024-10-24 11:56:44",
            "2024-10-24 11:56:45"
           ],
           "type": "scatter",
           "x": [
            5.832101951594851,
            4.671810836553469,
            6.911778516695591,
            9.91607756750875,
            13.220645587904379,
            9.849936778112081,
            11.551415784923044,
            null
           ],
           "y": [
            9.132252939840118,
            9.016148199021414,
            6.676642845595845,
            13.098478086148486,
            19.91019957588045,
            16.496589458288486,
            20.2252725135359,
            null
           ]
          }
         ],
         "name": "2024-10-24 11:56:45",
         "traces": [
          0,
          1,
          2,
          3
         ]
        },
        {
         "data": [
          {
           "type": "scatter",
           "x": [
            0,
            0
           ],
           "y": [
            0,
            0
           ]
          },
          {
           "hovertemplate": "GroundTruthState<br>(%{x}, %{y})<br>Time: %{meta}",
           "meta": [
            "2024-10-24 11:56:40",
            "2024-10-24 11:56:41",
            "2024-10-24 11:56:42",
            "2024-10-24 11:56:43",
            "2024-10-24 11:56:44",
            "2024-10-24 11:56:45",
            "2024-10-24 11:56:46"
           ],
           "type": "scatter",
           "x": [
            6.134103970132443,
            7.336661592351442,
            8.708739774094603,
            9.661668970928952,
            10.289427281808946,
            10.90851617793013,
            11.43649485409589,
            null
           ],
           "y": [
            8.291557310607626,
            10.210133065599429,
            12.639171131337447,
            15.077240437037124,
            17.463880393414996,
            19.922987588268054,
            22.43523846129129,
            null
           ]
          },
          {
           "type": "scatter",
           "x": [
            null,
            null
           ],
           "y": [
            null,
            null
           ]
          },
          {
           "hovertemplate": "Detection<br>(%{x}, %{y})<br>Time: %{meta}",
           "meta": [
            "2024-10-24 11:56:40",
            "2024-10-24 11:56:41",
            "2024-10-24 11:56:42",
            "2024-10-24 11:56:43",
            "2024-10-24 11:56:44",
            "2024-10-24 11:56:45",
            "2024-10-24 11:56:46"
           ],
           "type": "scatter",
           "x": [
            4.671810836553469,
            6.911778516695591,
            9.91607756750875,
            13.220645587904379,
            9.849936778112081,
            11.551415784923044,
            13.495870684052178,
            null
           ],
           "y": [
            9.016148199021414,
            6.676642845595845,
            13.098478086148486,
            19.91019957588045,
            16.496589458288486,
            20.2252725135359,
            26.37557225257571,
            null
           ]
          }
         ],
         "name": "2024-10-24 11:56:46",
         "traces": [
          0,
          1,
          2,
          3
         ]
        },
        {
         "data": [
          {
           "type": "scatter",
           "x": [
            0,
            0
           ],
           "y": [
            0,
            0
           ]
          },
          {
           "hovertemplate": "GroundTruthState<br>(%{x}, %{y})<br>Time: %{meta}",
           "meta": [
            "2024-10-24 11:56:41",
            "2024-10-24 11:56:42",
            "2024-10-24 11:56:43",
            "2024-10-24 11:56:44",
            "2024-10-24 11:56:45",
            "2024-10-24 11:56:46",
            "2024-10-24 11:56:47"
           ],
           "type": "scatter",
           "x": [
            7.336661592351442,
            8.708739774094603,
            9.661668970928952,
            10.289427281808946,
            10.90851617793013,
            11.43649485409589,
            12.083757383111484,
            null
           ],
           "y": [
            10.210133065599429,
            12.639171131337447,
            15.077240437037124,
            17.463880393414996,
            19.922987588268054,
            22.43523846129129,
            25.226253707256983,
            null
           ]
          },
          {
           "type": "scatter",
           "x": [
            null,
            null
           ],
           "y": [
            null,
            null
           ]
          },
          {
           "hovertemplate": "Detection<br>(%{x}, %{y})<br>Time: %{meta}",
           "meta": [
            "2024-10-24 11:56:41",
            "2024-10-24 11:56:42",
            "2024-10-24 11:56:43",
            "2024-10-24 11:56:44",
            "2024-10-24 11:56:45",
            "2024-10-24 11:56:46",
            "2024-10-24 11:56:47"
           ],
           "type": "scatter",
           "x": [
            6.911778516695591,
            9.91607756750875,
            13.220645587904379,
            9.849936778112081,
            11.551415784923044,
            13.495870684052178,
            9.210581625879023,
            null
           ],
           "y": [
            6.676642845595845,
            13.098478086148486,
            19.91019957588045,
            16.496589458288486,
            20.2252725135359,
            26.37557225257571,
            20.926146862627856,
            null
           ]
          }
         ],
         "name": "2024-10-24 11:56:47",
         "traces": [
          0,
          1,
          2,
          3
         ]
        },
        {
         "data": [
          {
           "type": "scatter",
           "x": [
            0,
            0
           ],
           "y": [
            0,
            0
           ]
          },
          {
           "hovertemplate": "GroundTruthState<br>(%{x}, %{y})<br>Time: %{meta}",
           "meta": [
            "2024-10-24 11:56:42",
            "2024-10-24 11:56:43",
            "2024-10-24 11:56:44",
            "2024-10-24 11:56:45",
            "2024-10-24 11:56:46",
            "2024-10-24 11:56:47",
            "2024-10-24 11:56:48"
           ],
           "type": "scatter",
           "x": [
            8.708739774094603,
            9.661668970928952,
            10.289427281808946,
            10.90851617793013,
            11.43649485409589,
            12.083757383111484,
            12.857255540294034,
            null
           ],
           "y": [
            12.639171131337447,
            15.077240437037124,
            17.463880393414996,
            19.922987588268054,
            22.43523846129129,
            25.226253707256983,
            28.317087024384634,
            null
           ]
          },
          {
           "type": "scatter",
           "x": [
            null,
            null
           ],
           "y": [
            null,
            null
           ]
          },
          {
           "hovertemplate": "Detection<br>(%{x}, %{y})<br>Time: %{meta}",
           "meta": [
            "2024-10-24 11:56:42",
            "2024-10-24 11:56:43",
            "2024-10-24 11:56:44",
            "2024-10-24 11:56:45",
            "2024-10-24 11:56:46",
            "2024-10-24 11:56:47",
            "2024-10-24 11:56:48"
           ],
           "type": "scatter",
           "x": [
            9.91607756750875,
            13.220645587904379,
            9.849936778112081,
            11.551415784923044,
            13.495870684052178,
            9.210581625879023,
            14.826171916953918,
            null
           ],
           "y": [
            13.098478086148486,
            19.91019957588045,
            16.496589458288486,
            20.2252725135359,
            26.37557225257571,
            20.926146862627856,
            29.98172162643846,
            null
           ]
          }
         ],
         "name": "2024-10-24 11:56:48",
         "traces": [
          0,
          1,
          2,
          3
         ]
        },
        {
         "data": [
          {
           "type": "scatter",
           "x": [
            0,
            0
           ],
           "y": [
            0,
            0
           ]
          },
          {
           "hovertemplate": "GroundTruthState<br>(%{x}, %{y})<br>Time: %{meta}",
           "meta": [
            "2024-10-24 11:56:43",
            "2024-10-24 11:56:44",
            "2024-10-24 11:56:45",
            "2024-10-24 11:56:46",
            "2024-10-24 11:56:47",
            "2024-10-24 11:56:48",
            "2024-10-24 11:56:49"
           ],
           "type": "scatter",
           "x": [
            9.661668970928952,
            10.289427281808946,
            10.90851617793013,
            11.43649485409589,
            12.083757383111484,
            12.857255540294034,
            13.664009379110706,
            null
           ],
           "y": [
            15.077240437037124,
            17.463880393414996,
            19.922987588268054,
            22.43523846129129,
            25.226253707256983,
            28.317087024384634,
            31.653600280950233,
            null
           ]
          },
          {
           "type": "scatter",
           "x": [
            null,
            null
           ],
           "y": [
            null,
            null
           ]
          },
          {
           "hovertemplate": "Detection<br>(%{x}, %{y})<br>Time: %{meta}",
           "meta": [
            "2024-10-24 11:56:43",
            "2024-10-24 11:56:44",
            "2024-10-24 11:56:45",
            "2024-10-24 11:56:46",
            "2024-10-24 11:56:47",
            "2024-10-24 11:56:48",
            "2024-10-24 11:56:49"
           ],
           "type": "scatter",
           "x": [
            13.220645587904379,
            9.849936778112081,
            11.551415784923044,
            13.495870684052178,
            9.210581625879023,
            14.826171916953918,
            11.694085658745927,
            null
           ],
           "y": [
            19.91019957588045,
            16.496589458288486,
            20.2252725135359,
            26.37557225257571,
            20.926146862627856,
            29.98172162643846,
            27.230418264224387,
            null
           ]
          }
         ],
         "name": "2024-10-24 11:56:49",
         "traces": [
          0,
          1,
          2,
          3
         ]
        },
        {
         "data": [
          {
           "type": "scatter",
           "x": [
            0,
            0
           ],
           "y": [
            0,
            0
           ]
          },
          {
           "hovertemplate": "GroundTruthState<br>(%{x}, %{y})<br>Time: %{meta}",
           "meta": [
            "2024-10-24 11:56:44",
            "2024-10-24 11:56:45",
            "2024-10-24 11:56:46",
            "2024-10-24 11:56:47",
            "2024-10-24 11:56:48",
            "2024-10-24 11:56:49",
            "2024-10-24 11:56:50"
           ],
           "type": "scatter",
           "x": [
            10.289427281808946,
            10.90851617793013,
            11.43649485409589,
            12.083757383111484,
            12.857255540294034,
            13.664009379110706,
            14.66094199646186,
            null
           ],
           "y": [
            17.463880393414996,
            19.922987588268054,
            22.43523846129129,
            25.226253707256983,
            28.317087024384634,
            31.653600280950233,
            34.95982666405545,
            null
           ]
          },
          {
           "type": "scatter",
           "x": [
            null,
            null
           ],
           "y": [
            null,
            null
           ]
          },
          {
           "hovertemplate": "Detection<br>(%{x}, %{y})<br>Time: %{meta}",
           "meta": [
            "2024-10-24 11:56:44",
            "2024-10-24 11:56:45",
            "2024-10-24 11:56:46",
            "2024-10-24 11:56:47",
            "2024-10-24 11:56:48",
            "2024-10-24 11:56:49",
            "2024-10-24 11:56:50"
           ],
           "type": "scatter",
           "x": [
            9.849936778112081,
            11.551415784923044,
            13.495870684052178,
            9.210581625879023,
            14.826171916953918,
            11.694085658745927,
            16.034063908529554,
            null
           ],
           "y": [
            16.496589458288486,
            20.2252725135359,
            26.37557225257571,
            20.926146862627856,
            29.98172162643846,
            27.230418264224387,
            36.07693971814102,
            null
           ]
          }
         ],
         "name": "2024-10-24 11:56:50",
         "traces": [
          0,
          1,
          2,
          3
         ]
        },
        {
         "data": [
          {
           "type": "scatter",
           "x": [
            0,
            0
           ],
           "y": [
            0,
            0
           ]
          },
          {
           "hovertemplate": "GroundTruthState<br>(%{x}, %{y})<br>Time: %{meta}",
           "meta": [
            "2024-10-24 11:56:45",
            "2024-10-24 11:56:46",
            "2024-10-24 11:56:47",
            "2024-10-24 11:56:48",
            "2024-10-24 11:56:49",
            "2024-10-24 11:56:50",
            "2024-10-24 11:56:51"
           ],
           "type": "scatter",
           "x": [
            10.90851617793013,
            11.43649485409589,
            12.083757383111484,
            12.857255540294034,
            13.664009379110706,
            14.66094199646186,
            15.763691585187017,
            null
           ],
           "y": [
            19.922987588268054,
            22.43523846129129,
            25.226253707256983,
            28.317087024384634,
            31.653600280950233,
            34.95982666405545,
            38.32678424492485,
            null
           ]
          },
          {
           "type": "scatter",
           "x": [
            null,
            null
           ],
           "y": [
            null,
            null
           ]
          },
          {
           "hovertemplate": "Detection<br>(%{x}, %{y})<br>Time: %{meta}",
           "meta": [
            "2024-10-24 11:56:45",
            "2024-10-24 11:56:46",
            "2024-10-24 11:56:47",
            "2024-10-24 11:56:48",
            "2024-10-24 11:56:49",
            "2024-10-24 11:56:50",
            "2024-10-24 11:56:51"
           ],
           "type": "scatter",
           "x": [
            11.551415784923044,
            13.495870684052178,
            9.210581625879023,
            14.826171916953918,
            11.694085658745927,
            16.034063908529554,
            19.22262346395934,
            null
           ],
           "y": [
            20.2252725135359,
            26.37557225257571,
            20.926146862627856,
            29.98172162643846,
            27.230418264224387,
            36.07693971814102,
            39.61561849446898,
            null
           ]
          }
         ],
         "name": "2024-10-24 11:56:51",
         "traces": [
          0,
          1,
          2,
          3
         ]
        },
        {
         "data": [
          {
           "type": "scatter",
           "x": [
            0,
            0
           ],
           "y": [
            0,
            0
           ]
          },
          {
           "hovertemplate": "GroundTruthState<br>(%{x}, %{y})<br>Time: %{meta}",
           "meta": [
            "2024-10-24 11:56:46",
            "2024-10-24 11:56:47",
            "2024-10-24 11:56:48",
            "2024-10-24 11:56:49",
            "2024-10-24 11:56:50",
            "2024-10-24 11:56:51",
            "2024-10-24 11:56:52"
           ],
           "type": "scatter",
           "x": [
            11.43649485409589,
            12.083757383111484,
            12.857255540294034,
            13.664009379110706,
            14.66094199646186,
            15.763691585187017,
            16.994297584708757,
            null
           ],
           "y": [
            22.43523846129129,
            25.226253707256983,
            28.317087024384634,
            31.653600280950233,
            34.95982666405545,
            38.32678424492485,
            41.65059655664205,
            null
           ]
          },
          {
           "type": "scatter",
           "x": [
            null,
            null
           ],
           "y": [
            null,
            null
           ]
          },
          {
           "hovertemplate": "Detection<br>(%{x}, %{y})<br>Time: %{meta}",
           "meta": [
            "2024-10-24 11:56:46",
            "2024-10-24 11:56:47",
            "2024-10-24 11:56:48",
            "2024-10-24 11:56:49",
            "2024-10-24 11:56:50",
            "2024-10-24 11:56:51",
            "2024-10-24 11:56:52"
           ],
           "type": "scatter",
           "x": [
            13.495870684052178,
            9.210581625879023,
            14.826171916953918,
            11.694085658745927,
            16.034063908529554,
            19.22262346395934,
            17.806013715912904,
            null
           ],
           "y": [
            26.37557225257571,
            20.926146862627856,
            29.98172162643846,
            27.230418264224387,
            36.07693971814102,
            39.61561849446898,
            42.696316985016416,
            null
           ]
          }
         ],
         "name": "2024-10-24 11:56:52",
         "traces": [
          0,
          1,
          2,
          3
         ]
        },
        {
         "data": [
          {
           "type": "scatter",
           "x": [
            0,
            0
           ],
           "y": [
            0,
            0
           ]
          },
          {
           "hovertemplate": "GroundTruthState<br>(%{x}, %{y})<br>Time: %{meta}",
           "meta": [
            "2024-10-24 11:56:47",
            "2024-10-24 11:56:48",
            "2024-10-24 11:56:49",
            "2024-10-24 11:56:50",
            "2024-10-24 11:56:51",
            "2024-10-24 11:56:52",
            "2024-10-24 11:56:53"
           ],
           "type": "scatter",
           "x": [
            12.083757383111484,
            12.857255540294034,
            13.664009379110706,
            14.66094199646186,
            15.763691585187017,
            16.994297584708757,
            18.302114239501268,
            null
           ],
           "y": [
            25.226253707256983,
            28.317087024384634,
            31.653600280950233,
            34.95982666405545,
            38.32678424492485,
            41.65059655664205,
            44.94718306572588,
            null
           ]
          },
          {
           "type": "scatter",
           "x": [
            null,
            null
           ],
           "y": [
            null,
            null
           ]
          },
          {
           "hovertemplate": "Detection<br>(%{x}, %{y})<br>Time: %{meta}",
           "meta": [
            "2024-10-24 11:56:47",
            "2024-10-24 11:56:48",
            "2024-10-24 11:56:49",
            "2024-10-24 11:56:50",
            "2024-10-24 11:56:51",
            "2024-10-24 11:56:52",
            "2024-10-24 11:56:53"
           ],
           "type": "scatter",
           "x": [
            9.210581625879023,
            14.826171916953918,
            11.694085658745927,
            16.034063908529554,
            19.22262346395934,
            17.806013715912904,
            22.259832475318472,
            null
           ],
           "y": [
            20.926146862627856,
            29.98172162643846,
            27.230418264224387,
            36.07693971814102,
            39.61561849446898,
            42.696316985016416,
            45.97561544057756,
            null
           ]
          }
         ],
         "name": "2024-10-24 11:56:53",
         "traces": [
          0,
          1,
          2,
          3
         ]
        },
        {
         "data": [
          {
           "type": "scatter",
           "x": [
            0,
            0
           ],
           "y": [
            0,
            0
           ]
          },
          {
           "hovertemplate": "GroundTruthState<br>(%{x}, %{y})<br>Time: %{meta}",
           "meta": [
            "2024-10-24 11:56:48",
            "2024-10-24 11:56:49",
            "2024-10-24 11:56:50",
            "2024-10-24 11:56:51",
            "2024-10-24 11:56:52",
            "2024-10-24 11:56:53",
            "2024-10-24 11:56:54"
           ],
           "type": "scatter",
           "x": [
            12.857255540294034,
            13.664009379110706,
            14.66094199646186,
            15.763691585187017,
            16.994297584708757,
            18.302114239501268,
            19.71972436026734,
            null
           ],
           "y": [
            28.317087024384634,
            31.653600280950233,
            34.95982666405545,
            38.32678424492485,
            41.65059655664205,
            44.94718306572588,
            48.066958689446075,
            null
           ]
          },
          {
           "type": "scatter",
           "x": [
            null,
            null
           ],
           "y": [
            null,
            null
           ]
          },
          {
           "hovertemplate": "Detection<br>(%{x}, %{y})<br>Time: %{meta}",
           "meta": [
            "2024-10-24 11:56:48",
            "2024-10-24 11:56:49",
            "2024-10-24 11:56:50",
            "2024-10-24 11:56:51",
            "2024-10-24 11:56:52",
            "2024-10-24 11:56:53",
            "2024-10-24 11:56:54"
           ],
           "type": "scatter",
           "x": [
            14.826171916953918,
            11.694085658745927,
            16.034063908529554,
            19.22262346395934,
            17.806013715912904,
            22.259832475318472,
            25.395634186662065,
            null
           ],
           "y": [
            29.98172162643846,
            27.230418264224387,
            36.07693971814102,
            39.61561849446898,
            42.696316985016416,
            45.97561544057756,
            51.12448304412903,
            null
           ]
          }
         ],
         "name": "2024-10-24 11:56:54",
         "traces": [
          0,
          1,
          2,
          3
         ]
        }
       ],
       "layout": {
        "autosize": true,
        "colorway": [
         "#EF553B",
         "#00CC96",
         "#AB63FA",
         "#FFA15A",
         "#19D3F3",
         "#FF6692",
         "#B6E880",
         "#FF97FF",
         "#FECB52"
        ],
        "height": 550,
        "sliders": [
         {
          "currentvalue": {
           "font": {
            "size": 16
           },
           "prefix": "Time: ",
           "visible": true,
           "xanchor": "right"
          },
          "len": 0.9,
          "pad": {
           "b": 10,
           "t": 50
          },
          "steps": [
           {
            "args": [
             [
              "2024-10-24 11:56:34"
             ],
             {
              "frame": {
               "duration": 1,
               "easing": "linear",
               "redraw": true
              },
              "transition": {
               "duration": 0,
               "easing": "linear"
              }
             }
            ],
            "label": "11:56:34",
            "method": "animate"
           },
           {
            "args": [
             [
              "2024-10-24 11:56:35"
             ],
             {
              "frame": {
               "duration": 1,
               "easing": "linear",
               "redraw": true
              },
              "transition": {
               "duration": 0,
               "easing": "linear"
              }
             }
            ],
            "label": "11:56:35",
            "method": "animate"
           },
           {
            "args": [
             [
              "2024-10-24 11:56:36"
             ],
             {
              "frame": {
               "duration": 1,
               "easing": "linear",
               "redraw": true
              },
              "transition": {
               "duration": 0,
               "easing": "linear"
              }
             }
            ],
            "label": "11:56:36",
            "method": "animate"
           },
           {
            "args": [
             [
              "2024-10-24 11:56:37"
             ],
             {
              "frame": {
               "duration": 1,
               "easing": "linear",
               "redraw": true
              },
              "transition": {
               "duration": 0,
               "easing": "linear"
              }
             }
            ],
            "label": "11:56:37",
            "method": "animate"
           },
           {
            "args": [
             [
              "2024-10-24 11:56:38"
             ],
             {
              "frame": {
               "duration": 1,
               "easing": "linear",
               "redraw": true
              },
              "transition": {
               "duration": 0,
               "easing": "linear"
              }
             }
            ],
            "label": "11:56:38",
            "method": "animate"
           },
           {
            "args": [
             [
              "2024-10-24 11:56:39"
             ],
             {
              "frame": {
               "duration": 1,
               "easing": "linear",
               "redraw": true
              },
              "transition": {
               "duration": 0,
               "easing": "linear"
              }
             }
            ],
            "label": "11:56:39",
            "method": "animate"
           },
           {
            "args": [
             [
              "2024-10-24 11:56:40"
             ],
             {
              "frame": {
               "duration": 1,
               "easing": "linear",
               "redraw": true
              },
              "transition": {
               "duration": 0,
               "easing": "linear"
              }
             }
            ],
            "label": "11:56:40",
            "method": "animate"
           },
           {
            "args": [
             [
              "2024-10-24 11:56:41"
             ],
             {
              "frame": {
               "duration": 1,
               "easing": "linear",
               "redraw": true
              },
              "transition": {
               "duration": 0,
               "easing": "linear"
              }
             }
            ],
            "label": "11:56:41",
            "method": "animate"
           },
           {
            "args": [
             [
              "2024-10-24 11:56:42"
             ],
             {
              "frame": {
               "duration": 1,
               "easing": "linear",
               "redraw": true
              },
              "transition": {
               "duration": 0,
               "easing": "linear"
              }
             }
            ],
            "label": "11:56:42",
            "method": "animate"
           },
           {
            "args": [
             [
              "2024-10-24 11:56:43"
             ],
             {
              "frame": {
               "duration": 1,
               "easing": "linear",
               "redraw": true
              },
              "transition": {
               "duration": 0,
               "easing": "linear"
              }
             }
            ],
            "label": "11:56:43",
            "method": "animate"
           },
           {
            "args": [
             [
              "2024-10-24 11:56:44"
             ],
             {
              "frame": {
               "duration": 1,
               "easing": "linear",
               "redraw": true
              },
              "transition": {
               "duration": 0,
               "easing": "linear"
              }
             }
            ],
            "label": "11:56:44",
            "method": "animate"
           },
           {
            "args": [
             [
              "2024-10-24 11:56:45"
             ],
             {
              "frame": {
               "duration": 1,
               "easing": "linear",
               "redraw": true
              },
              "transition": {
               "duration": 0,
               "easing": "linear"
              }
             }
            ],
            "label": "11:56:45",
            "method": "animate"
           },
           {
            "args": [
             [
              "2024-10-24 11:56:46"
             ],
             {
              "frame": {
               "duration": 1,
               "easing": "linear",
               "redraw": true
              },
              "transition": {
               "duration": 0,
               "easing": "linear"
              }
             }
            ],
            "label": "11:56:46",
            "method": "animate"
           },
           {
            "args": [
             [
              "2024-10-24 11:56:47"
             ],
             {
              "frame": {
               "duration": 1,
               "easing": "linear",
               "redraw": true
              },
              "transition": {
               "duration": 0,
               "easing": "linear"
              }
             }
            ],
            "label": "11:56:47",
            "method": "animate"
           },
           {
            "args": [
             [
              "2024-10-24 11:56:48"
             ],
             {
              "frame": {
               "duration": 1,
               "easing": "linear",
               "redraw": true
              },
              "transition": {
               "duration": 0,
               "easing": "linear"
              }
             }
            ],
            "label": "11:56:48",
            "method": "animate"
           },
           {
            "args": [
             [
              "2024-10-24 11:56:49"
             ],
             {
              "frame": {
               "duration": 1,
               "easing": "linear",
               "redraw": true
              },
              "transition": {
               "duration": 0,
               "easing": "linear"
              }
             }
            ],
            "label": "11:56:49",
            "method": "animate"
           },
           {
            "args": [
             [
              "2024-10-24 11:56:50"
             ],
             {
              "frame": {
               "duration": 1,
               "easing": "linear",
               "redraw": true
              },
              "transition": {
               "duration": 0,
               "easing": "linear"
              }
             }
            ],
            "label": "11:56:50",
            "method": "animate"
           },
           {
            "args": [
             [
              "2024-10-24 11:56:51"
             ],
             {
              "frame": {
               "duration": 1,
               "easing": "linear",
               "redraw": true
              },
              "transition": {
               "duration": 0,
               "easing": "linear"
              }
             }
            ],
            "label": "11:56:51",
            "method": "animate"
           },
           {
            "args": [
             [
              "2024-10-24 11:56:52"
             ],
             {
              "frame": {
               "duration": 1,
               "easing": "linear",
               "redraw": true
              },
              "transition": {
               "duration": 0,
               "easing": "linear"
              }
             }
            ],
            "label": "11:56:52",
            "method": "animate"
           },
           {
            "args": [
             [
              "2024-10-24 11:56:53"
             ],
             {
              "frame": {
               "duration": 1,
               "easing": "linear",
               "redraw": true
              },
              "transition": {
               "duration": 0,
               "easing": "linear"
              }
             }
            ],
            "label": "11:56:53",
            "method": "animate"
           },
           {
            "args": [
             [
              "2024-10-24 11:56:54"
             ],
             {
              "frame": {
               "duration": 1,
               "easing": "linear",
               "redraw": true
              },
              "transition": {
               "duration": 0,
               "easing": "linear"
              }
             }
            ],
            "label": "11:56:54",
            "method": "animate"
           }
          ],
          "transition": {
           "duration": 285.7142857142857,
           "easing": "linear"
          },
          "x": 0.1,
          "xanchor": "left",
          "y": 0,
          "yanchor": "top"
         }
        ],
        "template": {
         "data": {
          "bar": [
           {
            "error_x": {
             "color": "#2a3f5f"
            },
            "error_y": {
             "color": "#2a3f5f"
            },
            "marker": {
             "line": {
              "color": "#E5ECF6",
              "width": 0.5
             },
             "pattern": {
              "fillmode": "overlay",
              "size": 10,
              "solidity": 0.2
             }
            },
            "type": "bar"
           }
          ],
          "barpolar": [
           {
            "marker": {
             "line": {
              "color": "#E5ECF6",
              "width": 0.5
             },
             "pattern": {
              "fillmode": "overlay",
              "size": 10,
              "solidity": 0.2
             }
            },
            "type": "barpolar"
           }
          ],
          "carpet": [
           {
            "aaxis": {
             "endlinecolor": "#2a3f5f",
             "gridcolor": "white",
             "linecolor": "white",
             "minorgridcolor": "white",
             "startlinecolor": "#2a3f5f"
            },
            "baxis": {
             "endlinecolor": "#2a3f5f",
             "gridcolor": "white",
             "linecolor": "white",
             "minorgridcolor": "white",
             "startlinecolor": "#2a3f5f"
            },
            "type": "carpet"
           }
          ],
          "choropleth": [
           {
            "colorbar": {
             "outlinewidth": 0,
             "ticks": ""
            },
            "type": "choropleth"
           }
          ],
          "contour": [
           {
            "colorbar": {
             "outlinewidth": 0,
             "ticks": ""
            },
            "colorscale": [
             [
              0,
              "#0d0887"
             ],
             [
              0.1111111111111111,
              "#46039f"
             ],
             [
              0.2222222222222222,
              "#7201a8"
             ],
             [
              0.3333333333333333,
              "#9c179e"
             ],
             [
              0.4444444444444444,
              "#bd3786"
             ],
             [
              0.5555555555555556,
              "#d8576b"
             ],
             [
              0.6666666666666666,
              "#ed7953"
             ],
             [
              0.7777777777777778,
              "#fb9f3a"
             ],
             [
              0.8888888888888888,
              "#fdca26"
             ],
             [
              1,
              "#f0f921"
             ]
            ],
            "type": "contour"
           }
          ],
          "contourcarpet": [
           {
            "colorbar": {
             "outlinewidth": 0,
             "ticks": ""
            },
            "type": "contourcarpet"
           }
          ],
          "heatmap": [
           {
            "colorbar": {
             "outlinewidth": 0,
             "ticks": ""
            },
            "colorscale": [
             [
              0,
              "#0d0887"
             ],
             [
              0.1111111111111111,
              "#46039f"
             ],
             [
              0.2222222222222222,
              "#7201a8"
             ],
             [
              0.3333333333333333,
              "#9c179e"
             ],
             [
              0.4444444444444444,
              "#bd3786"
             ],
             [
              0.5555555555555556,
              "#d8576b"
             ],
             [
              0.6666666666666666,
              "#ed7953"
             ],
             [
              0.7777777777777778,
              "#fb9f3a"
             ],
             [
              0.8888888888888888,
              "#fdca26"
             ],
             [
              1,
              "#f0f921"
             ]
            ],
            "type": "heatmap"
           }
          ],
          "heatmapgl": [
           {
            "colorbar": {
             "outlinewidth": 0,
             "ticks": ""
            },
            "colorscale": [
             [
              0,
              "#0d0887"
             ],
             [
              0.1111111111111111,
              "#46039f"
             ],
             [
              0.2222222222222222,
              "#7201a8"
             ],
             [
              0.3333333333333333,
              "#9c179e"
             ],
             [
              0.4444444444444444,
              "#bd3786"
             ],
             [
              0.5555555555555556,
              "#d8576b"
             ],
             [
              0.6666666666666666,
              "#ed7953"
             ],
             [
              0.7777777777777778,
              "#fb9f3a"
             ],
             [
              0.8888888888888888,
              "#fdca26"
             ],
             [
              1,
              "#f0f921"
             ]
            ],
            "type": "heatmapgl"
           }
          ],
          "histogram": [
           {
            "marker": {
             "pattern": {
              "fillmode": "overlay",
              "size": 10,
              "solidity": 0.2
             }
            },
            "type": "histogram"
           }
          ],
          "histogram2d": [
           {
            "colorbar": {
             "outlinewidth": 0,
             "ticks": ""
            },
            "colorscale": [
             [
              0,
              "#0d0887"
             ],
             [
              0.1111111111111111,
              "#46039f"
             ],
             [
              0.2222222222222222,
              "#7201a8"
             ],
             [
              0.3333333333333333,
              "#9c179e"
             ],
             [
              0.4444444444444444,
              "#bd3786"
             ],
             [
              0.5555555555555556,
              "#d8576b"
             ],
             [
              0.6666666666666666,
              "#ed7953"
             ],
             [
              0.7777777777777778,
              "#fb9f3a"
             ],
             [
              0.8888888888888888,
              "#fdca26"
             ],
             [
              1,
              "#f0f921"
             ]
            ],
            "type": "histogram2d"
           }
          ],
          "histogram2dcontour": [
           {
            "colorbar": {
             "outlinewidth": 0,
             "ticks": ""
            },
            "colorscale": [
             [
              0,
              "#0d0887"
             ],
             [
              0.1111111111111111,
              "#46039f"
             ],
             [
              0.2222222222222222,
              "#7201a8"
             ],
             [
              0.3333333333333333,
              "#9c179e"
             ],
             [
              0.4444444444444444,
              "#bd3786"
             ],
             [
              0.5555555555555556,
              "#d8576b"
             ],
             [
              0.6666666666666666,
              "#ed7953"
             ],
             [
              0.7777777777777778,
              "#fb9f3a"
             ],
             [
              0.8888888888888888,
              "#fdca26"
             ],
             [
              1,
              "#f0f921"
             ]
            ],
            "type": "histogram2dcontour"
           }
          ],
          "mesh3d": [
           {
            "colorbar": {
             "outlinewidth": 0,
             "ticks": ""
            },
            "type": "mesh3d"
           }
          ],
          "parcoords": [
           {
            "line": {
             "colorbar": {
              "outlinewidth": 0,
              "ticks": ""
             }
            },
            "type": "parcoords"
           }
          ],
          "pie": [
           {
            "automargin": true,
            "type": "pie"
           }
          ],
          "scatter": [
           {
            "fillpattern": {
             "fillmode": "overlay",
             "size": 10,
             "solidity": 0.2
            },
            "type": "scatter"
           }
          ],
          "scatter3d": [
           {
            "line": {
             "colorbar": {
              "outlinewidth": 0,
              "ticks": ""
             }
            },
            "marker": {
             "colorbar": {
              "outlinewidth": 0,
              "ticks": ""
             }
            },
            "type": "scatter3d"
           }
          ],
          "scattercarpet": [
           {
            "marker": {
             "colorbar": {
              "outlinewidth": 0,
              "ticks": ""
             }
            },
            "type": "scattercarpet"
           }
          ],
          "scattergeo": [
           {
            "marker": {
             "colorbar": {
              "outlinewidth": 0,
              "ticks": ""
             }
            },
            "type": "scattergeo"
           }
          ],
          "scattergl": [
           {
            "marker": {
             "colorbar": {
              "outlinewidth": 0,
              "ticks": ""
             }
            },
            "type": "scattergl"
           }
          ],
          "scattermapbox": [
           {
            "marker": {
             "colorbar": {
              "outlinewidth": 0,
              "ticks": ""
             }
            },
            "type": "scattermapbox"
           }
          ],
          "scatterpolar": [
           {
            "marker": {
             "colorbar": {
              "outlinewidth": 0,
              "ticks": ""
             }
            },
            "type": "scatterpolar"
           }
          ],
          "scatterpolargl": [
           {
            "marker": {
             "colorbar": {
              "outlinewidth": 0,
              "ticks": ""
             }
            },
            "type": "scatterpolargl"
           }
          ],
          "scatterternary": [
           {
            "marker": {
             "colorbar": {
              "outlinewidth": 0,
              "ticks": ""
             }
            },
            "type": "scatterternary"
           }
          ],
          "surface": [
           {
            "colorbar": {
             "outlinewidth": 0,
             "ticks": ""
            },
            "colorscale": [
             [
              0,
              "#0d0887"
             ],
             [
              0.1111111111111111,
              "#46039f"
             ],
             [
              0.2222222222222222,
              "#7201a8"
             ],
             [
              0.3333333333333333,
              "#9c179e"
             ],
             [
              0.4444444444444444,
              "#bd3786"
             ],
             [
              0.5555555555555556,
              "#d8576b"
             ],
             [
              0.6666666666666666,
              "#ed7953"
             ],
             [
              0.7777777777777778,
              "#fb9f3a"
             ],
             [
              0.8888888888888888,
              "#fdca26"
             ],
             [
              1,
              "#f0f921"
             ]
            ],
            "type": "surface"
           }
          ],
          "table": [
           {
            "cells": {
             "fill": {
              "color": "#EBF0F8"
             },
             "line": {
              "color": "white"
             }
            },
            "header": {
             "fill": {
              "color": "#C8D4E3"
             },
             "line": {
              "color": "white"
             }
            },
            "type": "table"
           }
          ]
         },
         "layout": {
          "annotationdefaults": {
           "arrowcolor": "#2a3f5f",
           "arrowhead": 0,
           "arrowwidth": 1
          },
          "autotypenumbers": "strict",
          "coloraxis": {
           "colorbar": {
            "outlinewidth": 0,
            "ticks": ""
           }
          },
          "colorscale": {
           "diverging": [
            [
             0,
             "#8e0152"
            ],
            [
             0.1,
             "#c51b7d"
            ],
            [
             0.2,
             "#de77ae"
            ],
            [
             0.3,
             "#f1b6da"
            ],
            [
             0.4,
             "#fde0ef"
            ],
            [
             0.5,
             "#f7f7f7"
            ],
            [
             0.6,
             "#e6f5d0"
            ],
            [
             0.7,
             "#b8e186"
            ],
            [
             0.8,
             "#7fbc41"
            ],
            [
             0.9,
             "#4d9221"
            ],
            [
             1,
             "#276419"
            ]
           ],
           "sequential": [
            [
             0,
             "#0d0887"
            ],
            [
             0.1111111111111111,
             "#46039f"
            ],
            [
             0.2222222222222222,
             "#7201a8"
            ],
            [
             0.3333333333333333,
             "#9c179e"
            ],
            [
             0.4444444444444444,
             "#bd3786"
            ],
            [
             0.5555555555555556,
             "#d8576b"
            ],
            [
             0.6666666666666666,
             "#ed7953"
            ],
            [
             0.7777777777777778,
             "#fb9f3a"
            ],
            [
             0.8888888888888888,
             "#fdca26"
            ],
            [
             1,
             "#f0f921"
            ]
           ],
           "sequentialminus": [
            [
             0,
             "#0d0887"
            ],
            [
             0.1111111111111111,
             "#46039f"
            ],
            [
             0.2222222222222222,
             "#7201a8"
            ],
            [
             0.3333333333333333,
             "#9c179e"
            ],
            [
             0.4444444444444444,
             "#bd3786"
            ],
            [
             0.5555555555555556,
             "#d8576b"
            ],
            [
             0.6666666666666666,
             "#ed7953"
            ],
            [
             0.7777777777777778,
             "#fb9f3a"
            ],
            [
             0.8888888888888888,
             "#fdca26"
            ],
            [
             1,
             "#f0f921"
            ]
           ]
          },
          "colorway": [
           "#636efa",
           "#EF553B",
           "#00cc96",
           "#ab63fa",
           "#FFA15A",
           "#19d3f3",
           "#FF6692",
           "#B6E880",
           "#FF97FF",
           "#FECB52"
          ],
          "font": {
           "color": "#2a3f5f"
          },
          "geo": {
           "bgcolor": "white",
           "lakecolor": "white",
           "landcolor": "#E5ECF6",
           "showlakes": true,
           "showland": true,
           "subunitcolor": "white"
          },
          "hoverlabel": {
           "align": "left"
          },
          "hovermode": "closest",
          "mapbox": {
           "style": "light"
          },
          "paper_bgcolor": "white",
          "plot_bgcolor": "#E5ECF6",
          "polar": {
           "angularaxis": {
            "gridcolor": "white",
            "linecolor": "white",
            "ticks": ""
           },
           "bgcolor": "#E5ECF6",
           "radialaxis": {
            "gridcolor": "white",
            "linecolor": "white",
            "ticks": ""
           }
          },
          "scene": {
           "xaxis": {
            "backgroundcolor": "#E5ECF6",
            "gridcolor": "white",
            "gridwidth": 2,
            "linecolor": "white",
            "showbackground": true,
            "ticks": "",
            "zerolinecolor": "white"
           },
           "yaxis": {
            "backgroundcolor": "#E5ECF6",
            "gridcolor": "white",
            "gridwidth": 2,
            "linecolor": "white",
            "showbackground": true,
            "ticks": "",
            "zerolinecolor": "white"
           },
           "zaxis": {
            "backgroundcolor": "#E5ECF6",
            "gridcolor": "white",
            "gridwidth": 2,
            "linecolor": "white",
            "showbackground": true,
            "ticks": "",
            "zerolinecolor": "white"
           }
          },
          "shapedefaults": {
           "line": {
            "color": "#2a3f5f"
           }
          },
          "ternary": {
           "aaxis": {
            "gridcolor": "white",
            "linecolor": "white",
            "ticks": ""
           },
           "baxis": {
            "gridcolor": "white",
            "linecolor": "white",
            "ticks": ""
           },
           "bgcolor": "#E5ECF6",
           "caxis": {
            "gridcolor": "white",
            "linecolor": "white",
            "ticks": ""
           }
          },
          "title": {
           "x": 0.05
          },
          "xaxis": {
           "automargin": true,
           "gridcolor": "white",
           "linecolor": "white",
           "ticks": "",
           "title": {
            "standoff": 15
           },
           "zerolinecolor": "white",
           "zerolinewidth": 2
          },
          "yaxis": {
           "automargin": true,
           "gridcolor": "white",
           "linecolor": "white",
           "ticks": "",
           "title": {
            "standoff": 15
           },
           "zerolinecolor": "white",
           "zerolinewidth": 2
          }
         }
        },
        "updatemenus": [
         {
          "buttons": [
           {
            "args": [
             null,
             {
              "frame": {
               "duration": 285.7142857142857,
               "redraw": true
              },
              "fromcurrent": true,
              "transition": {
               "duration": 0
              }
             }
            ],
            "label": "Play",
            "method": "animate"
           },
           {
            "args": [
             [
              null
             ],
             {
              "frame": {
               "duration": 0,
               "redraw": true
              },
              "mode": "immediate",
              "transition": {
               "duration": 0
              }
             }
            ],
            "label": "Stop",
            "method": "animate"
           }
          ],
          "direction": "left",
          "pad": {
           "r": 10,
           "t": 75
          },
          "showactive": true,
          "type": "buttons",
          "x": 0.1,
          "xanchor": "right",
          "y": 0,
          "yanchor": "top"
         }
        ],
        "xaxis": {
         "range": [
          -2.3050672382471387,
          26.714715206895836
         ],
         "title": {
          "text": "<i>x</i>"
         }
        },
        "yaxis": {
         "range": [
          -5.079739483402371,
          53.80087459305909
         ],
         "title": {
          "text": "<i>y</i>"
         }
        }
       }
      }
     },
     "metadata": {},
     "output_type": "display_data"
    }
   ],
   "source": [
    "from stonesoup.models.measurement.nonlinear import CartesianToBearingRange\n",
    "# Sensor position\n",
    "sensor_x = 50\n",
    "sensor_y = 0\n",
    "\n",
    "# Make noisy measurement (with bearing variance = 0.2 degrees).\n",
    "measurement_model = CartesianToBearingRange(ndim_state=4,\n",
    "                                            mapping=(0, 2),\n",
    "                                            noise_covar=np.diag([np.radians(0.2), 1]),\n",
    "                                            translation_offset=np.array([[sensor_x], [sensor_y]]))\n",
    "\n",
    "# %%\n",
    "from stonesoup.types.detection import Detection\n",
    "\n",
    "# Make sensor that produces the noisy measurements.\n",
    "measurements = []\n",
    "for state in truth:\n",
    "    measurement = measurement_model.function(state, noise=True)\n",
    "    measurements.append(Detection(measurement, timestamp=state.timestamp,\n",
    "                                  measurement_model=measurement_model))\n",
    "\n",
    "# Plot the measurements\n",
    "# Where the model is nonlinear the plotting function uses the inverse function to get coordinates\n",
    "\n",
    "plotter.plot_measurements(measurements, [0, 2])\n",
    "plotter.fig"
   ]
  },
  {
   "cell_type": "markdown",
   "metadata": {},
   "source": [
    "## Create unscented Kalman filter components\n",
    "Note that the transition of the target state is linear, so we have no real need for a `UnscentedKalmanPredictor`. But we'll use one anyway, if nothing else to demonstrate that a linear model won't break anything."
   ]
  },
  {
   "cell_type": "code",
   "execution_count": 6,
   "metadata": {},
   "outputs": [],
   "source": [
    "from stonesoup.predictor.kalman import UnscentedKalmanPredictor\n",
    "predictor = UnscentedKalmanPredictor(transition_model)\n",
    "# Create :class:`~.UnscentedKalmanUpdater`\n",
    "from stonesoup.updater.kalman import UnscentedKalmanUpdater\n",
    "unscented_updater = UnscentedKalmanUpdater(measurement_model)  # Keep alpha as default = 0.5"
   ]
  },
  {
   "cell_type": "code",
   "execution_count": 7,
   "metadata": {},
   "outputs": [],
   "source": [
    "# Create a prior\n",
    "from stonesoup.types.state import GaussianState\n",
    "prior = GaussianState([[0], [1], [0], [1]], np.diag([1.5, 0.5, 1.5, 0.5]), timestamp=start_time)"
   ]
  },
  {
   "cell_type": "code",
   "execution_count": 8,
   "metadata": {},
   "outputs": [],
   "source": [
    "# Populate the track\n",
    "from stonesoup.types.hypothesis import SingleHypothesis\n",
    "from stonesoup.types.track import Track\n",
    "\n",
    "track = Track()\n",
    "for measurement in measurements:\n",
    "    prediction = predictor.predict(prior, timestamp=measurement.timestamp)\n",
    "    hypothesis = SingleHypothesis(prediction, measurement)\n",
    "    post = unscented_updater.update(hypothesis)\n",
    "    track.append(post)\n",
    "    prior = track[-1]"
   ]
  },
  {
   "cell_type": "code",
   "execution_count": null,
   "metadata": {},
   "outputs": [],
   "source": [
    "# And plot\n",
    "plotter.plot_tracks(track, [0, 2], uncertainty=True)\n",
    "plotter.fig"
   ]
  },
  {
   "cell_type": "markdown",
   "metadata": {},
   "source": [
    "### The UT in slightly more depth\n",
    "Now try and get a sense of what actually happens to the uncertainty when a non-linear combination of functions happens. Instead of deriving this analytically (and potentially getting bogged-down in the maths), let's just use a sampling method. We can start with a prediction, which is Gauss-distributed in state space, that we will use to make our measurement predictions from."
   ]
  },
  {
   "cell_type": "code",
   "execution_count": 12,
   "metadata": {},
   "outputs": [],
   "source": [
    "from stonesoup.types.prediction import GaussianStatePrediction\n",
    "prediction = GaussianStatePrediction(state_vector=[[0], [0], [20], [0]],\n",
    "                                     covar=np.diag([1.5, 0.5, 1.5, 0.5]),\n",
    "                                     timestamp=datetime.now())\n"
   ]
  },
  {
   "cell_type": "markdown",
   "metadata": {},
   "source": [
    "We'll recapitulate the fact that the sensor position is where it previously was. But this time we'll make the measurement much noisier."
   ]
  },
  {
   "cell_type": "code",
   "execution_count": 13,
   "metadata": {},
   "outputs": [],
   "source": [
    "sensor_x = 0\n",
    "sensor_y = 0\n",
    "\n",
    "measurement_model = CartesianToBearingRange(\n",
    "    ndim_state=4,\n",
    "    mapping=(0, 2),\n",
    "    noise_covar=np.diag([np.radians(5), 0.1]),  # bearing variance = 5 degrees (accurate range)\n",
    "    translation_offset=np.array([[sensor_x], [sensor_y]])\n",
    ")"
   ]
  },
  {
   "cell_type": "markdown",
   "metadata": {},
   "source": [
    "The next tutorial will go into much more detail on sampling methods. For the moment we'll just assert that we're generating 2000 points from the state prediction above."
   ]
  },
  {
   "cell_type": "code",
   "execution_count": 14,
   "metadata": {},
   "outputs": [],
   "source": [
    "# We need these imports and parameters:\n",
    "from scipy.stats import multivariate_normal\n",
    "\n",
    "from stonesoup.types.particle import Particle\n",
    "from stonesoup.types.numeric import Probability  # Similar to a float type\n",
    "from stonesoup.types.state import ParticleState\n",
    "\n",
    "number_particles = 2000\n",
    "\n",
    "# Sample from the Gaussian prediction distribution\n",
    "samples = multivariate_normal.rvs(prediction.state_vector.ravel(),\n",
    "                                  prediction.covar,\n",
    "                                  size=number_particles)\n",
    "particles = [\n",
    "    Particle(sample.reshape(-1, 1), weight=Probability(1/number_particles)) for sample in samples]\n",
    "# Create prior particle state.\n",
    "pred_samples = ParticleState(None, particle_list=particles, timestamp=start_time)\n",
    "\n",
    "from stonesoup.resampler.particle import SystematicResampler\n",
    "resampler = SystematicResampler()\n",
    "from stonesoup.updater.particle import ParticleUpdater\n",
    "pupdater = ParticleUpdater(measurement_model, resampler)\n",
    "\n",
    "predict_meas_samples = pupdater.predict_measurement(pred_samples)"
   ]
  },
  {
   "cell_type": "markdown",
   "metadata": {},
   "source": [
    "Don't worry what all this means for the moment. It's a convenient way of showing the 'true' distribution of the predicted measurement - which is rendered as a blue cloud. Note that no noise is added by the `UnscentedKalmanUpdater.predict_measurement` method, so we add some noise below. This is additive Gaussian in the sensor coordinates."
   ]
  },
  {
   "cell_type": "code",
   "execution_count": null,
   "metadata": {},
   "outputs": [],
   "source": [
    "from matplotlib import pyplot as plt\n",
    "fig = plt.figure(figsize=(10, 6), tight_layout=True)\n",
    "ax = fig.add_subplot(1, 1, 1, polar=True)\n",
    "ax.set_ylim(0, 30)\n",
    "ax.set_xlim(0, np.radians(180))\n",
    "\n",
    "data = np.array([particle.state_vector for particle in predict_meas_samples.particles])\n",
    "noise = multivariate_normal.rvs(np.array([0, 0]), measurement_model.covar(), size=len(data))\n",
    "\n",
    "ax.plot(data[:, 0].ravel()+noise[:, 0],\n",
    "        data[:, 1].ravel()+noise[:, 1],\n",
    "        linestyle='',\n",
    "        marker=\".\",\n",
    "        markersize=1.5,\n",
    "        alpha=0.4,\n",
    "        label=\"Particles\")\n",
    "ax.legend()"
   ]
  },
  {
   "cell_type": "markdown",
   "metadata": {},
   "source": [
    "We can now see what happens when we create EKF and UKF updaters and compare their effect."
   ]
  },
  {
   "cell_type": "code",
   "execution_count": 16,
   "metadata": {},
   "outputs": [],
   "source": [
    "# Create updaters:\n",
    "from stonesoup.updater.kalman import UnscentedKalmanUpdater, ExtendedKalmanUpdater\n",
    "unscented_updater = UnscentedKalmanUpdater(measurement_model, alpha=0.5, beta=4)\n",
    "extended_updater = ExtendedKalmanUpdater(measurement_model)\n",
    "\n",
    "# Get predicted measurements from the state prediction.\n",
    "ukf_pred_meas = unscented_updater.predict_measurement(prediction)\n",
    "ekf_pred_meas = extended_updater.predict_measurement(prediction)"
   ]
  },
  {
   "cell_type": "code",
   "execution_count": null,
   "metadata": {},
   "outputs": [],
   "source": [
    "# Plot UKF (red) and EKF (green) predicted measurement distributions.\n",
    "\n",
    "# Plot UKF's predicted measurement distribution\n",
    "from matplotlib.patches import Ellipse\n",
    "from stonesoup.plotter import Plotter\n",
    "w, v = np.linalg.eig(ukf_pred_meas.covar)\n",
    "max_ind = np.argmax(w)\n",
    "min_ind = np.argmin(w)\n",
    "orient = np.arctan2(v[1, max_ind], v[0, max_ind])\n",
    "ukf_ellipse = Ellipse(xy=(ukf_pred_meas.state_vector[0], ukf_pred_meas.state_vector[1]),\n",
    "                      width=2*np.sqrt(w[max_ind]), height=2*np.sqrt(w[min_ind]),\n",
    "                      angle=np.rad2deg(orient),\n",
    "                      alpha=0.4,\n",
    "                      color='r',)\n",
    "ax.add_artist(ukf_ellipse)\n",
    "\n",
    "\n",
    "# Plot EKF's predicted measurement distribution\n",
    "w, v = np.linalg.eig(ekf_pred_meas.covar)\n",
    "max_ind = np.argmax(w)\n",
    "min_ind = np.argmin(w)\n",
    "orient = np.arctan2(v[1, max_ind], v[0, max_ind])\n",
    "ekf_ellipse = Ellipse(xy=(ekf_pred_meas.state_vector[0], ekf_pred_meas.state_vector[1]),\n",
    "                      width=2*np.sqrt(w[max_ind]), height=2*np.sqrt(w[min_ind]),\n",
    "                      angle=np.rad2deg(orient),\n",
    "                      alpha=0.5,\n",
    "                      color='g',)\n",
    "ax.add_artist(ekf_ellipse)\n",
    "\n",
    "# Add ellipses to legend\n",
    "label_list = [\"UKF Prediction\", \"EKF Prediction\"]\n",
    "color_list = ['r', 'g']\n",
    "Plotter.ellipse_legend(ax, label_list, color_list)\n",
    "fig"
   ]
  },
  {
   "cell_type": "markdown",
   "metadata": {},
   "source": [
    "You may have to spend some time fiddling with the parameters to see major differences between the EKF and UKF. Indeed, the point to make is not that there is any great magic about the UKF. Its power is that it harnesses some extra free parameters to give a more flexible description of the transformed distribution.\n",
    "\n",
    "### Key points\n",
    "1. The unscented Kalman filter offers a powerful alternative to the EKF when undertaking tracking in non-linear regimes.\n",
    "\n",
    "### References\n",
    "1.  Julier S., Uhlmann J., Durrant-Whyte H.F. 2000, A new method for the nonlinear\n",
    "        transformation of means and covariances in filters and estimators, in IEEE Transactions\n",
    "        on Automatic Control, vol. 45, no. 3, pp. 477-482, doi: 10.1109/9.847726.\n",
    "1.  Julier S.J. 2002, The scaled unscented transformation, Proceedings of the 2002 American\n",
    "        Control Conference (IEEE Cat. No.CH37301), Anchorage, AK, USA, 2002, pp. 4555-4559 vol.6,\n",
    "        doi: 10.1109/ACC.2002.1025369.\n",
    "\n"
   ]
  },
  {
   "cell_type": "code",
   "execution_count": null,
   "metadata": {},
   "outputs": [],
   "source": []
  }
 ],
 "metadata": {
  "kernelspec": {
   "display_name": "asterix",
   "language": "python",
   "name": "python3"
  },
  "language_info": {
   "codemirror_mode": {
    "name": "ipython",
    "version": 3
   },
   "file_extension": ".py",
   "mimetype": "text/x-python",
   "name": "python",
   "nbconvert_exporter": "python",
   "pygments_lexer": "ipython3",
   "version": "3.8.18"
  }
 },
 "nbformat": 4,
 "nbformat_minor": 2
}
