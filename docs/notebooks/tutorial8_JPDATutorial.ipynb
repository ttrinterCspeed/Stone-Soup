{
  "cells": [
    {
      "cell_type": "markdown",
      "metadata": {},
      "source": [
        "\n",
        "# 8 - Joint probabilistic data association tutorial\n"
      ]
    },
    {
      "cell_type": "markdown",
      "metadata": {},
      "source": [
        "When we have multiple targets we're going to want to arrive at a globally-consistent collection\n",
        "of associations for PDA, in much the same way as we did for the global nearest neighbour\n",
        "associator. This is the purpose of the *joint* probabilistic data association (JPDA) filter.\n",
        "\n",
        "Similar to the PDA, the JPDA algorithm calculates hypothesis pairs for every measurement\n",
        "for every track. The probability of a track-measurement hypothesis is calculated by the sum of\n",
        "normalised conditional probabilities that every other track is associated to every other\n",
        "measurement (including missed detection). For example, with 3 tracks $(A, B, C)$ and 3\n",
        "measurements $(x, y, z)$ (including missed detection $None$), the probability of\n",
        "track $A$ being associated with measurement $x$ ($A \\to x$) is given by:\n",
        "\n",
        "\\begin{align}p(A \\to x) &= \\bar{p}(A \\to x \\cap B \\to None \\cap C \\to None) +\\\\\n",
        "                 &+ \\bar{p}(A \\to x \\cap B \\to None \\cap C \\to y) +\\\\\n",
        "                 &+ \\bar{p}(A \\to x \\cap B \\to None \\cap C \\to z) +\\\\\n",
        "                 &+ \\bar{p}(A \\to x \\cap B \\to y \\cap C \\to None) +\\\\\n",
        "                 &+ \\bar{p}(A \\to x \\cap B \\to y \\cap C \\to z) +\\\\\n",
        "                 &+ \\bar{p}(A \\to x \\cap B \\to z \\cap C \\to None) +\\\\\n",
        "                 &+ \\bar{p}(A \\to x \\cap B \\to z \\cap C \\to y)\\end{align}\n",
        "\n",
        "where $\\bar{p}(\\textit{multi-hypothesis})$ is the normalised probability of the\n",
        "multi-hypothesis.\n",
        "\n",
        "This is demonstrated for 2 tracks associating to 3 measurements in the diagrams below:\n",
        "\n",
        "<img src=\"https://stonesoup.rtfd.io/en/latest/_static/jpda_diag_1.png\" width=\"250\" height=\"300\" alt=\"Image showing two tracks approaching 3 detections with associated probabilities\">\n",
        "\n",
        "Where the probability (for example) of the orange track associating to the green measurement is\n",
        "$0.25$.\n",
        "The probability of every possible association set is calculated. These probabilities are then\n",
        "normalised.\n",
        "\n",
        "<img src=\"https://stonesoup.rtfd.io/en/latest/_static/jpda_diag_2.png\" width=\"350\" height=\"300\" alt=\"Image showing calculation of the conditional probabilities of every possible occurrence\">\n",
        "\n",
        "A track-measurement hypothesis weight is then recalculated as the sum of the probabilities of\n",
        "every occurrence where that track associates to that measurement.\n",
        "\n",
        "<img src=\"https://stonesoup.rtfd.io/en/latest/_static/jpda_diag_3.png\" width=\"500\" height=\"450\" alt=\"Image showing the recalculated probabilities of each track-measurement hypothesis\">\n",
        "\n",
        "\n"
      ]
    },
    {
      "cell_type": "markdown",
      "metadata": {},
      "source": [
        "## Simulate ground truth\n",
        "As with the multi-target data association tutorial, we simulate two targets moving in the\n",
        "positive x, y Cartesian plane (intersecting approximately half-way through their transition).\n",
        "We then add truth detections with clutter at each time-step.\n",
        "\n"
      ]
    },
    {
      "cell_type": "code",
      "execution_count": 5,
      "metadata": {
        "collapsed": false
      },
      "outputs": [
        {
          "data": {
            "application/vnd.plotly.v1+json": {
              "config": {
                "plotlyServerURL": "https://plot.ly"
              },
              "data": [
                {
                  "hoverinfo": "none",
                  "legendgroup": "Ground Truth",
                  "legendrank": 100,
                  "line": {
                    "color": "#EF553B",
                    "dash": "dash"
                  },
                  "mode": "lines",
                  "name": "Ground Truth",
                  "showlegend": true,
                  "type": "scatter",
                  "x": [],
                  "y": []
                },
                {
                  "hoverinfo": "none",
                  "legendgroup": "Ground Truth",
                  "legendrank": 100,
                  "line": {
                    "color": "#EF553B",
                    "dash": "dash"
                  },
                  "mode": "lines",
                  "name": "Ground Truth",
                  "showlegend": false,
                  "type": "scatter",
                  "x": [],
                  "y": []
                },
                {
                  "hoverinfo": "none",
                  "legendgroup": "Ground Truth",
                  "legendrank": 100,
                  "line": {
                    "color": "#00CC96",
                    "dash": "dash"
                  },
                  "mode": "lines",
                  "name": "Ground Truth",
                  "showlegend": false,
                  "type": "scatter",
                  "x": [],
                  "y": []
                },
                {
                  "hoverinfo": "none",
                  "legendgroup": "Measurements<br>(Detections)",
                  "legendrank": 200,
                  "marker": {
                    "color": "#636EFA"
                  },
                  "mode": "markers",
                  "name": "Measurements<br>(Detections)",
                  "showlegend": true,
                  "type": "scatter",
                  "x": [],
                  "y": []
                },
                {
                  "hoverinfo": "none",
                  "legendgroup": "Measurements<br>(Detections)",
                  "legendrank": 200,
                  "marker": {
                    "color": "#636EFA"
                  },
                  "mode": "markers",
                  "name": "Measurements<br>(Detections)",
                  "showlegend": false,
                  "type": "scatter",
                  "x": [],
                  "y": []
                },
                {
                  "hoverinfo": "none",
                  "legendgroup": "Measurements<br>(Clutter)",
                  "legendrank": 300,
                  "marker": {
                    "color": "#FECB52",
                    "symbol": "star-triangle-up"
                  },
                  "mode": "markers",
                  "name": "Measurements<br>(Clutter)",
                  "showlegend": true,
                  "type": "scatter",
                  "x": [],
                  "y": []
                }
              ],
              "frames": [
                {
                  "data": [
                    {
                      "type": "scatter",
                      "x": [
                        0,
                        0
                      ],
                      "y": [
                        0,
                        0
                      ]
                    },
                    {
                      "hovertemplate": "GroundTruthState<br>(%{x}, %{y})<br>Time: %{meta}",
                      "meta": [
                        "2024-10-18 16:17:36"
                      ],
                      "type": "scatter",
                      "x": [
                        0,
                        null
                      ],
                      "y": [
                        0,
                        null
                      ]
                    },
                    {
                      "hovertemplate": "GroundTruthState<br>(%{x}, %{y})<br>Time: %{meta}",
                      "meta": [
                        "2024-10-18 16:17:36"
                      ],
                      "type": "scatter",
                      "x": [
                        0,
                        null
                      ],
                      "y": [
                        20,
                        null
                      ]
                    },
                    {
                      "type": "scatter",
                      "x": [
                        null,
                        null
                      ],
                      "y": [
                        null,
                        null
                      ]
                    },
                    {
                      "hovertemplate": "Detection<br>(%{x}, %{y})<br>Time: %{meta}",
                      "meta": [
                        "2024-10-18 16:17:36",
                        "2024-10-18 16:17:36"
                      ],
                      "type": "scatter",
                      "x": [
                        0.6892747518790269,
                        -0.22321879337572237,
                        null
                      ],
                      "y": [
                        0.4754684432557069,
                        19.20215209117621,
                        null
                      ]
                    },
                    {
                      "hovertemplate": "Clutter<br>(%{x}, %{y})<br>Time: %{meta}",
                      "meta": [
                        "2024-10-18 16:17:36",
                        "2024-10-18 16:17:36",
                        "2024-10-18 16:17:36",
                        "2024-10-18 16:17:36"
                      ],
                      "type": "scatter",
                      "x": [
                        8.934418874721363,
                        -8.57232028657122,
                        -0.2785528455799646,
                        -2.394906677830411,
                        null
                      ],
                      "y": [
                        2.2679261516732137,
                        22.396435153278176,
                        27.493843619946297,
                        -2.8463607602042362,
                        null
                      ]
                    }
                  ],
                  "name": "2024-10-18 16:17:36",
                  "traces": [
                    0,
                    1,
                    2,
                    3,
                    4,
                    5
                  ]
                },
                {
                  "data": [
                    {
                      "type": "scatter",
                      "x": [
                        0,
                        0
                      ],
                      "y": [
                        0,
                        0
                      ]
                    },
                    {
                      "hovertemplate": "GroundTruthState<br>(%{x}, %{y})<br>Time: %{meta}",
                      "meta": [
                        "2024-10-18 16:17:36",
                        "2024-10-18 16:17:37"
                      ],
                      "type": "scatter",
                      "x": [
                        0,
                        1.0560429805265472,
                        null
                      ],
                      "y": [
                        0,
                        1.0002136913507915,
                        null
                      ]
                    },
                    {
                      "hovertemplate": "GroundTruthState<br>(%{x}, %{y})<br>Time: %{meta}",
                      "meta": [
                        "2024-10-18 16:17:36",
                        "2024-10-18 16:17:37"
                      ],
                      "type": "scatter",
                      "x": [
                        0,
                        1.0884264773578487,
                        null
                      ],
                      "y": [
                        20,
                        18.9696055040752,
                        null
                      ]
                    },
                    {
                      "type": "scatter",
                      "x": [
                        null,
                        null
                      ],
                      "y": [
                        null,
                        null
                      ]
                    },
                    {
                      "hovertemplate": "Detection<br>(%{x}, %{y})<br>Time: %{meta}",
                      "meta": [
                        "2024-10-18 16:17:36",
                        "2024-10-18 16:17:36",
                        "2024-10-18 16:17:37",
                        "2024-10-18 16:17:37"
                      ],
                      "type": "scatter",
                      "x": [
                        0.6892747518790269,
                        -0.22321879337572237,
                        0.3005057379206729,
                        -0.7285423378113827,
                        null
                      ],
                      "y": [
                        0.4754684432557069,
                        19.20215209117621,
                        0.8793565933453175,
                        17.922953755661524,
                        null
                      ]
                    },
                    {
                      "hovertemplate": "Clutter<br>(%{x}, %{y})<br>Time: %{meta}",
                      "meta": [
                        "2024-10-18 16:17:36",
                        "2024-10-18 16:17:36",
                        "2024-10-18 16:17:36",
                        "2024-10-18 16:17:36",
                        "2024-10-18 16:17:37"
                      ],
                      "type": "scatter",
                      "x": [
                        8.934418874721363,
                        -8.57232028657122,
                        -0.2785528455799646,
                        -2.394906677830411,
                        -8.021679808017637,
                        null
                      ],
                      "y": [
                        2.2679261516732137,
                        22.396435153278176,
                        27.493843619946297,
                        -2.8463607602042362,
                        23.538300093934936,
                        null
                      ]
                    }
                  ],
                  "name": "2024-10-18 16:17:37",
                  "traces": [
                    0,
                    1,
                    2,
                    3,
                    4,
                    5
                  ]
                },
                {
                  "data": [
                    {
                      "type": "scatter",
                      "x": [
                        0,
                        0
                      ],
                      "y": [
                        0,
                        0
                      ]
                    },
                    {
                      "hovertemplate": "GroundTruthState<br>(%{x}, %{y})<br>Time: %{meta}",
                      "meta": [
                        "2024-10-18 16:17:36",
                        "2024-10-18 16:17:37",
                        "2024-10-18 16:17:38"
                      ],
                      "type": "scatter",
                      "x": [
                        0,
                        1.0560429805265472,
                        2.0871090094870777,
                        null
                      ],
                      "y": [
                        0,
                        1.0002136913507915,
                        2.0097169051278136,
                        null
                      ]
                    },
                    {
                      "hovertemplate": "GroundTruthState<br>(%{x}, %{y})<br>Time: %{meta}",
                      "meta": [
                        "2024-10-18 16:17:36",
                        "2024-10-18 16:17:37",
                        "2024-10-18 16:17:38"
                      ],
                      "type": "scatter",
                      "x": [
                        0,
                        1.0884264773578487,
                        2.2815596346934623,
                        null
                      ],
                      "y": [
                        20,
                        18.9696055040752,
                        18.089516883876506,
                        null
                      ]
                    },
                    {
                      "type": "scatter",
                      "x": [
                        null,
                        null
                      ],
                      "y": [
                        null,
                        null
                      ]
                    },
                    {
                      "hovertemplate": "Detection<br>(%{x}, %{y})<br>Time: %{meta}",
                      "meta": [
                        "2024-10-18 16:17:36",
                        "2024-10-18 16:17:36",
                        "2024-10-18 16:17:37",
                        "2024-10-18 16:17:37",
                        "2024-10-18 16:17:38",
                        "2024-10-18 16:17:38"
                      ],
                      "type": "scatter",
                      "x": [
                        0.6892747518790269,
                        -0.22321879337572237,
                        0.3005057379206729,
                        -0.7285423378113827,
                        1.2170403159443648,
                        1.5088880680217265,
                        null
                      ],
                      "y": [
                        0.4754684432557069,
                        19.20215209117621,
                        0.8793565933453175,
                        17.922953755661524,
                        1.9436425563828388,
                        17.328351283706056,
                        null
                      ]
                    },
                    {
                      "hovertemplate": "Clutter<br>(%{x}, %{y})<br>Time: %{meta}",
                      "meta": [
                        "2024-10-18 16:17:36",
                        "2024-10-18 16:17:36",
                        "2024-10-18 16:17:36",
                        "2024-10-18 16:17:36",
                        "2024-10-18 16:17:37",
                        "2024-10-18 16:17:38",
                        "2024-10-18 16:17:38",
                        "2024-10-18 16:17:38",
                        "2024-10-18 16:17:38",
                        "2024-10-18 16:17:38",
                        "2024-10-18 16:17:38",
                        "2024-10-18 16:17:38",
                        "2024-10-18 16:17:38",
                        "2024-10-18 16:17:38"
                      ],
                      "type": "scatter",
                      "x": [
                        8.934418874721363,
                        -8.57232028657122,
                        -0.2785528455799646,
                        -2.394906677830411,
                        -8.021679808017637,
                        11.257751367106982,
                        4.496288625378572,
                        -5.944374302951257,
                        -2.016609548324146,
                        8.936900781676737,
                        -3.215833182306616,
                        -5.964571266527066,
                        -6.683374781092832,
                        3.681681305644787,
                        null
                      ],
                      "y": [
                        2.2679261516732137,
                        22.396435153278176,
                        27.493843619946297,
                        -2.8463607602042362,
                        23.538300093934936,
                        0.808582875937379,
                        13.04450365695117,
                        10.329574488640382,
                        22.72563949689815,
                        17.684972622572246,
                        18.90211719755032,
                        14.065251760560306,
                        17.59965129235671,
                        21.98908074021711,
                        null
                      ]
                    }
                  ],
                  "name": "2024-10-18 16:17:38",
                  "traces": [
                    0,
                    1,
                    2,
                    3,
                    4,
                    5
                  ]
                },
                {
                  "data": [
                    {
                      "type": "scatter",
                      "x": [
                        0,
                        0
                      ],
                      "y": [
                        0,
                        0
                      ]
                    },
                    {
                      "hovertemplate": "GroundTruthState<br>(%{x}, %{y})<br>Time: %{meta}",
                      "meta": [
                        "2024-10-18 16:17:36",
                        "2024-10-18 16:17:37",
                        "2024-10-18 16:17:38",
                        "2024-10-18 16:17:39"
                      ],
                      "type": "scatter",
                      "x": [
                        0,
                        1.0560429805265472,
                        2.0871090094870777,
                        3.049344171234631,
                        null
                      ],
                      "y": [
                        0,
                        1.0002136913507915,
                        2.0097169051278136,
                        3.0656770596553575,
                        null
                      ]
                    },
                    {
                      "hovertemplate": "GroundTruthState<br>(%{x}, %{y})<br>Time: %{meta}",
                      "meta": [
                        "2024-10-18 16:17:36",
                        "2024-10-18 16:17:37",
                        "2024-10-18 16:17:38",
                        "2024-10-18 16:17:39"
                      ],
                      "type": "scatter",
                      "x": [
                        0,
                        1.0884264773578487,
                        2.2815596346934623,
                        3.4815054595119137,
                        null
                      ],
                      "y": [
                        20,
                        18.9696055040752,
                        18.089516883876506,
                        17.315971076119247,
                        null
                      ]
                    },
                    {
                      "type": "scatter",
                      "x": [
                        null,
                        null
                      ],
                      "y": [
                        null,
                        null
                      ]
                    },
                    {
                      "hovertemplate": "Detection<br>(%{x}, %{y})<br>Time: %{meta}",
                      "meta": [
                        "2024-10-18 16:17:36",
                        "2024-10-18 16:17:36",
                        "2024-10-18 16:17:37",
                        "2024-10-18 16:17:37",
                        "2024-10-18 16:17:38",
                        "2024-10-18 16:17:38",
                        "2024-10-18 16:17:39",
                        "2024-10-18 16:17:39"
                      ],
                      "type": "scatter",
                      "x": [
                        0.6892747518790269,
                        -0.22321879337572237,
                        0.3005057379206729,
                        -0.7285423378113827,
                        1.2170403159443648,
                        1.5088880680217265,
                        2.9656854260311056,
                        2.984020896780921,
                        null
                      ],
                      "y": [
                        0.4754684432557069,
                        19.20215209117621,
                        0.8793565933453175,
                        17.922953755661524,
                        1.9436425563828388,
                        17.328351283706056,
                        17.699438952423797,
                        3.639688271076865,
                        null
                      ]
                    },
                    {
                      "hovertemplate": "Clutter<br>(%{x}, %{y})<br>Time: %{meta}",
                      "meta": [
                        "2024-10-18 16:17:36",
                        "2024-10-18 16:17:36",
                        "2024-10-18 16:17:36",
                        "2024-10-18 16:17:36",
                        "2024-10-18 16:17:37",
                        "2024-10-18 16:17:38",
                        "2024-10-18 16:17:38",
                        "2024-10-18 16:17:38",
                        "2024-10-18 16:17:38",
                        "2024-10-18 16:17:38",
                        "2024-10-18 16:17:38",
                        "2024-10-18 16:17:38",
                        "2024-10-18 16:17:38",
                        "2024-10-18 16:17:38",
                        "2024-10-18 16:17:39",
                        "2024-10-18 16:17:39",
                        "2024-10-18 16:17:39",
                        "2024-10-18 16:17:39",
                        "2024-10-18 16:17:39",
                        "2024-10-18 16:17:39",
                        "2024-10-18 16:17:39",
                        "2024-10-18 16:17:39",
                        "2024-10-18 16:17:39"
                      ],
                      "type": "scatter",
                      "x": [
                        8.934418874721363,
                        -8.57232028657122,
                        -0.2785528455799646,
                        -2.394906677830411,
                        -8.021679808017637,
                        11.257751367106982,
                        4.496288625378572,
                        -5.944374302951257,
                        -2.016609548324146,
                        8.936900781676737,
                        -3.215833182306616,
                        -5.964571266527066,
                        -6.683374781092832,
                        3.681681305644787,
                        9.704034988657854,
                        2.1864939296687336,
                        8.587865927402571,
                        9.890453924820045,
                        -1.065933467681237,
                        4.0469956719708495,
                        1.75442323340293,
                        -3.8205636556108424,
                        7.669723238131205,
                        null
                      ],
                      "y": [
                        2.2679261516732137,
                        22.396435153278176,
                        27.493843619946297,
                        -2.8463607602042362,
                        23.538300093934936,
                        0.808582875937379,
                        13.04450365695117,
                        10.329574488640382,
                        22.72563949689815,
                        17.684972622572246,
                        18.90211719755032,
                        14.065251760560306,
                        17.59965129235671,
                        21.98908074021711,
                        16.094417016484112,
                        22.4385284467242,
                        11.425569972583345,
                        27.000181889692275,
                        15.605027281587933,
                        17.757274803353816,
                        17.75550903069641,
                        19.52921833710085,
                        11.265263241214607,
                        null
                      ]
                    }
                  ],
                  "name": "2024-10-18 16:17:39",
                  "traces": [
                    0,
                    1,
                    2,
                    3,
                    4,
                    5
                  ]
                },
                {
                  "data": [
                    {
                      "type": "scatter",
                      "x": [
                        0,
                        0
                      ],
                      "y": [
                        0,
                        0
                      ]
                    },
                    {
                      "hovertemplate": "GroundTruthState<br>(%{x}, %{y})<br>Time: %{meta}",
                      "meta": [
                        "2024-10-18 16:17:36",
                        "2024-10-18 16:17:37",
                        "2024-10-18 16:17:38",
                        "2024-10-18 16:17:39",
                        "2024-10-18 16:17:40"
                      ],
                      "type": "scatter",
                      "x": [
                        0,
                        1.0560429805265472,
                        2.0871090094870777,
                        3.049344171234631,
                        4.035254516130913,
                        null
                      ],
                      "y": [
                        0,
                        1.0002136913507915,
                        2.0097169051278136,
                        3.0656770596553575,
                        4.215523952736348,
                        null
                      ]
                    },
                    {
                      "hovertemplate": "GroundTruthState<br>(%{x}, %{y})<br>Time: %{meta}",
                      "meta": [
                        "2024-10-18 16:17:36",
                        "2024-10-18 16:17:37",
                        "2024-10-18 16:17:38",
                        "2024-10-18 16:17:39",
                        "2024-10-18 16:17:40"
                      ],
                      "type": "scatter",
                      "x": [
                        0,
                        1.0884264773578487,
                        2.2815596346934623,
                        3.4815054595119137,
                        4.632148263003105,
                        null
                      ],
                      "y": [
                        20,
                        18.9696055040752,
                        18.089516883876506,
                        17.315971076119247,
                        16.498148228589297,
                        null
                      ]
                    },
                    {
                      "type": "scatter",
                      "x": [
                        null,
                        null
                      ],
                      "y": [
                        null,
                        null
                      ]
                    },
                    {
                      "hovertemplate": "Detection<br>(%{x}, %{y})<br>Time: %{meta}",
                      "meta": [
                        "2024-10-18 16:17:36",
                        "2024-10-18 16:17:36",
                        "2024-10-18 16:17:37",
                        "2024-10-18 16:17:37",
                        "2024-10-18 16:17:38",
                        "2024-10-18 16:17:38",
                        "2024-10-18 16:17:39",
                        "2024-10-18 16:17:39",
                        "2024-10-18 16:17:40",
                        "2024-10-18 16:17:40"
                      ],
                      "type": "scatter",
                      "x": [
                        0.6892747518790269,
                        -0.22321879337572237,
                        0.3005057379206729,
                        -0.7285423378113827,
                        1.2170403159443648,
                        1.5088880680217265,
                        2.9656854260311056,
                        2.984020896780921,
                        5.582296173123119,
                        3.406102225839688,
                        null
                      ],
                      "y": [
                        0.4754684432557069,
                        19.20215209117621,
                        0.8793565933453175,
                        17.922953755661524,
                        1.9436425563828388,
                        17.328351283706056,
                        17.699438952423797,
                        3.639688271076865,
                        17.018831390636347,
                        3.5330095423936347,
                        null
                      ]
                    },
                    {
                      "hovertemplate": "Clutter<br>(%{x}, %{y})<br>Time: %{meta}",
                      "meta": [
                        "2024-10-18 16:17:36",
                        "2024-10-18 16:17:36",
                        "2024-10-18 16:17:36",
                        "2024-10-18 16:17:36",
                        "2024-10-18 16:17:37",
                        "2024-10-18 16:17:38",
                        "2024-10-18 16:17:38",
                        "2024-10-18 16:17:38",
                        "2024-10-18 16:17:38",
                        "2024-10-18 16:17:38",
                        "2024-10-18 16:17:38",
                        "2024-10-18 16:17:38",
                        "2024-10-18 16:17:38",
                        "2024-10-18 16:17:38",
                        "2024-10-18 16:17:39",
                        "2024-10-18 16:17:39",
                        "2024-10-18 16:17:39",
                        "2024-10-18 16:17:39",
                        "2024-10-18 16:17:39",
                        "2024-10-18 16:17:39",
                        "2024-10-18 16:17:39",
                        "2024-10-18 16:17:39",
                        "2024-10-18 16:17:39",
                        "2024-10-18 16:17:40",
                        "2024-10-18 16:17:40",
                        "2024-10-18 16:17:40",
                        "2024-10-18 16:17:40",
                        "2024-10-18 16:17:40"
                      ],
                      "type": "scatter",
                      "x": [
                        8.934418874721363,
                        -8.57232028657122,
                        -0.2785528455799646,
                        -2.394906677830411,
                        -8.021679808017637,
                        11.257751367106982,
                        4.496288625378572,
                        -5.944374302951257,
                        -2.016609548324146,
                        8.936900781676737,
                        -3.215833182306616,
                        -5.964571266527066,
                        -6.683374781092832,
                        3.681681305644787,
                        9.704034988657854,
                        2.1864939296687336,
                        8.587865927402571,
                        9.890453924820045,
                        -1.065933467681237,
                        4.0469956719708495,
                        1.75442323340293,
                        -3.8205636556108424,
                        7.669723238131205,
                        -1.6509807267687533,
                        6.768800421585015,
                        1.0991449882339603,
                        14.338949870957963,
                        -2.629324024311172,
                        null
                      ],
                      "y": [
                        2.2679261516732137,
                        22.396435153278176,
                        27.493843619946297,
                        -2.8463607602042362,
                        23.538300093934936,
                        0.808582875937379,
                        13.04450365695117,
                        10.329574488640382,
                        22.72563949689815,
                        17.684972622572246,
                        18.90211719755032,
                        14.065251760560306,
                        17.59965129235671,
                        21.98908074021711,
                        16.094417016484112,
                        22.4385284467242,
                        11.425569972583345,
                        27.000181889692275,
                        15.605027281587933,
                        17.757274803353816,
                        17.75550903069641,
                        19.52921833710085,
                        11.265263241214607,
                        25.853127794171495,
                        11.702225399049489,
                        8.070378310572446,
                        16.622632821972992,
                        22.459964864142346,
                        null
                      ]
                    }
                  ],
                  "name": "2024-10-18 16:17:40",
                  "traces": [
                    0,
                    1,
                    2,
                    3,
                    4,
                    5
                  ]
                },
                {
                  "data": [
                    {
                      "type": "scatter",
                      "x": [
                        0,
                        0
                      ],
                      "y": [
                        0,
                        0
                      ]
                    },
                    {
                      "hovertemplate": "GroundTruthState<br>(%{x}, %{y})<br>Time: %{meta}",
                      "meta": [
                        "2024-10-18 16:17:36",
                        "2024-10-18 16:17:37",
                        "2024-10-18 16:17:38",
                        "2024-10-18 16:17:39",
                        "2024-10-18 16:17:40",
                        "2024-10-18 16:17:41"
                      ],
                      "type": "scatter",
                      "x": [
                        0,
                        1.0560429805265472,
                        2.0871090094870777,
                        3.049344171234631,
                        4.035254516130913,
                        5.021794006527739,
                        null
                      ],
                      "y": [
                        0,
                        1.0002136913507915,
                        2.0097169051278136,
                        3.0656770596553575,
                        4.215523952736348,
                        5.45033879682299,
                        null
                      ]
                    },
                    {
                      "hovertemplate": "GroundTruthState<br>(%{x}, %{y})<br>Time: %{meta}",
                      "meta": [
                        "2024-10-18 16:17:36",
                        "2024-10-18 16:17:37",
                        "2024-10-18 16:17:38",
                        "2024-10-18 16:17:39",
                        "2024-10-18 16:17:40",
                        "2024-10-18 16:17:41"
                      ],
                      "type": "scatter",
                      "x": [
                        0,
                        1.0884264773578487,
                        2.2815596346934623,
                        3.4815054595119137,
                        4.632148263003105,
                        5.782814008967763,
                        null
                      ],
                      "y": [
                        20,
                        18.9696055040752,
                        18.089516883876506,
                        17.315971076119247,
                        16.498148228589297,
                        15.768719556778667,
                        null
                      ]
                    },
                    {
                      "type": "scatter",
                      "x": [
                        null,
                        null
                      ],
                      "y": [
                        null,
                        null
                      ]
                    },
                    {
                      "hovertemplate": "Detection<br>(%{x}, %{y})<br>Time: %{meta}",
                      "meta": [
                        "2024-10-18 16:17:36",
                        "2024-10-18 16:17:36",
                        "2024-10-18 16:17:37",
                        "2024-10-18 16:17:37",
                        "2024-10-18 16:17:38",
                        "2024-10-18 16:17:38",
                        "2024-10-18 16:17:39",
                        "2024-10-18 16:17:39",
                        "2024-10-18 16:17:40",
                        "2024-10-18 16:17:40",
                        "2024-10-18 16:17:41"
                      ],
                      "type": "scatter",
                      "x": [
                        0.6892747518790269,
                        -0.22321879337572237,
                        0.3005057379206729,
                        -0.7285423378113827,
                        1.2170403159443648,
                        1.5088880680217265,
                        2.9656854260311056,
                        2.984020896780921,
                        5.582296173123119,
                        3.406102225839688,
                        6.459373616763288,
                        null
                      ],
                      "y": [
                        0.4754684432557069,
                        19.20215209117621,
                        0.8793565933453175,
                        17.922953755661524,
                        1.9436425563828388,
                        17.328351283706056,
                        17.699438952423797,
                        3.639688271076865,
                        17.018831390636347,
                        3.5330095423936347,
                        4.291860873562644,
                        null
                      ]
                    },
                    {
                      "hovertemplate": "Clutter<br>(%{x}, %{y})<br>Time: %{meta}",
                      "meta": [
                        "2024-10-18 16:17:36",
                        "2024-10-18 16:17:36",
                        "2024-10-18 16:17:36",
                        "2024-10-18 16:17:36",
                        "2024-10-18 16:17:37",
                        "2024-10-18 16:17:38",
                        "2024-10-18 16:17:38",
                        "2024-10-18 16:17:38",
                        "2024-10-18 16:17:38",
                        "2024-10-18 16:17:38",
                        "2024-10-18 16:17:38",
                        "2024-10-18 16:17:38",
                        "2024-10-18 16:17:38",
                        "2024-10-18 16:17:38",
                        "2024-10-18 16:17:39",
                        "2024-10-18 16:17:39",
                        "2024-10-18 16:17:39",
                        "2024-10-18 16:17:39",
                        "2024-10-18 16:17:39",
                        "2024-10-18 16:17:39",
                        "2024-10-18 16:17:39",
                        "2024-10-18 16:17:39",
                        "2024-10-18 16:17:39",
                        "2024-10-18 16:17:40",
                        "2024-10-18 16:17:40",
                        "2024-10-18 16:17:40",
                        "2024-10-18 16:17:40",
                        "2024-10-18 16:17:40",
                        "2024-10-18 16:17:41",
                        "2024-10-18 16:17:41",
                        "2024-10-18 16:17:41"
                      ],
                      "type": "scatter",
                      "x": [
                        8.934418874721363,
                        -8.57232028657122,
                        -0.2785528455799646,
                        -2.394906677830411,
                        -8.021679808017637,
                        11.257751367106982,
                        4.496288625378572,
                        -5.944374302951257,
                        -2.016609548324146,
                        8.936900781676737,
                        -3.215833182306616,
                        -5.964571266527066,
                        -6.683374781092832,
                        3.681681305644787,
                        9.704034988657854,
                        2.1864939296687336,
                        8.587865927402571,
                        9.890453924820045,
                        -1.065933467681237,
                        4.0469956719708495,
                        1.75442323340293,
                        -3.8205636556108424,
                        7.669723238131205,
                        -1.6509807267687533,
                        6.768800421585015,
                        1.0991449882339603,
                        14.338949870957963,
                        -2.629324024311172,
                        1.6091259564875413,
                        14.076399593749855,
                        -3.491039373397642,
                        null
                      ],
                      "y": [
                        2.2679261516732137,
                        22.396435153278176,
                        27.493843619946297,
                        -2.8463607602042362,
                        23.538300093934936,
                        0.808582875937379,
                        13.04450365695117,
                        10.329574488640382,
                        22.72563949689815,
                        17.684972622572246,
                        18.90211719755032,
                        14.065251760560306,
                        17.59965129235671,
                        21.98908074021711,
                        16.094417016484112,
                        22.4385284467242,
                        11.425569972583345,
                        27.000181889692275,
                        15.605027281587933,
                        17.757274803353816,
                        17.75550903069641,
                        19.52921833710085,
                        11.265263241214607,
                        25.853127794171495,
                        11.702225399049489,
                        8.070378310572446,
                        16.622632821972992,
                        22.459964864142346,
                        0.6934435660871117,
                        -2.6812158755693414,
                        10.429785852906038,
                        null
                      ]
                    }
                  ],
                  "name": "2024-10-18 16:17:41",
                  "traces": [
                    0,
                    1,
                    2,
                    3,
                    4,
                    5
                  ]
                },
                {
                  "data": [
                    {
                      "type": "scatter",
                      "x": [
                        0,
                        0
                      ],
                      "y": [
                        0,
                        0
                      ]
                    },
                    {
                      "hovertemplate": "GroundTruthState<br>(%{x}, %{y})<br>Time: %{meta}",
                      "meta": [
                        "2024-10-18 16:17:36",
                        "2024-10-18 16:17:37",
                        "2024-10-18 16:17:38",
                        "2024-10-18 16:17:39",
                        "2024-10-18 16:17:40",
                        "2024-10-18 16:17:41",
                        "2024-10-18 16:17:42"
                      ],
                      "type": "scatter",
                      "x": [
                        0,
                        1.0560429805265472,
                        2.0871090094870777,
                        3.049344171234631,
                        4.035254516130913,
                        5.021794006527739,
                        6.0424073988889715,
                        null
                      ],
                      "y": [
                        0,
                        1.0002136913507915,
                        2.0097169051278136,
                        3.0656770596553575,
                        4.215523952736348,
                        5.45033879682299,
                        6.724654049033004,
                        null
                      ]
                    },
                    {
                      "hovertemplate": "GroundTruthState<br>(%{x}, %{y})<br>Time: %{meta}",
                      "meta": [
                        "2024-10-18 16:17:36",
                        "2024-10-18 16:17:37",
                        "2024-10-18 16:17:38",
                        "2024-10-18 16:17:39",
                        "2024-10-18 16:17:40",
                        "2024-10-18 16:17:41",
                        "2024-10-18 16:17:42"
                      ],
                      "type": "scatter",
                      "x": [
                        0,
                        1.0884264773578487,
                        2.2815596346934623,
                        3.4815054595119137,
                        4.632148263003105,
                        5.782814008967763,
                        6.941986507748744,
                        null
                      ],
                      "y": [
                        20,
                        18.9696055040752,
                        18.089516883876506,
                        17.315971076119247,
                        16.498148228589297,
                        15.768719556778667,
                        14.98008435716024,
                        null
                      ]
                    },
                    {
                      "type": "scatter",
                      "x": [
                        null,
                        null
                      ],
                      "y": [
                        null,
                        null
                      ]
                    },
                    {
                      "hovertemplate": "Detection<br>(%{x}, %{y})<br>Time: %{meta}",
                      "meta": [
                        "2024-10-18 16:17:36",
                        "2024-10-18 16:17:36",
                        "2024-10-18 16:17:37",
                        "2024-10-18 16:17:37",
                        "2024-10-18 16:17:38",
                        "2024-10-18 16:17:38",
                        "2024-10-18 16:17:39",
                        "2024-10-18 16:17:39",
                        "2024-10-18 16:17:40",
                        "2024-10-18 16:17:40",
                        "2024-10-18 16:17:41",
                        "2024-10-18 16:17:42",
                        "2024-10-18 16:17:42"
                      ],
                      "type": "scatter",
                      "x": [
                        0.6892747518790269,
                        -0.22321879337572237,
                        0.3005057379206729,
                        -0.7285423378113827,
                        1.2170403159443648,
                        1.5088880680217265,
                        2.9656854260311056,
                        2.984020896780921,
                        5.582296173123119,
                        3.406102225839688,
                        6.459373616763288,
                        5.973576291806841,
                        5.54178736990687,
                        null
                      ],
                      "y": [
                        0.4754684432557069,
                        19.20215209117621,
                        0.8793565933453175,
                        17.922953755661524,
                        1.9436425563828388,
                        17.328351283706056,
                        17.699438952423797,
                        3.639688271076865,
                        17.018831390636347,
                        3.5330095423936347,
                        4.291860873562644,
                        6.75183768750276,
                        16.230166603248385,
                        null
                      ]
                    },
                    {
                      "hovertemplate": "Clutter<br>(%{x}, %{y})<br>Time: %{meta}",
                      "meta": [
                        "2024-10-18 16:17:36",
                        "2024-10-18 16:17:36",
                        "2024-10-18 16:17:36",
                        "2024-10-18 16:17:36",
                        "2024-10-18 16:17:37",
                        "2024-10-18 16:17:38",
                        "2024-10-18 16:17:38",
                        "2024-10-18 16:17:38",
                        "2024-10-18 16:17:38",
                        "2024-10-18 16:17:38",
                        "2024-10-18 16:17:38",
                        "2024-10-18 16:17:38",
                        "2024-10-18 16:17:38",
                        "2024-10-18 16:17:38",
                        "2024-10-18 16:17:39",
                        "2024-10-18 16:17:39",
                        "2024-10-18 16:17:39",
                        "2024-10-18 16:17:39",
                        "2024-10-18 16:17:39",
                        "2024-10-18 16:17:39",
                        "2024-10-18 16:17:39",
                        "2024-10-18 16:17:39",
                        "2024-10-18 16:17:39",
                        "2024-10-18 16:17:40",
                        "2024-10-18 16:17:40",
                        "2024-10-18 16:17:40",
                        "2024-10-18 16:17:40",
                        "2024-10-18 16:17:40",
                        "2024-10-18 16:17:41",
                        "2024-10-18 16:17:41",
                        "2024-10-18 16:17:41",
                        "2024-10-18 16:17:42",
                        "2024-10-18 16:17:42",
                        "2024-10-18 16:17:42",
                        "2024-10-18 16:17:42",
                        "2024-10-18 16:17:42",
                        "2024-10-18 16:17:42",
                        "2024-10-18 16:17:42",
                        "2024-10-18 16:17:42",
                        "2024-10-18 16:17:42",
                        "2024-10-18 16:17:42"
                      ],
                      "type": "scatter",
                      "x": [
                        8.934418874721363,
                        -8.57232028657122,
                        -0.2785528455799646,
                        -2.394906677830411,
                        -8.021679808017637,
                        11.257751367106982,
                        4.496288625378572,
                        -5.944374302951257,
                        -2.016609548324146,
                        8.936900781676737,
                        -3.215833182306616,
                        -5.964571266527066,
                        -6.683374781092832,
                        3.681681305644787,
                        9.704034988657854,
                        2.1864939296687336,
                        8.587865927402571,
                        9.890453924820045,
                        -1.065933467681237,
                        4.0469956719708495,
                        1.75442323340293,
                        -3.8205636556108424,
                        7.669723238131205,
                        -1.6509807267687533,
                        6.768800421585015,
                        1.0991449882339603,
                        14.338949870957963,
                        -2.629324024311172,
                        1.6091259564875413,
                        14.076399593749855,
                        -3.491039373397642,
                        -3.578296974920294,
                        10.522318948382381,
                        0.2458572088132449,
                        2.2032982341465086,
                        1.9169619721019178,
                        9.261299370986642,
                        9.2495980120906,
                        1.7796817557856253,
                        -0.11232247128855155,
                        14.20060753119374,
                        null
                      ],
                      "y": [
                        2.2679261516732137,
                        22.396435153278176,
                        27.493843619946297,
                        -2.8463607602042362,
                        23.538300093934936,
                        0.808582875937379,
                        13.04450365695117,
                        10.329574488640382,
                        22.72563949689815,
                        17.684972622572246,
                        18.90211719755032,
                        14.065251760560306,
                        17.59965129235671,
                        21.98908074021711,
                        16.094417016484112,
                        22.4385284467242,
                        11.425569972583345,
                        27.000181889692275,
                        15.605027281587933,
                        17.757274803353816,
                        17.75550903069641,
                        19.52921833710085,
                        11.265263241214607,
                        25.853127794171495,
                        11.702225399049489,
                        8.070378310572446,
                        16.622632821972992,
                        22.459964864142346,
                        0.6934435660871117,
                        -2.6812158755693414,
                        10.429785852906038,
                        -0.12592137288093452,
                        -0.32307321454539917,
                        16.640161466813346,
                        21.632138106131077,
                        13.469200849858995,
                        21.442710385359504,
                        19.26571617923379,
                        9.694613264381562,
                        23.76089961749463,
                        11.244367535938967,
                        null
                      ]
                    }
                  ],
                  "name": "2024-10-18 16:17:42",
                  "traces": [
                    0,
                    1,
                    2,
                    3,
                    4,
                    5
                  ]
                },
                {
                  "data": [
                    {
                      "type": "scatter",
                      "x": [
                        0,
                        0
                      ],
                      "y": [
                        0,
                        0
                      ]
                    },
                    {
                      "hovertemplate": "GroundTruthState<br>(%{x}, %{y})<br>Time: %{meta}",
                      "meta": [
                        "2024-10-18 16:17:37",
                        "2024-10-18 16:17:38",
                        "2024-10-18 16:17:39",
                        "2024-10-18 16:17:40",
                        "2024-10-18 16:17:41",
                        "2024-10-18 16:17:42",
                        "2024-10-18 16:17:43"
                      ],
                      "type": "scatter",
                      "x": [
                        1.0560429805265472,
                        2.0871090094870777,
                        3.049344171234631,
                        4.035254516130913,
                        5.021794006527739,
                        6.0424073988889715,
                        7.106461743252968,
                        null
                      ],
                      "y": [
                        1.0002136913507915,
                        2.0097169051278136,
                        3.0656770596553575,
                        4.215523952736348,
                        5.45033879682299,
                        6.724654049033004,
                        8.015133207951292,
                        null
                      ]
                    },
                    {
                      "hovertemplate": "GroundTruthState<br>(%{x}, %{y})<br>Time: %{meta}",
                      "meta": [
                        "2024-10-18 16:17:37",
                        "2024-10-18 16:17:38",
                        "2024-10-18 16:17:39",
                        "2024-10-18 16:17:40",
                        "2024-10-18 16:17:41",
                        "2024-10-18 16:17:42",
                        "2024-10-18 16:17:43"
                      ],
                      "type": "scatter",
                      "x": [
                        1.0884264773578487,
                        2.2815596346934623,
                        3.4815054595119137,
                        4.632148263003105,
                        5.782814008967763,
                        6.941986507748744,
                        8.069060760289945,
                        null
                      ],
                      "y": [
                        18.9696055040752,
                        18.089516883876506,
                        17.315971076119247,
                        16.498148228589297,
                        15.768719556778667,
                        14.98008435716024,
                        14.204786756026747,
                        null
                      ]
                    },
                    {
                      "type": "scatter",
                      "x": [
                        null,
                        null
                      ],
                      "y": [
                        null,
                        null
                      ]
                    },
                    {
                      "hovertemplate": "Detection<br>(%{x}, %{y})<br>Time: %{meta}",
                      "meta": [
                        "2024-10-18 16:17:37",
                        "2024-10-18 16:17:37",
                        "2024-10-18 16:17:38",
                        "2024-10-18 16:17:38",
                        "2024-10-18 16:17:39",
                        "2024-10-18 16:17:39",
                        "2024-10-18 16:17:40",
                        "2024-10-18 16:17:40",
                        "2024-10-18 16:17:41",
                        "2024-10-18 16:17:42",
                        "2024-10-18 16:17:42",
                        "2024-10-18 16:17:43"
                      ],
                      "type": "scatter",
                      "x": [
                        0.3005057379206729,
                        -0.7285423378113827,
                        1.2170403159443648,
                        1.5088880680217265,
                        2.9656854260311056,
                        2.984020896780921,
                        5.582296173123119,
                        3.406102225839688,
                        6.459373616763288,
                        5.973576291806841,
                        5.54178736990687,
                        8.095785349659689,
                        null
                      ],
                      "y": [
                        0.8793565933453175,
                        17.922953755661524,
                        1.9436425563828388,
                        17.328351283706056,
                        17.699438952423797,
                        3.639688271076865,
                        17.018831390636347,
                        3.5330095423936347,
                        4.291860873562644,
                        6.75183768750276,
                        16.230166603248385,
                        7.2672631405064525,
                        null
                      ]
                    },
                    {
                      "hovertemplate": "Clutter<br>(%{x}, %{y})<br>Time: %{meta}",
                      "meta": [
                        "2024-10-18 16:17:37",
                        "2024-10-18 16:17:38",
                        "2024-10-18 16:17:38",
                        "2024-10-18 16:17:38",
                        "2024-10-18 16:17:38",
                        "2024-10-18 16:17:38",
                        "2024-10-18 16:17:38",
                        "2024-10-18 16:17:38",
                        "2024-10-18 16:17:38",
                        "2024-10-18 16:17:38",
                        "2024-10-18 16:17:39",
                        "2024-10-18 16:17:39",
                        "2024-10-18 16:17:39",
                        "2024-10-18 16:17:39",
                        "2024-10-18 16:17:39",
                        "2024-10-18 16:17:39",
                        "2024-10-18 16:17:39",
                        "2024-10-18 16:17:39",
                        "2024-10-18 16:17:39",
                        "2024-10-18 16:17:40",
                        "2024-10-18 16:17:40",
                        "2024-10-18 16:17:40",
                        "2024-10-18 16:17:40",
                        "2024-10-18 16:17:40",
                        "2024-10-18 16:17:41",
                        "2024-10-18 16:17:41",
                        "2024-10-18 16:17:41",
                        "2024-10-18 16:17:42",
                        "2024-10-18 16:17:42",
                        "2024-10-18 16:17:42",
                        "2024-10-18 16:17:42",
                        "2024-10-18 16:17:42",
                        "2024-10-18 16:17:42",
                        "2024-10-18 16:17:42",
                        "2024-10-18 16:17:42",
                        "2024-10-18 16:17:42",
                        "2024-10-18 16:17:42",
                        "2024-10-18 16:17:43",
                        "2024-10-18 16:17:43",
                        "2024-10-18 16:17:43",
                        "2024-10-18 16:17:43",
                        "2024-10-18 16:17:43",
                        "2024-10-18 16:17:43",
                        "2024-10-18 16:17:43",
                        "2024-10-18 16:17:43"
                      ],
                      "type": "scatter",
                      "x": [
                        -8.021679808017637,
                        11.257751367106982,
                        4.496288625378572,
                        -5.944374302951257,
                        -2.016609548324146,
                        8.936900781676737,
                        -3.215833182306616,
                        -5.964571266527066,
                        -6.683374781092832,
                        3.681681305644787,
                        9.704034988657854,
                        2.1864939296687336,
                        8.587865927402571,
                        9.890453924820045,
                        -1.065933467681237,
                        4.0469956719708495,
                        1.75442323340293,
                        -3.8205636556108424,
                        7.669723238131205,
                        -1.6509807267687533,
                        6.768800421585015,
                        1.0991449882339603,
                        14.338949870957963,
                        -2.629324024311172,
                        1.6091259564875413,
                        14.076399593749855,
                        -3.491039373397642,
                        -3.578296974920294,
                        10.522318948382381,
                        0.2458572088132449,
                        2.2032982341465086,
                        1.9169619721019178,
                        9.261299370986642,
                        9.2495980120906,
                        1.7796817557856253,
                        -0.11232247128855155,
                        14.20060753119374,
                        4.853678524430386,
                        16.22002723960181,
                        12.153884366554056,
                        2.0936540553096794,
                        7.62658667086701,
                        14.426039129229075,
                        16.42758206424372,
                        10.917867579840069,
                        null
                      ],
                      "y": [
                        23.538300093934936,
                        0.808582875937379,
                        13.04450365695117,
                        10.329574488640382,
                        22.72563949689815,
                        17.684972622572246,
                        18.90211719755032,
                        14.065251760560306,
                        17.59965129235671,
                        21.98908074021711,
                        16.094417016484112,
                        22.4385284467242,
                        11.425569972583345,
                        27.000181889692275,
                        15.605027281587933,
                        17.757274803353816,
                        17.75550903069641,
                        19.52921833710085,
                        11.265263241214607,
                        25.853127794171495,
                        11.702225399049489,
                        8.070378310572446,
                        16.622632821972992,
                        22.459964864142346,
                        0.6934435660871117,
                        -2.6812158755693414,
                        10.429785852906038,
                        -0.12592137288093452,
                        -0.32307321454539917,
                        16.640161466813346,
                        21.632138106131077,
                        13.469200849858995,
                        21.442710385359504,
                        19.26571617923379,
                        9.694613264381562,
                        23.76089961749463,
                        11.244367535938967,
                        7.164484291818722,
                        14.942814324942846,
                        17.673678798875095,
                        -1.9569195810567401,
                        5.055682262579161,
                        1.8419044200860641,
                        17.27417783470917,
                        0.6190288661644989,
                        null
                      ]
                    }
                  ],
                  "name": "2024-10-18 16:17:43",
                  "traces": [
                    0,
                    1,
                    2,
                    3,
                    4,
                    5
                  ]
                },
                {
                  "data": [
                    {
                      "type": "scatter",
                      "x": [
                        0,
                        0
                      ],
                      "y": [
                        0,
                        0
                      ]
                    },
                    {
                      "hovertemplate": "GroundTruthState<br>(%{x}, %{y})<br>Time: %{meta}",
                      "meta": [
                        "2024-10-18 16:17:38",
                        "2024-10-18 16:17:39",
                        "2024-10-18 16:17:40",
                        "2024-10-18 16:17:41",
                        "2024-10-18 16:17:42",
                        "2024-10-18 16:17:43",
                        "2024-10-18 16:17:44"
                      ],
                      "type": "scatter",
                      "x": [
                        2.0871090094870777,
                        3.049344171234631,
                        4.035254516130913,
                        5.021794006527739,
                        6.0424073988889715,
                        7.106461743252968,
                        8.224123195449215,
                        null
                      ],
                      "y": [
                        2.0097169051278136,
                        3.0656770596553575,
                        4.215523952736348,
                        5.45033879682299,
                        6.724654049033004,
                        8.015133207951292,
                        9.467034723032649,
                        null
                      ]
                    },
                    {
                      "hovertemplate": "GroundTruthState<br>(%{x}, %{y})<br>Time: %{meta}",
                      "meta": [
                        "2024-10-18 16:17:38",
                        "2024-10-18 16:17:39",
                        "2024-10-18 16:17:40",
                        "2024-10-18 16:17:41",
                        "2024-10-18 16:17:42",
                        "2024-10-18 16:17:43",
                        "2024-10-18 16:17:44"
                      ],
                      "type": "scatter",
                      "x": [
                        2.2815596346934623,
                        3.4815054595119137,
                        4.632148263003105,
                        5.782814008967763,
                        6.941986507748744,
                        8.069060760289945,
                        9.227207416758956,
                        null
                      ],
                      "y": [
                        18.089516883876506,
                        17.315971076119247,
                        16.498148228589297,
                        15.768719556778667,
                        14.98008435716024,
                        14.204786756026747,
                        13.538952682693612,
                        null
                      ]
                    },
                    {
                      "type": "scatter",
                      "x": [
                        null,
                        null
                      ],
                      "y": [
                        null,
                        null
                      ]
                    },
                    {
                      "hovertemplate": "Detection<br>(%{x}, %{y})<br>Time: %{meta}",
                      "meta": [
                        "2024-10-18 16:17:38",
                        "2024-10-18 16:17:38",
                        "2024-10-18 16:17:39",
                        "2024-10-18 16:17:39",
                        "2024-10-18 16:17:40",
                        "2024-10-18 16:17:40",
                        "2024-10-18 16:17:41",
                        "2024-10-18 16:17:42",
                        "2024-10-18 16:17:42",
                        "2024-10-18 16:17:43",
                        "2024-10-18 16:17:44",
                        "2024-10-18 16:17:44"
                      ],
                      "type": "scatter",
                      "x": [
                        1.2170403159443648,
                        1.5088880680217265,
                        2.9656854260311056,
                        2.984020896780921,
                        5.582296173123119,
                        3.406102225839688,
                        6.459373616763288,
                        5.973576291806841,
                        5.54178736990687,
                        8.095785349659689,
                        8.532923167663032,
                        9.502651167865073,
                        null
                      ],
                      "y": [
                        1.9436425563828388,
                        17.328351283706056,
                        17.699438952423797,
                        3.639688271076865,
                        17.018831390636347,
                        3.5330095423936347,
                        4.291860873562644,
                        6.75183768750276,
                        16.230166603248385,
                        7.2672631405064525,
                        12.697236492626555,
                        8.480661791196006,
                        null
                      ]
                    },
                    {
                      "hovertemplate": "Clutter<br>(%{x}, %{y})<br>Time: %{meta}",
                      "meta": [
                        "2024-10-18 16:17:38",
                        "2024-10-18 16:17:38",
                        "2024-10-18 16:17:38",
                        "2024-10-18 16:17:38",
                        "2024-10-18 16:17:38",
                        "2024-10-18 16:17:38",
                        "2024-10-18 16:17:38",
                        "2024-10-18 16:17:38",
                        "2024-10-18 16:17:38",
                        "2024-10-18 16:17:39",
                        "2024-10-18 16:17:39",
                        "2024-10-18 16:17:39",
                        "2024-10-18 16:17:39",
                        "2024-10-18 16:17:39",
                        "2024-10-18 16:17:39",
                        "2024-10-18 16:17:39",
                        "2024-10-18 16:17:39",
                        "2024-10-18 16:17:39",
                        "2024-10-18 16:17:40",
                        "2024-10-18 16:17:40",
                        "2024-10-18 16:17:40",
                        "2024-10-18 16:17:40",
                        "2024-10-18 16:17:40",
                        "2024-10-18 16:17:41",
                        "2024-10-18 16:17:41",
                        "2024-10-18 16:17:41",
                        "2024-10-18 16:17:42",
                        "2024-10-18 16:17:42",
                        "2024-10-18 16:17:42",
                        "2024-10-18 16:17:42",
                        "2024-10-18 16:17:42",
                        "2024-10-18 16:17:42",
                        "2024-10-18 16:17:42",
                        "2024-10-18 16:17:42",
                        "2024-10-18 16:17:42",
                        "2024-10-18 16:17:42",
                        "2024-10-18 16:17:43",
                        "2024-10-18 16:17:43",
                        "2024-10-18 16:17:43",
                        "2024-10-18 16:17:43",
                        "2024-10-18 16:17:43",
                        "2024-10-18 16:17:43",
                        "2024-10-18 16:17:43",
                        "2024-10-18 16:17:43",
                        "2024-10-18 16:17:44",
                        "2024-10-18 16:17:44",
                        "2024-10-18 16:17:44",
                        "2024-10-18 16:17:44"
                      ],
                      "type": "scatter",
                      "x": [
                        11.257751367106982,
                        4.496288625378572,
                        -5.944374302951257,
                        -2.016609548324146,
                        8.936900781676737,
                        -3.215833182306616,
                        -5.964571266527066,
                        -6.683374781092832,
                        3.681681305644787,
                        9.704034988657854,
                        2.1864939296687336,
                        8.587865927402571,
                        9.890453924820045,
                        -1.065933467681237,
                        4.0469956719708495,
                        1.75442323340293,
                        -3.8205636556108424,
                        7.669723238131205,
                        -1.6509807267687533,
                        6.768800421585015,
                        1.0991449882339603,
                        14.338949870957963,
                        -2.629324024311172,
                        1.6091259564875413,
                        14.076399593749855,
                        -3.491039373397642,
                        -3.578296974920294,
                        10.522318948382381,
                        0.2458572088132449,
                        2.2032982341465086,
                        1.9169619721019178,
                        9.261299370986642,
                        9.2495980120906,
                        1.7796817557856253,
                        -0.11232247128855155,
                        14.20060753119374,
                        4.853678524430386,
                        16.22002723960181,
                        12.153884366554056,
                        2.0936540553096794,
                        7.62658667086701,
                        14.426039129229075,
                        16.42758206424372,
                        10.917867579840069,
                        13.852178275470678,
                        2.5754500156795874,
                        5.578893677926008,
                        2.3848778210864277,
                        null
                      ],
                      "y": [
                        0.808582875937379,
                        13.04450365695117,
                        10.329574488640382,
                        22.72563949689815,
                        17.684972622572246,
                        18.90211719755032,
                        14.065251760560306,
                        17.59965129235671,
                        21.98908074021711,
                        16.094417016484112,
                        22.4385284467242,
                        11.425569972583345,
                        27.000181889692275,
                        15.605027281587933,
                        17.757274803353816,
                        17.75550903069641,
                        19.52921833710085,
                        11.265263241214607,
                        25.853127794171495,
                        11.702225399049489,
                        8.070378310572446,
                        16.622632821972992,
                        22.459964864142346,
                        0.6934435660871117,
                        -2.6812158755693414,
                        10.429785852906038,
                        -0.12592137288093452,
                        -0.32307321454539917,
                        16.640161466813346,
                        21.632138106131077,
                        13.469200849858995,
                        21.442710385359504,
                        19.26571617923379,
                        9.694613264381562,
                        23.76089961749463,
                        11.244367535938967,
                        7.164484291818722,
                        14.942814324942846,
                        17.673678798875095,
                        -1.9569195810567401,
                        5.055682262579161,
                        1.8419044200860641,
                        17.27417783470917,
                        0.6190288661644989,
                        5.307973226371944,
                        14.78869597852326,
                        9.758134058426807,
                        18.187976207470037,
                        null
                      ]
                    }
                  ],
                  "name": "2024-10-18 16:17:44",
                  "traces": [
                    0,
                    1,
                    2,
                    3,
                    4,
                    5
                  ]
                },
                {
                  "data": [
                    {
                      "type": "scatter",
                      "x": [
                        0,
                        0
                      ],
                      "y": [
                        0,
                        0
                      ]
                    },
                    {
                      "hovertemplate": "GroundTruthState<br>(%{x}, %{y})<br>Time: %{meta}",
                      "meta": [
                        "2024-10-18 16:17:39",
                        "2024-10-18 16:17:40",
                        "2024-10-18 16:17:41",
                        "2024-10-18 16:17:42",
                        "2024-10-18 16:17:43",
                        "2024-10-18 16:17:44",
                        "2024-10-18 16:17:45"
                      ],
                      "type": "scatter",
                      "x": [
                        3.049344171234631,
                        4.035254516130913,
                        5.021794006527739,
                        6.0424073988889715,
                        7.106461743252968,
                        8.224123195449215,
                        9.209238100519523,
                        null
                      ],
                      "y": [
                        3.0656770596553575,
                        4.215523952736348,
                        5.45033879682299,
                        6.724654049033004,
                        8.015133207951292,
                        9.467034723032649,
                        10.921792166951443,
                        null
                      ]
                    },
                    {
                      "hovertemplate": "GroundTruthState<br>(%{x}, %{y})<br>Time: %{meta}",
                      "meta": [
                        "2024-10-18 16:17:39",
                        "2024-10-18 16:17:40",
                        "2024-10-18 16:17:41",
                        "2024-10-18 16:17:42",
                        "2024-10-18 16:17:43",
                        "2024-10-18 16:17:44",
                        "2024-10-18 16:17:45"
                      ],
                      "type": "scatter",
                      "x": [
                        3.4815054595119137,
                        4.632148263003105,
                        5.782814008967763,
                        6.941986507748744,
                        8.069060760289945,
                        9.227207416758956,
                        10.39760035891079,
                        null
                      ],
                      "y": [
                        17.315971076119247,
                        16.498148228589297,
                        15.768719556778667,
                        14.98008435716024,
                        14.204786756026747,
                        13.538952682693612,
                        12.98533463036542,
                        null
                      ]
                    },
                    {
                      "type": "scatter",
                      "x": [
                        null,
                        null
                      ],
                      "y": [
                        null,
                        null
                      ]
                    },
                    {
                      "hovertemplate": "Detection<br>(%{x}, %{y})<br>Time: %{meta}",
                      "meta": [
                        "2024-10-18 16:17:39",
                        "2024-10-18 16:17:39",
                        "2024-10-18 16:17:40",
                        "2024-10-18 16:17:40",
                        "2024-10-18 16:17:41",
                        "2024-10-18 16:17:42",
                        "2024-10-18 16:17:42",
                        "2024-10-18 16:17:43",
                        "2024-10-18 16:17:44",
                        "2024-10-18 16:17:44",
                        "2024-10-18 16:17:45"
                      ],
                      "type": "scatter",
                      "x": [
                        2.9656854260311056,
                        2.984020896780921,
                        5.582296173123119,
                        3.406102225839688,
                        6.459373616763288,
                        5.973576291806841,
                        5.54178736990687,
                        8.095785349659689,
                        8.532923167663032,
                        9.502651167865073,
                        9.361646351991144,
                        null
                      ],
                      "y": [
                        17.699438952423797,
                        3.639688271076865,
                        17.018831390636347,
                        3.5330095423936347,
                        4.291860873562644,
                        6.75183768750276,
                        16.230166603248385,
                        7.2672631405064525,
                        12.697236492626555,
                        8.480661791196006,
                        13.1693210600378,
                        null
                      ]
                    },
                    {
                      "hovertemplate": "Clutter<br>(%{x}, %{y})<br>Time: %{meta}",
                      "meta": [
                        "2024-10-18 16:17:39",
                        "2024-10-18 16:17:39",
                        "2024-10-18 16:17:39",
                        "2024-10-18 16:17:39",
                        "2024-10-18 16:17:39",
                        "2024-10-18 16:17:39",
                        "2024-10-18 16:17:39",
                        "2024-10-18 16:17:39",
                        "2024-10-18 16:17:39",
                        "2024-10-18 16:17:40",
                        "2024-10-18 16:17:40",
                        "2024-10-18 16:17:40",
                        "2024-10-18 16:17:40",
                        "2024-10-18 16:17:40",
                        "2024-10-18 16:17:41",
                        "2024-10-18 16:17:41",
                        "2024-10-18 16:17:41",
                        "2024-10-18 16:17:42",
                        "2024-10-18 16:17:42",
                        "2024-10-18 16:17:42",
                        "2024-10-18 16:17:42",
                        "2024-10-18 16:17:42",
                        "2024-10-18 16:17:42",
                        "2024-10-18 16:17:42",
                        "2024-10-18 16:17:42",
                        "2024-10-18 16:17:42",
                        "2024-10-18 16:17:42",
                        "2024-10-18 16:17:43",
                        "2024-10-18 16:17:43",
                        "2024-10-18 16:17:43",
                        "2024-10-18 16:17:43",
                        "2024-10-18 16:17:43",
                        "2024-10-18 16:17:43",
                        "2024-10-18 16:17:43",
                        "2024-10-18 16:17:43",
                        "2024-10-18 16:17:44",
                        "2024-10-18 16:17:44",
                        "2024-10-18 16:17:44",
                        "2024-10-18 16:17:44",
                        "2024-10-18 16:17:45",
                        "2024-10-18 16:17:45",
                        "2024-10-18 16:17:45",
                        "2024-10-18 16:17:45",
                        "2024-10-18 16:17:45",
                        "2024-10-18 16:17:45",
                        "2024-10-18 16:17:45"
                      ],
                      "type": "scatter",
                      "x": [
                        9.704034988657854,
                        2.1864939296687336,
                        8.587865927402571,
                        9.890453924820045,
                        -1.065933467681237,
                        4.0469956719708495,
                        1.75442323340293,
                        -3.8205636556108424,
                        7.669723238131205,
                        -1.6509807267687533,
                        6.768800421585015,
                        1.0991449882339603,
                        14.338949870957963,
                        -2.629324024311172,
                        1.6091259564875413,
                        14.076399593749855,
                        -3.491039373397642,
                        -3.578296974920294,
                        10.522318948382381,
                        0.2458572088132449,
                        2.2032982341465086,
                        1.9169619721019178,
                        9.261299370986642,
                        9.2495980120906,
                        1.7796817557856253,
                        -0.11232247128855155,
                        14.20060753119374,
                        4.853678524430386,
                        16.22002723960181,
                        12.153884366554056,
                        2.0936540553096794,
                        7.62658667086701,
                        14.426039129229075,
                        16.42758206424372,
                        10.917867579840069,
                        13.852178275470678,
                        2.5754500156795874,
                        5.578893677926008,
                        2.3848778210864277,
                        2.0093485367539,
                        13.57316002410196,
                        11.860585184508606,
                        11.10387721525521,
                        6.439822664881406,
                        12.896602193090112,
                        18.213146396557562,
                        null
                      ],
                      "y": [
                        16.094417016484112,
                        22.4385284467242,
                        11.425569972583345,
                        27.000181889692275,
                        15.605027281587933,
                        17.757274803353816,
                        17.75550903069641,
                        19.52921833710085,
                        11.265263241214607,
                        25.853127794171495,
                        11.702225399049489,
                        8.070378310572446,
                        16.622632821972992,
                        22.459964864142346,
                        0.6934435660871117,
                        -2.6812158755693414,
                        10.429785852906038,
                        -0.12592137288093452,
                        -0.32307321454539917,
                        16.640161466813346,
                        21.632138106131077,
                        13.469200849858995,
                        21.442710385359504,
                        19.26571617923379,
                        9.694613264381562,
                        23.76089961749463,
                        11.244367535938967,
                        7.164484291818722,
                        14.942814324942846,
                        17.673678798875095,
                        -1.9569195810567401,
                        5.055682262579161,
                        1.8419044200860641,
                        17.27417783470917,
                        0.6190288661644989,
                        5.307973226371944,
                        14.78869597852326,
                        9.758134058426807,
                        18.187976207470037,
                        9.158583599997893,
                        21.60806697333083,
                        4.580272417421519,
                        19.13967415613846,
                        20.829940358683324,
                        1.2784953538941268,
                        5.870215212359163,
                        null
                      ]
                    }
                  ],
                  "name": "2024-10-18 16:17:45",
                  "traces": [
                    0,
                    1,
                    2,
                    3,
                    4,
                    5
                  ]
                },
                {
                  "data": [
                    {
                      "type": "scatter",
                      "x": [
                        0,
                        0
                      ],
                      "y": [
                        0,
                        0
                      ]
                    },
                    {
                      "hovertemplate": "GroundTruthState<br>(%{x}, %{y})<br>Time: %{meta}",
                      "meta": [
                        "2024-10-18 16:17:40",
                        "2024-10-18 16:17:41",
                        "2024-10-18 16:17:42",
                        "2024-10-18 16:17:43",
                        "2024-10-18 16:17:44",
                        "2024-10-18 16:17:45",
                        "2024-10-18 16:17:46"
                      ],
                      "type": "scatter",
                      "x": [
                        4.035254516130913,
                        5.021794006527739,
                        6.0424073988889715,
                        7.106461743252968,
                        8.224123195449215,
                        9.209238100519523,
                        10.091524942750768,
                        null
                      ],
                      "y": [
                        4.215523952736348,
                        5.45033879682299,
                        6.724654049033004,
                        8.015133207951292,
                        9.467034723032649,
                        10.921792166951443,
                        12.360286222626502,
                        null
                      ]
                    },
                    {
                      "hovertemplate": "GroundTruthState<br>(%{x}, %{y})<br>Time: %{meta}",
                      "meta": [
                        "2024-10-18 16:17:40",
                        "2024-10-18 16:17:41",
                        "2024-10-18 16:17:42",
                        "2024-10-18 16:17:43",
                        "2024-10-18 16:17:44",
                        "2024-10-18 16:17:45",
                        "2024-10-18 16:17:46"
                      ],
                      "type": "scatter",
                      "x": [
                        4.632148263003105,
                        5.782814008967763,
                        6.941986507748744,
                        8.069060760289945,
                        9.227207416758956,
                        10.39760035891079,
                        11.551536979223059,
                        null
                      ],
                      "y": [
                        16.498148228589297,
                        15.768719556778667,
                        14.98008435716024,
                        14.204786756026747,
                        13.538952682693612,
                        12.98533463036542,
                        12.457432125280352,
                        null
                      ]
                    },
                    {
                      "type": "scatter",
                      "x": [
                        null,
                        null
                      ],
                      "y": [
                        null,
                        null
                      ]
                    },
                    {
                      "hovertemplate": "Detection<br>(%{x}, %{y})<br>Time: %{meta}",
                      "meta": [
                        "2024-10-18 16:17:40",
                        "2024-10-18 16:17:40",
                        "2024-10-18 16:17:41",
                        "2024-10-18 16:17:42",
                        "2024-10-18 16:17:42",
                        "2024-10-18 16:17:43",
                        "2024-10-18 16:17:44",
                        "2024-10-18 16:17:44",
                        "2024-10-18 16:17:45",
                        "2024-10-18 16:17:46",
                        "2024-10-18 16:17:46"
                      ],
                      "type": "scatter",
                      "x": [
                        5.582296173123119,
                        3.406102225839688,
                        6.459373616763288,
                        5.973576291806841,
                        5.54178736990687,
                        8.095785349659689,
                        8.532923167663032,
                        9.502651167865073,
                        9.361646351991144,
                        10.648208226159214,
                        12.170540379176924,
                        null
                      ],
                      "y": [
                        17.018831390636347,
                        3.5330095423936347,
                        4.291860873562644,
                        6.75183768750276,
                        16.230166603248385,
                        7.2672631405064525,
                        12.697236492626555,
                        8.480661791196006,
                        13.1693210600378,
                        12.10983222684062,
                        14.417828253556776,
                        null
                      ]
                    },
                    {
                      "hovertemplate": "Clutter<br>(%{x}, %{y})<br>Time: %{meta}",
                      "meta": [
                        "2024-10-18 16:17:40",
                        "2024-10-18 16:17:40",
                        "2024-10-18 16:17:40",
                        "2024-10-18 16:17:40",
                        "2024-10-18 16:17:40",
                        "2024-10-18 16:17:41",
                        "2024-10-18 16:17:41",
                        "2024-10-18 16:17:41",
                        "2024-10-18 16:17:42",
                        "2024-10-18 16:17:42",
                        "2024-10-18 16:17:42",
                        "2024-10-18 16:17:42",
                        "2024-10-18 16:17:42",
                        "2024-10-18 16:17:42",
                        "2024-10-18 16:17:42",
                        "2024-10-18 16:17:42",
                        "2024-10-18 16:17:42",
                        "2024-10-18 16:17:42",
                        "2024-10-18 16:17:43",
                        "2024-10-18 16:17:43",
                        "2024-10-18 16:17:43",
                        "2024-10-18 16:17:43",
                        "2024-10-18 16:17:43",
                        "2024-10-18 16:17:43",
                        "2024-10-18 16:17:43",
                        "2024-10-18 16:17:43",
                        "2024-10-18 16:17:44",
                        "2024-10-18 16:17:44",
                        "2024-10-18 16:17:44",
                        "2024-10-18 16:17:44",
                        "2024-10-18 16:17:45",
                        "2024-10-18 16:17:45",
                        "2024-10-18 16:17:45",
                        "2024-10-18 16:17:45",
                        "2024-10-18 16:17:45",
                        "2024-10-18 16:17:45",
                        "2024-10-18 16:17:45",
                        "2024-10-18 16:17:46",
                        "2024-10-18 16:17:46",
                        "2024-10-18 16:17:46",
                        "2024-10-18 16:17:46",
                        "2024-10-18 16:17:46",
                        "2024-10-18 16:17:46",
                        "2024-10-18 16:17:46",
                        "2024-10-18 16:17:46",
                        "2024-10-18 16:17:46"
                      ],
                      "type": "scatter",
                      "x": [
                        -1.6509807267687533,
                        6.768800421585015,
                        1.0991449882339603,
                        14.338949870957963,
                        -2.629324024311172,
                        1.6091259564875413,
                        14.076399593749855,
                        -3.491039373397642,
                        -3.578296974920294,
                        10.522318948382381,
                        0.2458572088132449,
                        2.2032982341465086,
                        1.9169619721019178,
                        9.261299370986642,
                        9.2495980120906,
                        1.7796817557856253,
                        -0.11232247128855155,
                        14.20060753119374,
                        4.853678524430386,
                        16.22002723960181,
                        12.153884366554056,
                        2.0936540553096794,
                        7.62658667086701,
                        14.426039129229075,
                        16.42758206424372,
                        10.917867579840069,
                        13.852178275470678,
                        2.5754500156795874,
                        5.578893677926008,
                        2.3848778210864277,
                        2.0093485367539,
                        13.57316002410196,
                        11.860585184508606,
                        11.10387721525521,
                        6.439822664881406,
                        12.896602193090112,
                        18.213146396557562,
                        14.788814132696693,
                        0.7626559250426532,
                        6.010127527644645,
                        19.246926268569325,
                        19.558979563402836,
                        19.12022505381919,
                        9.135151373901525,
                        7.756509184683447,
                        19.405650640128314,
                        null
                      ],
                      "y": [
                        25.853127794171495,
                        11.702225399049489,
                        8.070378310572446,
                        16.622632821972992,
                        22.459964864142346,
                        0.6934435660871117,
                        -2.6812158755693414,
                        10.429785852906038,
                        -0.12592137288093452,
                        -0.32307321454539917,
                        16.640161466813346,
                        21.632138106131077,
                        13.469200849858995,
                        21.442710385359504,
                        19.26571617923379,
                        9.694613264381562,
                        23.76089961749463,
                        11.244367535938967,
                        7.164484291818722,
                        14.942814324942846,
                        17.673678798875095,
                        -1.9569195810567401,
                        5.055682262579161,
                        1.8419044200860641,
                        17.27417783470917,
                        0.6190288661644989,
                        5.307973226371944,
                        14.78869597852326,
                        9.758134058426807,
                        18.187976207470037,
                        9.158583599997893,
                        21.60806697333083,
                        4.580272417421519,
                        19.13967415613846,
                        20.829940358683324,
                        1.2784953538941268,
                        5.870215212359163,
                        13.546967145000119,
                        17.546541068891393,
                        8.951165568308175,
                        5.223478887094958,
                        17.286912799242323,
                        16.902526721772368,
                        20.652251102338315,
                        12.68907327321415,
                        10.195345170204913,
                        null
                      ]
                    }
                  ],
                  "name": "2024-10-18 16:17:46",
                  "traces": [
                    0,
                    1,
                    2,
                    3,
                    4,
                    5
                  ]
                },
                {
                  "data": [
                    {
                      "type": "scatter",
                      "x": [
                        0,
                        0
                      ],
                      "y": [
                        0,
                        0
                      ]
                    },
                    {
                      "hovertemplate": "GroundTruthState<br>(%{x}, %{y})<br>Time: %{meta}",
                      "meta": [
                        "2024-10-18 16:17:41",
                        "2024-10-18 16:17:42",
                        "2024-10-18 16:17:43",
                        "2024-10-18 16:17:44",
                        "2024-10-18 16:17:45",
                        "2024-10-18 16:17:46",
                        "2024-10-18 16:17:47"
                      ],
                      "type": "scatter",
                      "x": [
                        5.021794006527739,
                        6.0424073988889715,
                        7.106461743252968,
                        8.224123195449215,
                        9.209238100519523,
                        10.091524942750768,
                        10.971070275320162,
                        null
                      ],
                      "y": [
                        5.45033879682299,
                        6.724654049033004,
                        8.015133207951292,
                        9.467034723032649,
                        10.921792166951443,
                        12.360286222626502,
                        13.821696431233978,
                        null
                      ]
                    },
                    {
                      "hovertemplate": "GroundTruthState<br>(%{x}, %{y})<br>Time: %{meta}",
                      "meta": [
                        "2024-10-18 16:17:41",
                        "2024-10-18 16:17:42",
                        "2024-10-18 16:17:43",
                        "2024-10-18 16:17:44",
                        "2024-10-18 16:17:45",
                        "2024-10-18 16:17:46",
                        "2024-10-18 16:17:47"
                      ],
                      "type": "scatter",
                      "x": [
                        5.782814008967763,
                        6.941986507748744,
                        8.069060760289945,
                        9.227207416758956,
                        10.39760035891079,
                        11.551536979223059,
                        12.669322278300337,
                        null
                      ],
                      "y": [
                        15.768719556778667,
                        14.98008435716024,
                        14.204786756026747,
                        13.538952682693612,
                        12.98533463036542,
                        12.457432125280352,
                        11.967006845348038,
                        null
                      ]
                    },
                    {
                      "type": "scatter",
                      "x": [
                        null,
                        null
                      ],
                      "y": [
                        null,
                        null
                      ]
                    },
                    {
                      "hovertemplate": "Detection<br>(%{x}, %{y})<br>Time: %{meta}",
                      "meta": [
                        "2024-10-18 16:17:41",
                        "2024-10-18 16:17:42",
                        "2024-10-18 16:17:42",
                        "2024-10-18 16:17:43",
                        "2024-10-18 16:17:44",
                        "2024-10-18 16:17:44",
                        "2024-10-18 16:17:45",
                        "2024-10-18 16:17:46",
                        "2024-10-18 16:17:46",
                        "2024-10-18 16:17:47"
                      ],
                      "type": "scatter",
                      "x": [
                        6.459373616763288,
                        5.973576291806841,
                        5.54178736990687,
                        8.095785349659689,
                        8.532923167663032,
                        9.502651167865073,
                        9.361646351991144,
                        10.648208226159214,
                        12.170540379176924,
                        10.801138207191048,
                        null
                      ],
                      "y": [
                        4.291860873562644,
                        6.75183768750276,
                        16.230166603248385,
                        7.2672631405064525,
                        12.697236492626555,
                        8.480661791196006,
                        13.1693210600378,
                        12.10983222684062,
                        14.417828253556776,
                        15.435124274102352,
                        null
                      ]
                    },
                    {
                      "hovertemplate": "Clutter<br>(%{x}, %{y})<br>Time: %{meta}",
                      "meta": [
                        "2024-10-18 16:17:41",
                        "2024-10-18 16:17:41",
                        "2024-10-18 16:17:41",
                        "2024-10-18 16:17:42",
                        "2024-10-18 16:17:42",
                        "2024-10-18 16:17:42",
                        "2024-10-18 16:17:42",
                        "2024-10-18 16:17:42",
                        "2024-10-18 16:17:42",
                        "2024-10-18 16:17:42",
                        "2024-10-18 16:17:42",
                        "2024-10-18 16:17:42",
                        "2024-10-18 16:17:42",
                        "2024-10-18 16:17:43",
                        "2024-10-18 16:17:43",
                        "2024-10-18 16:17:43",
                        "2024-10-18 16:17:43",
                        "2024-10-18 16:17:43",
                        "2024-10-18 16:17:43",
                        "2024-10-18 16:17:43",
                        "2024-10-18 16:17:43",
                        "2024-10-18 16:17:44",
                        "2024-10-18 16:17:44",
                        "2024-10-18 16:17:44",
                        "2024-10-18 16:17:44",
                        "2024-10-18 16:17:45",
                        "2024-10-18 16:17:45",
                        "2024-10-18 16:17:45",
                        "2024-10-18 16:17:45",
                        "2024-10-18 16:17:45",
                        "2024-10-18 16:17:45",
                        "2024-10-18 16:17:45",
                        "2024-10-18 16:17:46",
                        "2024-10-18 16:17:46",
                        "2024-10-18 16:17:46",
                        "2024-10-18 16:17:46",
                        "2024-10-18 16:17:46",
                        "2024-10-18 16:17:46",
                        "2024-10-18 16:17:46",
                        "2024-10-18 16:17:46",
                        "2024-10-18 16:17:46",
                        "2024-10-18 16:17:47",
                        "2024-10-18 16:17:47",
                        "2024-10-18 16:17:47",
                        "2024-10-18 16:17:47",
                        "2024-10-18 16:17:47",
                        "2024-10-18 16:17:47",
                        "2024-10-18 16:17:47",
                        "2024-10-18 16:17:47",
                        "2024-10-18 16:17:47"
                      ],
                      "type": "scatter",
                      "x": [
                        1.6091259564875413,
                        14.076399593749855,
                        -3.491039373397642,
                        -3.578296974920294,
                        10.522318948382381,
                        0.2458572088132449,
                        2.2032982341465086,
                        1.9169619721019178,
                        9.261299370986642,
                        9.2495980120906,
                        1.7796817557856253,
                        -0.11232247128855155,
                        14.20060753119374,
                        4.853678524430386,
                        16.22002723960181,
                        12.153884366554056,
                        2.0936540553096794,
                        7.62658667086701,
                        14.426039129229075,
                        16.42758206424372,
                        10.917867579840069,
                        13.852178275470678,
                        2.5754500156795874,
                        5.578893677926008,
                        2.3848778210864277,
                        2.0093485367539,
                        13.57316002410196,
                        11.860585184508606,
                        11.10387721525521,
                        6.439822664881406,
                        12.896602193090112,
                        18.213146396557562,
                        14.788814132696693,
                        0.7626559250426532,
                        6.010127527644645,
                        19.246926268569325,
                        19.558979563402836,
                        19.12022505381919,
                        9.135151373901525,
                        7.756509184683447,
                        19.405650640128314,
                        21.321120187978202,
                        16.5845721259555,
                        14.889179164999337,
                        8.038426902072489,
                        22.20741540457388,
                        19.28096264514241,
                        8.36137394767544,
                        21.804035550891477,
                        10.151642769203066,
                        null
                      ],
                      "y": [
                        0.6934435660871117,
                        -2.6812158755693414,
                        10.429785852906038,
                        -0.12592137288093452,
                        -0.32307321454539917,
                        16.640161466813346,
                        21.632138106131077,
                        13.469200849858995,
                        21.442710385359504,
                        19.26571617923379,
                        9.694613264381562,
                        23.76089961749463,
                        11.244367535938967,
                        7.164484291818722,
                        14.942814324942846,
                        17.673678798875095,
                        -1.9569195810567401,
                        5.055682262579161,
                        1.8419044200860641,
                        17.27417783470917,
                        0.6190288661644989,
                        5.307973226371944,
                        14.78869597852326,
                        9.758134058426807,
                        18.187976207470037,
                        9.158583599997893,
                        21.60806697333083,
                        4.580272417421519,
                        19.13967415613846,
                        20.829940358683324,
                        1.2784953538941268,
                        5.870215212359163,
                        13.546967145000119,
                        17.546541068891393,
                        8.951165568308175,
                        5.223478887094958,
                        17.286912799242323,
                        16.902526721772368,
                        20.652251102338315,
                        12.68907327321415,
                        10.195345170204913,
                        3.5970896290042553,
                        13.069114119736117,
                        16.963412804785733,
                        21.84779441120213,
                        6.77634074791915,
                        18.793086174923356,
                        20.94510169916522,
                        3.5377612571972716,
                        21.396640170710644,
                        null
                      ]
                    }
                  ],
                  "name": "2024-10-18 16:17:47",
                  "traces": [
                    0,
                    1,
                    2,
                    3,
                    4,
                    5
                  ]
                },
                {
                  "data": [
                    {
                      "type": "scatter",
                      "x": [
                        0,
                        0
                      ],
                      "y": [
                        0,
                        0
                      ]
                    },
                    {
                      "hovertemplate": "GroundTruthState<br>(%{x}, %{y})<br>Time: %{meta}",
                      "meta": [
                        "2024-10-18 16:17:42",
                        "2024-10-18 16:17:43",
                        "2024-10-18 16:17:44",
                        "2024-10-18 16:17:45",
                        "2024-10-18 16:17:46",
                        "2024-10-18 16:17:47",
                        "2024-10-18 16:17:48"
                      ],
                      "type": "scatter",
                      "x": [
                        6.0424073988889715,
                        7.106461743252968,
                        8.224123195449215,
                        9.209238100519523,
                        10.091524942750768,
                        10.971070275320162,
                        11.821804026571751,
                        null
                      ],
                      "y": [
                        6.724654049033004,
                        8.015133207951292,
                        9.467034723032649,
                        10.921792166951443,
                        12.360286222626502,
                        13.821696431233978,
                        15.299912146467127,
                        null
                      ]
                    },
                    {
                      "hovertemplate": "GroundTruthState<br>(%{x}, %{y})<br>Time: %{meta}",
                      "meta": [
                        "2024-10-18 16:17:42",
                        "2024-10-18 16:17:43",
                        "2024-10-18 16:17:44",
                        "2024-10-18 16:17:45",
                        "2024-10-18 16:17:46",
                        "2024-10-18 16:17:47",
                        "2024-10-18 16:17:48"
                      ],
                      "type": "scatter",
                      "x": [
                        6.941986507748744,
                        8.069060760289945,
                        9.227207416758956,
                        10.39760035891079,
                        11.551536979223059,
                        12.669322278300337,
                        13.802316256931915,
                        null
                      ],
                      "y": [
                        14.98008435716024,
                        14.204786756026747,
                        13.538952682693612,
                        12.98533463036542,
                        12.457432125280352,
                        11.967006845348038,
                        11.59983364793677,
                        null
                      ]
                    },
                    {
                      "type": "scatter",
                      "x": [
                        null,
                        null
                      ],
                      "y": [
                        null,
                        null
                      ]
                    },
                    {
                      "hovertemplate": "Detection<br>(%{x}, %{y})<br>Time: %{meta}",
                      "meta": [
                        "2024-10-18 16:17:42",
                        "2024-10-18 16:17:42",
                        "2024-10-18 16:17:43",
                        "2024-10-18 16:17:44",
                        "2024-10-18 16:17:44",
                        "2024-10-18 16:17:45",
                        "2024-10-18 16:17:46",
                        "2024-10-18 16:17:46",
                        "2024-10-18 16:17:47",
                        "2024-10-18 16:17:48",
                        "2024-10-18 16:17:48"
                      ],
                      "type": "scatter",
                      "x": [
                        5.973576291806841,
                        5.54178736990687,
                        8.095785349659689,
                        8.532923167663032,
                        9.502651167865073,
                        9.361646351991144,
                        10.648208226159214,
                        12.170540379176924,
                        10.801138207191048,
                        10.196254581585212,
                        14.453695865299812,
                        null
                      ],
                      "y": [
                        6.75183768750276,
                        16.230166603248385,
                        7.2672631405064525,
                        12.697236492626555,
                        8.480661791196006,
                        13.1693210600378,
                        12.10983222684062,
                        14.417828253556776,
                        15.435124274102352,
                        14.55391547035457,
                        11.630055027254926,
                        null
                      ]
                    },
                    {
                      "hovertemplate": "Clutter<br>(%{x}, %{y})<br>Time: %{meta}",
                      "meta": [
                        "2024-10-18 16:17:42",
                        "2024-10-18 16:17:42",
                        "2024-10-18 16:17:42",
                        "2024-10-18 16:17:42",
                        "2024-10-18 16:17:42",
                        "2024-10-18 16:17:42",
                        "2024-10-18 16:17:42",
                        "2024-10-18 16:17:42",
                        "2024-10-18 16:17:42",
                        "2024-10-18 16:17:42",
                        "2024-10-18 16:17:43",
                        "2024-10-18 16:17:43",
                        "2024-10-18 16:17:43",
                        "2024-10-18 16:17:43",
                        "2024-10-18 16:17:43",
                        "2024-10-18 16:17:43",
                        "2024-10-18 16:17:43",
                        "2024-10-18 16:17:43",
                        "2024-10-18 16:17:44",
                        "2024-10-18 16:17:44",
                        "2024-10-18 16:17:44",
                        "2024-10-18 16:17:44",
                        "2024-10-18 16:17:45",
                        "2024-10-18 16:17:45",
                        "2024-10-18 16:17:45",
                        "2024-10-18 16:17:45",
                        "2024-10-18 16:17:45",
                        "2024-10-18 16:17:45",
                        "2024-10-18 16:17:45",
                        "2024-10-18 16:17:46",
                        "2024-10-18 16:17:46",
                        "2024-10-18 16:17:46",
                        "2024-10-18 16:17:46",
                        "2024-10-18 16:17:46",
                        "2024-10-18 16:17:46",
                        "2024-10-18 16:17:46",
                        "2024-10-18 16:17:46",
                        "2024-10-18 16:17:46",
                        "2024-10-18 16:17:47",
                        "2024-10-18 16:17:47",
                        "2024-10-18 16:17:47",
                        "2024-10-18 16:17:47",
                        "2024-10-18 16:17:47",
                        "2024-10-18 16:17:47",
                        "2024-10-18 16:17:47",
                        "2024-10-18 16:17:47",
                        "2024-10-18 16:17:47",
                        "2024-10-18 16:17:48",
                        "2024-10-18 16:17:48",
                        "2024-10-18 16:17:48",
                        "2024-10-18 16:17:48",
                        "2024-10-18 16:17:48",
                        "2024-10-18 16:17:48",
                        "2024-10-18 16:17:48",
                        "2024-10-18 16:17:48"
                      ],
                      "type": "scatter",
                      "x": [
                        -3.578296974920294,
                        10.522318948382381,
                        0.2458572088132449,
                        2.2032982341465086,
                        1.9169619721019178,
                        9.261299370986642,
                        9.2495980120906,
                        1.7796817557856253,
                        -0.11232247128855155,
                        14.20060753119374,
                        4.853678524430386,
                        16.22002723960181,
                        12.153884366554056,
                        2.0936540553096794,
                        7.62658667086701,
                        14.426039129229075,
                        16.42758206424372,
                        10.917867579840069,
                        13.852178275470678,
                        2.5754500156795874,
                        5.578893677926008,
                        2.3848778210864277,
                        2.0093485367539,
                        13.57316002410196,
                        11.860585184508606,
                        11.10387721525521,
                        6.439822664881406,
                        12.896602193090112,
                        18.213146396557562,
                        14.788814132696693,
                        0.7626559250426532,
                        6.010127527644645,
                        19.246926268569325,
                        19.558979563402836,
                        19.12022505381919,
                        9.135151373901525,
                        7.756509184683447,
                        19.405650640128314,
                        21.321120187978202,
                        16.5845721259555,
                        14.889179164999337,
                        8.038426902072489,
                        22.20741540457388,
                        19.28096264514241,
                        8.36137394767544,
                        21.804035550891477,
                        10.151642769203066,
                        13.490071737746737,
                        4.437179638202607,
                        19.56387999227999,
                        10.872521033376412,
                        6.14525926075944,
                        10.74209024079714,
                        15.404885824243802,
                        19.439322761190397,
                        null
                      ],
                      "y": [
                        -0.12592137288093452,
                        -0.32307321454539917,
                        16.640161466813346,
                        21.632138106131077,
                        13.469200849858995,
                        21.442710385359504,
                        19.26571617923379,
                        9.694613264381562,
                        23.76089961749463,
                        11.244367535938967,
                        7.164484291818722,
                        14.942814324942846,
                        17.673678798875095,
                        -1.9569195810567401,
                        5.055682262579161,
                        1.8419044200860641,
                        17.27417783470917,
                        0.6190288661644989,
                        5.307973226371944,
                        14.78869597852326,
                        9.758134058426807,
                        18.187976207470037,
                        9.158583599997893,
                        21.60806697333083,
                        4.580272417421519,
                        19.13967415613846,
                        20.829940358683324,
                        1.2784953538941268,
                        5.870215212359163,
                        13.546967145000119,
                        17.546541068891393,
                        8.951165568308175,
                        5.223478887094958,
                        17.286912799242323,
                        16.902526721772368,
                        20.652251102338315,
                        12.68907327321415,
                        10.195345170204913,
                        3.5970896290042553,
                        13.069114119736117,
                        16.963412804785733,
                        21.84779441120213,
                        6.77634074791915,
                        18.793086174923356,
                        20.94510169916522,
                        3.5377612571972716,
                        21.396640170710644,
                        5.371801725222333,
                        16.098734960180252,
                        17.473797114845937,
                        8.451326657090007,
                        19.94588809089563,
                        14.848719138847208,
                        11.290147094422089,
                        11.222912983153075,
                        null
                      ]
                    }
                  ],
                  "name": "2024-10-18 16:17:48",
                  "traces": [
                    0,
                    1,
                    2,
                    3,
                    4,
                    5
                  ]
                },
                {
                  "data": [
                    {
                      "type": "scatter",
                      "x": [
                        0,
                        0
                      ],
                      "y": [
                        0,
                        0
                      ]
                    },
                    {
                      "hovertemplate": "GroundTruthState<br>(%{x}, %{y})<br>Time: %{meta}",
                      "meta": [
                        "2024-10-18 16:17:43",
                        "2024-10-18 16:17:44",
                        "2024-10-18 16:17:45",
                        "2024-10-18 16:17:46",
                        "2024-10-18 16:17:47",
                        "2024-10-18 16:17:48",
                        "2024-10-18 16:17:49"
                      ],
                      "type": "scatter",
                      "x": [
                        7.106461743252968,
                        8.224123195449215,
                        9.209238100519523,
                        10.091524942750768,
                        10.971070275320162,
                        11.821804026571751,
                        12.710258644131923,
                        null
                      ],
                      "y": [
                        8.015133207951292,
                        9.467034723032649,
                        10.921792166951443,
                        12.360286222626502,
                        13.821696431233978,
                        15.299912146467127,
                        16.866280896600955,
                        null
                      ]
                    },
                    {
                      "hovertemplate": "GroundTruthState<br>(%{x}, %{y})<br>Time: %{meta}",
                      "meta": [
                        "2024-10-18 16:17:43",
                        "2024-10-18 16:17:44",
                        "2024-10-18 16:17:45",
                        "2024-10-18 16:17:46",
                        "2024-10-18 16:17:47",
                        "2024-10-18 16:17:48",
                        "2024-10-18 16:17:49"
                      ],
                      "type": "scatter",
                      "x": [
                        8.069060760289945,
                        9.227207416758956,
                        10.39760035891079,
                        11.551536979223059,
                        12.669322278300337,
                        13.802316256931915,
                        14.999122921035298,
                        null
                      ],
                      "y": [
                        14.204786756026747,
                        13.538952682693612,
                        12.98533463036542,
                        12.457432125280352,
                        11.967006845348038,
                        11.59983364793677,
                        11.267897575402378,
                        null
                      ]
                    },
                    {
                      "type": "scatter",
                      "x": [
                        null,
                        null
                      ],
                      "y": [
                        null,
                        null
                      ]
                    },
                    {
                      "hovertemplate": "Detection<br>(%{x}, %{y})<br>Time: %{meta}",
                      "meta": [
                        "2024-10-18 16:17:43",
                        "2024-10-18 16:17:44",
                        "2024-10-18 16:17:44",
                        "2024-10-18 16:17:45",
                        "2024-10-18 16:17:46",
                        "2024-10-18 16:17:46",
                        "2024-10-18 16:17:47",
                        "2024-10-18 16:17:48",
                        "2024-10-18 16:17:48",
                        "2024-10-18 16:17:49",
                        "2024-10-18 16:17:49"
                      ],
                      "type": "scatter",
                      "x": [
                        8.095785349659689,
                        8.532923167663032,
                        9.502651167865073,
                        9.361646351991144,
                        10.648208226159214,
                        12.170540379176924,
                        10.801138207191048,
                        10.196254581585212,
                        14.453695865299812,
                        13.239299104506127,
                        15.503061511413415,
                        null
                      ],
                      "y": [
                        7.2672631405064525,
                        12.697236492626555,
                        8.480661791196006,
                        13.1693210600378,
                        12.10983222684062,
                        14.417828253556776,
                        15.435124274102352,
                        14.55391547035457,
                        11.630055027254926,
                        16.52230614282843,
                        10.934370083093103,
                        null
                      ]
                    },
                    {
                      "hovertemplate": "Clutter<br>(%{x}, %{y})<br>Time: %{meta}",
                      "meta": [
                        "2024-10-18 16:17:43",
                        "2024-10-18 16:17:43",
                        "2024-10-18 16:17:43",
                        "2024-10-18 16:17:43",
                        "2024-10-18 16:17:43",
                        "2024-10-18 16:17:43",
                        "2024-10-18 16:17:43",
                        "2024-10-18 16:17:43",
                        "2024-10-18 16:17:44",
                        "2024-10-18 16:17:44",
                        "2024-10-18 16:17:44",
                        "2024-10-18 16:17:44",
                        "2024-10-18 16:17:45",
                        "2024-10-18 16:17:45",
                        "2024-10-18 16:17:45",
                        "2024-10-18 16:17:45",
                        "2024-10-18 16:17:45",
                        "2024-10-18 16:17:45",
                        "2024-10-18 16:17:45",
                        "2024-10-18 16:17:46",
                        "2024-10-18 16:17:46",
                        "2024-10-18 16:17:46",
                        "2024-10-18 16:17:46",
                        "2024-10-18 16:17:46",
                        "2024-10-18 16:17:46",
                        "2024-10-18 16:17:46",
                        "2024-10-18 16:17:46",
                        "2024-10-18 16:17:46",
                        "2024-10-18 16:17:47",
                        "2024-10-18 16:17:47",
                        "2024-10-18 16:17:47",
                        "2024-10-18 16:17:47",
                        "2024-10-18 16:17:47",
                        "2024-10-18 16:17:47",
                        "2024-10-18 16:17:47",
                        "2024-10-18 16:17:47",
                        "2024-10-18 16:17:47",
                        "2024-10-18 16:17:48",
                        "2024-10-18 16:17:48",
                        "2024-10-18 16:17:48",
                        "2024-10-18 16:17:48",
                        "2024-10-18 16:17:48",
                        "2024-10-18 16:17:48",
                        "2024-10-18 16:17:48",
                        "2024-10-18 16:17:48",
                        "2024-10-18 16:17:49",
                        "2024-10-18 16:17:49",
                        "2024-10-18 16:17:49",
                        "2024-10-18 16:17:49",
                        "2024-10-18 16:17:49",
                        "2024-10-18 16:17:49",
                        "2024-10-18 16:17:49",
                        "2024-10-18 16:17:49",
                        "2024-10-18 16:17:49",
                        "2024-10-18 16:17:49"
                      ],
                      "type": "scatter",
                      "x": [
                        4.853678524430386,
                        16.22002723960181,
                        12.153884366554056,
                        2.0936540553096794,
                        7.62658667086701,
                        14.426039129229075,
                        16.42758206424372,
                        10.917867579840069,
                        13.852178275470678,
                        2.5754500156795874,
                        5.578893677926008,
                        2.3848778210864277,
                        2.0093485367539,
                        13.57316002410196,
                        11.860585184508606,
                        11.10387721525521,
                        6.439822664881406,
                        12.896602193090112,
                        18.213146396557562,
                        14.788814132696693,
                        0.7626559250426532,
                        6.010127527644645,
                        19.246926268569325,
                        19.558979563402836,
                        19.12022505381919,
                        9.135151373901525,
                        7.756509184683447,
                        19.405650640128314,
                        21.321120187978202,
                        16.5845721259555,
                        14.889179164999337,
                        8.038426902072489,
                        22.20741540457388,
                        19.28096264514241,
                        8.36137394767544,
                        21.804035550891477,
                        10.151642769203066,
                        13.490071737746737,
                        4.437179638202607,
                        19.56387999227999,
                        10.872521033376412,
                        6.14525926075944,
                        10.74209024079714,
                        15.404885824243802,
                        19.439322761190397,
                        21.73533124644542,
                        13.723413222511939,
                        6.96686809272024,
                        14.40431998979535,
                        12.810425227671983,
                        6.09689817142409,
                        17.646187150043076,
                        7.899359917884852,
                        9.765314297019474,
                        7.2253439399074,
                        null
                      ],
                      "y": [
                        7.164484291818722,
                        14.942814324942846,
                        17.673678798875095,
                        -1.9569195810567401,
                        5.055682262579161,
                        1.8419044200860641,
                        17.27417783470917,
                        0.6190288661644989,
                        5.307973226371944,
                        14.78869597852326,
                        9.758134058426807,
                        18.187976207470037,
                        9.158583599997893,
                        21.60806697333083,
                        4.580272417421519,
                        19.13967415613846,
                        20.829940358683324,
                        1.2784953538941268,
                        5.870215212359163,
                        13.546967145000119,
                        17.546541068891393,
                        8.951165568308175,
                        5.223478887094958,
                        17.286912799242323,
                        16.902526721772368,
                        20.652251102338315,
                        12.68907327321415,
                        10.195345170204913,
                        3.5970896290042553,
                        13.069114119736117,
                        16.963412804785733,
                        21.84779441120213,
                        6.77634074791915,
                        18.793086174923356,
                        20.94510169916522,
                        3.5377612571972716,
                        21.396640170710644,
                        5.371801725222333,
                        16.098734960180252,
                        17.473797114845937,
                        8.451326657090007,
                        19.94588809089563,
                        14.848719138847208,
                        11.290147094422089,
                        11.222912983153075,
                        26.770043359073153,
                        12.79273716493077,
                        25.23009153521268,
                        12.970715263894498,
                        10.413051133157133,
                        19.78111473045132,
                        7.357673521505829,
                        23.667381632566737,
                        7.878102678776278,
                        8.74592151088642,
                        null
                      ]
                    }
                  ],
                  "name": "2024-10-18 16:17:49",
                  "traces": [
                    0,
                    1,
                    2,
                    3,
                    4,
                    5
                  ]
                },
                {
                  "data": [
                    {
                      "type": "scatter",
                      "x": [
                        0,
                        0
                      ],
                      "y": [
                        0,
                        0
                      ]
                    },
                    {
                      "hovertemplate": "GroundTruthState<br>(%{x}, %{y})<br>Time: %{meta}",
                      "meta": [
                        "2024-10-18 16:17:44",
                        "2024-10-18 16:17:45",
                        "2024-10-18 16:17:46",
                        "2024-10-18 16:17:47",
                        "2024-10-18 16:17:48",
                        "2024-10-18 16:17:49",
                        "2024-10-18 16:17:50"
                      ],
                      "type": "scatter",
                      "x": [
                        8.224123195449215,
                        9.209238100519523,
                        10.091524942750768,
                        10.971070275320162,
                        11.821804026571751,
                        12.710258644131923,
                        13.638632472379063,
                        null
                      ],
                      "y": [
                        9.467034723032649,
                        10.921792166951443,
                        12.360286222626502,
                        13.821696431233978,
                        15.299912146467127,
                        16.866280896600955,
                        18.527460445589806,
                        null
                      ]
                    },
                    {
                      "hovertemplate": "GroundTruthState<br>(%{x}, %{y})<br>Time: %{meta}",
                      "meta": [
                        "2024-10-18 16:17:44",
                        "2024-10-18 16:17:45",
                        "2024-10-18 16:17:46",
                        "2024-10-18 16:17:47",
                        "2024-10-18 16:17:48",
                        "2024-10-18 16:17:49",
                        "2024-10-18 16:17:50"
                      ],
                      "type": "scatter",
                      "x": [
                        9.227207416758956,
                        10.39760035891079,
                        11.551536979223059,
                        12.669322278300337,
                        13.802316256931915,
                        14.999122921035298,
                        16.193081694114973,
                        null
                      ],
                      "y": [
                        13.538952682693612,
                        12.98533463036542,
                        12.457432125280352,
                        11.967006845348038,
                        11.59983364793677,
                        11.267897575402378,
                        10.990424183669655,
                        null
                      ]
                    },
                    {
                      "type": "scatter",
                      "x": [
                        null,
                        null
                      ],
                      "y": [
                        null,
                        null
                      ]
                    },
                    {
                      "hovertemplate": "Detection<br>(%{x}, %{y})<br>Time: %{meta}",
                      "meta": [
                        "2024-10-18 16:17:44",
                        "2024-10-18 16:17:44",
                        "2024-10-18 16:17:45",
                        "2024-10-18 16:17:46",
                        "2024-10-18 16:17:46",
                        "2024-10-18 16:17:47",
                        "2024-10-18 16:17:48",
                        "2024-10-18 16:17:48",
                        "2024-10-18 16:17:49",
                        "2024-10-18 16:17:49",
                        "2024-10-18 16:17:50",
                        "2024-10-18 16:17:50"
                      ],
                      "type": "scatter",
                      "x": [
                        8.532923167663032,
                        9.502651167865073,
                        9.361646351991144,
                        10.648208226159214,
                        12.170540379176924,
                        10.801138207191048,
                        10.196254581585212,
                        14.453695865299812,
                        13.239299104506127,
                        15.503061511413415,
                        16.585011089663276,
                        12.487315359223107,
                        null
                      ],
                      "y": [
                        12.697236492626555,
                        8.480661791196006,
                        13.1693210600378,
                        12.10983222684062,
                        14.417828253556776,
                        15.435124274102352,
                        14.55391547035457,
                        11.630055027254926,
                        16.52230614282843,
                        10.934370083093103,
                        11.566406972399728,
                        19.459376040191188,
                        null
                      ]
                    },
                    {
                      "hovertemplate": "Clutter<br>(%{x}, %{y})<br>Time: %{meta}",
                      "meta": [
                        "2024-10-18 16:17:44",
                        "2024-10-18 16:17:44",
                        "2024-10-18 16:17:44",
                        "2024-10-18 16:17:44",
                        "2024-10-18 16:17:45",
                        "2024-10-18 16:17:45",
                        "2024-10-18 16:17:45",
                        "2024-10-18 16:17:45",
                        "2024-10-18 16:17:45",
                        "2024-10-18 16:17:45",
                        "2024-10-18 16:17:45",
                        "2024-10-18 16:17:46",
                        "2024-10-18 16:17:46",
                        "2024-10-18 16:17:46",
                        "2024-10-18 16:17:46",
                        "2024-10-18 16:17:46",
                        "2024-10-18 16:17:46",
                        "2024-10-18 16:17:46",
                        "2024-10-18 16:17:46",
                        "2024-10-18 16:17:46",
                        "2024-10-18 16:17:47",
                        "2024-10-18 16:17:47",
                        "2024-10-18 16:17:47",
                        "2024-10-18 16:17:47",
                        "2024-10-18 16:17:47",
                        "2024-10-18 16:17:47",
                        "2024-10-18 16:17:47",
                        "2024-10-18 16:17:47",
                        "2024-10-18 16:17:47",
                        "2024-10-18 16:17:48",
                        "2024-10-18 16:17:48",
                        "2024-10-18 16:17:48",
                        "2024-10-18 16:17:48",
                        "2024-10-18 16:17:48",
                        "2024-10-18 16:17:48",
                        "2024-10-18 16:17:48",
                        "2024-10-18 16:17:48",
                        "2024-10-18 16:17:49",
                        "2024-10-18 16:17:49",
                        "2024-10-18 16:17:49",
                        "2024-10-18 16:17:49",
                        "2024-10-18 16:17:49",
                        "2024-10-18 16:17:49",
                        "2024-10-18 16:17:49",
                        "2024-10-18 16:17:49",
                        "2024-10-18 16:17:49",
                        "2024-10-18 16:17:49",
                        "2024-10-18 16:17:50",
                        "2024-10-18 16:17:50",
                        "2024-10-18 16:17:50",
                        "2024-10-18 16:17:50"
                      ],
                      "type": "scatter",
                      "x": [
                        13.852178275470678,
                        2.5754500156795874,
                        5.578893677926008,
                        2.3848778210864277,
                        2.0093485367539,
                        13.57316002410196,
                        11.860585184508606,
                        11.10387721525521,
                        6.439822664881406,
                        12.896602193090112,
                        18.213146396557562,
                        14.788814132696693,
                        0.7626559250426532,
                        6.010127527644645,
                        19.246926268569325,
                        19.558979563402836,
                        19.12022505381919,
                        9.135151373901525,
                        7.756509184683447,
                        19.405650640128314,
                        21.321120187978202,
                        16.5845721259555,
                        14.889179164999337,
                        8.038426902072489,
                        22.20741540457388,
                        19.28096264514241,
                        8.36137394767544,
                        21.804035550891477,
                        10.151642769203066,
                        13.490071737746737,
                        4.437179638202607,
                        19.56387999227999,
                        10.872521033376412,
                        6.14525926075944,
                        10.74209024079714,
                        15.404885824243802,
                        19.439322761190397,
                        21.73533124644542,
                        13.723413222511939,
                        6.96686809272024,
                        14.40431998979535,
                        12.810425227671983,
                        6.09689817142409,
                        17.646187150043076,
                        7.899359917884852,
                        9.765314297019474,
                        7.2253439399074,
                        12.659671239652141,
                        18.60754726370313,
                        8.306024451014054,
                        15.976116741184466,
                        null
                      ],
                      "y": [
                        5.307973226371944,
                        14.78869597852326,
                        9.758134058426807,
                        18.187976207470037,
                        9.158583599997893,
                        21.60806697333083,
                        4.580272417421519,
                        19.13967415613846,
                        20.829940358683324,
                        1.2784953538941268,
                        5.870215212359163,
                        13.546967145000119,
                        17.546541068891393,
                        8.951165568308175,
                        5.223478887094958,
                        17.286912799242323,
                        16.902526721772368,
                        20.652251102338315,
                        12.68907327321415,
                        10.195345170204913,
                        3.5970896290042553,
                        13.069114119736117,
                        16.963412804785733,
                        21.84779441120213,
                        6.77634074791915,
                        18.793086174923356,
                        20.94510169916522,
                        3.5377612571972716,
                        21.396640170710644,
                        5.371801725222333,
                        16.098734960180252,
                        17.473797114845937,
                        8.451326657090007,
                        19.94588809089563,
                        14.848719138847208,
                        11.290147094422089,
                        11.222912983153075,
                        26.770043359073153,
                        12.79273716493077,
                        25.23009153521268,
                        12.970715263894498,
                        10.413051133157133,
                        19.78111473045132,
                        7.357673521505829,
                        23.667381632566737,
                        7.878102678776278,
                        8.74592151088642,
                        14.011910411384191,
                        16.43195980254448,
                        23.795971582965613,
                        15.146127291940381,
                        null
                      ]
                    }
                  ],
                  "name": "2024-10-18 16:17:50",
                  "traces": [
                    0,
                    1,
                    2,
                    3,
                    4,
                    5
                  ]
                },
                {
                  "data": [
                    {
                      "type": "scatter",
                      "x": [
                        0,
                        0
                      ],
                      "y": [
                        0,
                        0
                      ]
                    },
                    {
                      "hovertemplate": "GroundTruthState<br>(%{x}, %{y})<br>Time: %{meta}",
                      "meta": [
                        "2024-10-18 16:17:45",
                        "2024-10-18 16:17:46",
                        "2024-10-18 16:17:47",
                        "2024-10-18 16:17:48",
                        "2024-10-18 16:17:49",
                        "2024-10-18 16:17:50",
                        "2024-10-18 16:17:51"
                      ],
                      "type": "scatter",
                      "x": [
                        9.209238100519523,
                        10.091524942750768,
                        10.971070275320162,
                        11.821804026571751,
                        12.710258644131923,
                        13.638632472379063,
                        14.577522670536728,
                        null
                      ],
                      "y": [
                        10.921792166951443,
                        12.360286222626502,
                        13.821696431233978,
                        15.299912146467127,
                        16.866280896600955,
                        18.527460445589806,
                        20.266330812982275,
                        null
                      ]
                    },
                    {
                      "hovertemplate": "GroundTruthState<br>(%{x}, %{y})<br>Time: %{meta}",
                      "meta": [
                        "2024-10-18 16:17:45",
                        "2024-10-18 16:17:46",
                        "2024-10-18 16:17:47",
                        "2024-10-18 16:17:48",
                        "2024-10-18 16:17:49",
                        "2024-10-18 16:17:50",
                        "2024-10-18 16:17:51"
                      ],
                      "type": "scatter",
                      "x": [
                        10.39760035891079,
                        11.551536979223059,
                        12.669322278300337,
                        13.802316256931915,
                        14.999122921035298,
                        16.193081694114973,
                        17.40560721908198,
                        null
                      ],
                      "y": [
                        12.98533463036542,
                        12.457432125280352,
                        11.967006845348038,
                        11.59983364793677,
                        11.267897575402378,
                        10.990424183669655,
                        10.67167969113671,
                        null
                      ]
                    },
                    {
                      "type": "scatter",
                      "x": [
                        null,
                        null
                      ],
                      "y": [
                        null,
                        null
                      ]
                    },
                    {
                      "hovertemplate": "Detection<br>(%{x}, %{y})<br>Time: %{meta}",
                      "meta": [
                        "2024-10-18 16:17:45",
                        "2024-10-18 16:17:46",
                        "2024-10-18 16:17:46",
                        "2024-10-18 16:17:47",
                        "2024-10-18 16:17:48",
                        "2024-10-18 16:17:48",
                        "2024-10-18 16:17:49",
                        "2024-10-18 16:17:49",
                        "2024-10-18 16:17:50",
                        "2024-10-18 16:17:50",
                        "2024-10-18 16:17:51",
                        "2024-10-18 16:17:51"
                      ],
                      "type": "scatter",
                      "x": [
                        9.361646351991144,
                        10.648208226159214,
                        12.170540379176924,
                        10.801138207191048,
                        10.196254581585212,
                        14.453695865299812,
                        13.239299104506127,
                        15.503061511413415,
                        16.585011089663276,
                        12.487315359223107,
                        14.912408977422471,
                        17.845189413278014,
                        null
                      ],
                      "y": [
                        13.1693210600378,
                        12.10983222684062,
                        14.417828253556776,
                        15.435124274102352,
                        14.55391547035457,
                        11.630055027254926,
                        16.52230614282843,
                        10.934370083093103,
                        11.566406972399728,
                        19.459376040191188,
                        19.824706688789053,
                        9.63245410297883,
                        null
                      ]
                    },
                    {
                      "hovertemplate": "Clutter<br>(%{x}, %{y})<br>Time: %{meta}",
                      "meta": [
                        "2024-10-18 16:17:45",
                        "2024-10-18 16:17:45",
                        "2024-10-18 16:17:45",
                        "2024-10-18 16:17:45",
                        "2024-10-18 16:17:45",
                        "2024-10-18 16:17:45",
                        "2024-10-18 16:17:45",
                        "2024-10-18 16:17:46",
                        "2024-10-18 16:17:46",
                        "2024-10-18 16:17:46",
                        "2024-10-18 16:17:46",
                        "2024-10-18 16:17:46",
                        "2024-10-18 16:17:46",
                        "2024-10-18 16:17:46",
                        "2024-10-18 16:17:46",
                        "2024-10-18 16:17:46",
                        "2024-10-18 16:17:47",
                        "2024-10-18 16:17:47",
                        "2024-10-18 16:17:47",
                        "2024-10-18 16:17:47",
                        "2024-10-18 16:17:47",
                        "2024-10-18 16:17:47",
                        "2024-10-18 16:17:47",
                        "2024-10-18 16:17:47",
                        "2024-10-18 16:17:47",
                        "2024-10-18 16:17:48",
                        "2024-10-18 16:17:48",
                        "2024-10-18 16:17:48",
                        "2024-10-18 16:17:48",
                        "2024-10-18 16:17:48",
                        "2024-10-18 16:17:48",
                        "2024-10-18 16:17:48",
                        "2024-10-18 16:17:48",
                        "2024-10-18 16:17:49",
                        "2024-10-18 16:17:49",
                        "2024-10-18 16:17:49",
                        "2024-10-18 16:17:49",
                        "2024-10-18 16:17:49",
                        "2024-10-18 16:17:49",
                        "2024-10-18 16:17:49",
                        "2024-10-18 16:17:49",
                        "2024-10-18 16:17:49",
                        "2024-10-18 16:17:49",
                        "2024-10-18 16:17:50",
                        "2024-10-18 16:17:50",
                        "2024-10-18 16:17:50",
                        "2024-10-18 16:17:50",
                        "2024-10-18 16:17:51",
                        "2024-10-18 16:17:51",
                        "2024-10-18 16:17:51",
                        "2024-10-18 16:17:51",
                        "2024-10-18 16:17:51"
                      ],
                      "type": "scatter",
                      "x": [
                        2.0093485367539,
                        13.57316002410196,
                        11.860585184508606,
                        11.10387721525521,
                        6.439822664881406,
                        12.896602193090112,
                        18.213146396557562,
                        14.788814132696693,
                        0.7626559250426532,
                        6.010127527644645,
                        19.246926268569325,
                        19.558979563402836,
                        19.12022505381919,
                        9.135151373901525,
                        7.756509184683447,
                        19.405650640128314,
                        21.321120187978202,
                        16.5845721259555,
                        14.889179164999337,
                        8.038426902072489,
                        22.20741540457388,
                        19.28096264514241,
                        8.36137394767544,
                        21.804035550891477,
                        10.151642769203066,
                        13.490071737746737,
                        4.437179638202607,
                        19.56387999227999,
                        10.872521033376412,
                        6.14525926075944,
                        10.74209024079714,
                        15.404885824243802,
                        19.439322761190397,
                        21.73533124644542,
                        13.723413222511939,
                        6.96686809272024,
                        14.40431998979535,
                        12.810425227671983,
                        6.09689817142409,
                        17.646187150043076,
                        7.899359917884852,
                        9.765314297019474,
                        7.2253439399074,
                        12.659671239652141,
                        18.60754726370313,
                        8.306024451014054,
                        15.976116741184466,
                        5.561235033908,
                        20.464639480085733,
                        7.689383551013222,
                        21.878747055303517,
                        21.69640448575077,
                        null
                      ],
                      "y": [
                        9.158583599997893,
                        21.60806697333083,
                        4.580272417421519,
                        19.13967415613846,
                        20.829940358683324,
                        1.2784953538941268,
                        5.870215212359163,
                        13.546967145000119,
                        17.546541068891393,
                        8.951165568308175,
                        5.223478887094958,
                        17.286912799242323,
                        16.902526721772368,
                        20.652251102338315,
                        12.68907327321415,
                        10.195345170204913,
                        3.5970896290042553,
                        13.069114119736117,
                        16.963412804785733,
                        21.84779441120213,
                        6.77634074791915,
                        18.793086174923356,
                        20.94510169916522,
                        3.5377612571972716,
                        21.396640170710644,
                        5.371801725222333,
                        16.098734960180252,
                        17.473797114845937,
                        8.451326657090007,
                        19.94588809089563,
                        14.848719138847208,
                        11.290147094422089,
                        11.222912983153075,
                        26.770043359073153,
                        12.79273716493077,
                        25.23009153521268,
                        12.970715263894498,
                        10.413051133157133,
                        19.78111473045132,
                        7.357673521505829,
                        23.667381632566737,
                        7.878102678776278,
                        8.74592151088642,
                        14.011910411384191,
                        16.43195980254448,
                        23.795971582965613,
                        15.146127291940381,
                        14.008137721896322,
                        1.984578935737619,
                        13.42153197188647,
                        3.840782973778615,
                        14.116909866004214,
                        null
                      ]
                    }
                  ],
                  "name": "2024-10-18 16:17:51",
                  "traces": [
                    0,
                    1,
                    2,
                    3,
                    4,
                    5
                  ]
                },
                {
                  "data": [
                    {
                      "type": "scatter",
                      "x": [
                        0,
                        0
                      ],
                      "y": [
                        0,
                        0
                      ]
                    },
                    {
                      "hovertemplate": "GroundTruthState<br>(%{x}, %{y})<br>Time: %{meta}",
                      "meta": [
                        "2024-10-18 16:17:46",
                        "2024-10-18 16:17:47",
                        "2024-10-18 16:17:48",
                        "2024-10-18 16:17:49",
                        "2024-10-18 16:17:50",
                        "2024-10-18 16:17:51",
                        "2024-10-18 16:17:52"
                      ],
                      "type": "scatter",
                      "x": [
                        10.091524942750768,
                        10.971070275320162,
                        11.821804026571751,
                        12.710258644131923,
                        13.638632472379063,
                        14.577522670536728,
                        15.576552678974165,
                        null
                      ],
                      "y": [
                        12.360286222626502,
                        13.821696431233978,
                        15.299912146467127,
                        16.866280896600955,
                        18.527460445589806,
                        20.266330812982275,
                        21.99562363004073,
                        null
                      ]
                    },
                    {
                      "hovertemplate": "GroundTruthState<br>(%{x}, %{y})<br>Time: %{meta}",
                      "meta": [
                        "2024-10-18 16:17:46",
                        "2024-10-18 16:17:47",
                        "2024-10-18 16:17:48",
                        "2024-10-18 16:17:49",
                        "2024-10-18 16:17:50",
                        "2024-10-18 16:17:51",
                        "2024-10-18 16:17:52"
                      ],
                      "type": "scatter",
                      "x": [
                        11.551536979223059,
                        12.669322278300337,
                        13.802316256931915,
                        14.999122921035298,
                        16.193081694114973,
                        17.40560721908198,
                        18.55427914811518,
                        null
                      ],
                      "y": [
                        12.457432125280352,
                        11.967006845348038,
                        11.59983364793677,
                        11.267897575402378,
                        10.990424183669655,
                        10.67167969113671,
                        10.337192798220654,
                        null
                      ]
                    },
                    {
                      "type": "scatter",
                      "x": [
                        null,
                        null
                      ],
                      "y": [
                        null,
                        null
                      ]
                    },
                    {
                      "hovertemplate": "Detection<br>(%{x}, %{y})<br>Time: %{meta}",
                      "meta": [
                        "2024-10-18 16:17:46",
                        "2024-10-18 16:17:46",
                        "2024-10-18 16:17:47",
                        "2024-10-18 16:17:48",
                        "2024-10-18 16:17:48",
                        "2024-10-18 16:17:49",
                        "2024-10-18 16:17:49",
                        "2024-10-18 16:17:50",
                        "2024-10-18 16:17:50",
                        "2024-10-18 16:17:51",
                        "2024-10-18 16:17:51",
                        "2024-10-18 16:17:52"
                      ],
                      "type": "scatter",
                      "x": [
                        10.648208226159214,
                        12.170540379176924,
                        10.801138207191048,
                        10.196254581585212,
                        14.453695865299812,
                        13.239299104506127,
                        15.503061511413415,
                        16.585011089663276,
                        12.487315359223107,
                        14.912408977422471,
                        17.845189413278014,
                        18.383370669613676,
                        null
                      ],
                      "y": [
                        12.10983222684062,
                        14.417828253556776,
                        15.435124274102352,
                        14.55391547035457,
                        11.630055027254926,
                        16.52230614282843,
                        10.934370083093103,
                        11.566406972399728,
                        19.459376040191188,
                        19.824706688789053,
                        9.63245410297883,
                        10.507103140019876,
                        null
                      ]
                    },
                    {
                      "hovertemplate": "Clutter<br>(%{x}, %{y})<br>Time: %{meta}",
                      "meta": [
                        "2024-10-18 16:17:46",
                        "2024-10-18 16:17:46",
                        "2024-10-18 16:17:46",
                        "2024-10-18 16:17:46",
                        "2024-10-18 16:17:46",
                        "2024-10-18 16:17:46",
                        "2024-10-18 16:17:46",
                        "2024-10-18 16:17:46",
                        "2024-10-18 16:17:46",
                        "2024-10-18 16:17:47",
                        "2024-10-18 16:17:47",
                        "2024-10-18 16:17:47",
                        "2024-10-18 16:17:47",
                        "2024-10-18 16:17:47",
                        "2024-10-18 16:17:47",
                        "2024-10-18 16:17:47",
                        "2024-10-18 16:17:47",
                        "2024-10-18 16:17:47",
                        "2024-10-18 16:17:48",
                        "2024-10-18 16:17:48",
                        "2024-10-18 16:17:48",
                        "2024-10-18 16:17:48",
                        "2024-10-18 16:17:48",
                        "2024-10-18 16:17:48",
                        "2024-10-18 16:17:48",
                        "2024-10-18 16:17:48",
                        "2024-10-18 16:17:49",
                        "2024-10-18 16:17:49",
                        "2024-10-18 16:17:49",
                        "2024-10-18 16:17:49",
                        "2024-10-18 16:17:49",
                        "2024-10-18 16:17:49",
                        "2024-10-18 16:17:49",
                        "2024-10-18 16:17:49",
                        "2024-10-18 16:17:49",
                        "2024-10-18 16:17:49",
                        "2024-10-18 16:17:50",
                        "2024-10-18 16:17:50",
                        "2024-10-18 16:17:50",
                        "2024-10-18 16:17:50",
                        "2024-10-18 16:17:51",
                        "2024-10-18 16:17:51",
                        "2024-10-18 16:17:51",
                        "2024-10-18 16:17:51",
                        "2024-10-18 16:17:51",
                        "2024-10-18 16:17:52",
                        "2024-10-18 16:17:52",
                        "2024-10-18 16:17:52",
                        "2024-10-18 16:17:52",
                        "2024-10-18 16:17:52",
                        "2024-10-18 16:17:52",
                        "2024-10-18 16:17:52",
                        "2024-10-18 16:17:52",
                        "2024-10-18 16:17:52",
                        "2024-10-18 16:17:52",
                        "2024-10-18 16:17:52"
                      ],
                      "type": "scatter",
                      "x": [
                        14.788814132696693,
                        0.7626559250426532,
                        6.010127527644645,
                        19.246926268569325,
                        19.558979563402836,
                        19.12022505381919,
                        9.135151373901525,
                        7.756509184683447,
                        19.405650640128314,
                        21.321120187978202,
                        16.5845721259555,
                        14.889179164999337,
                        8.038426902072489,
                        22.20741540457388,
                        19.28096264514241,
                        8.36137394767544,
                        21.804035550891477,
                        10.151642769203066,
                        13.490071737746737,
                        4.437179638202607,
                        19.56387999227999,
                        10.872521033376412,
                        6.14525926075944,
                        10.74209024079714,
                        15.404885824243802,
                        19.439322761190397,
                        21.73533124644542,
                        13.723413222511939,
                        6.96686809272024,
                        14.40431998979535,
                        12.810425227671983,
                        6.09689817142409,
                        17.646187150043076,
                        7.899359917884852,
                        9.765314297019474,
                        7.2253439399074,
                        12.659671239652141,
                        18.60754726370313,
                        8.306024451014054,
                        15.976116741184466,
                        5.561235033908,
                        20.464639480085733,
                        7.689383551013222,
                        21.878747055303517,
                        21.69640448575077,
                        26.99153698039814,
                        23.511851488054475,
                        26.322042731354696,
                        16.472749433507605,
                        9.509313714793665,
                        17.215701760757494,
                        25.452861310916568,
                        22.99121435755184,
                        5.601130867270159,
                        11.20966670987268,
                        10.867548011242722,
                        null
                      ],
                      "y": [
                        13.546967145000119,
                        17.546541068891393,
                        8.951165568308175,
                        5.223478887094958,
                        17.286912799242323,
                        16.902526721772368,
                        20.652251102338315,
                        12.68907327321415,
                        10.195345170204913,
                        3.5970896290042553,
                        13.069114119736117,
                        16.963412804785733,
                        21.84779441120213,
                        6.77634074791915,
                        18.793086174923356,
                        20.94510169916522,
                        3.5377612571972716,
                        21.396640170710644,
                        5.371801725222333,
                        16.098734960180252,
                        17.473797114845937,
                        8.451326657090007,
                        19.94588809089563,
                        14.848719138847208,
                        11.290147094422089,
                        11.222912983153075,
                        26.770043359073153,
                        12.79273716493077,
                        25.23009153521268,
                        12.970715263894498,
                        10.413051133157133,
                        19.78111473045132,
                        7.357673521505829,
                        23.667381632566737,
                        7.878102678776278,
                        8.74592151088642,
                        14.011910411384191,
                        16.43195980254448,
                        23.795971582965613,
                        15.146127291940381,
                        14.008137721896322,
                        1.984578935737619,
                        13.42153197188647,
                        3.840782973778615,
                        14.116909866004214,
                        16.534326752373033,
                        13.488634429254702,
                        10.181372194525345,
                        31.097339051907984,
                        19.713152509307946,
                        4.26464525118288,
                        22.343482109760163,
                        1.6427113723798885,
                        24.041624653793278,
                        15.85193476621753,
                        18.23927302308104,
                        null
                      ]
                    }
                  ],
                  "name": "2024-10-18 16:17:52",
                  "traces": [
                    0,
                    1,
                    2,
                    3,
                    4,
                    5
                  ]
                },
                {
                  "data": [
                    {
                      "type": "scatter",
                      "x": [
                        0,
                        0
                      ],
                      "y": [
                        0,
                        0
                      ]
                    },
                    {
                      "hovertemplate": "GroundTruthState<br>(%{x}, %{y})<br>Time: %{meta}",
                      "meta": [
                        "2024-10-18 16:17:47",
                        "2024-10-18 16:17:48",
                        "2024-10-18 16:17:49",
                        "2024-10-18 16:17:50",
                        "2024-10-18 16:17:51",
                        "2024-10-18 16:17:52",
                        "2024-10-18 16:17:53"
                      ],
                      "type": "scatter",
                      "x": [
                        10.971070275320162,
                        11.821804026571751,
                        12.710258644131923,
                        13.638632472379063,
                        14.577522670536728,
                        15.576552678974165,
                        16.60904495187587,
                        null
                      ],
                      "y": [
                        13.821696431233978,
                        15.299912146467127,
                        16.866280896600955,
                        18.527460445589806,
                        20.266330812982275,
                        21.99562363004073,
                        23.74412133809568,
                        null
                      ]
                    },
                    {
                      "hovertemplate": "GroundTruthState<br>(%{x}, %{y})<br>Time: %{meta}",
                      "meta": [
                        "2024-10-18 16:17:47",
                        "2024-10-18 16:17:48",
                        "2024-10-18 16:17:49",
                        "2024-10-18 16:17:50",
                        "2024-10-18 16:17:51",
                        "2024-10-18 16:17:52",
                        "2024-10-18 16:17:53"
                      ],
                      "type": "scatter",
                      "x": [
                        12.669322278300337,
                        13.802316256931915,
                        14.999122921035298,
                        16.193081694114973,
                        17.40560721908198,
                        18.55427914811518,
                        19.66514499054242,
                        null
                      ],
                      "y": [
                        11.967006845348038,
                        11.59983364793677,
                        11.267897575402378,
                        10.990424183669655,
                        10.67167969113671,
                        10.337192798220654,
                        10.088974268325451,
                        null
                      ]
                    },
                    {
                      "type": "scatter",
                      "x": [
                        null,
                        null
                      ],
                      "y": [
                        null,
                        null
                      ]
                    },
                    {
                      "hovertemplate": "Detection<br>(%{x}, %{y})<br>Time: %{meta}",
                      "meta": [
                        "2024-10-18 16:17:47",
                        "2024-10-18 16:17:48",
                        "2024-10-18 16:17:48",
                        "2024-10-18 16:17:49",
                        "2024-10-18 16:17:49",
                        "2024-10-18 16:17:50",
                        "2024-10-18 16:17:50",
                        "2024-10-18 16:17:51",
                        "2024-10-18 16:17:51",
                        "2024-10-18 16:17:52",
                        "2024-10-18 16:17:53",
                        "2024-10-18 16:17:53"
                      ],
                      "type": "scatter",
                      "x": [
                        10.801138207191048,
                        10.196254581585212,
                        14.453695865299812,
                        13.239299104506127,
                        15.503061511413415,
                        16.585011089663276,
                        12.487315359223107,
                        14.912408977422471,
                        17.845189413278014,
                        18.383370669613676,
                        19.994949256550306,
                        15.213720698776656,
                        null
                      ],
                      "y": [
                        15.435124274102352,
                        14.55391547035457,
                        11.630055027254926,
                        16.52230614282843,
                        10.934370083093103,
                        11.566406972399728,
                        19.459376040191188,
                        19.824706688789053,
                        9.63245410297883,
                        10.507103140019876,
                        10.5797165130309,
                        24.748891372877274,
                        null
                      ]
                    },
                    {
                      "hovertemplate": "Clutter<br>(%{x}, %{y})<br>Time: %{meta}",
                      "meta": [
                        "2024-10-18 16:17:47",
                        "2024-10-18 16:17:47",
                        "2024-10-18 16:17:47",
                        "2024-10-18 16:17:47",
                        "2024-10-18 16:17:47",
                        "2024-10-18 16:17:47",
                        "2024-10-18 16:17:47",
                        "2024-10-18 16:17:47",
                        "2024-10-18 16:17:47",
                        "2024-10-18 16:17:48",
                        "2024-10-18 16:17:48",
                        "2024-10-18 16:17:48",
                        "2024-10-18 16:17:48",
                        "2024-10-18 16:17:48",
                        "2024-10-18 16:17:48",
                        "2024-10-18 16:17:48",
                        "2024-10-18 16:17:48",
                        "2024-10-18 16:17:49",
                        "2024-10-18 16:17:49",
                        "2024-10-18 16:17:49",
                        "2024-10-18 16:17:49",
                        "2024-10-18 16:17:49",
                        "2024-10-18 16:17:49",
                        "2024-10-18 16:17:49",
                        "2024-10-18 16:17:49",
                        "2024-10-18 16:17:49",
                        "2024-10-18 16:17:49",
                        "2024-10-18 16:17:50",
                        "2024-10-18 16:17:50",
                        "2024-10-18 16:17:50",
                        "2024-10-18 16:17:50",
                        "2024-10-18 16:17:51",
                        "2024-10-18 16:17:51",
                        "2024-10-18 16:17:51",
                        "2024-10-18 16:17:51",
                        "2024-10-18 16:17:51",
                        "2024-10-18 16:17:52",
                        "2024-10-18 16:17:52",
                        "2024-10-18 16:17:52",
                        "2024-10-18 16:17:52",
                        "2024-10-18 16:17:52",
                        "2024-10-18 16:17:52",
                        "2024-10-18 16:17:52",
                        "2024-10-18 16:17:52",
                        "2024-10-18 16:17:52",
                        "2024-10-18 16:17:52",
                        "2024-10-18 16:17:52",
                        "2024-10-18 16:17:53",
                        "2024-10-18 16:17:53",
                        "2024-10-18 16:17:53",
                        "2024-10-18 16:17:53",
                        "2024-10-18 16:17:53",
                        "2024-10-18 16:17:53",
                        "2024-10-18 16:17:53",
                        "2024-10-18 16:17:53",
                        "2024-10-18 16:17:53",
                        "2024-10-18 16:17:53",
                        "2024-10-18 16:17:53",
                        "2024-10-18 16:17:53"
                      ],
                      "type": "scatter",
                      "x": [
                        21.321120187978202,
                        16.5845721259555,
                        14.889179164999337,
                        8.038426902072489,
                        22.20741540457388,
                        19.28096264514241,
                        8.36137394767544,
                        21.804035550891477,
                        10.151642769203066,
                        13.490071737746737,
                        4.437179638202607,
                        19.56387999227999,
                        10.872521033376412,
                        6.14525926075944,
                        10.74209024079714,
                        15.404885824243802,
                        19.439322761190397,
                        21.73533124644542,
                        13.723413222511939,
                        6.96686809272024,
                        14.40431998979535,
                        12.810425227671983,
                        6.09689817142409,
                        17.646187150043076,
                        7.899359917884852,
                        9.765314297019474,
                        7.2253439399074,
                        12.659671239652141,
                        18.60754726370313,
                        8.306024451014054,
                        15.976116741184466,
                        5.561235033908,
                        20.464639480085733,
                        7.689383551013222,
                        21.878747055303517,
                        21.69640448575077,
                        26.99153698039814,
                        23.511851488054475,
                        26.322042731354696,
                        16.472749433507605,
                        9.509313714793665,
                        17.215701760757494,
                        25.452861310916568,
                        22.99121435755184,
                        5.601130867270159,
                        11.20966670987268,
                        10.867548011242722,
                        11.086330086839922,
                        20.9274327230512,
                        10.063765274825295,
                        11.137815260620604,
                        9.754465367470727,
                        27.771775639528226,
                        10.167208934112269,
                        12.869459850619615,
                        21.400793851495582,
                        19.42033159485376,
                        13.836574187147821,
                        29.099288308002052,
                        null
                      ],
                      "y": [
                        3.5970896290042553,
                        13.069114119736117,
                        16.963412804785733,
                        21.84779441120213,
                        6.77634074791915,
                        18.793086174923356,
                        20.94510169916522,
                        3.5377612571972716,
                        21.396640170710644,
                        5.371801725222333,
                        16.098734960180252,
                        17.473797114845937,
                        8.451326657090007,
                        19.94588809089563,
                        14.848719138847208,
                        11.290147094422089,
                        11.222912983153075,
                        26.770043359073153,
                        12.79273716493077,
                        25.23009153521268,
                        12.970715263894498,
                        10.413051133157133,
                        19.78111473045132,
                        7.357673521505829,
                        23.667381632566737,
                        7.878102678776278,
                        8.74592151088642,
                        14.011910411384191,
                        16.43195980254448,
                        23.795971582965613,
                        15.146127291940381,
                        14.008137721896322,
                        1.984578935737619,
                        13.42153197188647,
                        3.840782973778615,
                        14.116909866004214,
                        16.534326752373033,
                        13.488634429254702,
                        10.181372194525345,
                        31.097339051907984,
                        19.713152509307946,
                        4.26464525118288,
                        22.343482109760163,
                        1.6427113723798885,
                        24.041624653793278,
                        15.85193476621753,
                        18.23927302308104,
                        8.282761425467674,
                        29.718390276754125,
                        8.97707235061407,
                        27.343431057097785,
                        11.219635193523771,
                        19.348459240830337,
                        30.85656050565226,
                        0.37753517679821247,
                        7.160663523199087,
                        27.362638999883558,
                        4.678257634586281,
                        13.340825312478449,
                        null
                      ]
                    }
                  ],
                  "name": "2024-10-18 16:17:53",
                  "traces": [
                    0,
                    1,
                    2,
                    3,
                    4,
                    5
                  ]
                },
                {
                  "data": [
                    {
                      "type": "scatter",
                      "x": [
                        0,
                        0
                      ],
                      "y": [
                        0,
                        0
                      ]
                    },
                    {
                      "hovertemplate": "GroundTruthState<br>(%{x}, %{y})<br>Time: %{meta}",
                      "meta": [
                        "2024-10-18 16:17:48",
                        "2024-10-18 16:17:49",
                        "2024-10-18 16:17:50",
                        "2024-10-18 16:17:51",
                        "2024-10-18 16:17:52",
                        "2024-10-18 16:17:53",
                        "2024-10-18 16:17:54"
                      ],
                      "type": "scatter",
                      "x": [
                        11.821804026571751,
                        12.710258644131923,
                        13.638632472379063,
                        14.577522670536728,
                        15.576552678974165,
                        16.60904495187587,
                        17.68196897193471,
                        null
                      ],
                      "y": [
                        15.299912146467127,
                        16.866280896600955,
                        18.527460445589806,
                        20.266330812982275,
                        21.99562363004073,
                        23.74412133809568,
                        25.478975314072432,
                        null
                      ]
                    },
                    {
                      "hovertemplate": "GroundTruthState<br>(%{x}, %{y})<br>Time: %{meta}",
                      "meta": [
                        "2024-10-18 16:17:48",
                        "2024-10-18 16:17:49",
                        "2024-10-18 16:17:50",
                        "2024-10-18 16:17:51",
                        "2024-10-18 16:17:52",
                        "2024-10-18 16:17:53",
                        "2024-10-18 16:17:54"
                      ],
                      "type": "scatter",
                      "x": [
                        13.802316256931915,
                        14.999122921035298,
                        16.193081694114973,
                        17.40560721908198,
                        18.55427914811518,
                        19.66514499054242,
                        20.807699015877287,
                        null
                      ],
                      "y": [
                        11.59983364793677,
                        11.267897575402378,
                        10.990424183669655,
                        10.67167969113671,
                        10.337192798220654,
                        10.088974268325451,
                        9.866672245699064,
                        null
                      ]
                    },
                    {
                      "type": "scatter",
                      "x": [
                        null,
                        null
                      ],
                      "y": [
                        null,
                        null
                      ]
                    },
                    {
                      "hovertemplate": "Detection<br>(%{x}, %{y})<br>Time: %{meta}",
                      "meta": [
                        "2024-10-18 16:17:48",
                        "2024-10-18 16:17:48",
                        "2024-10-18 16:17:49",
                        "2024-10-18 16:17:49",
                        "2024-10-18 16:17:50",
                        "2024-10-18 16:17:50",
                        "2024-10-18 16:17:51",
                        "2024-10-18 16:17:51",
                        "2024-10-18 16:17:52",
                        "2024-10-18 16:17:53",
                        "2024-10-18 16:17:53",
                        "2024-10-18 16:17:54"
                      ],
                      "type": "scatter",
                      "x": [
                        10.196254581585212,
                        14.453695865299812,
                        13.239299104506127,
                        15.503061511413415,
                        16.585011089663276,
                        12.487315359223107,
                        14.912408977422471,
                        17.845189413278014,
                        18.383370669613676,
                        19.994949256550306,
                        15.213720698776656,
                        16.73286296207197,
                        null
                      ],
                      "y": [
                        14.55391547035457,
                        11.630055027254926,
                        16.52230614282843,
                        10.934370083093103,
                        11.566406972399728,
                        19.459376040191188,
                        19.824706688789053,
                        9.63245410297883,
                        10.507103140019876,
                        10.5797165130309,
                        24.748891372877274,
                        24.404619899870262,
                        null
                      ]
                    },
                    {
                      "hovertemplate": "Clutter<br>(%{x}, %{y})<br>Time: %{meta}",
                      "meta": [
                        "2024-10-18 16:17:48",
                        "2024-10-18 16:17:48",
                        "2024-10-18 16:17:48",
                        "2024-10-18 16:17:48",
                        "2024-10-18 16:17:48",
                        "2024-10-18 16:17:48",
                        "2024-10-18 16:17:48",
                        "2024-10-18 16:17:48",
                        "2024-10-18 16:17:49",
                        "2024-10-18 16:17:49",
                        "2024-10-18 16:17:49",
                        "2024-10-18 16:17:49",
                        "2024-10-18 16:17:49",
                        "2024-10-18 16:17:49",
                        "2024-10-18 16:17:49",
                        "2024-10-18 16:17:49",
                        "2024-10-18 16:17:49",
                        "2024-10-18 16:17:49",
                        "2024-10-18 16:17:50",
                        "2024-10-18 16:17:50",
                        "2024-10-18 16:17:50",
                        "2024-10-18 16:17:50",
                        "2024-10-18 16:17:51",
                        "2024-10-18 16:17:51",
                        "2024-10-18 16:17:51",
                        "2024-10-18 16:17:51",
                        "2024-10-18 16:17:51",
                        "2024-10-18 16:17:52",
                        "2024-10-18 16:17:52",
                        "2024-10-18 16:17:52",
                        "2024-10-18 16:17:52",
                        "2024-10-18 16:17:52",
                        "2024-10-18 16:17:52",
                        "2024-10-18 16:17:52",
                        "2024-10-18 16:17:52",
                        "2024-10-18 16:17:52",
                        "2024-10-18 16:17:52",
                        "2024-10-18 16:17:52",
                        "2024-10-18 16:17:53",
                        "2024-10-18 16:17:53",
                        "2024-10-18 16:17:53",
                        "2024-10-18 16:17:53",
                        "2024-10-18 16:17:53",
                        "2024-10-18 16:17:53",
                        "2024-10-18 16:17:53",
                        "2024-10-18 16:17:53",
                        "2024-10-18 16:17:53",
                        "2024-10-18 16:17:53",
                        "2024-10-18 16:17:53",
                        "2024-10-18 16:17:53",
                        "2024-10-18 16:17:54",
                        "2024-10-18 16:17:54",
                        "2024-10-18 16:17:54",
                        "2024-10-18 16:17:54",
                        "2024-10-18 16:17:54",
                        "2024-10-18 16:17:54",
                        "2024-10-18 16:17:54",
                        "2024-10-18 16:17:54",
                        "2024-10-18 16:17:54",
                        "2024-10-18 16:17:54",
                        "2024-10-18 16:17:54",
                        "2024-10-18 16:17:54",
                        "2024-10-18 16:17:54",
                        "2024-10-18 16:17:54",
                        "2024-10-18 16:17:54",
                        "2024-10-18 16:17:54"
                      ],
                      "type": "scatter",
                      "x": [
                        13.490071737746737,
                        4.437179638202607,
                        19.56387999227999,
                        10.872521033376412,
                        6.14525926075944,
                        10.74209024079714,
                        15.404885824243802,
                        19.439322761190397,
                        21.73533124644542,
                        13.723413222511939,
                        6.96686809272024,
                        14.40431998979535,
                        12.810425227671983,
                        6.09689817142409,
                        17.646187150043076,
                        7.899359917884852,
                        9.765314297019474,
                        7.2253439399074,
                        12.659671239652141,
                        18.60754726370313,
                        8.306024451014054,
                        15.976116741184466,
                        5.561235033908,
                        20.464639480085733,
                        7.689383551013222,
                        21.878747055303517,
                        21.69640448575077,
                        26.99153698039814,
                        23.511851488054475,
                        26.322042731354696,
                        16.472749433507605,
                        9.509313714793665,
                        17.215701760757494,
                        25.452861310916568,
                        22.99121435755184,
                        5.601130867270159,
                        11.20966670987268,
                        10.867548011242722,
                        11.086330086839922,
                        20.9274327230512,
                        10.063765274825295,
                        11.137815260620604,
                        9.754465367470727,
                        27.771775639528226,
                        10.167208934112269,
                        12.869459850619615,
                        21.400793851495582,
                        19.42033159485376,
                        13.836574187147821,
                        29.099288308002052,
                        13.999483725905247,
                        21.91447744537672,
                        17.1059830343644,
                        20.69084785459483,
                        14.590942456285251,
                        14.457744667190529,
                        27.132431149393888,
                        19.841940780959323,
                        26.06029470189297,
                        12.768570683981487,
                        22.890081616396195,
                        18.632441483845753,
                        20.342488337364983,
                        17.87846917750288,
                        25.176497592998338,
                        23.67843751435983,
                        null
                      ],
                      "y": [
                        5.371801725222333,
                        16.098734960180252,
                        17.473797114845937,
                        8.451326657090007,
                        19.94588809089563,
                        14.848719138847208,
                        11.290147094422089,
                        11.222912983153075,
                        26.770043359073153,
                        12.79273716493077,
                        25.23009153521268,
                        12.970715263894498,
                        10.413051133157133,
                        19.78111473045132,
                        7.357673521505829,
                        23.667381632566737,
                        7.878102678776278,
                        8.74592151088642,
                        14.011910411384191,
                        16.43195980254448,
                        23.795971582965613,
                        15.146127291940381,
                        14.008137721896322,
                        1.984578935737619,
                        13.42153197188647,
                        3.840782973778615,
                        14.116909866004214,
                        16.534326752373033,
                        13.488634429254702,
                        10.181372194525345,
                        31.097339051907984,
                        19.713152509307946,
                        4.26464525118288,
                        22.343482109760163,
                        1.6427113723798885,
                        24.041624653793278,
                        15.85193476621753,
                        18.23927302308104,
                        8.282761425467674,
                        29.718390276754125,
                        8.97707235061407,
                        27.343431057097785,
                        11.219635193523771,
                        19.348459240830337,
                        30.85656050565226,
                        0.37753517679821247,
                        7.160663523199087,
                        27.362638999883558,
                        4.678257634586281,
                        13.340825312478449,
                        3.059313638868282,
                        15.744214859893102,
                        16.082711911048843,
                        11.329117760709453,
                        16.690819809602893,
                        11.238567720788604,
                        11.429922305524292,
                        29.009946298794503,
                        33.738467389837325,
                        15.927390024786085,
                        11.928511787064641,
                        17.145351231473327,
                        3.671508504439862,
                        31.38569872181011,
                        30.869214460536448,
                        12.01697884986187,
                        null
                      ]
                    }
                  ],
                  "name": "2024-10-18 16:17:54",
                  "traces": [
                    0,
                    1,
                    2,
                    3,
                    4,
                    5
                  ]
                },
                {
                  "data": [
                    {
                      "type": "scatter",
                      "x": [
                        0,
                        0
                      ],
                      "y": [
                        0,
                        0
                      ]
                    },
                    {
                      "hovertemplate": "GroundTruthState<br>(%{x}, %{y})<br>Time: %{meta}",
                      "meta": [
                        "2024-10-18 16:17:49",
                        "2024-10-18 16:17:50",
                        "2024-10-18 16:17:51",
                        "2024-10-18 16:17:52",
                        "2024-10-18 16:17:53",
                        "2024-10-18 16:17:54",
                        "2024-10-18 16:17:55"
                      ],
                      "type": "scatter",
                      "x": [
                        12.710258644131923,
                        13.638632472379063,
                        14.577522670536728,
                        15.576552678974165,
                        16.60904495187587,
                        17.68196897193471,
                        18.779309145022523,
                        null
                      ],
                      "y": [
                        16.866280896600955,
                        18.527460445589806,
                        20.266330812982275,
                        21.99562363004073,
                        23.74412133809568,
                        25.478975314072432,
                        27.205219735304418,
                        null
                      ]
                    },
                    {
                      "hovertemplate": "GroundTruthState<br>(%{x}, %{y})<br>Time: %{meta}",
                      "meta": [
                        "2024-10-18 16:17:49",
                        "2024-10-18 16:17:50",
                        "2024-10-18 16:17:51",
                        "2024-10-18 16:17:52",
                        "2024-10-18 16:17:53",
                        "2024-10-18 16:17:54",
                        "2024-10-18 16:17:55"
                      ],
                      "type": "scatter",
                      "x": [
                        14.999122921035298,
                        16.193081694114973,
                        17.40560721908198,
                        18.55427914811518,
                        19.66514499054242,
                        20.807699015877287,
                        21.929293898545666,
                        null
                      ],
                      "y": [
                        11.267897575402378,
                        10.990424183669655,
                        10.67167969113671,
                        10.337192798220654,
                        10.088974268325451,
                        9.866672245699064,
                        9.62838701695516,
                        null
                      ]
                    },
                    {
                      "type": "scatter",
                      "x": [
                        null,
                        null
                      ],
                      "y": [
                        null,
                        null
                      ]
                    },
                    {
                      "hovertemplate": "Detection<br>(%{x}, %{y})<br>Time: %{meta}",
                      "meta": [
                        "2024-10-18 16:17:49",
                        "2024-10-18 16:17:49",
                        "2024-10-18 16:17:50",
                        "2024-10-18 16:17:50",
                        "2024-10-18 16:17:51",
                        "2024-10-18 16:17:51",
                        "2024-10-18 16:17:52",
                        "2024-10-18 16:17:53",
                        "2024-10-18 16:17:53",
                        "2024-10-18 16:17:54",
                        "2024-10-18 16:17:55",
                        "2024-10-18 16:17:55"
                      ],
                      "type": "scatter",
                      "x": [
                        13.239299104506127,
                        15.503061511413415,
                        16.585011089663276,
                        12.487315359223107,
                        14.912408977422471,
                        17.845189413278014,
                        18.383370669613676,
                        19.994949256550306,
                        15.213720698776656,
                        16.73286296207197,
                        20.705150774053987,
                        18.719166026333514,
                        null
                      ],
                      "y": [
                        16.52230614282843,
                        10.934370083093103,
                        11.566406972399728,
                        19.459376040191188,
                        19.824706688789053,
                        9.63245410297883,
                        10.507103140019876,
                        10.5797165130309,
                        24.748891372877274,
                        24.404619899870262,
                        10.628012223456423,
                        27.096900878342932,
                        null
                      ]
                    },
                    {
                      "hovertemplate": "Clutter<br>(%{x}, %{y})<br>Time: %{meta}",
                      "meta": [
                        "2024-10-18 16:17:49",
                        "2024-10-18 16:17:49",
                        "2024-10-18 16:17:49",
                        "2024-10-18 16:17:49",
                        "2024-10-18 16:17:49",
                        "2024-10-18 16:17:49",
                        "2024-10-18 16:17:49",
                        "2024-10-18 16:17:49",
                        "2024-10-18 16:17:49",
                        "2024-10-18 16:17:49",
                        "2024-10-18 16:17:50",
                        "2024-10-18 16:17:50",
                        "2024-10-18 16:17:50",
                        "2024-10-18 16:17:50",
                        "2024-10-18 16:17:51",
                        "2024-10-18 16:17:51",
                        "2024-10-18 16:17:51",
                        "2024-10-18 16:17:51",
                        "2024-10-18 16:17:51",
                        "2024-10-18 16:17:52",
                        "2024-10-18 16:17:52",
                        "2024-10-18 16:17:52",
                        "2024-10-18 16:17:52",
                        "2024-10-18 16:17:52",
                        "2024-10-18 16:17:52",
                        "2024-10-18 16:17:52",
                        "2024-10-18 16:17:52",
                        "2024-10-18 16:17:52",
                        "2024-10-18 16:17:52",
                        "2024-10-18 16:17:52",
                        "2024-10-18 16:17:53",
                        "2024-10-18 16:17:53",
                        "2024-10-18 16:17:53",
                        "2024-10-18 16:17:53",
                        "2024-10-18 16:17:53",
                        "2024-10-18 16:17:53",
                        "2024-10-18 16:17:53",
                        "2024-10-18 16:17:53",
                        "2024-10-18 16:17:53",
                        "2024-10-18 16:17:53",
                        "2024-10-18 16:17:53",
                        "2024-10-18 16:17:53",
                        "2024-10-18 16:17:54",
                        "2024-10-18 16:17:54",
                        "2024-10-18 16:17:54",
                        "2024-10-18 16:17:54",
                        "2024-10-18 16:17:54",
                        "2024-10-18 16:17:54",
                        "2024-10-18 16:17:54",
                        "2024-10-18 16:17:54",
                        "2024-10-18 16:17:54",
                        "2024-10-18 16:17:54",
                        "2024-10-18 16:17:54",
                        "2024-10-18 16:17:54",
                        "2024-10-18 16:17:54",
                        "2024-10-18 16:17:54",
                        "2024-10-18 16:17:54",
                        "2024-10-18 16:17:54",
                        "2024-10-18 16:17:55",
                        "2024-10-18 16:17:55",
                        "2024-10-18 16:17:55",
                        "2024-10-18 16:17:55",
                        "2024-10-18 16:17:55",
                        "2024-10-18 16:17:55",
                        "2024-10-18 16:17:55",
                        "2024-10-18 16:17:55"
                      ],
                      "type": "scatter",
                      "x": [
                        21.73533124644542,
                        13.723413222511939,
                        6.96686809272024,
                        14.40431998979535,
                        12.810425227671983,
                        6.09689817142409,
                        17.646187150043076,
                        7.899359917884852,
                        9.765314297019474,
                        7.2253439399074,
                        12.659671239652141,
                        18.60754726370313,
                        8.306024451014054,
                        15.976116741184466,
                        5.561235033908,
                        20.464639480085733,
                        7.689383551013222,
                        21.878747055303517,
                        21.69640448575077,
                        26.99153698039814,
                        23.511851488054475,
                        26.322042731354696,
                        16.472749433507605,
                        9.509313714793665,
                        17.215701760757494,
                        25.452861310916568,
                        22.99121435755184,
                        5.601130867270159,
                        11.20966670987268,
                        10.867548011242722,
                        11.086330086839922,
                        20.9274327230512,
                        10.063765274825295,
                        11.137815260620604,
                        9.754465367470727,
                        27.771775639528226,
                        10.167208934112269,
                        12.869459850619615,
                        21.400793851495582,
                        19.42033159485376,
                        13.836574187147821,
                        29.099288308002052,
                        13.999483725905247,
                        21.91447744537672,
                        17.1059830343644,
                        20.69084785459483,
                        14.590942456285251,
                        14.457744667190529,
                        27.132431149393888,
                        19.841940780959323,
                        26.06029470189297,
                        12.768570683981487,
                        22.890081616396195,
                        18.632441483845753,
                        20.342488337364983,
                        17.87846917750288,
                        25.176497592998338,
                        23.67843751435983,
                        23.037160543071074,
                        13.453877823428234,
                        13.6327632462092,
                        9.947472301112175,
                        25.73949723467474,
                        18.806341454276115,
                        27.89844671588428,
                        28.651381761270002,
                        null
                      ],
                      "y": [
                        26.770043359073153,
                        12.79273716493077,
                        25.23009153521268,
                        12.970715263894498,
                        10.413051133157133,
                        19.78111473045132,
                        7.357673521505829,
                        23.667381632566737,
                        7.878102678776278,
                        8.74592151088642,
                        14.011910411384191,
                        16.43195980254448,
                        23.795971582965613,
                        15.146127291940381,
                        14.008137721896322,
                        1.984578935737619,
                        13.42153197188647,
                        3.840782973778615,
                        14.116909866004214,
                        16.534326752373033,
                        13.488634429254702,
                        10.181372194525345,
                        31.097339051907984,
                        19.713152509307946,
                        4.26464525118288,
                        22.343482109760163,
                        1.6427113723798885,
                        24.041624653793278,
                        15.85193476621753,
                        18.23927302308104,
                        8.282761425467674,
                        29.718390276754125,
                        8.97707235061407,
                        27.343431057097785,
                        11.219635193523771,
                        19.348459240830337,
                        30.85656050565226,
                        0.37753517679821247,
                        7.160663523199087,
                        27.362638999883558,
                        4.678257634586281,
                        13.340825312478449,
                        3.059313638868282,
                        15.744214859893102,
                        16.082711911048843,
                        11.329117760709453,
                        16.690819809602893,
                        11.238567720788604,
                        11.429922305524292,
                        29.009946298794503,
                        33.738467389837325,
                        15.927390024786085,
                        11.928511787064641,
                        17.145351231473327,
                        3.671508504439862,
                        31.38569872181011,
                        30.869214460536448,
                        12.01697884986187,
                        20.20830473107718,
                        25.4803581041782,
                        8.411451177980608,
                        35.83112459710701,
                        26.5381450684946,
                        35.51840286391614,
                        29.310664549116687,
                        18.91072715075548,
                        null
                      ]
                    }
                  ],
                  "name": "2024-10-18 16:17:55",
                  "traces": [
                    0,
                    1,
                    2,
                    3,
                    4,
                    5
                  ]
                },
                {
                  "data": [
                    {
                      "type": "scatter",
                      "x": [
                        0,
                        0
                      ],
                      "y": [
                        0,
                        0
                      ]
                    },
                    {
                      "hovertemplate": "GroundTruthState<br>(%{x}, %{y})<br>Time: %{meta}",
                      "meta": [
                        "2024-10-18 16:17:50",
                        "2024-10-18 16:17:51",
                        "2024-10-18 16:17:52",
                        "2024-10-18 16:17:53",
                        "2024-10-18 16:17:54",
                        "2024-10-18 16:17:55",
                        "2024-10-18 16:17:56"
                      ],
                      "type": "scatter",
                      "x": [
                        13.638632472379063,
                        14.577522670536728,
                        15.576552678974165,
                        16.60904495187587,
                        17.68196897193471,
                        18.779309145022523,
                        19.9113690605784,
                        null
                      ],
                      "y": [
                        18.527460445589806,
                        20.266330812982275,
                        21.99562363004073,
                        23.74412133809568,
                        25.478975314072432,
                        27.205219735304418,
                        28.875551645250404,
                        null
                      ]
                    },
                    {
                      "hovertemplate": "GroundTruthState<br>(%{x}, %{y})<br>Time: %{meta}",
                      "meta": [
                        "2024-10-18 16:17:50",
                        "2024-10-18 16:17:51",
                        "2024-10-18 16:17:52",
                        "2024-10-18 16:17:53",
                        "2024-10-18 16:17:54",
                        "2024-10-18 16:17:55",
                        "2024-10-18 16:17:56"
                      ],
                      "type": "scatter",
                      "x": [
                        16.193081694114973,
                        17.40560721908198,
                        18.55427914811518,
                        19.66514499054242,
                        20.807699015877287,
                        21.929293898545666,
                        23.121579174671282,
                        null
                      ],
                      "y": [
                        10.990424183669655,
                        10.67167969113671,
                        10.337192798220654,
                        10.088974268325451,
                        9.866672245699064,
                        9.62838701695516,
                        9.254882025564841,
                        null
                      ]
                    },
                    {
                      "type": "scatter",
                      "x": [
                        null,
                        null
                      ],
                      "y": [
                        null,
                        null
                      ]
                    },
                    {
                      "hovertemplate": "Detection<br>(%{x}, %{y})<br>Time: %{meta}",
                      "meta": [
                        "2024-10-18 16:17:50",
                        "2024-10-18 16:17:50",
                        "2024-10-18 16:17:51",
                        "2024-10-18 16:17:51",
                        "2024-10-18 16:17:52",
                        "2024-10-18 16:17:53",
                        "2024-10-18 16:17:53",
                        "2024-10-18 16:17:54",
                        "2024-10-18 16:17:55",
                        "2024-10-18 16:17:55"
                      ],
                      "type": "scatter",
                      "x": [
                        16.585011089663276,
                        12.487315359223107,
                        14.912408977422471,
                        17.845189413278014,
                        18.383370669613676,
                        19.994949256550306,
                        15.213720698776656,
                        16.73286296207197,
                        20.705150774053987,
                        18.719166026333514,
                        null
                      ],
                      "y": [
                        11.566406972399728,
                        19.459376040191188,
                        19.824706688789053,
                        9.63245410297883,
                        10.507103140019876,
                        10.5797165130309,
                        24.748891372877274,
                        24.404619899870262,
                        10.628012223456423,
                        27.096900878342932,
                        null
                      ]
                    },
                    {
                      "hovertemplate": "Clutter<br>(%{x}, %{y})<br>Time: %{meta}",
                      "meta": [
                        "2024-10-18 16:17:50",
                        "2024-10-18 16:17:50",
                        "2024-10-18 16:17:50",
                        "2024-10-18 16:17:50",
                        "2024-10-18 16:17:51",
                        "2024-10-18 16:17:51",
                        "2024-10-18 16:17:51",
                        "2024-10-18 16:17:51",
                        "2024-10-18 16:17:51",
                        "2024-10-18 16:17:52",
                        "2024-10-18 16:17:52",
                        "2024-10-18 16:17:52",
                        "2024-10-18 16:17:52",
                        "2024-10-18 16:17:52",
                        "2024-10-18 16:17:52",
                        "2024-10-18 16:17:52",
                        "2024-10-18 16:17:52",
                        "2024-10-18 16:17:52",
                        "2024-10-18 16:17:52",
                        "2024-10-18 16:17:52",
                        "2024-10-18 16:17:53",
                        "2024-10-18 16:17:53",
                        "2024-10-18 16:17:53",
                        "2024-10-18 16:17:53",
                        "2024-10-18 16:17:53",
                        "2024-10-18 16:17:53",
                        "2024-10-18 16:17:53",
                        "2024-10-18 16:17:53",
                        "2024-10-18 16:17:53",
                        "2024-10-18 16:17:53",
                        "2024-10-18 16:17:53",
                        "2024-10-18 16:17:53",
                        "2024-10-18 16:17:54",
                        "2024-10-18 16:17:54",
                        "2024-10-18 16:17:54",
                        "2024-10-18 16:17:54",
                        "2024-10-18 16:17:54",
                        "2024-10-18 16:17:54",
                        "2024-10-18 16:17:54",
                        "2024-10-18 16:17:54",
                        "2024-10-18 16:17:54",
                        "2024-10-18 16:17:54",
                        "2024-10-18 16:17:54",
                        "2024-10-18 16:17:54",
                        "2024-10-18 16:17:54",
                        "2024-10-18 16:17:54",
                        "2024-10-18 16:17:54",
                        "2024-10-18 16:17:54",
                        "2024-10-18 16:17:55",
                        "2024-10-18 16:17:55",
                        "2024-10-18 16:17:55",
                        "2024-10-18 16:17:55",
                        "2024-10-18 16:17:55",
                        "2024-10-18 16:17:55",
                        "2024-10-18 16:17:55",
                        "2024-10-18 16:17:55"
                      ],
                      "type": "scatter",
                      "x": [
                        12.659671239652141,
                        18.60754726370313,
                        8.306024451014054,
                        15.976116741184466,
                        5.561235033908,
                        20.464639480085733,
                        7.689383551013222,
                        21.878747055303517,
                        21.69640448575077,
                        26.99153698039814,
                        23.511851488054475,
                        26.322042731354696,
                        16.472749433507605,
                        9.509313714793665,
                        17.215701760757494,
                        25.452861310916568,
                        22.99121435755184,
                        5.601130867270159,
                        11.20966670987268,
                        10.867548011242722,
                        11.086330086839922,
                        20.9274327230512,
                        10.063765274825295,
                        11.137815260620604,
                        9.754465367470727,
                        27.771775639528226,
                        10.167208934112269,
                        12.869459850619615,
                        21.400793851495582,
                        19.42033159485376,
                        13.836574187147821,
                        29.099288308002052,
                        13.999483725905247,
                        21.91447744537672,
                        17.1059830343644,
                        20.69084785459483,
                        14.590942456285251,
                        14.457744667190529,
                        27.132431149393888,
                        19.841940780959323,
                        26.06029470189297,
                        12.768570683981487,
                        22.890081616396195,
                        18.632441483845753,
                        20.342488337364983,
                        17.87846917750288,
                        25.176497592998338,
                        23.67843751435983,
                        23.037160543071074,
                        13.453877823428234,
                        13.6327632462092,
                        9.947472301112175,
                        25.73949723467474,
                        18.806341454276115,
                        27.89844671588428,
                        28.651381761270002,
                        null
                      ],
                      "y": [
                        14.011910411384191,
                        16.43195980254448,
                        23.795971582965613,
                        15.146127291940381,
                        14.008137721896322,
                        1.984578935737619,
                        13.42153197188647,
                        3.840782973778615,
                        14.116909866004214,
                        16.534326752373033,
                        13.488634429254702,
                        10.181372194525345,
                        31.097339051907984,
                        19.713152509307946,
                        4.26464525118288,
                        22.343482109760163,
                        1.6427113723798885,
                        24.041624653793278,
                        15.85193476621753,
                        18.23927302308104,
                        8.282761425467674,
                        29.718390276754125,
                        8.97707235061407,
                        27.343431057097785,
                        11.219635193523771,
                        19.348459240830337,
                        30.85656050565226,
                        0.37753517679821247,
                        7.160663523199087,
                        27.362638999883558,
                        4.678257634586281,
                        13.340825312478449,
                        3.059313638868282,
                        15.744214859893102,
                        16.082711911048843,
                        11.329117760709453,
                        16.690819809602893,
                        11.238567720788604,
                        11.429922305524292,
                        29.009946298794503,
                        33.738467389837325,
                        15.927390024786085,
                        11.928511787064641,
                        17.145351231473327,
                        3.671508504439862,
                        31.38569872181011,
                        30.869214460536448,
                        12.01697884986187,
                        20.20830473107718,
                        25.4803581041782,
                        8.411451177980608,
                        35.83112459710701,
                        26.5381450684946,
                        35.51840286391614,
                        29.310664549116687,
                        18.91072715075548,
                        null
                      ]
                    }
                  ],
                  "name": "2024-10-18 16:17:56",
                  "traces": [
                    0,
                    1,
                    2,
                    3,
                    4,
                    5
                  ]
                }
              ],
              "layout": {
                "autosize": true,
                "colorway": [
                  "#EF553B",
                  "#00CC96",
                  "#AB63FA",
                  "#FFA15A",
                  "#19D3F3",
                  "#FF6692",
                  "#B6E880",
                  "#FF97FF",
                  "#FECB52"
                ],
                "height": 550,
                "sliders": [
                  {
                    "currentvalue": {
                      "font": {
                        "size": 16
                      },
                      "prefix": "Time: ",
                      "visible": true,
                      "xanchor": "right"
                    },
                    "len": 0.9,
                    "pad": {
                      "b": 10,
                      "t": 50
                    },
                    "steps": [
                      {
                        "args": [
                          [
                            "2024-10-18 16:17:36"
                          ],
                          {
                            "frame": {
                              "duration": 1,
                              "easing": "linear",
                              "redraw": true
                            },
                            "transition": {
                              "duration": 0,
                              "easing": "linear"
                            }
                          }
                        ],
                        "label": "16:17:36",
                        "method": "animate"
                      },
                      {
                        "args": [
                          [
                            "2024-10-18 16:17:37"
                          ],
                          {
                            "frame": {
                              "duration": 1,
                              "easing": "linear",
                              "redraw": true
                            },
                            "transition": {
                              "duration": 0,
                              "easing": "linear"
                            }
                          }
                        ],
                        "label": "16:17:37",
                        "method": "animate"
                      },
                      {
                        "args": [
                          [
                            "2024-10-18 16:17:38"
                          ],
                          {
                            "frame": {
                              "duration": 1,
                              "easing": "linear",
                              "redraw": true
                            },
                            "transition": {
                              "duration": 0,
                              "easing": "linear"
                            }
                          }
                        ],
                        "label": "16:17:38",
                        "method": "animate"
                      },
                      {
                        "args": [
                          [
                            "2024-10-18 16:17:39"
                          ],
                          {
                            "frame": {
                              "duration": 1,
                              "easing": "linear",
                              "redraw": true
                            },
                            "transition": {
                              "duration": 0,
                              "easing": "linear"
                            }
                          }
                        ],
                        "label": "16:17:39",
                        "method": "animate"
                      },
                      {
                        "args": [
                          [
                            "2024-10-18 16:17:40"
                          ],
                          {
                            "frame": {
                              "duration": 1,
                              "easing": "linear",
                              "redraw": true
                            },
                            "transition": {
                              "duration": 0,
                              "easing": "linear"
                            }
                          }
                        ],
                        "label": "16:17:40",
                        "method": "animate"
                      },
                      {
                        "args": [
                          [
                            "2024-10-18 16:17:41"
                          ],
                          {
                            "frame": {
                              "duration": 1,
                              "easing": "linear",
                              "redraw": true
                            },
                            "transition": {
                              "duration": 0,
                              "easing": "linear"
                            }
                          }
                        ],
                        "label": "16:17:41",
                        "method": "animate"
                      },
                      {
                        "args": [
                          [
                            "2024-10-18 16:17:42"
                          ],
                          {
                            "frame": {
                              "duration": 1,
                              "easing": "linear",
                              "redraw": true
                            },
                            "transition": {
                              "duration": 0,
                              "easing": "linear"
                            }
                          }
                        ],
                        "label": "16:17:42",
                        "method": "animate"
                      },
                      {
                        "args": [
                          [
                            "2024-10-18 16:17:43"
                          ],
                          {
                            "frame": {
                              "duration": 1,
                              "easing": "linear",
                              "redraw": true
                            },
                            "transition": {
                              "duration": 0,
                              "easing": "linear"
                            }
                          }
                        ],
                        "label": "16:17:43",
                        "method": "animate"
                      },
                      {
                        "args": [
                          [
                            "2024-10-18 16:17:44"
                          ],
                          {
                            "frame": {
                              "duration": 1,
                              "easing": "linear",
                              "redraw": true
                            },
                            "transition": {
                              "duration": 0,
                              "easing": "linear"
                            }
                          }
                        ],
                        "label": "16:17:44",
                        "method": "animate"
                      },
                      {
                        "args": [
                          [
                            "2024-10-18 16:17:45"
                          ],
                          {
                            "frame": {
                              "duration": 1,
                              "easing": "linear",
                              "redraw": true
                            },
                            "transition": {
                              "duration": 0,
                              "easing": "linear"
                            }
                          }
                        ],
                        "label": "16:17:45",
                        "method": "animate"
                      },
                      {
                        "args": [
                          [
                            "2024-10-18 16:17:46"
                          ],
                          {
                            "frame": {
                              "duration": 1,
                              "easing": "linear",
                              "redraw": true
                            },
                            "transition": {
                              "duration": 0,
                              "easing": "linear"
                            }
                          }
                        ],
                        "label": "16:17:46",
                        "method": "animate"
                      },
                      {
                        "args": [
                          [
                            "2024-10-18 16:17:47"
                          ],
                          {
                            "frame": {
                              "duration": 1,
                              "easing": "linear",
                              "redraw": true
                            },
                            "transition": {
                              "duration": 0,
                              "easing": "linear"
                            }
                          }
                        ],
                        "label": "16:17:47",
                        "method": "animate"
                      },
                      {
                        "args": [
                          [
                            "2024-10-18 16:17:48"
                          ],
                          {
                            "frame": {
                              "duration": 1,
                              "easing": "linear",
                              "redraw": true
                            },
                            "transition": {
                              "duration": 0,
                              "easing": "linear"
                            }
                          }
                        ],
                        "label": "16:17:48",
                        "method": "animate"
                      },
                      {
                        "args": [
                          [
                            "2024-10-18 16:17:49"
                          ],
                          {
                            "frame": {
                              "duration": 1,
                              "easing": "linear",
                              "redraw": true
                            },
                            "transition": {
                              "duration": 0,
                              "easing": "linear"
                            }
                          }
                        ],
                        "label": "16:17:49",
                        "method": "animate"
                      },
                      {
                        "args": [
                          [
                            "2024-10-18 16:17:50"
                          ],
                          {
                            "frame": {
                              "duration": 1,
                              "easing": "linear",
                              "redraw": true
                            },
                            "transition": {
                              "duration": 0,
                              "easing": "linear"
                            }
                          }
                        ],
                        "label": "16:17:50",
                        "method": "animate"
                      },
                      {
                        "args": [
                          [
                            "2024-10-18 16:17:51"
                          ],
                          {
                            "frame": {
                              "duration": 1,
                              "easing": "linear",
                              "redraw": true
                            },
                            "transition": {
                              "duration": 0,
                              "easing": "linear"
                            }
                          }
                        ],
                        "label": "16:17:51",
                        "method": "animate"
                      },
                      {
                        "args": [
                          [
                            "2024-10-18 16:17:52"
                          ],
                          {
                            "frame": {
                              "duration": 1,
                              "easing": "linear",
                              "redraw": true
                            },
                            "transition": {
                              "duration": 0,
                              "easing": "linear"
                            }
                          }
                        ],
                        "label": "16:17:52",
                        "method": "animate"
                      },
                      {
                        "args": [
                          [
                            "2024-10-18 16:17:53"
                          ],
                          {
                            "frame": {
                              "duration": 1,
                              "easing": "linear",
                              "redraw": true
                            },
                            "transition": {
                              "duration": 0,
                              "easing": "linear"
                            }
                          }
                        ],
                        "label": "16:17:53",
                        "method": "animate"
                      },
                      {
                        "args": [
                          [
                            "2024-10-18 16:17:54"
                          ],
                          {
                            "frame": {
                              "duration": 1,
                              "easing": "linear",
                              "redraw": true
                            },
                            "transition": {
                              "duration": 0,
                              "easing": "linear"
                            }
                          }
                        ],
                        "label": "16:17:54",
                        "method": "animate"
                      },
                      {
                        "args": [
                          [
                            "2024-10-18 16:17:55"
                          ],
                          {
                            "frame": {
                              "duration": 1,
                              "easing": "linear",
                              "redraw": true
                            },
                            "transition": {
                              "duration": 0,
                              "easing": "linear"
                            }
                          }
                        ],
                        "label": "16:17:55",
                        "method": "animate"
                      },
                      {
                        "args": [
                          [
                            "2024-10-18 16:17:56"
                          ],
                          {
                            "frame": {
                              "duration": 1,
                              "easing": "linear",
                              "redraw": true
                            },
                            "transition": {
                              "duration": 0,
                              "easing": "linear"
                            }
                          }
                        ],
                        "label": "16:17:56",
                        "method": "animate"
                      }
                    ],
                    "transition": {
                      "duration": 285.7142857142857,
                      "easing": "linear"
                    },
                    "x": 0.1,
                    "xanchor": "left",
                    "y": 0,
                    "yanchor": "top"
                  }
                ],
                "template": {
                  "data": {
                    "bar": [
                      {
                        "error_x": {
                          "color": "#2a3f5f"
                        },
                        "error_y": {
                          "color": "#2a3f5f"
                        },
                        "marker": {
                          "line": {
                            "color": "#E5ECF6",
                            "width": 0.5
                          },
                          "pattern": {
                            "fillmode": "overlay",
                            "size": 10,
                            "solidity": 0.2
                          }
                        },
                        "type": "bar"
                      }
                    ],
                    "barpolar": [
                      {
                        "marker": {
                          "line": {
                            "color": "#E5ECF6",
                            "width": 0.5
                          },
                          "pattern": {
                            "fillmode": "overlay",
                            "size": 10,
                            "solidity": 0.2
                          }
                        },
                        "type": "barpolar"
                      }
                    ],
                    "carpet": [
                      {
                        "aaxis": {
                          "endlinecolor": "#2a3f5f",
                          "gridcolor": "white",
                          "linecolor": "white",
                          "minorgridcolor": "white",
                          "startlinecolor": "#2a3f5f"
                        },
                        "baxis": {
                          "endlinecolor": "#2a3f5f",
                          "gridcolor": "white",
                          "linecolor": "white",
                          "minorgridcolor": "white",
                          "startlinecolor": "#2a3f5f"
                        },
                        "type": "carpet"
                      }
                    ],
                    "choropleth": [
                      {
                        "colorbar": {
                          "outlinewidth": 0,
                          "ticks": ""
                        },
                        "type": "choropleth"
                      }
                    ],
                    "contour": [
                      {
                        "colorbar": {
                          "outlinewidth": 0,
                          "ticks": ""
                        },
                        "colorscale": [
                          [
                            0,
                            "#0d0887"
                          ],
                          [
                            0.1111111111111111,
                            "#46039f"
                          ],
                          [
                            0.2222222222222222,
                            "#7201a8"
                          ],
                          [
                            0.3333333333333333,
                            "#9c179e"
                          ],
                          [
                            0.4444444444444444,
                            "#bd3786"
                          ],
                          [
                            0.5555555555555556,
                            "#d8576b"
                          ],
                          [
                            0.6666666666666666,
                            "#ed7953"
                          ],
                          [
                            0.7777777777777778,
                            "#fb9f3a"
                          ],
                          [
                            0.8888888888888888,
                            "#fdca26"
                          ],
                          [
                            1,
                            "#f0f921"
                          ]
                        ],
                        "type": "contour"
                      }
                    ],
                    "contourcarpet": [
                      {
                        "colorbar": {
                          "outlinewidth": 0,
                          "ticks": ""
                        },
                        "type": "contourcarpet"
                      }
                    ],
                    "heatmap": [
                      {
                        "colorbar": {
                          "outlinewidth": 0,
                          "ticks": ""
                        },
                        "colorscale": [
                          [
                            0,
                            "#0d0887"
                          ],
                          [
                            0.1111111111111111,
                            "#46039f"
                          ],
                          [
                            0.2222222222222222,
                            "#7201a8"
                          ],
                          [
                            0.3333333333333333,
                            "#9c179e"
                          ],
                          [
                            0.4444444444444444,
                            "#bd3786"
                          ],
                          [
                            0.5555555555555556,
                            "#d8576b"
                          ],
                          [
                            0.6666666666666666,
                            "#ed7953"
                          ],
                          [
                            0.7777777777777778,
                            "#fb9f3a"
                          ],
                          [
                            0.8888888888888888,
                            "#fdca26"
                          ],
                          [
                            1,
                            "#f0f921"
                          ]
                        ],
                        "type": "heatmap"
                      }
                    ],
                    "heatmapgl": [
                      {
                        "colorbar": {
                          "outlinewidth": 0,
                          "ticks": ""
                        },
                        "colorscale": [
                          [
                            0,
                            "#0d0887"
                          ],
                          [
                            0.1111111111111111,
                            "#46039f"
                          ],
                          [
                            0.2222222222222222,
                            "#7201a8"
                          ],
                          [
                            0.3333333333333333,
                            "#9c179e"
                          ],
                          [
                            0.4444444444444444,
                            "#bd3786"
                          ],
                          [
                            0.5555555555555556,
                            "#d8576b"
                          ],
                          [
                            0.6666666666666666,
                            "#ed7953"
                          ],
                          [
                            0.7777777777777778,
                            "#fb9f3a"
                          ],
                          [
                            0.8888888888888888,
                            "#fdca26"
                          ],
                          [
                            1,
                            "#f0f921"
                          ]
                        ],
                        "type": "heatmapgl"
                      }
                    ],
                    "histogram": [
                      {
                        "marker": {
                          "pattern": {
                            "fillmode": "overlay",
                            "size": 10,
                            "solidity": 0.2
                          }
                        },
                        "type": "histogram"
                      }
                    ],
                    "histogram2d": [
                      {
                        "colorbar": {
                          "outlinewidth": 0,
                          "ticks": ""
                        },
                        "colorscale": [
                          [
                            0,
                            "#0d0887"
                          ],
                          [
                            0.1111111111111111,
                            "#46039f"
                          ],
                          [
                            0.2222222222222222,
                            "#7201a8"
                          ],
                          [
                            0.3333333333333333,
                            "#9c179e"
                          ],
                          [
                            0.4444444444444444,
                            "#bd3786"
                          ],
                          [
                            0.5555555555555556,
                            "#d8576b"
                          ],
                          [
                            0.6666666666666666,
                            "#ed7953"
                          ],
                          [
                            0.7777777777777778,
                            "#fb9f3a"
                          ],
                          [
                            0.8888888888888888,
                            "#fdca26"
                          ],
                          [
                            1,
                            "#f0f921"
                          ]
                        ],
                        "type": "histogram2d"
                      }
                    ],
                    "histogram2dcontour": [
                      {
                        "colorbar": {
                          "outlinewidth": 0,
                          "ticks": ""
                        },
                        "colorscale": [
                          [
                            0,
                            "#0d0887"
                          ],
                          [
                            0.1111111111111111,
                            "#46039f"
                          ],
                          [
                            0.2222222222222222,
                            "#7201a8"
                          ],
                          [
                            0.3333333333333333,
                            "#9c179e"
                          ],
                          [
                            0.4444444444444444,
                            "#bd3786"
                          ],
                          [
                            0.5555555555555556,
                            "#d8576b"
                          ],
                          [
                            0.6666666666666666,
                            "#ed7953"
                          ],
                          [
                            0.7777777777777778,
                            "#fb9f3a"
                          ],
                          [
                            0.8888888888888888,
                            "#fdca26"
                          ],
                          [
                            1,
                            "#f0f921"
                          ]
                        ],
                        "type": "histogram2dcontour"
                      }
                    ],
                    "mesh3d": [
                      {
                        "colorbar": {
                          "outlinewidth": 0,
                          "ticks": ""
                        },
                        "type": "mesh3d"
                      }
                    ],
                    "parcoords": [
                      {
                        "line": {
                          "colorbar": {
                            "outlinewidth": 0,
                            "ticks": ""
                          }
                        },
                        "type": "parcoords"
                      }
                    ],
                    "pie": [
                      {
                        "automargin": true,
                        "type": "pie"
                      }
                    ],
                    "scatter": [
                      {
                        "fillpattern": {
                          "fillmode": "overlay",
                          "size": 10,
                          "solidity": 0.2
                        },
                        "type": "scatter"
                      }
                    ],
                    "scatter3d": [
                      {
                        "line": {
                          "colorbar": {
                            "outlinewidth": 0,
                            "ticks": ""
                          }
                        },
                        "marker": {
                          "colorbar": {
                            "outlinewidth": 0,
                            "ticks": ""
                          }
                        },
                        "type": "scatter3d"
                      }
                    ],
                    "scattercarpet": [
                      {
                        "marker": {
                          "colorbar": {
                            "outlinewidth": 0,
                            "ticks": ""
                          }
                        },
                        "type": "scattercarpet"
                      }
                    ],
                    "scattergeo": [
                      {
                        "marker": {
                          "colorbar": {
                            "outlinewidth": 0,
                            "ticks": ""
                          }
                        },
                        "type": "scattergeo"
                      }
                    ],
                    "scattergl": [
                      {
                        "marker": {
                          "colorbar": {
                            "outlinewidth": 0,
                            "ticks": ""
                          }
                        },
                        "type": "scattergl"
                      }
                    ],
                    "scattermapbox": [
                      {
                        "marker": {
                          "colorbar": {
                            "outlinewidth": 0,
                            "ticks": ""
                          }
                        },
                        "type": "scattermapbox"
                      }
                    ],
                    "scatterpolar": [
                      {
                        "marker": {
                          "colorbar": {
                            "outlinewidth": 0,
                            "ticks": ""
                          }
                        },
                        "type": "scatterpolar"
                      }
                    ],
                    "scatterpolargl": [
                      {
                        "marker": {
                          "colorbar": {
                            "outlinewidth": 0,
                            "ticks": ""
                          }
                        },
                        "type": "scatterpolargl"
                      }
                    ],
                    "scatterternary": [
                      {
                        "marker": {
                          "colorbar": {
                            "outlinewidth": 0,
                            "ticks": ""
                          }
                        },
                        "type": "scatterternary"
                      }
                    ],
                    "surface": [
                      {
                        "colorbar": {
                          "outlinewidth": 0,
                          "ticks": ""
                        },
                        "colorscale": [
                          [
                            0,
                            "#0d0887"
                          ],
                          [
                            0.1111111111111111,
                            "#46039f"
                          ],
                          [
                            0.2222222222222222,
                            "#7201a8"
                          ],
                          [
                            0.3333333333333333,
                            "#9c179e"
                          ],
                          [
                            0.4444444444444444,
                            "#bd3786"
                          ],
                          [
                            0.5555555555555556,
                            "#d8576b"
                          ],
                          [
                            0.6666666666666666,
                            "#ed7953"
                          ],
                          [
                            0.7777777777777778,
                            "#fb9f3a"
                          ],
                          [
                            0.8888888888888888,
                            "#fdca26"
                          ],
                          [
                            1,
                            "#f0f921"
                          ]
                        ],
                        "type": "surface"
                      }
                    ],
                    "table": [
                      {
                        "cells": {
                          "fill": {
                            "color": "#EBF0F8"
                          },
                          "line": {
                            "color": "white"
                          }
                        },
                        "header": {
                          "fill": {
                            "color": "#C8D4E3"
                          },
                          "line": {
                            "color": "white"
                          }
                        },
                        "type": "table"
                      }
                    ]
                  },
                  "layout": {
                    "annotationdefaults": {
                      "arrowcolor": "#2a3f5f",
                      "arrowhead": 0,
                      "arrowwidth": 1
                    },
                    "autotypenumbers": "strict",
                    "coloraxis": {
                      "colorbar": {
                        "outlinewidth": 0,
                        "ticks": ""
                      }
                    },
                    "colorscale": {
                      "diverging": [
                        [
                          0,
                          "#8e0152"
                        ],
                        [
                          0.1,
                          "#c51b7d"
                        ],
                        [
                          0.2,
                          "#de77ae"
                        ],
                        [
                          0.3,
                          "#f1b6da"
                        ],
                        [
                          0.4,
                          "#fde0ef"
                        ],
                        [
                          0.5,
                          "#f7f7f7"
                        ],
                        [
                          0.6,
                          "#e6f5d0"
                        ],
                        [
                          0.7,
                          "#b8e186"
                        ],
                        [
                          0.8,
                          "#7fbc41"
                        ],
                        [
                          0.9,
                          "#4d9221"
                        ],
                        [
                          1,
                          "#276419"
                        ]
                      ],
                      "sequential": [
                        [
                          0,
                          "#0d0887"
                        ],
                        [
                          0.1111111111111111,
                          "#46039f"
                        ],
                        [
                          0.2222222222222222,
                          "#7201a8"
                        ],
                        [
                          0.3333333333333333,
                          "#9c179e"
                        ],
                        [
                          0.4444444444444444,
                          "#bd3786"
                        ],
                        [
                          0.5555555555555556,
                          "#d8576b"
                        ],
                        [
                          0.6666666666666666,
                          "#ed7953"
                        ],
                        [
                          0.7777777777777778,
                          "#fb9f3a"
                        ],
                        [
                          0.8888888888888888,
                          "#fdca26"
                        ],
                        [
                          1,
                          "#f0f921"
                        ]
                      ],
                      "sequentialminus": [
                        [
                          0,
                          "#0d0887"
                        ],
                        [
                          0.1111111111111111,
                          "#46039f"
                        ],
                        [
                          0.2222222222222222,
                          "#7201a8"
                        ],
                        [
                          0.3333333333333333,
                          "#9c179e"
                        ],
                        [
                          0.4444444444444444,
                          "#bd3786"
                        ],
                        [
                          0.5555555555555556,
                          "#d8576b"
                        ],
                        [
                          0.6666666666666666,
                          "#ed7953"
                        ],
                        [
                          0.7777777777777778,
                          "#fb9f3a"
                        ],
                        [
                          0.8888888888888888,
                          "#fdca26"
                        ],
                        [
                          1,
                          "#f0f921"
                        ]
                      ]
                    },
                    "colorway": [
                      "#636efa",
                      "#EF553B",
                      "#00cc96",
                      "#ab63fa",
                      "#FFA15A",
                      "#19d3f3",
                      "#FF6692",
                      "#B6E880",
                      "#FF97FF",
                      "#FECB52"
                    ],
                    "font": {
                      "color": "#2a3f5f"
                    },
                    "geo": {
                      "bgcolor": "white",
                      "lakecolor": "white",
                      "landcolor": "#E5ECF6",
                      "showlakes": true,
                      "showland": true,
                      "subunitcolor": "white"
                    },
                    "hoverlabel": {
                      "align": "left"
                    },
                    "hovermode": "closest",
                    "mapbox": {
                      "style": "light"
                    },
                    "paper_bgcolor": "white",
                    "plot_bgcolor": "#E5ECF6",
                    "polar": {
                      "angularaxis": {
                        "gridcolor": "white",
                        "linecolor": "white",
                        "ticks": ""
                      },
                      "bgcolor": "#E5ECF6",
                      "radialaxis": {
                        "gridcolor": "white",
                        "linecolor": "white",
                        "ticks": ""
                      }
                    },
                    "scene": {
                      "xaxis": {
                        "backgroundcolor": "#E5ECF6",
                        "gridcolor": "white",
                        "gridwidth": 2,
                        "linecolor": "white",
                        "showbackground": true,
                        "ticks": "",
                        "zerolinecolor": "white"
                      },
                      "yaxis": {
                        "backgroundcolor": "#E5ECF6",
                        "gridcolor": "white",
                        "gridwidth": 2,
                        "linecolor": "white",
                        "showbackground": true,
                        "ticks": "",
                        "zerolinecolor": "white"
                      },
                      "zaxis": {
                        "backgroundcolor": "#E5ECF6",
                        "gridcolor": "white",
                        "gridwidth": 2,
                        "linecolor": "white",
                        "showbackground": true,
                        "ticks": "",
                        "zerolinecolor": "white"
                      }
                    },
                    "shapedefaults": {
                      "line": {
                        "color": "#2a3f5f"
                      }
                    },
                    "ternary": {
                      "aaxis": {
                        "gridcolor": "white",
                        "linecolor": "white",
                        "ticks": ""
                      },
                      "baxis": {
                        "gridcolor": "white",
                        "linecolor": "white",
                        "ticks": ""
                      },
                      "bgcolor": "#E5ECF6",
                      "caxis": {
                        "gridcolor": "white",
                        "linecolor": "white",
                        "ticks": ""
                      }
                    },
                    "title": {
                      "x": 0.05
                    },
                    "xaxis": {
                      "automargin": true,
                      "gridcolor": "white",
                      "linecolor": "white",
                      "ticks": "",
                      "title": {
                        "standoff": 15
                      },
                      "zerolinecolor": "white",
                      "zerolinewidth": 2
                    },
                    "yaxis": {
                      "automargin": true,
                      "gridcolor": "white",
                      "linecolor": "white",
                      "ticks": "",
                      "title": {
                        "standoff": 15
                      },
                      "zerolinecolor": "white",
                      "zerolinewidth": 2
                    }
                  }
                },
                "updatemenus": [
                  {
                    "buttons": [
                      {
                        "args": [
                          null,
                          {
                            "frame": {
                              "duration": 285.7142857142857,
                              "redraw": true
                            },
                            "fromcurrent": true,
                            "transition": {
                              "duration": 0
                            }
                          }
                        ],
                        "label": "Play",
                        "method": "animate"
                      },
                      {
                        "args": [
                          [
                            null
                          ],
                          {
                            "frame": {
                              "duration": 0,
                              "redraw": true
                            },
                            "mode": "immediate",
                            "transition": {
                              "duration": 0
                            }
                          }
                        ],
                        "label": "Stop",
                        "method": "animate"
                      }
                    ],
                    "direction": "left",
                    "pad": {
                      "r": 10,
                      "t": 75
                    },
                    "showactive": true,
                    "type": "buttons",
                    "x": 0.1,
                    "xanchor": "right",
                    "y": 0,
                    "yanchor": "top"
                  }
                ],
                "xaxis": {
                  "range": [
                    -10.455900716299883,
                    30.982868737730715
                  ],
                  "title": {
                    "text": "<i>x</i>"
                  }
                },
                "yaxis": {
                  "range": [
                    -4.780235028069798,
                    37.76499886497257
                  ],
                  "title": {
                    "text": "<i>y</i>"
                  }
                }
              }
            }
          },
          "metadata": {},
          "output_type": "display_data"
        }
      ],
      "source": [
        "from datetime import datetime\n",
        "from datetime import timedelta\n",
        "from ordered_set import OrderedSet\n",
        "import numpy as np\n",
        "from scipy.stats import uniform\n",
        "\n",
        "from stonesoup.models.transition.linear import CombinedLinearGaussianTransitionModel, \\\n",
        "                                               ConstantVelocity\n",
        "from stonesoup.types.groundtruth import GroundTruthPath, GroundTruthState\n",
        "from stonesoup.types.detection import TrueDetection\n",
        "from stonesoup.types.detection import Clutter\n",
        "from stonesoup.models.measurement.linear import LinearGaussian\n",
        "\n",
        "np.random.seed(1991)\n",
        "\n",
        "truths = OrderedSet()\n",
        "\n",
        "start_time = datetime.now().replace(microsecond=0)\n",
        "transition_model = CombinedLinearGaussianTransitionModel([ConstantVelocity(0.005),\n",
        "                                                          ConstantVelocity(0.005)])\n",
        "\n",
        "timesteps = [start_time]\n",
        "truth = GroundTruthPath([GroundTruthState([0, 1, 0, 1], timestamp=timesteps[0])])\n",
        "for k in range(1, 21):\n",
        "    timesteps.append(start_time + timedelta(seconds=k))\n",
        "    truth.append(GroundTruthState(\n",
        "        transition_model.function(truth[k-1], noise=True, time_interval=timedelta(seconds=1)),\n",
        "        timestamp=timesteps[k]))\n",
        "truths.add(truth)\n",
        "\n",
        "truth = GroundTruthPath([GroundTruthState([0, 1, 20, -1], timestamp=timesteps[0])])\n",
        "for k in range(1, 21):\n",
        "    truth.append(GroundTruthState(\n",
        "        transition_model.function(truth[k-1], noise=True, time_interval=timedelta(seconds=1)),\n",
        "        timestamp=timesteps[k]))\n",
        "truths.add(truth)\n",
        "\n",
        "# Plot ground truth.\n",
        "from stonesoup.plotter import AnimatedPlotterly\n",
        "plotter = AnimatedPlotterly(timesteps, tail_length=0.3)\n",
        "plotter.plot_ground_truths(truths, [0, 2])\n",
        "\n",
        "# Generate measurements.\n",
        "all_measurements = []\n",
        "\n",
        "measurement_model = LinearGaussian(\n",
        "    ndim_state=4,\n",
        "    mapping=(0, 2),\n",
        "    noise_covar=np.array([[0.75, 0],\n",
        "                          [0, 0.75]])\n",
        "    )\n",
        "\n",
        "prob_detect = 0.9  # 90% chance of detection.\n",
        "\n",
        "for k in range(20):\n",
        "    measurement_set = set()\n",
        "\n",
        "    for truth in truths:\n",
        "        # Generate actual detection from the state with a 10% chance that no detection is received.\n",
        "        if np.random.rand() <= prob_detect:\n",
        "            measurement = measurement_model.function(truth[k], noise=True)\n",
        "            measurement_set.add(TrueDetection(state_vector=measurement,\n",
        "                                              groundtruth_path=truth,\n",
        "                                              timestamp=truth[k].timestamp,\n",
        "                                              measurement_model=measurement_model))\n",
        "\n",
        "        # Generate clutter at this time-step\n",
        "        truth_x = truth[k].state_vector[0]\n",
        "        truth_y = truth[k].state_vector[2]\n",
        "        for _ in range(np.random.randint(10)):\n",
        "            x = uniform.rvs(truth_x - 10, 20)\n",
        "            y = uniform.rvs(truth_y - 10, 20)\n",
        "            measurement_set.add(Clutter(np.array([[x], [y]]), timestamp=truth[k].timestamp,\n",
        "                                        measurement_model=measurement_model))\n",
        "    all_measurements.append(measurement_set)\n",
        "\n",
        "# Plot true detections and clutter.\n",
        "plotter.plot_measurements(all_measurements, [0, 2])\n",
        "plotter.fig"
      ]
    },
    {
      "cell_type": "code",
      "execution_count": 6,
      "metadata": {
        "collapsed": false
      },
      "outputs": [],
      "source": [
        "from stonesoup.predictor.kalman import KalmanPredictor\n",
        "predictor = KalmanPredictor(transition_model)"
      ]
    },
    {
      "cell_type": "code",
      "execution_count": 7,
      "metadata": {
        "collapsed": false
      },
      "outputs": [],
      "source": [
        "from stonesoup.updater.kalman import KalmanUpdater\n",
        "updater = KalmanUpdater(measurement_model)"
      ]
    },
    {
      "cell_type": "markdown",
      "metadata": {},
      "source": [
        "Initial hypotheses are calculated (per track) in the same manner as the PDA. Therefore, in Stone Soup, the JPDA filter uses the `PDAHypothesiser` to create these hypotheses. Unlike the `PDA` data associator, in Stone Soup, the `JPDA` associator takes this collection of hypotheses and adjusts their weights according to the method described above, before returning key-value pairs of tracks and detections to be associated with them.\n",
        "\n"
      ]
    },
    {
      "cell_type": "code",
      "execution_count": 8,
      "metadata": {
        "collapsed": false
      },
      "outputs": [],
      "source": [
        "from stonesoup.hypothesiser.probability import PDAHypothesiser\n",
        "# This doesn't need to be created again, but for the sake of visualising the process, it has been\n",
        "# added.\n",
        "hypothesiser = PDAHypothesiser(predictor=predictor,\n",
        "                               updater=updater,\n",
        "                               clutter_spatial_density=0.125,\n",
        "                               prob_detect=prob_detect)\n",
        "\n",
        "from stonesoup.dataassociator.probability import JPDA\n",
        "data_associator = JPDA(hypothesiser=hypothesiser)"
      ]
    },
    {
      "cell_type": "markdown",
      "metadata": {},
      "source": [
        "## Running the JPDA filter\n",
        "\n"
      ]
    },
    {
      "cell_type": "code",
      "execution_count": 5,
      "metadata": {
        "collapsed": false
      },
      "outputs": [],
      "source": [
        "from stonesoup.types.state import GaussianState\n",
        "from stonesoup.types.track import Track\n",
        "from stonesoup.types.array import StateVectors\n",
        "from stonesoup.functions import gm_reduce_single\n",
        "from stonesoup.types.update import GaussianStateUpdate\n",
        "\n",
        "prior1 = GaussianState([[0], [1], [0], [1]], np.diag([1.5, 0.5, 1.5, 0.5]), timestamp=start_time)\n",
        "prior2 = GaussianState([[0], [1], [20], [-1]], np.diag([1.5, 0.5, 1.5, 0.5]), timestamp=start_time)\n",
        "\n",
        "tracks = {Track([prior1]), Track([prior2])}\n",
        "\n",
        "for n, measurements in enumerate(all_measurements):\n",
        "    hypotheses = data_associator.associate(tracks,\n",
        "                                           measurements,\n",
        "                                           start_time + timedelta(seconds=n))\n",
        "\n",
        "    # Loop through each track, performing the association step with weights adjusted according to\n",
        "    # JPDA.\n",
        "    for track in tracks:\n",
        "        track_hypotheses = hypotheses[track]\n",
        "\n",
        "        posterior_states = []\n",
        "        posterior_state_weights = []\n",
        "        for hypothesis in track_hypotheses:\n",
        "            if not hypothesis:\n",
        "                posterior_states.append(hypothesis.prediction)\n",
        "            else:\n",
        "                posterior_state = updater.update(hypothesis)\n",
        "                posterior_states.append(posterior_state)\n",
        "            posterior_state_weights.append(hypothesis.probability)\n",
        "\n",
        "        means = StateVectors([state.state_vector for state in posterior_states])\n",
        "        covars = np.stack([state.covar for state in posterior_states], axis=2)\n",
        "        weights = np.asarray(posterior_state_weights)\n",
        "\n",
        "        # Reduce mixture of states to one posterior estimate Gaussian.\n",
        "        post_mean, post_covar = gm_reduce_single(means, covars, weights)\n",
        "\n",
        "        # Add a Gaussian state approximation to the track.\n",
        "        track.append(GaussianStateUpdate(\n",
        "            post_mean, post_covar,\n",
        "            track_hypotheses,\n",
        "            track_hypotheses[0].measurement.timestamp))"
      ]
    },
    {
      "cell_type": "markdown",
      "metadata": {},
      "source": [
        "Plot the resulting tracks.\n",
        "\n"
      ]
    },
    {
      "cell_type": "code",
      "execution_count": null,
      "metadata": {
        "collapsed": false
      },
      "outputs": [],
      "source": [
        "plotter.plot_tracks(tracks, [0, 2], uncertainty=True)\n",
        "plotter.fig"
      ]
    },
    {
      "cell_type": "markdown",
      "metadata": {},
      "source": [
        "## References\n",
        "1. Bar-Shalom Y, Daum F, Huang F 2009, The Probabilistic Data Association Filter, IEEE Control\n",
        "Systems Magazine\n",
        "\n"
      ]
    }
  ],
  "metadata": {
    "kernelspec": {
      "display_name": "asterix",
      "language": "python",
      "name": "python3"
    },
    "language_info": {
      "codemirror_mode": {
        "name": "ipython",
        "version": 3
      },
      "file_extension": ".py",
      "mimetype": "text/x-python",
      "name": "python",
      "nbconvert_exporter": "python",
      "pygments_lexer": "ipython3",
      "version": "3.8.18"
    }
  },
  "nbformat": 4,
  "nbformat_minor": 0
}
