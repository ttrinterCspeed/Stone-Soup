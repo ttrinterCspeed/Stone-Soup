{
 "cells": [
  {
   "cell_type": "markdown",
   "metadata": {},
   "source": [
    "# Stone Soup\n",
    "...is a software project to provide the target tracking and state estimation community with a framework for the development and testing of tracking and state estimation algorithms.\n",
    "[documentation](https://stonesoup.readthedocs.io/en/latest/index.html)\n",
    "\n",
    "### Tutorial #2 - Non-linear models: extended Kalman filter\n",
    "[Tutorial #2](https://stonesoup.readthedocs.io/en/latest/auto_tutorials/02_ExtendedKalmanFilterTutorial.html#sphx-glr-auto-tutorials-02-extendedkalmanfiltertutorial-py)"
   ]
  },
  {
   "cell_type": "code",
   "execution_count": 1,
   "metadata": {},
   "outputs": [],
   "source": [
    "import numpy as np\n",
    "from datetime import datetime, timedelta\n",
    "\n",
    "from stonesoup.types.groundtruth import GroundTruthPath, GroundTruthState\n",
    "from stonesoup.models.transition.linear import CombinedLinearGaussianTransitionModel, \\\n",
    "                                               ConstantVelocity\n",
    "from stonesoup.plotter import AnimatedPlotterly"
   ]
  },
  {
   "cell_type": "code",
   "execution_count": 2,
   "metadata": {},
   "outputs": [],
   "source": [
    "# And the clock starts\n",
    "start_time = datetime.now().replace(microsecond=0)\n",
    "np.random.seed(1991)"
   ]
  },
  {
   "cell_type": "markdown",
   "metadata": {},
   "source": [
    "### Create a target"
   ]
  },
  {
   "cell_type": "code",
   "execution_count": 3,
   "metadata": {},
   "outputs": [
    {
     "data": {
      "application/vnd.plotly.v1+json": {
       "config": {
        "plotlyServerURL": "https://plot.ly"
       },
       "data": [
        {
         "hoverinfo": "none",
         "legendgroup": "Ground Truth",
         "legendrank": 100,
         "line": {
          "color": "#EF553B",
          "dash": "dash"
         },
         "mode": "lines",
         "name": "Ground Truth",
         "showlegend": true,
         "type": "scatter",
         "x": [],
         "y": []
        },
        {
         "hoverinfo": "none",
         "legendgroup": "Ground Truth",
         "legendrank": 100,
         "line": {
          "color": "#EF553B",
          "dash": "dash"
         },
         "mode": "lines",
         "name": "Ground Truth",
         "showlegend": false,
         "type": "scatter",
         "x": [],
         "y": []
        }
       ],
       "frames": [
        {
         "data": [
          {
           "type": "scatter",
           "x": [
            0,
            0
           ],
           "y": [
            0,
            0
           ]
          },
          {
           "hovertemplate": "GroundTruthState<br>(%{x}, %{y})<br>Time: %{meta}",
           "meta": [
            "2024-10-23 17:10:46"
           ],
           "type": "scatter",
           "x": [
            0,
            null
           ],
           "y": [
            0,
            null
           ]
          }
         ],
         "name": "2024-10-23 17:10:46",
         "traces": [
          0,
          1
         ]
        },
        {
         "data": [
          {
           "type": "scatter",
           "x": [
            0,
            0
           ],
           "y": [
            0,
            0
           ]
          },
          {
           "hovertemplate": "GroundTruthState<br>(%{x}, %{y})<br>Time: %{meta}",
           "meta": [
            "2024-10-23 17:10:46",
            "2024-10-23 17:10:47"
           ],
           "type": "scatter",
           "x": [
            0,
            1.177223465328352,
            null
           ],
           "y": [
            0,
            1.0006757513847795,
            null
           ]
          }
         ],
         "name": "2024-10-23 17:10:47",
         "traces": [
          0,
          1
         ]
        },
        {
         "data": [
          {
           "type": "scatter",
           "x": [
            0,
            0
           ],
           "y": [
            0,
            0
           ]
          },
          {
           "hovertemplate": "GroundTruthState<br>(%{x}, %{y})<br>Time: %{meta}",
           "meta": [
            "2024-10-23 17:10:46",
            "2024-10-23 17:10:47",
            "2024-10-23 17:10:48"
           ],
           "type": "scatter",
           "x": [
            0,
            1.177223465328352,
            2.275462874700381,
            null
           ],
           "y": [
            0,
            1.0006757513847795,
            2.0307275520116606,
            null
           ]
          }
         ],
         "name": "2024-10-23 17:10:48",
         "traces": [
          0,
          1
         ]
        },
        {
         "data": [
          {
           "type": "scatter",
           "x": [
            0,
            0
           ],
           "y": [
            0,
            0
           ]
          },
          {
           "hovertemplate": "GroundTruthState<br>(%{x}, %{y})<br>Time: %{meta}",
           "meta": [
            "2024-10-23 17:10:46",
            "2024-10-23 17:10:47",
            "2024-10-23 17:10:48",
            "2024-10-23 17:10:49"
           ],
           "type": "scatter",
           "x": [
            0,
            1.177223465328352,
            2.275462874700381,
            3.1560399703547968,
            null
           ],
           "y": [
            0,
            1.0006757513847795,
            2.0307275520116606,
            3.2076890985336823,
            null
           ]
          }
         ],
         "name": "2024-10-23 17:10:49",
         "traces": [
          0,
          1
         ]
        },
        {
         "data": [
          {
           "type": "scatter",
           "x": [
            0,
            0
           ],
           "y": [
            0,
            0
           ]
          },
          {
           "hovertemplate": "GroundTruthState<br>(%{x}, %{y})<br>Time: %{meta}",
           "meta": [
            "2024-10-23 17:10:46",
            "2024-10-23 17:10:47",
            "2024-10-23 17:10:48",
            "2024-10-23 17:10:49",
            "2024-10-23 17:10:50"
           ],
           "type": "scatter",
           "x": [
            0,
            1.177223465328352,
            2.275462874700381,
            3.1560399703547968,
            4.111484568780832,
            null
           ],
           "y": [
            0,
            1.0006757513847795,
            2.0307275520116606,
            3.2076890985336823,
            4.681546580969336,
            null
           ]
          }
         ],
         "name": "2024-10-23 17:10:50",
         "traces": [
          0,
          1
         ]
        },
        {
         "data": [
          {
           "type": "scatter",
           "x": [
            0,
            0
           ],
           "y": [
            0,
            0
           ]
          },
          {
           "hovertemplate": "GroundTruthState<br>(%{x}, %{y})<br>Time: %{meta}",
           "meta": [
            "2024-10-23 17:10:46",
            "2024-10-23 17:10:47",
            "2024-10-23 17:10:48",
            "2024-10-23 17:10:49",
            "2024-10-23 17:10:50",
            "2024-10-23 17:10:51"
           ],
           "type": "scatter",
           "x": [
            0,
            1.177223465328352,
            2.275462874700381,
            3.1560399703547968,
            4.111484568780832,
            5.068918699968233,
            null
           ],
           "y": [
            0,
            1.0006757513847795,
            2.0307275520116606,
            3.2076890985336823,
            4.681546580969336,
            6.424096316700446,
            null
           ]
          }
         ],
         "name": "2024-10-23 17:10:51",
         "traces": [
          0,
          1
         ]
        },
        {
         "data": [
          {
           "type": "scatter",
           "x": [
            0,
            0
           ],
           "y": [
            0,
            0
           ]
          },
          {
           "hovertemplate": "GroundTruthState<br>(%{x}, %{y})<br>Time: %{meta}",
           "meta": [
            "2024-10-23 17:10:46",
            "2024-10-23 17:10:47",
            "2024-10-23 17:10:48",
            "2024-10-23 17:10:49",
            "2024-10-23 17:10:50",
            "2024-10-23 17:10:51",
            "2024-10-23 17:10:52"
           ],
           "type": "scatter",
           "x": [
            0,
            1.177223465328352,
            2.275462874700381,
            3.1560399703547968,
            4.111484568780832,
            5.068918699968233,
            6.134103970132443,
            null
           ],
           "y": [
            0,
            1.0006757513847795,
            2.0307275520116606,
            3.2076890985336823,
            4.681546580969336,
            6.424096316700446,
            8.291557310607626,
            null
           ]
          }
         ],
         "name": "2024-10-23 17:10:52",
         "traces": [
          0,
          1
         ]
        },
        {
         "data": [
          {
           "type": "scatter",
           "x": [
            0,
            0
           ],
           "y": [
            0,
            0
           ]
          },
          {
           "hovertemplate": "GroundTruthState<br>(%{x}, %{y})<br>Time: %{meta}",
           "meta": [
            "2024-10-23 17:10:47",
            "2024-10-23 17:10:48",
            "2024-10-23 17:10:49",
            "2024-10-23 17:10:50",
            "2024-10-23 17:10:51",
            "2024-10-23 17:10:52",
            "2024-10-23 17:10:53"
           ],
           "type": "scatter",
           "x": [
            1.177223465328352,
            2.275462874700381,
            3.1560399703547968,
            4.111484568780832,
            5.068918699968233,
            6.134103970132443,
            7.336661592351442,
            null
           ],
           "y": [
            1.0006757513847795,
            2.0307275520116606,
            3.2076890985336823,
            4.681546580969336,
            6.424096316700446,
            8.291557310607626,
            10.210133065599429,
            null
           ]
          }
         ],
         "name": "2024-10-23 17:10:53",
         "traces": [
          0,
          1
         ]
        },
        {
         "data": [
          {
           "type": "scatter",
           "x": [
            0,
            0
           ],
           "y": [
            0,
            0
           ]
          },
          {
           "hovertemplate": "GroundTruthState<br>(%{x}, %{y})<br>Time: %{meta}",
           "meta": [
            "2024-10-23 17:10:48",
            "2024-10-23 17:10:49",
            "2024-10-23 17:10:50",
            "2024-10-23 17:10:51",
            "2024-10-23 17:10:52",
            "2024-10-23 17:10:53",
            "2024-10-23 17:10:54"
           ],
           "type": "scatter",
           "x": [
            2.275462874700381,
            3.1560399703547968,
            4.111484568780832,
            5.068918699968233,
            6.134103970132443,
            7.336661592351442,
            8.708739774094603,
            null
           ],
           "y": [
            2.0307275520116606,
            3.2076890985336823,
            4.681546580969336,
            6.424096316700446,
            8.291557310607626,
            10.210133065599429,
            12.639171131337447,
            null
           ]
          }
         ],
         "name": "2024-10-23 17:10:54",
         "traces": [
          0,
          1
         ]
        },
        {
         "data": [
          {
           "type": "scatter",
           "x": [
            0,
            0
           ],
           "y": [
            0,
            0
           ]
          },
          {
           "hovertemplate": "GroundTruthState<br>(%{x}, %{y})<br>Time: %{meta}",
           "meta": [
            "2024-10-23 17:10:49",
            "2024-10-23 17:10:50",
            "2024-10-23 17:10:51",
            "2024-10-23 17:10:52",
            "2024-10-23 17:10:53",
            "2024-10-23 17:10:54",
            "2024-10-23 17:10:55"
           ],
           "type": "scatter",
           "x": [
            3.1560399703547968,
            4.111484568780832,
            5.068918699968233,
            6.134103970132443,
            7.336661592351442,
            8.708739774094603,
            9.661668970928952,
            null
           ],
           "y": [
            3.2076890985336823,
            4.681546580969336,
            6.424096316700446,
            8.291557310607626,
            10.210133065599429,
            12.639171131337447,
            15.077240437037124,
            null
           ]
          }
         ],
         "name": "2024-10-23 17:10:55",
         "traces": [
          0,
          1
         ]
        },
        {
         "data": [
          {
           "type": "scatter",
           "x": [
            0,
            0
           ],
           "y": [
            0,
            0
           ]
          },
          {
           "hovertemplate": "GroundTruthState<br>(%{x}, %{y})<br>Time: %{meta}",
           "meta": [
            "2024-10-23 17:10:50",
            "2024-10-23 17:10:51",
            "2024-10-23 17:10:52",
            "2024-10-23 17:10:53",
            "2024-10-23 17:10:54",
            "2024-10-23 17:10:55",
            "2024-10-23 17:10:56"
           ],
           "type": "scatter",
           "x": [
            4.111484568780832,
            5.068918699968233,
            6.134103970132443,
            7.336661592351442,
            8.708739774094603,
            9.661668970928952,
            10.289427281808946,
            null
           ],
           "y": [
            4.681546580969336,
            6.424096316700446,
            8.291557310607626,
            10.210133065599429,
            12.639171131337447,
            15.077240437037124,
            17.463880393414996,
            null
           ]
          }
         ],
         "name": "2024-10-23 17:10:56",
         "traces": [
          0,
          1
         ]
        },
        {
         "data": [
          {
           "type": "scatter",
           "x": [
            0,
            0
           ],
           "y": [
            0,
            0
           ]
          },
          {
           "hovertemplate": "GroundTruthState<br>(%{x}, %{y})<br>Time: %{meta}",
           "meta": [
            "2024-10-23 17:10:51",
            "2024-10-23 17:10:52",
            "2024-10-23 17:10:53",
            "2024-10-23 17:10:54",
            "2024-10-23 17:10:55",
            "2024-10-23 17:10:56",
            "2024-10-23 17:10:57"
           ],
           "type": "scatter",
           "x": [
            5.068918699968233,
            6.134103970132443,
            7.336661592351442,
            8.708739774094603,
            9.661668970928952,
            10.289427281808946,
            10.90851617793013,
            null
           ],
           "y": [
            6.424096316700446,
            8.291557310607626,
            10.210133065599429,
            12.639171131337447,
            15.077240437037124,
            17.463880393414996,
            19.922987588268054,
            null
           ]
          }
         ],
         "name": "2024-10-23 17:10:57",
         "traces": [
          0,
          1
         ]
        },
        {
         "data": [
          {
           "type": "scatter",
           "x": [
            0,
            0
           ],
           "y": [
            0,
            0
           ]
          },
          {
           "hovertemplate": "GroundTruthState<br>(%{x}, %{y})<br>Time: %{meta}",
           "meta": [
            "2024-10-23 17:10:52",
            "2024-10-23 17:10:53",
            "2024-10-23 17:10:54",
            "2024-10-23 17:10:55",
            "2024-10-23 17:10:56",
            "2024-10-23 17:10:57",
            "2024-10-23 17:10:58"
           ],
           "type": "scatter",
           "x": [
            6.134103970132443,
            7.336661592351442,
            8.708739774094603,
            9.661668970928952,
            10.289427281808946,
            10.90851617793013,
            11.43649485409589,
            null
           ],
           "y": [
            8.291557310607626,
            10.210133065599429,
            12.639171131337447,
            15.077240437037124,
            17.463880393414996,
            19.922987588268054,
            22.43523846129129,
            null
           ]
          }
         ],
         "name": "2024-10-23 17:10:58",
         "traces": [
          0,
          1
         ]
        },
        {
         "data": [
          {
           "type": "scatter",
           "x": [
            0,
            0
           ],
           "y": [
            0,
            0
           ]
          },
          {
           "hovertemplate": "GroundTruthState<br>(%{x}, %{y})<br>Time: %{meta}",
           "meta": [
            "2024-10-23 17:10:53",
            "2024-10-23 17:10:54",
            "2024-10-23 17:10:55",
            "2024-10-23 17:10:56",
            "2024-10-23 17:10:57",
            "2024-10-23 17:10:58",
            "2024-10-23 17:10:59"
           ],
           "type": "scatter",
           "x": [
            7.336661592351442,
            8.708739774094603,
            9.661668970928952,
            10.289427281808946,
            10.90851617793013,
            11.43649485409589,
            12.083757383111484,
            null
           ],
           "y": [
            10.210133065599429,
            12.639171131337447,
            15.077240437037124,
            17.463880393414996,
            19.922987588268054,
            22.43523846129129,
            25.226253707256983,
            null
           ]
          }
         ],
         "name": "2024-10-23 17:10:59",
         "traces": [
          0,
          1
         ]
        },
        {
         "data": [
          {
           "type": "scatter",
           "x": [
            0,
            0
           ],
           "y": [
            0,
            0
           ]
          },
          {
           "hovertemplate": "GroundTruthState<br>(%{x}, %{y})<br>Time: %{meta}",
           "meta": [
            "2024-10-23 17:10:54",
            "2024-10-23 17:10:55",
            "2024-10-23 17:10:56",
            "2024-10-23 17:10:57",
            "2024-10-23 17:10:58",
            "2024-10-23 17:10:59",
            "2024-10-23 17:11:00"
           ],
           "type": "scatter",
           "x": [
            8.708739774094603,
            9.661668970928952,
            10.289427281808946,
            10.90851617793013,
            11.43649485409589,
            12.083757383111484,
            12.857255540294034,
            null
           ],
           "y": [
            12.639171131337447,
            15.077240437037124,
            17.463880393414996,
            19.922987588268054,
            22.43523846129129,
            25.226253707256983,
            28.317087024384634,
            null
           ]
          }
         ],
         "name": "2024-10-23 17:11:00",
         "traces": [
          0,
          1
         ]
        },
        {
         "data": [
          {
           "type": "scatter",
           "x": [
            0,
            0
           ],
           "y": [
            0,
            0
           ]
          },
          {
           "hovertemplate": "GroundTruthState<br>(%{x}, %{y})<br>Time: %{meta}",
           "meta": [
            "2024-10-23 17:10:55",
            "2024-10-23 17:10:56",
            "2024-10-23 17:10:57",
            "2024-10-23 17:10:58",
            "2024-10-23 17:10:59",
            "2024-10-23 17:11:00",
            "2024-10-23 17:11:01"
           ],
           "type": "scatter",
           "x": [
            9.661668970928952,
            10.289427281808946,
            10.90851617793013,
            11.43649485409589,
            12.083757383111484,
            12.857255540294034,
            13.664009379110706,
            null
           ],
           "y": [
            15.077240437037124,
            17.463880393414996,
            19.922987588268054,
            22.43523846129129,
            25.226253707256983,
            28.317087024384634,
            31.653600280950233,
            null
           ]
          }
         ],
         "name": "2024-10-23 17:11:01",
         "traces": [
          0,
          1
         ]
        },
        {
         "data": [
          {
           "type": "scatter",
           "x": [
            0,
            0
           ],
           "y": [
            0,
            0
           ]
          },
          {
           "hovertemplate": "GroundTruthState<br>(%{x}, %{y})<br>Time: %{meta}",
           "meta": [
            "2024-10-23 17:10:56",
            "2024-10-23 17:10:57",
            "2024-10-23 17:10:58",
            "2024-10-23 17:10:59",
            "2024-10-23 17:11:00",
            "2024-10-23 17:11:01",
            "2024-10-23 17:11:02"
           ],
           "type": "scatter",
           "x": [
            10.289427281808946,
            10.90851617793013,
            11.43649485409589,
            12.083757383111484,
            12.857255540294034,
            13.664009379110706,
            14.66094199646186,
            null
           ],
           "y": [
            17.463880393414996,
            19.922987588268054,
            22.43523846129129,
            25.226253707256983,
            28.317087024384634,
            31.653600280950233,
            34.95982666405545,
            null
           ]
          }
         ],
         "name": "2024-10-23 17:11:02",
         "traces": [
          0,
          1
         ]
        },
        {
         "data": [
          {
           "type": "scatter",
           "x": [
            0,
            0
           ],
           "y": [
            0,
            0
           ]
          },
          {
           "hovertemplate": "GroundTruthState<br>(%{x}, %{y})<br>Time: %{meta}",
           "meta": [
            "2024-10-23 17:10:57",
            "2024-10-23 17:10:58",
            "2024-10-23 17:10:59",
            "2024-10-23 17:11:00",
            "2024-10-23 17:11:01",
            "2024-10-23 17:11:02",
            "2024-10-23 17:11:03"
           ],
           "type": "scatter",
           "x": [
            10.90851617793013,
            11.43649485409589,
            12.083757383111484,
            12.857255540294034,
            13.664009379110706,
            14.66094199646186,
            15.763691585187017,
            null
           ],
           "y": [
            19.922987588268054,
            22.43523846129129,
            25.226253707256983,
            28.317087024384634,
            31.653600280950233,
            34.95982666405545,
            38.32678424492485,
            null
           ]
          }
         ],
         "name": "2024-10-23 17:11:03",
         "traces": [
          0,
          1
         ]
        },
        {
         "data": [
          {
           "type": "scatter",
           "x": [
            0,
            0
           ],
           "y": [
            0,
            0
           ]
          },
          {
           "hovertemplate": "GroundTruthState<br>(%{x}, %{y})<br>Time: %{meta}",
           "meta": [
            "2024-10-23 17:10:58",
            "2024-10-23 17:10:59",
            "2024-10-23 17:11:00",
            "2024-10-23 17:11:01",
            "2024-10-23 17:11:02",
            "2024-10-23 17:11:03",
            "2024-10-23 17:11:04"
           ],
           "type": "scatter",
           "x": [
            11.43649485409589,
            12.083757383111484,
            12.857255540294034,
            13.664009379110706,
            14.66094199646186,
            15.763691585187017,
            16.994297584708757,
            null
           ],
           "y": [
            22.43523846129129,
            25.226253707256983,
            28.317087024384634,
            31.653600280950233,
            34.95982666405545,
            38.32678424492485,
            41.65059655664205,
            null
           ]
          }
         ],
         "name": "2024-10-23 17:11:04",
         "traces": [
          0,
          1
         ]
        },
        {
         "data": [
          {
           "type": "scatter",
           "x": [
            0,
            0
           ],
           "y": [
            0,
            0
           ]
          },
          {
           "hovertemplate": "GroundTruthState<br>(%{x}, %{y})<br>Time: %{meta}",
           "meta": [
            "2024-10-23 17:10:59",
            "2024-10-23 17:11:00",
            "2024-10-23 17:11:01",
            "2024-10-23 17:11:02",
            "2024-10-23 17:11:03",
            "2024-10-23 17:11:04",
            "2024-10-23 17:11:05"
           ],
           "type": "scatter",
           "x": [
            12.083757383111484,
            12.857255540294034,
            13.664009379110706,
            14.66094199646186,
            15.763691585187017,
            16.994297584708757,
            18.302114239501268,
            null
           ],
           "y": [
            25.226253707256983,
            28.317087024384634,
            31.653600280950233,
            34.95982666405545,
            38.32678424492485,
            41.65059655664205,
            44.94718306572588,
            null
           ]
          }
         ],
         "name": "2024-10-23 17:11:05",
         "traces": [
          0,
          1
         ]
        },
        {
         "data": [
          {
           "type": "scatter",
           "x": [
            0,
            0
           ],
           "y": [
            0,
            0
           ]
          },
          {
           "hovertemplate": "GroundTruthState<br>(%{x}, %{y})<br>Time: %{meta}",
           "meta": [
            "2024-10-23 17:11:00",
            "2024-10-23 17:11:01",
            "2024-10-23 17:11:02",
            "2024-10-23 17:11:03",
            "2024-10-23 17:11:04",
            "2024-10-23 17:11:05",
            "2024-10-23 17:11:06"
           ],
           "type": "scatter",
           "x": [
            12.857255540294034,
            13.664009379110706,
            14.66094199646186,
            15.763691585187017,
            16.994297584708757,
            18.302114239501268,
            19.71972436026734,
            null
           ],
           "y": [
            28.317087024384634,
            31.653600280950233,
            34.95982666405545,
            38.32678424492485,
            41.65059655664205,
            44.94718306572588,
            48.066958689446075,
            null
           ]
          }
         ],
         "name": "2024-10-23 17:11:06",
         "traces": [
          0,
          1
         ]
        }
       ],
       "layout": {
        "autosize": true,
        "colorway": [
         "#EF553B",
         "#00CC96",
         "#AB63FA",
         "#FFA15A",
         "#19D3F3",
         "#FF6692",
         "#B6E880",
         "#FF97FF",
         "#FECB52"
        ],
        "height": 550,
        "sliders": [
         {
          "currentvalue": {
           "font": {
            "size": 16
           },
           "prefix": "Time: ",
           "visible": true,
           "xanchor": "right"
          },
          "len": 0.9,
          "pad": {
           "b": 10,
           "t": 50
          },
          "steps": [
           {
            "args": [
             [
              "2024-10-23 17:10:46"
             ],
             {
              "frame": {
               "duration": 1,
               "easing": "linear",
               "redraw": true
              },
              "transition": {
               "duration": 0,
               "easing": "linear"
              }
             }
            ],
            "label": "17:10:46",
            "method": "animate"
           },
           {
            "args": [
             [
              "2024-10-23 17:10:47"
             ],
             {
              "frame": {
               "duration": 1,
               "easing": "linear",
               "redraw": true
              },
              "transition": {
               "duration": 0,
               "easing": "linear"
              }
             }
            ],
            "label": "17:10:47",
            "method": "animate"
           },
           {
            "args": [
             [
              "2024-10-23 17:10:48"
             ],
             {
              "frame": {
               "duration": 1,
               "easing": "linear",
               "redraw": true
              },
              "transition": {
               "duration": 0,
               "easing": "linear"
              }
             }
            ],
            "label": "17:10:48",
            "method": "animate"
           },
           {
            "args": [
             [
              "2024-10-23 17:10:49"
             ],
             {
              "frame": {
               "duration": 1,
               "easing": "linear",
               "redraw": true
              },
              "transition": {
               "duration": 0,
               "easing": "linear"
              }
             }
            ],
            "label": "17:10:49",
            "method": "animate"
           },
           {
            "args": [
             [
              "2024-10-23 17:10:50"
             ],
             {
              "frame": {
               "duration": 1,
               "easing": "linear",
               "redraw": true
              },
              "transition": {
               "duration": 0,
               "easing": "linear"
              }
             }
            ],
            "label": "17:10:50",
            "method": "animate"
           },
           {
            "args": [
             [
              "2024-10-23 17:10:51"
             ],
             {
              "frame": {
               "duration": 1,
               "easing": "linear",
               "redraw": true
              },
              "transition": {
               "duration": 0,
               "easing": "linear"
              }
             }
            ],
            "label": "17:10:51",
            "method": "animate"
           },
           {
            "args": [
             [
              "2024-10-23 17:10:52"
             ],
             {
              "frame": {
               "duration": 1,
               "easing": "linear",
               "redraw": true
              },
              "transition": {
               "duration": 0,
               "easing": "linear"
              }
             }
            ],
            "label": "17:10:52",
            "method": "animate"
           },
           {
            "args": [
             [
              "2024-10-23 17:10:53"
             ],
             {
              "frame": {
               "duration": 1,
               "easing": "linear",
               "redraw": true
              },
              "transition": {
               "duration": 0,
               "easing": "linear"
              }
             }
            ],
            "label": "17:10:53",
            "method": "animate"
           },
           {
            "args": [
             [
              "2024-10-23 17:10:54"
             ],
             {
              "frame": {
               "duration": 1,
               "easing": "linear",
               "redraw": true
              },
              "transition": {
               "duration": 0,
               "easing": "linear"
              }
             }
            ],
            "label": "17:10:54",
            "method": "animate"
           },
           {
            "args": [
             [
              "2024-10-23 17:10:55"
             ],
             {
              "frame": {
               "duration": 1,
               "easing": "linear",
               "redraw": true
              },
              "transition": {
               "duration": 0,
               "easing": "linear"
              }
             }
            ],
            "label": "17:10:55",
            "method": "animate"
           },
           {
            "args": [
             [
              "2024-10-23 17:10:56"
             ],
             {
              "frame": {
               "duration": 1,
               "easing": "linear",
               "redraw": true
              },
              "transition": {
               "duration": 0,
               "easing": "linear"
              }
             }
            ],
            "label": "17:10:56",
            "method": "animate"
           },
           {
            "args": [
             [
              "2024-10-23 17:10:57"
             ],
             {
              "frame": {
               "duration": 1,
               "easing": "linear",
               "redraw": true
              },
              "transition": {
               "duration": 0,
               "easing": "linear"
              }
             }
            ],
            "label": "17:10:57",
            "method": "animate"
           },
           {
            "args": [
             [
              "2024-10-23 17:10:58"
             ],
             {
              "frame": {
               "duration": 1,
               "easing": "linear",
               "redraw": true
              },
              "transition": {
               "duration": 0,
               "easing": "linear"
              }
             }
            ],
            "label": "17:10:58",
            "method": "animate"
           },
           {
            "args": [
             [
              "2024-10-23 17:10:59"
             ],
             {
              "frame": {
               "duration": 1,
               "easing": "linear",
               "redraw": true
              },
              "transition": {
               "duration": 0,
               "easing": "linear"
              }
             }
            ],
            "label": "17:10:59",
            "method": "animate"
           },
           {
            "args": [
             [
              "2024-10-23 17:11:00"
             ],
             {
              "frame": {
               "duration": 1,
               "easing": "linear",
               "redraw": true
              },
              "transition": {
               "duration": 0,
               "easing": "linear"
              }
             }
            ],
            "label": "17:11:00",
            "method": "animate"
           },
           {
            "args": [
             [
              "2024-10-23 17:11:01"
             ],
             {
              "frame": {
               "duration": 1,
               "easing": "linear",
               "redraw": true
              },
              "transition": {
               "duration": 0,
               "easing": "linear"
              }
             }
            ],
            "label": "17:11:01",
            "method": "animate"
           },
           {
            "args": [
             [
              "2024-10-23 17:11:02"
             ],
             {
              "frame": {
               "duration": 1,
               "easing": "linear",
               "redraw": true
              },
              "transition": {
               "duration": 0,
               "easing": "linear"
              }
             }
            ],
            "label": "17:11:02",
            "method": "animate"
           },
           {
            "args": [
             [
              "2024-10-23 17:11:03"
             ],
             {
              "frame": {
               "duration": 1,
               "easing": "linear",
               "redraw": true
              },
              "transition": {
               "duration": 0,
               "easing": "linear"
              }
             }
            ],
            "label": "17:11:03",
            "method": "animate"
           },
           {
            "args": [
             [
              "2024-10-23 17:11:04"
             ],
             {
              "frame": {
               "duration": 1,
               "easing": "linear",
               "redraw": true
              },
              "transition": {
               "duration": 0,
               "easing": "linear"
              }
             }
            ],
            "label": "17:11:04",
            "method": "animate"
           },
           {
            "args": [
             [
              "2024-10-23 17:11:05"
             ],
             {
              "frame": {
               "duration": 1,
               "easing": "linear",
               "redraw": true
              },
              "transition": {
               "duration": 0,
               "easing": "linear"
              }
             }
            ],
            "label": "17:11:05",
            "method": "animate"
           },
           {
            "args": [
             [
              "2024-10-23 17:11:06"
             ],
             {
              "frame": {
               "duration": 1,
               "easing": "linear",
               "redraw": true
              },
              "transition": {
               "duration": 0,
               "easing": "linear"
              }
             }
            ],
            "label": "17:11:06",
            "method": "animate"
           }
          ],
          "transition": {
           "duration": 285.7142857142857,
           "easing": "linear"
          },
          "x": 0.1,
          "xanchor": "left",
          "y": 0,
          "yanchor": "top"
         }
        ],
        "template": {
         "data": {
          "bar": [
           {
            "error_x": {
             "color": "#2a3f5f"
            },
            "error_y": {
             "color": "#2a3f5f"
            },
            "marker": {
             "line": {
              "color": "#E5ECF6",
              "width": 0.5
             },
             "pattern": {
              "fillmode": "overlay",
              "size": 10,
              "solidity": 0.2
             }
            },
            "type": "bar"
           }
          ],
          "barpolar": [
           {
            "marker": {
             "line": {
              "color": "#E5ECF6",
              "width": 0.5
             },
             "pattern": {
              "fillmode": "overlay",
              "size": 10,
              "solidity": 0.2
             }
            },
            "type": "barpolar"
           }
          ],
          "carpet": [
           {
            "aaxis": {
             "endlinecolor": "#2a3f5f",
             "gridcolor": "white",
             "linecolor": "white",
             "minorgridcolor": "white",
             "startlinecolor": "#2a3f5f"
            },
            "baxis": {
             "endlinecolor": "#2a3f5f",
             "gridcolor": "white",
             "linecolor": "white",
             "minorgridcolor": "white",
             "startlinecolor": "#2a3f5f"
            },
            "type": "carpet"
           }
          ],
          "choropleth": [
           {
            "colorbar": {
             "outlinewidth": 0,
             "ticks": ""
            },
            "type": "choropleth"
           }
          ],
          "contour": [
           {
            "colorbar": {
             "outlinewidth": 0,
             "ticks": ""
            },
            "colorscale": [
             [
              0,
              "#0d0887"
             ],
             [
              0.1111111111111111,
              "#46039f"
             ],
             [
              0.2222222222222222,
              "#7201a8"
             ],
             [
              0.3333333333333333,
              "#9c179e"
             ],
             [
              0.4444444444444444,
              "#bd3786"
             ],
             [
              0.5555555555555556,
              "#d8576b"
             ],
             [
              0.6666666666666666,
              "#ed7953"
             ],
             [
              0.7777777777777778,
              "#fb9f3a"
             ],
             [
              0.8888888888888888,
              "#fdca26"
             ],
             [
              1,
              "#f0f921"
             ]
            ],
            "type": "contour"
           }
          ],
          "contourcarpet": [
           {
            "colorbar": {
             "outlinewidth": 0,
             "ticks": ""
            },
            "type": "contourcarpet"
           }
          ],
          "heatmap": [
           {
            "colorbar": {
             "outlinewidth": 0,
             "ticks": ""
            },
            "colorscale": [
             [
              0,
              "#0d0887"
             ],
             [
              0.1111111111111111,
              "#46039f"
             ],
             [
              0.2222222222222222,
              "#7201a8"
             ],
             [
              0.3333333333333333,
              "#9c179e"
             ],
             [
              0.4444444444444444,
              "#bd3786"
             ],
             [
              0.5555555555555556,
              "#d8576b"
             ],
             [
              0.6666666666666666,
              "#ed7953"
             ],
             [
              0.7777777777777778,
              "#fb9f3a"
             ],
             [
              0.8888888888888888,
              "#fdca26"
             ],
             [
              1,
              "#f0f921"
             ]
            ],
            "type": "heatmap"
           }
          ],
          "heatmapgl": [
           {
            "colorbar": {
             "outlinewidth": 0,
             "ticks": ""
            },
            "colorscale": [
             [
              0,
              "#0d0887"
             ],
             [
              0.1111111111111111,
              "#46039f"
             ],
             [
              0.2222222222222222,
              "#7201a8"
             ],
             [
              0.3333333333333333,
              "#9c179e"
             ],
             [
              0.4444444444444444,
              "#bd3786"
             ],
             [
              0.5555555555555556,
              "#d8576b"
             ],
             [
              0.6666666666666666,
              "#ed7953"
             ],
             [
              0.7777777777777778,
              "#fb9f3a"
             ],
             [
              0.8888888888888888,
              "#fdca26"
             ],
             [
              1,
              "#f0f921"
             ]
            ],
            "type": "heatmapgl"
           }
          ],
          "histogram": [
           {
            "marker": {
             "pattern": {
              "fillmode": "overlay",
              "size": 10,
              "solidity": 0.2
             }
            },
            "type": "histogram"
           }
          ],
          "histogram2d": [
           {
            "colorbar": {
             "outlinewidth": 0,
             "ticks": ""
            },
            "colorscale": [
             [
              0,
              "#0d0887"
             ],
             [
              0.1111111111111111,
              "#46039f"
             ],
             [
              0.2222222222222222,
              "#7201a8"
             ],
             [
              0.3333333333333333,
              "#9c179e"
             ],
             [
              0.4444444444444444,
              "#bd3786"
             ],
             [
              0.5555555555555556,
              "#d8576b"
             ],
             [
              0.6666666666666666,
              "#ed7953"
             ],
             [
              0.7777777777777778,
              "#fb9f3a"
             ],
             [
              0.8888888888888888,
              "#fdca26"
             ],
             [
              1,
              "#f0f921"
             ]
            ],
            "type": "histogram2d"
           }
          ],
          "histogram2dcontour": [
           {
            "colorbar": {
             "outlinewidth": 0,
             "ticks": ""
            },
            "colorscale": [
             [
              0,
              "#0d0887"
             ],
             [
              0.1111111111111111,
              "#46039f"
             ],
             [
              0.2222222222222222,
              "#7201a8"
             ],
             [
              0.3333333333333333,
              "#9c179e"
             ],
             [
              0.4444444444444444,
              "#bd3786"
             ],
             [
              0.5555555555555556,
              "#d8576b"
             ],
             [
              0.6666666666666666,
              "#ed7953"
             ],
             [
              0.7777777777777778,
              "#fb9f3a"
             ],
             [
              0.8888888888888888,
              "#fdca26"
             ],
             [
              1,
              "#f0f921"
             ]
            ],
            "type": "histogram2dcontour"
           }
          ],
          "mesh3d": [
           {
            "colorbar": {
             "outlinewidth": 0,
             "ticks": ""
            },
            "type": "mesh3d"
           }
          ],
          "parcoords": [
           {
            "line": {
             "colorbar": {
              "outlinewidth": 0,
              "ticks": ""
             }
            },
            "type": "parcoords"
           }
          ],
          "pie": [
           {
            "automargin": true,
            "type": "pie"
           }
          ],
          "scatter": [
           {
            "fillpattern": {
             "fillmode": "overlay",
             "size": 10,
             "solidity": 0.2
            },
            "type": "scatter"
           }
          ],
          "scatter3d": [
           {
            "line": {
             "colorbar": {
              "outlinewidth": 0,
              "ticks": ""
             }
            },
            "marker": {
             "colorbar": {
              "outlinewidth": 0,
              "ticks": ""
             }
            },
            "type": "scatter3d"
           }
          ],
          "scattercarpet": [
           {
            "marker": {
             "colorbar": {
              "outlinewidth": 0,
              "ticks": ""
             }
            },
            "type": "scattercarpet"
           }
          ],
          "scattergeo": [
           {
            "marker": {
             "colorbar": {
              "outlinewidth": 0,
              "ticks": ""
             }
            },
            "type": "scattergeo"
           }
          ],
          "scattergl": [
           {
            "marker": {
             "colorbar": {
              "outlinewidth": 0,
              "ticks": ""
             }
            },
            "type": "scattergl"
           }
          ],
          "scattermapbox": [
           {
            "marker": {
             "colorbar": {
              "outlinewidth": 0,
              "ticks": ""
             }
            },
            "type": "scattermapbox"
           }
          ],
          "scatterpolar": [
           {
            "marker": {
             "colorbar": {
              "outlinewidth": 0,
              "ticks": ""
             }
            },
            "type": "scatterpolar"
           }
          ],
          "scatterpolargl": [
           {
            "marker": {
             "colorbar": {
              "outlinewidth": 0,
              "ticks": ""
             }
            },
            "type": "scatterpolargl"
           }
          ],
          "scatterternary": [
           {
            "marker": {
             "colorbar": {
              "outlinewidth": 0,
              "ticks": ""
             }
            },
            "type": "scatterternary"
           }
          ],
          "surface": [
           {
            "colorbar": {
             "outlinewidth": 0,
             "ticks": ""
            },
            "colorscale": [
             [
              0,
              "#0d0887"
             ],
             [
              0.1111111111111111,
              "#46039f"
             ],
             [
              0.2222222222222222,
              "#7201a8"
             ],
             [
              0.3333333333333333,
              "#9c179e"
             ],
             [
              0.4444444444444444,
              "#bd3786"
             ],
             [
              0.5555555555555556,
              "#d8576b"
             ],
             [
              0.6666666666666666,
              "#ed7953"
             ],
             [
              0.7777777777777778,
              "#fb9f3a"
             ],
             [
              0.8888888888888888,
              "#fdca26"
             ],
             [
              1,
              "#f0f921"
             ]
            ],
            "type": "surface"
           }
          ],
          "table": [
           {
            "cells": {
             "fill": {
              "color": "#EBF0F8"
             },
             "line": {
              "color": "white"
             }
            },
            "header": {
             "fill": {
              "color": "#C8D4E3"
             },
             "line": {
              "color": "white"
             }
            },
            "type": "table"
           }
          ]
         },
         "layout": {
          "annotationdefaults": {
           "arrowcolor": "#2a3f5f",
           "arrowhead": 0,
           "arrowwidth": 1
          },
          "autotypenumbers": "strict",
          "coloraxis": {
           "colorbar": {
            "outlinewidth": 0,
            "ticks": ""
           }
          },
          "colorscale": {
           "diverging": [
            [
             0,
             "#8e0152"
            ],
            [
             0.1,
             "#c51b7d"
            ],
            [
             0.2,
             "#de77ae"
            ],
            [
             0.3,
             "#f1b6da"
            ],
            [
             0.4,
             "#fde0ef"
            ],
            [
             0.5,
             "#f7f7f7"
            ],
            [
             0.6,
             "#e6f5d0"
            ],
            [
             0.7,
             "#b8e186"
            ],
            [
             0.8,
             "#7fbc41"
            ],
            [
             0.9,
             "#4d9221"
            ],
            [
             1,
             "#276419"
            ]
           ],
           "sequential": [
            [
             0,
             "#0d0887"
            ],
            [
             0.1111111111111111,
             "#46039f"
            ],
            [
             0.2222222222222222,
             "#7201a8"
            ],
            [
             0.3333333333333333,
             "#9c179e"
            ],
            [
             0.4444444444444444,
             "#bd3786"
            ],
            [
             0.5555555555555556,
             "#d8576b"
            ],
            [
             0.6666666666666666,
             "#ed7953"
            ],
            [
             0.7777777777777778,
             "#fb9f3a"
            ],
            [
             0.8888888888888888,
             "#fdca26"
            ],
            [
             1,
             "#f0f921"
            ]
           ],
           "sequentialminus": [
            [
             0,
             "#0d0887"
            ],
            [
             0.1111111111111111,
             "#46039f"
            ],
            [
             0.2222222222222222,
             "#7201a8"
            ],
            [
             0.3333333333333333,
             "#9c179e"
            ],
            [
             0.4444444444444444,
             "#bd3786"
            ],
            [
             0.5555555555555556,
             "#d8576b"
            ],
            [
             0.6666666666666666,
             "#ed7953"
            ],
            [
             0.7777777777777778,
             "#fb9f3a"
            ],
            [
             0.8888888888888888,
             "#fdca26"
            ],
            [
             1,
             "#f0f921"
            ]
           ]
          },
          "colorway": [
           "#636efa",
           "#EF553B",
           "#00cc96",
           "#ab63fa",
           "#FFA15A",
           "#19d3f3",
           "#FF6692",
           "#B6E880",
           "#FF97FF",
           "#FECB52"
          ],
          "font": {
           "color": "#2a3f5f"
          },
          "geo": {
           "bgcolor": "white",
           "lakecolor": "white",
           "landcolor": "#E5ECF6",
           "showlakes": true,
           "showland": true,
           "subunitcolor": "white"
          },
          "hoverlabel": {
           "align": "left"
          },
          "hovermode": "closest",
          "mapbox": {
           "style": "light"
          },
          "paper_bgcolor": "white",
          "plot_bgcolor": "#E5ECF6",
          "polar": {
           "angularaxis": {
            "gridcolor": "white",
            "linecolor": "white",
            "ticks": ""
           },
           "bgcolor": "#E5ECF6",
           "radialaxis": {
            "gridcolor": "white",
            "linecolor": "white",
            "ticks": ""
           }
          },
          "scene": {
           "xaxis": {
            "backgroundcolor": "#E5ECF6",
            "gridcolor": "white",
            "gridwidth": 2,
            "linecolor": "white",
            "showbackground": true,
            "ticks": "",
            "zerolinecolor": "white"
           },
           "yaxis": {
            "backgroundcolor": "#E5ECF6",
            "gridcolor": "white",
            "gridwidth": 2,
            "linecolor": "white",
            "showbackground": true,
            "ticks": "",
            "zerolinecolor": "white"
           },
           "zaxis": {
            "backgroundcolor": "#E5ECF6",
            "gridcolor": "white",
            "gridwidth": 2,
            "linecolor": "white",
            "showbackground": true,
            "ticks": "",
            "zerolinecolor": "white"
           }
          },
          "shapedefaults": {
           "line": {
            "color": "#2a3f5f"
           }
          },
          "ternary": {
           "aaxis": {
            "gridcolor": "white",
            "linecolor": "white",
            "ticks": ""
           },
           "baxis": {
            "gridcolor": "white",
            "linecolor": "white",
            "ticks": ""
           },
           "bgcolor": "#E5ECF6",
           "caxis": {
            "gridcolor": "white",
            "linecolor": "white",
            "ticks": ""
           }
          },
          "title": {
           "x": 0.05
          },
          "xaxis": {
           "automargin": true,
           "gridcolor": "white",
           "linecolor": "white",
           "ticks": "",
           "title": {
            "standoff": 15
           },
           "zerolinecolor": "white",
           "zerolinewidth": 2
          },
          "yaxis": {
           "automargin": true,
           "gridcolor": "white",
           "linecolor": "white",
           "ticks": "",
           "title": {
            "standoff": 15
           },
           "zerolinecolor": "white",
           "zerolinewidth": 2
          }
         }
        },
        "updatemenus": [
         {
          "buttons": [
           {
            "args": [
             null,
             {
              "frame": {
               "duration": 285.7142857142857,
               "redraw": true
              },
              "fromcurrent": true,
              "transition": {
               "duration": 0
              }
             }
            ],
            "label": "Play",
            "method": "animate"
           },
           {
            "args": [
             [
              null
             ],
             {
              "frame": {
               "duration": 0,
               "redraw": true
              },
              "mode": "immediate",
              "transition": {
               "duration": 0
              }
             }
            ],
            "label": "Stop",
            "method": "animate"
           }
          ],
          "direction": "left",
          "pad": {
           "r": 10,
           "t": 75
          },
          "showactive": true,
          "type": "buttons",
          "x": 0.1,
          "xanchor": "right",
          "y": 0,
          "yanchor": "top"
         }
        ],
        "xaxis": {
         "range": [
          -0.9859862180133669,
          20.705710578280705
         ],
         "title": {
          "text": "<i>x</i>"
         }
        },
        "yaxis": {
         "range": [
          -2.4033479344723037,
          50.470306623918376
         ],
         "title": {
          "text": "<i>y</i>"
         }
        }
       }
      }
     },
     "metadata": {},
     "output_type": "display_data"
    }
   ],
   "source": [
    "from stonesoup.models.transition.linear import CombinedLinearGaussianTransitionModel, \\\n",
    "    ConstantVelocity\n",
    "from stonesoup.types.groundtruth import GroundTruthPath, GroundTruthState\n",
    "transition_model = CombinedLinearGaussianTransitionModel([ConstantVelocity(0.05),\n",
    "                                                          ConstantVelocity(0.05)])\n",
    "timesteps = [start_time]\n",
    "truth = GroundTruthPath([GroundTruthState([0, 1, 0, 1], timestamp=start_time)])\n",
    "\n",
    "for k in range(1, 21):\n",
    "    timesteps.append(start_time+timedelta(seconds=k))\n",
    "    truth.append(GroundTruthState(\n",
    "        transition_model.function(truth[k-1], noise=True, time_interval=timedelta(seconds=1)),\n",
    "        timestamp=timesteps[k]))\n",
    "\n",
    "plotter = AnimatedPlotterly(timesteps, tail_length=0.3)\n",
    "plotter.plot_ground_truths(truth, [0, 2])\n",
    "plotter.fig"
   ]
  },
  {
   "cell_type": "markdown",
   "metadata": {},
   "source": [
    "### A bearing-range sensor"
   ]
  },
  {
   "cell_type": "code",
   "execution_count": 4,
   "metadata": {},
   "outputs": [],
   "source": [
    "from stonesoup.models.measurement.nonlinear import CartesianToBearingRange\n",
    "sensor_x = 50  # Placing the sensor off-centre\n",
    "sensor_y = 0\n",
    "\n",
    "measurement_model = CartesianToBearingRange(\n",
    "    ndim_state=4,\n",
    "    mapping=(0, 2),\n",
    "    noise_covar=np.diag([np.radians(0.2), 1]),  # Covariance matrix. 0.2 degree variance in\n",
    "    # bearing and 1 metre in range\n",
    "    translation_offset=np.array([[sensor_x], [sensor_y]])  # Offset measurements to location of\n",
    "    # sensor in cartesian.\n",
    ")\n",
    "\n",
    "from stonesoup.types.detection import Detection\n",
    "\n",
    "measurements = []\n",
    "for state in truth:\n",
    "    measurement = measurement_model.function(state, noise=True)\n",
    "    measurements.append(Detection(measurement, timestamp=state.timestamp,\n",
    "                                  measurement_model=measurement_model))\n"
   ]
  },
  {
   "cell_type": "code",
   "execution_count": 5,
   "metadata": {},
   "outputs": [
    {
     "data": {
      "application/vnd.plotly.v1+json": {
       "config": {
        "plotlyServerURL": "https://plot.ly"
       },
       "data": [
        {
         "hoverinfo": "none",
         "legendgroup": "Ground Truth",
         "legendrank": 100,
         "line": {
          "color": "#EF553B",
          "dash": "dash"
         },
         "mode": "lines",
         "name": "Ground Truth",
         "showlegend": true,
         "type": "scatter",
         "x": [],
         "y": []
        },
        {
         "hoverinfo": "none",
         "legendgroup": "Ground Truth",
         "legendrank": 100,
         "line": {
          "color": "#EF553B",
          "dash": "dash"
         },
         "mode": "lines",
         "name": "Ground Truth",
         "showlegend": false,
         "type": "scatter",
         "x": [],
         "y": []
        },
        {
         "hoverinfo": "none",
         "legendgroup": "Measurements",
         "legendrank": 200,
         "marker": {
          "color": "#636EFA"
         },
         "mode": "markers",
         "name": "Measurements",
         "showlegend": true,
         "type": "scatter",
         "x": [],
         "y": []
        },
        {
         "hoverinfo": "none",
         "legendgroup": "Measurements",
         "legendrank": 200,
         "marker": {
          "color": "#636EFA"
         },
         "mode": "markers",
         "name": "Measurements",
         "showlegend": false,
         "type": "scatter",
         "x": [],
         "y": []
        }
       ],
       "frames": [
        {
         "data": [
          {
           "type": "scatter",
           "x": [
            0,
            0
           ],
           "y": [
            0,
            0
           ]
          },
          {
           "hovertemplate": "GroundTruthState<br>(%{x}, %{y})<br>Time: %{meta}",
           "meta": [
            "2024-10-23 17:10:46"
           ],
           "type": "scatter",
           "x": [
            0,
            null
           ],
           "y": [
            0,
            null
           ]
          },
          {
           "type": "scatter",
           "x": [
            null,
            null
           ],
           "y": [
            null,
            null
           ]
          },
          {
           "hovertemplate": "Detection<br>(%{x}, %{y})<br>Time: %{meta}",
           "meta": [
            "2024-10-23 17:10:46"
           ],
           "type": "scatter",
           "x": [
            2.221819350783221,
            null
           ],
           "y": [
            -0.9499062386905731,
            null
           ]
          }
         ],
         "name": "2024-10-23 17:10:46",
         "traces": [
          0,
          1,
          2,
          3
         ]
        },
        {
         "data": [
          {
           "type": "scatter",
           "x": [
            0,
            0
           ],
           "y": [
            0,
            0
           ]
          },
          {
           "hovertemplate": "GroundTruthState<br>(%{x}, %{y})<br>Time: %{meta}",
           "meta": [
            "2024-10-23 17:10:46",
            "2024-10-23 17:10:47"
           ],
           "type": "scatter",
           "x": [
            0,
            1.177223465328352,
            null
           ],
           "y": [
            0,
            1.0006757513847795,
            null
           ]
          },
          {
           "type": "scatter",
           "x": [
            null,
            null
           ],
           "y": [
            null,
            null
           ]
          },
          {
           "hovertemplate": "Detection<br>(%{x}, %{y})<br>Time: %{meta}",
           "meta": [
            "2024-10-23 17:10:46",
            "2024-10-23 17:10:47"
           ],
           "type": "scatter",
           "x": [
            2.221819350783221,
            1.549042106302693,
            null
           ],
           "y": [
            -0.9499062386905731,
            -2.188124288687379,
            null
           ]
          }
         ],
         "name": "2024-10-23 17:10:47",
         "traces": [
          0,
          1,
          2,
          3
         ]
        },
        {
         "data": [
          {
           "type": "scatter",
           "x": [
            0,
            0
           ],
           "y": [
            0,
            0
           ]
          },
          {
           "hovertemplate": "GroundTruthState<br>(%{x}, %{y})<br>Time: %{meta}",
           "meta": [
            "2024-10-23 17:10:46",
            "2024-10-23 17:10:47",
            "2024-10-23 17:10:48"
           ],
           "type": "scatter",
           "x": [
            0,
            1.177223465328352,
            2.275462874700381,
            null
           ],
           "y": [
            0,
            1.0006757513847795,
            2.0307275520116606,
            null
           ]
          },
          {
           "type": "scatter",
           "x": [
            null,
            null
           ],
           "y": [
            null,
            null
           ]
          },
          {
           "hovertemplate": "Detection<br>(%{x}, %{y})<br>Time: %{meta}",
           "meta": [
            "2024-10-23 17:10:46",
            "2024-10-23 17:10:47",
            "2024-10-23 17:10:48"
           ],
           "type": "scatter",
           "x": [
            2.221819350783221,
            1.549042106302693,
            4.1185639808006655,
            null
           ],
           "y": [
            -0.9499062386905731,
            -2.188124288687379,
            11.127224359918513,
            null
           ]
          }
         ],
         "name": "2024-10-23 17:10:48",
         "traces": [
          0,
          1,
          2,
          3
         ]
        },
        {
         "data": [
          {
           "type": "scatter",
           "x": [
            0,
            0
           ],
           "y": [
            0,
            0
           ]
          },
          {
           "hovertemplate": "GroundTruthState<br>(%{x}, %{y})<br>Time: %{meta}",
           "meta": [
            "2024-10-23 17:10:46",
            "2024-10-23 17:10:47",
            "2024-10-23 17:10:48",
            "2024-10-23 17:10:49"
           ],
           "type": "scatter",
           "x": [
            0,
            1.177223465328352,
            2.275462874700381,
            3.1560399703547968,
            null
           ],
           "y": [
            0,
            1.0006757513847795,
            2.0307275520116606,
            3.2076890985336823,
            null
           ]
          },
          {
           "type": "scatter",
           "x": [
            null,
            null
           ],
           "y": [
            null,
            null
           ]
          },
          {
           "hovertemplate": "Detection<br>(%{x}, %{y})<br>Time: %{meta}",
           "meta": [
            "2024-10-23 17:10:46",
            "2024-10-23 17:10:47",
            "2024-10-23 17:10:48",
            "2024-10-23 17:10:49"
           ],
           "type": "scatter",
           "x": [
            2.221819350783221,
            1.549042106302693,
            4.1185639808006655,
            4.534156951991264,
            null
           ],
           "y": [
            -0.9499062386905731,
            -2.188124288687379,
            11.127224359918513,
            4.770342745174409,
            null
           ]
          }
         ],
         "name": "2024-10-23 17:10:49",
         "traces": [
          0,
          1,
          2,
          3
         ]
        },
        {
         "data": [
          {
           "type": "scatter",
           "x": [
            0,
            0
           ],
           "y": [
            0,
            0
           ]
          },
          {
           "hovertemplate": "GroundTruthState<br>(%{x}, %{y})<br>Time: %{meta}",
           "meta": [
            "2024-10-23 17:10:46",
            "2024-10-23 17:10:47",
            "2024-10-23 17:10:48",
            "2024-10-23 17:10:49",
            "2024-10-23 17:10:50"
           ],
           "type": "scatter",
           "x": [
            0,
            1.177223465328352,
            2.275462874700381,
            3.1560399703547968,
            4.111484568780832,
            null
           ],
           "y": [
            0,
            1.0006757513847795,
            2.0307275520116606,
            3.2076890985336823,
            4.681546580969336,
            null
           ]
          },
          {
           "type": "scatter",
           "x": [
            null,
            null
           ],
           "y": [
            null,
            null
           ]
          },
          {
           "hovertemplate": "Detection<br>(%{x}, %{y})<br>Time: %{meta}",
           "meta": [
            "2024-10-23 17:10:46",
            "2024-10-23 17:10:47",
            "2024-10-23 17:10:48",
            "2024-10-23 17:10:49",
            "2024-10-23 17:10:50"
           ],
           "type": "scatter",
           "x": [
            2.221819350783221,
            1.549042106302693,
            4.1185639808006655,
            4.534156951991264,
            4.473015456288891,
            null
           ],
           "y": [
            -0.9499062386905731,
            -2.188124288687379,
            11.127224359918513,
            4.770342745174409,
            4.421986485240061,
            null
           ]
          }
         ],
         "name": "2024-10-23 17:10:50",
         "traces": [
          0,
          1,
          2,
          3
         ]
        },
        {
         "data": [
          {
           "type": "scatter",
           "x": [
            0,
            0
           ],
           "y": [
            0,
            0
           ]
          },
          {
           "hovertemplate": "GroundTruthState<br>(%{x}, %{y})<br>Time: %{meta}",
           "meta": [
            "2024-10-23 17:10:46",
            "2024-10-23 17:10:47",
            "2024-10-23 17:10:48",
            "2024-10-23 17:10:49",
            "2024-10-23 17:10:50",
            "2024-10-23 17:10:51"
           ],
           "type": "scatter",
           "x": [
            0,
            1.177223465328352,
            2.275462874700381,
            3.1560399703547968,
            4.111484568780832,
            5.068918699968233,
            null
           ],
           "y": [
            0,
            1.0006757513847795,
            2.0307275520116606,
            3.2076890985336823,
            4.681546580969336,
            6.424096316700446,
            null
           ]
          },
          {
           "type": "scatter",
           "x": [
            null,
            null
           ],
           "y": [
            null,
            null
           ]
          },
          {
           "hovertemplate": "Detection<br>(%{x}, %{y})<br>Time: %{meta}",
           "meta": [
            "2024-10-23 17:10:46",
            "2024-10-23 17:10:47",
            "2024-10-23 17:10:48",
            "2024-10-23 17:10:49",
            "2024-10-23 17:10:50",
            "2024-10-23 17:10:51"
           ],
           "type": "scatter",
           "x": [
            2.221819350783221,
            1.549042106302693,
            4.1185639808006655,
            4.534156951991264,
            4.473015456288891,
            5.832101951594851,
            null
           ],
           "y": [
            -0.9499062386905731,
            -2.188124288687379,
            11.127224359918513,
            4.770342745174409,
            4.421986485240061,
            9.132252939840118,
            null
           ]
          }
         ],
         "name": "2024-10-23 17:10:51",
         "traces": [
          0,
          1,
          2,
          3
         ]
        },
        {
         "data": [
          {
           "type": "scatter",
           "x": [
            0,
            0
           ],
           "y": [
            0,
            0
           ]
          },
          {
           "hovertemplate": "GroundTruthState<br>(%{x}, %{y})<br>Time: %{meta}",
           "meta": [
            "2024-10-23 17:10:46",
            "2024-10-23 17:10:47",
            "2024-10-23 17:10:48",
            "2024-10-23 17:10:49",
            "2024-10-23 17:10:50",
            "2024-10-23 17:10:51",
            "2024-10-23 17:10:52"
           ],
           "type": "scatter",
           "x": [
            0,
            1.177223465328352,
            2.275462874700381,
            3.1560399703547968,
            4.111484568780832,
            5.068918699968233,
            6.134103970132443,
            null
           ],
           "y": [
            0,
            1.0006757513847795,
            2.0307275520116606,
            3.2076890985336823,
            4.681546580969336,
            6.424096316700446,
            8.291557310607626,
            null
           ]
          },
          {
           "type": "scatter",
           "x": [
            null,
            null
           ],
           "y": [
            null,
            null
           ]
          },
          {
           "hovertemplate": "Detection<br>(%{x}, %{y})<br>Time: %{meta}",
           "meta": [
            "2024-10-23 17:10:46",
            "2024-10-23 17:10:47",
            "2024-10-23 17:10:48",
            "2024-10-23 17:10:49",
            "2024-10-23 17:10:50",
            "2024-10-23 17:10:51",
            "2024-10-23 17:10:52"
           ],
           "type": "scatter",
           "x": [
            2.221819350783221,
            1.549042106302693,
            4.1185639808006655,
            4.534156951991264,
            4.473015456288891,
            5.832101951594851,
            4.671810836553469,
            null
           ],
           "y": [
            -0.9499062386905731,
            -2.188124288687379,
            11.127224359918513,
            4.770342745174409,
            4.421986485240061,
            9.132252939840118,
            9.016148199021414,
            null
           ]
          }
         ],
         "name": "2024-10-23 17:10:52",
         "traces": [
          0,
          1,
          2,
          3
         ]
        },
        {
         "data": [
          {
           "type": "scatter",
           "x": [
            0,
            0
           ],
           "y": [
            0,
            0
           ]
          },
          {
           "hovertemplate": "GroundTruthState<br>(%{x}, %{y})<br>Time: %{meta}",
           "meta": [
            "2024-10-23 17:10:47",
            "2024-10-23 17:10:48",
            "2024-10-23 17:10:49",
            "2024-10-23 17:10:50",
            "2024-10-23 17:10:51",
            "2024-10-23 17:10:52",
            "2024-10-23 17:10:53"
           ],
           "type": "scatter",
           "x": [
            1.177223465328352,
            2.275462874700381,
            3.1560399703547968,
            4.111484568780832,
            5.068918699968233,
            6.134103970132443,
            7.336661592351442,
            null
           ],
           "y": [
            1.0006757513847795,
            2.0307275520116606,
            3.2076890985336823,
            4.681546580969336,
            6.424096316700446,
            8.291557310607626,
            10.210133065599429,
            null
           ]
          },
          {
           "type": "scatter",
           "x": [
            null,
            null
           ],
           "y": [
            null,
            null
           ]
          },
          {
           "hovertemplate": "Detection<br>(%{x}, %{y})<br>Time: %{meta}",
           "meta": [
            "2024-10-23 17:10:47",
            "2024-10-23 17:10:48",
            "2024-10-23 17:10:49",
            "2024-10-23 17:10:50",
            "2024-10-23 17:10:51",
            "2024-10-23 17:10:52",
            "2024-10-23 17:10:53"
           ],
           "type": "scatter",
           "x": [
            1.549042106302693,
            4.1185639808006655,
            4.534156951991264,
            4.473015456288891,
            5.832101951594851,
            4.671810836553469,
            6.911778516695591,
            null
           ],
           "y": [
            -2.188124288687379,
            11.127224359918513,
            4.770342745174409,
            4.421986485240061,
            9.132252939840118,
            9.016148199021414,
            6.676642845595845,
            null
           ]
          }
         ],
         "name": "2024-10-23 17:10:53",
         "traces": [
          0,
          1,
          2,
          3
         ]
        },
        {
         "data": [
          {
           "type": "scatter",
           "x": [
            0,
            0
           ],
           "y": [
            0,
            0
           ]
          },
          {
           "hovertemplate": "GroundTruthState<br>(%{x}, %{y})<br>Time: %{meta}",
           "meta": [
            "2024-10-23 17:10:48",
            "2024-10-23 17:10:49",
            "2024-10-23 17:10:50",
            "2024-10-23 17:10:51",
            "2024-10-23 17:10:52",
            "2024-10-23 17:10:53",
            "2024-10-23 17:10:54"
           ],
           "type": "scatter",
           "x": [
            2.275462874700381,
            3.1560399703547968,
            4.111484568780832,
            5.068918699968233,
            6.134103970132443,
            7.336661592351442,
            8.708739774094603,
            null
           ],
           "y": [
            2.0307275520116606,
            3.2076890985336823,
            4.681546580969336,
            6.424096316700446,
            8.291557310607626,
            10.210133065599429,
            12.639171131337447,
            null
           ]
          },
          {
           "type": "scatter",
           "x": [
            null,
            null
           ],
           "y": [
            null,
            null
           ]
          },
          {
           "hovertemplate": "Detection<br>(%{x}, %{y})<br>Time: %{meta}",
           "meta": [
            "2024-10-23 17:10:48",
            "2024-10-23 17:10:49",
            "2024-10-23 17:10:50",
            "2024-10-23 17:10:51",
            "2024-10-23 17:10:52",
            "2024-10-23 17:10:53",
            "2024-10-23 17:10:54"
           ],
           "type": "scatter",
           "x": [
            4.1185639808006655,
            4.534156951991264,
            4.473015456288891,
            5.832101951594851,
            4.671810836553469,
            6.911778516695591,
            9.91607756750875,
            null
           ],
           "y": [
            11.127224359918513,
            4.770342745174409,
            4.421986485240061,
            9.132252939840118,
            9.016148199021414,
            6.676642845595845,
            13.098478086148486,
            null
           ]
          }
         ],
         "name": "2024-10-23 17:10:54",
         "traces": [
          0,
          1,
          2,
          3
         ]
        },
        {
         "data": [
          {
           "type": "scatter",
           "x": [
            0,
            0
           ],
           "y": [
            0,
            0
           ]
          },
          {
           "hovertemplate": "GroundTruthState<br>(%{x}, %{y})<br>Time: %{meta}",
           "meta": [
            "2024-10-23 17:10:49",
            "2024-10-23 17:10:50",
            "2024-10-23 17:10:51",
            "2024-10-23 17:10:52",
            "2024-10-23 17:10:53",
            "2024-10-23 17:10:54",
            "2024-10-23 17:10:55"
           ],
           "type": "scatter",
           "x": [
            3.1560399703547968,
            4.111484568780832,
            5.068918699968233,
            6.134103970132443,
            7.336661592351442,
            8.708739774094603,
            9.661668970928952,
            null
           ],
           "y": [
            3.2076890985336823,
            4.681546580969336,
            6.424096316700446,
            8.291557310607626,
            10.210133065599429,
            12.639171131337447,
            15.077240437037124,
            null
           ]
          },
          {
           "type": "scatter",
           "x": [
            null,
            null
           ],
           "y": [
            null,
            null
           ]
          },
          {
           "hovertemplate": "Detection<br>(%{x}, %{y})<br>Time: %{meta}",
           "meta": [
            "2024-10-23 17:10:49",
            "2024-10-23 17:10:50",
            "2024-10-23 17:10:51",
            "2024-10-23 17:10:52",
            "2024-10-23 17:10:53",
            "2024-10-23 17:10:54",
            "2024-10-23 17:10:55"
           ],
           "type": "scatter",
           "x": [
            4.534156951991264,
            4.473015456288891,
            5.832101951594851,
            4.671810836553469,
            6.911778516695591,
            9.91607756750875,
            13.220645587904379,
            null
           ],
           "y": [
            4.770342745174409,
            4.421986485240061,
            9.132252939840118,
            9.016148199021414,
            6.676642845595845,
            13.098478086148486,
            19.91019957588045,
            null
           ]
          }
         ],
         "name": "2024-10-23 17:10:55",
         "traces": [
          0,
          1,
          2,
          3
         ]
        },
        {
         "data": [
          {
           "type": "scatter",
           "x": [
            0,
            0
           ],
           "y": [
            0,
            0
           ]
          },
          {
           "hovertemplate": "GroundTruthState<br>(%{x}, %{y})<br>Time: %{meta}",
           "meta": [
            "2024-10-23 17:10:50",
            "2024-10-23 17:10:51",
            "2024-10-23 17:10:52",
            "2024-10-23 17:10:53",
            "2024-10-23 17:10:54",
            "2024-10-23 17:10:55",
            "2024-10-23 17:10:56"
           ],
           "type": "scatter",
           "x": [
            4.111484568780832,
            5.068918699968233,
            6.134103970132443,
            7.336661592351442,
            8.708739774094603,
            9.661668970928952,
            10.289427281808946,
            null
           ],
           "y": [
            4.681546580969336,
            6.424096316700446,
            8.291557310607626,
            10.210133065599429,
            12.639171131337447,
            15.077240437037124,
            17.463880393414996,
            null
           ]
          },
          {
           "type": "scatter",
           "x": [
            null,
            null
           ],
           "y": [
            null,
            null
           ]
          },
          {
           "hovertemplate": "Detection<br>(%{x}, %{y})<br>Time: %{meta}",
           "meta": [
            "2024-10-23 17:10:50",
            "2024-10-23 17:10:51",
            "2024-10-23 17:10:52",
            "2024-10-23 17:10:53",
            "2024-10-23 17:10:54",
            "2024-10-23 17:10:55",
            "2024-10-23 17:10:56"
           ],
           "type": "scatter",
           "x": [
            4.473015456288891,
            5.832101951594851,
            4.671810836553469,
            6.911778516695591,
            9.91607756750875,
            13.220645587904379,
            9.849936778112081,
            null
           ],
           "y": [
            4.421986485240061,
            9.132252939840118,
            9.016148199021414,
            6.676642845595845,
            13.098478086148486,
            19.91019957588045,
            16.496589458288486,
            null
           ]
          }
         ],
         "name": "2024-10-23 17:10:56",
         "traces": [
          0,
          1,
          2,
          3
         ]
        },
        {
         "data": [
          {
           "type": "scatter",
           "x": [
            0,
            0
           ],
           "y": [
            0,
            0
           ]
          },
          {
           "hovertemplate": "GroundTruthState<br>(%{x}, %{y})<br>Time: %{meta}",
           "meta": [
            "2024-10-23 17:10:51",
            "2024-10-23 17:10:52",
            "2024-10-23 17:10:53",
            "2024-10-23 17:10:54",
            "2024-10-23 17:10:55",
            "2024-10-23 17:10:56",
            "2024-10-23 17:10:57"
           ],
           "type": "scatter",
           "x": [
            5.068918699968233,
            6.134103970132443,
            7.336661592351442,
            8.708739774094603,
            9.661668970928952,
            10.289427281808946,
            10.90851617793013,
            null
           ],
           "y": [
            6.424096316700446,
            8.291557310607626,
            10.210133065599429,
            12.639171131337447,
            15.077240437037124,
            17.463880393414996,
            19.922987588268054,
            null
           ]
          },
          {
           "type": "scatter",
           "x": [
            null,
            null
           ],
           "y": [
            null,
            null
           ]
          },
          {
           "hovertemplate": "Detection<br>(%{x}, %{y})<br>Time: %{meta}",
           "meta": [
            "2024-10-23 17:10:51",
            "2024-10-23 17:10:52",
            "2024-10-23 17:10:53",
            "2024-10-23 17:10:54",
            "2024-10-23 17:10:55",
            "2024-10-23 17:10:56",
            "2024-10-23 17:10:57"
           ],
           "type": "scatter",
           "x": [
            5.832101951594851,
            4.671810836553469,
            6.911778516695591,
            9.91607756750875,
            13.220645587904379,
            9.849936778112081,
            11.551415784923044,
            null
           ],
           "y": [
            9.132252939840118,
            9.016148199021414,
            6.676642845595845,
            13.098478086148486,
            19.91019957588045,
            16.496589458288486,
            20.2252725135359,
            null
           ]
          }
         ],
         "name": "2024-10-23 17:10:57",
         "traces": [
          0,
          1,
          2,
          3
         ]
        },
        {
         "data": [
          {
           "type": "scatter",
           "x": [
            0,
            0
           ],
           "y": [
            0,
            0
           ]
          },
          {
           "hovertemplate": "GroundTruthState<br>(%{x}, %{y})<br>Time: %{meta}",
           "meta": [
            "2024-10-23 17:10:52",
            "2024-10-23 17:10:53",
            "2024-10-23 17:10:54",
            "2024-10-23 17:10:55",
            "2024-10-23 17:10:56",
            "2024-10-23 17:10:57",
            "2024-10-23 17:10:58"
           ],
           "type": "scatter",
           "x": [
            6.134103970132443,
            7.336661592351442,
            8.708739774094603,
            9.661668970928952,
            10.289427281808946,
            10.90851617793013,
            11.43649485409589,
            null
           ],
           "y": [
            8.291557310607626,
            10.210133065599429,
            12.639171131337447,
            15.077240437037124,
            17.463880393414996,
            19.922987588268054,
            22.43523846129129,
            null
           ]
          },
          {
           "type": "scatter",
           "x": [
            null,
            null
           ],
           "y": [
            null,
            null
           ]
          },
          {
           "hovertemplate": "Detection<br>(%{x}, %{y})<br>Time: %{meta}",
           "meta": [
            "2024-10-23 17:10:52",
            "2024-10-23 17:10:53",
            "2024-10-23 17:10:54",
            "2024-10-23 17:10:55",
            "2024-10-23 17:10:56",
            "2024-10-23 17:10:57",
            "2024-10-23 17:10:58"
           ],
           "type": "scatter",
           "x": [
            4.671810836553469,
            6.911778516695591,
            9.91607756750875,
            13.220645587904379,
            9.849936778112081,
            11.551415784923044,
            13.495870684052178,
            null
           ],
           "y": [
            9.016148199021414,
            6.676642845595845,
            13.098478086148486,
            19.91019957588045,
            16.496589458288486,
            20.2252725135359,
            26.37557225257571,
            null
           ]
          }
         ],
         "name": "2024-10-23 17:10:58",
         "traces": [
          0,
          1,
          2,
          3
         ]
        },
        {
         "data": [
          {
           "type": "scatter",
           "x": [
            0,
            0
           ],
           "y": [
            0,
            0
           ]
          },
          {
           "hovertemplate": "GroundTruthState<br>(%{x}, %{y})<br>Time: %{meta}",
           "meta": [
            "2024-10-23 17:10:53",
            "2024-10-23 17:10:54",
            "2024-10-23 17:10:55",
            "2024-10-23 17:10:56",
            "2024-10-23 17:10:57",
            "2024-10-23 17:10:58",
            "2024-10-23 17:10:59"
           ],
           "type": "scatter",
           "x": [
            7.336661592351442,
            8.708739774094603,
            9.661668970928952,
            10.289427281808946,
            10.90851617793013,
            11.43649485409589,
            12.083757383111484,
            null
           ],
           "y": [
            10.210133065599429,
            12.639171131337447,
            15.077240437037124,
            17.463880393414996,
            19.922987588268054,
            22.43523846129129,
            25.226253707256983,
            null
           ]
          },
          {
           "type": "scatter",
           "x": [
            null,
            null
           ],
           "y": [
            null,
            null
           ]
          },
          {
           "hovertemplate": "Detection<br>(%{x}, %{y})<br>Time: %{meta}",
           "meta": [
            "2024-10-23 17:10:53",
            "2024-10-23 17:10:54",
            "2024-10-23 17:10:55",
            "2024-10-23 17:10:56",
            "2024-10-23 17:10:57",
            "2024-10-23 17:10:58",
            "2024-10-23 17:10:59"
           ],
           "type": "scatter",
           "x": [
            6.911778516695591,
            9.91607756750875,
            13.220645587904379,
            9.849936778112081,
            11.551415784923044,
            13.495870684052178,
            9.210581625879023,
            null
           ],
           "y": [
            6.676642845595845,
            13.098478086148486,
            19.91019957588045,
            16.496589458288486,
            20.2252725135359,
            26.37557225257571,
            20.926146862627856,
            null
           ]
          }
         ],
         "name": "2024-10-23 17:10:59",
         "traces": [
          0,
          1,
          2,
          3
         ]
        },
        {
         "data": [
          {
           "type": "scatter",
           "x": [
            0,
            0
           ],
           "y": [
            0,
            0
           ]
          },
          {
           "hovertemplate": "GroundTruthState<br>(%{x}, %{y})<br>Time: %{meta}",
           "meta": [
            "2024-10-23 17:10:54",
            "2024-10-23 17:10:55",
            "2024-10-23 17:10:56",
            "2024-10-23 17:10:57",
            "2024-10-23 17:10:58",
            "2024-10-23 17:10:59",
            "2024-10-23 17:11:00"
           ],
           "type": "scatter",
           "x": [
            8.708739774094603,
            9.661668970928952,
            10.289427281808946,
            10.90851617793013,
            11.43649485409589,
            12.083757383111484,
            12.857255540294034,
            null
           ],
           "y": [
            12.639171131337447,
            15.077240437037124,
            17.463880393414996,
            19.922987588268054,
            22.43523846129129,
            25.226253707256983,
            28.317087024384634,
            null
           ]
          },
          {
           "type": "scatter",
           "x": [
            null,
            null
           ],
           "y": [
            null,
            null
           ]
          },
          {
           "hovertemplate": "Detection<br>(%{x}, %{y})<br>Time: %{meta}",
           "meta": [
            "2024-10-23 17:10:54",
            "2024-10-23 17:10:55",
            "2024-10-23 17:10:56",
            "2024-10-23 17:10:57",
            "2024-10-23 17:10:58",
            "2024-10-23 17:10:59",
            "2024-10-23 17:11:00"
           ],
           "type": "scatter",
           "x": [
            9.91607756750875,
            13.220645587904379,
            9.849936778112081,
            11.551415784923044,
            13.495870684052178,
            9.210581625879023,
            14.826171916953918,
            null
           ],
           "y": [
            13.098478086148486,
            19.91019957588045,
            16.496589458288486,
            20.2252725135359,
            26.37557225257571,
            20.926146862627856,
            29.98172162643846,
            null
           ]
          }
         ],
         "name": "2024-10-23 17:11:00",
         "traces": [
          0,
          1,
          2,
          3
         ]
        },
        {
         "data": [
          {
           "type": "scatter",
           "x": [
            0,
            0
           ],
           "y": [
            0,
            0
           ]
          },
          {
           "hovertemplate": "GroundTruthState<br>(%{x}, %{y})<br>Time: %{meta}",
           "meta": [
            "2024-10-23 17:10:55",
            "2024-10-23 17:10:56",
            "2024-10-23 17:10:57",
            "2024-10-23 17:10:58",
            "2024-10-23 17:10:59",
            "2024-10-23 17:11:00",
            "2024-10-23 17:11:01"
           ],
           "type": "scatter",
           "x": [
            9.661668970928952,
            10.289427281808946,
            10.90851617793013,
            11.43649485409589,
            12.083757383111484,
            12.857255540294034,
            13.664009379110706,
            null
           ],
           "y": [
            15.077240437037124,
            17.463880393414996,
            19.922987588268054,
            22.43523846129129,
            25.226253707256983,
            28.317087024384634,
            31.653600280950233,
            null
           ]
          },
          {
           "type": "scatter",
           "x": [
            null,
            null
           ],
           "y": [
            null,
            null
           ]
          },
          {
           "hovertemplate": "Detection<br>(%{x}, %{y})<br>Time: %{meta}",
           "meta": [
            "2024-10-23 17:10:55",
            "2024-10-23 17:10:56",
            "2024-10-23 17:10:57",
            "2024-10-23 17:10:58",
            "2024-10-23 17:10:59",
            "2024-10-23 17:11:00",
            "2024-10-23 17:11:01"
           ],
           "type": "scatter",
           "x": [
            13.220645587904379,
            9.849936778112081,
            11.551415784923044,
            13.495870684052178,
            9.210581625879023,
            14.826171916953918,
            11.694085658745927,
            null
           ],
           "y": [
            19.91019957588045,
            16.496589458288486,
            20.2252725135359,
            26.37557225257571,
            20.926146862627856,
            29.98172162643846,
            27.230418264224387,
            null
           ]
          }
         ],
         "name": "2024-10-23 17:11:01",
         "traces": [
          0,
          1,
          2,
          3
         ]
        },
        {
         "data": [
          {
           "type": "scatter",
           "x": [
            0,
            0
           ],
           "y": [
            0,
            0
           ]
          },
          {
           "hovertemplate": "GroundTruthState<br>(%{x}, %{y})<br>Time: %{meta}",
           "meta": [
            "2024-10-23 17:10:56",
            "2024-10-23 17:10:57",
            "2024-10-23 17:10:58",
            "2024-10-23 17:10:59",
            "2024-10-23 17:11:00",
            "2024-10-23 17:11:01",
            "2024-10-23 17:11:02"
           ],
           "type": "scatter",
           "x": [
            10.289427281808946,
            10.90851617793013,
            11.43649485409589,
            12.083757383111484,
            12.857255540294034,
            13.664009379110706,
            14.66094199646186,
            null
           ],
           "y": [
            17.463880393414996,
            19.922987588268054,
            22.43523846129129,
            25.226253707256983,
            28.317087024384634,
            31.653600280950233,
            34.95982666405545,
            null
           ]
          },
          {
           "type": "scatter",
           "x": [
            null,
            null
           ],
           "y": [
            null,
            null
           ]
          },
          {
           "hovertemplate": "Detection<br>(%{x}, %{y})<br>Time: %{meta}",
           "meta": [
            "2024-10-23 17:10:56",
            "2024-10-23 17:10:57",
            "2024-10-23 17:10:58",
            "2024-10-23 17:10:59",
            "2024-10-23 17:11:00",
            "2024-10-23 17:11:01",
            "2024-10-23 17:11:02"
           ],
           "type": "scatter",
           "x": [
            9.849936778112081,
            11.551415784923044,
            13.495870684052178,
            9.210581625879023,
            14.826171916953918,
            11.694085658745927,
            16.034063908529554,
            null
           ],
           "y": [
            16.496589458288486,
            20.2252725135359,
            26.37557225257571,
            20.926146862627856,
            29.98172162643846,
            27.230418264224387,
            36.07693971814102,
            null
           ]
          }
         ],
         "name": "2024-10-23 17:11:02",
         "traces": [
          0,
          1,
          2,
          3
         ]
        },
        {
         "data": [
          {
           "type": "scatter",
           "x": [
            0,
            0
           ],
           "y": [
            0,
            0
           ]
          },
          {
           "hovertemplate": "GroundTruthState<br>(%{x}, %{y})<br>Time: %{meta}",
           "meta": [
            "2024-10-23 17:10:57",
            "2024-10-23 17:10:58",
            "2024-10-23 17:10:59",
            "2024-10-23 17:11:00",
            "2024-10-23 17:11:01",
            "2024-10-23 17:11:02",
            "2024-10-23 17:11:03"
           ],
           "type": "scatter",
           "x": [
            10.90851617793013,
            11.43649485409589,
            12.083757383111484,
            12.857255540294034,
            13.664009379110706,
            14.66094199646186,
            15.763691585187017,
            null
           ],
           "y": [
            19.922987588268054,
            22.43523846129129,
            25.226253707256983,
            28.317087024384634,
            31.653600280950233,
            34.95982666405545,
            38.32678424492485,
            null
           ]
          },
          {
           "type": "scatter",
           "x": [
            null,
            null
           ],
           "y": [
            null,
            null
           ]
          },
          {
           "hovertemplate": "Detection<br>(%{x}, %{y})<br>Time: %{meta}",
           "meta": [
            "2024-10-23 17:10:57",
            "2024-10-23 17:10:58",
            "2024-10-23 17:10:59",
            "2024-10-23 17:11:00",
            "2024-10-23 17:11:01",
            "2024-10-23 17:11:02",
            "2024-10-23 17:11:03"
           ],
           "type": "scatter",
           "x": [
            11.551415784923044,
            13.495870684052178,
            9.210581625879023,
            14.826171916953918,
            11.694085658745927,
            16.034063908529554,
            19.22262346395934,
            null
           ],
           "y": [
            20.2252725135359,
            26.37557225257571,
            20.926146862627856,
            29.98172162643846,
            27.230418264224387,
            36.07693971814102,
            39.61561849446898,
            null
           ]
          }
         ],
         "name": "2024-10-23 17:11:03",
         "traces": [
          0,
          1,
          2,
          3
         ]
        },
        {
         "data": [
          {
           "type": "scatter",
           "x": [
            0,
            0
           ],
           "y": [
            0,
            0
           ]
          },
          {
           "hovertemplate": "GroundTruthState<br>(%{x}, %{y})<br>Time: %{meta}",
           "meta": [
            "2024-10-23 17:10:58",
            "2024-10-23 17:10:59",
            "2024-10-23 17:11:00",
            "2024-10-23 17:11:01",
            "2024-10-23 17:11:02",
            "2024-10-23 17:11:03",
            "2024-10-23 17:11:04"
           ],
           "type": "scatter",
           "x": [
            11.43649485409589,
            12.083757383111484,
            12.857255540294034,
            13.664009379110706,
            14.66094199646186,
            15.763691585187017,
            16.994297584708757,
            null
           ],
           "y": [
            22.43523846129129,
            25.226253707256983,
            28.317087024384634,
            31.653600280950233,
            34.95982666405545,
            38.32678424492485,
            41.65059655664205,
            null
           ]
          },
          {
           "type": "scatter",
           "x": [
            null,
            null
           ],
           "y": [
            null,
            null
           ]
          },
          {
           "hovertemplate": "Detection<br>(%{x}, %{y})<br>Time: %{meta}",
           "meta": [
            "2024-10-23 17:10:58",
            "2024-10-23 17:10:59",
            "2024-10-23 17:11:00",
            "2024-10-23 17:11:01",
            "2024-10-23 17:11:02",
            "2024-10-23 17:11:03",
            "2024-10-23 17:11:04"
           ],
           "type": "scatter",
           "x": [
            13.495870684052178,
            9.210581625879023,
            14.826171916953918,
            11.694085658745927,
            16.034063908529554,
            19.22262346395934,
            17.806013715912904,
            null
           ],
           "y": [
            26.37557225257571,
            20.926146862627856,
            29.98172162643846,
            27.230418264224387,
            36.07693971814102,
            39.61561849446898,
            42.696316985016416,
            null
           ]
          }
         ],
         "name": "2024-10-23 17:11:04",
         "traces": [
          0,
          1,
          2,
          3
         ]
        },
        {
         "data": [
          {
           "type": "scatter",
           "x": [
            0,
            0
           ],
           "y": [
            0,
            0
           ]
          },
          {
           "hovertemplate": "GroundTruthState<br>(%{x}, %{y})<br>Time: %{meta}",
           "meta": [
            "2024-10-23 17:10:59",
            "2024-10-23 17:11:00",
            "2024-10-23 17:11:01",
            "2024-10-23 17:11:02",
            "2024-10-23 17:11:03",
            "2024-10-23 17:11:04",
            "2024-10-23 17:11:05"
           ],
           "type": "scatter",
           "x": [
            12.083757383111484,
            12.857255540294034,
            13.664009379110706,
            14.66094199646186,
            15.763691585187017,
            16.994297584708757,
            18.302114239501268,
            null
           ],
           "y": [
            25.226253707256983,
            28.317087024384634,
            31.653600280950233,
            34.95982666405545,
            38.32678424492485,
            41.65059655664205,
            44.94718306572588,
            null
           ]
          },
          {
           "type": "scatter",
           "x": [
            null,
            null
           ],
           "y": [
            null,
            null
           ]
          },
          {
           "hovertemplate": "Detection<br>(%{x}, %{y})<br>Time: %{meta}",
           "meta": [
            "2024-10-23 17:10:59",
            "2024-10-23 17:11:00",
            "2024-10-23 17:11:01",
            "2024-10-23 17:11:02",
            "2024-10-23 17:11:03",
            "2024-10-23 17:11:04",
            "2024-10-23 17:11:05"
           ],
           "type": "scatter",
           "x": [
            9.210581625879023,
            14.826171916953918,
            11.694085658745927,
            16.034063908529554,
            19.22262346395934,
            17.806013715912904,
            22.259832475318472,
            null
           ],
           "y": [
            20.926146862627856,
            29.98172162643846,
            27.230418264224387,
            36.07693971814102,
            39.61561849446898,
            42.696316985016416,
            45.97561544057756,
            null
           ]
          }
         ],
         "name": "2024-10-23 17:11:05",
         "traces": [
          0,
          1,
          2,
          3
         ]
        },
        {
         "data": [
          {
           "type": "scatter",
           "x": [
            0,
            0
           ],
           "y": [
            0,
            0
           ]
          },
          {
           "hovertemplate": "GroundTruthState<br>(%{x}, %{y})<br>Time: %{meta}",
           "meta": [
            "2024-10-23 17:11:00",
            "2024-10-23 17:11:01",
            "2024-10-23 17:11:02",
            "2024-10-23 17:11:03",
            "2024-10-23 17:11:04",
            "2024-10-23 17:11:05",
            "2024-10-23 17:11:06"
           ],
           "type": "scatter",
           "x": [
            12.857255540294034,
            13.664009379110706,
            14.66094199646186,
            15.763691585187017,
            16.994297584708757,
            18.302114239501268,
            19.71972436026734,
            null
           ],
           "y": [
            28.317087024384634,
            31.653600280950233,
            34.95982666405545,
            38.32678424492485,
            41.65059655664205,
            44.94718306572588,
            48.066958689446075,
            null
           ]
          },
          {
           "type": "scatter",
           "x": [
            null,
            null
           ],
           "y": [
            null,
            null
           ]
          },
          {
           "hovertemplate": "Detection<br>(%{x}, %{y})<br>Time: %{meta}",
           "meta": [
            "2024-10-23 17:11:00",
            "2024-10-23 17:11:01",
            "2024-10-23 17:11:02",
            "2024-10-23 17:11:03",
            "2024-10-23 17:11:04",
            "2024-10-23 17:11:05",
            "2024-10-23 17:11:06"
           ],
           "type": "scatter",
           "x": [
            14.826171916953918,
            11.694085658745927,
            16.034063908529554,
            19.22262346395934,
            17.806013715912904,
            22.259832475318472,
            25.395634186662065,
            null
           ],
           "y": [
            29.98172162643846,
            27.230418264224387,
            36.07693971814102,
            39.61561849446898,
            42.696316985016416,
            45.97561544057756,
            51.12448304412903,
            null
           ]
          }
         ],
         "name": "2024-10-23 17:11:06",
         "traces": [
          0,
          1,
          2,
          3
         ]
        }
       ],
       "layout": {
        "autosize": true,
        "colorway": [
         "#EF553B",
         "#00CC96",
         "#AB63FA",
         "#FFA15A",
         "#19D3F3",
         "#FF6692",
         "#B6E880",
         "#FF97FF",
         "#FECB52"
        ],
        "height": 550,
        "sliders": [
         {
          "currentvalue": {
           "font": {
            "size": 16
           },
           "prefix": "Time: ",
           "visible": true,
           "xanchor": "right"
          },
          "len": 0.9,
          "pad": {
           "b": 10,
           "t": 50
          },
          "steps": [
           {
            "args": [
             [
              "2024-10-23 17:10:46"
             ],
             {
              "frame": {
               "duration": 1,
               "easing": "linear",
               "redraw": true
              },
              "transition": {
               "duration": 0,
               "easing": "linear"
              }
             }
            ],
            "label": "17:10:46",
            "method": "animate"
           },
           {
            "args": [
             [
              "2024-10-23 17:10:47"
             ],
             {
              "frame": {
               "duration": 1,
               "easing": "linear",
               "redraw": true
              },
              "transition": {
               "duration": 0,
               "easing": "linear"
              }
             }
            ],
            "label": "17:10:47",
            "method": "animate"
           },
           {
            "args": [
             [
              "2024-10-23 17:10:48"
             ],
             {
              "frame": {
               "duration": 1,
               "easing": "linear",
               "redraw": true
              },
              "transition": {
               "duration": 0,
               "easing": "linear"
              }
             }
            ],
            "label": "17:10:48",
            "method": "animate"
           },
           {
            "args": [
             [
              "2024-10-23 17:10:49"
             ],
             {
              "frame": {
               "duration": 1,
               "easing": "linear",
               "redraw": true
              },
              "transition": {
               "duration": 0,
               "easing": "linear"
              }
             }
            ],
            "label": "17:10:49",
            "method": "animate"
           },
           {
            "args": [
             [
              "2024-10-23 17:10:50"
             ],
             {
              "frame": {
               "duration": 1,
               "easing": "linear",
               "redraw": true
              },
              "transition": {
               "duration": 0,
               "easing": "linear"
              }
             }
            ],
            "label": "17:10:50",
            "method": "animate"
           },
           {
            "args": [
             [
              "2024-10-23 17:10:51"
             ],
             {
              "frame": {
               "duration": 1,
               "easing": "linear",
               "redraw": true
              },
              "transition": {
               "duration": 0,
               "easing": "linear"
              }
             }
            ],
            "label": "17:10:51",
            "method": "animate"
           },
           {
            "args": [
             [
              "2024-10-23 17:10:52"
             ],
             {
              "frame": {
               "duration": 1,
               "easing": "linear",
               "redraw": true
              },
              "transition": {
               "duration": 0,
               "easing": "linear"
              }
             }
            ],
            "label": "17:10:52",
            "method": "animate"
           },
           {
            "args": [
             [
              "2024-10-23 17:10:53"
             ],
             {
              "frame": {
               "duration": 1,
               "easing": "linear",
               "redraw": true
              },
              "transition": {
               "duration": 0,
               "easing": "linear"
              }
             }
            ],
            "label": "17:10:53",
            "method": "animate"
           },
           {
            "args": [
             [
              "2024-10-23 17:10:54"
             ],
             {
              "frame": {
               "duration": 1,
               "easing": "linear",
               "redraw": true
              },
              "transition": {
               "duration": 0,
               "easing": "linear"
              }
             }
            ],
            "label": "17:10:54",
            "method": "animate"
           },
           {
            "args": [
             [
              "2024-10-23 17:10:55"
             ],
             {
              "frame": {
               "duration": 1,
               "easing": "linear",
               "redraw": true
              },
              "transition": {
               "duration": 0,
               "easing": "linear"
              }
             }
            ],
            "label": "17:10:55",
            "method": "animate"
           },
           {
            "args": [
             [
              "2024-10-23 17:10:56"
             ],
             {
              "frame": {
               "duration": 1,
               "easing": "linear",
               "redraw": true
              },
              "transition": {
               "duration": 0,
               "easing": "linear"
              }
             }
            ],
            "label": "17:10:56",
            "method": "animate"
           },
           {
            "args": [
             [
              "2024-10-23 17:10:57"
             ],
             {
              "frame": {
               "duration": 1,
               "easing": "linear",
               "redraw": true
              },
              "transition": {
               "duration": 0,
               "easing": "linear"
              }
             }
            ],
            "label": "17:10:57",
            "method": "animate"
           },
           {
            "args": [
             [
              "2024-10-23 17:10:58"
             ],
             {
              "frame": {
               "duration": 1,
               "easing": "linear",
               "redraw": true
              },
              "transition": {
               "duration": 0,
               "easing": "linear"
              }
             }
            ],
            "label": "17:10:58",
            "method": "animate"
           },
           {
            "args": [
             [
              "2024-10-23 17:10:59"
             ],
             {
              "frame": {
               "duration": 1,
               "easing": "linear",
               "redraw": true
              },
              "transition": {
               "duration": 0,
               "easing": "linear"
              }
             }
            ],
            "label": "17:10:59",
            "method": "animate"
           },
           {
            "args": [
             [
              "2024-10-23 17:11:00"
             ],
             {
              "frame": {
               "duration": 1,
               "easing": "linear",
               "redraw": true
              },
              "transition": {
               "duration": 0,
               "easing": "linear"
              }
             }
            ],
            "label": "17:11:00",
            "method": "animate"
           },
           {
            "args": [
             [
              "2024-10-23 17:11:01"
             ],
             {
              "frame": {
               "duration": 1,
               "easing": "linear",
               "redraw": true
              },
              "transition": {
               "duration": 0,
               "easing": "linear"
              }
             }
            ],
            "label": "17:11:01",
            "method": "animate"
           },
           {
            "args": [
             [
              "2024-10-23 17:11:02"
             ],
             {
              "frame": {
               "duration": 1,
               "easing": "linear",
               "redraw": true
              },
              "transition": {
               "duration": 0,
               "easing": "linear"
              }
             }
            ],
            "label": "17:11:02",
            "method": "animate"
           },
           {
            "args": [
             [
              "2024-10-23 17:11:03"
             ],
             {
              "frame": {
               "duration": 1,
               "easing": "linear",
               "redraw": true
              },
              "transition": {
               "duration": 0,
               "easing": "linear"
              }
             }
            ],
            "label": "17:11:03",
            "method": "animate"
           },
           {
            "args": [
             [
              "2024-10-23 17:11:04"
             ],
             {
              "frame": {
               "duration": 1,
               "easing": "linear",
               "redraw": true
              },
              "transition": {
               "duration": 0,
               "easing": "linear"
              }
             }
            ],
            "label": "17:11:04",
            "method": "animate"
           },
           {
            "args": [
             [
              "2024-10-23 17:11:05"
             ],
             {
              "frame": {
               "duration": 1,
               "easing": "linear",
               "redraw": true
              },
              "transition": {
               "duration": 0,
               "easing": "linear"
              }
             }
            ],
            "label": "17:11:05",
            "method": "animate"
           },
           {
            "args": [
             [
              "2024-10-23 17:11:06"
             ],
             {
              "frame": {
               "duration": 1,
               "easing": "linear",
               "redraw": true
              },
              "transition": {
               "duration": 0,
               "easing": "linear"
              }
             }
            ],
            "label": "17:11:06",
            "method": "animate"
           }
          ],
          "transition": {
           "duration": 285.7142857142857,
           "easing": "linear"
          },
          "x": 0.1,
          "xanchor": "left",
          "y": 0,
          "yanchor": "top"
         }
        ],
        "template": {
         "data": {
          "bar": [
           {
            "error_x": {
             "color": "#2a3f5f"
            },
            "error_y": {
             "color": "#2a3f5f"
            },
            "marker": {
             "line": {
              "color": "#E5ECF6",
              "width": 0.5
             },
             "pattern": {
              "fillmode": "overlay",
              "size": 10,
              "solidity": 0.2
             }
            },
            "type": "bar"
           }
          ],
          "barpolar": [
           {
            "marker": {
             "line": {
              "color": "#E5ECF6",
              "width": 0.5
             },
             "pattern": {
              "fillmode": "overlay",
              "size": 10,
              "solidity": 0.2
             }
            },
            "type": "barpolar"
           }
          ],
          "carpet": [
           {
            "aaxis": {
             "endlinecolor": "#2a3f5f",
             "gridcolor": "white",
             "linecolor": "white",
             "minorgridcolor": "white",
             "startlinecolor": "#2a3f5f"
            },
            "baxis": {
             "endlinecolor": "#2a3f5f",
             "gridcolor": "white",
             "linecolor": "white",
             "minorgridcolor": "white",
             "startlinecolor": "#2a3f5f"
            },
            "type": "carpet"
           }
          ],
          "choropleth": [
           {
            "colorbar": {
             "outlinewidth": 0,
             "ticks": ""
            },
            "type": "choropleth"
           }
          ],
          "contour": [
           {
            "colorbar": {
             "outlinewidth": 0,
             "ticks": ""
            },
            "colorscale": [
             [
              0,
              "#0d0887"
             ],
             [
              0.1111111111111111,
              "#46039f"
             ],
             [
              0.2222222222222222,
              "#7201a8"
             ],
             [
              0.3333333333333333,
              "#9c179e"
             ],
             [
              0.4444444444444444,
              "#bd3786"
             ],
             [
              0.5555555555555556,
              "#d8576b"
             ],
             [
              0.6666666666666666,
              "#ed7953"
             ],
             [
              0.7777777777777778,
              "#fb9f3a"
             ],
             [
              0.8888888888888888,
              "#fdca26"
             ],
             [
              1,
              "#f0f921"
             ]
            ],
            "type": "contour"
           }
          ],
          "contourcarpet": [
           {
            "colorbar": {
             "outlinewidth": 0,
             "ticks": ""
            },
            "type": "contourcarpet"
           }
          ],
          "heatmap": [
           {
            "colorbar": {
             "outlinewidth": 0,
             "ticks": ""
            },
            "colorscale": [
             [
              0,
              "#0d0887"
             ],
             [
              0.1111111111111111,
              "#46039f"
             ],
             [
              0.2222222222222222,
              "#7201a8"
             ],
             [
              0.3333333333333333,
              "#9c179e"
             ],
             [
              0.4444444444444444,
              "#bd3786"
             ],
             [
              0.5555555555555556,
              "#d8576b"
             ],
             [
              0.6666666666666666,
              "#ed7953"
             ],
             [
              0.7777777777777778,
              "#fb9f3a"
             ],
             [
              0.8888888888888888,
              "#fdca26"
             ],
             [
              1,
              "#f0f921"
             ]
            ],
            "type": "heatmap"
           }
          ],
          "heatmapgl": [
           {
            "colorbar": {
             "outlinewidth": 0,
             "ticks": ""
            },
            "colorscale": [
             [
              0,
              "#0d0887"
             ],
             [
              0.1111111111111111,
              "#46039f"
             ],
             [
              0.2222222222222222,
              "#7201a8"
             ],
             [
              0.3333333333333333,
              "#9c179e"
             ],
             [
              0.4444444444444444,
              "#bd3786"
             ],
             [
              0.5555555555555556,
              "#d8576b"
             ],
             [
              0.6666666666666666,
              "#ed7953"
             ],
             [
              0.7777777777777778,
              "#fb9f3a"
             ],
             [
              0.8888888888888888,
              "#fdca26"
             ],
             [
              1,
              "#f0f921"
             ]
            ],
            "type": "heatmapgl"
           }
          ],
          "histogram": [
           {
            "marker": {
             "pattern": {
              "fillmode": "overlay",
              "size": 10,
              "solidity": 0.2
             }
            },
            "type": "histogram"
           }
          ],
          "histogram2d": [
           {
            "colorbar": {
             "outlinewidth": 0,
             "ticks": ""
            },
            "colorscale": [
             [
              0,
              "#0d0887"
             ],
             [
              0.1111111111111111,
              "#46039f"
             ],
             [
              0.2222222222222222,
              "#7201a8"
             ],
             [
              0.3333333333333333,
              "#9c179e"
             ],
             [
              0.4444444444444444,
              "#bd3786"
             ],
             [
              0.5555555555555556,
              "#d8576b"
             ],
             [
              0.6666666666666666,
              "#ed7953"
             ],
             [
              0.7777777777777778,
              "#fb9f3a"
             ],
             [
              0.8888888888888888,
              "#fdca26"
             ],
             [
              1,
              "#f0f921"
             ]
            ],
            "type": "histogram2d"
           }
          ],
          "histogram2dcontour": [
           {
            "colorbar": {
             "outlinewidth": 0,
             "ticks": ""
            },
            "colorscale": [
             [
              0,
              "#0d0887"
             ],
             [
              0.1111111111111111,
              "#46039f"
             ],
             [
              0.2222222222222222,
              "#7201a8"
             ],
             [
              0.3333333333333333,
              "#9c179e"
             ],
             [
              0.4444444444444444,
              "#bd3786"
             ],
             [
              0.5555555555555556,
              "#d8576b"
             ],
             [
              0.6666666666666666,
              "#ed7953"
             ],
             [
              0.7777777777777778,
              "#fb9f3a"
             ],
             [
              0.8888888888888888,
              "#fdca26"
             ],
             [
              1,
              "#f0f921"
             ]
            ],
            "type": "histogram2dcontour"
           }
          ],
          "mesh3d": [
           {
            "colorbar": {
             "outlinewidth": 0,
             "ticks": ""
            },
            "type": "mesh3d"
           }
          ],
          "parcoords": [
           {
            "line": {
             "colorbar": {
              "outlinewidth": 0,
              "ticks": ""
             }
            },
            "type": "parcoords"
           }
          ],
          "pie": [
           {
            "automargin": true,
            "type": "pie"
           }
          ],
          "scatter": [
           {
            "fillpattern": {
             "fillmode": "overlay",
             "size": 10,
             "solidity": 0.2
            },
            "type": "scatter"
           }
          ],
          "scatter3d": [
           {
            "line": {
             "colorbar": {
              "outlinewidth": 0,
              "ticks": ""
             }
            },
            "marker": {
             "colorbar": {
              "outlinewidth": 0,
              "ticks": ""
             }
            },
            "type": "scatter3d"
           }
          ],
          "scattercarpet": [
           {
            "marker": {
             "colorbar": {
              "outlinewidth": 0,
              "ticks": ""
             }
            },
            "type": "scattercarpet"
           }
          ],
          "scattergeo": [
           {
            "marker": {
             "colorbar": {
              "outlinewidth": 0,
              "ticks": ""
             }
            },
            "type": "scattergeo"
           }
          ],
          "scattergl": [
           {
            "marker": {
             "colorbar": {
              "outlinewidth": 0,
              "ticks": ""
             }
            },
            "type": "scattergl"
           }
          ],
          "scattermapbox": [
           {
            "marker": {
             "colorbar": {
              "outlinewidth": 0,
              "ticks": ""
             }
            },
            "type": "scattermapbox"
           }
          ],
          "scatterpolar": [
           {
            "marker": {
             "colorbar": {
              "outlinewidth": 0,
              "ticks": ""
             }
            },
            "type": "scatterpolar"
           }
          ],
          "scatterpolargl": [
           {
            "marker": {
             "colorbar": {
              "outlinewidth": 0,
              "ticks": ""
             }
            },
            "type": "scatterpolargl"
           }
          ],
          "scatterternary": [
           {
            "marker": {
             "colorbar": {
              "outlinewidth": 0,
              "ticks": ""
             }
            },
            "type": "scatterternary"
           }
          ],
          "surface": [
           {
            "colorbar": {
             "outlinewidth": 0,
             "ticks": ""
            },
            "colorscale": [
             [
              0,
              "#0d0887"
             ],
             [
              0.1111111111111111,
              "#46039f"
             ],
             [
              0.2222222222222222,
              "#7201a8"
             ],
             [
              0.3333333333333333,
              "#9c179e"
             ],
             [
              0.4444444444444444,
              "#bd3786"
             ],
             [
              0.5555555555555556,
              "#d8576b"
             ],
             [
              0.6666666666666666,
              "#ed7953"
             ],
             [
              0.7777777777777778,
              "#fb9f3a"
             ],
             [
              0.8888888888888888,
              "#fdca26"
             ],
             [
              1,
              "#f0f921"
             ]
            ],
            "type": "surface"
           }
          ],
          "table": [
           {
            "cells": {
             "fill": {
              "color": "#EBF0F8"
             },
             "line": {
              "color": "white"
             }
            },
            "header": {
             "fill": {
              "color": "#C8D4E3"
             },
             "line": {
              "color": "white"
             }
            },
            "type": "table"
           }
          ]
         },
         "layout": {
          "annotationdefaults": {
           "arrowcolor": "#2a3f5f",
           "arrowhead": 0,
           "arrowwidth": 1
          },
          "autotypenumbers": "strict",
          "coloraxis": {
           "colorbar": {
            "outlinewidth": 0,
            "ticks": ""
           }
          },
          "colorscale": {
           "diverging": [
            [
             0,
             "#8e0152"
            ],
            [
             0.1,
             "#c51b7d"
            ],
            [
             0.2,
             "#de77ae"
            ],
            [
             0.3,
             "#f1b6da"
            ],
            [
             0.4,
             "#fde0ef"
            ],
            [
             0.5,
             "#f7f7f7"
            ],
            [
             0.6,
             "#e6f5d0"
            ],
            [
             0.7,
             "#b8e186"
            ],
            [
             0.8,
             "#7fbc41"
            ],
            [
             0.9,
             "#4d9221"
            ],
            [
             1,
             "#276419"
            ]
           ],
           "sequential": [
            [
             0,
             "#0d0887"
            ],
            [
             0.1111111111111111,
             "#46039f"
            ],
            [
             0.2222222222222222,
             "#7201a8"
            ],
            [
             0.3333333333333333,
             "#9c179e"
            ],
            [
             0.4444444444444444,
             "#bd3786"
            ],
            [
             0.5555555555555556,
             "#d8576b"
            ],
            [
             0.6666666666666666,
             "#ed7953"
            ],
            [
             0.7777777777777778,
             "#fb9f3a"
            ],
            [
             0.8888888888888888,
             "#fdca26"
            ],
            [
             1,
             "#f0f921"
            ]
           ],
           "sequentialminus": [
            [
             0,
             "#0d0887"
            ],
            [
             0.1111111111111111,
             "#46039f"
            ],
            [
             0.2222222222222222,
             "#7201a8"
            ],
            [
             0.3333333333333333,
             "#9c179e"
            ],
            [
             0.4444444444444444,
             "#bd3786"
            ],
            [
             0.5555555555555556,
             "#d8576b"
            ],
            [
             0.6666666666666666,
             "#ed7953"
            ],
            [
             0.7777777777777778,
             "#fb9f3a"
            ],
            [
             0.8888888888888888,
             "#fdca26"
            ],
            [
             1,
             "#f0f921"
            ]
           ]
          },
          "colorway": [
           "#636efa",
           "#EF553B",
           "#00cc96",
           "#ab63fa",
           "#FFA15A",
           "#19d3f3",
           "#FF6692",
           "#B6E880",
           "#FF97FF",
           "#FECB52"
          ],
          "font": {
           "color": "#2a3f5f"
          },
          "geo": {
           "bgcolor": "white",
           "lakecolor": "white",
           "landcolor": "#E5ECF6",
           "showlakes": true,
           "showland": true,
           "subunitcolor": "white"
          },
          "hoverlabel": {
           "align": "left"
          },
          "hovermode": "closest",
          "mapbox": {
           "style": "light"
          },
          "paper_bgcolor": "white",
          "plot_bgcolor": "#E5ECF6",
          "polar": {
           "angularaxis": {
            "gridcolor": "white",
            "linecolor": "white",
            "ticks": ""
           },
           "bgcolor": "#E5ECF6",
           "radialaxis": {
            "gridcolor": "white",
            "linecolor": "white",
            "ticks": ""
           }
          },
          "scene": {
           "xaxis": {
            "backgroundcolor": "#E5ECF6",
            "gridcolor": "white",
            "gridwidth": 2,
            "linecolor": "white",
            "showbackground": true,
            "ticks": "",
            "zerolinecolor": "white"
           },
           "yaxis": {
            "backgroundcolor": "#E5ECF6",
            "gridcolor": "white",
            "gridwidth": 2,
            "linecolor": "white",
            "showbackground": true,
            "ticks": "",
            "zerolinecolor": "white"
           },
           "zaxis": {
            "backgroundcolor": "#E5ECF6",
            "gridcolor": "white",
            "gridwidth": 2,
            "linecolor": "white",
            "showbackground": true,
            "ticks": "",
            "zerolinecolor": "white"
           }
          },
          "shapedefaults": {
           "line": {
            "color": "#2a3f5f"
           }
          },
          "ternary": {
           "aaxis": {
            "gridcolor": "white",
            "linecolor": "white",
            "ticks": ""
           },
           "baxis": {
            "gridcolor": "white",
            "linecolor": "white",
            "ticks": ""
           },
           "bgcolor": "#E5ECF6",
           "caxis": {
            "gridcolor": "white",
            "linecolor": "white",
            "ticks": ""
           }
          },
          "title": {
           "x": 0.05
          },
          "xaxis": {
           "automargin": true,
           "gridcolor": "white",
           "linecolor": "white",
           "ticks": "",
           "title": {
            "standoff": 15
           },
           "zerolinecolor": "white",
           "zerolinewidth": 2
          },
          "yaxis": {
           "automargin": true,
           "gridcolor": "white",
           "linecolor": "white",
           "ticks": "",
           "title": {
            "standoff": 15
           },
           "zerolinecolor": "white",
           "zerolinewidth": 2
          }
         }
        },
        "updatemenus": [
         {
          "buttons": [
           {
            "args": [
             null,
             {
              "frame": {
               "duration": 285.7142857142857,
               "redraw": true
              },
              "fromcurrent": true,
              "transition": {
               "duration": 0
              }
             }
            ],
            "label": "Play",
            "method": "animate"
           },
           {
            "args": [
             [
              null
             ],
             {
              "frame": {
               "duration": 0,
               "redraw": true
              },
              "mode": "immediate",
              "transition": {
               "duration": 0
              }
             }
            ],
            "label": "Stop",
            "method": "animate"
           }
          ],
          "direction": "left",
          "pad": {
           "r": 10,
           "t": 75
          },
          "showactive": true,
          "type": "buttons",
          "x": 0.1,
          "xanchor": "right",
          "y": 0,
          "yanchor": "top"
         }
        ],
        "xaxis": {
         "range": [
          -2.3050672382471387,
          26.714715206895836
         ],
         "title": {
          "text": "<i>x</i>"
         }
        },
        "yaxis": {
         "range": [
          -5.079739483402371,
          53.80087459305909
         ],
         "title": {
          "text": "<i>y</i>"
         }
        }
       }
      }
     },
     "metadata": {},
     "output_type": "display_data"
    }
   ],
   "source": [
    "plotter.plot_measurements(measurements, [0, 2])\n",
    "plotter.fig"
   ]
  },
  {
   "cell_type": "markdown",
   "metadata": {},
   "source": [
    "### Set up extended Kalman filter elements"
   ]
  },
  {
   "cell_type": "code",
   "execution_count": 6,
   "metadata": {},
   "outputs": [
    {
     "data": {
      "application/vnd.plotly.v1+json": {
       "config": {
        "plotlyServerURL": "https://plot.ly"
       },
       "data": [
        {
         "hoverinfo": "none",
         "legendgroup": "Ground Truth",
         "legendrank": 100,
         "line": {
          "color": "#EF553B",
          "dash": "dash"
         },
         "mode": "lines",
         "name": "Ground Truth",
         "showlegend": true,
         "type": "scatter",
         "x": [],
         "y": []
        },
        {
         "hoverinfo": "none",
         "legendgroup": "Ground Truth",
         "legendrank": 100,
         "line": {
          "color": "#EF553B",
          "dash": "dash"
         },
         "mode": "lines",
         "name": "Ground Truth",
         "showlegend": false,
         "type": "scatter",
         "x": [],
         "y": []
        },
        {
         "hoverinfo": "none",
         "legendgroup": "Measurements",
         "legendrank": 200,
         "marker": {
          "color": "#636EFA"
         },
         "mode": "markers",
         "name": "Measurements",
         "showlegend": true,
         "type": "scatter",
         "x": [],
         "y": []
        },
        {
         "hoverinfo": "none",
         "legendgroup": "Measurements",
         "legendrank": 200,
         "marker": {
          "color": "#636EFA"
         },
         "mode": "markers",
         "name": "Measurements",
         "showlegend": false,
         "type": "scatter",
         "x": [],
         "y": []
        },
        {
         "legendgroup": "Tracks",
         "legendrank": 400,
         "line": {
          "color": "#AB63FA"
         },
         "mode": "markers+lines",
         "name": "Tracks",
         "showlegend": true,
         "type": "scatter",
         "x": [],
         "y": []
        },
        {
         "legendgroup": "Tracks",
         "legendrank": 400,
         "line": {
          "color": "#AB63FA"
         },
         "mode": "markers+lines",
         "name": "Tracks",
         "showlegend": false,
         "type": "scatter",
         "x": [],
         "y": []
        },
        {
         "fill": "toself",
         "fillcolor": "#AB63FA",
         "hoverinfo": "skip",
         "legendgroup": "Tracks<br>Uncertainty",
         "legendrank": 500,
         "mode": "none",
         "name": "Tracks<br>Uncertainty",
         "opacity": 0.2,
         "showlegend": true,
         "type": "scatter",
         "x": [],
         "y": []
        },
        {
         "fill": "toself",
         "fillcolor": "#AB63FA",
         "hoverinfo": "skip",
         "legendgroup": "Tracks<br>Uncertainty",
         "legendrank": 500,
         "mode": "none",
         "name": "Tracks<br>Uncertainty",
         "opacity": 0.2,
         "showlegend": false,
         "type": "scatter",
         "x": [],
         "y": []
        }
       ],
       "frames": [
        {
         "data": [
          {
           "type": "scatter",
           "x": [
            0,
            0
           ],
           "y": [
            0,
            0
           ]
          },
          {
           "hovertemplate": "GroundTruthState<br>(%{x}, %{y})<br>Time: %{meta}",
           "meta": [
            "2024-10-23 17:10:46"
           ],
           "type": "scatter",
           "x": [
            0,
            null
           ],
           "y": [
            0,
            null
           ]
          },
          {
           "type": "scatter",
           "x": [
            null,
            null
           ],
           "y": [
            null,
            null
           ]
          },
          {
           "hovertemplate": "Detection<br>(%{x}, %{y})<br>Time: %{meta}",
           "meta": [
            "2024-10-23 17:10:46"
           ],
           "type": "scatter",
           "x": [
            2.221819350783221,
            null
           ],
           "y": [
            -0.9499062386905731,
            null
           ]
          },
          {
           "type": "scatter",
           "x": [
            null,
            null
           ],
           "y": [
            null,
            null
           ]
          },
          {
           "customdata": [
            "2024-10-23 17:10:46"
           ],
           "hovertemplate": "%{meta}<br>(%{x}, %{y})<br>Time: %{customdata}",
           "meta": [
            "GaussianStateUpdate"
           ],
           "type": "scatter",
           "x": [
            1.3274264541216636,
            null
           ],
           "y": [
            -0.14578806580866033,
            null
           ]
          },
          {
           "type": "scatter",
           "x": [
            null
           ],
           "y": [
            null
           ]
          },
          {
           "type": "scatter",
           "x": [
            0.5528298233344284,
            0.567377430550072,
            0.6110749292209626,
            0.6839842927555221,
            0.7858240772101459,
            0.9152514806025713,
            1.0687001542989323,
            1.2391137804829462,
            1.4157393587014724,
            1.5861542229619325,
            1.7396023039061719,
            1.8690274204539596,
            1.970866615589058,
            2.0437771588972313,
            2.087475403327018,
            2.1020230849088986,
            2.0874754033270175,
            2.0437771588972313,
            1.9708666155890577,
            1.869027420453959,
            1.7396023039061714,
            1.586154222961932,
            1.415739358701472,
            1.2391137804829457,
            1.068700154298932,
            0.9152514806025699,
            0.7858240772101465,
            0.6839842927555222,
            0.6110749292209623,
            0.5673774305500718,
            0.5528298233344284,
            null,
            null
           ],
           "y": [
            -0.14578806580866027,
            0.07244820400400728,
            0.2846276102139258,
            0.4840990033345326,
            0.6630479372534512,
            0.812106553694229,
            0.9206003009383812,
            0.9781997124180124,
            0.9781996737085259,
            0.9205995405985774,
            0.8121057493269795,
            0.6630499522329981,
            0.48410336153127576,
            0.28463052207527845,
            0.07244875651903188,
            -0.14578806580866677,
            -0.36402488813635336,
            -0.5762066536925994,
            -0.775679493148597,
            -0.9546260838503197,
            -1.1036818809443005,
            -1.2121756722158985,
            -1.2697758053258466,
            -1.269775844035333,
            -1.2121764325557018,
            -1.1036826853115485,
            -0.9546240688707724,
            -0.7756751349518534,
            -0.5762037418312453,
            -0.36402433562132686,
            -0.14578806580866027,
            null,
            null
           ]
          }
         ],
         "name": "2024-10-23 17:10:46",
         "traces": [
          0,
          1,
          2,
          3,
          4,
          5,
          6,
          7
         ]
        },
        {
         "data": [
          {
           "type": "scatter",
           "x": [
            0,
            0
           ],
           "y": [
            0,
            0
           ]
          },
          {
           "hovertemplate": "GroundTruthState<br>(%{x}, %{y})<br>Time: %{meta}",
           "meta": [
            "2024-10-23 17:10:46",
            "2024-10-23 17:10:47"
           ],
           "type": "scatter",
           "x": [
            0,
            1.177223465328352,
            null
           ],
           "y": [
            0,
            1.0006757513847795,
            null
           ]
          },
          {
           "type": "scatter",
           "x": [
            null,
            null
           ],
           "y": [
            null,
            null
           ]
          },
          {
           "hovertemplate": "Detection<br>(%{x}, %{y})<br>Time: %{meta}",
           "meta": [
            "2024-10-23 17:10:46",
            "2024-10-23 17:10:47"
           ],
           "type": "scatter",
           "x": [
            2.221819350783221,
            1.549042106302693,
            null
           ],
           "y": [
            -0.9499062386905731,
            -2.188124288687379,
            null
           ]
          },
          {
           "type": "scatter",
           "x": [
            null,
            null
           ],
           "y": [
            null,
            null
           ]
          },
          {
           "customdata": [
            "2024-10-23 17:10:46",
            "2024-10-23 17:10:47"
           ],
           "hovertemplate": "%{meta}<br>(%{x}, %{y})<br>Time: %{customdata}",
           "meta": [
            "GaussianStateUpdate",
            "GaussianStateUpdate"
           ],
           "type": "scatter",
           "x": [
            1.3274264541216636,
            1.8867043623537465,
            null
           ],
           "y": [
            -0.14578806580866033,
            0.3109936224786445,
            null
           ]
          },
          {
           "type": "scatter",
           "x": [
            null
           ],
           "y": [
            null
           ]
          },
          {
           "type": "scatter",
           "x": [
            2.6129914488965698,
            2.5975100959575235,
            2.5566493171198648,
            2.4897181500755154,
            2.3957681892350773,
            2.274235666013371,
            2.126512400783505,
            1.9587185264735212,
            1.7836677629989164,
            1.6176200621135164,
            1.4731043016865761,
            1.3558331253553255,
            1.266836925820784,
            1.2053022289883235,
            1.170106833660153,
            1.160417275810923,
            1.1758990019434852,
            1.2167635257946752,
            1.2837015290523355,
            1.3776504712416568,
            1.4991706463504437,
            1.646888278547579,
            1.8146887434399686,
            1.9897395144932832,
            2.1557807456611555,
            2.3003020783394925,
            2.4175851062256744,
            2.5065820419471434,
            2.568110187746136,
            2.6033021878298737,
            2.6129914488965698,
            null,
            null
           ],
           "y": [
            0.3016167997397729,
            0.07746441483646774,
            -0.14158386618014174,
            -0.3500016478003206,
            -0.5406403432334054,
            -0.703672241133459,
            -0.8257894550209359,
            -0.8915104253683264,
            -0.8892501164417626,
            -0.8192143599394885,
            -0.6933265108851405,
            -0.5272307409368263,
            -0.3342410366304649,
            -0.12415363374784988,
            0.09589012831679933,
            0.3203704452175159,
            0.5445257850225633,
            0.763587565729024,
            0.9720163053118952,
            1.1626440728625715,
            1.32565689638995,
            1.4477718286848131,
            1.5134973955524387,
            1.5112376736389916,
            1.441206682273632,
            1.315316406959409,
            1.1492012502055051,
            0.9562005953607444,
            0.7461243232785169,
            0.5260941530892439,
            0.3016167997397729,
            null,
            null
           ]
          }
         ],
         "name": "2024-10-23 17:10:47",
         "traces": [
          0,
          1,
          2,
          3,
          4,
          5,
          6,
          7
         ]
        },
        {
         "data": [
          {
           "type": "scatter",
           "x": [
            0,
            0
           ],
           "y": [
            0,
            0
           ]
          },
          {
           "hovertemplate": "GroundTruthState<br>(%{x}, %{y})<br>Time: %{meta}",
           "meta": [
            "2024-10-23 17:10:46",
            "2024-10-23 17:10:47",
            "2024-10-23 17:10:48"
           ],
           "type": "scatter",
           "x": [
            0,
            1.177223465328352,
            2.275462874700381,
            null
           ],
           "y": [
            0,
            1.0006757513847795,
            2.0307275520116606,
            null
           ]
          },
          {
           "type": "scatter",
           "x": [
            null,
            null
           ],
           "y": [
            null,
            null
           ]
          },
          {
           "hovertemplate": "Detection<br>(%{x}, %{y})<br>Time: %{meta}",
           "meta": [
            "2024-10-23 17:10:46",
            "2024-10-23 17:10:47",
            "2024-10-23 17:10:48"
           ],
           "type": "scatter",
           "x": [
            2.221819350783221,
            1.549042106302693,
            4.1185639808006655,
            null
           ],
           "y": [
            -0.9499062386905731,
            -2.188124288687379,
            11.127224359918513,
            null
           ]
          },
          {
           "type": "scatter",
           "x": [
            null,
            null
           ],
           "y": [
            null,
            null
           ]
          },
          {
           "customdata": [
            "2024-10-23 17:10:46",
            "2024-10-23 17:10:47",
            "2024-10-23 17:10:48"
           ],
           "hovertemplate": "%{meta}<br>(%{x}, %{y})<br>Time: %{customdata}",
           "meta": [
            "GaussianStateUpdate",
            "GaussianStateUpdate",
            "GaussianStateUpdate"
           ],
           "type": "scatter",
           "x": [
            1.3274264541216636,
            1.8867043623537465,
            2.814138509402241,
            null
           ],
           "y": [
            -0.14578806580866033,
            0.3109936224786445,
            3.855869702836201,
            null
           ]
          },
          {
           "type": "scatter",
           "x": [
            null
           ],
           "y": [
            null
           ]
          },
          {
           "type": "scatter",
           "x": [
            3.584348409677193,
            3.5662226950850857,
            3.522972352831523,
            3.4534403984545716,
            3.355665390508376,
            3.2273541376826063,
            3.067447163741784,
            2.8807225199837863,
            2.683984390958404,
            2.5012426015815925,
            2.348293659306835,
            2.2288961177656654,
            2.1412710842309544,
            2.0825839369348276,
            2.050601640143948,
            2.0439286091272892,
            2.0620554847424355,
            2.1053022956606657,
            2.1748431403692097,
            2.2725963436359953,
            2.4009228315346913,
            2.5608458172377535,
            2.7475488579712257,
            2.9442870471169584,
            3.1270498629368193,
            3.2799833126972686,
            3.399366922433501,
            3.4870116282544235,
            3.545691180374482,
            3.5776761069296525,
            3.584348409677193,
            null,
            null
           ],
           "y": [
            3.8388085810957593,
            3.580555943054027,
            3.3271053928931837,
            3.0835641591111114,
            2.856955841964174,
            2.658183773516841,
            2.5042417553694305,
            2.418907377768406,
            2.42326673343033,
            2.516772237977773,
            2.6776561359293236,
            2.8819446988229847,
            3.112611704809935,
            3.359022402275169,
            3.6141190900774807,
            3.872930824576643,
            4.131193209832119,
            4.384623477916126,
            4.628193763460736,
            4.8547544074482225,
            5.053555570319115,
            5.207508960041038,
            5.29283079514897,
            5.288474153569231,
            5.194955162232165,
            5.034083333714631,
            4.829824511327701,
            4.599108913414143,
            4.352727632886252,
            4.097610526540407,
            3.8388085810957593,
            null,
            null
           ]
          }
         ],
         "name": "2024-10-23 17:10:48",
         "traces": [
          0,
          1,
          2,
          3,
          4,
          5,
          6,
          7
         ]
        },
        {
         "data": [
          {
           "type": "scatter",
           "x": [
            0,
            0
           ],
           "y": [
            0,
            0
           ]
          },
          {
           "hovertemplate": "GroundTruthState<br>(%{x}, %{y})<br>Time: %{meta}",
           "meta": [
            "2024-10-23 17:10:46",
            "2024-10-23 17:10:47",
            "2024-10-23 17:10:48",
            "2024-10-23 17:10:49"
           ],
           "type": "scatter",
           "x": [
            0,
            1.177223465328352,
            2.275462874700381,
            3.1560399703547968,
            null
           ],
           "y": [
            0,
            1.0006757513847795,
            2.0307275520116606,
            3.2076890985336823,
            null
           ]
          },
          {
           "type": "scatter",
           "x": [
            null,
            null
           ],
           "y": [
            null,
            null
           ]
          },
          {
           "hovertemplate": "Detection<br>(%{x}, %{y})<br>Time: %{meta}",
           "meta": [
            "2024-10-23 17:10:46",
            "2024-10-23 17:10:47",
            "2024-10-23 17:10:48",
            "2024-10-23 17:10:49"
           ],
           "type": "scatter",
           "x": [
            2.221819350783221,
            1.549042106302693,
            4.1185639808006655,
            4.534156951991264,
            null
           ],
           "y": [
            -0.9499062386905731,
            -2.188124288687379,
            11.127224359918513,
            4.770342745174409,
            null
           ]
          },
          {
           "type": "scatter",
           "x": [
            null,
            null
           ],
           "y": [
            null,
            null
           ]
          },
          {
           "customdata": [
            "2024-10-23 17:10:46",
            "2024-10-23 17:10:47",
            "2024-10-23 17:10:48",
            "2024-10-23 17:10:49"
           ],
           "hovertemplate": "%{meta}<br>(%{x}, %{y})<br>Time: %{customdata}",
           "meta": [
            "GaussianStateUpdate",
            "GaussianStateUpdate",
            "GaussianStateUpdate",
            "GaussianStateUpdate"
           ],
           "type": "scatter",
           "x": [
            1.3274264541216636,
            1.8867043623537465,
            2.814138509402241,
            4.199905052014181,
            null
           ],
           "y": [
            -0.14578806580866033,
            0.3109936224786445,
            3.855869702836201,
            5.230239029551541,
            null
           ]
          },
          {
           "type": "scatter",
           "x": [
            null
           ],
           "y": [
            null
           ]
          },
          {
           "type": "scatter",
           "x": [
            4.966655153099545,
            4.930533970535321,
            4.871130300193862,
            4.78727686235488,
            4.67682686113349,
            4.536662109504368,
            4.364161201415213,
            4.1630926732379745,
            3.9552010897501835,
            3.773449877408452,
            3.633524493319419,
            3.533610757551368,
            3.467760259740296,
            3.4310353427430016,
            3.4201397085516545,
            3.433154950928816,
            3.4692799145031046,
            3.528681640259493,
            3.612523530558879,
            3.7229831414196766,
            3.863147666595424,
            4.035648985523082,
            4.2367023936114805,
            4.4445947206838925,
            4.62636029762623,
            4.766285360798449,
            4.866199279840353,
            4.932044761980924,
            4.9687753632234815,
            4.9796702939873825,
            4.966655153099545,
            null,
            null
           ],
           "y": [
            5.1625679258236,
            4.88521703912345,
            4.613504122395639,
            4.351861742036335,
            4.106944773406705,
            3.889507270808562,
            3.7187432227134565,
            3.626280703617521,
            3.6446328473827236,
            3.770877594933717,
            3.969215980018057,
            4.207841855691466,
            4.468344815472191,
            4.740595610111517,
            5.018497817674193,
            5.297910133279481,
            5.575282853013778,
            5.846980822807085,
            6.1085907464361915,
            6.353533095745096,
            6.570970371800258,
            6.7417348970347,
            6.834194437201967,
            6.815850718651533,
            6.689600389940095,
            6.491262546577662,
            6.252636408199951,
            5.992160119885244,
            5.719875347689182,
            5.441958083651087,
            5.1625679258236,
            null,
            null
           ]
          }
         ],
         "name": "2024-10-23 17:10:49",
         "traces": [
          0,
          1,
          2,
          3,
          4,
          5,
          6,
          7
         ]
        },
        {
         "data": [
          {
           "type": "scatter",
           "x": [
            0,
            0
           ],
           "y": [
            0,
            0
           ]
          },
          {
           "hovertemplate": "GroundTruthState<br>(%{x}, %{y})<br>Time: %{meta}",
           "meta": [
            "2024-10-23 17:10:46",
            "2024-10-23 17:10:47",
            "2024-10-23 17:10:48",
            "2024-10-23 17:10:49",
            "2024-10-23 17:10:50"
           ],
           "type": "scatter",
           "x": [
            0,
            1.177223465328352,
            2.275462874700381,
            3.1560399703547968,
            4.111484568780832,
            null
           ],
           "y": [
            0,
            1.0006757513847795,
            2.0307275520116606,
            3.2076890985336823,
            4.681546580969336,
            null
           ]
          },
          {
           "type": "scatter",
           "x": [
            null,
            null
           ],
           "y": [
            null,
            null
           ]
          },
          {
           "hovertemplate": "Detection<br>(%{x}, %{y})<br>Time: %{meta}",
           "meta": [
            "2024-10-23 17:10:46",
            "2024-10-23 17:10:47",
            "2024-10-23 17:10:48",
            "2024-10-23 17:10:49",
            "2024-10-23 17:10:50"
           ],
           "type": "scatter",
           "x": [
            2.221819350783221,
            1.549042106302693,
            4.1185639808006655,
            4.534156951991264,
            4.473015456288891,
            null
           ],
           "y": [
            -0.9499062386905731,
            -2.188124288687379,
            11.127224359918513,
            4.770342745174409,
            4.421986485240061,
            null
           ]
          },
          {
           "type": "scatter",
           "x": [
            null,
            null
           ],
           "y": [
            null,
            null
           ]
          },
          {
           "customdata": [
            "2024-10-23 17:10:46",
            "2024-10-23 17:10:47",
            "2024-10-23 17:10:48",
            "2024-10-23 17:10:49",
            "2024-10-23 17:10:50"
           ],
           "hovertemplate": "%{meta}<br>(%{x}, %{y})<br>Time: %{customdata}",
           "meta": [
            "GaussianStateUpdate",
            "GaussianStateUpdate",
            "GaussianStateUpdate",
            "GaussianStateUpdate",
            "GaussianStateUpdate"
           ],
           "type": "scatter",
           "x": [
            1.3274264541216636,
            1.8867043623537465,
            2.814138509402241,
            4.199905052014181,
            4.871292085079629,
            null
           ],
           "y": [
            -0.14578806580866033,
            0.3109936224786445,
            3.855869702836201,
            5.230239029551541,
            5.963194718871466,
            null
           ]
          },
          {
           "type": "scatter",
           "x": [
            null
           ],
           "y": [
            null
           ]
          },
          {
           "type": "scatter",
           "x": [
            5.613419829280388,
            5.565935605125437,
            5.496779226988237,
            5.40486013175964,
            5.288037595163038,
            5.143034765152756,
            4.966577733285522,
            4.761718022092282,
            4.553199329504637,
            4.379324388963314,
            4.253733562731989,
            4.170345107085409,
            4.120988269503825,
            4.0998425534835965,
            4.103259365729947,
            4.12916434087887,
            4.176655058204412,
            4.245807752837885,
            4.337720111667767,
            4.4545464001433945,
            4.599548630349796,
            4.776006551096571,
            4.9808425436418196,
            5.189363108291351,
            5.363259869969459,
            5.488850109835638,
            5.572238975590459,
            5.621594597501711,
            5.64274191081081,
            5.639323142953851,
            5.613419829280388,
            null,
            null
           ],
           "y": [
            5.866559399022731,
            5.586168286246754,
            5.311771532868406,
            5.0473808363114525,
            4.799138234131273,
            4.5774205397796335,
            4.401765723099732,
            4.307532716974721,
            4.33469205158265,
            4.478234149799847,
            4.69322096596619,
            4.9446776309745815,
            5.214568995043965,
            5.493662229421643,
            5.776597165151661,
            6.059830038720201,
            6.340252149430581,
            6.61462736202714,
            6.878998867821027,
            7.127250885207182,
            7.348967916910751,
            7.524623799147953,
            7.618852484094972,
            7.5917075263118425,
            7.448155177005397,
            7.233169618493669,
            6.981712159332638,
            6.711830857313021,
            6.43271734701063,
            6.149760645503182,
            5.866559399022731,
            null,
            null
           ]
          }
         ],
         "name": "2024-10-23 17:10:50",
         "traces": [
          0,
          1,
          2,
          3,
          4,
          5,
          6,
          7
         ]
        },
        {
         "data": [
          {
           "type": "scatter",
           "x": [
            0,
            0
           ],
           "y": [
            0,
            0
           ]
          },
          {
           "hovertemplate": "GroundTruthState<br>(%{x}, %{y})<br>Time: %{meta}",
           "meta": [
            "2024-10-23 17:10:46",
            "2024-10-23 17:10:47",
            "2024-10-23 17:10:48",
            "2024-10-23 17:10:49",
            "2024-10-23 17:10:50",
            "2024-10-23 17:10:51"
           ],
           "type": "scatter",
           "x": [
            0,
            1.177223465328352,
            2.275462874700381,
            3.1560399703547968,
            4.111484568780832,
            5.068918699968233,
            null
           ],
           "y": [
            0,
            1.0006757513847795,
            2.0307275520116606,
            3.2076890985336823,
            4.681546580969336,
            6.424096316700446,
            null
           ]
          },
          {
           "type": "scatter",
           "x": [
            null,
            null
           ],
           "y": [
            null,
            null
           ]
          },
          {
           "hovertemplate": "Detection<br>(%{x}, %{y})<br>Time: %{meta}",
           "meta": [
            "2024-10-23 17:10:46",
            "2024-10-23 17:10:47",
            "2024-10-23 17:10:48",
            "2024-10-23 17:10:49",
            "2024-10-23 17:10:50",
            "2024-10-23 17:10:51"
           ],
           "type": "scatter",
           "x": [
            2.221819350783221,
            1.549042106302693,
            4.1185639808006655,
            4.534156951991264,
            4.473015456288891,
            5.832101951594851,
            null
           ],
           "y": [
            -0.9499062386905731,
            -2.188124288687379,
            11.127224359918513,
            4.770342745174409,
            4.421986485240061,
            9.132252939840118,
            null
           ]
          },
          {
           "type": "scatter",
           "x": [
            null,
            null
           ],
           "y": [
            null,
            null
           ]
          },
          {
           "customdata": [
            "2024-10-23 17:10:46",
            "2024-10-23 17:10:47",
            "2024-10-23 17:10:48",
            "2024-10-23 17:10:49",
            "2024-10-23 17:10:50",
            "2024-10-23 17:10:51"
           ],
           "hovertemplate": "%{meta}<br>(%{x}, %{y})<br>Time: %{customdata}",
           "meta": [
            "GaussianStateUpdate",
            "GaussianStateUpdate",
            "GaussianStateUpdate",
            "GaussianStateUpdate",
            "GaussianStateUpdate",
            "GaussianStateUpdate"
           ],
           "type": "scatter",
           "x": [
            1.3274264541216636,
            1.8867043623537465,
            2.814138509402241,
            4.199905052014181,
            4.871292085079629,
            5.7567012581331145,
            null
           ],
           "y": [
            -0.14578806580866033,
            0.3109936224786445,
            3.855869702836201,
            5.230239029551541,
            5.963194718871466,
            8.083035480074878,
            null
           ]
          },
          {
           "type": "scatter",
           "x": [
            null
           ],
           "y": [
            null
           ]
          },
          {
           "type": "scatter",
           "x": [
            6.4754266972208265,
            6.422592935517613,
            6.349114577599825,
            6.2539713843932425,
            6.135099474804399,
            5.989289872922923,
            5.813183656140896,
            5.609650861562356,
            5.4046276354040135,
            5.238053393450697,
            5.121963847235228,
            5.048260675019352,
            5.00797350810294,
            4.995039001429243,
            5.005738900209895,
            5.0379758190454025,
            5.090817584872672,
            5.164291242413899,
            5.259430289404801,
            5.378302832332392,
            5.524111580105362,
            5.700218971561329,
            5.903761349551216,
            6.108783642646473,
            6.275349204650409,
            6.391438051847466,
            6.465141752745145,
            6.505428803992803,
            6.518363540376946,
            6.507660860950147,
            6.4754266972208265,
            null,
            null
           ],
           "y": [
            7.97312058282402,
            7.696569276398602,
            7.4261426183326,
            7.165629283266714,
            6.920869089070335,
            6.701906611810655,
            6.528024765749101,
            6.435461383011287,
            6.4668125245989465,
            6.615979510505076,
            6.834548533864861,
            7.08708007673792,
            7.356182248390445,
            7.633210834211268,
            7.913213189920549,
            8.192950377325737,
            8.469536459292323,
            8.739938805221826,
            9.000439670023537,
            9.245201499449982,
            9.464163018474261,
            9.638046276401921,
            9.730611216464878,
            9.699253973646186,
            9.55009133808645,
            9.331524013137109,
            9.078991300558094,
            8.809890878681587,
            8.532849153384891,
            8.252822191954158,
            7.97312058282402,
            null,
            null
           ]
          }
         ],
         "name": "2024-10-23 17:10:51",
         "traces": [
          0,
          1,
          2,
          3,
          4,
          5,
          6,
          7
         ]
        },
        {
         "data": [
          {
           "type": "scatter",
           "x": [
            0,
            0
           ],
           "y": [
            0,
            0
           ]
          },
          {
           "hovertemplate": "GroundTruthState<br>(%{x}, %{y})<br>Time: %{meta}",
           "meta": [
            "2024-10-23 17:10:46",
            "2024-10-23 17:10:47",
            "2024-10-23 17:10:48",
            "2024-10-23 17:10:49",
            "2024-10-23 17:10:50",
            "2024-10-23 17:10:51",
            "2024-10-23 17:10:52"
           ],
           "type": "scatter",
           "x": [
            0,
            1.177223465328352,
            2.275462874700381,
            3.1560399703547968,
            4.111484568780832,
            5.068918699968233,
            6.134103970132443,
            null
           ],
           "y": [
            0,
            1.0006757513847795,
            2.0307275520116606,
            3.2076890985336823,
            4.681546580969336,
            6.424096316700446,
            8.291557310607626,
            null
           ]
          },
          {
           "type": "scatter",
           "x": [
            null,
            null
           ],
           "y": [
            null,
            null
           ]
          },
          {
           "hovertemplate": "Detection<br>(%{x}, %{y})<br>Time: %{meta}",
           "meta": [
            "2024-10-23 17:10:46",
            "2024-10-23 17:10:47",
            "2024-10-23 17:10:48",
            "2024-10-23 17:10:49",
            "2024-10-23 17:10:50",
            "2024-10-23 17:10:51",
            "2024-10-23 17:10:52"
           ],
           "type": "scatter",
           "x": [
            2.221819350783221,
            1.549042106302693,
            4.1185639808006655,
            4.534156951991264,
            4.473015456288891,
            5.832101951594851,
            4.671810836553469,
            null
           ],
           "y": [
            -0.9499062386905731,
            -2.188124288687379,
            11.127224359918513,
            4.770342745174409,
            4.421986485240061,
            9.132252939840118,
            9.016148199021414,
            null
           ]
          },
          {
           "type": "scatter",
           "x": [
            null,
            null
           ],
           "y": [
            null,
            null
           ]
          },
          {
           "customdata": [
            "2024-10-23 17:10:46",
            "2024-10-23 17:10:47",
            "2024-10-23 17:10:48",
            "2024-10-23 17:10:49",
            "2024-10-23 17:10:50",
            "2024-10-23 17:10:51",
            "2024-10-23 17:10:52"
           ],
           "hovertemplate": "%{meta}<br>(%{x}, %{y})<br>Time: %{customdata}",
           "meta": [
            "GaussianStateUpdate",
            "GaussianStateUpdate",
            "GaussianStateUpdate",
            "GaussianStateUpdate",
            "GaussianStateUpdate",
            "GaussianStateUpdate",
            "GaussianStateUpdate"
           ],
           "type": "scatter",
           "x": [
            1.3274264541216636,
            1.8867043623537465,
            2.814138509402241,
            4.199905052014181,
            4.871292085079629,
            5.7567012581331145,
            5.710888943759886,
            null
           ],
           "y": [
            -0.14578806580866033,
            0.3109936224786445,
            3.855869702836201,
            5.230239029551541,
            5.963194718871466,
            8.083035480074878,
            9.58803244079455,
            null
           ]
          },
          {
           "type": "scatter",
           "x": [
            null
           ],
           "y": [
            null
           ]
          },
          {
           "type": "scatter",
           "x": [
            6.410619046951113,
            6.348730990229077,
            6.2668443330138235,
            6.164101213268987,
            6.038699666990379,
            5.887875519525292,
            5.7090694141773115,
            5.506453391099771,
            5.306953556000397,
            5.149352661864594,
            5.043672921548748,
            4.980729607445705,
            4.951119797086945,
            4.9485944268590725,
            4.969331801281951,
            5.011158840568659,
            5.073055973183148,
            5.154937160275275,
            5.257675655655122,
            5.383078003242411,
            5.53390128940297,
            5.712708585783689,
            5.91533421516211,
            6.114832893847545,
            6.272425301927594,
            6.378104425293241,
            6.441048209037383,
            6.470657953692984,
            6.473183085264649,
            6.452442101223034,
            6.410619046951113,
            null,
            null
           ],
           "y": [
            9.453942172319758,
            9.185264218401688,
            8.923349400734969,
            8.671949427006869,
            8.436864315545286,
            8.228051343520349,
            8.064508362409736,
            7.981547471788673,
            8.01977477901568,
            8.171767576764188,
            8.389828535379296,
            8.639605008696703,
            8.904397155286361,
            9.175956724074707,
            9.449565104591537,
            9.72212270926934,
            9.990834253601358,
            10.252725558893044,
            10.50411326436486,
            10.73920021207705,
            10.948012289708819,
            11.111556595468393,
            11.194518675473766,
            11.156285333672745,
            11.004297192372427,
            10.786237904872609,
            10.536460282111024,
            10.271670137918688,
            10.000097460434485,
            9.726465211011533,
            9.453942172319758,
            null,
            null
           ]
          }
         ],
         "name": "2024-10-23 17:10:52",
         "traces": [
          0,
          1,
          2,
          3,
          4,
          5,
          6,
          7
         ]
        },
        {
         "data": [
          {
           "type": "scatter",
           "x": [
            0,
            0
           ],
           "y": [
            0,
            0
           ]
          },
          {
           "hovertemplate": "GroundTruthState<br>(%{x}, %{y})<br>Time: %{meta}",
           "meta": [
            "2024-10-23 17:10:47",
            "2024-10-23 17:10:48",
            "2024-10-23 17:10:49",
            "2024-10-23 17:10:50",
            "2024-10-23 17:10:51",
            "2024-10-23 17:10:52",
            "2024-10-23 17:10:53"
           ],
           "type": "scatter",
           "x": [
            1.177223465328352,
            2.275462874700381,
            3.1560399703547968,
            4.111484568780832,
            5.068918699968233,
            6.134103970132443,
            7.336661592351442,
            null
           ],
           "y": [
            1.0006757513847795,
            2.0307275520116606,
            3.2076890985336823,
            4.681546580969336,
            6.424096316700446,
            8.291557310607626,
            10.210133065599429,
            null
           ]
          },
          {
           "type": "scatter",
           "x": [
            null,
            null
           ],
           "y": [
            null,
            null
           ]
          },
          {
           "hovertemplate": "Detection<br>(%{x}, %{y})<br>Time: %{meta}",
           "meta": [
            "2024-10-23 17:10:47",
            "2024-10-23 17:10:48",
            "2024-10-23 17:10:49",
            "2024-10-23 17:10:50",
            "2024-10-23 17:10:51",
            "2024-10-23 17:10:52",
            "2024-10-23 17:10:53"
           ],
           "type": "scatter",
           "x": [
            1.549042106302693,
            4.1185639808006655,
            4.534156951991264,
            4.473015456288891,
            5.832101951594851,
            4.671810836553469,
            6.911778516695591,
            null
           ],
           "y": [
            -2.188124288687379,
            11.127224359918513,
            4.770342745174409,
            4.421986485240061,
            9.132252939840118,
            9.016148199021414,
            6.676642845595845,
            null
           ]
          },
          {
           "type": "scatter",
           "x": [
            null,
            null
           ],
           "y": [
            null,
            null
           ]
          },
          {
           "customdata": [
            "2024-10-23 17:10:47",
            "2024-10-23 17:10:48",
            "2024-10-23 17:10:49",
            "2024-10-23 17:10:50",
            "2024-10-23 17:10:51",
            "2024-10-23 17:10:52",
            "2024-10-23 17:10:53"
           ],
           "hovertemplate": "%{meta}<br>(%{x}, %{y})<br>Time: %{customdata}",
           "meta": [
            "GaussianStateUpdate",
            "GaussianStateUpdate",
            "GaussianStateUpdate",
            "GaussianStateUpdate",
            "GaussianStateUpdate",
            "GaussianStateUpdate",
            "GaussianStateUpdate"
           ],
           "type": "scatter",
           "x": [
            1.8867043623537465,
            2.814138509402241,
            4.199905052014181,
            4.871292085079629,
            5.7567012581331145,
            5.710888943759886,
            6.6517065694433155,
            null
           ],
           "y": [
            0.3109936224786445,
            3.855869702836201,
            5.230239029551541,
            5.963194718871466,
            8.083035480074878,
            9.58803244079455,
            9.360658031207704,
            null
           ]
          },
          {
           "type": "scatter",
           "x": [
            null
           ],
           "y": [
            null
           ]
          },
          {
           "type": "scatter",
           "x": [
            7.338355476547321,
            7.268268239897433,
            7.1786172998179705,
            7.068690491220101,
            6.936922949792431,
            6.780958754060384,
            6.598999546911873,
            6.396473371246336,
            6.2011605497434354,
            6.050678574724728,
            5.953416550800644,
            5.899364208770485,
            5.878760992494205,
            5.885182035419701,
            5.914698480637081,
            5.96505766233931,
            6.035154793840409,
            6.124799672081675,
            6.234721005314661,
            6.366489967969055,
            6.522453328661276,
            6.704413706720512,
            6.906950130825285,
            7.102261513447842,
            7.2527346365859255,
            7.349996126829914,
            7.404048874625412,
            7.424652061030437,
            7.41823039281193,
            7.388709674610805,
            7.338355476547321,
            null,
            null
           ],
           "y": [
            9.204486902654047,
            8.941954151755834,
            8.686806818734217,
            8.442798515170239,
            8.215743897377116,
            8.015586257917215,
            7.861140883004044,
            7.786851174194254,
            7.831269710459089,
            7.98585066839798,
            8.203803471914263,
            8.451726188780642,
            8.713439162344747,
            8.980974666832632,
            9.249775067987287,
            9.516829159761361,
            9.779394060824528,
            10.034518877344368,
            10.27851432085535,
            10.505571832366588,
            10.705728669219464,
            10.860175251165957,
            10.934465858066728,
            10.890040995372496,
            10.735465279693027,
            10.517514070901465,
            10.269590269219858,
            10.00788051941097,
            9.740331051771848,
            9.47150772725914,
            9.204486902654047,
            null,
            null
           ]
          }
         ],
         "name": "2024-10-23 17:10:53",
         "traces": [
          0,
          1,
          2,
          3,
          4,
          5,
          6,
          7
         ]
        },
        {
         "data": [
          {
           "type": "scatter",
           "x": [
            0,
            0
           ],
           "y": [
            0,
            0
           ]
          },
          {
           "hovertemplate": "GroundTruthState<br>(%{x}, %{y})<br>Time: %{meta}",
           "meta": [
            "2024-10-23 17:10:48",
            "2024-10-23 17:10:49",
            "2024-10-23 17:10:50",
            "2024-10-23 17:10:51",
            "2024-10-23 17:10:52",
            "2024-10-23 17:10:53",
            "2024-10-23 17:10:54"
           ],
           "type": "scatter",
           "x": [
            2.275462874700381,
            3.1560399703547968,
            4.111484568780832,
            5.068918699968233,
            6.134103970132443,
            7.336661592351442,
            8.708739774094603,
            null
           ],
           "y": [
            2.0307275520116606,
            3.2076890985336823,
            4.681546580969336,
            6.424096316700446,
            8.291557310607626,
            10.210133065599429,
            12.639171131337447,
            null
           ]
          },
          {
           "type": "scatter",
           "x": [
            null,
            null
           ],
           "y": [
            null,
            null
           ]
          },
          {
           "hovertemplate": "Detection<br>(%{x}, %{y})<br>Time: %{meta}",
           "meta": [
            "2024-10-23 17:10:48",
            "2024-10-23 17:10:49",
            "2024-10-23 17:10:50",
            "2024-10-23 17:10:51",
            "2024-10-23 17:10:52",
            "2024-10-23 17:10:53",
            "2024-10-23 17:10:54"
           ],
           "type": "scatter",
           "x": [
            4.1185639808006655,
            4.534156951991264,
            4.473015456288891,
            5.832101951594851,
            4.671810836553469,
            6.911778516695591,
            9.91607756750875,
            null
           ],
           "y": [
            11.127224359918513,
            4.770342745174409,
            4.421986485240061,
            9.132252939840118,
            9.016148199021414,
            6.676642845595845,
            13.098478086148486,
            null
           ]
          },
          {
           "type": "scatter",
           "x": [
            null,
            null
           ],
           "y": [
            null,
            null
           ]
          },
          {
           "customdata": [
            "2024-10-23 17:10:48",
            "2024-10-23 17:10:49",
            "2024-10-23 17:10:50",
            "2024-10-23 17:10:51",
            "2024-10-23 17:10:52",
            "2024-10-23 17:10:53",
            "2024-10-23 17:10:54"
           ],
           "hovertemplate": "%{meta}<br>(%{x}, %{y})<br>Time: %{customdata}",
           "meta": [
            "GaussianStateUpdate",
            "GaussianStateUpdate",
            "GaussianStateUpdate",
            "GaussianStateUpdate",
            "GaussianStateUpdate",
            "GaussianStateUpdate",
            "GaussianStateUpdate"
           ],
           "type": "scatter",
           "x": [
            2.814138509402241,
            4.199905052014181,
            4.871292085079629,
            5.7567012581331145,
            5.710888943759886,
            6.6517065694433155,
            8.48802604761913,
            null
           ],
           "y": [
            3.855869702836201,
            5.230239029551541,
            5.963194718871466,
            8.083035480074878,
            9.58803244079455,
            9.360658031207704,
            11.469388210610044,
            null
           ]
          },
          {
           "type": "scatter",
           "x": [
            null
           ],
           "y": [
            null
           ]
          },
          {
           "type": "scatter",
           "x": [
            9.168832415530552,
            9.096547402517768,
            9.004733630654425,
            8.892768083480277,
            8.759252894106485,
            8.602137627622398,
            8.420244847509723,
            8.219849119207403,
            8.028144199051026,
            7.880652231125981,
            7.785493168318845,
            7.733314112496417,
            7.714624387558671,
            7.723060295037204,
            7.754686223711925,
            7.807219679707707,
            7.879514013972941,
            7.971322086056925,
            8.08327989260951,
            8.216799001562094,
            8.37391360963105,
            8.555807363114646,
            8.756179981443346,
            8.947888181783819,
            9.095399935872898,
            9.190558563399936,
            9.242737935764756,
            9.261427562962819,
            9.252991069205029,
            9.221361058135763,
            9.168832415530552,
            null,
            null
           ],
           "y": [
            11.30547959180345,
            11.04864653234765,
            10.799524986103702,
            10.561938320557086,
            10.341792315381198,
            10.149057413372624,
            10.002280084186799,
            9.934331877183846,
            9.980493306931256,
            10.132190466024316,
            10.34567103412062,
            10.588794172082938,
            10.845592910444687,
            11.10808672331726,
            11.37167739633086,
            11.633296829416636,
            11.890158700857555,
            12.139260126314184,
            12.376830359894278,
            12.596983818615554,
            12.789718127991204,
            12.936496405105704,
            13.004442873030142,
            12.958295067765897,
            12.80658584206655,
            12.593106561040939,
            12.349982595718238,
            12.093192278097776,
            11.830680310803633,
            11.567069127606661,
            11.30547959180345,
            null,
            null
           ]
          }
         ],
         "name": "2024-10-23 17:10:54",
         "traces": [
          0,
          1,
          2,
          3,
          4,
          5,
          6,
          7
         ]
        },
        {
         "data": [
          {
           "type": "scatter",
           "x": [
            0,
            0
           ],
           "y": [
            0,
            0
           ]
          },
          {
           "hovertemplate": "GroundTruthState<br>(%{x}, %{y})<br>Time: %{meta}",
           "meta": [
            "2024-10-23 17:10:49",
            "2024-10-23 17:10:50",
            "2024-10-23 17:10:51",
            "2024-10-23 17:10:52",
            "2024-10-23 17:10:53",
            "2024-10-23 17:10:54",
            "2024-10-23 17:10:55"
           ],
           "type": "scatter",
           "x": [
            3.1560399703547968,
            4.111484568780832,
            5.068918699968233,
            6.134103970132443,
            7.336661592351442,
            8.708739774094603,
            9.661668970928952,
            null
           ],
           "y": [
            3.2076890985336823,
            4.681546580969336,
            6.424096316700446,
            8.291557310607626,
            10.210133065599429,
            12.639171131337447,
            15.077240437037124,
            null
           ]
          },
          {
           "type": "scatter",
           "x": [
            null,
            null
           ],
           "y": [
            null,
            null
           ]
          },
          {
           "hovertemplate": "Detection<br>(%{x}, %{y})<br>Time: %{meta}",
           "meta": [
            "2024-10-23 17:10:49",
            "2024-10-23 17:10:50",
            "2024-10-23 17:10:51",
            "2024-10-23 17:10:52",
            "2024-10-23 17:10:53",
            "2024-10-23 17:10:54",
            "2024-10-23 17:10:55"
           ],
           "type": "scatter",
           "x": [
            4.534156951991264,
            4.473015456288891,
            5.832101951594851,
            4.671810836553469,
            6.911778516695591,
            9.91607756750875,
            13.220645587904379,
            null
           ],
           "y": [
            4.770342745174409,
            4.421986485240061,
            9.132252939840118,
            9.016148199021414,
            6.676642845595845,
            13.098478086148486,
            19.91019957588045,
            null
           ]
          },
          {
           "type": "scatter",
           "x": [
            null,
            null
           ],
           "y": [
            null,
            null
           ]
          },
          {
           "customdata": [
            "2024-10-23 17:10:49",
            "2024-10-23 17:10:50",
            "2024-10-23 17:10:51",
            "2024-10-23 17:10:52",
            "2024-10-23 17:10:53",
            "2024-10-23 17:10:54",
            "2024-10-23 17:10:55"
           ],
           "hovertemplate": "%{meta}<br>(%{x}, %{y})<br>Time: %{customdata}",
           "meta": [
            "GaussianStateUpdate",
            "GaussianStateUpdate",
            "GaussianStateUpdate",
            "GaussianStateUpdate",
            "GaussianStateUpdate",
            "GaussianStateUpdate",
            "GaussianStateUpdate"
           ],
           "type": "scatter",
           "x": [
            4.199905052014181,
            4.871292085079629,
            5.7567012581331145,
            5.710888943759886,
            6.6517065694433155,
            8.48802604761913,
            10.652419105638167,
            null
           ],
           "y": [
            5.230239029551541,
            5.963194718871466,
            8.083035480074878,
            9.58803244079455,
            9.360658031207704,
            11.469388210610044,
            15.538423129773882,
            null
           ]
          },
          {
           "type": "scatter",
           "x": [
            null
           ],
           "y": [
            null
           ]
          },
          {
           "type": "scatter",
           "x": [
            11.325458568498243,
            11.244898146705516,
            11.144863162610195,
            11.024953672049536,
            10.884160502539228,
            10.721118987778443,
            10.535978966085109,
            10.336843501355704,
            10.150551412276213,
            10.00929348400922,
            9.92030287310969,
            9.87468748979989,
            9.863100892903965,
            9.87911393132004,
            9.918675183436402,
            9.97937964277809,
            10.059948854299815,
            10.159978450694949,
            10.279876032942887,
            10.420677540602503,
            10.583718618978322,
            10.768859351936188,
            10.96797623147819,
            11.154271237286043,
            11.295544789864513,
            11.384535111068143,
            11.43015069123719,
            11.441737518133062,
            11.425723403213302,
            11.386158119101845,
            11.325458568498243,
            null,
            null
           ],
           "y": [
            15.348898678149332,
            15.100873744950889,
            14.861513402198085,
            14.634795567489453,
            14.426831418743276,
            14.247708240407304,
            14.115581621232154,
            14.060770689226462,
            14.113235173113527,
            14.263893459891403,
            14.473214663376584,
            14.711094092160964,
            14.961984019496015,
            15.217933676762634,
            15.474305059567978,
            15.727947581398432,
            15.975996291169812,
            16.215340099185738,
            16.442036403137333,
            16.65001462388795,
            16.82913746608106,
            16.961264692861082,
            17.016075184143162,
            16.963621058145403,
            16.812952697424954,
            16.603632383409956,
            16.36575244016439,
            16.114878868046954,
            15.85890462984157,
            15.60251633053977,
            15.348898678149332,
            null,
            null
           ]
          }
         ],
         "name": "2024-10-23 17:10:55",
         "traces": [
          0,
          1,
          2,
          3,
          4,
          5,
          6,
          7
         ]
        },
        {
         "data": [
          {
           "type": "scatter",
           "x": [
            0,
            0
           ],
           "y": [
            0,
            0
           ]
          },
          {
           "hovertemplate": "GroundTruthState<br>(%{x}, %{y})<br>Time: %{meta}",
           "meta": [
            "2024-10-23 17:10:50",
            "2024-10-23 17:10:51",
            "2024-10-23 17:10:52",
            "2024-10-23 17:10:53",
            "2024-10-23 17:10:54",
            "2024-10-23 17:10:55",
            "2024-10-23 17:10:56"
           ],
           "type": "scatter",
           "x": [
            4.111484568780832,
            5.068918699968233,
            6.134103970132443,
            7.336661592351442,
            8.708739774094603,
            9.661668970928952,
            10.289427281808946,
            null
           ],
           "y": [
            4.681546580969336,
            6.424096316700446,
            8.291557310607626,
            10.210133065599429,
            12.639171131337447,
            15.077240437037124,
            17.463880393414996,
            null
           ]
          },
          {
           "type": "scatter",
           "x": [
            null,
            null
           ],
           "y": [
            null,
            null
           ]
          },
          {
           "hovertemplate": "Detection<br>(%{x}, %{y})<br>Time: %{meta}",
           "meta": [
            "2024-10-23 17:10:50",
            "2024-10-23 17:10:51",
            "2024-10-23 17:10:52",
            "2024-10-23 17:10:53",
            "2024-10-23 17:10:54",
            "2024-10-23 17:10:55",
            "2024-10-23 17:10:56"
           ],
           "type": "scatter",
           "x": [
            4.473015456288891,
            5.832101951594851,
            4.671810836553469,
            6.911778516695591,
            9.91607756750875,
            13.220645587904379,
            9.849936778112081,
            null
           ],
           "y": [
            4.421986485240061,
            9.132252939840118,
            9.016148199021414,
            6.676642845595845,
            13.098478086148486,
            19.91019957588045,
            16.496589458288486,
            null
           ]
          },
          {
           "type": "scatter",
           "x": [
            null,
            null
           ],
           "y": [
            null,
            null
           ]
          },
          {
           "customdata": [
            "2024-10-23 17:10:50",
            "2024-10-23 17:10:51",
            "2024-10-23 17:10:52",
            "2024-10-23 17:10:53",
            "2024-10-23 17:10:54",
            "2024-10-23 17:10:55",
            "2024-10-23 17:10:56"
           ],
           "hovertemplate": "%{meta}<br>(%{x}, %{y})<br>Time: %{customdata}",
           "meta": [
            "GaussianStateUpdate",
            "GaussianStateUpdate",
            "GaussianStateUpdate",
            "GaussianStateUpdate",
            "GaussianStateUpdate",
            "GaussianStateUpdate",
            "GaussianStateUpdate"
           ],
           "type": "scatter",
           "x": [
            4.871292085079629,
            5.7567012581331145,
            5.710888943759886,
            6.6517065694433155,
            8.48802604761913,
            10.652419105638167,
            11.135094100964928,
            null
           ],
           "y": [
            5.963194718871466,
            8.083035480074878,
            9.58803244079455,
            9.360658031207704,
            11.469388210610044,
            15.538423129773882,
            17.371793121039314,
            null
           ]
          },
          {
           "type": "scatter",
           "x": [
            null
           ],
           "y": [
            null
           ]
          },
          {
           "type": "scatter",
           "x": [
            11.790755551968264,
            11.691465255268202,
            11.57316101476972,
            11.43588934926693,
            11.279371041350984,
            11.103461124957578,
            10.910484536999913,
            10.711419672099582,
            10.533396361193972,
            10.404808586946201,
            10.33062535859709,
            10.301377991331789,
            10.307305932685775,
            10.34159455270058,
            10.39986608817305,
            10.479432649961591,
            10.578731712021563,
            10.697030519603468,
            10.834284444963115,
            10.990817022165972,
            11.166726673504108,
            11.359703754122242,
            11.558754352823632,
            11.736780430881726,
            11.865379659929319,
            11.939562734706977,
            11.968810202044011,
            11.962884330904693,
            11.92859242706724,
            11.87031653690972,
            11.790755551968264,
            null,
            null
           ],
           "y": [
            17.12592273084517,
            16.891150987314003,
            16.66696346595798,
            16.45751806791726,
            16.269159268391835,
            16.112073819784975,
            16.00377265526697,
            15.971253814455283,
            16.038016043868836,
            16.193399022411587,
            16.40188455235933,
            16.635902901005043,
            16.880757328304735,
            17.128788977349213,
            17.37547363466271,
            17.61766351123346,
            17.852453780073997,
            18.07662845331988,
            18.286048529634474,
            18.474426828095805,
            18.63151212518282,
            18.739813620657213,
            18.77233353553149,
            18.705578685270876,
            18.550187135520293,
            18.341702178863297,
            18.10768354177658,
            17.862853188015517,
            17.614790796183236,
            17.36809288642714,
            17.12592273084517,
            null,
            null
           ]
          }
         ],
         "name": "2024-10-23 17:10:56",
         "traces": [
          0,
          1,
          2,
          3,
          4,
          5,
          6,
          7
         ]
        },
        {
         "data": [
          {
           "type": "scatter",
           "x": [
            0,
            0
           ],
           "y": [
            0,
            0
           ]
          },
          {
           "hovertemplate": "GroundTruthState<br>(%{x}, %{y})<br>Time: %{meta}",
           "meta": [
            "2024-10-23 17:10:51",
            "2024-10-23 17:10:52",
            "2024-10-23 17:10:53",
            "2024-10-23 17:10:54",
            "2024-10-23 17:10:55",
            "2024-10-23 17:10:56",
            "2024-10-23 17:10:57"
           ],
           "type": "scatter",
           "x": [
            5.068918699968233,
            6.134103970132443,
            7.336661592351442,
            8.708739774094603,
            9.661668970928952,
            10.289427281808946,
            10.90851617793013,
            null
           ],
           "y": [
            6.424096316700446,
            8.291557310607626,
            10.210133065599429,
            12.639171131337447,
            15.077240437037124,
            17.463880393414996,
            19.922987588268054,
            null
           ]
          },
          {
           "type": "scatter",
           "x": [
            null,
            null
           ],
           "y": [
            null,
            null
           ]
          },
          {
           "hovertemplate": "Detection<br>(%{x}, %{y})<br>Time: %{meta}",
           "meta": [
            "2024-10-23 17:10:51",
            "2024-10-23 17:10:52",
            "2024-10-23 17:10:53",
            "2024-10-23 17:10:54",
            "2024-10-23 17:10:55",
            "2024-10-23 17:10:56",
            "2024-10-23 17:10:57"
           ],
           "type": "scatter",
           "x": [
            5.832101951594851,
            4.671810836553469,
            6.911778516695591,
            9.91607756750875,
            13.220645587904379,
            9.849936778112081,
            11.551415784923044,
            null
           ],
           "y": [
            9.132252939840118,
            9.016148199021414,
            6.676642845595845,
            13.098478086148486,
            19.91019957588045,
            16.496589458288486,
            20.2252725135359,
            null
           ]
          },
          {
           "type": "scatter",
           "x": [
            null,
            null
           ],
           "y": [
            null,
            null
           ]
          },
          {
           "customdata": [
            "2024-10-23 17:10:51",
            "2024-10-23 17:10:52",
            "2024-10-23 17:10:53",
            "2024-10-23 17:10:54",
            "2024-10-23 17:10:55",
            "2024-10-23 17:10:56",
            "2024-10-23 17:10:57"
           ],
           "hovertemplate": "%{meta}<br>(%{x}, %{y})<br>Time: %{customdata}",
           "meta": [
            "GaussianStateUpdate",
            "GaussianStateUpdate",
            "GaussianStateUpdate",
            "GaussianStateUpdate",
            "GaussianStateUpdate",
            "GaussianStateUpdate",
            "GaussianStateUpdate"
           ],
           "type": "scatter",
           "x": [
            5.7567012581331145,
            5.710888943759886,
            6.6517065694433155,
            8.48802604761913,
            10.652419105638167,
            11.135094100964928,
            11.871863440881597,
            null
           ],
           "y": [
            8.083035480074878,
            9.58803244079455,
            9.360658031207704,
            11.469388210610044,
            15.538423129773882,
            17.371793121039314,
            19.73480654793384,
            null
           ]
          },
          {
           "type": "scatter",
           "x": [
            null
           ],
           "y": [
            null
           ]
          },
          {
           "type": "scatter",
           "x": [
            12.50930415521375,
            12.395132910815363,
            12.262641419199932,
            12.112181926319781,
            11.943950876848364,
            11.758566846725884,
            11.559646734532787,
            11.359961527680769,
            11.187612174403506,
            11.069603020053258,
            11.008786693920294,
            10.994317563854649,
            11.015680580196822,
            11.065630151088197,
            11.139510076813618,
            11.234422726549445,
            11.348603482209771,
            11.481089009050743,
            11.631528241049388,
            11.799775867365284,
            11.985159657211215,
            12.184080233057735,
            12.383752120035108,
            12.55610450174848,
            12.67412389899648,
            12.734940118161516,
            12.749409321731804,
            12.728050141402704,
            12.678095163531312,
            12.604210273036502,
            12.50930415521375,
            null,
            null
           ],
           "y": [
            19.445836069546388,
            19.21960064865437,
            19.005261596476924,
            18.806995015566585,
            18.63117688238779,
            18.48796580836557,
            18.39451697313836,
            18.376455948770168,
            18.45459096697873,
            18.616668025431075,
            18.8278634423551,
            19.061673564509302,
            19.30409840444882,
            19.547894937805204,
            19.78878979118066,
            20.02377702632129,
            20.250029466740727,
            20.46435669082961,
            20.662598328192907,
            20.838436087863588,
            20.981647049067607,
            21.075096148361887,
            21.093159119820672,
            21.01503078204704,
            20.852944988992927,
            20.641750094815283,
            20.407939717596708,
            20.165540279939773,
            19.921712069329317,
            19.68080493453381,
            19.445836069546388,
            null,
            null
           ]
          }
         ],
         "name": "2024-10-23 17:10:57",
         "traces": [
          0,
          1,
          2,
          3,
          4,
          5,
          6,
          7
         ]
        },
        {
         "data": [
          {
           "type": "scatter",
           "x": [
            0,
            0
           ],
           "y": [
            0,
            0
           ]
          },
          {
           "hovertemplate": "GroundTruthState<br>(%{x}, %{y})<br>Time: %{meta}",
           "meta": [
            "2024-10-23 17:10:52",
            "2024-10-23 17:10:53",
            "2024-10-23 17:10:54",
            "2024-10-23 17:10:55",
            "2024-10-23 17:10:56",
            "2024-10-23 17:10:57",
            "2024-10-23 17:10:58"
           ],
           "type": "scatter",
           "x": [
            6.134103970132443,
            7.336661592351442,
            8.708739774094603,
            9.661668970928952,
            10.289427281808946,
            10.90851617793013,
            11.43649485409589,
            null
           ],
           "y": [
            8.291557310607626,
            10.210133065599429,
            12.639171131337447,
            15.077240437037124,
            17.463880393414996,
            19.922987588268054,
            22.43523846129129,
            null
           ]
          },
          {
           "type": "scatter",
           "x": [
            null,
            null
           ],
           "y": [
            null,
            null
           ]
          },
          {
           "hovertemplate": "Detection<br>(%{x}, %{y})<br>Time: %{meta}",
           "meta": [
            "2024-10-23 17:10:52",
            "2024-10-23 17:10:53",
            "2024-10-23 17:10:54",
            "2024-10-23 17:10:55",
            "2024-10-23 17:10:56",
            "2024-10-23 17:10:57",
            "2024-10-23 17:10:58"
           ],
           "type": "scatter",
           "x": [
            4.671810836553469,
            6.911778516695591,
            9.91607756750875,
            13.220645587904379,
            9.849936778112081,
            11.551415784923044,
            13.495870684052178,
            null
           ],
           "y": [
            9.016148199021414,
            6.676642845595845,
            13.098478086148486,
            19.91019957588045,
            16.496589458288486,
            20.2252725135359,
            26.37557225257571,
            null
           ]
          },
          {
           "type": "scatter",
           "x": [
            null,
            null
           ],
           "y": [
            null,
            null
           ]
          },
          {
           "customdata": [
            "2024-10-23 17:10:52",
            "2024-10-23 17:10:53",
            "2024-10-23 17:10:54",
            "2024-10-23 17:10:55",
            "2024-10-23 17:10:56",
            "2024-10-23 17:10:57",
            "2024-10-23 17:10:58"
           ],
           "hovertemplate": "%{meta}<br>(%{x}, %{y})<br>Time: %{customdata}",
           "meta": [
            "GaussianStateUpdate",
            "GaussianStateUpdate",
            "GaussianStateUpdate",
            "GaussianStateUpdate",
            "GaussianStateUpdate",
            "GaussianStateUpdate",
            "GaussianStateUpdate"
           ],
           "type": "scatter",
           "x": [
            5.710888943759886,
            6.6517065694433155,
            8.48802604761913,
            10.652419105638167,
            11.135094100964928,
            11.871863440881597,
            12.713219234352714,
            null
           ],
           "y": [
            9.58803244079455,
            9.360658031207704,
            11.469388210610044,
            15.538423129773882,
            17.371793121039314,
            19.73480654793384,
            23.565040038495432,
            null
           ]
          },
          {
           "type": "scatter",
           "x": [
            null
           ],
           "y": [
            null
           ]
          },
          {
           "type": "scatter",
           "x": [
            13.331371815391632,
            13.20320380718287,
            13.057515729722605,
            12.894906128872528,
            12.715945607320828,
            12.521849159185878,
            12.317243048752342,
            12.11646443315561,
            11.949060930463896,
            11.84144053834972,
            11.794168985184788,
            11.794606882695373,
            11.831317806656406,
            11.896600766906689,
            11.98554166156222,
            12.095066653313795,
            12.223245403871593,
            12.368926664381544,
            12.531514856322401,
            12.710492712256805,
            12.904588900540425,
            13.109195509292753,
            13.309960641415042,
            13.477367675405032,
            13.584997963126009,
            13.632269440313069,
            13.631831602089026,
            13.595125982905664,
            13.529835722612676,
            13.440888998542848,
            13.331371815391632,
            null,
            null
           ],
           "y": [
            23.23720583139072,
            23.018066125089444,
            22.811902835334983,
            22.622849297038265,
            22.45724517195251,
            22.325194638134104,
            22.243653354615542,
            22.237616338047083,
            22.326402235051923,
            22.49599282755561,
            22.711116711920965,
            22.945872871467685,
            23.186945724079045,
            23.427581292513256,
            23.663824897718612,
            23.892874245600144,
            24.112030663458665,
            24.318182292311757,
            24.50721250560079,
            24.672834784565232,
            24.804885213921313,
            24.886426743327707,
            24.892466576808896,
            24.803687338295134,
            24.63408716372244,
            24.418963829820356,
            24.184207396558094,
            23.943159077667794,
            23.70249270165734,
            23.466236911815706,
            23.23720583139072,
            null,
            null
           ]
          }
         ],
         "name": "2024-10-23 17:10:58",
         "traces": [
          0,
          1,
          2,
          3,
          4,
          5,
          6,
          7
         ]
        },
        {
         "data": [
          {
           "type": "scatter",
           "x": [
            0,
            0
           ],
           "y": [
            0,
            0
           ]
          },
          {
           "hovertemplate": "GroundTruthState<br>(%{x}, %{y})<br>Time: %{meta}",
           "meta": [
            "2024-10-23 17:10:53",
            "2024-10-23 17:10:54",
            "2024-10-23 17:10:55",
            "2024-10-23 17:10:56",
            "2024-10-23 17:10:57",
            "2024-10-23 17:10:58",
            "2024-10-23 17:10:59"
           ],
           "type": "scatter",
           "x": [
            7.336661592351442,
            8.708739774094603,
            9.661668970928952,
            10.289427281808946,
            10.90851617793013,
            11.43649485409589,
            12.083757383111484,
            null
           ],
           "y": [
            10.210133065599429,
            12.639171131337447,
            15.077240437037124,
            17.463880393414996,
            19.922987588268054,
            22.43523846129129,
            25.226253707256983,
            null
           ]
          },
          {
           "type": "scatter",
           "x": [
            null,
            null
           ],
           "y": [
            null,
            null
           ]
          },
          {
           "hovertemplate": "Detection<br>(%{x}, %{y})<br>Time: %{meta}",
           "meta": [
            "2024-10-23 17:10:53",
            "2024-10-23 17:10:54",
            "2024-10-23 17:10:55",
            "2024-10-23 17:10:56",
            "2024-10-23 17:10:57",
            "2024-10-23 17:10:58",
            "2024-10-23 17:10:59"
           ],
           "type": "scatter",
           "x": [
            6.911778516695591,
            9.91607756750875,
            13.220645587904379,
            9.849936778112081,
            11.551415784923044,
            13.495870684052178,
            9.210581625879023,
            null
           ],
           "y": [
            6.676642845595845,
            13.098478086148486,
            19.91019957588045,
            16.496589458288486,
            20.2252725135359,
            26.37557225257571,
            20.926146862627856,
            null
           ]
          },
          {
           "type": "scatter",
           "x": [
            null,
            null
           ],
           "y": [
            null,
            null
           ]
          },
          {
           "customdata": [
            "2024-10-23 17:10:53",
            "2024-10-23 17:10:54",
            "2024-10-23 17:10:55",
            "2024-10-23 17:10:56",
            "2024-10-23 17:10:57",
            "2024-10-23 17:10:58",
            "2024-10-23 17:10:59"
           ],
           "hovertemplate": "%{meta}<br>(%{x}, %{y})<br>Time: %{customdata}",
           "meta": [
            "GaussianStateUpdate",
            "GaussianStateUpdate",
            "GaussianStateUpdate",
            "GaussianStateUpdate",
            "GaussianStateUpdate",
            "GaussianStateUpdate",
            "GaussianStateUpdate"
           ],
           "type": "scatter",
           "x": [
            6.6517065694433155,
            8.48802604761913,
            10.652419105638167,
            11.135094100964928,
            11.871863440881597,
            12.713219234352714,
            12.064703643537792,
            null
           ],
           "y": [
            9.360658031207704,
            11.469388210610044,
            15.538423129773882,
            17.371793121039314,
            19.73480654793384,
            23.565040038495432,
            24.674268472524947,
            null
           ]
          },
          {
           "type": "scatter",
           "x": [
            null
           ],
           "y": [
            null
           ]
          },
          {
           "type": "scatter",
           "x": [
            12.656393176707576,
            12.5106174781443,
            12.348440216079158,
            12.170724669425523,
            11.97843978083335,
            11.77344488617945,
            11.561484219822539,
            11.358865221213014,
            11.197558166072225,
            11.103731183993844,
            11.074606409511437,
            11.09481841295103,
            11.15162438907103,
            11.236741640807212,
            11.344958393291476,
            11.473014110368007,
            11.618802748807747,
            11.78097167803426,
            11.95866567963473,
            12.15096732945903,
            12.355961894411283,
            12.567923166856874,
            12.770527594705309,
            12.931839160426641,
            13.02567613094436,
            13.054800872926707,
            13.034588909830681,
            12.977789486866609,
            12.892663009127522,
            12.784438941160321,
            12.656393176707576,
            null,
            null
           ],
           "y": [
            24.299781848378718,
            24.08907338105434,
            23.89252986586856,
            23.714184737750585,
            23.560283008809254,
            23.44084493595488,
            23.37269715760383,
            23.38057433287705,
            23.482672281420157,
            23.662413862907716,
            23.883147825947947,
            24.119536643770854,
            24.35921021953372,
            24.59612775052771,
            24.826806134284116,
            25.048755096671176,
            25.259480703759078,
            25.456012178704526,
            25.634336896090034,
            25.78825381301847,
            25.907691774382492,
            25.975839803784243,
            25.967966780362868,
            25.86587595854505,
            25.68612298512912,
            25.46538967730923,
            25.229000513790393,
            24.989348586815076,
            24.75240284823015,
            24.521711780338133,
            24.299781848378718,
            null,
            null
           ]
          }
         ],
         "name": "2024-10-23 17:10:59",
         "traces": [
          0,
          1,
          2,
          3,
          4,
          5,
          6,
          7
         ]
        },
        {
         "data": [
          {
           "type": "scatter",
           "x": [
            0,
            0
           ],
           "y": [
            0,
            0
           ]
          },
          {
           "hovertemplate": "GroundTruthState<br>(%{x}, %{y})<br>Time: %{meta}",
           "meta": [
            "2024-10-23 17:10:54",
            "2024-10-23 17:10:55",
            "2024-10-23 17:10:56",
            "2024-10-23 17:10:57",
            "2024-10-23 17:10:58",
            "2024-10-23 17:10:59",
            "2024-10-23 17:11:00"
           ],
           "type": "scatter",
           "x": [
            8.708739774094603,
            9.661668970928952,
            10.289427281808946,
            10.90851617793013,
            11.43649485409589,
            12.083757383111484,
            12.857255540294034,
            null
           ],
           "y": [
            12.639171131337447,
            15.077240437037124,
            17.463880393414996,
            19.922987588268054,
            22.43523846129129,
            25.226253707256983,
            28.317087024384634,
            null
           ]
          },
          {
           "type": "scatter",
           "x": [
            null,
            null
           ],
           "y": [
            null,
            null
           ]
          },
          {
           "hovertemplate": "Detection<br>(%{x}, %{y})<br>Time: %{meta}",
           "meta": [
            "2024-10-23 17:10:54",
            "2024-10-23 17:10:55",
            "2024-10-23 17:10:56",
            "2024-10-23 17:10:57",
            "2024-10-23 17:10:58",
            "2024-10-23 17:10:59",
            "2024-10-23 17:11:00"
           ],
           "type": "scatter",
           "x": [
            9.91607756750875,
            13.220645587904379,
            9.849936778112081,
            11.551415784923044,
            13.495870684052178,
            9.210581625879023,
            14.826171916953918,
            null
           ],
           "y": [
            13.098478086148486,
            19.91019957588045,
            16.496589458288486,
            20.2252725135359,
            26.37557225257571,
            20.926146862627856,
            29.98172162643846,
            null
           ]
          },
          {
           "type": "scatter",
           "x": [
            null,
            null
           ],
           "y": [
            null,
            null
           ]
          },
          {
           "customdata": [
            "2024-10-23 17:10:54",
            "2024-10-23 17:10:55",
            "2024-10-23 17:10:56",
            "2024-10-23 17:10:57",
            "2024-10-23 17:10:58",
            "2024-10-23 17:10:59",
            "2024-10-23 17:11:00"
           ],
           "hovertemplate": "%{meta}<br>(%{x}, %{y})<br>Time: %{customdata}",
           "meta": [
            "GaussianStateUpdate",
            "GaussianStateUpdate",
            "GaussianStateUpdate",
            "GaussianStateUpdate",
            "GaussianStateUpdate",
            "GaussianStateUpdate",
            "GaussianStateUpdate"
           ],
           "type": "scatter",
           "x": [
            8.48802604761913,
            10.652419105638167,
            11.135094100964928,
            11.871863440881597,
            12.713219234352714,
            12.064703643537792,
            13.165936582996062,
            null
           ],
           "y": [
            11.469388210610044,
            15.538423129773882,
            17.371793121039314,
            19.73480654793384,
            23.565040038495432,
            24.674268472524947,
            27.896793516957505,
            null
           ]
          },
          {
           "type": "scatter",
           "x": [
            null
           ],
           "y": [
            null
           ]
          },
          {
           "type": "scatter",
           "x": [
            13.742848925728783,
            13.586989820782923,
            13.415444417575562,
            13.229122473293415,
            13.02904938203345,
            12.817200059279337,
            12.59958963069641,
            12.393629552103548,
            12.23416371178756,
            12.148588451903777,
            12.13120983841855,
            12.164085277227759,
            12.233415908910953,
            12.330564708265602,
            12.450199985481833,
            12.589024240263342,
            12.744899094634778,
            12.916434230481128,
            13.10273758344329,
            13.302823559378385,
            13.514672380161052,
            13.73228365250133,
            13.938226298004254,
            14.09769810362435,
            14.18328474040716,
            14.200663363028275,
            14.167787946311627,
            14.098462974475336,
            14.001305118069926,
            13.881660719753729,
            13.742848925728783,
            null,
            null
           ],
           "y": [
            27.5007653002028,
            27.291986202553957,
            27.097705504195297,
            26.92183039984207,
            26.77048497188585,
            26.65366349841702,
            26.588475591777538,
            26.600866678091382,
            26.710340259385976,
            26.898070521844936,
            27.12457031535295,
            27.364249987863335,
            27.60536497681472,
            27.842424400067564,
            28.072318634045676,
            28.29282173371221,
            28.501620250117078,
            28.695887219880753,
            28.871745458368686,
            29.02310191386602,
            29.139923217679062,
            29.205111459074935,
            29.19272585007324,
            29.083260958708863,
            28.895516396608592,
            28.669017510792624,
            28.429337308876587,
            28.188238307034055,
            27.95115547300543,
            27.721246723568047,
            27.5007653002028,
            null,
            null
           ]
          }
         ],
         "name": "2024-10-23 17:11:00",
         "traces": [
          0,
          1,
          2,
          3,
          4,
          5,
          6,
          7
         ]
        },
        {
         "data": [
          {
           "type": "scatter",
           "x": [
            0,
            0
           ],
           "y": [
            0,
            0
           ]
          },
          {
           "hovertemplate": "GroundTruthState<br>(%{x}, %{y})<br>Time: %{meta}",
           "meta": [
            "2024-10-23 17:10:55",
            "2024-10-23 17:10:56",
            "2024-10-23 17:10:57",
            "2024-10-23 17:10:58",
            "2024-10-23 17:10:59",
            "2024-10-23 17:11:00",
            "2024-10-23 17:11:01"
           ],
           "type": "scatter",
           "x": [
            9.661668970928952,
            10.289427281808946,
            10.90851617793013,
            11.43649485409589,
            12.083757383111484,
            12.857255540294034,
            13.664009379110706,
            null
           ],
           "y": [
            15.077240437037124,
            17.463880393414996,
            19.922987588268054,
            22.43523846129129,
            25.226253707256983,
            28.317087024384634,
            31.653600280950233,
            null
           ]
          },
          {
           "type": "scatter",
           "x": [
            null,
            null
           ],
           "y": [
            null,
            null
           ]
          },
          {
           "hovertemplate": "Detection<br>(%{x}, %{y})<br>Time: %{meta}",
           "meta": [
            "2024-10-23 17:10:55",
            "2024-10-23 17:10:56",
            "2024-10-23 17:10:57",
            "2024-10-23 17:10:58",
            "2024-10-23 17:10:59",
            "2024-10-23 17:11:00",
            "2024-10-23 17:11:01"
           ],
           "type": "scatter",
           "x": [
            13.220645587904379,
            9.849936778112081,
            11.551415784923044,
            13.495870684052178,
            9.210581625879023,
            14.826171916953918,
            11.694085658745927,
            null
           ],
           "y": [
            19.91019957588045,
            16.496589458288486,
            20.2252725135359,
            26.37557225257571,
            20.926146862627856,
            29.98172162643846,
            27.230418264224387,
            null
           ]
          },
          {
           "type": "scatter",
           "x": [
            null,
            null
           ],
           "y": [
            null,
            null
           ]
          },
          {
           "customdata": [
            "2024-10-23 17:10:55",
            "2024-10-23 17:10:56",
            "2024-10-23 17:10:57",
            "2024-10-23 17:10:58",
            "2024-10-23 17:10:59",
            "2024-10-23 17:11:00",
            "2024-10-23 17:11:01"
           ],
           "hovertemplate": "%{meta}<br>(%{x}, %{y})<br>Time: %{customdata}",
           "meta": [
            "GaussianStateUpdate",
            "GaussianStateUpdate",
            "GaussianStateUpdate",
            "GaussianStateUpdate",
            "GaussianStateUpdate",
            "GaussianStateUpdate",
            "GaussianStateUpdate"
           ],
           "type": "scatter",
           "x": [
            10.652419105638167,
            11.135094100964928,
            11.871863440881597,
            12.713219234352714,
            12.064703643537792,
            13.165936582996062,
            13.135639760460348,
            null
           ],
           "y": [
            15.538423129773882,
            17.371793121039314,
            19.73480654793384,
            23.565040038495432,
            24.674268472524947,
            27.896793516957505,
            29.317233578018907,
            null
           ]
          },
          {
           "type": "scatter",
           "x": [
            null
           ],
           "y": [
            null
           ]
          },
          {
           "type": "scatter",
           "x": [
            13.690299342521042,
            13.52107267879847,
            13.337086380644347,
            13.139380915815167,
            12.929175682059087,
            12.708790057346128,
            12.484893051347752,
            12.276496020848883,
            12.121458389669744,
            12.047659813423648,
            12.045742787837053,
            12.09499492461498,
            12.180532902552848,
            12.293343917350896,
            12.42794848448985,
            12.580980178399654,
            12.750225675789112,
            12.934199556270421,
            13.131888905645283,
            13.342103566837151,
            13.562488496377416,
            13.786386598358112,
            13.994763781985029,
            14.149809064419141,
            14.223619727476075,
            14.225536848675095,
            14.176284683624461,
            14.090751383514473,
            13.977931424264268,
            13.843315669380651,
            13.690299342521042,
            null,
            null
           ],
           "y": [
            28.890168109862135,
            28.68714908668393,
            28.499260442304386,
            28.33028918041864,
            28.186237270204135,
            28.077021533405095,
            28.01980506441585,
            28.0410509943541,
            28.160431620530094,
            28.35645687944399,
            28.587542261684288,
            28.82852312154404,
            29.06857837176503,
            29.30288900908791,
            29.528775174562107,
            29.74429904617568,
            29.9473389441997,
            30.13521273307923,
            30.304170482135504,
            30.448229723589662,
            30.55744524733733,
            30.6146621050078,
            30.593423429627173,
            30.474052740667368,
            30.278010148665572,
            30.046925925350905,
            29.805944338953722,
            29.565900076978586,
            29.331570405444296,
            29.105668437475103,
            28.890168109862135,
            null,
            null
           ]
          }
         ],
         "name": "2024-10-23 17:11:01",
         "traces": [
          0,
          1,
          2,
          3,
          4,
          5,
          6,
          7
         ]
        },
        {
         "data": [
          {
           "type": "scatter",
           "x": [
            0,
            0
           ],
           "y": [
            0,
            0
           ]
          },
          {
           "hovertemplate": "GroundTruthState<br>(%{x}, %{y})<br>Time: %{meta}",
           "meta": [
            "2024-10-23 17:10:56",
            "2024-10-23 17:10:57",
            "2024-10-23 17:10:58",
            "2024-10-23 17:10:59",
            "2024-10-23 17:11:00",
            "2024-10-23 17:11:01",
            "2024-10-23 17:11:02"
           ],
           "type": "scatter",
           "x": [
            10.289427281808946,
            10.90851617793013,
            11.43649485409589,
            12.083757383111484,
            12.857255540294034,
            13.664009379110706,
            14.66094199646186,
            null
           ],
           "y": [
            17.463880393414996,
            19.922987588268054,
            22.43523846129129,
            25.226253707256983,
            28.317087024384634,
            31.653600280950233,
            34.95982666405545,
            null
           ]
          },
          {
           "type": "scatter",
           "x": [
            null,
            null
           ],
           "y": [
            null,
            null
           ]
          },
          {
           "hovertemplate": "Detection<br>(%{x}, %{y})<br>Time: %{meta}",
           "meta": [
            "2024-10-23 17:10:56",
            "2024-10-23 17:10:57",
            "2024-10-23 17:10:58",
            "2024-10-23 17:10:59",
            "2024-10-23 17:11:00",
            "2024-10-23 17:11:01",
            "2024-10-23 17:11:02"
           ],
           "type": "scatter",
           "x": [
            9.849936778112081,
            11.551415784923044,
            13.495870684052178,
            9.210581625879023,
            14.826171916953918,
            11.694085658745927,
            16.034063908529554,
            null
           ],
           "y": [
            16.496589458288486,
            20.2252725135359,
            26.37557225257571,
            20.926146862627856,
            29.98172162643846,
            27.230418264224387,
            36.07693971814102,
            null
           ]
          },
          {
           "type": "scatter",
           "x": [
            null,
            null
           ],
           "y": [
            null,
            null
           ]
          },
          {
           "customdata": [
            "2024-10-23 17:10:56",
            "2024-10-23 17:10:57",
            "2024-10-23 17:10:58",
            "2024-10-23 17:10:59",
            "2024-10-23 17:11:00",
            "2024-10-23 17:11:01",
            "2024-10-23 17:11:02"
           ],
           "hovertemplate": "%{meta}<br>(%{x}, %{y})<br>Time: %{customdata}",
           "meta": [
            "GaussianStateUpdate",
            "GaussianStateUpdate",
            "GaussianStateUpdate",
            "GaussianStateUpdate",
            "GaussianStateUpdate",
            "GaussianStateUpdate",
            "GaussianStateUpdate"
           ],
           "type": "scatter",
           "x": [
            11.135094100964928,
            11.871863440881597,
            12.713219234352714,
            12.064703643537792,
            13.165936582996062,
            13.135639760460348,
            14.0956336429506,
            null
           ],
           "y": [
            17.371793121039314,
            19.73480654793384,
            23.565040038495432,
            24.674268472524947,
            27.896793516957505,
            29.317233578018907,
            33.18543986890235,
            null
           ]
          },
          {
           "type": "scatter",
           "x": [
            null
           ],
           "y": [
            null
           ]
          },
          {
           "type": "scatter",
           "x": [
            14.63482675657894,
            14.45622838084192,
            14.263529786929125,
            14.05781746148407,
            13.84037249497014,
            13.613650805715363,
            13.384621154779591,
            13.173431454565193,
            13.020888321853414,
            12.955787547896376,
            12.965465689019982,
            13.026814852865964,
            13.124130920715997,
            13.248172901190104,
            13.393400539352141,
            13.556440529322261,
            13.735060898031264,
            13.927744859546559,
            14.133444626627188,
            14.350894467470251,
            14.577615197283544,
            14.806646265735052,
            15.017813145656051,
            15.170365848135878,
            15.235479752076348,
            15.225801813743505,
            15.164452551121316,
            15.067139109399289,
            14.943089387819937,
            14.797848454439933,
            14.63482675657894,
            null,
            null
           ],
           "y": [
            32.73943057949027,
            32.53937589649463,
            32.35473161293453,
            32.18917712936037,
            32.04860214945376,
            31.942869940891313,
            31.889301377032258,
            31.91528010480446,
            32.04147034279944,
            32.24402346319946,
            32.479036667171215,
            32.721560499730415,
            32.961511233116745,
            33.19460105545849,
            33.418483890980966,
            33.63144915831443,
            33.83152666155287,
            34.01615461691846,
            34.18169882256222,
            34.322277406392594,
            34.42800933126272,
            34.48157837214114,
            34.45560865558478,
            34.32942998675024,
            34.12685614024744,
            33.89184441809021,
            33.64931958991432,
            33.409374320116804,
            33.176270235108404,
            32.95236996530441,
            32.73943057949027,
            null,
            null
           ]
          }
         ],
         "name": "2024-10-23 17:11:02",
         "traces": [
          0,
          1,
          2,
          3,
          4,
          5,
          6,
          7
         ]
        },
        {
         "data": [
          {
           "type": "scatter",
           "x": [
            0,
            0
           ],
           "y": [
            0,
            0
           ]
          },
          {
           "hovertemplate": "GroundTruthState<br>(%{x}, %{y})<br>Time: %{meta}",
           "meta": [
            "2024-10-23 17:10:57",
            "2024-10-23 17:10:58",
            "2024-10-23 17:10:59",
            "2024-10-23 17:11:00",
            "2024-10-23 17:11:01",
            "2024-10-23 17:11:02",
            "2024-10-23 17:11:03"
           ],
           "type": "scatter",
           "x": [
            10.90851617793013,
            11.43649485409589,
            12.083757383111484,
            12.857255540294034,
            13.664009379110706,
            14.66094199646186,
            15.763691585187017,
            null
           ],
           "y": [
            19.922987588268054,
            22.43523846129129,
            25.226253707256983,
            28.317087024384634,
            31.653600280950233,
            34.95982666405545,
            38.32678424492485,
            null
           ]
          },
          {
           "type": "scatter",
           "x": [
            null,
            null
           ],
           "y": [
            null,
            null
           ]
          },
          {
           "hovertemplate": "Detection<br>(%{x}, %{y})<br>Time: %{meta}",
           "meta": [
            "2024-10-23 17:10:57",
            "2024-10-23 17:10:58",
            "2024-10-23 17:10:59",
            "2024-10-23 17:11:00",
            "2024-10-23 17:11:01",
            "2024-10-23 17:11:02",
            "2024-10-23 17:11:03"
           ],
           "type": "scatter",
           "x": [
            11.551415784923044,
            13.495870684052178,
            9.210581625879023,
            14.826171916953918,
            11.694085658745927,
            16.034063908529554,
            19.22262346395934,
            null
           ],
           "y": [
            20.2252725135359,
            26.37557225257571,
            20.926146862627856,
            29.98172162643846,
            27.230418264224387,
            36.07693971814102,
            39.61561849446898,
            null
           ]
          },
          {
           "type": "scatter",
           "x": [
            null,
            null
           ],
           "y": [
            null,
            null
           ]
          },
          {
           "customdata": [
            "2024-10-23 17:10:57",
            "2024-10-23 17:10:58",
            "2024-10-23 17:10:59",
            "2024-10-23 17:11:00",
            "2024-10-23 17:11:01",
            "2024-10-23 17:11:02",
            "2024-10-23 17:11:03"
           ],
           "hovertemplate": "%{meta}<br>(%{x}, %{y})<br>Time: %{customdata}",
           "meta": [
            "GaussianStateUpdate",
            "GaussianStateUpdate",
            "GaussianStateUpdate",
            "GaussianStateUpdate",
            "GaussianStateUpdate",
            "GaussianStateUpdate",
            "GaussianStateUpdate"
           ],
           "type": "scatter",
           "x": [
            11.871863440881597,
            12.713219234352714,
            12.064703643537792,
            13.165936582996062,
            13.135639760460348,
            14.0956336429506,
            15.873685704600145,
            null
           ],
           "y": [
            19.73480654793384,
            23.565040038495432,
            24.674268472524947,
            27.896793516957505,
            29.317233578018907,
            33.18543986890235,
            37.0070011262697,
            null
           ]
          },
          {
           "type": "scatter",
           "x": [
            null
           ],
           "y": [
            null
           ]
          },
          {
           "type": "scatter",
           "x": [
            16.38706355315237,
            16.194585644222453,
            15.989001408655135,
            15.771514332548213,
            15.543581795270553,
            15.30799981595728,
            15.072402054694189,
            14.858746024227752,
            14.711646723645513,
            14.660271762445545,
            14.687239989992289,
            14.766374260156956,
            14.880983813106507,
            15.021553945877145,
            15.1824611612356,
            15.360307856047923,
            15.552811974379765,
            15.7583785936515,
            15.975857316974187,
            16.203789228405896,
            16.439369875849668,
            16.674969483947603,
            16.88863272760599,
            17.03572855200205,
            17.087099650835572,
            17.060131828646934,
            16.980997313105743,
            16.86638745732159,
            16.725811316217623,
            16.564887908942787,
            16.38706355315237,
            null,
            null
           ],
           "y": [
            36.53114703157305,
            36.33818694669985,
            36.161180779781034,
            36.00367621358221,
            35.87141918298617,
            35.77415857061905,
            35.72921378926357,
            35.764500685324286,
            35.900844734773514,
            36.11122057651636,
            36.349548024715766,
            36.59181970672201,
            36.82911579993024,
            37.057900902706,
            37.27628465663891,
            37.48285522096635,
            37.67583970046536,
            37.852828290429315,
            38.01032619638747,
            38.14258287572832,
            38.23984314082469,
            38.2847884690174,
            38.24949824747261,
            38.113150447720486,
            37.902781546518554,
            37.66445598127287,
            37.42218294491668,
            37.184886201051434,
            36.956092264944424,
            36.73768961378803,
            36.53114703157305,
            null,
            null
           ]
          }
         ],
         "name": "2024-10-23 17:11:03",
         "traces": [
          0,
          1,
          2,
          3,
          4,
          5,
          6,
          7
         ]
        },
        {
         "data": [
          {
           "type": "scatter",
           "x": [
            0,
            0
           ],
           "y": [
            0,
            0
           ]
          },
          {
           "hovertemplate": "GroundTruthState<br>(%{x}, %{y})<br>Time: %{meta}",
           "meta": [
            "2024-10-23 17:10:58",
            "2024-10-23 17:10:59",
            "2024-10-23 17:11:00",
            "2024-10-23 17:11:01",
            "2024-10-23 17:11:02",
            "2024-10-23 17:11:03",
            "2024-10-23 17:11:04"
           ],
           "type": "scatter",
           "x": [
            11.43649485409589,
            12.083757383111484,
            12.857255540294034,
            13.664009379110706,
            14.66094199646186,
            15.763691585187017,
            16.994297584708757,
            null
           ],
           "y": [
            22.43523846129129,
            25.226253707256983,
            28.317087024384634,
            31.653600280950233,
            34.95982666405545,
            38.32678424492485,
            41.65059655664205,
            null
           ]
          },
          {
           "type": "scatter",
           "x": [
            null,
            null
           ],
           "y": [
            null,
            null
           ]
          },
          {
           "hovertemplate": "Detection<br>(%{x}, %{y})<br>Time: %{meta}",
           "meta": [
            "2024-10-23 17:10:58",
            "2024-10-23 17:10:59",
            "2024-10-23 17:11:00",
            "2024-10-23 17:11:01",
            "2024-10-23 17:11:02",
            "2024-10-23 17:11:03",
            "2024-10-23 17:11:04"
           ],
           "type": "scatter",
           "x": [
            13.495870684052178,
            9.210581625879023,
            14.826171916953918,
            11.694085658745927,
            16.034063908529554,
            19.22262346395934,
            17.806013715912904,
            null
           ],
           "y": [
            26.37557225257571,
            20.926146862627856,
            29.98172162643846,
            27.230418264224387,
            36.07693971814102,
            39.61561849446898,
            42.696316985016416,
            null
           ]
          },
          {
           "type": "scatter",
           "x": [
            null,
            null
           ],
           "y": [
            null,
            null
           ]
          },
          {
           "customdata": [
            "2024-10-23 17:10:58",
            "2024-10-23 17:10:59",
            "2024-10-23 17:11:00",
            "2024-10-23 17:11:01",
            "2024-10-23 17:11:02",
            "2024-10-23 17:11:03",
            "2024-10-23 17:11:04"
           ],
           "hovertemplate": "%{meta}<br>(%{x}, %{y})<br>Time: %{customdata}",
           "meta": [
            "GaussianStateUpdate",
            "GaussianStateUpdate",
            "GaussianStateUpdate",
            "GaussianStateUpdate",
            "GaussianStateUpdate",
            "GaussianStateUpdate",
            "GaussianStateUpdate"
           ],
           "type": "scatter",
           "x": [
            12.713219234352714,
            12.064703643537792,
            13.165936582996062,
            13.135639760460348,
            14.0956336429506,
            15.873685704600145,
            16.88095626256336,
            null
           ],
           "y": [
            23.565040038495432,
            24.674268472524947,
            27.896793516957505,
            29.317233578018907,
            33.18543986890235,
            37.0070011262697,
            41.048703700671375,
            null
           ]
          },
          {
           "type": "scatter",
           "x": [
            null
           ],
           "y": [
            null
           ]
          },
          {
           "type": "scatter",
           "x": [
            16.40273555966237,
            16.61141803325554,
            16.83195714672235,
            17.06298160655994,
            17.302747578792562,
            17.547964151593032,
            17.790024984520166,
            18.004692635161724,
            18.143304279361708,
            18.177109969682018,
            18.12916704108432,
            18.02884205751321,
            17.893772841561958,
            17.73371919464453,
            17.55437906732911,
            17.359176965464346,
            17.150463576466297,
            16.929945440837113,
            16.698929969096138,
            16.45916539344252,
            16.213950584781873,
            15.971887431280772,
            15.757216214351942,
            15.61860655279446,
            15.584802561433468,
            15.63274478257306,
            15.733070247420788,
            15.868140282698999,
            16.028200824091716,
            16.207560470260216,
            16.40273555966237,
            null,
            null
           ],
           "y": [
            41.56040954645454,
            41.741897871339106,
            41.906731478232736,
            42.051511601220824,
            42.17065190854821,
            42.254598880361506,
            42.28625633427473,
            42.23783561508792,
            42.0895203332785,
            41.87206766939986,
            41.63269708805591,
            41.39371542933132,
            41.16254969153037,
            40.94184527907667,
            40.732968511353796,
            40.53699785488821,
            40.35548454953315,
            40.19066908539676,
            40.04589526392202,
            39.92675568320941,
            39.84280907429143,
            39.81115106847008,
            39.859573732050556,
            40.00789086676181,
            40.22533984111348,
            40.46470814448267,
            40.70369153879224,
            40.93485862087934,
            41.15557157506365,
            41.36446804668679,
            41.56040954645454,
            null,
            null
           ]
          }
         ],
         "name": "2024-10-23 17:11:04",
         "traces": [
          0,
          1,
          2,
          3,
          4,
          5,
          6,
          7
         ]
        },
        {
         "data": [
          {
           "type": "scatter",
           "x": [
            0,
            0
           ],
           "y": [
            0,
            0
           ]
          },
          {
           "hovertemplate": "GroundTruthState<br>(%{x}, %{y})<br>Time: %{meta}",
           "meta": [
            "2024-10-23 17:10:59",
            "2024-10-23 17:11:00",
            "2024-10-23 17:11:01",
            "2024-10-23 17:11:02",
            "2024-10-23 17:11:03",
            "2024-10-23 17:11:04",
            "2024-10-23 17:11:05"
           ],
           "type": "scatter",
           "x": [
            12.083757383111484,
            12.857255540294034,
            13.664009379110706,
            14.66094199646186,
            15.763691585187017,
            16.994297584708757,
            18.302114239501268,
            null
           ],
           "y": [
            25.226253707256983,
            28.317087024384634,
            31.653600280950233,
            34.95982666405545,
            38.32678424492485,
            41.65059655664205,
            44.94718306572588,
            null
           ]
          },
          {
           "type": "scatter",
           "x": [
            null,
            null
           ],
           "y": [
            null,
            null
           ]
          },
          {
           "hovertemplate": "Detection<br>(%{x}, %{y})<br>Time: %{meta}",
           "meta": [
            "2024-10-23 17:10:59",
            "2024-10-23 17:11:00",
            "2024-10-23 17:11:01",
            "2024-10-23 17:11:02",
            "2024-10-23 17:11:03",
            "2024-10-23 17:11:04",
            "2024-10-23 17:11:05"
           ],
           "type": "scatter",
           "x": [
            9.210581625879023,
            14.826171916953918,
            11.694085658745927,
            16.034063908529554,
            19.22262346395934,
            17.806013715912904,
            22.259832475318472,
            null
           ],
           "y": [
            20.926146862627856,
            29.98172162643846,
            27.230418264224387,
            36.07693971814102,
            39.61561849446898,
            42.696316985016416,
            45.97561544057756,
            null
           ]
          },
          {
           "type": "scatter",
           "x": [
            null,
            null
           ],
           "y": [
            null,
            null
           ]
          },
          {
           "customdata": [
            "2024-10-23 17:10:59",
            "2024-10-23 17:11:00",
            "2024-10-23 17:11:01",
            "2024-10-23 17:11:02",
            "2024-10-23 17:11:03",
            "2024-10-23 17:11:04",
            "2024-10-23 17:11:05"
           ],
           "hovertemplate": "%{meta}<br>(%{x}, %{y})<br>Time: %{customdata}",
           "meta": [
            "GaussianStateUpdate",
            "GaussianStateUpdate",
            "GaussianStateUpdate",
            "GaussianStateUpdate",
            "GaussianStateUpdate",
            "GaussianStateUpdate",
            "GaussianStateUpdate"
           ],
           "type": "scatter",
           "x": [
            12.064703643537792,
            13.165936582996062,
            13.135639760460348,
            14.0956336429506,
            15.873685704600145,
            16.88095626256336,
            18.915284444904298,
            null
           ],
           "y": [
            24.674268472524947,
            27.896793516957505,
            29.317233578018907,
            33.18543986890235,
            37.0070011262697,
            41.048703700671375,
            44.51442514495765,
            null
           ]
          },
          {
           "type": "scatter",
           "x": [
            null
           ],
           "y": [
            null
           ]
          },
          {
           "type": "scatter",
           "x": [
            18.47396862349403,
            18.69923073288134,
            18.93506356359641,
            19.179987002340752,
            19.43204767924824,
            19.68758701504267,
            19.937192689837666,
            20.154197056144135,
            20.284328844964442,
            20.298758185959542,
            20.227918045265397,
            20.10492725630396,
            19.948318692848872,
            19.767986450506754,
            19.569558186156215,
            19.356600266314565,
            19.13136915544184,
            18.895493490834916,
            18.650580590177025,
            18.39852174045189,
            18.142984989780924,
            17.89337616141244,
            17.676373879867427,
            17.54624083013066,
            17.531810709472595,
            17.602649610070085,
            17.725641338121008,
            17.88225108135134,
            18.062591788199292,
            18.260983016013352,
            18.47396862349403,
            null,
            null
           ],
           "y": [
            45.05820617771028,
            45.22847686826063,
            45.381610839212414,
            45.514387622776724,
            45.62141332181076,
            45.69335402632544,
            45.713248941921385,
            45.652865824288014,
            45.49251859964615,
            45.2677348011959,
            45.02756387588187,
            44.792302952882046,
            44.56766603243484,
            44.35532061300781,
            44.15601582316259,
            43.970644112205015,
            43.80039519578655,
            43.64723238634947,
            43.514462036228984,
            43.4074371585103,
            43.335496869960565,
            43.31560135035643,
            43.37598323283366,
            43.53632943415487,
            43.76111552693861,
            44.001283490494465,
            44.2365468576713,
            44.46118539715666,
            44.67353980505443,
            44.87280861302241,
            45.05820617771028,
            null,
            null
           ]
          }
         ],
         "name": "2024-10-23 17:11:05",
         "traces": [
          0,
          1,
          2,
          3,
          4,
          5,
          6,
          7
         ]
        },
        {
         "data": [
          {
           "type": "scatter",
           "x": [
            0,
            0
           ],
           "y": [
            0,
            0
           ]
          },
          {
           "hovertemplate": "GroundTruthState<br>(%{x}, %{y})<br>Time: %{meta}",
           "meta": [
            "2024-10-23 17:11:00",
            "2024-10-23 17:11:01",
            "2024-10-23 17:11:02",
            "2024-10-23 17:11:03",
            "2024-10-23 17:11:04",
            "2024-10-23 17:11:05",
            "2024-10-23 17:11:06"
           ],
           "type": "scatter",
           "x": [
            12.857255540294034,
            13.664009379110706,
            14.66094199646186,
            15.763691585187017,
            16.994297584708757,
            18.302114239501268,
            19.71972436026734,
            null
           ],
           "y": [
            28.317087024384634,
            31.653600280950233,
            34.95982666405545,
            38.32678424492485,
            41.65059655664205,
            44.94718306572588,
            48.066958689446075,
            null
           ]
          },
          {
           "type": "scatter",
           "x": [
            null,
            null
           ],
           "y": [
            null,
            null
           ]
          },
          {
           "hovertemplate": "Detection<br>(%{x}, %{y})<br>Time: %{meta}",
           "meta": [
            "2024-10-23 17:11:00",
            "2024-10-23 17:11:01",
            "2024-10-23 17:11:02",
            "2024-10-23 17:11:03",
            "2024-10-23 17:11:04",
            "2024-10-23 17:11:05",
            "2024-10-23 17:11:06"
           ],
           "type": "scatter",
           "x": [
            14.826171916953918,
            11.694085658745927,
            16.034063908529554,
            19.22262346395934,
            17.806013715912904,
            22.259832475318472,
            25.395634186662065,
            null
           ],
           "y": [
            29.98172162643846,
            27.230418264224387,
            36.07693971814102,
            39.61561849446898,
            42.696316985016416,
            45.97561544057756,
            51.12448304412903,
            null
           ]
          },
          {
           "type": "scatter",
           "x": [
            null,
            null
           ],
           "y": [
            null,
            null
           ]
          },
          {
           "customdata": [
            "2024-10-23 17:11:00",
            "2024-10-23 17:11:01",
            "2024-10-23 17:11:02",
            "2024-10-23 17:11:03",
            "2024-10-23 17:11:04",
            "2024-10-23 17:11:05",
            "2024-10-23 17:11:06"
           ],
           "hovertemplate": "%{meta}<br>(%{x}, %{y})<br>Time: %{customdata}",
           "meta": [
            "GaussianStateUpdate",
            "GaussianStateUpdate",
            "GaussianStateUpdate",
            "GaussianStateUpdate",
            "GaussianStateUpdate",
            "GaussianStateUpdate",
            "GaussianStateUpdate"
           ],
           "type": "scatter",
           "x": [
            13.165936582996062,
            13.135639760460348,
            14.0956336429506,
            15.873685704600145,
            16.88095626256336,
            18.915284444904298,
            21.370342341747918,
            null
           ],
           "y": [
            27.896793516957505,
            29.317233578018907,
            33.18543986890235,
            37.0070011262697,
            41.048703700671375,
            44.51442514495765,
            48.84583579098738,
            null
           ]
          },
          {
           "type": "scatter",
           "x": [
            null
           ],
           "y": [
            null
           ]
          },
          {
           "type": "scatter",
           "x": [
            20.968265990541124,
            21.209333653988352,
            21.45967802987265,
            21.717709890242542,
            21.981259717019434,
            22.24628486191098,
            22.502537947050012,
            22.720876235202127,
            22.841338089746802,
            22.83560005605733,
            22.741845245290428,
            22.596604218839243,
            22.41906351232794,
            22.21914810451911,
            22.002426822772055,
            21.772418692954712,
            21.531379939864184,
            21.280992868159018,
            21.022973091123518,
            20.759425565596697,
            20.494404010005574,
            20.23814682585279,
            20.019809573247574,
            19.899346931988894,
            19.90508460641614,
            19.99883746770419,
            20.14408009516838,
            20.32162240865498,
            20.521547901630452,
            20.73823155454604,
            20.968265990541124,
            null,
            null
           ],
           "y": [
            49.41922859278497,
            49.57653533096052,
            49.716279350035116,
            49.83541236997887,
            49.928737625642995,
            49.987172581107146,
            49.994019619950336,
            49.92099057695293,
            49.749201570877325,
            49.51904648982136,
            49.280457575827185,
            49.05120647725772,
            48.83522954393526,
            48.63324142773181,
            48.445462769312265,
            48.27244298918979,
            48.11515375368951,
            47.97538518482353,
            47.85625851264076,
            47.76293413220038,
            47.70449957879252,
            47.6976519519813,
            47.77068023753767,
            47.9424686919512,
            48.17262500467466,
            48.41121026529336,
            48.64046460137488,
            48.85644340001199,
            49.05844071352231,
            49.24618759622127,
            49.41922859278497,
            null,
            null
           ]
          }
         ],
         "name": "2024-10-23 17:11:06",
         "traces": [
          0,
          1,
          2,
          3,
          4,
          5,
          6,
          7
         ]
        }
       ],
       "layout": {
        "autosize": true,
        "colorway": [
         "#EF553B",
         "#00CC96",
         "#AB63FA",
         "#FFA15A",
         "#19D3F3",
         "#FF6692",
         "#B6E880",
         "#FF97FF",
         "#FECB52"
        ],
        "height": 550,
        "sliders": [
         {
          "currentvalue": {
           "font": {
            "size": 16
           },
           "prefix": "Time: ",
           "visible": true,
           "xanchor": "right"
          },
          "len": 0.9,
          "pad": {
           "b": 10,
           "t": 50
          },
          "steps": [
           {
            "args": [
             [
              "2024-10-23 17:10:46"
             ],
             {
              "frame": {
               "duration": 1,
               "easing": "linear",
               "redraw": true
              },
              "transition": {
               "duration": 0,
               "easing": "linear"
              }
             }
            ],
            "label": "17:10:46",
            "method": "animate"
           },
           {
            "args": [
             [
              "2024-10-23 17:10:47"
             ],
             {
              "frame": {
               "duration": 1,
               "easing": "linear",
               "redraw": true
              },
              "transition": {
               "duration": 0,
               "easing": "linear"
              }
             }
            ],
            "label": "17:10:47",
            "method": "animate"
           },
           {
            "args": [
             [
              "2024-10-23 17:10:48"
             ],
             {
              "frame": {
               "duration": 1,
               "easing": "linear",
               "redraw": true
              },
              "transition": {
               "duration": 0,
               "easing": "linear"
              }
             }
            ],
            "label": "17:10:48",
            "method": "animate"
           },
           {
            "args": [
             [
              "2024-10-23 17:10:49"
             ],
             {
              "frame": {
               "duration": 1,
               "easing": "linear",
               "redraw": true
              },
              "transition": {
               "duration": 0,
               "easing": "linear"
              }
             }
            ],
            "label": "17:10:49",
            "method": "animate"
           },
           {
            "args": [
             [
              "2024-10-23 17:10:50"
             ],
             {
              "frame": {
               "duration": 1,
               "easing": "linear",
               "redraw": true
              },
              "transition": {
               "duration": 0,
               "easing": "linear"
              }
             }
            ],
            "label": "17:10:50",
            "method": "animate"
           },
           {
            "args": [
             [
              "2024-10-23 17:10:51"
             ],
             {
              "frame": {
               "duration": 1,
               "easing": "linear",
               "redraw": true
              },
              "transition": {
               "duration": 0,
               "easing": "linear"
              }
             }
            ],
            "label": "17:10:51",
            "method": "animate"
           },
           {
            "args": [
             [
              "2024-10-23 17:10:52"
             ],
             {
              "frame": {
               "duration": 1,
               "easing": "linear",
               "redraw": true
              },
              "transition": {
               "duration": 0,
               "easing": "linear"
              }
             }
            ],
            "label": "17:10:52",
            "method": "animate"
           },
           {
            "args": [
             [
              "2024-10-23 17:10:53"
             ],
             {
              "frame": {
               "duration": 1,
               "easing": "linear",
               "redraw": true
              },
              "transition": {
               "duration": 0,
               "easing": "linear"
              }
             }
            ],
            "label": "17:10:53",
            "method": "animate"
           },
           {
            "args": [
             [
              "2024-10-23 17:10:54"
             ],
             {
              "frame": {
               "duration": 1,
               "easing": "linear",
               "redraw": true
              },
              "transition": {
               "duration": 0,
               "easing": "linear"
              }
             }
            ],
            "label": "17:10:54",
            "method": "animate"
           },
           {
            "args": [
             [
              "2024-10-23 17:10:55"
             ],
             {
              "frame": {
               "duration": 1,
               "easing": "linear",
               "redraw": true
              },
              "transition": {
               "duration": 0,
               "easing": "linear"
              }
             }
            ],
            "label": "17:10:55",
            "method": "animate"
           },
           {
            "args": [
             [
              "2024-10-23 17:10:56"
             ],
             {
              "frame": {
               "duration": 1,
               "easing": "linear",
               "redraw": true
              },
              "transition": {
               "duration": 0,
               "easing": "linear"
              }
             }
            ],
            "label": "17:10:56",
            "method": "animate"
           },
           {
            "args": [
             [
              "2024-10-23 17:10:57"
             ],
             {
              "frame": {
               "duration": 1,
               "easing": "linear",
               "redraw": true
              },
              "transition": {
               "duration": 0,
               "easing": "linear"
              }
             }
            ],
            "label": "17:10:57",
            "method": "animate"
           },
           {
            "args": [
             [
              "2024-10-23 17:10:58"
             ],
             {
              "frame": {
               "duration": 1,
               "easing": "linear",
               "redraw": true
              },
              "transition": {
               "duration": 0,
               "easing": "linear"
              }
             }
            ],
            "label": "17:10:58",
            "method": "animate"
           },
           {
            "args": [
             [
              "2024-10-23 17:10:59"
             ],
             {
              "frame": {
               "duration": 1,
               "easing": "linear",
               "redraw": true
              },
              "transition": {
               "duration": 0,
               "easing": "linear"
              }
             }
            ],
            "label": "17:10:59",
            "method": "animate"
           },
           {
            "args": [
             [
              "2024-10-23 17:11:00"
             ],
             {
              "frame": {
               "duration": 1,
               "easing": "linear",
               "redraw": true
              },
              "transition": {
               "duration": 0,
               "easing": "linear"
              }
             }
            ],
            "label": "17:11:00",
            "method": "animate"
           },
           {
            "args": [
             [
              "2024-10-23 17:11:01"
             ],
             {
              "frame": {
               "duration": 1,
               "easing": "linear",
               "redraw": true
              },
              "transition": {
               "duration": 0,
               "easing": "linear"
              }
             }
            ],
            "label": "17:11:01",
            "method": "animate"
           },
           {
            "args": [
             [
              "2024-10-23 17:11:02"
             ],
             {
              "frame": {
               "duration": 1,
               "easing": "linear",
               "redraw": true
              },
              "transition": {
               "duration": 0,
               "easing": "linear"
              }
             }
            ],
            "label": "17:11:02",
            "method": "animate"
           },
           {
            "args": [
             [
              "2024-10-23 17:11:03"
             ],
             {
              "frame": {
               "duration": 1,
               "easing": "linear",
               "redraw": true
              },
              "transition": {
               "duration": 0,
               "easing": "linear"
              }
             }
            ],
            "label": "17:11:03",
            "method": "animate"
           },
           {
            "args": [
             [
              "2024-10-23 17:11:04"
             ],
             {
              "frame": {
               "duration": 1,
               "easing": "linear",
               "redraw": true
              },
              "transition": {
               "duration": 0,
               "easing": "linear"
              }
             }
            ],
            "label": "17:11:04",
            "method": "animate"
           },
           {
            "args": [
             [
              "2024-10-23 17:11:05"
             ],
             {
              "frame": {
               "duration": 1,
               "easing": "linear",
               "redraw": true
              },
              "transition": {
               "duration": 0,
               "easing": "linear"
              }
             }
            ],
            "label": "17:11:05",
            "method": "animate"
           },
           {
            "args": [
             [
              "2024-10-23 17:11:06"
             ],
             {
              "frame": {
               "duration": 1,
               "easing": "linear",
               "redraw": true
              },
              "transition": {
               "duration": 0,
               "easing": "linear"
              }
             }
            ],
            "label": "17:11:06",
            "method": "animate"
           }
          ],
          "transition": {
           "duration": 285.7142857142857,
           "easing": "linear"
          },
          "x": 0.1,
          "xanchor": "left",
          "y": 0,
          "yanchor": "top"
         }
        ],
        "template": {
         "data": {
          "bar": [
           {
            "error_x": {
             "color": "#2a3f5f"
            },
            "error_y": {
             "color": "#2a3f5f"
            },
            "marker": {
             "line": {
              "color": "#E5ECF6",
              "width": 0.5
             },
             "pattern": {
              "fillmode": "overlay",
              "size": 10,
              "solidity": 0.2
             }
            },
            "type": "bar"
           }
          ],
          "barpolar": [
           {
            "marker": {
             "line": {
              "color": "#E5ECF6",
              "width": 0.5
             },
             "pattern": {
              "fillmode": "overlay",
              "size": 10,
              "solidity": 0.2
             }
            },
            "type": "barpolar"
           }
          ],
          "carpet": [
           {
            "aaxis": {
             "endlinecolor": "#2a3f5f",
             "gridcolor": "white",
             "linecolor": "white",
             "minorgridcolor": "white",
             "startlinecolor": "#2a3f5f"
            },
            "baxis": {
             "endlinecolor": "#2a3f5f",
             "gridcolor": "white",
             "linecolor": "white",
             "minorgridcolor": "white",
             "startlinecolor": "#2a3f5f"
            },
            "type": "carpet"
           }
          ],
          "choropleth": [
           {
            "colorbar": {
             "outlinewidth": 0,
             "ticks": ""
            },
            "type": "choropleth"
           }
          ],
          "contour": [
           {
            "colorbar": {
             "outlinewidth": 0,
             "ticks": ""
            },
            "colorscale": [
             [
              0,
              "#0d0887"
             ],
             [
              0.1111111111111111,
              "#46039f"
             ],
             [
              0.2222222222222222,
              "#7201a8"
             ],
             [
              0.3333333333333333,
              "#9c179e"
             ],
             [
              0.4444444444444444,
              "#bd3786"
             ],
             [
              0.5555555555555556,
              "#d8576b"
             ],
             [
              0.6666666666666666,
              "#ed7953"
             ],
             [
              0.7777777777777778,
              "#fb9f3a"
             ],
             [
              0.8888888888888888,
              "#fdca26"
             ],
             [
              1,
              "#f0f921"
             ]
            ],
            "type": "contour"
           }
          ],
          "contourcarpet": [
           {
            "colorbar": {
             "outlinewidth": 0,
             "ticks": ""
            },
            "type": "contourcarpet"
           }
          ],
          "heatmap": [
           {
            "colorbar": {
             "outlinewidth": 0,
             "ticks": ""
            },
            "colorscale": [
             [
              0,
              "#0d0887"
             ],
             [
              0.1111111111111111,
              "#46039f"
             ],
             [
              0.2222222222222222,
              "#7201a8"
             ],
             [
              0.3333333333333333,
              "#9c179e"
             ],
             [
              0.4444444444444444,
              "#bd3786"
             ],
             [
              0.5555555555555556,
              "#d8576b"
             ],
             [
              0.6666666666666666,
              "#ed7953"
             ],
             [
              0.7777777777777778,
              "#fb9f3a"
             ],
             [
              0.8888888888888888,
              "#fdca26"
             ],
             [
              1,
              "#f0f921"
             ]
            ],
            "type": "heatmap"
           }
          ],
          "heatmapgl": [
           {
            "colorbar": {
             "outlinewidth": 0,
             "ticks": ""
            },
            "colorscale": [
             [
              0,
              "#0d0887"
             ],
             [
              0.1111111111111111,
              "#46039f"
             ],
             [
              0.2222222222222222,
              "#7201a8"
             ],
             [
              0.3333333333333333,
              "#9c179e"
             ],
             [
              0.4444444444444444,
              "#bd3786"
             ],
             [
              0.5555555555555556,
              "#d8576b"
             ],
             [
              0.6666666666666666,
              "#ed7953"
             ],
             [
              0.7777777777777778,
              "#fb9f3a"
             ],
             [
              0.8888888888888888,
              "#fdca26"
             ],
             [
              1,
              "#f0f921"
             ]
            ],
            "type": "heatmapgl"
           }
          ],
          "histogram": [
           {
            "marker": {
             "pattern": {
              "fillmode": "overlay",
              "size": 10,
              "solidity": 0.2
             }
            },
            "type": "histogram"
           }
          ],
          "histogram2d": [
           {
            "colorbar": {
             "outlinewidth": 0,
             "ticks": ""
            },
            "colorscale": [
             [
              0,
              "#0d0887"
             ],
             [
              0.1111111111111111,
              "#46039f"
             ],
             [
              0.2222222222222222,
              "#7201a8"
             ],
             [
              0.3333333333333333,
              "#9c179e"
             ],
             [
              0.4444444444444444,
              "#bd3786"
             ],
             [
              0.5555555555555556,
              "#d8576b"
             ],
             [
              0.6666666666666666,
              "#ed7953"
             ],
             [
              0.7777777777777778,
              "#fb9f3a"
             ],
             [
              0.8888888888888888,
              "#fdca26"
             ],
             [
              1,
              "#f0f921"
             ]
            ],
            "type": "histogram2d"
           }
          ],
          "histogram2dcontour": [
           {
            "colorbar": {
             "outlinewidth": 0,
             "ticks": ""
            },
            "colorscale": [
             [
              0,
              "#0d0887"
             ],
             [
              0.1111111111111111,
              "#46039f"
             ],
             [
              0.2222222222222222,
              "#7201a8"
             ],
             [
              0.3333333333333333,
              "#9c179e"
             ],
             [
              0.4444444444444444,
              "#bd3786"
             ],
             [
              0.5555555555555556,
              "#d8576b"
             ],
             [
              0.6666666666666666,
              "#ed7953"
             ],
             [
              0.7777777777777778,
              "#fb9f3a"
             ],
             [
              0.8888888888888888,
              "#fdca26"
             ],
             [
              1,
              "#f0f921"
             ]
            ],
            "type": "histogram2dcontour"
           }
          ],
          "mesh3d": [
           {
            "colorbar": {
             "outlinewidth": 0,
             "ticks": ""
            },
            "type": "mesh3d"
           }
          ],
          "parcoords": [
           {
            "line": {
             "colorbar": {
              "outlinewidth": 0,
              "ticks": ""
             }
            },
            "type": "parcoords"
           }
          ],
          "pie": [
           {
            "automargin": true,
            "type": "pie"
           }
          ],
          "scatter": [
           {
            "fillpattern": {
             "fillmode": "overlay",
             "size": 10,
             "solidity": 0.2
            },
            "type": "scatter"
           }
          ],
          "scatter3d": [
           {
            "line": {
             "colorbar": {
              "outlinewidth": 0,
              "ticks": ""
             }
            },
            "marker": {
             "colorbar": {
              "outlinewidth": 0,
              "ticks": ""
             }
            },
            "type": "scatter3d"
           }
          ],
          "scattercarpet": [
           {
            "marker": {
             "colorbar": {
              "outlinewidth": 0,
              "ticks": ""
             }
            },
            "type": "scattercarpet"
           }
          ],
          "scattergeo": [
           {
            "marker": {
             "colorbar": {
              "outlinewidth": 0,
              "ticks": ""
             }
            },
            "type": "scattergeo"
           }
          ],
          "scattergl": [
           {
            "marker": {
             "colorbar": {
              "outlinewidth": 0,
              "ticks": ""
             }
            },
            "type": "scattergl"
           }
          ],
          "scattermapbox": [
           {
            "marker": {
             "colorbar": {
              "outlinewidth": 0,
              "ticks": ""
             }
            },
            "type": "scattermapbox"
           }
          ],
          "scatterpolar": [
           {
            "marker": {
             "colorbar": {
              "outlinewidth": 0,
              "ticks": ""
             }
            },
            "type": "scatterpolar"
           }
          ],
          "scatterpolargl": [
           {
            "marker": {
             "colorbar": {
              "outlinewidth": 0,
              "ticks": ""
             }
            },
            "type": "scatterpolargl"
           }
          ],
          "scatterternary": [
           {
            "marker": {
             "colorbar": {
              "outlinewidth": 0,
              "ticks": ""
             }
            },
            "type": "scatterternary"
           }
          ],
          "surface": [
           {
            "colorbar": {
             "outlinewidth": 0,
             "ticks": ""
            },
            "colorscale": [
             [
              0,
              "#0d0887"
             ],
             [
              0.1111111111111111,
              "#46039f"
             ],
             [
              0.2222222222222222,
              "#7201a8"
             ],
             [
              0.3333333333333333,
              "#9c179e"
             ],
             [
              0.4444444444444444,
              "#bd3786"
             ],
             [
              0.5555555555555556,
              "#d8576b"
             ],
             [
              0.6666666666666666,
              "#ed7953"
             ],
             [
              0.7777777777777778,
              "#fb9f3a"
             ],
             [
              0.8888888888888888,
              "#fdca26"
             ],
             [
              1,
              "#f0f921"
             ]
            ],
            "type": "surface"
           }
          ],
          "table": [
           {
            "cells": {
             "fill": {
              "color": "#EBF0F8"
             },
             "line": {
              "color": "white"
             }
            },
            "header": {
             "fill": {
              "color": "#C8D4E3"
             },
             "line": {
              "color": "white"
             }
            },
            "type": "table"
           }
          ]
         },
         "layout": {
          "annotationdefaults": {
           "arrowcolor": "#2a3f5f",
           "arrowhead": 0,
           "arrowwidth": 1
          },
          "autotypenumbers": "strict",
          "coloraxis": {
           "colorbar": {
            "outlinewidth": 0,
            "ticks": ""
           }
          },
          "colorscale": {
           "diverging": [
            [
             0,
             "#8e0152"
            ],
            [
             0.1,
             "#c51b7d"
            ],
            [
             0.2,
             "#de77ae"
            ],
            [
             0.3,
             "#f1b6da"
            ],
            [
             0.4,
             "#fde0ef"
            ],
            [
             0.5,
             "#f7f7f7"
            ],
            [
             0.6,
             "#e6f5d0"
            ],
            [
             0.7,
             "#b8e186"
            ],
            [
             0.8,
             "#7fbc41"
            ],
            [
             0.9,
             "#4d9221"
            ],
            [
             1,
             "#276419"
            ]
           ],
           "sequential": [
            [
             0,
             "#0d0887"
            ],
            [
             0.1111111111111111,
             "#46039f"
            ],
            [
             0.2222222222222222,
             "#7201a8"
            ],
            [
             0.3333333333333333,
             "#9c179e"
            ],
            [
             0.4444444444444444,
             "#bd3786"
            ],
            [
             0.5555555555555556,
             "#d8576b"
            ],
            [
             0.6666666666666666,
             "#ed7953"
            ],
            [
             0.7777777777777778,
             "#fb9f3a"
            ],
            [
             0.8888888888888888,
             "#fdca26"
            ],
            [
             1,
             "#f0f921"
            ]
           ],
           "sequentialminus": [
            [
             0,
             "#0d0887"
            ],
            [
             0.1111111111111111,
             "#46039f"
            ],
            [
             0.2222222222222222,
             "#7201a8"
            ],
            [
             0.3333333333333333,
             "#9c179e"
            ],
            [
             0.4444444444444444,
             "#bd3786"
            ],
            [
             0.5555555555555556,
             "#d8576b"
            ],
            [
             0.6666666666666666,
             "#ed7953"
            ],
            [
             0.7777777777777778,
             "#fb9f3a"
            ],
            [
             0.8888888888888888,
             "#fdca26"
            ],
            [
             1,
             "#f0f921"
            ]
           ]
          },
          "colorway": [
           "#636efa",
           "#EF553B",
           "#00cc96",
           "#ab63fa",
           "#FFA15A",
           "#19d3f3",
           "#FF6692",
           "#B6E880",
           "#FF97FF",
           "#FECB52"
          ],
          "font": {
           "color": "#2a3f5f"
          },
          "geo": {
           "bgcolor": "white",
           "lakecolor": "white",
           "landcolor": "#E5ECF6",
           "showlakes": true,
           "showland": true,
           "subunitcolor": "white"
          },
          "hoverlabel": {
           "align": "left"
          },
          "hovermode": "closest",
          "mapbox": {
           "style": "light"
          },
          "paper_bgcolor": "white",
          "plot_bgcolor": "#E5ECF6",
          "polar": {
           "angularaxis": {
            "gridcolor": "white",
            "linecolor": "white",
            "ticks": ""
           },
           "bgcolor": "#E5ECF6",
           "radialaxis": {
            "gridcolor": "white",
            "linecolor": "white",
            "ticks": ""
           }
          },
          "scene": {
           "xaxis": {
            "backgroundcolor": "#E5ECF6",
            "gridcolor": "white",
            "gridwidth": 2,
            "linecolor": "white",
            "showbackground": true,
            "ticks": "",
            "zerolinecolor": "white"
           },
           "yaxis": {
            "backgroundcolor": "#E5ECF6",
            "gridcolor": "white",
            "gridwidth": 2,
            "linecolor": "white",
            "showbackground": true,
            "ticks": "",
            "zerolinecolor": "white"
           },
           "zaxis": {
            "backgroundcolor": "#E5ECF6",
            "gridcolor": "white",
            "gridwidth": 2,
            "linecolor": "white",
            "showbackground": true,
            "ticks": "",
            "zerolinecolor": "white"
           }
          },
          "shapedefaults": {
           "line": {
            "color": "#2a3f5f"
           }
          },
          "ternary": {
           "aaxis": {
            "gridcolor": "white",
            "linecolor": "white",
            "ticks": ""
           },
           "baxis": {
            "gridcolor": "white",
            "linecolor": "white",
            "ticks": ""
           },
           "bgcolor": "#E5ECF6",
           "caxis": {
            "gridcolor": "white",
            "linecolor": "white",
            "ticks": ""
           }
          },
          "title": {
           "x": 0.05
          },
          "xaxis": {
           "automargin": true,
           "gridcolor": "white",
           "linecolor": "white",
           "ticks": "",
           "title": {
            "standoff": 15
           },
           "zerolinecolor": "white",
           "zerolinewidth": 2
          },
          "yaxis": {
           "automargin": true,
           "gridcolor": "white",
           "linecolor": "white",
           "ticks": "",
           "title": {
            "standoff": 15
           },
           "zerolinecolor": "white",
           "zerolinewidth": 2
          }
         }
        },
        "updatemenus": [
         {
          "buttons": [
           {
            "args": [
             null,
             {
              "frame": {
               "duration": 285.7142857142857,
               "redraw": true
              },
              "fromcurrent": true,
              "transition": {
               "duration": 0
              }
             }
            ],
            "label": "Play",
            "method": "animate"
           },
           {
            "args": [
             [
              null
             ],
             {
              "frame": {
               "duration": 0,
               "redraw": true
              },
              "mode": "immediate",
              "transition": {
               "duration": 0
              }
             }
            ],
            "label": "Stop",
            "method": "animate"
           }
          ],
          "direction": "left",
          "pad": {
           "r": 10,
           "t": 75
          },
          "showactive": true,
          "type": "buttons",
          "x": 0.1,
          "xanchor": "right",
          "y": 0,
          "yanchor": "top"
         }
        ],
        "xaxis": {
         "range": [
          -2.3050672382471387,
          26.714715206895836
         ],
         "title": {
          "text": "<i>x</i>"
         }
        },
        "yaxis": {
         "range": [
          -5.079739483402371,
          53.80087459305909
         ],
         "title": {
          "text": "<i>y</i>"
         }
        }
       }
      }
     },
     "metadata": {},
     "output_type": "display_data"
    }
   ],
   "source": [
    "from stonesoup.predictor.kalman import ExtendedKalmanPredictor\n",
    "predictor = ExtendedKalmanPredictor(transition_model)\n",
    "\n",
    "from stonesoup.updater.kalman import ExtendedKalmanUpdater\n",
    "updater = ExtendedKalmanUpdater(measurement_model)\n",
    "\n",
    "from stonesoup.types.state import GaussianState\n",
    "prior = GaussianState([[0], [1], [0], [1]], np.diag([1.5, 0.5, 1.5, 0.5]), timestamp=start_time)\n",
    "\n",
    "from stonesoup.types.hypothesis import SingleHypothesis\n",
    "from stonesoup.types.track import Track\n",
    "\n",
    "track = Track()\n",
    "for measurement in measurements:\n",
    "    prediction = predictor.predict(prior, timestamp=measurement.timestamp)\n",
    "    hypothesis = SingleHypothesis(prediction, measurement)  # Group a prediction and measurement\n",
    "    post = updater.update(hypothesis)\n",
    "    track.append(post)\n",
    "    prior = track[-1]\n",
    "\n",
    "plotter.plot_tracks(track, [0, 2], uncertainty=True)\n",
    "plotter.fig"
   ]
  },
  {
   "cell_type": "code",
   "execution_count": null,
   "metadata": {},
   "outputs": [],
   "source": []
  },
  {
   "cell_type": "markdown",
   "metadata": {},
   "source": []
  }
 ],
 "metadata": {
  "kernelspec": {
   "display_name": "asterix",
   "language": "python",
   "name": "python3"
  },
  "language_info": {
   "codemirror_mode": {
    "name": "ipython",
    "version": 3
   },
   "file_extension": ".py",
   "mimetype": "text/x-python",
   "name": "python",
   "nbconvert_exporter": "python",
   "pygments_lexer": "ipython3",
   "version": "3.8.18"
  }
 },
 "nbformat": 4,
 "nbformat_minor": 2
}
