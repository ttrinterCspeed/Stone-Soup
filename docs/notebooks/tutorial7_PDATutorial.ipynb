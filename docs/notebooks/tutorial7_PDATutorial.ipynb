{
  "cells": [
    {
      "cell_type": "markdown",
      "metadata": {},
      "source": [
        "\n",
        "# 7 - Probabilistic data association tutorial\n"
      ]
    },
    {
      "cell_type": "markdown",
      "metadata": {},
      "source": [
        "Making an assignment between a single track and a single measurement can be problematic. In the\n",
        "previous tutorials you may have encountered the phenomenon of *track seduction*. This occurs\n",
        "when clutter, or other track, points are mis-associated with a prediction. If this happens\n",
        "repeatedly (as can be the case in high-clutter or low-$p_d$ situations) the track can\n",
        "deviate significantly from the truth.\n",
        "\n",
        "Rather than make a firm assignment at each time-step, we could work out the probability that each\n",
        "measurement should be assigned to a particular target. We could then propagate a measure of\n",
        "these collective probabilities to mitigate the effect of track seduction.\n",
        "\n",
        "Pictorially:\n",
        "\n",
        "- Calculate a posterior for each hypothesis;\n",
        "\n",
        "<img src=\"https://stonesoup.rtfd.io/en/latest/_static/PDA_Hypothesis_Diagram.png\" width=\"500\" alt=\"Image showing NN association for one track\">\n",
        "\n",
        "- Weight each posterior state according to the probability that its corresponding hypothesis\n",
        "  was true (including the probability of missed-detection);\n",
        "\n",
        "<img src=\"https://stonesoup.rtfd.io/en/latest/_static/PDA_Weighting_Diagram.png\" width=\"500\" alt=\"Image showing NN association for one track\">\n",
        "\n",
        "- Merge the resulting estimate states in to a single posterior approximation.\n",
        "\n",
        "<img src=\"https://stonesoup.rtfd.io/en/latest/_static/PDA_Merge_Diagram.png\" width=\"500\" alt=\"Image showing NN association for one track\">\n",
        "\n",
        "This results in a more robust approximation to the posterior state covariances that incorporates\n",
        "not only the uncertainty in state, but also in the association.\n",
        "\n"
      ]
    },
    {
      "cell_type": "markdown",
      "metadata": {},
      "source": [
        "## A PDA filter example\n",
        "\n",
        "### Ground truth\n",
        "\n",
        "So, as before, we'll first begin by simulating some ground truth.\n",
        "\n"
      ]
    },
    {
      "cell_type": "code",
      "execution_count": 1,
      "metadata": {
        "collapsed": false
      },
      "outputs": [],
      "source": [
        "import numpy as np\n",
        "\n",
        "from datetime import datetime\n",
        "from datetime import timedelta\n",
        "\n",
        "from stonesoup.models.transition.linear import CombinedLinearGaussianTransitionModel, \\\n",
        "                                               ConstantVelocity\n",
        "from stonesoup.types.groundtruth import GroundTruthPath, GroundTruthState\n",
        "\n",
        "np.random.seed(1991)\n",
        "\n",
        "start_time = datetime.now().replace(microsecond=0)\n",
        "transition_model = CombinedLinearGaussianTransitionModel([ConstantVelocity(0.005),\n",
        "                                                          ConstantVelocity(0.005)])\n",
        "timesteps = [start_time]\n",
        "truth = GroundTruthPath([GroundTruthState([0, 1, 0, 1], timestamp=timesteps[0])])\n",
        "for k in range(1, 21):\n",
        "    timesteps.append(start_time+timedelta(seconds=k))\n",
        "    truth.append(GroundTruthState(\n",
        "        transition_model.function(truth[k-1], noise=True, time_interval=timedelta(seconds=1)),\n",
        "        timestamp=timesteps[k]))"
      ]
    },
    {
      "cell_type": "markdown",
      "metadata": {},
      "source": [
        "Add clutter.\n",
        "\n"
      ]
    },
    {
      "cell_type": "code",
      "execution_count": 2,
      "metadata": {
        "collapsed": false
      },
      "outputs": [],
      "source": [
        "from scipy.stats import uniform\n",
        "\n",
        "from stonesoup.types.detection import TrueDetection\n",
        "from stonesoup.types.detection import Clutter\n",
        "from stonesoup.models.measurement.linear import LinearGaussian\n",
        "measurement_model = LinearGaussian(\n",
        "    ndim_state=4,\n",
        "    mapping=(0, 2),\n",
        "    noise_covar=np.array([[0.75, 0],\n",
        "                          [0, 0.75]])\n",
        "    )\n",
        "\n",
        "prob_detect = 0.9  # 90% chance of detection.\n",
        "\n",
        "all_measurements = []\n",
        "for state in truth:\n",
        "    measurement_set = set()\n",
        "\n",
        "    # Generate detection.\n",
        "    if np.random.rand() <= prob_detect:\n",
        "        measurement = measurement_model.function(state, noise=True)\n",
        "        measurement_set.add(TrueDetection(state_vector=measurement,\n",
        "                                          groundtruth_path=truth,\n",
        "                                          timestamp=state.timestamp,\n",
        "                                          measurement_model=measurement_model))\n",
        "\n",
        "    # Generate clutter.\n",
        "    truth_x = state.state_vector[0]\n",
        "    truth_y = state.state_vector[2]\n",
        "    for _ in range(np.random.randint(10)):\n",
        "        x = uniform.rvs(truth_x - 10, 20)\n",
        "        y = uniform.rvs(truth_y - 10, 20)\n",
        "        measurement_set.add(Clutter(np.array([[x], [y]]), timestamp=state.timestamp,\n",
        "                                    measurement_model=measurement_model))\n",
        "\n",
        "    all_measurements.append(measurement_set)"
      ]
    },
    {
      "cell_type": "markdown",
      "metadata": {},
      "source": [
        "Plot the ground truth and measurements with clutter.\n",
        "\n"
      ]
    },
    {
      "cell_type": "code",
      "execution_count": 4,
      "metadata": {
        "collapsed": false
      },
      "outputs": [
        {
          "data": {
            "application/vnd.plotly.v1+json": {
              "config": {
                "plotlyServerURL": "https://plot.ly"
              },
              "data": [
                {
                  "hoverinfo": "none",
                  "legendgroup": "Ground Truth",
                  "legendrank": 100,
                  "line": {
                    "color": "#EF553B",
                    "dash": "dash"
                  },
                  "mode": "lines",
                  "name": "Ground Truth",
                  "showlegend": true,
                  "type": "scatter",
                  "x": [],
                  "y": []
                },
                {
                  "hoverinfo": "none",
                  "legendgroup": "Ground Truth",
                  "legendrank": 100,
                  "line": {
                    "color": "#EF553B",
                    "dash": "dash"
                  },
                  "mode": "lines",
                  "name": "Ground Truth",
                  "showlegend": false,
                  "type": "scatter",
                  "x": [],
                  "y": []
                },
                {
                  "hoverinfo": "none",
                  "legendgroup": "Measurements<br>(Detections)",
                  "legendrank": 200,
                  "marker": {
                    "color": "#636EFA"
                  },
                  "mode": "markers",
                  "name": "Measurements<br>(Detections)",
                  "showlegend": true,
                  "type": "scatter",
                  "x": [],
                  "y": []
                },
                {
                  "hoverinfo": "none",
                  "legendgroup": "Measurements<br>(Detections)",
                  "legendrank": 200,
                  "marker": {
                    "color": "#636EFA"
                  },
                  "mode": "markers",
                  "name": "Measurements<br>(Detections)",
                  "showlegend": false,
                  "type": "scatter",
                  "x": [],
                  "y": []
                },
                {
                  "hoverinfo": "none",
                  "legendgroup": "Measurements<br>(Clutter)",
                  "legendrank": 300,
                  "marker": {
                    "color": "#FECB52",
                    "symbol": "star-triangle-up"
                  },
                  "mode": "markers",
                  "name": "Measurements<br>(Clutter)",
                  "showlegend": true,
                  "type": "scatter",
                  "x": [],
                  "y": []
                }
              ],
              "frames": [
                {
                  "data": [
                    {
                      "type": "scatter",
                      "x": [
                        0,
                        0
                      ],
                      "y": [
                        0,
                        0
                      ]
                    },
                    {
                      "hovertemplate": "GroundTruthState<br>(%{x}, %{y})<br>Time: %{meta}",
                      "meta": [
                        "2024-11-01 11:46:23"
                      ],
                      "type": "scatter",
                      "x": [
                        0,
                        null
                      ],
                      "y": [
                        0,
                        null
                      ]
                    },
                    {
                      "type": "scatter",
                      "x": [
                        null,
                        null
                      ],
                      "y": [
                        null,
                        null
                      ]
                    },
                    {
                      "hovertemplate": "Detection<br>(%{x}, %{y})<br>Time: %{meta}",
                      "meta": [
                        "2024-11-01 11:46:23"
                      ],
                      "type": "scatter",
                      "x": [
                        0.024509367079263666,
                        null
                      ],
                      "y": [
                        0.5202208082239121,
                        null
                      ]
                    },
                    {
                      "hovertemplate": "Clutter<br>(%{x}, %{y})<br>Time: %{meta}",
                      "meta": [
                        "2024-11-01 11:46:23",
                        "2024-11-01 11:46:23",
                        "2024-11-01 11:46:23",
                        "2024-11-01 11:46:23",
                        "2024-11-01 11:46:23"
                      ],
                      "type": "scatter",
                      "x": [
                        6.8450447360252795,
                        -0.5925571557114235,
                        -9.841536707084932,
                        -5.099913717846882,
                        -2.7506574434162756,
                        null
                      ],
                      "y": [
                        -2.050233410165612,
                        -0.09966429509591102,
                        -4.404817816061655,
                        -8.72615343470666,
                        -5.563544728855723,
                        null
                      ]
                    }
                  ],
                  "name": "2024-11-01 11:46:23",
                  "traces": [
                    0,
                    1,
                    2,
                    3,
                    4
                  ]
                },
                {
                  "data": [
                    {
                      "type": "scatter",
                      "x": [
                        0,
                        0
                      ],
                      "y": [
                        0,
                        0
                      ]
                    },
                    {
                      "hovertemplate": "GroundTruthState<br>(%{x}, %{y})<br>Time: %{meta}",
                      "meta": [
                        "2024-11-01 11:46:23",
                        "2024-11-01 11:46:24"
                      ],
                      "type": "scatter",
                      "x": [
                        0,
                        1.0560429805265472,
                        null
                      ],
                      "y": [
                        0,
                        1.0002136913507915,
                        null
                      ]
                    },
                    {
                      "type": "scatter",
                      "x": [
                        null,
                        null
                      ],
                      "y": [
                        null,
                        null
                      ]
                    },
                    {
                      "hovertemplate": "Detection<br>(%{x}, %{y})<br>Time: %{meta}",
                      "meta": [
                        "2024-11-01 11:46:23",
                        "2024-11-01 11:46:24"
                      ],
                      "type": "scatter",
                      "x": [
                        0.024509367079263666,
                        0.3954661203145644,
                        null
                      ],
                      "y": [
                        0.5202208082239121,
                        0.6268126681876752,
                        null
                      ]
                    },
                    {
                      "hovertemplate": "Clutter<br>(%{x}, %{y})<br>Time: %{meta}",
                      "meta": [
                        "2024-11-01 11:46:23",
                        "2024-11-01 11:46:23",
                        "2024-11-01 11:46:23",
                        "2024-11-01 11:46:23",
                        "2024-11-01 11:46:23",
                        "2024-11-01 11:46:24",
                        "2024-11-01 11:46:24",
                        "2024-11-01 11:46:24",
                        "2024-11-01 11:46:24",
                        "2024-11-01 11:46:24"
                      ],
                      "type": "scatter",
                      "x": [
                        6.8450447360252795,
                        -0.5925571557114235,
                        -9.841536707084932,
                        -5.099913717846882,
                        -2.7506574434162756,
                        5.623949298672091,
                        0.896358631336053,
                        -3.658619985028256,
                        3.3187677378535483,
                        5.850994664882053,
                        null
                      ],
                      "y": [
                        -2.050233410165612,
                        -0.09966429509591102,
                        -4.404817816061655,
                        -8.72615343470666,
                        -5.563544728855723,
                        -2.33503735088553,
                        4.249155554843304,
                        5.370013999650665,
                        -5.324360445111365,
                        2.9688072493662663,
                        null
                      ]
                    }
                  ],
                  "name": "2024-11-01 11:46:24",
                  "traces": [
                    0,
                    1,
                    2,
                    3,
                    4
                  ]
                },
                {
                  "data": [
                    {
                      "type": "scatter",
                      "x": [
                        0,
                        0
                      ],
                      "y": [
                        0,
                        0
                      ]
                    },
                    {
                      "hovertemplate": "GroundTruthState<br>(%{x}, %{y})<br>Time: %{meta}",
                      "meta": [
                        "2024-11-01 11:46:23",
                        "2024-11-01 11:46:24",
                        "2024-11-01 11:46:25"
                      ],
                      "type": "scatter",
                      "x": [
                        0,
                        1.0560429805265472,
                        2.0871090094870777,
                        null
                      ],
                      "y": [
                        0,
                        1.0002136913507915,
                        2.0097169051278136,
                        null
                      ]
                    },
                    {
                      "type": "scatter",
                      "x": [
                        null,
                        null
                      ],
                      "y": [
                        null,
                        null
                      ]
                    },
                    {
                      "hovertemplate": "Detection<br>(%{x}, %{y})<br>Time: %{meta}",
                      "meta": [
                        "2024-11-01 11:46:23",
                        "2024-11-01 11:46:24",
                        "2024-11-01 11:46:25"
                      ],
                      "type": "scatter",
                      "x": [
                        0.024509367079263666,
                        0.3954661203145644,
                        2.209235781123469,
                        null
                      ],
                      "y": [
                        0.5202208082239121,
                        0.6268126681876752,
                        2.3435536247487607,
                        null
                      ]
                    },
                    {
                      "hovertemplate": "Clutter<br>(%{x}, %{y})<br>Time: %{meta}",
                      "meta": [
                        "2024-11-01 11:46:23",
                        "2024-11-01 11:46:23",
                        "2024-11-01 11:46:23",
                        "2024-11-01 11:46:23",
                        "2024-11-01 11:46:23",
                        "2024-11-01 11:46:24",
                        "2024-11-01 11:46:24",
                        "2024-11-01 11:46:24",
                        "2024-11-01 11:46:24",
                        "2024-11-01 11:46:24",
                        "2024-11-01 11:46:25",
                        "2024-11-01 11:46:25",
                        "2024-11-01 11:46:25",
                        "2024-11-01 11:46:25",
                        "2024-11-01 11:46:25",
                        "2024-11-01 11:46:25",
                        "2024-11-01 11:46:25"
                      ],
                      "type": "scatter",
                      "x": [
                        6.8450447360252795,
                        -0.5925571557114235,
                        -9.841536707084932,
                        -5.099913717846882,
                        -2.7506574434162756,
                        5.623949298672091,
                        0.896358631336053,
                        -3.658619985028256,
                        3.3187677378535483,
                        5.850994664882053,
                        -6.790410277557795,
                        2.698815071254005,
                        11.282428822785326,
                        11.32042433636373,
                        -1.474329059236986,
                        10.322060405517517,
                        3.2483323415259004,
                        null
                      ],
                      "y": [
                        -2.050233410165612,
                        -0.09966429509591102,
                        -4.404817816061655,
                        -8.72615343470666,
                        -5.563544728855723,
                        -2.33503735088553,
                        4.249155554843304,
                        5.370013999650665,
                        -5.324360445111365,
                        2.9688072493662663,
                        5.8747218671789305,
                        -4.723204548853852,
                        -2.6024782664876476,
                        10.111407039780456,
                        10.029085012443296,
                        4.852636329535342,
                        9.840535042009503,
                        null
                      ]
                    }
                  ],
                  "name": "2024-11-01 11:46:25",
                  "traces": [
                    0,
                    1,
                    2,
                    3,
                    4
                  ]
                },
                {
                  "data": [
                    {
                      "type": "scatter",
                      "x": [
                        0,
                        0
                      ],
                      "y": [
                        0,
                        0
                      ]
                    },
                    {
                      "hovertemplate": "GroundTruthState<br>(%{x}, %{y})<br>Time: %{meta}",
                      "meta": [
                        "2024-11-01 11:46:23",
                        "2024-11-01 11:46:24",
                        "2024-11-01 11:46:25",
                        "2024-11-01 11:46:26"
                      ],
                      "type": "scatter",
                      "x": [
                        0,
                        1.0560429805265472,
                        2.0871090094870777,
                        3.049344171234631,
                        null
                      ],
                      "y": [
                        0,
                        1.0002136913507915,
                        2.0097169051278136,
                        3.0656770596553575,
                        null
                      ]
                    },
                    {
                      "type": "scatter",
                      "x": [
                        null,
                        null
                      ],
                      "y": [
                        null,
                        null
                      ]
                    },
                    {
                      "hovertemplate": "Detection<br>(%{x}, %{y})<br>Time: %{meta}",
                      "meta": [
                        "2024-11-01 11:46:23",
                        "2024-11-01 11:46:24",
                        "2024-11-01 11:46:25",
                        "2024-11-01 11:46:26"
                      ],
                      "type": "scatter",
                      "x": [
                        0.024509367079263666,
                        0.3954661203145644,
                        2.209235781123469,
                        2.9114210737926856,
                        null
                      ],
                      "y": [
                        0.5202208082239121,
                        0.6268126681876752,
                        2.3435536247487607,
                        2.5449618532030187,
                        null
                      ]
                    },
                    {
                      "hovertemplate": "Clutter<br>(%{x}, %{y})<br>Time: %{meta}",
                      "meta": [
                        "2024-11-01 11:46:23",
                        "2024-11-01 11:46:23",
                        "2024-11-01 11:46:23",
                        "2024-11-01 11:46:23",
                        "2024-11-01 11:46:23",
                        "2024-11-01 11:46:24",
                        "2024-11-01 11:46:24",
                        "2024-11-01 11:46:24",
                        "2024-11-01 11:46:24",
                        "2024-11-01 11:46:24",
                        "2024-11-01 11:46:25",
                        "2024-11-01 11:46:25",
                        "2024-11-01 11:46:25",
                        "2024-11-01 11:46:25",
                        "2024-11-01 11:46:25",
                        "2024-11-01 11:46:25",
                        "2024-11-01 11:46:25",
                        "2024-11-01 11:46:26",
                        "2024-11-01 11:46:26",
                        "2024-11-01 11:46:26",
                        "2024-11-01 11:46:26"
                      ],
                      "type": "scatter",
                      "x": [
                        6.8450447360252795,
                        -0.5925571557114235,
                        -9.841536707084932,
                        -5.099913717846882,
                        -2.7506574434162756,
                        5.623949298672091,
                        0.896358631336053,
                        -3.658619985028256,
                        3.3187677378535483,
                        5.850994664882053,
                        -6.790410277557795,
                        2.698815071254005,
                        11.282428822785326,
                        11.32042433636373,
                        -1.474329059236986,
                        10.322060405517517,
                        3.2483323415259004,
                        8.93859777930715,
                        -0.2825021212365719,
                        2.8999183814283267,
                        -0.5115467826555768,
                        null
                      ],
                      "y": [
                        -2.050233410165612,
                        -0.09966429509591102,
                        -4.404817816061655,
                        -8.72615343470666,
                        -5.563544728855723,
                        -2.33503735088553,
                        4.249155554843304,
                        5.370013999650665,
                        -5.324360445111365,
                        2.9688072493662663,
                        5.8747218671789305,
                        -4.723204548853852,
                        -2.6024782664876476,
                        10.111407039780456,
                        10.029085012443296,
                        4.852636329535342,
                        9.840535042009503,
                        -0.01941981084851019,
                        -0.8938217200062688,
                        9.98195151307322,
                        -4.177560490044009,
                        null
                      ]
                    }
                  ],
                  "name": "2024-11-01 11:46:26",
                  "traces": [
                    0,
                    1,
                    2,
                    3,
                    4
                  ]
                },
                {
                  "data": [
                    {
                      "type": "scatter",
                      "x": [
                        0,
                        0
                      ],
                      "y": [
                        0,
                        0
                      ]
                    },
                    {
                      "hovertemplate": "GroundTruthState<br>(%{x}, %{y})<br>Time: %{meta}",
                      "meta": [
                        "2024-11-01 11:46:23",
                        "2024-11-01 11:46:24",
                        "2024-11-01 11:46:25",
                        "2024-11-01 11:46:26",
                        "2024-11-01 11:46:27"
                      ],
                      "type": "scatter",
                      "x": [
                        0,
                        1.0560429805265472,
                        2.0871090094870777,
                        3.049344171234631,
                        4.035254516130913,
                        null
                      ],
                      "y": [
                        0,
                        1.0002136913507915,
                        2.0097169051278136,
                        3.0656770596553575,
                        4.215523952736348,
                        null
                      ]
                    },
                    {
                      "type": "scatter",
                      "x": [
                        null,
                        null
                      ],
                      "y": [
                        null,
                        null
                      ]
                    },
                    {
                      "hovertemplate": "Detection<br>(%{x}, %{y})<br>Time: %{meta}",
                      "meta": [
                        "2024-11-01 11:46:23",
                        "2024-11-01 11:46:24",
                        "2024-11-01 11:46:25",
                        "2024-11-01 11:46:26",
                        "2024-11-01 11:46:27"
                      ],
                      "type": "scatter",
                      "x": [
                        0.024509367079263666,
                        0.3954661203145644,
                        2.209235781123469,
                        2.9114210737926856,
                        3.1835218470644002,
                        null
                      ],
                      "y": [
                        0.5202208082239121,
                        0.6268126681876752,
                        2.3435536247487607,
                        2.5449618532030187,
                        3.4763241167318055,
                        null
                      ]
                    },
                    {
                      "hovertemplate": "Clutter<br>(%{x}, %{y})<br>Time: %{meta}",
                      "meta": [
                        "2024-11-01 11:46:23",
                        "2024-11-01 11:46:23",
                        "2024-11-01 11:46:23",
                        "2024-11-01 11:46:23",
                        "2024-11-01 11:46:23",
                        "2024-11-01 11:46:24",
                        "2024-11-01 11:46:24",
                        "2024-11-01 11:46:24",
                        "2024-11-01 11:46:24",
                        "2024-11-01 11:46:24",
                        "2024-11-01 11:46:25",
                        "2024-11-01 11:46:25",
                        "2024-11-01 11:46:25",
                        "2024-11-01 11:46:25",
                        "2024-11-01 11:46:25",
                        "2024-11-01 11:46:25",
                        "2024-11-01 11:46:25",
                        "2024-11-01 11:46:26",
                        "2024-11-01 11:46:26",
                        "2024-11-01 11:46:26",
                        "2024-11-01 11:46:26",
                        "2024-11-01 11:46:27",
                        "2024-11-01 11:46:27"
                      ],
                      "type": "scatter",
                      "x": [
                        6.8450447360252795,
                        -0.5925571557114235,
                        -9.841536707084932,
                        -5.099913717846882,
                        -2.7506574434162756,
                        5.623949298672091,
                        0.896358631336053,
                        -3.658619985028256,
                        3.3187677378535483,
                        5.850994664882053,
                        -6.790410277557795,
                        2.698815071254005,
                        11.282428822785326,
                        11.32042433636373,
                        -1.474329059236986,
                        10.322060405517517,
                        3.2483323415259004,
                        8.93859777930715,
                        -0.2825021212365719,
                        2.8999183814283267,
                        -0.5115467826555768,
                        2.2698667104575163,
                        11.114707367986771,
                        null
                      ],
                      "y": [
                        -2.050233410165612,
                        -0.09966429509591102,
                        -4.404817816061655,
                        -8.72615343470666,
                        -5.563544728855723,
                        -2.33503735088553,
                        4.249155554843304,
                        5.370013999650665,
                        -5.324360445111365,
                        2.9688072493662663,
                        5.8747218671789305,
                        -4.723204548853852,
                        -2.6024782664876476,
                        10.111407039780456,
                        10.029085012443296,
                        4.852636329535342,
                        9.840535042009503,
                        -0.01941981084851019,
                        -0.8938217200062688,
                        9.98195151307322,
                        -4.177560490044009,
                        -1.6901767463231323,
                        -5.2305328021094075,
                        null
                      ]
                    }
                  ],
                  "name": "2024-11-01 11:46:27",
                  "traces": [
                    0,
                    1,
                    2,
                    3,
                    4
                  ]
                },
                {
                  "data": [
                    {
                      "type": "scatter",
                      "x": [
                        0,
                        0
                      ],
                      "y": [
                        0,
                        0
                      ]
                    },
                    {
                      "hovertemplate": "GroundTruthState<br>(%{x}, %{y})<br>Time: %{meta}",
                      "meta": [
                        "2024-11-01 11:46:23",
                        "2024-11-01 11:46:24",
                        "2024-11-01 11:46:25",
                        "2024-11-01 11:46:26",
                        "2024-11-01 11:46:27",
                        "2024-11-01 11:46:28"
                      ],
                      "type": "scatter",
                      "x": [
                        0,
                        1.0560429805265472,
                        2.0871090094870777,
                        3.049344171234631,
                        4.035254516130913,
                        5.021794006527739,
                        null
                      ],
                      "y": [
                        0,
                        1.0002136913507915,
                        2.0097169051278136,
                        3.0656770596553575,
                        4.215523952736348,
                        5.45033879682299,
                        null
                      ]
                    },
                    {
                      "type": "scatter",
                      "x": [
                        null,
                        null
                      ],
                      "y": [
                        null,
                        null
                      ]
                    },
                    {
                      "hovertemplate": "Detection<br>(%{x}, %{y})<br>Time: %{meta}",
                      "meta": [
                        "2024-11-01 11:46:23",
                        "2024-11-01 11:46:24",
                        "2024-11-01 11:46:25",
                        "2024-11-01 11:46:26",
                        "2024-11-01 11:46:27",
                        "2024-11-01 11:46:28"
                      ],
                      "type": "scatter",
                      "x": [
                        0.024509367079263666,
                        0.3954661203145644,
                        2.209235781123469,
                        2.9114210737926856,
                        3.1835218470644002,
                        6.012096786906354,
                        null
                      ],
                      "y": [
                        0.5202208082239121,
                        0.6268126681876752,
                        2.3435536247487607,
                        2.5449618532030187,
                        3.4763241167318055,
                        7.942997574754449,
                        null
                      ]
                    },
                    {
                      "hovertemplate": "Clutter<br>(%{x}, %{y})<br>Time: %{meta}",
                      "meta": [
                        "2024-11-01 11:46:23",
                        "2024-11-01 11:46:23",
                        "2024-11-01 11:46:23",
                        "2024-11-01 11:46:23",
                        "2024-11-01 11:46:23",
                        "2024-11-01 11:46:24",
                        "2024-11-01 11:46:24",
                        "2024-11-01 11:46:24",
                        "2024-11-01 11:46:24",
                        "2024-11-01 11:46:24",
                        "2024-11-01 11:46:25",
                        "2024-11-01 11:46:25",
                        "2024-11-01 11:46:25",
                        "2024-11-01 11:46:25",
                        "2024-11-01 11:46:25",
                        "2024-11-01 11:46:25",
                        "2024-11-01 11:46:25",
                        "2024-11-01 11:46:26",
                        "2024-11-01 11:46:26",
                        "2024-11-01 11:46:26",
                        "2024-11-01 11:46:26",
                        "2024-11-01 11:46:27",
                        "2024-11-01 11:46:27",
                        "2024-11-01 11:46:28",
                        "2024-11-01 11:46:28",
                        "2024-11-01 11:46:28",
                        "2024-11-01 11:46:28",
                        "2024-11-01 11:46:28",
                        "2024-11-01 11:46:28",
                        "2024-11-01 11:46:28"
                      ],
                      "type": "scatter",
                      "x": [
                        6.8450447360252795,
                        -0.5925571557114235,
                        -9.841536707084932,
                        -5.099913717846882,
                        -2.7506574434162756,
                        5.623949298672091,
                        0.896358631336053,
                        -3.658619985028256,
                        3.3187677378535483,
                        5.850994664882053,
                        -6.790410277557795,
                        2.698815071254005,
                        11.282428822785326,
                        11.32042433636373,
                        -1.474329059236986,
                        10.322060405517517,
                        3.2483323415259004,
                        8.93859777930715,
                        -0.2825021212365719,
                        2.8999183814283267,
                        -0.5115467826555768,
                        2.2698667104575163,
                        11.114707367986771,
                        14.416390342308112,
                        -3.295894975407959,
                        -0.6859346549073058,
                        -2.9473233096693106,
                        12.97119267226589,
                        6.029844385559195,
                        -0.4194182346202,
                        null
                      ],
                      "y": [
                        -2.050233410165612,
                        -0.09966429509591102,
                        -4.404817816061655,
                        -8.72615343470666,
                        -5.563544728855723,
                        -2.33503735088553,
                        4.249155554843304,
                        5.370013999650665,
                        -5.324360445111365,
                        2.9688072493662663,
                        5.8747218671789305,
                        -4.723204548853852,
                        -2.6024782664876476,
                        10.111407039780456,
                        10.029085012443296,
                        4.852636329535342,
                        9.840535042009503,
                        -0.01941981084851019,
                        -0.8938217200062688,
                        9.98195151307322,
                        -4.177560490044009,
                        -1.6901767463231323,
                        -5.2305328021094075,
                        14.621745083566854,
                        13.053211155554425,
                        -2.0283738952029426,
                        10.751968259787807,
                        2.5926045974020635,
                        7.64585067371058,
                        -1.7523286235532485,
                        null
                      ]
                    }
                  ],
                  "name": "2024-11-01 11:46:28",
                  "traces": [
                    0,
                    1,
                    2,
                    3,
                    4
                  ]
                },
                {
                  "data": [
                    {
                      "type": "scatter",
                      "x": [
                        0,
                        0
                      ],
                      "y": [
                        0,
                        0
                      ]
                    },
                    {
                      "hovertemplate": "GroundTruthState<br>(%{x}, %{y})<br>Time: %{meta}",
                      "meta": [
                        "2024-11-01 11:46:23",
                        "2024-11-01 11:46:24",
                        "2024-11-01 11:46:25",
                        "2024-11-01 11:46:26",
                        "2024-11-01 11:46:27",
                        "2024-11-01 11:46:28",
                        "2024-11-01 11:46:29"
                      ],
                      "type": "scatter",
                      "x": [
                        0,
                        1.0560429805265472,
                        2.0871090094870777,
                        3.049344171234631,
                        4.035254516130913,
                        5.021794006527739,
                        6.0424073988889715,
                        null
                      ],
                      "y": [
                        0,
                        1.0002136913507915,
                        2.0097169051278136,
                        3.0656770596553575,
                        4.215523952736348,
                        5.45033879682299,
                        6.724654049033004,
                        null
                      ]
                    },
                    {
                      "type": "scatter",
                      "x": [
                        null,
                        null
                      ],
                      "y": [
                        null,
                        null
                      ]
                    },
                    {
                      "hovertemplate": "Detection<br>(%{x}, %{y})<br>Time: %{meta}",
                      "meta": [
                        "2024-11-01 11:46:23",
                        "2024-11-01 11:46:24",
                        "2024-11-01 11:46:25",
                        "2024-11-01 11:46:26",
                        "2024-11-01 11:46:27",
                        "2024-11-01 11:46:28",
                        "2024-11-01 11:46:29"
                      ],
                      "type": "scatter",
                      "x": [
                        0.024509367079263666,
                        0.3954661203145644,
                        2.209235781123469,
                        2.9114210737926856,
                        3.1835218470644002,
                        6.012096786906354,
                        6.608185083307628,
                        null
                      ],
                      "y": [
                        0.5202208082239121,
                        0.6268126681876752,
                        2.3435536247487607,
                        2.5449618532030187,
                        3.4763241167318055,
                        7.942997574754449,
                        6.079638574508856,
                        null
                      ]
                    },
                    {
                      "hovertemplate": "Clutter<br>(%{x}, %{y})<br>Time: %{meta}",
                      "meta": [
                        "2024-11-01 11:46:23",
                        "2024-11-01 11:46:23",
                        "2024-11-01 11:46:23",
                        "2024-11-01 11:46:23",
                        "2024-11-01 11:46:23",
                        "2024-11-01 11:46:24",
                        "2024-11-01 11:46:24",
                        "2024-11-01 11:46:24",
                        "2024-11-01 11:46:24",
                        "2024-11-01 11:46:24",
                        "2024-11-01 11:46:25",
                        "2024-11-01 11:46:25",
                        "2024-11-01 11:46:25",
                        "2024-11-01 11:46:25",
                        "2024-11-01 11:46:25",
                        "2024-11-01 11:46:25",
                        "2024-11-01 11:46:25",
                        "2024-11-01 11:46:26",
                        "2024-11-01 11:46:26",
                        "2024-11-01 11:46:26",
                        "2024-11-01 11:46:26",
                        "2024-11-01 11:46:27",
                        "2024-11-01 11:46:27",
                        "2024-11-01 11:46:28",
                        "2024-11-01 11:46:28",
                        "2024-11-01 11:46:28",
                        "2024-11-01 11:46:28",
                        "2024-11-01 11:46:28",
                        "2024-11-01 11:46:28",
                        "2024-11-01 11:46:28",
                        "2024-11-01 11:46:29"
                      ],
                      "type": "scatter",
                      "x": [
                        6.8450447360252795,
                        -0.5925571557114235,
                        -9.841536707084932,
                        -5.099913717846882,
                        -2.7506574434162756,
                        5.623949298672091,
                        0.896358631336053,
                        -3.658619985028256,
                        3.3187677378535483,
                        5.850994664882053,
                        -6.790410277557795,
                        2.698815071254005,
                        11.282428822785326,
                        11.32042433636373,
                        -1.474329059236986,
                        10.322060405517517,
                        3.2483323415259004,
                        8.93859777930715,
                        -0.2825021212365719,
                        2.8999183814283267,
                        -0.5115467826555768,
                        2.2698667104575163,
                        11.114707367986771,
                        14.416390342308112,
                        -3.295894975407959,
                        -0.6859346549073058,
                        -2.9473233096693106,
                        12.97119267226589,
                        6.029844385559195,
                        -0.4194182346202,
                        -2.113222994604722,
                        null
                      ],
                      "y": [
                        -2.050233410165612,
                        -0.09966429509591102,
                        -4.404817816061655,
                        -8.72615343470666,
                        -5.563544728855723,
                        -2.33503735088553,
                        4.249155554843304,
                        5.370013999650665,
                        -5.324360445111365,
                        2.9688072493662663,
                        5.8747218671789305,
                        -4.723204548853852,
                        -2.6024782664876476,
                        10.111407039780456,
                        10.029085012443296,
                        4.852636329535342,
                        9.840535042009503,
                        -0.01941981084851019,
                        -0.8938217200062688,
                        9.98195151307322,
                        -4.177560490044009,
                        -1.6901767463231323,
                        -5.2305328021094075,
                        14.621745083566854,
                        13.053211155554425,
                        -2.0283738952029426,
                        10.751968259787807,
                        2.5926045974020635,
                        7.64585067371058,
                        -1.7523286235532485,
                        14.975537229405344,
                        null
                      ]
                    }
                  ],
                  "name": "2024-11-01 11:46:29",
                  "traces": [
                    0,
                    1,
                    2,
                    3,
                    4
                  ]
                },
                {
                  "data": [
                    {
                      "type": "scatter",
                      "x": [
                        0,
                        0
                      ],
                      "y": [
                        0,
                        0
                      ]
                    },
                    {
                      "hovertemplate": "GroundTruthState<br>(%{x}, %{y})<br>Time: %{meta}",
                      "meta": [
                        "2024-11-01 11:46:24",
                        "2024-11-01 11:46:25",
                        "2024-11-01 11:46:26",
                        "2024-11-01 11:46:27",
                        "2024-11-01 11:46:28",
                        "2024-11-01 11:46:29",
                        "2024-11-01 11:46:30"
                      ],
                      "type": "scatter",
                      "x": [
                        1.0560429805265472,
                        2.0871090094870777,
                        3.049344171234631,
                        4.035254516130913,
                        5.021794006527739,
                        6.0424073988889715,
                        7.106461743252968,
                        null
                      ],
                      "y": [
                        1.0002136913507915,
                        2.0097169051278136,
                        3.0656770596553575,
                        4.215523952736348,
                        5.45033879682299,
                        6.724654049033004,
                        8.015133207951292,
                        null
                      ]
                    },
                    {
                      "type": "scatter",
                      "x": [
                        null,
                        null
                      ],
                      "y": [
                        null,
                        null
                      ]
                    },
                    {
                      "hovertemplate": "Detection<br>(%{x}, %{y})<br>Time: %{meta}",
                      "meta": [
                        "2024-11-01 11:46:24",
                        "2024-11-01 11:46:25",
                        "2024-11-01 11:46:26",
                        "2024-11-01 11:46:27",
                        "2024-11-01 11:46:28",
                        "2024-11-01 11:46:29",
                        "2024-11-01 11:46:30"
                      ],
                      "type": "scatter",
                      "x": [
                        0.3954661203145644,
                        2.209235781123469,
                        2.9114210737926856,
                        3.1835218470644002,
                        6.012096786906354,
                        6.608185083307628,
                        5.881154401900239,
                        null
                      ],
                      "y": [
                        0.6268126681876752,
                        2.3435536247487607,
                        2.5449618532030187,
                        3.4763241167318055,
                        7.942997574754449,
                        6.079638574508856,
                        8.273313820175215,
                        null
                      ]
                    },
                    {
                      "hovertemplate": "Clutter<br>(%{x}, %{y})<br>Time: %{meta}",
                      "meta": [
                        "2024-11-01 11:46:24",
                        "2024-11-01 11:46:24",
                        "2024-11-01 11:46:24",
                        "2024-11-01 11:46:24",
                        "2024-11-01 11:46:24",
                        "2024-11-01 11:46:25",
                        "2024-11-01 11:46:25",
                        "2024-11-01 11:46:25",
                        "2024-11-01 11:46:25",
                        "2024-11-01 11:46:25",
                        "2024-11-01 11:46:25",
                        "2024-11-01 11:46:25",
                        "2024-11-01 11:46:26",
                        "2024-11-01 11:46:26",
                        "2024-11-01 11:46:26",
                        "2024-11-01 11:46:26",
                        "2024-11-01 11:46:27",
                        "2024-11-01 11:46:27",
                        "2024-11-01 11:46:28",
                        "2024-11-01 11:46:28",
                        "2024-11-01 11:46:28",
                        "2024-11-01 11:46:28",
                        "2024-11-01 11:46:28",
                        "2024-11-01 11:46:28",
                        "2024-11-01 11:46:28",
                        "2024-11-01 11:46:29",
                        "2024-11-01 11:46:30",
                        "2024-11-01 11:46:30",
                        "2024-11-01 11:46:30",
                        "2024-11-01 11:46:30"
                      ],
                      "type": "scatter",
                      "x": [
                        5.623949298672091,
                        0.896358631336053,
                        -3.658619985028256,
                        3.3187677378535483,
                        5.850994664882053,
                        -6.790410277557795,
                        2.698815071254005,
                        11.282428822785326,
                        11.32042433636373,
                        -1.474329059236986,
                        10.322060405517517,
                        3.2483323415259004,
                        8.93859777930715,
                        -0.2825021212365719,
                        2.8999183814283267,
                        -0.5115467826555768,
                        2.2698667104575163,
                        11.114707367986771,
                        14.416390342308112,
                        -3.295894975407959,
                        -0.6859346549073058,
                        -2.9473233096693106,
                        12.97119267226589,
                        6.029844385559195,
                        -0.4194182346202,
                        -2.113222994604722,
                        9.871815243492948,
                        2.5063234822041807,
                        9.385770130748918,
                        4.95967343745062,
                        null
                      ],
                      "y": [
                        -2.33503735088553,
                        4.249155554843304,
                        5.370013999650665,
                        -5.324360445111365,
                        2.9688072493662663,
                        5.8747218671789305,
                        -4.723204548853852,
                        -2.6024782664876476,
                        10.111407039780456,
                        10.029085012443296,
                        4.852636329535342,
                        9.840535042009503,
                        -0.01941981084851019,
                        -0.8938217200062688,
                        9.98195151307322,
                        -4.177560490044009,
                        -1.6901767463231323,
                        -5.2305328021094075,
                        14.621745083566854,
                        13.053211155554425,
                        -2.0283738952029426,
                        10.751968259787807,
                        2.5926045974020635,
                        7.64585067371058,
                        -1.7523286235532485,
                        14.975537229405344,
                        6.566479336748516,
                        8.211626962353158,
                        9.642825408722175,
                        7.716846342382114,
                        null
                      ]
                    }
                  ],
                  "name": "2024-11-01 11:46:30",
                  "traces": [
                    0,
                    1,
                    2,
                    3,
                    4
                  ]
                },
                {
                  "data": [
                    {
                      "type": "scatter",
                      "x": [
                        0,
                        0
                      ],
                      "y": [
                        0,
                        0
                      ]
                    },
                    {
                      "hovertemplate": "GroundTruthState<br>(%{x}, %{y})<br>Time: %{meta}",
                      "meta": [
                        "2024-11-01 11:46:25",
                        "2024-11-01 11:46:26",
                        "2024-11-01 11:46:27",
                        "2024-11-01 11:46:28",
                        "2024-11-01 11:46:29",
                        "2024-11-01 11:46:30",
                        "2024-11-01 11:46:31"
                      ],
                      "type": "scatter",
                      "x": [
                        2.0871090094870777,
                        3.049344171234631,
                        4.035254516130913,
                        5.021794006527739,
                        6.0424073988889715,
                        7.106461743252968,
                        8.224123195449215,
                        null
                      ],
                      "y": [
                        2.0097169051278136,
                        3.0656770596553575,
                        4.215523952736348,
                        5.45033879682299,
                        6.724654049033004,
                        8.015133207951292,
                        9.467034723032649,
                        null
                      ]
                    },
                    {
                      "type": "scatter",
                      "x": [
                        null,
                        null
                      ],
                      "y": [
                        null,
                        null
                      ]
                    },
                    {
                      "hovertemplate": "Detection<br>(%{x}, %{y})<br>Time: %{meta}",
                      "meta": [
                        "2024-11-01 11:46:25",
                        "2024-11-01 11:46:26",
                        "2024-11-01 11:46:27",
                        "2024-11-01 11:46:28",
                        "2024-11-01 11:46:29",
                        "2024-11-01 11:46:30",
                        "2024-11-01 11:46:31"
                      ],
                      "type": "scatter",
                      "x": [
                        2.209235781123469,
                        2.9114210737926856,
                        3.1835218470644002,
                        6.012096786906354,
                        6.608185083307628,
                        5.881154401900239,
                        7.314946729915822,
                        null
                      ],
                      "y": [
                        2.3435536247487607,
                        2.5449618532030187,
                        3.4763241167318055,
                        7.942997574754449,
                        6.079638574508856,
                        8.273313820175215,
                        10.102385506435162,
                        null
                      ]
                    },
                    {
                      "hovertemplate": "Clutter<br>(%{x}, %{y})<br>Time: %{meta}",
                      "meta": [
                        "2024-11-01 11:46:25",
                        "2024-11-01 11:46:25",
                        "2024-11-01 11:46:25",
                        "2024-11-01 11:46:25",
                        "2024-11-01 11:46:25",
                        "2024-11-01 11:46:25",
                        "2024-11-01 11:46:25",
                        "2024-11-01 11:46:26",
                        "2024-11-01 11:46:26",
                        "2024-11-01 11:46:26",
                        "2024-11-01 11:46:26",
                        "2024-11-01 11:46:27",
                        "2024-11-01 11:46:27",
                        "2024-11-01 11:46:28",
                        "2024-11-01 11:46:28",
                        "2024-11-01 11:46:28",
                        "2024-11-01 11:46:28",
                        "2024-11-01 11:46:28",
                        "2024-11-01 11:46:28",
                        "2024-11-01 11:46:28",
                        "2024-11-01 11:46:29",
                        "2024-11-01 11:46:30",
                        "2024-11-01 11:46:30",
                        "2024-11-01 11:46:30",
                        "2024-11-01 11:46:30",
                        "2024-11-01 11:46:31",
                        "2024-11-01 11:46:31",
                        "2024-11-01 11:46:31",
                        "2024-11-01 11:46:31",
                        "2024-11-01 11:46:31",
                        "2024-11-01 11:46:31"
                      ],
                      "type": "scatter",
                      "x": [
                        -6.790410277557795,
                        2.698815071254005,
                        11.282428822785326,
                        11.32042433636373,
                        -1.474329059236986,
                        10.322060405517517,
                        3.2483323415259004,
                        8.93859777930715,
                        -0.2825021212365719,
                        2.8999183814283267,
                        -0.5115467826555768,
                        2.2698667104575163,
                        11.114707367986771,
                        14.416390342308112,
                        -3.295894975407959,
                        -0.6859346549073058,
                        -2.9473233096693106,
                        12.97119267226589,
                        6.029844385559195,
                        -0.4194182346202,
                        -2.113222994604722,
                        9.871815243492948,
                        2.5063234822041807,
                        9.385770130748918,
                        4.95967343745062,
                        3.921157925800822,
                        7.257549372660787,
                        2.475919857189078,
                        12.718870861698576,
                        7.447386302200798,
                        13.573485595661301,
                        null
                      ],
                      "y": [
                        5.8747218671789305,
                        -4.723204548853852,
                        -2.6024782664876476,
                        10.111407039780456,
                        10.029085012443296,
                        4.852636329535342,
                        9.840535042009503,
                        -0.01941981084851019,
                        -0.8938217200062688,
                        9.98195151307322,
                        -4.177560490044009,
                        -1.6901767463231323,
                        -5.2305328021094075,
                        14.621745083566854,
                        13.053211155554425,
                        -2.0283738952029426,
                        10.751968259787807,
                        2.5926045974020635,
                        7.64585067371058,
                        -1.7523286235532485,
                        14.975537229405344,
                        6.566479336748516,
                        8.211626962353158,
                        9.642825408722175,
                        7.716846342382114,
                        19.35932005764407,
                        13.770259735391344,
                        8.521273132445234,
                        15.98295839022479,
                        1.8324527419394063,
                        6.396609087110986,
                        null
                      ]
                    }
                  ],
                  "name": "2024-11-01 11:46:31",
                  "traces": [
                    0,
                    1,
                    2,
                    3,
                    4
                  ]
                },
                {
                  "data": [
                    {
                      "type": "scatter",
                      "x": [
                        0,
                        0
                      ],
                      "y": [
                        0,
                        0
                      ]
                    },
                    {
                      "hovertemplate": "GroundTruthState<br>(%{x}, %{y})<br>Time: %{meta}",
                      "meta": [
                        "2024-11-01 11:46:26",
                        "2024-11-01 11:46:27",
                        "2024-11-01 11:46:28",
                        "2024-11-01 11:46:29",
                        "2024-11-01 11:46:30",
                        "2024-11-01 11:46:31",
                        "2024-11-01 11:46:32"
                      ],
                      "type": "scatter",
                      "x": [
                        3.049344171234631,
                        4.035254516130913,
                        5.021794006527739,
                        6.0424073988889715,
                        7.106461743252968,
                        8.224123195449215,
                        9.209238100519523,
                        null
                      ],
                      "y": [
                        3.0656770596553575,
                        4.215523952736348,
                        5.45033879682299,
                        6.724654049033004,
                        8.015133207951292,
                        9.467034723032649,
                        10.921792166951443,
                        null
                      ]
                    },
                    {
                      "type": "scatter",
                      "x": [
                        null,
                        null
                      ],
                      "y": [
                        null,
                        null
                      ]
                    },
                    {
                      "hovertemplate": "Detection<br>(%{x}, %{y})<br>Time: %{meta}",
                      "meta": [
                        "2024-11-01 11:46:26",
                        "2024-11-01 11:46:27",
                        "2024-11-01 11:46:28",
                        "2024-11-01 11:46:29",
                        "2024-11-01 11:46:30",
                        "2024-11-01 11:46:31",
                        "2024-11-01 11:46:32"
                      ],
                      "type": "scatter",
                      "x": [
                        2.9114210737926856,
                        3.1835218470644002,
                        6.012096786906354,
                        6.608185083307628,
                        5.881154401900239,
                        7.314946729915822,
                        8.970774699865254,
                        null
                      ],
                      "y": [
                        2.5449618532030187,
                        3.4763241167318055,
                        7.942997574754449,
                        6.079638574508856,
                        8.273313820175215,
                        10.102385506435162,
                        12.973331345839838,
                        null
                      ]
                    },
                    {
                      "hovertemplate": "Clutter<br>(%{x}, %{y})<br>Time: %{meta}",
                      "meta": [
                        "2024-11-01 11:46:26",
                        "2024-11-01 11:46:26",
                        "2024-11-01 11:46:26",
                        "2024-11-01 11:46:26",
                        "2024-11-01 11:46:27",
                        "2024-11-01 11:46:27",
                        "2024-11-01 11:46:28",
                        "2024-11-01 11:46:28",
                        "2024-11-01 11:46:28",
                        "2024-11-01 11:46:28",
                        "2024-11-01 11:46:28",
                        "2024-11-01 11:46:28",
                        "2024-11-01 11:46:28",
                        "2024-11-01 11:46:29",
                        "2024-11-01 11:46:30",
                        "2024-11-01 11:46:30",
                        "2024-11-01 11:46:30",
                        "2024-11-01 11:46:30",
                        "2024-11-01 11:46:31",
                        "2024-11-01 11:46:31",
                        "2024-11-01 11:46:31",
                        "2024-11-01 11:46:31",
                        "2024-11-01 11:46:31",
                        "2024-11-01 11:46:31",
                        "2024-11-01 11:46:32",
                        "2024-11-01 11:46:32",
                        "2024-11-01 11:46:32",
                        "2024-11-01 11:46:32",
                        "2024-11-01 11:46:32",
                        "2024-11-01 11:46:32",
                        "2024-11-01 11:46:32",
                        "2024-11-01 11:46:32"
                      ],
                      "type": "scatter",
                      "x": [
                        8.93859777930715,
                        -0.2825021212365719,
                        2.8999183814283267,
                        -0.5115467826555768,
                        2.2698667104575163,
                        11.114707367986771,
                        14.416390342308112,
                        -3.295894975407959,
                        -0.6859346549073058,
                        -2.9473233096693106,
                        12.97119267226589,
                        6.029844385559195,
                        -0.4194182346202,
                        -2.113222994604722,
                        9.871815243492948,
                        2.5063234822041807,
                        9.385770130748918,
                        4.95967343745062,
                        3.921157925800822,
                        7.257549372660787,
                        2.475919857189078,
                        12.718870861698576,
                        7.447386302200798,
                        13.573485595661301,
                        1.0853855503351908,
                        10.690386455619398,
                        7.208149404517586,
                        -0.1259233166476701,
                        11.74762076907948,
                        19.09479799773741,
                        17.3224358089386,
                        5.043875297942094,
                        null
                      ],
                      "y": [
                        -0.01941981084851019,
                        -0.8938217200062688,
                        9.98195151307322,
                        -4.177560490044009,
                        -1.6901767463231323,
                        -5.2305328021094075,
                        14.621745083566854,
                        13.053211155554425,
                        -2.0283738952029426,
                        10.751968259787807,
                        2.5926045974020635,
                        7.64585067371058,
                        -1.7523286235532485,
                        14.975537229405344,
                        6.566479336748516,
                        8.211626962353158,
                        9.642825408722175,
                        7.716846342382114,
                        19.35932005764407,
                        13.770259735391344,
                        8.521273132445234,
                        15.98295839022479,
                        1.8324527419394063,
                        6.396609087110986,
                        8.77388703374307,
                        9.76907949246,
                        1.6876640262180032,
                        20.25536859479137,
                        8.698657642869616,
                        14.495537523926702,
                        9.622286082442228,
                        18.91023732354538,
                        null
                      ]
                    }
                  ],
                  "name": "2024-11-01 11:46:32",
                  "traces": [
                    0,
                    1,
                    2,
                    3,
                    4
                  ]
                },
                {
                  "data": [
                    {
                      "type": "scatter",
                      "x": [
                        0,
                        0
                      ],
                      "y": [
                        0,
                        0
                      ]
                    },
                    {
                      "hovertemplate": "GroundTruthState<br>(%{x}, %{y})<br>Time: %{meta}",
                      "meta": [
                        "2024-11-01 11:46:27",
                        "2024-11-01 11:46:28",
                        "2024-11-01 11:46:29",
                        "2024-11-01 11:46:30",
                        "2024-11-01 11:46:31",
                        "2024-11-01 11:46:32",
                        "2024-11-01 11:46:33"
                      ],
                      "type": "scatter",
                      "x": [
                        4.035254516130913,
                        5.021794006527739,
                        6.0424073988889715,
                        7.106461743252968,
                        8.224123195449215,
                        9.209238100519523,
                        10.091524942750768,
                        null
                      ],
                      "y": [
                        4.215523952736348,
                        5.45033879682299,
                        6.724654049033004,
                        8.015133207951292,
                        9.467034723032649,
                        10.921792166951443,
                        12.360286222626502,
                        null
                      ]
                    },
                    {
                      "type": "scatter",
                      "x": [
                        null,
                        null
                      ],
                      "y": [
                        null,
                        null
                      ]
                    },
                    {
                      "hovertemplate": "Detection<br>(%{x}, %{y})<br>Time: %{meta}",
                      "meta": [
                        "2024-11-01 11:46:27",
                        "2024-11-01 11:46:28",
                        "2024-11-01 11:46:29",
                        "2024-11-01 11:46:30",
                        "2024-11-01 11:46:31",
                        "2024-11-01 11:46:32",
                        "2024-11-01 11:46:33"
                      ],
                      "type": "scatter",
                      "x": [
                        3.1835218470644002,
                        6.012096786906354,
                        6.608185083307628,
                        5.881154401900239,
                        7.314946729915822,
                        8.970774699865254,
                        10.865412930345748,
                        null
                      ],
                      "y": [
                        3.4763241167318055,
                        7.942997574754449,
                        6.079638574508856,
                        8.273313820175215,
                        10.102385506435162,
                        12.973331345839838,
                        12.788826091141713,
                        null
                      ]
                    },
                    {
                      "hovertemplate": "Clutter<br>(%{x}, %{y})<br>Time: %{meta}",
                      "meta": [
                        "2024-11-01 11:46:27",
                        "2024-11-01 11:46:27",
                        "2024-11-01 11:46:28",
                        "2024-11-01 11:46:28",
                        "2024-11-01 11:46:28",
                        "2024-11-01 11:46:28",
                        "2024-11-01 11:46:28",
                        "2024-11-01 11:46:28",
                        "2024-11-01 11:46:28",
                        "2024-11-01 11:46:29",
                        "2024-11-01 11:46:30",
                        "2024-11-01 11:46:30",
                        "2024-11-01 11:46:30",
                        "2024-11-01 11:46:30",
                        "2024-11-01 11:46:31",
                        "2024-11-01 11:46:31",
                        "2024-11-01 11:46:31",
                        "2024-11-01 11:46:31",
                        "2024-11-01 11:46:31",
                        "2024-11-01 11:46:31",
                        "2024-11-01 11:46:32",
                        "2024-11-01 11:46:32",
                        "2024-11-01 11:46:32",
                        "2024-11-01 11:46:32",
                        "2024-11-01 11:46:32",
                        "2024-11-01 11:46:32",
                        "2024-11-01 11:46:32",
                        "2024-11-01 11:46:32",
                        "2024-11-01 11:46:33"
                      ],
                      "type": "scatter",
                      "x": [
                        2.2698667104575163,
                        11.114707367986771,
                        14.416390342308112,
                        -3.295894975407959,
                        -0.6859346549073058,
                        -2.9473233096693106,
                        12.97119267226589,
                        6.029844385559195,
                        -0.4194182346202,
                        -2.113222994604722,
                        9.871815243492948,
                        2.5063234822041807,
                        9.385770130748918,
                        4.95967343745062,
                        3.921157925800822,
                        7.257549372660787,
                        2.475919857189078,
                        12.718870861698576,
                        7.447386302200798,
                        13.573485595661301,
                        1.0853855503351908,
                        10.690386455619398,
                        7.208149404517586,
                        -0.1259233166476701,
                        11.74762076907948,
                        19.09479799773741,
                        17.3224358089386,
                        5.043875297942094,
                        10.904125256424583,
                        null
                      ],
                      "y": [
                        -1.6901767463231323,
                        -5.2305328021094075,
                        14.621745083566854,
                        13.053211155554425,
                        -2.0283738952029426,
                        10.751968259787807,
                        2.5926045974020635,
                        7.64585067371058,
                        -1.7523286235532485,
                        14.975537229405344,
                        6.566479336748516,
                        8.211626962353158,
                        9.642825408722175,
                        7.716846342382114,
                        19.35932005764407,
                        13.770259735391344,
                        8.521273132445234,
                        15.98295839022479,
                        1.8324527419394063,
                        6.396609087110986,
                        8.77388703374307,
                        9.76907949246,
                        1.6876640262180032,
                        20.25536859479137,
                        8.698657642869616,
                        14.495537523926702,
                        9.622286082442228,
                        18.91023732354538,
                        3.395351806840208,
                        null
                      ]
                    }
                  ],
                  "name": "2024-11-01 11:46:33",
                  "traces": [
                    0,
                    1,
                    2,
                    3,
                    4
                  ]
                },
                {
                  "data": [
                    {
                      "type": "scatter",
                      "x": [
                        0,
                        0
                      ],
                      "y": [
                        0,
                        0
                      ]
                    },
                    {
                      "hovertemplate": "GroundTruthState<br>(%{x}, %{y})<br>Time: %{meta}",
                      "meta": [
                        "2024-11-01 11:46:28",
                        "2024-11-01 11:46:29",
                        "2024-11-01 11:46:30",
                        "2024-11-01 11:46:31",
                        "2024-11-01 11:46:32",
                        "2024-11-01 11:46:33",
                        "2024-11-01 11:46:34"
                      ],
                      "type": "scatter",
                      "x": [
                        5.021794006527739,
                        6.0424073988889715,
                        7.106461743252968,
                        8.224123195449215,
                        9.209238100519523,
                        10.091524942750768,
                        10.971070275320162,
                        null
                      ],
                      "y": [
                        5.45033879682299,
                        6.724654049033004,
                        8.015133207951292,
                        9.467034723032649,
                        10.921792166951443,
                        12.360286222626502,
                        13.821696431233978,
                        null
                      ]
                    },
                    {
                      "type": "scatter",
                      "x": [
                        null,
                        null
                      ],
                      "y": [
                        null,
                        null
                      ]
                    },
                    {
                      "hovertemplate": "Detection<br>(%{x}, %{y})<br>Time: %{meta}",
                      "meta": [
                        "2024-11-01 11:46:28",
                        "2024-11-01 11:46:29",
                        "2024-11-01 11:46:30",
                        "2024-11-01 11:46:31",
                        "2024-11-01 11:46:32",
                        "2024-11-01 11:46:33",
                        "2024-11-01 11:46:34"
                      ],
                      "type": "scatter",
                      "x": [
                        6.012096786906354,
                        6.608185083307628,
                        5.881154401900239,
                        7.314946729915822,
                        8.970774699865254,
                        10.865412930345748,
                        9.746622425395444,
                        null
                      ],
                      "y": [
                        7.942997574754449,
                        6.079638574508856,
                        8.273313820175215,
                        10.102385506435162,
                        12.973331345839838,
                        12.788826091141713,
                        14.359221315477548,
                        null
                      ]
                    },
                    {
                      "hovertemplate": "Clutter<br>(%{x}, %{y})<br>Time: %{meta}",
                      "meta": [
                        "2024-11-01 11:46:28",
                        "2024-11-01 11:46:28",
                        "2024-11-01 11:46:28",
                        "2024-11-01 11:46:28",
                        "2024-11-01 11:46:28",
                        "2024-11-01 11:46:28",
                        "2024-11-01 11:46:28",
                        "2024-11-01 11:46:29",
                        "2024-11-01 11:46:30",
                        "2024-11-01 11:46:30",
                        "2024-11-01 11:46:30",
                        "2024-11-01 11:46:30",
                        "2024-11-01 11:46:31",
                        "2024-11-01 11:46:31",
                        "2024-11-01 11:46:31",
                        "2024-11-01 11:46:31",
                        "2024-11-01 11:46:31",
                        "2024-11-01 11:46:31",
                        "2024-11-01 11:46:32",
                        "2024-11-01 11:46:32",
                        "2024-11-01 11:46:32",
                        "2024-11-01 11:46:32",
                        "2024-11-01 11:46:32",
                        "2024-11-01 11:46:32",
                        "2024-11-01 11:46:32",
                        "2024-11-01 11:46:32",
                        "2024-11-01 11:46:33",
                        "2024-11-01 11:46:34",
                        "2024-11-01 11:46:34",
                        "2024-11-01 11:46:34",
                        "2024-11-01 11:46:34",
                        "2024-11-01 11:46:34",
                        "2024-11-01 11:46:34",
                        "2024-11-01 11:46:34",
                        "2024-11-01 11:46:34",
                        "2024-11-01 11:46:34"
                      ],
                      "type": "scatter",
                      "x": [
                        14.416390342308112,
                        -3.295894975407959,
                        -0.6859346549073058,
                        -2.9473233096693106,
                        12.97119267226589,
                        6.029844385559195,
                        -0.4194182346202,
                        -2.113222994604722,
                        9.871815243492948,
                        2.5063234822041807,
                        9.385770130748918,
                        4.95967343745062,
                        3.921157925800822,
                        7.257549372660787,
                        2.475919857189078,
                        12.718870861698576,
                        7.447386302200798,
                        13.573485595661301,
                        1.0853855503351908,
                        10.690386455619398,
                        7.208149404517586,
                        -0.1259233166476701,
                        11.74762076907948,
                        19.09479799773741,
                        17.3224358089386,
                        5.043875297942094,
                        10.904125256424583,
                        7.909496138098941,
                        8.78407937047826,
                        10.154039802380565,
                        17.182302536978305,
                        10.569720715145547,
                        18.666830962284873,
                        15.415778048124608,
                        6.618658692073384,
                        11.277615804202421,
                        null
                      ],
                      "y": [
                        14.621745083566854,
                        13.053211155554425,
                        -2.0283738952029426,
                        10.751968259787807,
                        2.5926045974020635,
                        7.64585067371058,
                        -1.7523286235532485,
                        14.975537229405344,
                        6.566479336748516,
                        8.211626962353158,
                        9.642825408722175,
                        7.716846342382114,
                        19.35932005764407,
                        13.770259735391344,
                        8.521273132445234,
                        15.98295839022479,
                        1.8324527419394063,
                        6.396609087110986,
                        8.77388703374307,
                        9.76907949246,
                        1.6876640262180032,
                        20.25536859479137,
                        8.698657642869616,
                        14.495537523926702,
                        9.622286082442228,
                        18.91023732354538,
                        3.395351806840208,
                        8.917226456947997,
                        12.19400043696164,
                        10.692632096217203,
                        6.122225953696395,
                        4.810650600938512,
                        7.670884859248738,
                        19.255840339468914,
                        22.100556558082058,
                        15.304819290414741,
                        null
                      ]
                    }
                  ],
                  "name": "2024-11-01 11:46:34",
                  "traces": [
                    0,
                    1,
                    2,
                    3,
                    4
                  ]
                },
                {
                  "data": [
                    {
                      "type": "scatter",
                      "x": [
                        0,
                        0
                      ],
                      "y": [
                        0,
                        0
                      ]
                    },
                    {
                      "hovertemplate": "GroundTruthState<br>(%{x}, %{y})<br>Time: %{meta}",
                      "meta": [
                        "2024-11-01 11:46:29",
                        "2024-11-01 11:46:30",
                        "2024-11-01 11:46:31",
                        "2024-11-01 11:46:32",
                        "2024-11-01 11:46:33",
                        "2024-11-01 11:46:34",
                        "2024-11-01 11:46:35"
                      ],
                      "type": "scatter",
                      "x": [
                        6.0424073988889715,
                        7.106461743252968,
                        8.224123195449215,
                        9.209238100519523,
                        10.091524942750768,
                        10.971070275320162,
                        11.821804026571751,
                        null
                      ],
                      "y": [
                        6.724654049033004,
                        8.015133207951292,
                        9.467034723032649,
                        10.921792166951443,
                        12.360286222626502,
                        13.821696431233978,
                        15.299912146467127,
                        null
                      ]
                    },
                    {
                      "type": "scatter",
                      "x": [
                        null,
                        null
                      ],
                      "y": [
                        null,
                        null
                      ]
                    },
                    {
                      "hovertemplate": "Detection<br>(%{x}, %{y})<br>Time: %{meta}",
                      "meta": [
                        "2024-11-01 11:46:29",
                        "2024-11-01 11:46:30",
                        "2024-11-01 11:46:31",
                        "2024-11-01 11:46:32",
                        "2024-11-01 11:46:33",
                        "2024-11-01 11:46:34",
                        "2024-11-01 11:46:35"
                      ],
                      "type": "scatter",
                      "x": [
                        6.608185083307628,
                        5.881154401900239,
                        7.314946729915822,
                        8.970774699865254,
                        10.865412930345748,
                        9.746622425395444,
                        12.027356008218458,
                        null
                      ],
                      "y": [
                        6.079638574508856,
                        8.273313820175215,
                        10.102385506435162,
                        12.973331345839838,
                        12.788826091141713,
                        14.359221315477548,
                        14.829752172827643,
                        null
                      ]
                    },
                    {
                      "hovertemplate": "Clutter<br>(%{x}, %{y})<br>Time: %{meta}",
                      "meta": [
                        "2024-11-01 11:46:29",
                        "2024-11-01 11:46:30",
                        "2024-11-01 11:46:30",
                        "2024-11-01 11:46:30",
                        "2024-11-01 11:46:30",
                        "2024-11-01 11:46:31",
                        "2024-11-01 11:46:31",
                        "2024-11-01 11:46:31",
                        "2024-11-01 11:46:31",
                        "2024-11-01 11:46:31",
                        "2024-11-01 11:46:31",
                        "2024-11-01 11:46:32",
                        "2024-11-01 11:46:32",
                        "2024-11-01 11:46:32",
                        "2024-11-01 11:46:32",
                        "2024-11-01 11:46:32",
                        "2024-11-01 11:46:32",
                        "2024-11-01 11:46:32",
                        "2024-11-01 11:46:32",
                        "2024-11-01 11:46:33",
                        "2024-11-01 11:46:34",
                        "2024-11-01 11:46:34",
                        "2024-11-01 11:46:34",
                        "2024-11-01 11:46:34",
                        "2024-11-01 11:46:34",
                        "2024-11-01 11:46:34",
                        "2024-11-01 11:46:34",
                        "2024-11-01 11:46:34",
                        "2024-11-01 11:46:34",
                        "2024-11-01 11:46:35",
                        "2024-11-01 11:46:35",
                        "2024-11-01 11:46:35",
                        "2024-11-01 11:46:35",
                        "2024-11-01 11:46:35",
                        "2024-11-01 11:46:35",
                        "2024-11-01 11:46:35",
                        "2024-11-01 11:46:35",
                        "2024-11-01 11:46:35"
                      ],
                      "type": "scatter",
                      "x": [
                        -2.113222994604722,
                        9.871815243492948,
                        2.5063234822041807,
                        9.385770130748918,
                        4.95967343745062,
                        3.921157925800822,
                        7.257549372660787,
                        2.475919857189078,
                        12.718870861698576,
                        7.447386302200798,
                        13.573485595661301,
                        1.0853855503351908,
                        10.690386455619398,
                        7.208149404517586,
                        -0.1259233166476701,
                        11.74762076907948,
                        19.09479799773741,
                        17.3224358089386,
                        5.043875297942094,
                        10.904125256424583,
                        7.909496138098941,
                        8.78407937047826,
                        10.154039802380565,
                        17.182302536978305,
                        10.569720715145547,
                        18.666830962284873,
                        15.415778048124608,
                        6.618658692073384,
                        11.277615804202421,
                        17.689550085296247,
                        20.795182031368974,
                        8.323104214971083,
                        3.704548753737828,
                        2.171105305979481,
                        9.36427435090579,
                        16.5524483653178,
                        17.636682138488872,
                        13.344280032433685,
                        null
                      ],
                      "y": [
                        14.975537229405344,
                        6.566479336748516,
                        8.211626962353158,
                        9.642825408722175,
                        7.716846342382114,
                        19.35932005764407,
                        13.770259735391344,
                        8.521273132445234,
                        15.98295839022479,
                        1.8324527419394063,
                        6.396609087110986,
                        8.77388703374307,
                        9.76907949246,
                        1.6876640262180032,
                        20.25536859479137,
                        8.698657642869616,
                        14.495537523926702,
                        9.622286082442228,
                        18.91023732354538,
                        3.395351806840208,
                        8.917226456947997,
                        12.19400043696164,
                        10.692632096217203,
                        6.122225953696395,
                        4.810650600938512,
                        7.670884859248738,
                        19.255840339468914,
                        22.100556558082058,
                        15.304819290414741,
                        23.950127004181788,
                        16.462220574225256,
                        17.998337614276693,
                        18.170715436375005,
                        12.17463057937778,
                        10.933026056467824,
                        17.132162773020198,
                        14.786507922898855,
                        8.927267583839459,
                        null
                      ]
                    }
                  ],
                  "name": "2024-11-01 11:46:35",
                  "traces": [
                    0,
                    1,
                    2,
                    3,
                    4
                  ]
                },
                {
                  "data": [
                    {
                      "type": "scatter",
                      "x": [
                        0,
                        0
                      ],
                      "y": [
                        0,
                        0
                      ]
                    },
                    {
                      "hovertemplate": "GroundTruthState<br>(%{x}, %{y})<br>Time: %{meta}",
                      "meta": [
                        "2024-11-01 11:46:30",
                        "2024-11-01 11:46:31",
                        "2024-11-01 11:46:32",
                        "2024-11-01 11:46:33",
                        "2024-11-01 11:46:34",
                        "2024-11-01 11:46:35",
                        "2024-11-01 11:46:36"
                      ],
                      "type": "scatter",
                      "x": [
                        7.106461743252968,
                        8.224123195449215,
                        9.209238100519523,
                        10.091524942750768,
                        10.971070275320162,
                        11.821804026571751,
                        12.710258644131923,
                        null
                      ],
                      "y": [
                        8.015133207951292,
                        9.467034723032649,
                        10.921792166951443,
                        12.360286222626502,
                        13.821696431233978,
                        15.299912146467127,
                        16.866280896600955,
                        null
                      ]
                    },
                    {
                      "type": "scatter",
                      "x": [
                        null,
                        null
                      ],
                      "y": [
                        null,
                        null
                      ]
                    },
                    {
                      "hovertemplate": "Detection<br>(%{x}, %{y})<br>Time: %{meta}",
                      "meta": [
                        "2024-11-01 11:46:30",
                        "2024-11-01 11:46:31",
                        "2024-11-01 11:46:32",
                        "2024-11-01 11:46:33",
                        "2024-11-01 11:46:34",
                        "2024-11-01 11:46:35",
                        "2024-11-01 11:46:36"
                      ],
                      "type": "scatter",
                      "x": [
                        5.881154401900239,
                        7.314946729915822,
                        8.970774699865254,
                        10.865412930345748,
                        9.746622425395444,
                        12.027356008218458,
                        12.189603182817091,
                        null
                      ],
                      "y": [
                        8.273313820175215,
                        10.102385506435162,
                        12.973331345839838,
                        12.788826091141713,
                        14.359221315477548,
                        14.829752172827643,
                        17.394815111117204,
                        null
                      ]
                    },
                    {
                      "hovertemplate": "Clutter<br>(%{x}, %{y})<br>Time: %{meta}",
                      "meta": [
                        "2024-11-01 11:46:30",
                        "2024-11-01 11:46:30",
                        "2024-11-01 11:46:30",
                        "2024-11-01 11:46:30",
                        "2024-11-01 11:46:31",
                        "2024-11-01 11:46:31",
                        "2024-11-01 11:46:31",
                        "2024-11-01 11:46:31",
                        "2024-11-01 11:46:31",
                        "2024-11-01 11:46:31",
                        "2024-11-01 11:46:32",
                        "2024-11-01 11:46:32",
                        "2024-11-01 11:46:32",
                        "2024-11-01 11:46:32",
                        "2024-11-01 11:46:32",
                        "2024-11-01 11:46:32",
                        "2024-11-01 11:46:32",
                        "2024-11-01 11:46:32",
                        "2024-11-01 11:46:33",
                        "2024-11-01 11:46:34",
                        "2024-11-01 11:46:34",
                        "2024-11-01 11:46:34",
                        "2024-11-01 11:46:34",
                        "2024-11-01 11:46:34",
                        "2024-11-01 11:46:34",
                        "2024-11-01 11:46:34",
                        "2024-11-01 11:46:34",
                        "2024-11-01 11:46:34",
                        "2024-11-01 11:46:35",
                        "2024-11-01 11:46:35",
                        "2024-11-01 11:46:35",
                        "2024-11-01 11:46:35",
                        "2024-11-01 11:46:35",
                        "2024-11-01 11:46:35",
                        "2024-11-01 11:46:35",
                        "2024-11-01 11:46:35",
                        "2024-11-01 11:46:35",
                        "2024-11-01 11:46:36",
                        "2024-11-01 11:46:36",
                        "2024-11-01 11:46:36",
                        "2024-11-01 11:46:36",
                        "2024-11-01 11:46:36",
                        "2024-11-01 11:46:36",
                        "2024-11-01 11:46:36",
                        "2024-11-01 11:46:36",
                        "2024-11-01 11:46:36"
                      ],
                      "type": "scatter",
                      "x": [
                        9.871815243492948,
                        2.5063234822041807,
                        9.385770130748918,
                        4.95967343745062,
                        3.921157925800822,
                        7.257549372660787,
                        2.475919857189078,
                        12.718870861698576,
                        7.447386302200798,
                        13.573485595661301,
                        1.0853855503351908,
                        10.690386455619398,
                        7.208149404517586,
                        -0.1259233166476701,
                        11.74762076907948,
                        19.09479799773741,
                        17.3224358089386,
                        5.043875297942094,
                        10.904125256424583,
                        7.909496138098941,
                        8.78407937047826,
                        10.154039802380565,
                        17.182302536978305,
                        10.569720715145547,
                        18.666830962284873,
                        15.415778048124608,
                        6.618658692073384,
                        11.277615804202421,
                        17.689550085296247,
                        20.795182031368974,
                        8.323104214971083,
                        3.704548753737828,
                        2.171105305979481,
                        9.36427435090579,
                        16.5524483653178,
                        17.636682138488872,
                        13.344280032433685,
                        22.333709494443085,
                        14.846910802713833,
                        8.987568682419717,
                        5.448786356817646,
                        15.209892208162575,
                        9.297590594091725,
                        22.41706025208678,
                        21.76486423135404,
                        9.17725536936278,
                        null
                      ],
                      "y": [
                        6.566479336748516,
                        8.211626962353158,
                        9.642825408722175,
                        7.716846342382114,
                        19.35932005764407,
                        13.770259735391344,
                        8.521273132445234,
                        15.98295839022479,
                        1.8324527419394063,
                        6.396609087110986,
                        8.77388703374307,
                        9.76907949246,
                        1.6876640262180032,
                        20.25536859479137,
                        8.698657642869616,
                        14.495537523926702,
                        9.622286082442228,
                        18.91023732354538,
                        3.395351806840208,
                        8.917226456947997,
                        12.19400043696164,
                        10.692632096217203,
                        6.122225953696395,
                        4.810650600938512,
                        7.670884859248738,
                        19.255840339468914,
                        22.100556558082058,
                        15.304819290414741,
                        23.950127004181788,
                        16.462220574225256,
                        17.998337614276693,
                        18.170715436375005,
                        12.17463057937778,
                        10.933026056467824,
                        17.132162773020198,
                        14.786507922898855,
                        8.927267583839459,
                        25.107275117022763,
                        12.070358067061147,
                        14.851943548218827,
                        22.828097532154004,
                        19.52447046363757,
                        12.109385665865076,
                        16.990765489984646,
                        8.734726224208623,
                        8.438510978584103,
                        null
                      ]
                    }
                  ],
                  "name": "2024-11-01 11:46:36",
                  "traces": [
                    0,
                    1,
                    2,
                    3,
                    4
                  ]
                },
                {
                  "data": [
                    {
                      "type": "scatter",
                      "x": [
                        0,
                        0
                      ],
                      "y": [
                        0,
                        0
                      ]
                    },
                    {
                      "hovertemplate": "GroundTruthState<br>(%{x}, %{y})<br>Time: %{meta}",
                      "meta": [
                        "2024-11-01 11:46:31",
                        "2024-11-01 11:46:32",
                        "2024-11-01 11:46:33",
                        "2024-11-01 11:46:34",
                        "2024-11-01 11:46:35",
                        "2024-11-01 11:46:36",
                        "2024-11-01 11:46:37"
                      ],
                      "type": "scatter",
                      "x": [
                        8.224123195449215,
                        9.209238100519523,
                        10.091524942750768,
                        10.971070275320162,
                        11.821804026571751,
                        12.710258644131923,
                        13.638632472379063,
                        null
                      ],
                      "y": [
                        9.467034723032649,
                        10.921792166951443,
                        12.360286222626502,
                        13.821696431233978,
                        15.299912146467127,
                        16.866280896600955,
                        18.527460445589806,
                        null
                      ]
                    },
                    {
                      "type": "scatter",
                      "x": [
                        null,
                        null
                      ],
                      "y": [
                        null,
                        null
                      ]
                    },
                    {
                      "hovertemplate": "Detection<br>(%{x}, %{y})<br>Time: %{meta}",
                      "meta": [
                        "2024-11-01 11:46:31",
                        "2024-11-01 11:46:32",
                        "2024-11-01 11:46:33",
                        "2024-11-01 11:46:34",
                        "2024-11-01 11:46:35",
                        "2024-11-01 11:46:36",
                        "2024-11-01 11:46:37"
                      ],
                      "type": "scatter",
                      "x": [
                        7.314946729915822,
                        8.970774699865254,
                        10.865412930345748,
                        9.746622425395444,
                        12.027356008218458,
                        12.189603182817091,
                        14.994536479334519,
                        null
                      ],
                      "y": [
                        10.102385506435162,
                        12.973331345839838,
                        12.788826091141713,
                        14.359221315477548,
                        14.829752172827643,
                        17.394815111117204,
                        16.868609032746924,
                        null
                      ]
                    },
                    {
                      "hovertemplate": "Clutter<br>(%{x}, %{y})<br>Time: %{meta}",
                      "meta": [
                        "2024-11-01 11:46:31",
                        "2024-11-01 11:46:31",
                        "2024-11-01 11:46:31",
                        "2024-11-01 11:46:31",
                        "2024-11-01 11:46:31",
                        "2024-11-01 11:46:31",
                        "2024-11-01 11:46:32",
                        "2024-11-01 11:46:32",
                        "2024-11-01 11:46:32",
                        "2024-11-01 11:46:32",
                        "2024-11-01 11:46:32",
                        "2024-11-01 11:46:32",
                        "2024-11-01 11:46:32",
                        "2024-11-01 11:46:32",
                        "2024-11-01 11:46:33",
                        "2024-11-01 11:46:34",
                        "2024-11-01 11:46:34",
                        "2024-11-01 11:46:34",
                        "2024-11-01 11:46:34",
                        "2024-11-01 11:46:34",
                        "2024-11-01 11:46:34",
                        "2024-11-01 11:46:34",
                        "2024-11-01 11:46:34",
                        "2024-11-01 11:46:34",
                        "2024-11-01 11:46:35",
                        "2024-11-01 11:46:35",
                        "2024-11-01 11:46:35",
                        "2024-11-01 11:46:35",
                        "2024-11-01 11:46:35",
                        "2024-11-01 11:46:35",
                        "2024-11-01 11:46:35",
                        "2024-11-01 11:46:35",
                        "2024-11-01 11:46:35",
                        "2024-11-01 11:46:36",
                        "2024-11-01 11:46:36",
                        "2024-11-01 11:46:36",
                        "2024-11-01 11:46:36",
                        "2024-11-01 11:46:36",
                        "2024-11-01 11:46:36",
                        "2024-11-01 11:46:36",
                        "2024-11-01 11:46:36",
                        "2024-11-01 11:46:36",
                        "2024-11-01 11:46:37",
                        "2024-11-01 11:46:37"
                      ],
                      "type": "scatter",
                      "x": [
                        3.921157925800822,
                        7.257549372660787,
                        2.475919857189078,
                        12.718870861698576,
                        7.447386302200798,
                        13.573485595661301,
                        1.0853855503351908,
                        10.690386455619398,
                        7.208149404517586,
                        -0.1259233166476701,
                        11.74762076907948,
                        19.09479799773741,
                        17.3224358089386,
                        5.043875297942094,
                        10.904125256424583,
                        7.909496138098941,
                        8.78407937047826,
                        10.154039802380565,
                        17.182302536978305,
                        10.569720715145547,
                        18.666830962284873,
                        15.415778048124608,
                        6.618658692073384,
                        11.277615804202421,
                        17.689550085296247,
                        20.795182031368974,
                        8.323104214971083,
                        3.704548753737828,
                        2.171105305979481,
                        9.36427435090579,
                        16.5524483653178,
                        17.636682138488872,
                        13.344280032433685,
                        22.333709494443085,
                        14.846910802713833,
                        8.987568682419717,
                        5.448786356817646,
                        15.209892208162575,
                        9.297590594091725,
                        22.41706025208678,
                        21.76486423135404,
                        9.17725536936278,
                        4.354665659774552,
                        13.452597457334498,
                        null
                      ],
                      "y": [
                        19.35932005764407,
                        13.770259735391344,
                        8.521273132445234,
                        15.98295839022479,
                        1.8324527419394063,
                        6.396609087110986,
                        8.77388703374307,
                        9.76907949246,
                        1.6876640262180032,
                        20.25536859479137,
                        8.698657642869616,
                        14.495537523926702,
                        9.622286082442228,
                        18.91023732354538,
                        3.395351806840208,
                        8.917226456947997,
                        12.19400043696164,
                        10.692632096217203,
                        6.122225953696395,
                        4.810650600938512,
                        7.670884859248738,
                        19.255840339468914,
                        22.100556558082058,
                        15.304819290414741,
                        23.950127004181788,
                        16.462220574225256,
                        17.998337614276693,
                        18.170715436375005,
                        12.17463057937778,
                        10.933026056467824,
                        17.132162773020198,
                        14.786507922898855,
                        8.927267583839459,
                        25.107275117022763,
                        12.070358067061147,
                        14.851943548218827,
                        22.828097532154004,
                        19.52447046363757,
                        12.109385665865076,
                        16.990765489984646,
                        8.734726224208623,
                        8.438510978584103,
                        16.278157689398846,
                        27.646310123460037,
                        null
                      ]
                    }
                  ],
                  "name": "2024-11-01 11:46:37",
                  "traces": [
                    0,
                    1,
                    2,
                    3,
                    4
                  ]
                },
                {
                  "data": [
                    {
                      "type": "scatter",
                      "x": [
                        0,
                        0
                      ],
                      "y": [
                        0,
                        0
                      ]
                    },
                    {
                      "hovertemplate": "GroundTruthState<br>(%{x}, %{y})<br>Time: %{meta}",
                      "meta": [
                        "2024-11-01 11:46:32",
                        "2024-11-01 11:46:33",
                        "2024-11-01 11:46:34",
                        "2024-11-01 11:46:35",
                        "2024-11-01 11:46:36",
                        "2024-11-01 11:46:37",
                        "2024-11-01 11:46:38"
                      ],
                      "type": "scatter",
                      "x": [
                        9.209238100519523,
                        10.091524942750768,
                        10.971070275320162,
                        11.821804026571751,
                        12.710258644131923,
                        13.638632472379063,
                        14.577522670536728,
                        null
                      ],
                      "y": [
                        10.921792166951443,
                        12.360286222626502,
                        13.821696431233978,
                        15.299912146467127,
                        16.866280896600955,
                        18.527460445589806,
                        20.266330812982275,
                        null
                      ]
                    },
                    {
                      "type": "scatter",
                      "x": [
                        null,
                        null
                      ],
                      "y": [
                        null,
                        null
                      ]
                    },
                    {
                      "hovertemplate": "Detection<br>(%{x}, %{y})<br>Time: %{meta}",
                      "meta": [
                        "2024-11-01 11:46:32",
                        "2024-11-01 11:46:33",
                        "2024-11-01 11:46:34",
                        "2024-11-01 11:46:35",
                        "2024-11-01 11:46:36",
                        "2024-11-01 11:46:37",
                        "2024-11-01 11:46:38"
                      ],
                      "type": "scatter",
                      "x": [
                        8.970774699865254,
                        10.865412930345748,
                        9.746622425395444,
                        12.027356008218458,
                        12.189603182817091,
                        14.994536479334519,
                        13.541582429689747,
                        null
                      ],
                      "y": [
                        12.973331345839838,
                        12.788826091141713,
                        14.359221315477548,
                        14.829752172827643,
                        17.394815111117204,
                        16.868609032746924,
                        20.477828949347035,
                        null
                      ]
                    },
                    {
                      "hovertemplate": "Clutter<br>(%{x}, %{y})<br>Time: %{meta}",
                      "meta": [
                        "2024-11-01 11:46:32",
                        "2024-11-01 11:46:32",
                        "2024-11-01 11:46:32",
                        "2024-11-01 11:46:32",
                        "2024-11-01 11:46:32",
                        "2024-11-01 11:46:32",
                        "2024-11-01 11:46:32",
                        "2024-11-01 11:46:32",
                        "2024-11-01 11:46:33",
                        "2024-11-01 11:46:34",
                        "2024-11-01 11:46:34",
                        "2024-11-01 11:46:34",
                        "2024-11-01 11:46:34",
                        "2024-11-01 11:46:34",
                        "2024-11-01 11:46:34",
                        "2024-11-01 11:46:34",
                        "2024-11-01 11:46:34",
                        "2024-11-01 11:46:34",
                        "2024-11-01 11:46:35",
                        "2024-11-01 11:46:35",
                        "2024-11-01 11:46:35",
                        "2024-11-01 11:46:35",
                        "2024-11-01 11:46:35",
                        "2024-11-01 11:46:35",
                        "2024-11-01 11:46:35",
                        "2024-11-01 11:46:35",
                        "2024-11-01 11:46:35",
                        "2024-11-01 11:46:36",
                        "2024-11-01 11:46:36",
                        "2024-11-01 11:46:36",
                        "2024-11-01 11:46:36",
                        "2024-11-01 11:46:36",
                        "2024-11-01 11:46:36",
                        "2024-11-01 11:46:36",
                        "2024-11-01 11:46:36",
                        "2024-11-01 11:46:36",
                        "2024-11-01 11:46:37",
                        "2024-11-01 11:46:37",
                        "2024-11-01 11:46:38",
                        "2024-11-01 11:46:38",
                        "2024-11-01 11:46:38",
                        "2024-11-01 11:46:38",
                        "2024-11-01 11:46:38",
                        "2024-11-01 11:46:38",
                        "2024-11-01 11:46:38",
                        "2024-11-01 11:46:38"
                      ],
                      "type": "scatter",
                      "x": [
                        1.0853855503351908,
                        10.690386455619398,
                        7.208149404517586,
                        -0.1259233166476701,
                        11.74762076907948,
                        19.09479799773741,
                        17.3224358089386,
                        5.043875297942094,
                        10.904125256424583,
                        7.909496138098941,
                        8.78407937047826,
                        10.154039802380565,
                        17.182302536978305,
                        10.569720715145547,
                        18.666830962284873,
                        15.415778048124608,
                        6.618658692073384,
                        11.277615804202421,
                        17.689550085296247,
                        20.795182031368974,
                        8.323104214971083,
                        3.704548753737828,
                        2.171105305979481,
                        9.36427435090579,
                        16.5524483653178,
                        17.636682138488872,
                        13.344280032433685,
                        22.333709494443085,
                        14.846910802713833,
                        8.987568682419717,
                        5.448786356817646,
                        15.209892208162575,
                        9.297590594091725,
                        22.41706025208678,
                        21.76486423135404,
                        9.17725536936278,
                        4.354665659774552,
                        13.452597457334498,
                        9.552498134889902,
                        12.44229922137789,
                        9.838834396934493,
                        12.272513468340984,
                        7.523213691499432,
                        16.896835533774627,
                        22.735722802841494,
                        16.885134174878583,
                        null
                      ],
                      "y": [
                        8.77388703374307,
                        9.76907949246,
                        1.6876640262180032,
                        20.25536859479137,
                        8.698657642869616,
                        14.495537523926702,
                        9.622286082442228,
                        18.91023732354538,
                        3.395351806840208,
                        8.917226456947997,
                        12.19400043696164,
                        10.692632096217203,
                        6.122225953696395,
                        4.810650600938512,
                        7.670884859248738,
                        19.255840339468914,
                        22.100556558082058,
                        15.304819290414741,
                        23.950127004181788,
                        16.462220574225256,
                        17.998337614276693,
                        18.170715436375005,
                        12.17463057937778,
                        10.933026056467824,
                        17.132162773020198,
                        14.786507922898855,
                        8.927267583839459,
                        25.107275117022763,
                        12.070358067061147,
                        14.851943548218827,
                        22.828097532154004,
                        19.52447046363757,
                        12.109385665865076,
                        16.990765489984646,
                        8.734726224208623,
                        8.438510978584103,
                        16.278157689398846,
                        27.646310123460037,
                        18.75544730568103,
                        22.32421743986299,
                        26.91838456195311,
                        19.168177499008706,
                        29.047146073316664,
                        26.72895684118154,
                        24.78604429988824,
                        24.55196263505583,
                        null
                      ]
                    }
                  ],
                  "name": "2024-11-01 11:46:38",
                  "traces": [
                    0,
                    1,
                    2,
                    3,
                    4
                  ]
                },
                {
                  "data": [
                    {
                      "type": "scatter",
                      "x": [
                        0,
                        0
                      ],
                      "y": [
                        0,
                        0
                      ]
                    },
                    {
                      "hovertemplate": "GroundTruthState<br>(%{x}, %{y})<br>Time: %{meta}",
                      "meta": [
                        "2024-11-01 11:46:33",
                        "2024-11-01 11:46:34",
                        "2024-11-01 11:46:35",
                        "2024-11-01 11:46:36",
                        "2024-11-01 11:46:37",
                        "2024-11-01 11:46:38",
                        "2024-11-01 11:46:39"
                      ],
                      "type": "scatter",
                      "x": [
                        10.091524942750768,
                        10.971070275320162,
                        11.821804026571751,
                        12.710258644131923,
                        13.638632472379063,
                        14.577522670536728,
                        15.576552678974165,
                        null
                      ],
                      "y": [
                        12.360286222626502,
                        13.821696431233978,
                        15.299912146467127,
                        16.866280896600955,
                        18.527460445589806,
                        20.266330812982275,
                        21.99562363004073,
                        null
                      ]
                    },
                    {
                      "type": "scatter",
                      "x": [
                        null,
                        null
                      ],
                      "y": [
                        null,
                        null
                      ]
                    },
                    {
                      "hovertemplate": "Detection<br>(%{x}, %{y})<br>Time: %{meta}",
                      "meta": [
                        "2024-11-01 11:46:33",
                        "2024-11-01 11:46:34",
                        "2024-11-01 11:46:35",
                        "2024-11-01 11:46:36",
                        "2024-11-01 11:46:37",
                        "2024-11-01 11:46:38",
                        "2024-11-01 11:46:39"
                      ],
                      "type": "scatter",
                      "x": [
                        10.865412930345748,
                        9.746622425395444,
                        12.027356008218458,
                        12.189603182817091,
                        14.994536479334519,
                        13.541582429689747,
                        16.565876285380888,
                        null
                      ],
                      "y": [
                        12.788826091141713,
                        14.359221315477548,
                        14.829752172827643,
                        17.394815111117204,
                        16.868609032746924,
                        20.477828949347035,
                        21.24775356259589,
                        null
                      ]
                    },
                    {
                      "hovertemplate": "Clutter<br>(%{x}, %{y})<br>Time: %{meta}",
                      "meta": [
                        "2024-11-01 11:46:33",
                        "2024-11-01 11:46:34",
                        "2024-11-01 11:46:34",
                        "2024-11-01 11:46:34",
                        "2024-11-01 11:46:34",
                        "2024-11-01 11:46:34",
                        "2024-11-01 11:46:34",
                        "2024-11-01 11:46:34",
                        "2024-11-01 11:46:34",
                        "2024-11-01 11:46:34",
                        "2024-11-01 11:46:35",
                        "2024-11-01 11:46:35",
                        "2024-11-01 11:46:35",
                        "2024-11-01 11:46:35",
                        "2024-11-01 11:46:35",
                        "2024-11-01 11:46:35",
                        "2024-11-01 11:46:35",
                        "2024-11-01 11:46:35",
                        "2024-11-01 11:46:35",
                        "2024-11-01 11:46:36",
                        "2024-11-01 11:46:36",
                        "2024-11-01 11:46:36",
                        "2024-11-01 11:46:36",
                        "2024-11-01 11:46:36",
                        "2024-11-01 11:46:36",
                        "2024-11-01 11:46:36",
                        "2024-11-01 11:46:36",
                        "2024-11-01 11:46:36",
                        "2024-11-01 11:46:37",
                        "2024-11-01 11:46:37",
                        "2024-11-01 11:46:38",
                        "2024-11-01 11:46:38",
                        "2024-11-01 11:46:38",
                        "2024-11-01 11:46:38",
                        "2024-11-01 11:46:38",
                        "2024-11-01 11:46:38",
                        "2024-11-01 11:46:38",
                        "2024-11-01 11:46:38",
                        "2024-11-01 11:46:39",
                        "2024-11-01 11:46:39",
                        "2024-11-01 11:46:39",
                        "2024-11-01 11:46:39",
                        "2024-11-01 11:46:39",
                        "2024-11-01 11:46:39",
                        "2024-11-01 11:46:39",
                        "2024-11-01 11:46:39"
                      ],
                      "type": "scatter",
                      "x": [
                        10.904125256424583,
                        7.909496138098941,
                        8.78407937047826,
                        10.154039802380565,
                        17.182302536978305,
                        10.569720715145547,
                        18.666830962284873,
                        15.415778048124608,
                        6.618658692073384,
                        11.277615804202421,
                        17.689550085296247,
                        20.795182031368974,
                        8.323104214971083,
                        3.704548753737828,
                        2.171105305979481,
                        9.36427435090579,
                        16.5524483653178,
                        17.636682138488872,
                        13.344280032433685,
                        22.333709494443085,
                        14.846910802713833,
                        8.987568682419717,
                        5.448786356817646,
                        15.209892208162575,
                        9.297590594091725,
                        22.41706025208678,
                        21.76486423135404,
                        9.17725536936278,
                        4.354665659774552,
                        13.452597457334498,
                        9.552498134889902,
                        12.44229922137789,
                        9.838834396934493,
                        12.272513468340984,
                        7.523213691499432,
                        16.896835533774627,
                        22.735722802841494,
                        16.885134174878583,
                        24.690118175323008,
                        24.897672999964918,
                        22.89613006495027,
                        13.323769460151583,
                        16.09667760658821,
                        10.563744991030877,
                        19.387958515561266,
                        20.623975302275255,
                        null
                      ],
                      "y": [
                        3.395351806840208,
                        8.917226456947997,
                        12.19400043696164,
                        10.692632096217203,
                        6.122225953696395,
                        4.810650600938512,
                        7.670884859248738,
                        19.255840339468914,
                        22.100556558082058,
                        15.304819290414741,
                        23.950127004181788,
                        16.462220574225256,
                        17.998337614276693,
                        18.170715436375005,
                        12.17463057937778,
                        10.933026056467824,
                        17.132162773020198,
                        14.786507922898855,
                        8.927267583839459,
                        25.107275117022763,
                        12.070358067061147,
                        14.851943548218827,
                        22.828097532154004,
                        19.52447046363757,
                        12.109385665865076,
                        16.990765489984646,
                        8.734726224208623,
                        8.438510978584103,
                        16.278157689398846,
                        27.646310123460037,
                        18.75544730568103,
                        22.32421743986299,
                        26.91838456195311,
                        19.168177499008706,
                        29.047146073316664,
                        26.72895684118154,
                        24.78604429988824,
                        24.55196263505583,
                        28.923304747032283,
                        31.254668256798606,
                        15.822394842175502,
                        21.14497471390816,
                        19.0361726846686,
                        12.023570841032697,
                        14.599519288253935,
                        31.65416922096453,
                        null
                      ]
                    }
                  ],
                  "name": "2024-11-01 11:46:39",
                  "traces": [
                    0,
                    1,
                    2,
                    3,
                    4
                  ]
                },
                {
                  "data": [
                    {
                      "type": "scatter",
                      "x": [
                        0,
                        0
                      ],
                      "y": [
                        0,
                        0
                      ]
                    },
                    {
                      "hovertemplate": "GroundTruthState<br>(%{x}, %{y})<br>Time: %{meta}",
                      "meta": [
                        "2024-11-01 11:46:34",
                        "2024-11-01 11:46:35",
                        "2024-11-01 11:46:36",
                        "2024-11-01 11:46:37",
                        "2024-11-01 11:46:38",
                        "2024-11-01 11:46:39",
                        "2024-11-01 11:46:40"
                      ],
                      "type": "scatter",
                      "x": [
                        10.971070275320162,
                        11.821804026571751,
                        12.710258644131923,
                        13.638632472379063,
                        14.577522670536728,
                        15.576552678974165,
                        16.60904495187587,
                        null
                      ],
                      "y": [
                        13.821696431233978,
                        15.299912146467127,
                        16.866280896600955,
                        18.527460445589806,
                        20.266330812982275,
                        21.99562363004073,
                        23.74412133809568,
                        null
                      ]
                    },
                    {
                      "type": "scatter",
                      "x": [
                        null,
                        null
                      ],
                      "y": [
                        null,
                        null
                      ]
                    },
                    {
                      "hovertemplate": "Detection<br>(%{x}, %{y})<br>Time: %{meta}",
                      "meta": [
                        "2024-11-01 11:46:34",
                        "2024-11-01 11:46:35",
                        "2024-11-01 11:46:36",
                        "2024-11-01 11:46:37",
                        "2024-11-01 11:46:38",
                        "2024-11-01 11:46:39"
                      ],
                      "type": "scatter",
                      "x": [
                        9.746622425395444,
                        12.027356008218458,
                        12.189603182817091,
                        14.994536479334519,
                        13.541582429689747,
                        16.565876285380888,
                        null
                      ],
                      "y": [
                        14.359221315477548,
                        14.829752172827643,
                        17.394815111117204,
                        16.868609032746924,
                        20.477828949347035,
                        21.24775356259589,
                        null
                      ]
                    },
                    {
                      "hovertemplate": "Clutter<br>(%{x}, %{y})<br>Time: %{meta}",
                      "meta": [
                        "2024-11-01 11:46:34",
                        "2024-11-01 11:46:34",
                        "2024-11-01 11:46:34",
                        "2024-11-01 11:46:34",
                        "2024-11-01 11:46:34",
                        "2024-11-01 11:46:34",
                        "2024-11-01 11:46:34",
                        "2024-11-01 11:46:34",
                        "2024-11-01 11:46:34",
                        "2024-11-01 11:46:35",
                        "2024-11-01 11:46:35",
                        "2024-11-01 11:46:35",
                        "2024-11-01 11:46:35",
                        "2024-11-01 11:46:35",
                        "2024-11-01 11:46:35",
                        "2024-11-01 11:46:35",
                        "2024-11-01 11:46:35",
                        "2024-11-01 11:46:35",
                        "2024-11-01 11:46:36",
                        "2024-11-01 11:46:36",
                        "2024-11-01 11:46:36",
                        "2024-11-01 11:46:36",
                        "2024-11-01 11:46:36",
                        "2024-11-01 11:46:36",
                        "2024-11-01 11:46:36",
                        "2024-11-01 11:46:36",
                        "2024-11-01 11:46:36",
                        "2024-11-01 11:46:37",
                        "2024-11-01 11:46:37",
                        "2024-11-01 11:46:38",
                        "2024-11-01 11:46:38",
                        "2024-11-01 11:46:38",
                        "2024-11-01 11:46:38",
                        "2024-11-01 11:46:38",
                        "2024-11-01 11:46:38",
                        "2024-11-01 11:46:38",
                        "2024-11-01 11:46:38",
                        "2024-11-01 11:46:39",
                        "2024-11-01 11:46:39",
                        "2024-11-01 11:46:39",
                        "2024-11-01 11:46:39",
                        "2024-11-01 11:46:39",
                        "2024-11-01 11:46:39",
                        "2024-11-01 11:46:39",
                        "2024-11-01 11:46:39"
                      ],
                      "type": "scatter",
                      "x": [
                        7.909496138098941,
                        8.78407937047826,
                        10.154039802380565,
                        17.182302536978305,
                        10.569720715145547,
                        18.666830962284873,
                        15.415778048124608,
                        6.618658692073384,
                        11.277615804202421,
                        17.689550085296247,
                        20.795182031368974,
                        8.323104214971083,
                        3.704548753737828,
                        2.171105305979481,
                        9.36427435090579,
                        16.5524483653178,
                        17.636682138488872,
                        13.344280032433685,
                        22.333709494443085,
                        14.846910802713833,
                        8.987568682419717,
                        5.448786356817646,
                        15.209892208162575,
                        9.297590594091725,
                        22.41706025208678,
                        21.76486423135404,
                        9.17725536936278,
                        4.354665659774552,
                        13.452597457334498,
                        9.552498134889902,
                        12.44229922137789,
                        9.838834396934493,
                        12.272513468340984,
                        7.523213691499432,
                        16.896835533774627,
                        22.735722802841494,
                        16.885134174878583,
                        24.690118175323008,
                        24.897672999964918,
                        22.89613006495027,
                        13.323769460151583,
                        16.09667760658821,
                        10.563744991030877,
                        19.387958515561266,
                        20.623975302275255,
                        null
                      ],
                      "y": [
                        8.917226456947997,
                        12.19400043696164,
                        10.692632096217203,
                        6.122225953696395,
                        4.810650600938512,
                        7.670884859248738,
                        19.255840339468914,
                        22.100556558082058,
                        15.304819290414741,
                        23.950127004181788,
                        16.462220574225256,
                        17.998337614276693,
                        18.170715436375005,
                        12.17463057937778,
                        10.933026056467824,
                        17.132162773020198,
                        14.786507922898855,
                        8.927267583839459,
                        25.107275117022763,
                        12.070358067061147,
                        14.851943548218827,
                        22.828097532154004,
                        19.52447046363757,
                        12.109385665865076,
                        16.990765489984646,
                        8.734726224208623,
                        8.438510978584103,
                        16.278157689398846,
                        27.646310123460037,
                        18.75544730568103,
                        22.32421743986299,
                        26.91838456195311,
                        19.168177499008706,
                        29.047146073316664,
                        26.72895684118154,
                        24.78604429988824,
                        24.55196263505583,
                        28.923304747032283,
                        31.254668256798606,
                        15.822394842175502,
                        21.14497471390816,
                        19.0361726846686,
                        12.023570841032697,
                        14.599519288253935,
                        31.65416922096453,
                        null
                      ]
                    }
                  ],
                  "name": "2024-11-01 11:46:40",
                  "traces": [
                    0,
                    1,
                    2,
                    3,
                    4
                  ]
                },
                {
                  "data": [
                    {
                      "type": "scatter",
                      "x": [
                        0,
                        0
                      ],
                      "y": [
                        0,
                        0
                      ]
                    },
                    {
                      "hovertemplate": "GroundTruthState<br>(%{x}, %{y})<br>Time: %{meta}",
                      "meta": [
                        "2024-11-01 11:46:35",
                        "2024-11-01 11:46:36",
                        "2024-11-01 11:46:37",
                        "2024-11-01 11:46:38",
                        "2024-11-01 11:46:39",
                        "2024-11-01 11:46:40",
                        "2024-11-01 11:46:41"
                      ],
                      "type": "scatter",
                      "x": [
                        11.821804026571751,
                        12.710258644131923,
                        13.638632472379063,
                        14.577522670536728,
                        15.576552678974165,
                        16.60904495187587,
                        17.68196897193471,
                        null
                      ],
                      "y": [
                        15.299912146467127,
                        16.866280896600955,
                        18.527460445589806,
                        20.266330812982275,
                        21.99562363004073,
                        23.74412133809568,
                        25.478975314072432,
                        null
                      ]
                    },
                    {
                      "type": "scatter",
                      "x": [
                        null,
                        null
                      ],
                      "y": [
                        null,
                        null
                      ]
                    },
                    {
                      "hovertemplate": "Detection<br>(%{x}, %{y})<br>Time: %{meta}",
                      "meta": [
                        "2024-11-01 11:46:35",
                        "2024-11-01 11:46:36",
                        "2024-11-01 11:46:37",
                        "2024-11-01 11:46:38",
                        "2024-11-01 11:46:39",
                        "2024-11-01 11:46:41"
                      ],
                      "type": "scatter",
                      "x": [
                        12.027356008218458,
                        12.189603182817091,
                        14.994536479334519,
                        13.541582429689747,
                        16.565876285380888,
                        18.96049694435057,
                        null
                      ],
                      "y": [
                        14.829752172827643,
                        17.394815111117204,
                        16.868609032746924,
                        20.477828949347035,
                        21.24775356259589,
                        24.49260238223579,
                        null
                      ]
                    },
                    {
                      "hovertemplate": "Clutter<br>(%{x}, %{y})<br>Time: %{meta}",
                      "meta": [
                        "2024-11-01 11:46:35",
                        "2024-11-01 11:46:35",
                        "2024-11-01 11:46:35",
                        "2024-11-01 11:46:35",
                        "2024-11-01 11:46:35",
                        "2024-11-01 11:46:35",
                        "2024-11-01 11:46:35",
                        "2024-11-01 11:46:35",
                        "2024-11-01 11:46:35",
                        "2024-11-01 11:46:36",
                        "2024-11-01 11:46:36",
                        "2024-11-01 11:46:36",
                        "2024-11-01 11:46:36",
                        "2024-11-01 11:46:36",
                        "2024-11-01 11:46:36",
                        "2024-11-01 11:46:36",
                        "2024-11-01 11:46:36",
                        "2024-11-01 11:46:36",
                        "2024-11-01 11:46:37",
                        "2024-11-01 11:46:37",
                        "2024-11-01 11:46:38",
                        "2024-11-01 11:46:38",
                        "2024-11-01 11:46:38",
                        "2024-11-01 11:46:38",
                        "2024-11-01 11:46:38",
                        "2024-11-01 11:46:38",
                        "2024-11-01 11:46:38",
                        "2024-11-01 11:46:38",
                        "2024-11-01 11:46:39",
                        "2024-11-01 11:46:39",
                        "2024-11-01 11:46:39",
                        "2024-11-01 11:46:39",
                        "2024-11-01 11:46:39",
                        "2024-11-01 11:46:39",
                        "2024-11-01 11:46:39",
                        "2024-11-01 11:46:39",
                        "2024-11-01 11:46:41",
                        "2024-11-01 11:46:41",
                        "2024-11-01 11:46:41",
                        "2024-11-01 11:46:41"
                      ],
                      "type": "scatter",
                      "x": [
                        17.689550085296247,
                        20.795182031368974,
                        8.323104214971083,
                        3.704548753737828,
                        2.171105305979481,
                        9.36427435090579,
                        16.5524483653178,
                        17.636682138488872,
                        13.344280032433685,
                        22.333709494443085,
                        14.846910802713833,
                        8.987568682419717,
                        5.448786356817646,
                        15.209892208162575,
                        9.297590594091725,
                        22.41706025208678,
                        21.76486423135404,
                        9.17725536936278,
                        4.354665659774552,
                        13.452597457334498,
                        9.552498134889902,
                        12.44229922137789,
                        9.838834396934493,
                        12.272513468340984,
                        7.523213691499432,
                        16.896835533774627,
                        22.735722802841494,
                        16.885134174878583,
                        24.690118175323008,
                        24.897672999964918,
                        22.89613006495027,
                        13.323769460151583,
                        16.09667760658821,
                        10.563744991030877,
                        19.387958515561266,
                        20.623975302275255,
                        23.310024051956177,
                        11.842723597571926,
                        15.036739454411505,
                        12.033295792165084,
                        null
                      ],
                      "y": [
                        23.950127004181788,
                        16.462220574225256,
                        17.998337614276693,
                        18.170715436375005,
                        12.17463057937778,
                        10.933026056467824,
                        17.132162773020198,
                        14.786507922898855,
                        8.927267583839459,
                        25.107275117022763,
                        12.070358067061147,
                        14.851943548218827,
                        22.828097532154004,
                        19.52447046363757,
                        12.109385665865076,
                        16.990765489984646,
                        8.734726224208623,
                        8.438510978584103,
                        16.278157689398846,
                        27.646310123460037,
                        18.75544730568103,
                        22.32421743986299,
                        26.91838456195311,
                        19.168177499008706,
                        29.047146073316664,
                        26.72895684118154,
                        24.78604429988824,
                        24.55196263505583,
                        28.923304747032283,
                        31.254668256798606,
                        15.822394842175502,
                        21.14497471390816,
                        19.0361726846686,
                        12.023570841032697,
                        14.599519288253935,
                        31.65416922096453,
                        21.319913817411727,
                        34.19991679850982,
                        25.77007464946659,
                        30.800636569563043,
                        null
                      ]
                    }
                  ],
                  "name": "2024-11-01 11:46:41",
                  "traces": [
                    0,
                    1,
                    2,
                    3,
                    4
                  ]
                },
                {
                  "data": [
                    {
                      "type": "scatter",
                      "x": [
                        0,
                        0
                      ],
                      "y": [
                        0,
                        0
                      ]
                    },
                    {
                      "hovertemplate": "GroundTruthState<br>(%{x}, %{y})<br>Time: %{meta}",
                      "meta": [
                        "2024-11-01 11:46:36",
                        "2024-11-01 11:46:37",
                        "2024-11-01 11:46:38",
                        "2024-11-01 11:46:39",
                        "2024-11-01 11:46:40",
                        "2024-11-01 11:46:41",
                        "2024-11-01 11:46:42"
                      ],
                      "type": "scatter",
                      "x": [
                        12.710258644131923,
                        13.638632472379063,
                        14.577522670536728,
                        15.576552678974165,
                        16.60904495187587,
                        17.68196897193471,
                        18.779309145022523,
                        null
                      ],
                      "y": [
                        16.866280896600955,
                        18.527460445589806,
                        20.266330812982275,
                        21.99562363004073,
                        23.74412133809568,
                        25.478975314072432,
                        27.205219735304418,
                        null
                      ]
                    },
                    {
                      "type": "scatter",
                      "x": [
                        null,
                        null
                      ],
                      "y": [
                        null,
                        null
                      ]
                    },
                    {
                      "hovertemplate": "Detection<br>(%{x}, %{y})<br>Time: %{meta}",
                      "meta": [
                        "2024-11-01 11:46:36",
                        "2024-11-01 11:46:37",
                        "2024-11-01 11:46:38",
                        "2024-11-01 11:46:39",
                        "2024-11-01 11:46:41",
                        "2024-11-01 11:46:42"
                      ],
                      "type": "scatter",
                      "x": [
                        12.189603182817091,
                        14.994536479334519,
                        13.541582429689747,
                        16.565876285380888,
                        18.96049694435057,
                        18.085024895926598,
                        null
                      ],
                      "y": [
                        17.394815111117204,
                        16.868609032746924,
                        20.477828949347035,
                        21.24775356259589,
                        24.49260238223579,
                        26.36350354523736,
                        null
                      ]
                    },
                    {
                      "hovertemplate": "Clutter<br>(%{x}, %{y})<br>Time: %{meta}",
                      "meta": [
                        "2024-11-01 11:46:36",
                        "2024-11-01 11:46:36",
                        "2024-11-01 11:46:36",
                        "2024-11-01 11:46:36",
                        "2024-11-01 11:46:36",
                        "2024-11-01 11:46:36",
                        "2024-11-01 11:46:36",
                        "2024-11-01 11:46:36",
                        "2024-11-01 11:46:36",
                        "2024-11-01 11:46:37",
                        "2024-11-01 11:46:37",
                        "2024-11-01 11:46:38",
                        "2024-11-01 11:46:38",
                        "2024-11-01 11:46:38",
                        "2024-11-01 11:46:38",
                        "2024-11-01 11:46:38",
                        "2024-11-01 11:46:38",
                        "2024-11-01 11:46:38",
                        "2024-11-01 11:46:38",
                        "2024-11-01 11:46:39",
                        "2024-11-01 11:46:39",
                        "2024-11-01 11:46:39",
                        "2024-11-01 11:46:39",
                        "2024-11-01 11:46:39",
                        "2024-11-01 11:46:39",
                        "2024-11-01 11:46:39",
                        "2024-11-01 11:46:39",
                        "2024-11-01 11:46:41",
                        "2024-11-01 11:46:41",
                        "2024-11-01 11:46:41",
                        "2024-11-01 11:46:41"
                      ],
                      "type": "scatter",
                      "x": [
                        22.333709494443085,
                        14.846910802713833,
                        8.987568682419717,
                        5.448786356817646,
                        15.209892208162575,
                        9.297590594091725,
                        22.41706025208678,
                        21.76486423135404,
                        9.17725536936278,
                        4.354665659774552,
                        13.452597457334498,
                        9.552498134889902,
                        12.44229922137789,
                        9.838834396934493,
                        12.272513468340984,
                        7.523213691499432,
                        16.896835533774627,
                        22.735722802841494,
                        16.885134174878583,
                        24.690118175323008,
                        24.897672999964918,
                        22.89613006495027,
                        13.323769460151583,
                        16.09667760658821,
                        10.563744991030877,
                        19.387958515561266,
                        20.623975302275255,
                        23.310024051956177,
                        11.842723597571926,
                        15.036739454411505,
                        12.033295792165084,
                        null
                      ],
                      "y": [
                        25.107275117022763,
                        12.070358067061147,
                        14.851943548218827,
                        22.828097532154004,
                        19.52447046363757,
                        12.109385665865076,
                        16.990765489984646,
                        8.734726224208623,
                        8.438510978584103,
                        16.278157689398846,
                        27.646310123460037,
                        18.75544730568103,
                        22.32421743986299,
                        26.91838456195311,
                        19.168177499008706,
                        29.047146073316664,
                        26.72895684118154,
                        24.78604429988824,
                        24.55196263505583,
                        28.923304747032283,
                        31.254668256798606,
                        15.822394842175502,
                        21.14497471390816,
                        19.0361726846686,
                        12.023570841032697,
                        14.599519288253935,
                        31.65416922096453,
                        21.319913817411727,
                        34.19991679850982,
                        25.77007464946659,
                        30.800636569563043,
                        null
                      ]
                    }
                  ],
                  "name": "2024-11-01 11:46:42",
                  "traces": [
                    0,
                    1,
                    2,
                    3,
                    4
                  ]
                },
                {
                  "data": [
                    {
                      "type": "scatter",
                      "x": [
                        0,
                        0
                      ],
                      "y": [
                        0,
                        0
                      ]
                    },
                    {
                      "hovertemplate": "GroundTruthState<br>(%{x}, %{y})<br>Time: %{meta}",
                      "meta": [
                        "2024-11-01 11:46:37",
                        "2024-11-01 11:46:38",
                        "2024-11-01 11:46:39",
                        "2024-11-01 11:46:40",
                        "2024-11-01 11:46:41",
                        "2024-11-01 11:46:42",
                        "2024-11-01 11:46:43"
                      ],
                      "type": "scatter",
                      "x": [
                        13.638632472379063,
                        14.577522670536728,
                        15.576552678974165,
                        16.60904495187587,
                        17.68196897193471,
                        18.779309145022523,
                        19.9113690605784,
                        null
                      ],
                      "y": [
                        18.527460445589806,
                        20.266330812982275,
                        21.99562363004073,
                        23.74412133809568,
                        25.478975314072432,
                        27.205219735304418,
                        28.875551645250404,
                        null
                      ]
                    },
                    {
                      "type": "scatter",
                      "x": [
                        null,
                        null
                      ],
                      "y": [
                        null,
                        null
                      ]
                    },
                    {
                      "hovertemplate": "Detection<br>(%{x}, %{y})<br>Time: %{meta}",
                      "meta": [
                        "2024-11-01 11:46:37",
                        "2024-11-01 11:46:38",
                        "2024-11-01 11:46:39",
                        "2024-11-01 11:46:41",
                        "2024-11-01 11:46:42"
                      ],
                      "type": "scatter",
                      "x": [
                        14.994536479334519,
                        13.541582429689747,
                        16.565876285380888,
                        18.96049694435057,
                        18.085024895926598,
                        null
                      ],
                      "y": [
                        16.868609032746924,
                        20.477828949347035,
                        21.24775356259589,
                        24.49260238223579,
                        26.36350354523736,
                        null
                      ]
                    },
                    {
                      "hovertemplate": "Clutter<br>(%{x}, %{y})<br>Time: %{meta}",
                      "meta": [
                        "2024-11-01 11:46:37",
                        "2024-11-01 11:46:37",
                        "2024-11-01 11:46:38",
                        "2024-11-01 11:46:38",
                        "2024-11-01 11:46:38",
                        "2024-11-01 11:46:38",
                        "2024-11-01 11:46:38",
                        "2024-11-01 11:46:38",
                        "2024-11-01 11:46:38",
                        "2024-11-01 11:46:38",
                        "2024-11-01 11:46:39",
                        "2024-11-01 11:46:39",
                        "2024-11-01 11:46:39",
                        "2024-11-01 11:46:39",
                        "2024-11-01 11:46:39",
                        "2024-11-01 11:46:39",
                        "2024-11-01 11:46:39",
                        "2024-11-01 11:46:39",
                        "2024-11-01 11:46:41",
                        "2024-11-01 11:46:41",
                        "2024-11-01 11:46:41",
                        "2024-11-01 11:46:41",
                        "2024-11-01 11:46:43",
                        "2024-11-01 11:46:43",
                        "2024-11-01 11:46:43",
                        "2024-11-01 11:46:43",
                        "2024-11-01 11:46:43"
                      ],
                      "type": "scatter",
                      "x": [
                        4.354665659774552,
                        13.452597457334498,
                        9.552498134889902,
                        12.44229922137789,
                        9.838834396934493,
                        12.272513468340984,
                        7.523213691499432,
                        16.896835533774627,
                        22.735722802841494,
                        16.885134174878583,
                        24.690118175323008,
                        24.897672999964918,
                        22.89613006495027,
                        13.323769460151583,
                        16.09667760658821,
                        10.563744991030877,
                        19.387958515561266,
                        20.623975302275255,
                        23.310024051956177,
                        11.842723597571926,
                        15.036739454411505,
                        12.033295792165084,
                        21.80600817531409,
                        23.59873315314899,
                        17.141953624940285,
                        22.562716144567485,
                        12.711479496812778,
                        null
                      ],
                      "y": [
                        16.278157689398846,
                        27.646310123460037,
                        18.75544730568103,
                        22.32421743986299,
                        26.91838456195311,
                        19.168177499008706,
                        29.047146073316664,
                        26.72895684118154,
                        24.78604429988824,
                        24.55196263505583,
                        28.923304747032283,
                        31.254668256798606,
                        15.822394842175502,
                        21.14497471390816,
                        19.0361726846686,
                        12.023570841032697,
                        14.599519288253935,
                        31.65416922096453,
                        21.319913817411727,
                        34.19991679850982,
                        25.77007464946659,
                        30.800636569563043,
                        37.09343363443742,
                        19.23225483219309,
                        38.78369983698228,
                        22.534031895720478,
                        27.112343078296853,
                        null
                      ]
                    }
                  ],
                  "name": "2024-11-01 11:46:43",
                  "traces": [
                    0,
                    1,
                    2,
                    3,
                    4
                  ]
                }
              ],
              "layout": {
                "autosize": true,
                "colorway": [
                  "#EF553B",
                  "#00CC96",
                  "#AB63FA",
                  "#FFA15A",
                  "#19D3F3",
                  "#FF6692",
                  "#B6E880",
                  "#FF97FF",
                  "#FECB52"
                ],
                "height": 550,
                "sliders": [
                  {
                    "currentvalue": {
                      "font": {
                        "size": 16
                      },
                      "prefix": "Time: ",
                      "visible": true,
                      "xanchor": "right"
                    },
                    "len": 0.9,
                    "pad": {
                      "b": 10,
                      "t": 50
                    },
                    "steps": [
                      {
                        "args": [
                          [
                            "2024-11-01 11:46:23"
                          ],
                          {
                            "frame": {
                              "duration": 1,
                              "easing": "linear",
                              "redraw": true
                            },
                            "transition": {
                              "duration": 0,
                              "easing": "linear"
                            }
                          }
                        ],
                        "label": "11:46:23",
                        "method": "animate"
                      },
                      {
                        "args": [
                          [
                            "2024-11-01 11:46:24"
                          ],
                          {
                            "frame": {
                              "duration": 1,
                              "easing": "linear",
                              "redraw": true
                            },
                            "transition": {
                              "duration": 0,
                              "easing": "linear"
                            }
                          }
                        ],
                        "label": "11:46:24",
                        "method": "animate"
                      },
                      {
                        "args": [
                          [
                            "2024-11-01 11:46:25"
                          ],
                          {
                            "frame": {
                              "duration": 1,
                              "easing": "linear",
                              "redraw": true
                            },
                            "transition": {
                              "duration": 0,
                              "easing": "linear"
                            }
                          }
                        ],
                        "label": "11:46:25",
                        "method": "animate"
                      },
                      {
                        "args": [
                          [
                            "2024-11-01 11:46:26"
                          ],
                          {
                            "frame": {
                              "duration": 1,
                              "easing": "linear",
                              "redraw": true
                            },
                            "transition": {
                              "duration": 0,
                              "easing": "linear"
                            }
                          }
                        ],
                        "label": "11:46:26",
                        "method": "animate"
                      },
                      {
                        "args": [
                          [
                            "2024-11-01 11:46:27"
                          ],
                          {
                            "frame": {
                              "duration": 1,
                              "easing": "linear",
                              "redraw": true
                            },
                            "transition": {
                              "duration": 0,
                              "easing": "linear"
                            }
                          }
                        ],
                        "label": "11:46:27",
                        "method": "animate"
                      },
                      {
                        "args": [
                          [
                            "2024-11-01 11:46:28"
                          ],
                          {
                            "frame": {
                              "duration": 1,
                              "easing": "linear",
                              "redraw": true
                            },
                            "transition": {
                              "duration": 0,
                              "easing": "linear"
                            }
                          }
                        ],
                        "label": "11:46:28",
                        "method": "animate"
                      },
                      {
                        "args": [
                          [
                            "2024-11-01 11:46:29"
                          ],
                          {
                            "frame": {
                              "duration": 1,
                              "easing": "linear",
                              "redraw": true
                            },
                            "transition": {
                              "duration": 0,
                              "easing": "linear"
                            }
                          }
                        ],
                        "label": "11:46:29",
                        "method": "animate"
                      },
                      {
                        "args": [
                          [
                            "2024-11-01 11:46:30"
                          ],
                          {
                            "frame": {
                              "duration": 1,
                              "easing": "linear",
                              "redraw": true
                            },
                            "transition": {
                              "duration": 0,
                              "easing": "linear"
                            }
                          }
                        ],
                        "label": "11:46:30",
                        "method": "animate"
                      },
                      {
                        "args": [
                          [
                            "2024-11-01 11:46:31"
                          ],
                          {
                            "frame": {
                              "duration": 1,
                              "easing": "linear",
                              "redraw": true
                            },
                            "transition": {
                              "duration": 0,
                              "easing": "linear"
                            }
                          }
                        ],
                        "label": "11:46:31",
                        "method": "animate"
                      },
                      {
                        "args": [
                          [
                            "2024-11-01 11:46:32"
                          ],
                          {
                            "frame": {
                              "duration": 1,
                              "easing": "linear",
                              "redraw": true
                            },
                            "transition": {
                              "duration": 0,
                              "easing": "linear"
                            }
                          }
                        ],
                        "label": "11:46:32",
                        "method": "animate"
                      },
                      {
                        "args": [
                          [
                            "2024-11-01 11:46:33"
                          ],
                          {
                            "frame": {
                              "duration": 1,
                              "easing": "linear",
                              "redraw": true
                            },
                            "transition": {
                              "duration": 0,
                              "easing": "linear"
                            }
                          }
                        ],
                        "label": "11:46:33",
                        "method": "animate"
                      },
                      {
                        "args": [
                          [
                            "2024-11-01 11:46:34"
                          ],
                          {
                            "frame": {
                              "duration": 1,
                              "easing": "linear",
                              "redraw": true
                            },
                            "transition": {
                              "duration": 0,
                              "easing": "linear"
                            }
                          }
                        ],
                        "label": "11:46:34",
                        "method": "animate"
                      },
                      {
                        "args": [
                          [
                            "2024-11-01 11:46:35"
                          ],
                          {
                            "frame": {
                              "duration": 1,
                              "easing": "linear",
                              "redraw": true
                            },
                            "transition": {
                              "duration": 0,
                              "easing": "linear"
                            }
                          }
                        ],
                        "label": "11:46:35",
                        "method": "animate"
                      },
                      {
                        "args": [
                          [
                            "2024-11-01 11:46:36"
                          ],
                          {
                            "frame": {
                              "duration": 1,
                              "easing": "linear",
                              "redraw": true
                            },
                            "transition": {
                              "duration": 0,
                              "easing": "linear"
                            }
                          }
                        ],
                        "label": "11:46:36",
                        "method": "animate"
                      },
                      {
                        "args": [
                          [
                            "2024-11-01 11:46:37"
                          ],
                          {
                            "frame": {
                              "duration": 1,
                              "easing": "linear",
                              "redraw": true
                            },
                            "transition": {
                              "duration": 0,
                              "easing": "linear"
                            }
                          }
                        ],
                        "label": "11:46:37",
                        "method": "animate"
                      },
                      {
                        "args": [
                          [
                            "2024-11-01 11:46:38"
                          ],
                          {
                            "frame": {
                              "duration": 1,
                              "easing": "linear",
                              "redraw": true
                            },
                            "transition": {
                              "duration": 0,
                              "easing": "linear"
                            }
                          }
                        ],
                        "label": "11:46:38",
                        "method": "animate"
                      },
                      {
                        "args": [
                          [
                            "2024-11-01 11:46:39"
                          ],
                          {
                            "frame": {
                              "duration": 1,
                              "easing": "linear",
                              "redraw": true
                            },
                            "transition": {
                              "duration": 0,
                              "easing": "linear"
                            }
                          }
                        ],
                        "label": "11:46:39",
                        "method": "animate"
                      },
                      {
                        "args": [
                          [
                            "2024-11-01 11:46:40"
                          ],
                          {
                            "frame": {
                              "duration": 1,
                              "easing": "linear",
                              "redraw": true
                            },
                            "transition": {
                              "duration": 0,
                              "easing": "linear"
                            }
                          }
                        ],
                        "label": "11:46:40",
                        "method": "animate"
                      },
                      {
                        "args": [
                          [
                            "2024-11-01 11:46:41"
                          ],
                          {
                            "frame": {
                              "duration": 1,
                              "easing": "linear",
                              "redraw": true
                            },
                            "transition": {
                              "duration": 0,
                              "easing": "linear"
                            }
                          }
                        ],
                        "label": "11:46:41",
                        "method": "animate"
                      },
                      {
                        "args": [
                          [
                            "2024-11-01 11:46:42"
                          ],
                          {
                            "frame": {
                              "duration": 1,
                              "easing": "linear",
                              "redraw": true
                            },
                            "transition": {
                              "duration": 0,
                              "easing": "linear"
                            }
                          }
                        ],
                        "label": "11:46:42",
                        "method": "animate"
                      },
                      {
                        "args": [
                          [
                            "2024-11-01 11:46:43"
                          ],
                          {
                            "frame": {
                              "duration": 1,
                              "easing": "linear",
                              "redraw": true
                            },
                            "transition": {
                              "duration": 0,
                              "easing": "linear"
                            }
                          }
                        ],
                        "label": "11:46:43",
                        "method": "animate"
                      }
                    ],
                    "transition": {
                      "duration": 285.7142857142857,
                      "easing": "linear"
                    },
                    "x": 0.1,
                    "xanchor": "left",
                    "y": 0,
                    "yanchor": "top"
                  }
                ],
                "template": {
                  "data": {
                    "bar": [
                      {
                        "error_x": {
                          "color": "#2a3f5f"
                        },
                        "error_y": {
                          "color": "#2a3f5f"
                        },
                        "marker": {
                          "line": {
                            "color": "#E5ECF6",
                            "width": 0.5
                          },
                          "pattern": {
                            "fillmode": "overlay",
                            "size": 10,
                            "solidity": 0.2
                          }
                        },
                        "type": "bar"
                      }
                    ],
                    "barpolar": [
                      {
                        "marker": {
                          "line": {
                            "color": "#E5ECF6",
                            "width": 0.5
                          },
                          "pattern": {
                            "fillmode": "overlay",
                            "size": 10,
                            "solidity": 0.2
                          }
                        },
                        "type": "barpolar"
                      }
                    ],
                    "carpet": [
                      {
                        "aaxis": {
                          "endlinecolor": "#2a3f5f",
                          "gridcolor": "white",
                          "linecolor": "white",
                          "minorgridcolor": "white",
                          "startlinecolor": "#2a3f5f"
                        },
                        "baxis": {
                          "endlinecolor": "#2a3f5f",
                          "gridcolor": "white",
                          "linecolor": "white",
                          "minorgridcolor": "white",
                          "startlinecolor": "#2a3f5f"
                        },
                        "type": "carpet"
                      }
                    ],
                    "choropleth": [
                      {
                        "colorbar": {
                          "outlinewidth": 0,
                          "ticks": ""
                        },
                        "type": "choropleth"
                      }
                    ],
                    "contour": [
                      {
                        "colorbar": {
                          "outlinewidth": 0,
                          "ticks": ""
                        },
                        "colorscale": [
                          [
                            0,
                            "#0d0887"
                          ],
                          [
                            0.1111111111111111,
                            "#46039f"
                          ],
                          [
                            0.2222222222222222,
                            "#7201a8"
                          ],
                          [
                            0.3333333333333333,
                            "#9c179e"
                          ],
                          [
                            0.4444444444444444,
                            "#bd3786"
                          ],
                          [
                            0.5555555555555556,
                            "#d8576b"
                          ],
                          [
                            0.6666666666666666,
                            "#ed7953"
                          ],
                          [
                            0.7777777777777778,
                            "#fb9f3a"
                          ],
                          [
                            0.8888888888888888,
                            "#fdca26"
                          ],
                          [
                            1,
                            "#f0f921"
                          ]
                        ],
                        "type": "contour"
                      }
                    ],
                    "contourcarpet": [
                      {
                        "colorbar": {
                          "outlinewidth": 0,
                          "ticks": ""
                        },
                        "type": "contourcarpet"
                      }
                    ],
                    "heatmap": [
                      {
                        "colorbar": {
                          "outlinewidth": 0,
                          "ticks": ""
                        },
                        "colorscale": [
                          [
                            0,
                            "#0d0887"
                          ],
                          [
                            0.1111111111111111,
                            "#46039f"
                          ],
                          [
                            0.2222222222222222,
                            "#7201a8"
                          ],
                          [
                            0.3333333333333333,
                            "#9c179e"
                          ],
                          [
                            0.4444444444444444,
                            "#bd3786"
                          ],
                          [
                            0.5555555555555556,
                            "#d8576b"
                          ],
                          [
                            0.6666666666666666,
                            "#ed7953"
                          ],
                          [
                            0.7777777777777778,
                            "#fb9f3a"
                          ],
                          [
                            0.8888888888888888,
                            "#fdca26"
                          ],
                          [
                            1,
                            "#f0f921"
                          ]
                        ],
                        "type": "heatmap"
                      }
                    ],
                    "heatmapgl": [
                      {
                        "colorbar": {
                          "outlinewidth": 0,
                          "ticks": ""
                        },
                        "colorscale": [
                          [
                            0,
                            "#0d0887"
                          ],
                          [
                            0.1111111111111111,
                            "#46039f"
                          ],
                          [
                            0.2222222222222222,
                            "#7201a8"
                          ],
                          [
                            0.3333333333333333,
                            "#9c179e"
                          ],
                          [
                            0.4444444444444444,
                            "#bd3786"
                          ],
                          [
                            0.5555555555555556,
                            "#d8576b"
                          ],
                          [
                            0.6666666666666666,
                            "#ed7953"
                          ],
                          [
                            0.7777777777777778,
                            "#fb9f3a"
                          ],
                          [
                            0.8888888888888888,
                            "#fdca26"
                          ],
                          [
                            1,
                            "#f0f921"
                          ]
                        ],
                        "type": "heatmapgl"
                      }
                    ],
                    "histogram": [
                      {
                        "marker": {
                          "pattern": {
                            "fillmode": "overlay",
                            "size": 10,
                            "solidity": 0.2
                          }
                        },
                        "type": "histogram"
                      }
                    ],
                    "histogram2d": [
                      {
                        "colorbar": {
                          "outlinewidth": 0,
                          "ticks": ""
                        },
                        "colorscale": [
                          [
                            0,
                            "#0d0887"
                          ],
                          [
                            0.1111111111111111,
                            "#46039f"
                          ],
                          [
                            0.2222222222222222,
                            "#7201a8"
                          ],
                          [
                            0.3333333333333333,
                            "#9c179e"
                          ],
                          [
                            0.4444444444444444,
                            "#bd3786"
                          ],
                          [
                            0.5555555555555556,
                            "#d8576b"
                          ],
                          [
                            0.6666666666666666,
                            "#ed7953"
                          ],
                          [
                            0.7777777777777778,
                            "#fb9f3a"
                          ],
                          [
                            0.8888888888888888,
                            "#fdca26"
                          ],
                          [
                            1,
                            "#f0f921"
                          ]
                        ],
                        "type": "histogram2d"
                      }
                    ],
                    "histogram2dcontour": [
                      {
                        "colorbar": {
                          "outlinewidth": 0,
                          "ticks": ""
                        },
                        "colorscale": [
                          [
                            0,
                            "#0d0887"
                          ],
                          [
                            0.1111111111111111,
                            "#46039f"
                          ],
                          [
                            0.2222222222222222,
                            "#7201a8"
                          ],
                          [
                            0.3333333333333333,
                            "#9c179e"
                          ],
                          [
                            0.4444444444444444,
                            "#bd3786"
                          ],
                          [
                            0.5555555555555556,
                            "#d8576b"
                          ],
                          [
                            0.6666666666666666,
                            "#ed7953"
                          ],
                          [
                            0.7777777777777778,
                            "#fb9f3a"
                          ],
                          [
                            0.8888888888888888,
                            "#fdca26"
                          ],
                          [
                            1,
                            "#f0f921"
                          ]
                        ],
                        "type": "histogram2dcontour"
                      }
                    ],
                    "mesh3d": [
                      {
                        "colorbar": {
                          "outlinewidth": 0,
                          "ticks": ""
                        },
                        "type": "mesh3d"
                      }
                    ],
                    "parcoords": [
                      {
                        "line": {
                          "colorbar": {
                            "outlinewidth": 0,
                            "ticks": ""
                          }
                        },
                        "type": "parcoords"
                      }
                    ],
                    "pie": [
                      {
                        "automargin": true,
                        "type": "pie"
                      }
                    ],
                    "scatter": [
                      {
                        "fillpattern": {
                          "fillmode": "overlay",
                          "size": 10,
                          "solidity": 0.2
                        },
                        "type": "scatter"
                      }
                    ],
                    "scatter3d": [
                      {
                        "line": {
                          "colorbar": {
                            "outlinewidth": 0,
                            "ticks": ""
                          }
                        },
                        "marker": {
                          "colorbar": {
                            "outlinewidth": 0,
                            "ticks": ""
                          }
                        },
                        "type": "scatter3d"
                      }
                    ],
                    "scattercarpet": [
                      {
                        "marker": {
                          "colorbar": {
                            "outlinewidth": 0,
                            "ticks": ""
                          }
                        },
                        "type": "scattercarpet"
                      }
                    ],
                    "scattergeo": [
                      {
                        "marker": {
                          "colorbar": {
                            "outlinewidth": 0,
                            "ticks": ""
                          }
                        },
                        "type": "scattergeo"
                      }
                    ],
                    "scattergl": [
                      {
                        "marker": {
                          "colorbar": {
                            "outlinewidth": 0,
                            "ticks": ""
                          }
                        },
                        "type": "scattergl"
                      }
                    ],
                    "scattermapbox": [
                      {
                        "marker": {
                          "colorbar": {
                            "outlinewidth": 0,
                            "ticks": ""
                          }
                        },
                        "type": "scattermapbox"
                      }
                    ],
                    "scatterpolar": [
                      {
                        "marker": {
                          "colorbar": {
                            "outlinewidth": 0,
                            "ticks": ""
                          }
                        },
                        "type": "scatterpolar"
                      }
                    ],
                    "scatterpolargl": [
                      {
                        "marker": {
                          "colorbar": {
                            "outlinewidth": 0,
                            "ticks": ""
                          }
                        },
                        "type": "scatterpolargl"
                      }
                    ],
                    "scatterternary": [
                      {
                        "marker": {
                          "colorbar": {
                            "outlinewidth": 0,
                            "ticks": ""
                          }
                        },
                        "type": "scatterternary"
                      }
                    ],
                    "surface": [
                      {
                        "colorbar": {
                          "outlinewidth": 0,
                          "ticks": ""
                        },
                        "colorscale": [
                          [
                            0,
                            "#0d0887"
                          ],
                          [
                            0.1111111111111111,
                            "#46039f"
                          ],
                          [
                            0.2222222222222222,
                            "#7201a8"
                          ],
                          [
                            0.3333333333333333,
                            "#9c179e"
                          ],
                          [
                            0.4444444444444444,
                            "#bd3786"
                          ],
                          [
                            0.5555555555555556,
                            "#d8576b"
                          ],
                          [
                            0.6666666666666666,
                            "#ed7953"
                          ],
                          [
                            0.7777777777777778,
                            "#fb9f3a"
                          ],
                          [
                            0.8888888888888888,
                            "#fdca26"
                          ],
                          [
                            1,
                            "#f0f921"
                          ]
                        ],
                        "type": "surface"
                      }
                    ],
                    "table": [
                      {
                        "cells": {
                          "fill": {
                            "color": "#EBF0F8"
                          },
                          "line": {
                            "color": "white"
                          }
                        },
                        "header": {
                          "fill": {
                            "color": "#C8D4E3"
                          },
                          "line": {
                            "color": "white"
                          }
                        },
                        "type": "table"
                      }
                    ]
                  },
                  "layout": {
                    "annotationdefaults": {
                      "arrowcolor": "#2a3f5f",
                      "arrowhead": 0,
                      "arrowwidth": 1
                    },
                    "autotypenumbers": "strict",
                    "coloraxis": {
                      "colorbar": {
                        "outlinewidth": 0,
                        "ticks": ""
                      }
                    },
                    "colorscale": {
                      "diverging": [
                        [
                          0,
                          "#8e0152"
                        ],
                        [
                          0.1,
                          "#c51b7d"
                        ],
                        [
                          0.2,
                          "#de77ae"
                        ],
                        [
                          0.3,
                          "#f1b6da"
                        ],
                        [
                          0.4,
                          "#fde0ef"
                        ],
                        [
                          0.5,
                          "#f7f7f7"
                        ],
                        [
                          0.6,
                          "#e6f5d0"
                        ],
                        [
                          0.7,
                          "#b8e186"
                        ],
                        [
                          0.8,
                          "#7fbc41"
                        ],
                        [
                          0.9,
                          "#4d9221"
                        ],
                        [
                          1,
                          "#276419"
                        ]
                      ],
                      "sequential": [
                        [
                          0,
                          "#0d0887"
                        ],
                        [
                          0.1111111111111111,
                          "#46039f"
                        ],
                        [
                          0.2222222222222222,
                          "#7201a8"
                        ],
                        [
                          0.3333333333333333,
                          "#9c179e"
                        ],
                        [
                          0.4444444444444444,
                          "#bd3786"
                        ],
                        [
                          0.5555555555555556,
                          "#d8576b"
                        ],
                        [
                          0.6666666666666666,
                          "#ed7953"
                        ],
                        [
                          0.7777777777777778,
                          "#fb9f3a"
                        ],
                        [
                          0.8888888888888888,
                          "#fdca26"
                        ],
                        [
                          1,
                          "#f0f921"
                        ]
                      ],
                      "sequentialminus": [
                        [
                          0,
                          "#0d0887"
                        ],
                        [
                          0.1111111111111111,
                          "#46039f"
                        ],
                        [
                          0.2222222222222222,
                          "#7201a8"
                        ],
                        [
                          0.3333333333333333,
                          "#9c179e"
                        ],
                        [
                          0.4444444444444444,
                          "#bd3786"
                        ],
                        [
                          0.5555555555555556,
                          "#d8576b"
                        ],
                        [
                          0.6666666666666666,
                          "#ed7953"
                        ],
                        [
                          0.7777777777777778,
                          "#fb9f3a"
                        ],
                        [
                          0.8888888888888888,
                          "#fdca26"
                        ],
                        [
                          1,
                          "#f0f921"
                        ]
                      ]
                    },
                    "colorway": [
                      "#636efa",
                      "#EF553B",
                      "#00cc96",
                      "#ab63fa",
                      "#FFA15A",
                      "#19d3f3",
                      "#FF6692",
                      "#B6E880",
                      "#FF97FF",
                      "#FECB52"
                    ],
                    "font": {
                      "color": "#2a3f5f"
                    },
                    "geo": {
                      "bgcolor": "white",
                      "lakecolor": "white",
                      "landcolor": "#E5ECF6",
                      "showlakes": true,
                      "showland": true,
                      "subunitcolor": "white"
                    },
                    "hoverlabel": {
                      "align": "left"
                    },
                    "hovermode": "closest",
                    "mapbox": {
                      "style": "light"
                    },
                    "paper_bgcolor": "white",
                    "plot_bgcolor": "#E5ECF6",
                    "polar": {
                      "angularaxis": {
                        "gridcolor": "white",
                        "linecolor": "white",
                        "ticks": ""
                      },
                      "bgcolor": "#E5ECF6",
                      "radialaxis": {
                        "gridcolor": "white",
                        "linecolor": "white",
                        "ticks": ""
                      }
                    },
                    "scene": {
                      "xaxis": {
                        "backgroundcolor": "#E5ECF6",
                        "gridcolor": "white",
                        "gridwidth": 2,
                        "linecolor": "white",
                        "showbackground": true,
                        "ticks": "",
                        "zerolinecolor": "white"
                      },
                      "yaxis": {
                        "backgroundcolor": "#E5ECF6",
                        "gridcolor": "white",
                        "gridwidth": 2,
                        "linecolor": "white",
                        "showbackground": true,
                        "ticks": "",
                        "zerolinecolor": "white"
                      },
                      "zaxis": {
                        "backgroundcolor": "#E5ECF6",
                        "gridcolor": "white",
                        "gridwidth": 2,
                        "linecolor": "white",
                        "showbackground": true,
                        "ticks": "",
                        "zerolinecolor": "white"
                      }
                    },
                    "shapedefaults": {
                      "line": {
                        "color": "#2a3f5f"
                      }
                    },
                    "ternary": {
                      "aaxis": {
                        "gridcolor": "white",
                        "linecolor": "white",
                        "ticks": ""
                      },
                      "baxis": {
                        "gridcolor": "white",
                        "linecolor": "white",
                        "ticks": ""
                      },
                      "bgcolor": "#E5ECF6",
                      "caxis": {
                        "gridcolor": "white",
                        "linecolor": "white",
                        "ticks": ""
                      }
                    },
                    "title": {
                      "x": 0.05
                    },
                    "xaxis": {
                      "automargin": true,
                      "gridcolor": "white",
                      "linecolor": "white",
                      "ticks": "",
                      "title": {
                        "standoff": 15
                      },
                      "zerolinecolor": "white",
                      "zerolinewidth": 2
                    },
                    "yaxis": {
                      "automargin": true,
                      "gridcolor": "white",
                      "linecolor": "white",
                      "ticks": "",
                      "title": {
                        "standoff": 15
                      },
                      "zerolinecolor": "white",
                      "zerolinewidth": 2
                    }
                  }
                },
                "updatemenus": [
                  {
                    "buttons": [
                      {
                        "args": [
                          null,
                          {
                            "frame": {
                              "duration": 285.7142857142857,
                              "redraw": true
                            },
                            "fromcurrent": true,
                            "transition": {
                              "duration": 0
                            }
                          }
                        ],
                        "label": "Play",
                        "method": "animate"
                      },
                      {
                        "args": [
                          [
                            null
                          ],
                          {
                            "frame": {
                              "duration": 0,
                              "redraw": true
                            },
                            "mode": "immediate",
                            "transition": {
                              "duration": 0
                            }
                          }
                        ],
                        "label": "Stop",
                        "method": "animate"
                      }
                    ],
                    "direction": "left",
                    "pad": {
                      "r": 10,
                      "t": 75
                    },
                    "showactive": true,
                    "type": "buttons",
                    "x": 0.1,
                    "xanchor": "right",
                    "y": 0,
                    "yanchor": "top"
                  }
                ],
                "xaxis": {
                  "range": [
                    -11.578497192437425,
                    26.634633485317412
                  ],
                  "title": {
                    "text": "<i>x</i>"
                  }
                },
                "yaxis": {
                  "range": [
                    -11.101646098291107,
                    41.159192500566725
                  ],
                  "title": {
                    "text": "<i>y</i>"
                  }
                }
              }
            }
          },
          "metadata": {},
          "output_type": "display_data"
        }
      ],
      "source": [
        "from stonesoup.plotter import AnimatedPlotterly\n",
        "plotter = AnimatedPlotterly(timesteps, tail_length=0.3)\n",
        "plotter.plot_ground_truths(truth, [0, 2])\n",
        "\n",
        "# Plot true detections and clutter.\n",
        "plotter.plot_measurements(all_measurements, [0, 2])\n",
        "plotter.fig"
      ]
    },
    {
      "cell_type": "markdown",
      "metadata": {},
      "source": [
        "Create the predictor and updater\n",
        "\n"
      ]
    },
    {
      "cell_type": "code",
      "execution_count": 5,
      "metadata": {
        "collapsed": false
      },
      "outputs": [],
      "source": [
        "from stonesoup.predictor.kalman import KalmanPredictor\n",
        "predictor = KalmanPredictor(transition_model)\n",
        "\n",
        "from stonesoup.updater.kalman import KalmanUpdater\n",
        "updater = KalmanUpdater(measurement_model)"
      ]
    },
    {
      "cell_type": "markdown",
      "metadata": {},
      "source": [
        "### Initialise Probabilistic Data Associator\n",
        "The `PDAHypothesiser` and `PDA` associator generate track predictions and calculate probabilities for all prediction-detection pairs for a single prediction and multiple detections.\n",
        "The `PDAHypothesiser` returns a collection of `SingleProbabilityHypothesis` types. The `PDA` takes these hypotheses and returns a dictionary of key-value pairings of each track and detection which it is to be associated with.\n",
        "\n"
      ]
    },
    {
      "cell_type": "code",
      "execution_count": 9,
      "metadata": {
        "collapsed": false
      },
      "outputs": [],
      "source": [
        "from stonesoup.hypothesiser.probability import PDAHypothesiser\n",
        "hypothesiser = PDAHypothesiser(predictor=predictor,\n",
        "                               updater=updater,\n",
        "                               clutter_spatial_density=0.125,\n",
        "                               prob_detect=prob_detect)\n",
        "\n",
        "from stonesoup.dataassociator.probability import PDA\n",
        "data_associator = PDA(hypothesiser=hypothesiser)"
      ]
    },
    {
      "cell_type": "markdown",
      "metadata": {},
      "source": [
        "### Run the PDA Filter\n",
        "\n",
        "With these components, we can run the simulated data and clutter through the Kalman filter.\n",
        "\n"
      ]
    },
    {
      "cell_type": "code",
      "execution_count": 10,
      "metadata": {
        "collapsed": false
      },
      "outputs": [],
      "source": [
        "# Create prior\n",
        "from stonesoup.types.state import GaussianState\n",
        "prior = GaussianState([[0], [1], [0], [1]], np.diag([1.5, 0.5, 1.5, 0.5]), timestamp=start_time)\n",
        "\n",
        "# Loop through the predict, hypothesise, associate and update steps.\n",
        "from stonesoup.types.track import Track\n",
        "from stonesoup.types.array import StateVectors  # For storing state vectors during association\n",
        "from stonesoup.functions import gm_reduce_single  # For merging states to get posterior estimate\n",
        "from stonesoup.types.update import GaussianStateUpdate  # To store posterior estimate\n",
        "\n",
        "track = Track([prior])\n",
        "for n, measurements in enumerate(all_measurements):\n",
        "    hypotheses = data_associator.associate({track},\n",
        "                                           measurements,\n",
        "                                           start_time + timedelta(seconds=n))\n",
        "\n",
        "    hypotheses = hypotheses[track]\n",
        "\n",
        "    # Loop through each hypothesis, creating posterior states for each, and merge to calculate\n",
        "    # approximation to actual posterior state mean and covariance.\n",
        "    posterior_states = []\n",
        "    posterior_state_weights = []\n",
        "    for hypothesis in hypotheses:\n",
        "        if not hypothesis:\n",
        "            posterior_states.append(hypothesis.prediction)\n",
        "        else:\n",
        "            posterior_state = updater.update(hypothesis)\n",
        "            posterior_states.append(posterior_state)\n",
        "        posterior_state_weights.append(\n",
        "            hypothesis.probability)\n",
        "\n",
        "    means = StateVectors([state.state_vector for state in posterior_states])\n",
        "    covars = np.stack([state.covar for state in posterior_states], axis=2)\n",
        "    weights = np.asarray(posterior_state_weights)\n",
        "\n",
        "    # Reduce mixture of states to one posterior estimate Gaussian.\n",
        "    post_mean, post_covar = gm_reduce_single(means, covars, weights)\n",
        "\n",
        "    # Add a Gaussian state approximation to the track.\n",
        "    track.append(GaussianStateUpdate(\n",
        "        post_mean, post_covar,\n",
        "        hypotheses,\n",
        "        hypotheses[0].measurement.timestamp))"
      ]
    },
    {
      "cell_type": "markdown",
      "metadata": {},
      "source": [
        "Plot the resulting track\n",
        "\n"
      ]
    },
    {
      "cell_type": "code",
      "execution_count": 11,
      "metadata": {
        "collapsed": false
      },
      "outputs": [
        {
          "data": {
            "application/vnd.plotly.v1+json": {
              "config": {
                "plotlyServerURL": "https://plot.ly"
              },
              "data": [
                {
                  "hoverinfo": "none",
                  "legendgroup": "Ground Truth",
                  "legendrank": 100,
                  "line": {
                    "color": "#EF553B",
                    "dash": "dash"
                  },
                  "mode": "lines",
                  "name": "Ground Truth",
                  "showlegend": true,
                  "type": "scatter",
                  "x": [],
                  "y": []
                },
                {
                  "hoverinfo": "none",
                  "legendgroup": "Ground Truth",
                  "legendrank": 100,
                  "line": {
                    "color": "#EF553B",
                    "dash": "dash"
                  },
                  "mode": "lines",
                  "name": "Ground Truth",
                  "showlegend": false,
                  "type": "scatter",
                  "x": [],
                  "y": []
                },
                {
                  "hoverinfo": "none",
                  "legendgroup": "Measurements<br>(Detections)",
                  "legendrank": 200,
                  "marker": {
                    "color": "#636EFA"
                  },
                  "mode": "markers",
                  "name": "Measurements<br>(Detections)",
                  "showlegend": true,
                  "type": "scatter",
                  "x": [],
                  "y": []
                },
                {
                  "hoverinfo": "none",
                  "legendgroup": "Measurements<br>(Detections)",
                  "legendrank": 200,
                  "marker": {
                    "color": "#636EFA"
                  },
                  "mode": "markers",
                  "name": "Measurements<br>(Detections)",
                  "showlegend": false,
                  "type": "scatter",
                  "x": [],
                  "y": []
                },
                {
                  "hoverinfo": "none",
                  "legendgroup": "Measurements<br>(Clutter)",
                  "legendrank": 300,
                  "marker": {
                    "color": "#FECB52",
                    "symbol": "star-triangle-up"
                  },
                  "mode": "markers",
                  "name": "Measurements<br>(Clutter)",
                  "showlegend": true,
                  "type": "scatter",
                  "x": [],
                  "y": []
                },
                {
                  "legendgroup": "Tracks",
                  "legendrank": 400,
                  "line": {
                    "color": "#AB63FA"
                  },
                  "mode": "markers+lines",
                  "name": "Tracks",
                  "showlegend": true,
                  "type": "scatter",
                  "x": [],
                  "y": []
                },
                {
                  "legendgroup": "Tracks",
                  "legendrank": 400,
                  "line": {
                    "color": "#AB63FA"
                  },
                  "mode": "markers+lines",
                  "name": "Tracks",
                  "showlegend": false,
                  "type": "scatter",
                  "x": [],
                  "y": []
                },
                {
                  "fill": "toself",
                  "fillcolor": "#AB63FA",
                  "hoverinfo": "skip",
                  "legendgroup": "Tracks<br>Uncertainty",
                  "legendrank": 500,
                  "mode": "none",
                  "name": "Tracks<br>Uncertainty",
                  "opacity": 0.2,
                  "showlegend": true,
                  "type": "scatter",
                  "x": [],
                  "y": []
                },
                {
                  "fill": "toself",
                  "fillcolor": "#AB63FA",
                  "hoverinfo": "skip",
                  "legendgroup": "Tracks<br>Uncertainty",
                  "legendrank": 500,
                  "mode": "none",
                  "name": "Tracks<br>Uncertainty",
                  "opacity": 0.2,
                  "showlegend": false,
                  "type": "scatter",
                  "x": [],
                  "y": []
                },
                {
                  "legendgroup": "Tracks",
                  "legendrank": 400,
                  "line": {
                    "color": "#AB63FA"
                  },
                  "mode": "markers+lines",
                  "name": "Tracks",
                  "showlegend": true,
                  "type": "scatter",
                  "x": [],
                  "y": []
                },
                {
                  "legendgroup": "Tracks",
                  "legendrank": 400,
                  "line": {
                    "color": "#AB63FA"
                  },
                  "mode": "markers+lines",
                  "name": "Tracks",
                  "showlegend": false,
                  "type": "scatter",
                  "x": [],
                  "y": []
                },
                {
                  "fill": "toself",
                  "fillcolor": "#AB63FA",
                  "hoverinfo": "skip",
                  "legendgroup": "Tracks<br>Uncertainty",
                  "legendrank": 500,
                  "mode": "none",
                  "name": "Tracks<br>Uncertainty",
                  "opacity": 0.2,
                  "showlegend": true,
                  "type": "scatter",
                  "x": [],
                  "y": []
                },
                {
                  "fill": "toself",
                  "fillcolor": "#AB63FA",
                  "hoverinfo": "skip",
                  "legendgroup": "Tracks<br>Uncertainty",
                  "legendrank": 500,
                  "mode": "none",
                  "name": "Tracks<br>Uncertainty",
                  "opacity": 0.2,
                  "showlegend": false,
                  "type": "scatter",
                  "x": [],
                  "y": []
                }
              ],
              "frames": [
                {
                  "data": [
                    {
                      "type": "scatter",
                      "x": [
                        0,
                        0
                      ],
                      "y": [
                        0,
                        0
                      ]
                    },
                    {
                      "hovertemplate": "GroundTruthState<br>(%{x}, %{y})<br>Time: %{meta}",
                      "meta": [
                        "2024-11-01 11:46:23"
                      ],
                      "type": "scatter",
                      "x": [
                        0,
                        null
                      ],
                      "y": [
                        0,
                        null
                      ]
                    },
                    {
                      "type": "scatter",
                      "x": [
                        null,
                        null
                      ],
                      "y": [
                        null,
                        null
                      ]
                    },
                    {
                      "hovertemplate": "Detection<br>(%{x}, %{y})<br>Time: %{meta}",
                      "meta": [
                        "2024-11-01 11:46:23"
                      ],
                      "type": "scatter",
                      "x": [
                        0.024509367079263666,
                        null
                      ],
                      "y": [
                        0.5202208082239121,
                        null
                      ]
                    },
                    {
                      "hovertemplate": "Clutter<br>(%{x}, %{y})<br>Time: %{meta}",
                      "meta": [
                        "2024-11-01 11:46:23",
                        "2024-11-01 11:46:23",
                        "2024-11-01 11:46:23",
                        "2024-11-01 11:46:23",
                        "2024-11-01 11:46:23"
                      ],
                      "type": "scatter",
                      "x": [
                        6.8450447360252795,
                        -0.5925571557114235,
                        -9.841536707084932,
                        -5.099913717846882,
                        -2.7506574434162756,
                        null
                      ],
                      "y": [
                        -2.050233410165612,
                        -0.09966429509591102,
                        -4.404817816061655,
                        -8.72615343470666,
                        -5.563544728855723,
                        null
                      ]
                    },
                    {
                      "type": "scatter",
                      "x": [
                        null,
                        null
                      ],
                      "y": [
                        null,
                        null
                      ]
                    },
                    {
                      "customdata": [
                        "2024-11-01 11:46:23",
                        "2024-11-01 11:46:23"
                      ],
                      "hovertemplate": "%{meta}<br>(%{x}, %{y})<br>Time: %{customdata}",
                      "meta": [
                        "GaussianState",
                        "GaussianStateUpdate"
                      ],
                      "type": "scatter",
                      "x": [
                        0,
                        -0.1624840511143347,
                        null
                      ],
                      "y": [
                        0,
                        0.12340326799953706,
                        null
                      ]
                    },
                    {
                      "type": "scatter",
                      "x": [
                        null
                      ],
                      "y": [
                        null
                      ]
                    },
                    {
                      "type": "scatter",
                      "x": [
                        0,
                        0.2546387770314045,
                        0.49814861761411755,
                        0.7198869732248175,
                        0.910162813704636,
                        1.0606601717798212,
                        1.1648015907360405,
                        1.218035590838935,
                        1.2180355908389353,
                        1.1648015907360405,
                        1.0606601717798212,
                        0.9101628137046363,
                        0.7198869732248178,
                        0.49814861761411783,
                        0.2546387770314039,
                        1.4998798865218462e-16,
                        -0.2546387770314047,
                        -0.49814861761411755,
                        -0.7198869732248175,
                        -0.9101628137046357,
                        -1.0606601717798214,
                        -1.1648015907360405,
                        -1.218035590838935,
                        -1.218035590838935,
                        -1.1648015907360405,
                        -1.0606601717798212,
                        -0.9101628137046357,
                        -0.719886973224818,
                        -0.4981486176141175,
                        -0.25463877703140514,
                        0,
                        null,
                        -0.7218451189185079,
                        -0.5851472117569363,
                        -0.4299964658840584,
                        -0.2630772682845144,
                        -0.09161745719546391,
                        0.07690179973991793,
                        0.23506797593448706,
                        0.3758790652307423,
                        0.4930837636408113,
                        0.5814920120362571,
                        0.6372279351458724,
                        0.6579037553463919,
                        0.6427055476211708,
                        0.5923943876807026,
                        0.5092361401555522,
                        0.39687701668983855,
                        0.2601798496547285,
                        0.10502976381730264,
                        -0.06188915459271052,
                        -0.23334917204927655,
                        -0.401868971162595,
                        -0.5600357168791362,
                        -0.7008471297630392,
                        -0.8180518358306192,
                        -0.9064599401091643,
                        -0.9621958197467112,
                        -0.9828718339882309,
                        -0.9676739751274467,
                        -0.9173630702678685,
                        -0.8342047382575415,
                        -0.7218451189185079,
                        null,
                        null
                      ],
                      "y": [
                        1.224744871391589,
                        1.1979812574627162,
                        1.1188601140308574,
                        0.9908394147293549,
                        0.8195142784291558,
                        0.6123724356957946,
                        0.37846697903356036,
                        0.12802069930150267,
                        -0.1280206993015025,
                        -0.3784669790335605,
                        -0.6123724356957942,
                        -0.8195142784291554,
                        -0.9908394147293547,
                        -1.1188601140308574,
                        -1.1979812574627162,
                        -1.224744871391589,
                        -1.197981257462716,
                        -1.1188601140308574,
                        -0.9908394147293549,
                        -0.819514278429156,
                        -0.612372435695794,
                        -0.3784669790335605,
                        -0.12802069930150362,
                        0.12802069930150317,
                        0.3784669790335601,
                        0.6123724356957946,
                        0.819514278429156,
                        0.9908394147293547,
                        1.1188601140308576,
                        1.197981257462716,
                        1.224744871391589,
                        null,
                        0.6942145450065006,
                        0.8038270708769544,
                        0.8838583701284918,
                        0.9307970124239296,
                        0.9425233847924176,
                        0.9184281086393992,
                        0.8594755725104265,
                        0.7681958019503115,
                        0.6485918972354386,
                        0.5059599946330292,
                        0.3466312956201848,
                        0.17765790522463593,
                        0.006470674501606835,
                        -0.15946296624544087,
                        -0.3129597169570683,
                        -0.4474080090074264,
                        -0.5570200539013012,
                        -0.6370512820258339,
                        -0.6839901851122653,
                        -0.6957169022348099,
                        -0.6716218091754779,
                        -0.6126692180242359,
                        -0.5213892967601782,
                        -0.4017853995492089,
                        -0.25915382352139127,
                        -0.09982569502840193,
                        0.06914715701010594,
                        0.24033418839293524,
                        0.4062681135560085,
                        0.5597655227265224,
                        0.6942145450065006,
                        null,
                        null
                      ]
                    },
                    {
                      "type": "scatter",
                      "x": [
                        null,
                        null
                      ],
                      "y": [
                        null,
                        null
                      ]
                    },
                    {
                      "customdata": [
                        "2024-11-01 11:46:23",
                        "2024-11-01 11:46:23"
                      ],
                      "hovertemplate": "%{meta}<br>(%{x}, %{y})<br>Time: %{customdata}",
                      "meta": [
                        "GaussianState",
                        "GaussianStateUpdate"
                      ],
                      "type": "scatter",
                      "x": [
                        0,
                        -0.1624840511143347,
                        null
                      ],
                      "y": [
                        0,
                        0.12340326799953706,
                        null
                      ]
                    },
                    {
                      "type": "scatter",
                      "x": [
                        null
                      ],
                      "y": [
                        null
                      ]
                    },
                    {
                      "type": "scatter",
                      "x": [
                        0,
                        0.2546387770314045,
                        0.49814861761411755,
                        0.7198869732248175,
                        0.910162813704636,
                        1.0606601717798212,
                        1.1648015907360405,
                        1.218035590838935,
                        1.2180355908389353,
                        1.1648015907360405,
                        1.0606601717798212,
                        0.9101628137046363,
                        0.7198869732248178,
                        0.49814861761411783,
                        0.2546387770314039,
                        1.4998798865218462e-16,
                        -0.2546387770314047,
                        -0.49814861761411755,
                        -0.7198869732248175,
                        -0.9101628137046357,
                        -1.0606601717798214,
                        -1.1648015907360405,
                        -1.218035590838935,
                        -1.218035590838935,
                        -1.1648015907360405,
                        -1.0606601717798212,
                        -0.9101628137046357,
                        -0.719886973224818,
                        -0.4981486176141175,
                        -0.25463877703140514,
                        0,
                        null,
                        -0.7218451189185079,
                        -0.5851472117569363,
                        -0.4299964658840584,
                        -0.2630772682845144,
                        -0.09161745719546391,
                        0.07690179973991793,
                        0.23506797593448706,
                        0.3758790652307423,
                        0.4930837636408113,
                        0.5814920120362571,
                        0.6372279351458724,
                        0.6579037553463919,
                        0.6427055476211708,
                        0.5923943876807026,
                        0.5092361401555522,
                        0.39687701668983855,
                        0.2601798496547285,
                        0.10502976381730264,
                        -0.06188915459271052,
                        -0.23334917204927655,
                        -0.401868971162595,
                        -0.5600357168791362,
                        -0.7008471297630392,
                        -0.8180518358306192,
                        -0.9064599401091643,
                        -0.9621958197467112,
                        -0.9828718339882309,
                        -0.9676739751274467,
                        -0.9173630702678685,
                        -0.8342047382575415,
                        -0.7218451189185079,
                        null,
                        null
                      ],
                      "y": [
                        1.224744871391589,
                        1.1979812574627162,
                        1.1188601140308574,
                        0.9908394147293549,
                        0.8195142784291558,
                        0.6123724356957946,
                        0.37846697903356036,
                        0.12802069930150267,
                        -0.1280206993015025,
                        -0.3784669790335605,
                        -0.6123724356957942,
                        -0.8195142784291554,
                        -0.9908394147293547,
                        -1.1188601140308574,
                        -1.1979812574627162,
                        -1.224744871391589,
                        -1.197981257462716,
                        -1.1188601140308574,
                        -0.9908394147293549,
                        -0.819514278429156,
                        -0.612372435695794,
                        -0.3784669790335605,
                        -0.12802069930150362,
                        0.12802069930150317,
                        0.3784669790335601,
                        0.6123724356957946,
                        0.819514278429156,
                        0.9908394147293547,
                        1.1188601140308576,
                        1.197981257462716,
                        1.224744871391589,
                        null,
                        0.6942145450065006,
                        0.8038270708769544,
                        0.8838583701284918,
                        0.9307970124239296,
                        0.9425233847924176,
                        0.9184281086393992,
                        0.8594755725104265,
                        0.7681958019503115,
                        0.6485918972354386,
                        0.5059599946330292,
                        0.3466312956201848,
                        0.17765790522463593,
                        0.006470674501606835,
                        -0.15946296624544087,
                        -0.3129597169570683,
                        -0.4474080090074264,
                        -0.5570200539013012,
                        -0.6370512820258339,
                        -0.6839901851122653,
                        -0.6957169022348099,
                        -0.6716218091754779,
                        -0.6126692180242359,
                        -0.5213892967601782,
                        -0.4017853995492089,
                        -0.25915382352139127,
                        -0.09982569502840193,
                        0.06914715701010594,
                        0.24033418839293524,
                        0.4062681135560085,
                        0.5597655227265224,
                        0.6942145450065006,
                        null,
                        null
                      ]
                    }
                  ],
                  "name": "2024-11-01 11:46:23",
                  "traces": [
                    0,
                    1,
                    2,
                    3,
                    4,
                    5,
                    6,
                    7,
                    8,
                    9,
                    10,
                    11,
                    12
                  ]
                },
                {
                  "data": [
                    {
                      "type": "scatter",
                      "x": [
                        0,
                        0
                      ],
                      "y": [
                        0,
                        0
                      ]
                    },
                    {
                      "hovertemplate": "GroundTruthState<br>(%{x}, %{y})<br>Time: %{meta}",
                      "meta": [
                        "2024-11-01 11:46:23",
                        "2024-11-01 11:46:24"
                      ],
                      "type": "scatter",
                      "x": [
                        0,
                        1.0560429805265472,
                        null
                      ],
                      "y": [
                        0,
                        1.0002136913507915,
                        null
                      ]
                    },
                    {
                      "type": "scatter",
                      "x": [
                        null,
                        null
                      ],
                      "y": [
                        null,
                        null
                      ]
                    },
                    {
                      "hovertemplate": "Detection<br>(%{x}, %{y})<br>Time: %{meta}",
                      "meta": [
                        "2024-11-01 11:46:23",
                        "2024-11-01 11:46:24"
                      ],
                      "type": "scatter",
                      "x": [
                        0.024509367079263666,
                        0.3954661203145644,
                        null
                      ],
                      "y": [
                        0.5202208082239121,
                        0.6268126681876752,
                        null
                      ]
                    },
                    {
                      "hovertemplate": "Clutter<br>(%{x}, %{y})<br>Time: %{meta}",
                      "meta": [
                        "2024-11-01 11:46:23",
                        "2024-11-01 11:46:23",
                        "2024-11-01 11:46:23",
                        "2024-11-01 11:46:23",
                        "2024-11-01 11:46:23",
                        "2024-11-01 11:46:24",
                        "2024-11-01 11:46:24",
                        "2024-11-01 11:46:24",
                        "2024-11-01 11:46:24",
                        "2024-11-01 11:46:24"
                      ],
                      "type": "scatter",
                      "x": [
                        6.8450447360252795,
                        -0.5925571557114235,
                        -9.841536707084932,
                        -5.099913717846882,
                        -2.7506574434162756,
                        5.623949298672091,
                        0.896358631336053,
                        -3.658619985028256,
                        3.3187677378535483,
                        5.850994664882053,
                        null
                      ],
                      "y": [
                        -2.050233410165612,
                        -0.09966429509591102,
                        -4.404817816061655,
                        -8.72615343470666,
                        -5.563544728855723,
                        -2.33503735088553,
                        4.249155554843304,
                        5.370013999650665,
                        -5.324360445111365,
                        2.9688072493662663,
                        null
                      ]
                    },
                    {
                      "type": "scatter",
                      "x": [
                        null,
                        null
                      ],
                      "y": [
                        null,
                        null
                      ]
                    },
                    {
                      "customdata": [
                        "2024-11-01 11:46:23",
                        "2024-11-01 11:46:23",
                        "2024-11-01 11:46:24"
                      ],
                      "hovertemplate": "%{meta}<br>(%{x}, %{y})<br>Time: %{customdata}",
                      "meta": [
                        "GaussianState",
                        "GaussianStateUpdate",
                        "GaussianStateUpdate"
                      ],
                      "type": "scatter",
                      "x": [
                        0,
                        -0.1624840511143347,
                        0.6405088609324536,
                        null
                      ],
                      "y": [
                        0,
                        0.12340326799953706,
                        1.0223546708169413,
                        null
                      ]
                    },
                    {
                      "type": "scatter",
                      "x": [
                        null
                      ],
                      "y": [
                        null
                      ]
                    },
                    {
                      "type": "scatter",
                      "x": [
                        1.4027002256132466,
                        1.348245889381313,
                        1.2641089772045055,
                        1.1529415133150482,
                        1.018458682169391,
                        0.8656701779046819,
                        0.7010376559258162,
                        0.5323547497779627,
                        0.3682121572758934,
                        0.217100055836965,
                        0.08644627639490499,
                        -0.018043653133823723,
                        -0.09256019872438137,
                        -0.13500776968315464,
                        -0.1446292541824833,
                        -0.12168250374833944,
                        -0.0672311888994015,
                        0.016908770141990437,
                        0.1280762546048526,
                        0.2625563660357577,
                        0.4153475183572512,
                        0.5799800395214703,
                        0.7486629686483653,
                        0.9128055613324716,
                        1.0639176437064843,
                        1.1945714265190879,
                        1.2990597110672295,
                        1.3735779424747023,
                        1.4160254983136107,
                        1.42564726994696,
                        1.4027002256132466,
                        null,
                        null
                      ],
                      "y": [
                        0.8660946692585698,
                        0.6805535481149451,
                        0.5084327590654841,
                        0.35658140643201297,
                        0.23176045301394765,
                        0.14033584885633,
                        0.08773552110769034,
                        0.07766405372831442,
                        0.11131560542690011,
                        0.18694957886601082,
                        0.30008777808516507,
                        0.44426064638261653,
                        0.6119267982407257,
                        0.7952714178680598,
                        0.9866224761943508,
                        1.1786146723753124,
                        1.3641479876076383,
                        1.5362766249085698,
                        1.688127987183628,
                        1.812946870671614,
                        1.9043734811212203,
                        1.9569738155323328,
                        1.9670452881479081,
                        1.9333937373372367,
                        1.8577597777539325,
                        1.7446215843392274,
                        1.6004516024670967,
                        1.4327824774826556,
                        1.2494378748145336,
                        1.0580952305234803,
                        0.8660946692585698,
                        null,
                        null
                      ]
                    },
                    {
                      "type": "scatter",
                      "x": [
                        null,
                        null
                      ],
                      "y": [
                        null,
                        null
                      ]
                    },
                    {
                      "customdata": [
                        "2024-11-01 11:46:23",
                        "2024-11-01 11:46:23",
                        "2024-11-01 11:46:24"
                      ],
                      "hovertemplate": "%{meta}<br>(%{x}, %{y})<br>Time: %{customdata}",
                      "meta": [
                        "GaussianState",
                        "GaussianStateUpdate",
                        "GaussianStateUpdate"
                      ],
                      "type": "scatter",
                      "x": [
                        0,
                        -0.1624840511143347,
                        0.6405088609324536,
                        null
                      ],
                      "y": [
                        0,
                        0.12340326799953706,
                        1.0223546708169413,
                        null
                      ]
                    },
                    {
                      "type": "scatter",
                      "x": [
                        null
                      ],
                      "y": [
                        null
                      ]
                    },
                    {
                      "type": "scatter",
                      "x": [
                        1.4027002256132466,
                        1.348245889381313,
                        1.2641089772045055,
                        1.1529415133150482,
                        1.018458682169391,
                        0.8656701779046819,
                        0.7010376559258162,
                        0.5323547497779627,
                        0.3682121572758934,
                        0.217100055836965,
                        0.08644627639490499,
                        -0.018043653133823723,
                        -0.09256019872438137,
                        -0.13500776968315464,
                        -0.1446292541824833,
                        -0.12168250374833944,
                        -0.0672311888994015,
                        0.016908770141990437,
                        0.1280762546048526,
                        0.2625563660357577,
                        0.4153475183572512,
                        0.5799800395214703,
                        0.7486629686483653,
                        0.9128055613324716,
                        1.0639176437064843,
                        1.1945714265190879,
                        1.2990597110672295,
                        1.3735779424747023,
                        1.4160254983136107,
                        1.42564726994696,
                        1.4027002256132466,
                        null,
                        null
                      ],
                      "y": [
                        0.8660946692585698,
                        0.6805535481149451,
                        0.5084327590654841,
                        0.35658140643201297,
                        0.23176045301394765,
                        0.14033584885633,
                        0.08773552110769034,
                        0.07766405372831442,
                        0.11131560542690011,
                        0.18694957886601082,
                        0.30008777808516507,
                        0.44426064638261653,
                        0.6119267982407257,
                        0.7952714178680598,
                        0.9866224761943508,
                        1.1786146723753124,
                        1.3641479876076383,
                        1.5362766249085698,
                        1.688127987183628,
                        1.812946870671614,
                        1.9043734811212203,
                        1.9569738155323328,
                        1.9670452881479081,
                        1.9333937373372367,
                        1.8577597777539325,
                        1.7446215843392274,
                        1.6004516024670967,
                        1.4327824774826556,
                        1.2494378748145336,
                        1.0580952305234803,
                        0.8660946692585698,
                        null,
                        null
                      ]
                    }
                  ],
                  "name": "2024-11-01 11:46:24",
                  "traces": [
                    0,
                    1,
                    2,
                    3,
                    4,
                    5,
                    6,
                    7,
                    8,
                    9,
                    10,
                    11,
                    12
                  ]
                },
                {
                  "data": [
                    {
                      "type": "scatter",
                      "x": [
                        0,
                        0
                      ],
                      "y": [
                        0,
                        0
                      ]
                    },
                    {
                      "hovertemplate": "GroundTruthState<br>(%{x}, %{y})<br>Time: %{meta}",
                      "meta": [
                        "2024-11-01 11:46:23",
                        "2024-11-01 11:46:24",
                        "2024-11-01 11:46:25"
                      ],
                      "type": "scatter",
                      "x": [
                        0,
                        1.0560429805265472,
                        2.0871090094870777,
                        null
                      ],
                      "y": [
                        0,
                        1.0002136913507915,
                        2.0097169051278136,
                        null
                      ]
                    },
                    {
                      "type": "scatter",
                      "x": [
                        null,
                        null
                      ],
                      "y": [
                        null,
                        null
                      ]
                    },
                    {
                      "hovertemplate": "Detection<br>(%{x}, %{y})<br>Time: %{meta}",
                      "meta": [
                        "2024-11-01 11:46:23",
                        "2024-11-01 11:46:24",
                        "2024-11-01 11:46:25"
                      ],
                      "type": "scatter",
                      "x": [
                        0.024509367079263666,
                        0.3954661203145644,
                        2.209235781123469,
                        null
                      ],
                      "y": [
                        0.5202208082239121,
                        0.6268126681876752,
                        2.3435536247487607,
                        null
                      ]
                    },
                    {
                      "hovertemplate": "Clutter<br>(%{x}, %{y})<br>Time: %{meta}",
                      "meta": [
                        "2024-11-01 11:46:23",
                        "2024-11-01 11:46:23",
                        "2024-11-01 11:46:23",
                        "2024-11-01 11:46:23",
                        "2024-11-01 11:46:23",
                        "2024-11-01 11:46:24",
                        "2024-11-01 11:46:24",
                        "2024-11-01 11:46:24",
                        "2024-11-01 11:46:24",
                        "2024-11-01 11:46:24",
                        "2024-11-01 11:46:25",
                        "2024-11-01 11:46:25",
                        "2024-11-01 11:46:25",
                        "2024-11-01 11:46:25",
                        "2024-11-01 11:46:25",
                        "2024-11-01 11:46:25",
                        "2024-11-01 11:46:25"
                      ],
                      "type": "scatter",
                      "x": [
                        6.8450447360252795,
                        -0.5925571557114235,
                        -9.841536707084932,
                        -5.099913717846882,
                        -2.7506574434162756,
                        5.623949298672091,
                        0.896358631336053,
                        -3.658619985028256,
                        3.3187677378535483,
                        5.850994664882053,
                        -6.790410277557795,
                        2.698815071254005,
                        11.282428822785326,
                        11.32042433636373,
                        -1.474329059236986,
                        10.322060405517517,
                        3.2483323415259004,
                        null
                      ],
                      "y": [
                        -2.050233410165612,
                        -0.09966429509591102,
                        -4.404817816061655,
                        -8.72615343470666,
                        -5.563544728855723,
                        -2.33503735088553,
                        4.249155554843304,
                        5.370013999650665,
                        -5.324360445111365,
                        2.9688072493662663,
                        5.8747218671789305,
                        -4.723204548853852,
                        -2.6024782664876476,
                        10.111407039780456,
                        10.029085012443296,
                        4.852636329535342,
                        9.840535042009503,
                        null
                      ]
                    },
                    {
                      "type": "scatter",
                      "x": [
                        null,
                        null
                      ],
                      "y": [
                        null,
                        null
                      ]
                    },
                    {
                      "customdata": [
                        "2024-11-01 11:46:23",
                        "2024-11-01 11:46:23",
                        "2024-11-01 11:46:24",
                        "2024-11-01 11:46:25"
                      ],
                      "hovertemplate": "%{meta}<br>(%{x}, %{y})<br>Time: %{customdata}",
                      "meta": [
                        "GaussianState",
                        "GaussianStateUpdate",
                        "GaussianStateUpdate",
                        "GaussianStateUpdate"
                      ],
                      "type": "scatter",
                      "x": [
                        0,
                        -0.1624840511143347,
                        0.6405088609324536,
                        1.8824469355927698,
                        null
                      ],
                      "y": [
                        0,
                        0.12340326799953706,
                        1.0223546708169413,
                        2.183016619491018,
                        null
                      ]
                    },
                    {
                      "type": "scatter",
                      "x": [
                        null
                      ],
                      "y": [
                        null
                      ]
                    },
                    {
                      "type": "scatter",
                      "x": [
                        2.7374871379532992,
                        2.6572896525034135,
                        2.5436625153837746,
                        2.4011267852074285,
                        2.2355087951415746,
                        2.0536914709721183,
                        1.8636591432218503,
                        1.6739561747981087,
                        1.4934224616591427,
                        1.3303608755533263,
                        1.192172341475944,
                        1.0848814654151666,
                        1.0128822803140436,
                        0.9788667616292828,
                        0.9838660014399007,
                        1.027406733232247,
                        1.1075948833699973,
                        1.2212411948792283,
                        1.363738032263491,
                        1.5293982086621858,
                        1.7112267651351454,
                        1.9012713121359373,
                        2.090936668282704,
                        2.2714704553656553,
                        2.434562014024659,
                        2.5727376071777295,
                        2.6800191773942985,
                        2.7520016068604445,
                        2.7860282204785136,
                        2.781030211612204,
                        2.7374871379532992,
                        null,
                        null
                      ],
                      "y": [
                        1.9140556735248266,
                        1.7231319778481113,
                        1.5516595206891528,
                        1.4069512597331157,
                        1.2954849359453764,
                        1.2224778940839376,
                        1.1916707728003597,
                        1.2048586963404617,
                        1.2616474047221835,
                        1.3594115480289337,
                        1.4934623710190622,
                        1.657414484401715,
                        1.8436699502929064,
                        2.043865511405193,
                        2.249543540538151,
                        2.4519775654572302,
                        2.6428837998955474,
                        2.814385869699527,
                        2.9590578073237253,
                        3.0705552834616356,
                        3.1435621572440873,
                        3.1743641742243223,
                        3.1611747368759087,
                        3.104386263565784,
                        3.006599347006074,
                        2.8725513340824826,
                        2.708605513088575,
                        2.5223997402984812,
                        2.3221521317446903,
                        2.1165093595363915,
                        1.9140556735248266,
                        null,
                        null
                      ]
                    },
                    {
                      "type": "scatter",
                      "x": [
                        null,
                        null
                      ],
                      "y": [
                        null,
                        null
                      ]
                    },
                    {
                      "customdata": [
                        "2024-11-01 11:46:23",
                        "2024-11-01 11:46:23",
                        "2024-11-01 11:46:24",
                        "2024-11-01 11:46:25"
                      ],
                      "hovertemplate": "%{meta}<br>(%{x}, %{y})<br>Time: %{customdata}",
                      "meta": [
                        "GaussianState",
                        "GaussianStateUpdate",
                        "GaussianStateUpdate",
                        "GaussianStateUpdate"
                      ],
                      "type": "scatter",
                      "x": [
                        0,
                        -0.1624840511143347,
                        0.6405088609324536,
                        1.8824469355927698,
                        null
                      ],
                      "y": [
                        0,
                        0.12340326799953706,
                        1.0223546708169413,
                        2.183016619491018,
                        null
                      ]
                    },
                    {
                      "type": "scatter",
                      "x": [
                        null
                      ],
                      "y": [
                        null
                      ]
                    },
                    {
                      "type": "scatter",
                      "x": [
                        2.7374871379532992,
                        2.6572896525034135,
                        2.5436625153837746,
                        2.4011267852074285,
                        2.2355087951415746,
                        2.0536914709721183,
                        1.8636591432218503,
                        1.6739561747981087,
                        1.4934224616591427,
                        1.3303608755533263,
                        1.192172341475944,
                        1.0848814654151666,
                        1.0128822803140436,
                        0.9788667616292828,
                        0.9838660014399007,
                        1.027406733232247,
                        1.1075948833699973,
                        1.2212411948792283,
                        1.363738032263491,
                        1.5293982086621858,
                        1.7112267651351454,
                        1.9012713121359373,
                        2.090936668282704,
                        2.2714704553656553,
                        2.434562014024659,
                        2.5727376071777295,
                        2.6800191773942985,
                        2.7520016068604445,
                        2.7860282204785136,
                        2.781030211612204,
                        2.7374871379532992,
                        null,
                        null
                      ],
                      "y": [
                        1.9140556735248266,
                        1.7231319778481113,
                        1.5516595206891528,
                        1.4069512597331157,
                        1.2954849359453764,
                        1.2224778940839376,
                        1.1916707728003597,
                        1.2048586963404617,
                        1.2616474047221835,
                        1.3594115480289337,
                        1.4934623710190622,
                        1.657414484401715,
                        1.8436699502929064,
                        2.043865511405193,
                        2.249543540538151,
                        2.4519775654572302,
                        2.6428837998955474,
                        2.814385869699527,
                        2.9590578073237253,
                        3.0705552834616356,
                        3.1435621572440873,
                        3.1743641742243223,
                        3.1611747368759087,
                        3.104386263565784,
                        3.006599347006074,
                        2.8725513340824826,
                        2.708605513088575,
                        2.5223997402984812,
                        2.3221521317446903,
                        2.1165093595363915,
                        1.9140556735248266,
                        null,
                        null
                      ]
                    }
                  ],
                  "name": "2024-11-01 11:46:25",
                  "traces": [
                    0,
                    1,
                    2,
                    3,
                    4,
                    5,
                    6,
                    7,
                    8,
                    9,
                    10,
                    11,
                    12
                  ]
                },
                {
                  "data": [
                    {
                      "type": "scatter",
                      "x": [
                        0,
                        0
                      ],
                      "y": [
                        0,
                        0
                      ]
                    },
                    {
                      "hovertemplate": "GroundTruthState<br>(%{x}, %{y})<br>Time: %{meta}",
                      "meta": [
                        "2024-11-01 11:46:23",
                        "2024-11-01 11:46:24",
                        "2024-11-01 11:46:25",
                        "2024-11-01 11:46:26"
                      ],
                      "type": "scatter",
                      "x": [
                        0,
                        1.0560429805265472,
                        2.0871090094870777,
                        3.049344171234631,
                        null
                      ],
                      "y": [
                        0,
                        1.0002136913507915,
                        2.0097169051278136,
                        3.0656770596553575,
                        null
                      ]
                    },
                    {
                      "type": "scatter",
                      "x": [
                        null,
                        null
                      ],
                      "y": [
                        null,
                        null
                      ]
                    },
                    {
                      "hovertemplate": "Detection<br>(%{x}, %{y})<br>Time: %{meta}",
                      "meta": [
                        "2024-11-01 11:46:23",
                        "2024-11-01 11:46:24",
                        "2024-11-01 11:46:25",
                        "2024-11-01 11:46:26"
                      ],
                      "type": "scatter",
                      "x": [
                        0.024509367079263666,
                        0.3954661203145644,
                        2.209235781123469,
                        2.9114210737926856,
                        null
                      ],
                      "y": [
                        0.5202208082239121,
                        0.6268126681876752,
                        2.3435536247487607,
                        2.5449618532030187,
                        null
                      ]
                    },
                    {
                      "hovertemplate": "Clutter<br>(%{x}, %{y})<br>Time: %{meta}",
                      "meta": [
                        "2024-11-01 11:46:23",
                        "2024-11-01 11:46:23",
                        "2024-11-01 11:46:23",
                        "2024-11-01 11:46:23",
                        "2024-11-01 11:46:23",
                        "2024-11-01 11:46:24",
                        "2024-11-01 11:46:24",
                        "2024-11-01 11:46:24",
                        "2024-11-01 11:46:24",
                        "2024-11-01 11:46:24",
                        "2024-11-01 11:46:25",
                        "2024-11-01 11:46:25",
                        "2024-11-01 11:46:25",
                        "2024-11-01 11:46:25",
                        "2024-11-01 11:46:25",
                        "2024-11-01 11:46:25",
                        "2024-11-01 11:46:25",
                        "2024-11-01 11:46:26",
                        "2024-11-01 11:46:26",
                        "2024-11-01 11:46:26",
                        "2024-11-01 11:46:26"
                      ],
                      "type": "scatter",
                      "x": [
                        6.8450447360252795,
                        -0.5925571557114235,
                        -9.841536707084932,
                        -5.099913717846882,
                        -2.7506574434162756,
                        5.623949298672091,
                        0.896358631336053,
                        -3.658619985028256,
                        3.3187677378535483,
                        5.850994664882053,
                        -6.790410277557795,
                        2.698815071254005,
                        11.282428822785326,
                        11.32042433636373,
                        -1.474329059236986,
                        10.322060405517517,
                        3.2483323415259004,
                        8.93859777930715,
                        -0.2825021212365719,
                        2.8999183814283267,
                        -0.5115467826555768,
                        null
                      ],
                      "y": [
                        -2.050233410165612,
                        -0.09966429509591102,
                        -4.404817816061655,
                        -8.72615343470666,
                        -5.563544728855723,
                        -2.33503735088553,
                        4.249155554843304,
                        5.370013999650665,
                        -5.324360445111365,
                        2.9688072493662663,
                        5.8747218671789305,
                        -4.723204548853852,
                        -2.6024782664876476,
                        10.111407039780456,
                        10.029085012443296,
                        4.852636329535342,
                        9.840535042009503,
                        -0.01941981084851019,
                        -0.8938217200062688,
                        9.98195151307322,
                        -4.177560490044009,
                        null
                      ]
                    },
                    {
                      "type": "scatter",
                      "x": [
                        null,
                        null
                      ],
                      "y": [
                        null,
                        null
                      ]
                    },
                    {
                      "customdata": [
                        "2024-11-01 11:46:23",
                        "2024-11-01 11:46:23",
                        "2024-11-01 11:46:24",
                        "2024-11-01 11:46:25",
                        "2024-11-01 11:46:26"
                      ],
                      "hovertemplate": "%{meta}<br>(%{x}, %{y})<br>Time: %{customdata}",
                      "meta": [
                        "GaussianState",
                        "GaussianStateUpdate",
                        "GaussianStateUpdate",
                        "GaussianStateUpdate",
                        "GaussianStateUpdate"
                      ],
                      "type": "scatter",
                      "x": [
                        0,
                        -0.1624840511143347,
                        0.6405088609324536,
                        1.8824469355927698,
                        2.91924591376858,
                        null
                      ],
                      "y": [
                        0,
                        0.12340326799953706,
                        1.0223546708169413,
                        2.183016619491018,
                        2.858178093862018,
                        null
                      ]
                    },
                    {
                      "type": "scatter",
                      "x": [
                        null
                      ],
                      "y": [
                        null
                      ]
                    },
                    {
                      "type": "scatter",
                      "x": [
                        3.820406929232949,
                        3.7504894194895946,
                        3.644497211977203,
                        3.506830377249552,
                        3.3432638023097776,
                        3.160786631108664,
                        2.9673585876846382,
                        2.771569406835415,
                        2.582212171663822,
                        2.4078082550992184,
                        2.2561391515210536,
                        2.133845264715764,
                        2.0461320420079074,
                        1.9965969054674129,
                        1.9871625964143762,
                        2.0180848983042114,
                        2.0880001673578414,
                        2.1939892950583837,
                        2.331653940874623,
                        2.4952204938322167,
                        2.6776998156692224,
                        2.8711308767972343,
                        3.066922137965247,
                        3.2562793888439883,
                        3.4306815929319607,
                        3.582348755081103,
                        3.704641993236096,
                        3.7923563653517567,
                        3.841893635480893,
                        3.851329505316914,
                        3.820406929232949,
                        null,
                        null
                      ],
                      "y": [
                        2.6325684366939357,
                        2.436055067849357,
                        2.2576647542737485,
                        2.1050888501311267,
                        1.985053867399195,
                        1.9030067220784583,
                        1.862801261805536,
                        1.8664273924008685,
                        1.9138338494239215,
                        2.0028879833829643,
                        2.1294923292552483,
                        2.28784344844088,
                        2.4707898358097267,
                        2.67023246634782,
                        2.877517096395833,
                        3.0837877510301013,
                        3.280296343388231,
                        3.4586842041039416,
                        3.611260538836197,
                        3.7312979198584446,
                        3.8133477144906918,
                        3.853554703495636,
                        3.8499288327715036,
                        3.802522438488096,
                        3.7134695139434086,
                        3.586867938344091,
                        3.4285201692836833,
                        3.245575886942475,
                        3.0461326048369544,
                        2.8388443601355444,
                        2.6325684366939357,
                        null,
                        null
                      ]
                    },
                    {
                      "type": "scatter",
                      "x": [
                        null,
                        null
                      ],
                      "y": [
                        null,
                        null
                      ]
                    },
                    {
                      "customdata": [
                        "2024-11-01 11:46:23",
                        "2024-11-01 11:46:23",
                        "2024-11-01 11:46:24",
                        "2024-11-01 11:46:25",
                        "2024-11-01 11:46:26"
                      ],
                      "hovertemplate": "%{meta}<br>(%{x}, %{y})<br>Time: %{customdata}",
                      "meta": [
                        "GaussianState",
                        "GaussianStateUpdate",
                        "GaussianStateUpdate",
                        "GaussianStateUpdate",
                        "GaussianStateUpdate"
                      ],
                      "type": "scatter",
                      "x": [
                        0,
                        -0.1624840511143347,
                        0.6405088609324536,
                        1.8824469355927698,
                        2.91924591376858,
                        null
                      ],
                      "y": [
                        0,
                        0.12340326799953706,
                        1.0223546708169413,
                        2.183016619491018,
                        2.858178093862018,
                        null
                      ]
                    },
                    {
                      "type": "scatter",
                      "x": [
                        null
                      ],
                      "y": [
                        null
                      ]
                    },
                    {
                      "type": "scatter",
                      "x": [
                        3.820406929232949,
                        3.7504894194895946,
                        3.644497211977203,
                        3.506830377249552,
                        3.3432638023097776,
                        3.160786631108664,
                        2.9673585876846382,
                        2.771569406835415,
                        2.582212171663822,
                        2.4078082550992184,
                        2.2561391515210536,
                        2.133845264715764,
                        2.0461320420079074,
                        1.9965969054674129,
                        1.9871625964143762,
                        2.0180848983042114,
                        2.0880001673578414,
                        2.1939892950583837,
                        2.331653940874623,
                        2.4952204938322167,
                        2.6776998156692224,
                        2.8711308767972343,
                        3.066922137965247,
                        3.2562793888439883,
                        3.4306815929319607,
                        3.582348755081103,
                        3.704641993236096,
                        3.7923563653517567,
                        3.841893635480893,
                        3.851329505316914,
                        3.820406929232949,
                        null,
                        null
                      ],
                      "y": [
                        2.6325684366939357,
                        2.436055067849357,
                        2.2576647542737485,
                        2.1050888501311267,
                        1.985053867399195,
                        1.9030067220784583,
                        1.862801261805536,
                        1.8664273924008685,
                        1.9138338494239215,
                        2.0028879833829643,
                        2.1294923292552483,
                        2.28784344844088,
                        2.4707898358097267,
                        2.67023246634782,
                        2.877517096395833,
                        3.0837877510301013,
                        3.280296343388231,
                        3.4586842041039416,
                        3.611260538836197,
                        3.7312979198584446,
                        3.8133477144906918,
                        3.853554703495636,
                        3.8499288327715036,
                        3.802522438488096,
                        3.7134695139434086,
                        3.586867938344091,
                        3.4285201692836833,
                        3.245575886942475,
                        3.0461326048369544,
                        2.8388443601355444,
                        2.6325684366939357,
                        null,
                        null
                      ]
                    }
                  ],
                  "name": "2024-11-01 11:46:26",
                  "traces": [
                    0,
                    1,
                    2,
                    3,
                    4,
                    5,
                    6,
                    7,
                    8,
                    9,
                    10,
                    11,
                    12
                  ]
                },
                {
                  "data": [
                    {
                      "type": "scatter",
                      "x": [
                        0,
                        0
                      ],
                      "y": [
                        0,
                        0
                      ]
                    },
                    {
                      "hovertemplate": "GroundTruthState<br>(%{x}, %{y})<br>Time: %{meta}",
                      "meta": [
                        "2024-11-01 11:46:23",
                        "2024-11-01 11:46:24",
                        "2024-11-01 11:46:25",
                        "2024-11-01 11:46:26",
                        "2024-11-01 11:46:27"
                      ],
                      "type": "scatter",
                      "x": [
                        0,
                        1.0560429805265472,
                        2.0871090094870777,
                        3.049344171234631,
                        4.035254516130913,
                        null
                      ],
                      "y": [
                        0,
                        1.0002136913507915,
                        2.0097169051278136,
                        3.0656770596553575,
                        4.215523952736348,
                        null
                      ]
                    },
                    {
                      "type": "scatter",
                      "x": [
                        null,
                        null
                      ],
                      "y": [
                        null,
                        null
                      ]
                    },
                    {
                      "hovertemplate": "Detection<br>(%{x}, %{y})<br>Time: %{meta}",
                      "meta": [
                        "2024-11-01 11:46:23",
                        "2024-11-01 11:46:24",
                        "2024-11-01 11:46:25",
                        "2024-11-01 11:46:26",
                        "2024-11-01 11:46:27"
                      ],
                      "type": "scatter",
                      "x": [
                        0.024509367079263666,
                        0.3954661203145644,
                        2.209235781123469,
                        2.9114210737926856,
                        3.1835218470644002,
                        null
                      ],
                      "y": [
                        0.5202208082239121,
                        0.6268126681876752,
                        2.3435536247487607,
                        2.5449618532030187,
                        3.4763241167318055,
                        null
                      ]
                    },
                    {
                      "hovertemplate": "Clutter<br>(%{x}, %{y})<br>Time: %{meta}",
                      "meta": [
                        "2024-11-01 11:46:23",
                        "2024-11-01 11:46:23",
                        "2024-11-01 11:46:23",
                        "2024-11-01 11:46:23",
                        "2024-11-01 11:46:23",
                        "2024-11-01 11:46:24",
                        "2024-11-01 11:46:24",
                        "2024-11-01 11:46:24",
                        "2024-11-01 11:46:24",
                        "2024-11-01 11:46:24",
                        "2024-11-01 11:46:25",
                        "2024-11-01 11:46:25",
                        "2024-11-01 11:46:25",
                        "2024-11-01 11:46:25",
                        "2024-11-01 11:46:25",
                        "2024-11-01 11:46:25",
                        "2024-11-01 11:46:25",
                        "2024-11-01 11:46:26",
                        "2024-11-01 11:46:26",
                        "2024-11-01 11:46:26",
                        "2024-11-01 11:46:26",
                        "2024-11-01 11:46:27",
                        "2024-11-01 11:46:27"
                      ],
                      "type": "scatter",
                      "x": [
                        6.8450447360252795,
                        -0.5925571557114235,
                        -9.841536707084932,
                        -5.099913717846882,
                        -2.7506574434162756,
                        5.623949298672091,
                        0.896358631336053,
                        -3.658619985028256,
                        3.3187677378535483,
                        5.850994664882053,
                        -6.790410277557795,
                        2.698815071254005,
                        11.282428822785326,
                        11.32042433636373,
                        -1.474329059236986,
                        10.322060405517517,
                        3.2483323415259004,
                        8.93859777930715,
                        -0.2825021212365719,
                        2.8999183814283267,
                        -0.5115467826555768,
                        2.2698667104575163,
                        11.114707367986771,
                        null
                      ],
                      "y": [
                        -2.050233410165612,
                        -0.09966429509591102,
                        -4.404817816061655,
                        -8.72615343470666,
                        -5.563544728855723,
                        -2.33503735088553,
                        4.249155554843304,
                        5.370013999650665,
                        -5.324360445111365,
                        2.9688072493662663,
                        5.8747218671789305,
                        -4.723204548853852,
                        -2.6024782664876476,
                        10.111407039780456,
                        10.029085012443296,
                        4.852636329535342,
                        9.840535042009503,
                        -0.01941981084851019,
                        -0.8938217200062688,
                        9.98195151307322,
                        -4.177560490044009,
                        -1.6901767463231323,
                        -5.2305328021094075,
                        null
                      ]
                    },
                    {
                      "type": "scatter",
                      "x": [
                        null,
                        null
                      ],
                      "y": [
                        null,
                        null
                      ]
                    },
                    {
                      "customdata": [
                        "2024-11-01 11:46:23",
                        "2024-11-01 11:46:23",
                        "2024-11-01 11:46:24",
                        "2024-11-01 11:46:25",
                        "2024-11-01 11:46:26",
                        "2024-11-01 11:46:27"
                      ],
                      "hovertemplate": "%{meta}<br>(%{x}, %{y})<br>Time: %{customdata}",
                      "meta": [
                        "GaussianState",
                        "GaussianStateUpdate",
                        "GaussianStateUpdate",
                        "GaussianStateUpdate",
                        "GaussianStateUpdate",
                        "GaussianStateUpdate"
                      ],
                      "type": "scatter",
                      "x": [
                        0,
                        -0.1624840511143347,
                        0.6405088609324536,
                        1.8824469355927698,
                        2.91924591376858,
                        3.5724590506670317,
                        null
                      ],
                      "y": [
                        0,
                        0.12340326799953706,
                        1.0223546708169413,
                        2.183016619491018,
                        2.858178093862018,
                        3.616316705035669,
                        null
                      ]
                    },
                    {
                      "type": "scatter",
                      "x": [
                        null
                      ],
                      "y": [
                        null
                      ]
                    },
                    {
                      "type": "scatter",
                      "x": [
                        4.270797328882891,
                        4.126724175952108,
                        3.9584609692575627,
                        3.7732645598844234,
                        3.579155740598355,
                        3.384596673875226,
                        3.1981293969333406,
                        3.027987829137458,
                        2.8817056753572485,
                        2.7657496798840704,
                        2.6852086719154706,
                        2.64356318113085,
                        2.64254858515073,
                        2.6821117773872567,
                        2.7604506914582503,
                        2.874120772451173,
                        3.018193324211432,
                        3.1864559658231815,
                        3.371652112722114,
                        3.565761082697056,
                        3.760320603507928,
                        3.9467883773477896,
                        4.116930237110284,
                        4.263212396899782,
                        4.379168241258828,
                        4.459709165260631,
                        4.501354780034868,
                        4.502369661505639,
                        4.462806713059028,
                        4.384467779479225,
                        4.270797328882891,
                        null,
                        null
                      ],
                      "y": [
                        3.0236933647508786,
                        2.8847329650135913,
                        2.777592607045869,
                        2.7069597953852576,
                        2.675983193303589,
                        2.686111682696906,
                        2.73699484196412,
                        2.8264629208899934,
                        2.9506007858111847,
                        3.103920763292285,
                        3.2796264061608977,
                        3.4699462487172195,
                        3.6665087887942,
                        3.860728740189278,
                        4.04417999586216,
                        4.208940045320459,
                        4.347899971341329,
                        4.4550402163644565,
                        4.5256732318291775,
                        4.5566501481021815,
                        4.546521859243803,
                        4.495638696805954,
                        4.406170512865849,
                        4.282032655025909,
                        4.128712948537447,
                        3.953007795431256,
                        3.7626884335375137,
                        3.566126093256478,
                        3.371905916040006,
                        3.1884540844379146,
                        3.0236933647508786,
                        null,
                        null
                      ]
                    },
                    {
                      "type": "scatter",
                      "x": [
                        null,
                        null
                      ],
                      "y": [
                        null,
                        null
                      ]
                    },
                    {
                      "customdata": [
                        "2024-11-01 11:46:23",
                        "2024-11-01 11:46:23",
                        "2024-11-01 11:46:24",
                        "2024-11-01 11:46:25",
                        "2024-11-01 11:46:26",
                        "2024-11-01 11:46:27"
                      ],
                      "hovertemplate": "%{meta}<br>(%{x}, %{y})<br>Time: %{customdata}",
                      "meta": [
                        "GaussianState",
                        "GaussianStateUpdate",
                        "GaussianStateUpdate",
                        "GaussianStateUpdate",
                        "GaussianStateUpdate",
                        "GaussianStateUpdate"
                      ],
                      "type": "scatter",
                      "x": [
                        0,
                        -0.1624840511143347,
                        0.6405088609324536,
                        1.8824469355927698,
                        2.91924591376858,
                        3.5724590506670317,
                        null
                      ],
                      "y": [
                        0,
                        0.12340326799953706,
                        1.0223546708169413,
                        2.183016619491018,
                        2.858178093862018,
                        3.616316705035669,
                        null
                      ]
                    },
                    {
                      "type": "scatter",
                      "x": [
                        null
                      ],
                      "y": [
                        null
                      ]
                    },
                    {
                      "type": "scatter",
                      "x": [
                        4.270797328882891,
                        4.126724175952108,
                        3.9584609692575627,
                        3.7732645598844234,
                        3.579155740598355,
                        3.384596673875226,
                        3.1981293969333406,
                        3.027987829137458,
                        2.8817056753572485,
                        2.7657496798840704,
                        2.6852086719154706,
                        2.64356318113085,
                        2.64254858515073,
                        2.6821117773872567,
                        2.7604506914582503,
                        2.874120772451173,
                        3.018193324211432,
                        3.1864559658231815,
                        3.371652112722114,
                        3.565761082697056,
                        3.760320603507928,
                        3.9467883773477896,
                        4.116930237110284,
                        4.263212396899782,
                        4.379168241258828,
                        4.459709165260631,
                        4.501354780034868,
                        4.502369661505639,
                        4.462806713059028,
                        4.384467779479225,
                        4.270797328882891,
                        null,
                        null
                      ],
                      "y": [
                        3.0236933647508786,
                        2.8847329650135913,
                        2.777592607045869,
                        2.7069597953852576,
                        2.675983193303589,
                        2.686111682696906,
                        2.73699484196412,
                        2.8264629208899934,
                        2.9506007858111847,
                        3.103920763292285,
                        3.2796264061608977,
                        3.4699462487172195,
                        3.6665087887942,
                        3.860728740189278,
                        4.04417999586216,
                        4.208940045320459,
                        4.347899971341329,
                        4.4550402163644565,
                        4.5256732318291775,
                        4.5566501481021815,
                        4.546521859243803,
                        4.495638696805954,
                        4.406170512865849,
                        4.282032655025909,
                        4.128712948537447,
                        3.953007795431256,
                        3.7626884335375137,
                        3.566126093256478,
                        3.371905916040006,
                        3.1884540844379146,
                        3.0236933647508786,
                        null,
                        null
                      ]
                    }
                  ],
                  "name": "2024-11-01 11:46:27",
                  "traces": [
                    0,
                    1,
                    2,
                    3,
                    4,
                    5,
                    6,
                    7,
                    8,
                    9,
                    10,
                    11,
                    12
                  ]
                },
                {
                  "data": [
                    {
                      "type": "scatter",
                      "x": [
                        0,
                        0
                      ],
                      "y": [
                        0,
                        0
                      ]
                    },
                    {
                      "hovertemplate": "GroundTruthState<br>(%{x}, %{y})<br>Time: %{meta}",
                      "meta": [
                        "2024-11-01 11:46:23",
                        "2024-11-01 11:46:24",
                        "2024-11-01 11:46:25",
                        "2024-11-01 11:46:26",
                        "2024-11-01 11:46:27",
                        "2024-11-01 11:46:28"
                      ],
                      "type": "scatter",
                      "x": [
                        0,
                        1.0560429805265472,
                        2.0871090094870777,
                        3.049344171234631,
                        4.035254516130913,
                        5.021794006527739,
                        null
                      ],
                      "y": [
                        0,
                        1.0002136913507915,
                        2.0097169051278136,
                        3.0656770596553575,
                        4.215523952736348,
                        5.45033879682299,
                        null
                      ]
                    },
                    {
                      "type": "scatter",
                      "x": [
                        null,
                        null
                      ],
                      "y": [
                        null,
                        null
                      ]
                    },
                    {
                      "hovertemplate": "Detection<br>(%{x}, %{y})<br>Time: %{meta}",
                      "meta": [
                        "2024-11-01 11:46:23",
                        "2024-11-01 11:46:24",
                        "2024-11-01 11:46:25",
                        "2024-11-01 11:46:26",
                        "2024-11-01 11:46:27",
                        "2024-11-01 11:46:28"
                      ],
                      "type": "scatter",
                      "x": [
                        0.024509367079263666,
                        0.3954661203145644,
                        2.209235781123469,
                        2.9114210737926856,
                        3.1835218470644002,
                        6.012096786906354,
                        null
                      ],
                      "y": [
                        0.5202208082239121,
                        0.6268126681876752,
                        2.3435536247487607,
                        2.5449618532030187,
                        3.4763241167318055,
                        7.942997574754449,
                        null
                      ]
                    },
                    {
                      "hovertemplate": "Clutter<br>(%{x}, %{y})<br>Time: %{meta}",
                      "meta": [
                        "2024-11-01 11:46:23",
                        "2024-11-01 11:46:23",
                        "2024-11-01 11:46:23",
                        "2024-11-01 11:46:23",
                        "2024-11-01 11:46:23",
                        "2024-11-01 11:46:24",
                        "2024-11-01 11:46:24",
                        "2024-11-01 11:46:24",
                        "2024-11-01 11:46:24",
                        "2024-11-01 11:46:24",
                        "2024-11-01 11:46:25",
                        "2024-11-01 11:46:25",
                        "2024-11-01 11:46:25",
                        "2024-11-01 11:46:25",
                        "2024-11-01 11:46:25",
                        "2024-11-01 11:46:25",
                        "2024-11-01 11:46:25",
                        "2024-11-01 11:46:26",
                        "2024-11-01 11:46:26",
                        "2024-11-01 11:46:26",
                        "2024-11-01 11:46:26",
                        "2024-11-01 11:46:27",
                        "2024-11-01 11:46:27",
                        "2024-11-01 11:46:28",
                        "2024-11-01 11:46:28",
                        "2024-11-01 11:46:28",
                        "2024-11-01 11:46:28",
                        "2024-11-01 11:46:28",
                        "2024-11-01 11:46:28",
                        "2024-11-01 11:46:28"
                      ],
                      "type": "scatter",
                      "x": [
                        6.8450447360252795,
                        -0.5925571557114235,
                        -9.841536707084932,
                        -5.099913717846882,
                        -2.7506574434162756,
                        5.623949298672091,
                        0.896358631336053,
                        -3.658619985028256,
                        3.3187677378535483,
                        5.850994664882053,
                        -6.790410277557795,
                        2.698815071254005,
                        11.282428822785326,
                        11.32042433636373,
                        -1.474329059236986,
                        10.322060405517517,
                        3.2483323415259004,
                        8.93859777930715,
                        -0.2825021212365719,
                        2.8999183814283267,
                        -0.5115467826555768,
                        2.2698667104575163,
                        11.114707367986771,
                        14.416390342308112,
                        -3.295894975407959,
                        -0.6859346549073058,
                        -2.9473233096693106,
                        12.97119267226589,
                        6.029844385559195,
                        -0.4194182346202,
                        null
                      ],
                      "y": [
                        -2.050233410165612,
                        -0.09966429509591102,
                        -4.404817816061655,
                        -8.72615343470666,
                        -5.563544728855723,
                        -2.33503735088553,
                        4.249155554843304,
                        5.370013999650665,
                        -5.324360445111365,
                        2.9688072493662663,
                        5.8747218671789305,
                        -4.723204548853852,
                        -2.6024782664876476,
                        10.111407039780456,
                        10.029085012443296,
                        4.852636329535342,
                        9.840535042009503,
                        -0.01941981084851019,
                        -0.8938217200062688,
                        9.98195151307322,
                        -4.177560490044009,
                        -1.6901767463231323,
                        -5.2305328021094075,
                        14.621745083566854,
                        13.053211155554425,
                        -2.0283738952029426,
                        10.751968259787807,
                        2.5926045974020635,
                        7.64585067371058,
                        -1.7523286235532485,
                        null
                      ]
                    },
                    {
                      "type": "scatter",
                      "x": [
                        null,
                        null
                      ],
                      "y": [
                        null,
                        null
                      ]
                    },
                    {
                      "customdata": [
                        "2024-11-01 11:46:23",
                        "2024-11-01 11:46:23",
                        "2024-11-01 11:46:24",
                        "2024-11-01 11:46:25",
                        "2024-11-01 11:46:26",
                        "2024-11-01 11:46:27",
                        "2024-11-01 11:46:28"
                      ],
                      "hovertemplate": "%{meta}<br>(%{x}, %{y})<br>Time: %{customdata}",
                      "meta": [
                        "GaussianState",
                        "GaussianStateUpdate",
                        "GaussianStateUpdate",
                        "GaussianStateUpdate",
                        "GaussianStateUpdate",
                        "GaussianStateUpdate",
                        "GaussianStateUpdate"
                      ],
                      "type": "scatter",
                      "x": [
                        0,
                        -0.1624840511143347,
                        0.6405088609324536,
                        1.8824469355927698,
                        2.91924591376858,
                        3.5724590506670317,
                        4.711634330144442,
                        null
                      ],
                      "y": [
                        0,
                        0.12340326799953706,
                        1.0223546708169413,
                        2.183016619491018,
                        2.858178093862018,
                        3.616316705035669,
                        4.900191348842403,
                        null
                      ]
                    },
                    {
                      "type": "scatter",
                      "x": [
                        null
                      ],
                      "y": [
                        null
                      ]
                    },
                    {
                      "type": "scatter",
                      "x": [
                        5.6959333606148,
                        5.537868819973184,
                        5.345492369609956,
                        5.124439504849439,
                        4.8816371359043975,
                        4.626087904664068,
                        4.369324765880709,
                        4.125145492288409,
                        3.9080975804157703,
                        3.7309638055745804,
                        3.6025339616064977,
                        3.5269138148586006,
                        3.504337704596645,
                        3.5326146980298194,
                        3.6082862486808986,
                        3.7273352996740834,
                        3.88542184654634,
                        4.07777678600478,
                        4.298829999929655,
                        4.541648694609126,
                        4.797180418778391,
                        5.053943520027512,
                        5.298123120904193,
                        5.515171039657776,
                        5.692304626970358,
                        5.82073456521371,
                        5.896358191457033,
                        5.918930943543868,
                        5.890653836805134,
                        5.8149701549706245,
                        5.6959333606148,
                        null,
                        null
                      ],
                      "y": [
                        4.373782170974512,
                        4.125151232119804,
                        3.905740944096233,
                        3.7241866494512172,
                        3.5892520986860257,
                        3.509593018852059,
                        3.4926137892566826,
                        3.5425919128318557,
                        3.6586704798659304,
                        3.834013334955115,
                        4.05699621003168,
                        4.313749845239849,
                        4.590626030725759,
                        4.875278331080783,
                        5.1570626689552626,
                        5.4266005267102955,
                        5.675260891472265,
                        5.894642235061992,
                        6.076196626549811,
                        6.211138037384096,
                        6.290789614454896,
                        6.3077689323447705,
                        6.257790801767227,
                        6.141712247599392,
                        5.966369660832985,
                        5.743386803558387,
                        5.486614441842164,
                        5.209755643501286,
                        4.925103687320819,
                        4.643285388679802,
                        4.373782170974512,
                        null,
                        null
                      ]
                    },
                    {
                      "type": "scatter",
                      "x": [
                        null,
                        null
                      ],
                      "y": [
                        null,
                        null
                      ]
                    },
                    {
                      "customdata": [
                        "2024-11-01 11:46:23",
                        "2024-11-01 11:46:23",
                        "2024-11-01 11:46:24",
                        "2024-11-01 11:46:25",
                        "2024-11-01 11:46:26",
                        "2024-11-01 11:46:27",
                        "2024-11-01 11:46:28"
                      ],
                      "hovertemplate": "%{meta}<br>(%{x}, %{y})<br>Time: %{customdata}",
                      "meta": [
                        "GaussianState",
                        "GaussianStateUpdate",
                        "GaussianStateUpdate",
                        "GaussianStateUpdate",
                        "GaussianStateUpdate",
                        "GaussianStateUpdate",
                        "GaussianStateUpdate"
                      ],
                      "type": "scatter",
                      "x": [
                        0,
                        -0.1624840511143347,
                        0.6405088609324536,
                        1.8824469355927698,
                        2.91924591376858,
                        3.5724590506670317,
                        4.711634330144442,
                        null
                      ],
                      "y": [
                        0,
                        0.12340326799953706,
                        1.0223546708169413,
                        2.183016619491018,
                        2.858178093862018,
                        3.616316705035669,
                        4.900191348842403,
                        null
                      ]
                    },
                    {
                      "type": "scatter",
                      "x": [
                        null
                      ],
                      "y": [
                        null
                      ]
                    },
                    {
                      "type": "scatter",
                      "x": [
                        5.6959333606148,
                        5.537868819973184,
                        5.345492369609956,
                        5.124439504849439,
                        4.8816371359043975,
                        4.626087904664068,
                        4.369324765880709,
                        4.125145492288409,
                        3.9080975804157703,
                        3.7309638055745804,
                        3.6025339616064977,
                        3.5269138148586006,
                        3.504337704596645,
                        3.5326146980298194,
                        3.6082862486808986,
                        3.7273352996740834,
                        3.88542184654634,
                        4.07777678600478,
                        4.298829999929655,
                        4.541648694609126,
                        4.797180418778391,
                        5.053943520027512,
                        5.298123120904193,
                        5.515171039657776,
                        5.692304626970358,
                        5.82073456521371,
                        5.896358191457033,
                        5.918930943543868,
                        5.890653836805134,
                        5.8149701549706245,
                        5.6959333606148,
                        null,
                        null
                      ],
                      "y": [
                        4.373782170974512,
                        4.125151232119804,
                        3.905740944096233,
                        3.7241866494512172,
                        3.5892520986860257,
                        3.509593018852059,
                        3.4926137892566826,
                        3.5425919128318557,
                        3.6586704798659304,
                        3.834013334955115,
                        4.05699621003168,
                        4.313749845239849,
                        4.590626030725759,
                        4.875278331080783,
                        5.1570626689552626,
                        5.4266005267102955,
                        5.675260891472265,
                        5.894642235061992,
                        6.076196626549811,
                        6.211138037384096,
                        6.290789614454896,
                        6.3077689323447705,
                        6.257790801767227,
                        6.141712247599392,
                        5.966369660832985,
                        5.743386803558387,
                        5.486614441842164,
                        5.209755643501286,
                        4.925103687320819,
                        4.643285388679802,
                        4.373782170974512,
                        null,
                        null
                      ]
                    }
                  ],
                  "name": "2024-11-01 11:46:28",
                  "traces": [
                    0,
                    1,
                    2,
                    3,
                    4,
                    5,
                    6,
                    7,
                    8,
                    9,
                    10,
                    11,
                    12
                  ]
                },
                {
                  "data": [
                    {
                      "type": "scatter",
                      "x": [
                        0,
                        0
                      ],
                      "y": [
                        0,
                        0
                      ]
                    },
                    {
                      "hovertemplate": "GroundTruthState<br>(%{x}, %{y})<br>Time: %{meta}",
                      "meta": [
                        "2024-11-01 11:46:23",
                        "2024-11-01 11:46:24",
                        "2024-11-01 11:46:25",
                        "2024-11-01 11:46:26",
                        "2024-11-01 11:46:27",
                        "2024-11-01 11:46:28",
                        "2024-11-01 11:46:29"
                      ],
                      "type": "scatter",
                      "x": [
                        0,
                        1.0560429805265472,
                        2.0871090094870777,
                        3.049344171234631,
                        4.035254516130913,
                        5.021794006527739,
                        6.0424073988889715,
                        null
                      ],
                      "y": [
                        0,
                        1.0002136913507915,
                        2.0097169051278136,
                        3.0656770596553575,
                        4.215523952736348,
                        5.45033879682299,
                        6.724654049033004,
                        null
                      ]
                    },
                    {
                      "type": "scatter",
                      "x": [
                        null,
                        null
                      ],
                      "y": [
                        null,
                        null
                      ]
                    },
                    {
                      "hovertemplate": "Detection<br>(%{x}, %{y})<br>Time: %{meta}",
                      "meta": [
                        "2024-11-01 11:46:23",
                        "2024-11-01 11:46:24",
                        "2024-11-01 11:46:25",
                        "2024-11-01 11:46:26",
                        "2024-11-01 11:46:27",
                        "2024-11-01 11:46:28",
                        "2024-11-01 11:46:29"
                      ],
                      "type": "scatter",
                      "x": [
                        0.024509367079263666,
                        0.3954661203145644,
                        2.209235781123469,
                        2.9114210737926856,
                        3.1835218470644002,
                        6.012096786906354,
                        6.608185083307628,
                        null
                      ],
                      "y": [
                        0.5202208082239121,
                        0.6268126681876752,
                        2.3435536247487607,
                        2.5449618532030187,
                        3.4763241167318055,
                        7.942997574754449,
                        6.079638574508856,
                        null
                      ]
                    },
                    {
                      "hovertemplate": "Clutter<br>(%{x}, %{y})<br>Time: %{meta}",
                      "meta": [
                        "2024-11-01 11:46:23",
                        "2024-11-01 11:46:23",
                        "2024-11-01 11:46:23",
                        "2024-11-01 11:46:23",
                        "2024-11-01 11:46:23",
                        "2024-11-01 11:46:24",
                        "2024-11-01 11:46:24",
                        "2024-11-01 11:46:24",
                        "2024-11-01 11:46:24",
                        "2024-11-01 11:46:24",
                        "2024-11-01 11:46:25",
                        "2024-11-01 11:46:25",
                        "2024-11-01 11:46:25",
                        "2024-11-01 11:46:25",
                        "2024-11-01 11:46:25",
                        "2024-11-01 11:46:25",
                        "2024-11-01 11:46:25",
                        "2024-11-01 11:46:26",
                        "2024-11-01 11:46:26",
                        "2024-11-01 11:46:26",
                        "2024-11-01 11:46:26",
                        "2024-11-01 11:46:27",
                        "2024-11-01 11:46:27",
                        "2024-11-01 11:46:28",
                        "2024-11-01 11:46:28",
                        "2024-11-01 11:46:28",
                        "2024-11-01 11:46:28",
                        "2024-11-01 11:46:28",
                        "2024-11-01 11:46:28",
                        "2024-11-01 11:46:28",
                        "2024-11-01 11:46:29"
                      ],
                      "type": "scatter",
                      "x": [
                        6.8450447360252795,
                        -0.5925571557114235,
                        -9.841536707084932,
                        -5.099913717846882,
                        -2.7506574434162756,
                        5.623949298672091,
                        0.896358631336053,
                        -3.658619985028256,
                        3.3187677378535483,
                        5.850994664882053,
                        -6.790410277557795,
                        2.698815071254005,
                        11.282428822785326,
                        11.32042433636373,
                        -1.474329059236986,
                        10.322060405517517,
                        3.2483323415259004,
                        8.93859777930715,
                        -0.2825021212365719,
                        2.8999183814283267,
                        -0.5115467826555768,
                        2.2698667104575163,
                        11.114707367986771,
                        14.416390342308112,
                        -3.295894975407959,
                        -0.6859346549073058,
                        -2.9473233096693106,
                        12.97119267226589,
                        6.029844385559195,
                        -0.4194182346202,
                        -2.113222994604722,
                        null
                      ],
                      "y": [
                        -2.050233410165612,
                        -0.09966429509591102,
                        -4.404817816061655,
                        -8.72615343470666,
                        -5.563544728855723,
                        -2.33503735088553,
                        4.249155554843304,
                        5.370013999650665,
                        -5.324360445111365,
                        2.9688072493662663,
                        5.8747218671789305,
                        -4.723204548853852,
                        -2.6024782664876476,
                        10.111407039780456,
                        10.029085012443296,
                        4.852636329535342,
                        9.840535042009503,
                        -0.01941981084851019,
                        -0.8938217200062688,
                        9.98195151307322,
                        -4.177560490044009,
                        -1.6901767463231323,
                        -5.2305328021094075,
                        14.621745083566854,
                        13.053211155554425,
                        -2.0283738952029426,
                        10.751968259787807,
                        2.5926045974020635,
                        7.64585067371058,
                        -1.7523286235532485,
                        14.975537229405344,
                        null
                      ]
                    },
                    {
                      "type": "scatter",
                      "x": [
                        null,
                        null
                      ],
                      "y": [
                        null,
                        null
                      ]
                    },
                    {
                      "customdata": [
                        "2024-11-01 11:46:23",
                        "2024-11-01 11:46:23",
                        "2024-11-01 11:46:24",
                        "2024-11-01 11:46:25",
                        "2024-11-01 11:46:26",
                        "2024-11-01 11:46:27",
                        "2024-11-01 11:46:28",
                        "2024-11-01 11:46:29"
                      ],
                      "hovertemplate": "%{meta}<br>(%{x}, %{y})<br>Time: %{customdata}",
                      "meta": [
                        "GaussianState",
                        "GaussianStateUpdate",
                        "GaussianStateUpdate",
                        "GaussianStateUpdate",
                        "GaussianStateUpdate",
                        "GaussianStateUpdate",
                        "GaussianStateUpdate",
                        "GaussianStateUpdate"
                      ],
                      "type": "scatter",
                      "x": [
                        0,
                        -0.1624840511143347,
                        0.6405088609324536,
                        1.8824469355927698,
                        2.91924591376858,
                        3.5724590506670317,
                        4.711634330144442,
                        6.159102274939291,
                        null
                      ],
                      "y": [
                        0,
                        0.12340326799953706,
                        1.0223546708169413,
                        2.183016619491018,
                        2.858178093862018,
                        3.616316705035669,
                        4.900191348842403,
                        6.0082382708012405,
                        null
                      ]
                    },
                    {
                      "type": "scatter",
                      "x": [
                        null
                      ],
                      "y": [
                        null
                      ]
                    },
                    {
                      "type": "scatter",
                      "x": [
                        7.005261892382134,
                        6.844069931108678,
                        6.653702244078477,
                        6.44084864224716,
                        6.213450901309116,
                        5.98083965588992,
                        5.7536607338063614,
                        5.543328863549514,
                        5.36095790928614,
                        5.216022845220032,
                        5.115267615752904,
                        5.062283040459016,
                        5.057784813200787,
                        5.100266084317198,
                        5.186683888151812,
                        5.312942657496447,
                        5.474126564362281,
                        5.664502364078651,
                        5.877355999248903,
                        6.104748837269609,
                        6.337364853060051,
                        6.5645437776339985,
                        6.774875681825678,
                        6.957246636841016,
                        7.1021816831107,
                        7.202936920490522,
                        7.25592091443117,
                        7.260419728659601,
                        7.217938446868648,
                        7.131525540184315,
                        7.005261892382134,
                        null,
                        null
                      ],
                      "y": [
                        5.4292890033675105,
                        5.231173662880582,
                        5.064473556785836,
                        4.936167080694096,
                        4.852611577934894,
                        4.819048333400881,
                        4.838849072207923,
                        4.912597167912767,
                        5.037376853539577,
                        5.2067052906550195,
                        5.411279767040476,
                        5.6402544808381005,
                        5.882470453819669,
                        6.1273470835802195,
                        6.365184500094776,
                        6.5871875382349705,
                        6.785294514253899,
                        6.952003027522622,
                        7.080309505119672,
                        7.163863732019113,
                        7.1974282069227975,
                        7.177627477573025,
                        7.103879375964207,
                        6.979099691436422,
                        6.809771283811952,
                        6.605196813173781,
                        6.37622699143909,
                        6.1340059863722125,
                        5.88912938823135,
                        5.651302578986485,
                        5.4292890033675105,
                        null,
                        null
                      ]
                    },
                    {
                      "type": "scatter",
                      "x": [
                        null,
                        null
                      ],
                      "y": [
                        null,
                        null
                      ]
                    },
                    {
                      "customdata": [
                        "2024-11-01 11:46:23",
                        "2024-11-01 11:46:23",
                        "2024-11-01 11:46:24",
                        "2024-11-01 11:46:25",
                        "2024-11-01 11:46:26",
                        "2024-11-01 11:46:27",
                        "2024-11-01 11:46:28",
                        "2024-11-01 11:46:29"
                      ],
                      "hovertemplate": "%{meta}<br>(%{x}, %{y})<br>Time: %{customdata}",
                      "meta": [
                        "GaussianState",
                        "GaussianStateUpdate",
                        "GaussianStateUpdate",
                        "GaussianStateUpdate",
                        "GaussianStateUpdate",
                        "GaussianStateUpdate",
                        "GaussianStateUpdate",
                        "GaussianStateUpdate"
                      ],
                      "type": "scatter",
                      "x": [
                        0,
                        -0.1624840511143347,
                        0.6405088609324536,
                        1.8824469355927698,
                        2.91924591376858,
                        3.5724590506670317,
                        4.711634330144442,
                        6.159102274939291,
                        null
                      ],
                      "y": [
                        0,
                        0.12340326799953706,
                        1.0223546708169413,
                        2.183016619491018,
                        2.858178093862018,
                        3.616316705035669,
                        4.900191348842403,
                        6.0082382708012405,
                        null
                      ]
                    },
                    {
                      "type": "scatter",
                      "x": [
                        null
                      ],
                      "y": [
                        null
                      ]
                    },
                    {
                      "type": "scatter",
                      "x": [
                        7.005261892382134,
                        6.844069931108678,
                        6.653702244078477,
                        6.44084864224716,
                        6.213450901309116,
                        5.98083965588992,
                        5.7536607338063614,
                        5.543328863549514,
                        5.36095790928614,
                        5.216022845220032,
                        5.115267615752904,
                        5.062283040459016,
                        5.057784813200787,
                        5.100266084317198,
                        5.186683888151812,
                        5.312942657496447,
                        5.474126564362281,
                        5.664502364078651,
                        5.877355999248903,
                        6.104748837269609,
                        6.337364853060051,
                        6.5645437776339985,
                        6.774875681825678,
                        6.957246636841016,
                        7.1021816831107,
                        7.202936920490522,
                        7.25592091443117,
                        7.260419728659601,
                        7.217938446868648,
                        7.131525540184315,
                        7.005261892382134,
                        null,
                        null
                      ],
                      "y": [
                        5.4292890033675105,
                        5.231173662880582,
                        5.064473556785836,
                        4.936167080694096,
                        4.852611577934894,
                        4.819048333400881,
                        4.838849072207923,
                        4.912597167912767,
                        5.037376853539577,
                        5.2067052906550195,
                        5.411279767040476,
                        5.6402544808381005,
                        5.882470453819669,
                        6.1273470835802195,
                        6.365184500094776,
                        6.5871875382349705,
                        6.785294514253899,
                        6.952003027522622,
                        7.080309505119672,
                        7.163863732019113,
                        7.1974282069227975,
                        7.177627477573025,
                        7.103879375964207,
                        6.979099691436422,
                        6.809771283811952,
                        6.605196813173781,
                        6.37622699143909,
                        6.1340059863722125,
                        5.88912938823135,
                        5.651302578986485,
                        5.4292890033675105,
                        null,
                        null
                      ]
                    }
                  ],
                  "name": "2024-11-01 11:46:29",
                  "traces": [
                    0,
                    1,
                    2,
                    3,
                    4,
                    5,
                    6,
                    7,
                    8,
                    9,
                    10,
                    11,
                    12
                  ]
                },
                {
                  "data": [
                    {
                      "type": "scatter",
                      "x": [
                        0,
                        0
                      ],
                      "y": [
                        0,
                        0
                      ]
                    },
                    {
                      "hovertemplate": "GroundTruthState<br>(%{x}, %{y})<br>Time: %{meta}",
                      "meta": [
                        "2024-11-01 11:46:24",
                        "2024-11-01 11:46:25",
                        "2024-11-01 11:46:26",
                        "2024-11-01 11:46:27",
                        "2024-11-01 11:46:28",
                        "2024-11-01 11:46:29",
                        "2024-11-01 11:46:30"
                      ],
                      "type": "scatter",
                      "x": [
                        1.0560429805265472,
                        2.0871090094870777,
                        3.049344171234631,
                        4.035254516130913,
                        5.021794006527739,
                        6.0424073988889715,
                        7.106461743252968,
                        null
                      ],
                      "y": [
                        1.0002136913507915,
                        2.0097169051278136,
                        3.0656770596553575,
                        4.215523952736348,
                        5.45033879682299,
                        6.724654049033004,
                        8.015133207951292,
                        null
                      ]
                    },
                    {
                      "type": "scatter",
                      "x": [
                        null,
                        null
                      ],
                      "y": [
                        null,
                        null
                      ]
                    },
                    {
                      "hovertemplate": "Detection<br>(%{x}, %{y})<br>Time: %{meta}",
                      "meta": [
                        "2024-11-01 11:46:24",
                        "2024-11-01 11:46:25",
                        "2024-11-01 11:46:26",
                        "2024-11-01 11:46:27",
                        "2024-11-01 11:46:28",
                        "2024-11-01 11:46:29",
                        "2024-11-01 11:46:30"
                      ],
                      "type": "scatter",
                      "x": [
                        0.3954661203145644,
                        2.209235781123469,
                        2.9114210737926856,
                        3.1835218470644002,
                        6.012096786906354,
                        6.608185083307628,
                        5.881154401900239,
                        null
                      ],
                      "y": [
                        0.6268126681876752,
                        2.3435536247487607,
                        2.5449618532030187,
                        3.4763241167318055,
                        7.942997574754449,
                        6.079638574508856,
                        8.273313820175215,
                        null
                      ]
                    },
                    {
                      "hovertemplate": "Clutter<br>(%{x}, %{y})<br>Time: %{meta}",
                      "meta": [
                        "2024-11-01 11:46:24",
                        "2024-11-01 11:46:24",
                        "2024-11-01 11:46:24",
                        "2024-11-01 11:46:24",
                        "2024-11-01 11:46:24",
                        "2024-11-01 11:46:25",
                        "2024-11-01 11:46:25",
                        "2024-11-01 11:46:25",
                        "2024-11-01 11:46:25",
                        "2024-11-01 11:46:25",
                        "2024-11-01 11:46:25",
                        "2024-11-01 11:46:25",
                        "2024-11-01 11:46:26",
                        "2024-11-01 11:46:26",
                        "2024-11-01 11:46:26",
                        "2024-11-01 11:46:26",
                        "2024-11-01 11:46:27",
                        "2024-11-01 11:46:27",
                        "2024-11-01 11:46:28",
                        "2024-11-01 11:46:28",
                        "2024-11-01 11:46:28",
                        "2024-11-01 11:46:28",
                        "2024-11-01 11:46:28",
                        "2024-11-01 11:46:28",
                        "2024-11-01 11:46:28",
                        "2024-11-01 11:46:29",
                        "2024-11-01 11:46:30",
                        "2024-11-01 11:46:30",
                        "2024-11-01 11:46:30",
                        "2024-11-01 11:46:30"
                      ],
                      "type": "scatter",
                      "x": [
                        5.623949298672091,
                        0.896358631336053,
                        -3.658619985028256,
                        3.3187677378535483,
                        5.850994664882053,
                        -6.790410277557795,
                        2.698815071254005,
                        11.282428822785326,
                        11.32042433636373,
                        -1.474329059236986,
                        10.322060405517517,
                        3.2483323415259004,
                        8.93859777930715,
                        -0.2825021212365719,
                        2.8999183814283267,
                        -0.5115467826555768,
                        2.2698667104575163,
                        11.114707367986771,
                        14.416390342308112,
                        -3.295894975407959,
                        -0.6859346549073058,
                        -2.9473233096693106,
                        12.97119267226589,
                        6.029844385559195,
                        -0.4194182346202,
                        -2.113222994604722,
                        9.871815243492948,
                        2.5063234822041807,
                        9.385770130748918,
                        4.95967343745062,
                        null
                      ],
                      "y": [
                        -2.33503735088553,
                        4.249155554843304,
                        5.370013999650665,
                        -5.324360445111365,
                        2.9688072493662663,
                        5.8747218671789305,
                        -4.723204548853852,
                        -2.6024782664876476,
                        10.111407039780456,
                        10.029085012443296,
                        4.852636329535342,
                        9.840535042009503,
                        -0.01941981084851019,
                        -0.8938217200062688,
                        9.98195151307322,
                        -4.177560490044009,
                        -1.6901767463231323,
                        -5.2305328021094075,
                        14.621745083566854,
                        13.053211155554425,
                        -2.0283738952029426,
                        10.751968259787807,
                        2.5926045974020635,
                        7.64585067371058,
                        -1.7523286235532485,
                        14.975537229405344,
                        6.566479336748516,
                        8.211626962353158,
                        9.642825408722175,
                        7.716846342382114,
                        null
                      ]
                    },
                    {
                      "type": "scatter",
                      "x": [
                        null,
                        null
                      ],
                      "y": [
                        null,
                        null
                      ]
                    },
                    {
                      "customdata": [
                        "2024-11-01 11:46:24",
                        "2024-11-01 11:46:25",
                        "2024-11-01 11:46:26",
                        "2024-11-01 11:46:27",
                        "2024-11-01 11:46:28",
                        "2024-11-01 11:46:29",
                        "2024-11-01 11:46:30"
                      ],
                      "hovertemplate": "%{meta}<br>(%{x}, %{y})<br>Time: %{customdata}",
                      "meta": [
                        "GaussianStateUpdate",
                        "GaussianStateUpdate",
                        "GaussianStateUpdate",
                        "GaussianStateUpdate",
                        "GaussianStateUpdate",
                        "GaussianStateUpdate",
                        "GaussianStateUpdate"
                      ],
                      "type": "scatter",
                      "x": [
                        0.6405088609324536,
                        1.8824469355927698,
                        2.91924591376858,
                        3.5724590506670317,
                        4.711634330144442,
                        6.159102274939291,
                        7.078658970038035,
                        null
                      ],
                      "y": [
                        1.0223546708169413,
                        2.183016619491018,
                        2.858178093862018,
                        3.616316705035669,
                        4.900191348842403,
                        6.0082382708012405,
                        7.539613304181913,
                        null
                      ]
                    },
                    {
                      "type": "scatter",
                      "x": [
                        null
                      ],
                      "y": [
                        null
                      ]
                    },
                    {
                      "type": "scatter",
                      "x": [
                        7.007895507572072,
                        7.309455409085516,
                        7.604110832179684,
                        7.881407074689918,
                        8.130017001300239,
                        8.337502880851204,
                        8.491047143949038,
                        8.57926941913493,
                        8.594907907552908,
                        8.537030412033435,
                        8.411202905823599,
                        8.227526313888909,
                        7.997956019330549,
                        7.734481994045416,
                        7.448221128948336,
                        7.1494224325039974,
                        6.84782767347998,
                        6.553206310399246,
                        6.275909745030741,
                        6.027290905655745,
                        5.819815332560077,
                        5.666271007390074,
                        5.578048533395235,
                        5.562410027428436,
                        5.620287367270381,
                        5.746114799735288,
                        5.929800720960021,
                        6.159362971369493,
                        6.422836712717732,
                        6.709131018913539,
                        7.007895507572072,
                        null,
                        null
                      ],
                      "y": [
                        8.674386931021804,
                        8.670690943006086,
                        8.621764624288815,
                        8.527795725605609,
                        8.38997920537994,
                        8.211345893750279,
                        7.997820925661799,
                        7.759068250989884,
                        7.508286935355606,
                        7.260423263246075,
                        7.029477016918461,
                        6.826459030930644,
                        6.658816630599319,
                        6.531125471234531,
                        6.4459787172119425,
                        6.404839677342022,
                        6.408538721475384,
                        6.457462182341893,
                        6.551431374180016,
                        6.689254330324082,
                        6.8678804192022636,
                        7.081405289463024,
                        7.320158298913111,
                        7.57093961345306,
                        7.818802928678988,
                        8.049749264364864,
                        8.252775697571574,
                        8.420410604566626,
                        8.548101432937301,
                        8.633255254119275,
                        8.674386931021804,
                        null,
                        null
                      ]
                    },
                    {
                      "type": "scatter",
                      "x": [
                        null,
                        null
                      ],
                      "y": [
                        null,
                        null
                      ]
                    },
                    {
                      "customdata": [
                        "2024-11-01 11:46:24",
                        "2024-11-01 11:46:25",
                        "2024-11-01 11:46:26",
                        "2024-11-01 11:46:27",
                        "2024-11-01 11:46:28",
                        "2024-11-01 11:46:29",
                        "2024-11-01 11:46:30"
                      ],
                      "hovertemplate": "%{meta}<br>(%{x}, %{y})<br>Time: %{customdata}",
                      "meta": [
                        "GaussianStateUpdate",
                        "GaussianStateUpdate",
                        "GaussianStateUpdate",
                        "GaussianStateUpdate",
                        "GaussianStateUpdate",
                        "GaussianStateUpdate",
                        "GaussianStateUpdate"
                      ],
                      "type": "scatter",
                      "x": [
                        0.6405088609324536,
                        1.8824469355927698,
                        2.91924591376858,
                        3.5724590506670317,
                        4.711634330144442,
                        6.159102274939291,
                        7.078658970038035,
                        null
                      ],
                      "y": [
                        1.0223546708169413,
                        2.183016619491018,
                        2.858178093862018,
                        3.616316705035669,
                        4.900191348842403,
                        6.0082382708012405,
                        7.539613304181913,
                        null
                      ]
                    },
                    {
                      "type": "scatter",
                      "x": [
                        null
                      ],
                      "y": [
                        null
                      ]
                    },
                    {
                      "type": "scatter",
                      "x": [
                        7.007895507572072,
                        7.309455409085516,
                        7.604110832179684,
                        7.881407074689918,
                        8.130017001300239,
                        8.337502880851204,
                        8.491047143949038,
                        8.57926941913493,
                        8.594907907552908,
                        8.537030412033435,
                        8.411202905823599,
                        8.227526313888909,
                        7.997956019330549,
                        7.734481994045416,
                        7.448221128948336,
                        7.1494224325039974,
                        6.84782767347998,
                        6.553206310399246,
                        6.275909745030741,
                        6.027290905655745,
                        5.819815332560077,
                        5.666271007390074,
                        5.578048533395235,
                        5.562410027428436,
                        5.620287367270381,
                        5.746114799735288,
                        5.929800720960021,
                        6.159362971369493,
                        6.422836712717732,
                        6.709131018913539,
                        7.007895507572072,
                        null,
                        null
                      ],
                      "y": [
                        8.674386931021804,
                        8.670690943006086,
                        8.621764624288815,
                        8.527795725605609,
                        8.38997920537994,
                        8.211345893750279,
                        7.997820925661799,
                        7.759068250989884,
                        7.508286935355606,
                        7.260423263246075,
                        7.029477016918461,
                        6.826459030930644,
                        6.658816630599319,
                        6.531125471234531,
                        6.4459787172119425,
                        6.404839677342022,
                        6.408538721475384,
                        6.457462182341893,
                        6.551431374180016,
                        6.689254330324082,
                        6.8678804192022636,
                        7.081405289463024,
                        7.320158298913111,
                        7.57093961345306,
                        7.818802928678988,
                        8.049749264364864,
                        8.252775697571574,
                        8.420410604566626,
                        8.548101432937301,
                        8.633255254119275,
                        8.674386931021804,
                        null,
                        null
                      ]
                    }
                  ],
                  "name": "2024-11-01 11:46:30",
                  "traces": [
                    0,
                    1,
                    2,
                    3,
                    4,
                    5,
                    6,
                    7,
                    8,
                    9,
                    10,
                    11,
                    12
                  ]
                },
                {
                  "data": [
                    {
                      "type": "scatter",
                      "x": [
                        0,
                        0
                      ],
                      "y": [
                        0,
                        0
                      ]
                    },
                    {
                      "hovertemplate": "GroundTruthState<br>(%{x}, %{y})<br>Time: %{meta}",
                      "meta": [
                        "2024-11-01 11:46:25",
                        "2024-11-01 11:46:26",
                        "2024-11-01 11:46:27",
                        "2024-11-01 11:46:28",
                        "2024-11-01 11:46:29",
                        "2024-11-01 11:46:30",
                        "2024-11-01 11:46:31"
                      ],
                      "type": "scatter",
                      "x": [
                        2.0871090094870777,
                        3.049344171234631,
                        4.035254516130913,
                        5.021794006527739,
                        6.0424073988889715,
                        7.106461743252968,
                        8.224123195449215,
                        null
                      ],
                      "y": [
                        2.0097169051278136,
                        3.0656770596553575,
                        4.215523952736348,
                        5.45033879682299,
                        6.724654049033004,
                        8.015133207951292,
                        9.467034723032649,
                        null
                      ]
                    },
                    {
                      "type": "scatter",
                      "x": [
                        null,
                        null
                      ],
                      "y": [
                        null,
                        null
                      ]
                    },
                    {
                      "hovertemplate": "Detection<br>(%{x}, %{y})<br>Time: %{meta}",
                      "meta": [
                        "2024-11-01 11:46:25",
                        "2024-11-01 11:46:26",
                        "2024-11-01 11:46:27",
                        "2024-11-01 11:46:28",
                        "2024-11-01 11:46:29",
                        "2024-11-01 11:46:30",
                        "2024-11-01 11:46:31"
                      ],
                      "type": "scatter",
                      "x": [
                        2.209235781123469,
                        2.9114210737926856,
                        3.1835218470644002,
                        6.012096786906354,
                        6.608185083307628,
                        5.881154401900239,
                        7.314946729915822,
                        null
                      ],
                      "y": [
                        2.3435536247487607,
                        2.5449618532030187,
                        3.4763241167318055,
                        7.942997574754449,
                        6.079638574508856,
                        8.273313820175215,
                        10.102385506435162,
                        null
                      ]
                    },
                    {
                      "hovertemplate": "Clutter<br>(%{x}, %{y})<br>Time: %{meta}",
                      "meta": [
                        "2024-11-01 11:46:25",
                        "2024-11-01 11:46:25",
                        "2024-11-01 11:46:25",
                        "2024-11-01 11:46:25",
                        "2024-11-01 11:46:25",
                        "2024-11-01 11:46:25",
                        "2024-11-01 11:46:25",
                        "2024-11-01 11:46:26",
                        "2024-11-01 11:46:26",
                        "2024-11-01 11:46:26",
                        "2024-11-01 11:46:26",
                        "2024-11-01 11:46:27",
                        "2024-11-01 11:46:27",
                        "2024-11-01 11:46:28",
                        "2024-11-01 11:46:28",
                        "2024-11-01 11:46:28",
                        "2024-11-01 11:46:28",
                        "2024-11-01 11:46:28",
                        "2024-11-01 11:46:28",
                        "2024-11-01 11:46:28",
                        "2024-11-01 11:46:29",
                        "2024-11-01 11:46:30",
                        "2024-11-01 11:46:30",
                        "2024-11-01 11:46:30",
                        "2024-11-01 11:46:30",
                        "2024-11-01 11:46:31",
                        "2024-11-01 11:46:31",
                        "2024-11-01 11:46:31",
                        "2024-11-01 11:46:31",
                        "2024-11-01 11:46:31",
                        "2024-11-01 11:46:31"
                      ],
                      "type": "scatter",
                      "x": [
                        -6.790410277557795,
                        2.698815071254005,
                        11.282428822785326,
                        11.32042433636373,
                        -1.474329059236986,
                        10.322060405517517,
                        3.2483323415259004,
                        8.93859777930715,
                        -0.2825021212365719,
                        2.8999183814283267,
                        -0.5115467826555768,
                        2.2698667104575163,
                        11.114707367986771,
                        14.416390342308112,
                        -3.295894975407959,
                        -0.6859346549073058,
                        -2.9473233096693106,
                        12.97119267226589,
                        6.029844385559195,
                        -0.4194182346202,
                        -2.113222994604722,
                        9.871815243492948,
                        2.5063234822041807,
                        9.385770130748918,
                        4.95967343745062,
                        3.921157925800822,
                        7.257549372660787,
                        2.475919857189078,
                        12.718870861698576,
                        7.447386302200798,
                        13.573485595661301,
                        null
                      ],
                      "y": [
                        5.8747218671789305,
                        -4.723204548853852,
                        -2.6024782664876476,
                        10.111407039780456,
                        10.029085012443296,
                        4.852636329535342,
                        9.840535042009503,
                        -0.01941981084851019,
                        -0.8938217200062688,
                        9.98195151307322,
                        -4.177560490044009,
                        -1.6901767463231323,
                        -5.2305328021094075,
                        14.621745083566854,
                        13.053211155554425,
                        -2.0283738952029426,
                        10.751968259787807,
                        2.5926045974020635,
                        7.64585067371058,
                        -1.7523286235532485,
                        14.975537229405344,
                        6.566479336748516,
                        8.211626962353158,
                        9.642825408722175,
                        7.716846342382114,
                        19.35932005764407,
                        13.770259735391344,
                        8.521273132445234,
                        15.98295839022479,
                        1.8324527419394063,
                        6.396609087110986,
                        null
                      ]
                    },
                    {
                      "type": "scatter",
                      "x": [
                        null,
                        null
                      ],
                      "y": [
                        null,
                        null
                      ]
                    },
                    {
                      "customdata": [
                        "2024-11-01 11:46:25",
                        "2024-11-01 11:46:26",
                        "2024-11-01 11:46:27",
                        "2024-11-01 11:46:28",
                        "2024-11-01 11:46:29",
                        "2024-11-01 11:46:30",
                        "2024-11-01 11:46:31"
                      ],
                      "hovertemplate": "%{meta}<br>(%{x}, %{y})<br>Time: %{customdata}",
                      "meta": [
                        "GaussianStateUpdate",
                        "GaussianStateUpdate",
                        "GaussianStateUpdate",
                        "GaussianStateUpdate",
                        "GaussianStateUpdate",
                        "GaussianStateUpdate",
                        "GaussianStateUpdate"
                      ],
                      "type": "scatter",
                      "x": [
                        1.8824469355927698,
                        2.91924591376858,
                        3.5724590506670317,
                        4.711634330144442,
                        6.159102274939291,
                        7.078658970038035,
                        7.739053578754781,
                        null
                      ],
                      "y": [
                        2.183016619491018,
                        2.858178093862018,
                        3.616316705035669,
                        4.900191348842403,
                        6.0082382708012405,
                        7.539613304181913,
                        9.250358905195846,
                        null
                      ]
                    },
                    {
                      "type": "scatter",
                      "x": [
                        null
                      ],
                      "y": [
                        null
                      ]
                    },
                    {
                      "type": "scatter",
                      "x": [
                        8.023883814361403,
                        8.28244186794874,
                        8.51900459528056,
                        8.72392925519606,
                        8.887984451833981,
                        9.00293781984491,
                        9.062196153639746,
                        9.061713424177363,
                        9.00079851884062,
                        8.882482025225652,
                        8.71322446994013,
                        8.50205913615136,
                        8.259523241714712,
                        7.996714631148812,
                        7.724698066464277,
                        7.454223343148159,
                        7.195671846916004,
                        6.959089619890006,
                        6.754177878003602,
                        6.590123351194512,
                        6.475169342854316,
                        6.415911005529262,
                        6.416393733111086,
                        6.47730863802169,
                        6.595625124204361,
                        6.764882676256773,
                        6.976046972710404,
                        7.218583949070055,
                        7.481408199072617,
                        7.753401907682766,
                        8.023883814361403,
                        null,
                        null
                      ],
                      "y": [
                        10.342304138613702,
                        10.250448931788556,
                        10.116205963767795,
                        9.944216628721783,
                        9.740750892847782,
                        9.51379705317071,
                        9.273142882043533,
                        9.030056096575485,
                        8.79652843004667,
                        8.584178173635179,
                        8.403131602961617,
                        8.26124391525105,
                        8.163836939428544,
                        8.113859823718808,
                        8.112271179347537,
                        8.15841367177799,
                        8.250265886540285,
                        8.384520812368477,
                        8.556501206365358,
                        8.759965923853468,
                        8.98692074333192,
                        9.227574914771683,
                        9.470661712096115,
                        9.70418937873608,
                        9.916539625720423,
                        10.097586197845589,
                        10.239473343367886,
                        10.336880880637718,
                        10.386859488277844,
                        10.388447223201227,
                        10.342304138613702,
                        null,
                        null
                      ]
                    },
                    {
                      "type": "scatter",
                      "x": [
                        null,
                        null
                      ],
                      "y": [
                        null,
                        null
                      ]
                    },
                    {
                      "customdata": [
                        "2024-11-01 11:46:25",
                        "2024-11-01 11:46:26",
                        "2024-11-01 11:46:27",
                        "2024-11-01 11:46:28",
                        "2024-11-01 11:46:29",
                        "2024-11-01 11:46:30",
                        "2024-11-01 11:46:31"
                      ],
                      "hovertemplate": "%{meta}<br>(%{x}, %{y})<br>Time: %{customdata}",
                      "meta": [
                        "GaussianStateUpdate",
                        "GaussianStateUpdate",
                        "GaussianStateUpdate",
                        "GaussianStateUpdate",
                        "GaussianStateUpdate",
                        "GaussianStateUpdate",
                        "GaussianStateUpdate"
                      ],
                      "type": "scatter",
                      "x": [
                        1.8824469355927698,
                        2.91924591376858,
                        3.5724590506670317,
                        4.711634330144442,
                        6.159102274939291,
                        7.078658970038035,
                        7.739053578754781,
                        null
                      ],
                      "y": [
                        2.183016619491018,
                        2.858178093862018,
                        3.616316705035669,
                        4.900191348842403,
                        6.0082382708012405,
                        7.539613304181913,
                        9.250358905195846,
                        null
                      ]
                    },
                    {
                      "type": "scatter",
                      "x": [
                        null
                      ],
                      "y": [
                        null
                      ]
                    },
                    {
                      "type": "scatter",
                      "x": [
                        8.023883814361403,
                        8.28244186794874,
                        8.51900459528056,
                        8.72392925519606,
                        8.887984451833981,
                        9.00293781984491,
                        9.062196153639746,
                        9.061713424177363,
                        9.00079851884062,
                        8.882482025225652,
                        8.71322446994013,
                        8.50205913615136,
                        8.259523241714712,
                        7.996714631148812,
                        7.724698066464277,
                        7.454223343148159,
                        7.195671846916004,
                        6.959089619890006,
                        6.754177878003602,
                        6.590123351194512,
                        6.475169342854316,
                        6.415911005529262,
                        6.416393733111086,
                        6.47730863802169,
                        6.595625124204361,
                        6.764882676256773,
                        6.976046972710404,
                        7.218583949070055,
                        7.481408199072617,
                        7.753401907682766,
                        8.023883814361403,
                        null,
                        null
                      ],
                      "y": [
                        10.342304138613702,
                        10.250448931788556,
                        10.116205963767795,
                        9.944216628721783,
                        9.740750892847782,
                        9.51379705317071,
                        9.273142882043533,
                        9.030056096575485,
                        8.79652843004667,
                        8.584178173635179,
                        8.403131602961617,
                        8.26124391525105,
                        8.163836939428544,
                        8.113859823718808,
                        8.112271179347537,
                        8.15841367177799,
                        8.250265886540285,
                        8.384520812368477,
                        8.556501206365358,
                        8.759965923853468,
                        8.98692074333192,
                        9.227574914771683,
                        9.470661712096115,
                        9.70418937873608,
                        9.916539625720423,
                        10.097586197845589,
                        10.239473343367886,
                        10.336880880637718,
                        10.386859488277844,
                        10.388447223201227,
                        10.342304138613702,
                        null,
                        null
                      ]
                    }
                  ],
                  "name": "2024-11-01 11:46:31",
                  "traces": [
                    0,
                    1,
                    2,
                    3,
                    4,
                    5,
                    6,
                    7,
                    8,
                    9,
                    10,
                    11,
                    12
                  ]
                },
                {
                  "data": [
                    {
                      "type": "scatter",
                      "x": [
                        0,
                        0
                      ],
                      "y": [
                        0,
                        0
                      ]
                    },
                    {
                      "hovertemplate": "GroundTruthState<br>(%{x}, %{y})<br>Time: %{meta}",
                      "meta": [
                        "2024-11-01 11:46:26",
                        "2024-11-01 11:46:27",
                        "2024-11-01 11:46:28",
                        "2024-11-01 11:46:29",
                        "2024-11-01 11:46:30",
                        "2024-11-01 11:46:31",
                        "2024-11-01 11:46:32"
                      ],
                      "type": "scatter",
                      "x": [
                        3.049344171234631,
                        4.035254516130913,
                        5.021794006527739,
                        6.0424073988889715,
                        7.106461743252968,
                        8.224123195449215,
                        9.209238100519523,
                        null
                      ],
                      "y": [
                        3.0656770596553575,
                        4.215523952736348,
                        5.45033879682299,
                        6.724654049033004,
                        8.015133207951292,
                        9.467034723032649,
                        10.921792166951443,
                        null
                      ]
                    },
                    {
                      "type": "scatter",
                      "x": [
                        null,
                        null
                      ],
                      "y": [
                        null,
                        null
                      ]
                    },
                    {
                      "hovertemplate": "Detection<br>(%{x}, %{y})<br>Time: %{meta}",
                      "meta": [
                        "2024-11-01 11:46:26",
                        "2024-11-01 11:46:27",
                        "2024-11-01 11:46:28",
                        "2024-11-01 11:46:29",
                        "2024-11-01 11:46:30",
                        "2024-11-01 11:46:31",
                        "2024-11-01 11:46:32"
                      ],
                      "type": "scatter",
                      "x": [
                        2.9114210737926856,
                        3.1835218470644002,
                        6.012096786906354,
                        6.608185083307628,
                        5.881154401900239,
                        7.314946729915822,
                        8.970774699865254,
                        null
                      ],
                      "y": [
                        2.5449618532030187,
                        3.4763241167318055,
                        7.942997574754449,
                        6.079638574508856,
                        8.273313820175215,
                        10.102385506435162,
                        12.973331345839838,
                        null
                      ]
                    },
                    {
                      "hovertemplate": "Clutter<br>(%{x}, %{y})<br>Time: %{meta}",
                      "meta": [
                        "2024-11-01 11:46:26",
                        "2024-11-01 11:46:26",
                        "2024-11-01 11:46:26",
                        "2024-11-01 11:46:26",
                        "2024-11-01 11:46:27",
                        "2024-11-01 11:46:27",
                        "2024-11-01 11:46:28",
                        "2024-11-01 11:46:28",
                        "2024-11-01 11:46:28",
                        "2024-11-01 11:46:28",
                        "2024-11-01 11:46:28",
                        "2024-11-01 11:46:28",
                        "2024-11-01 11:46:28",
                        "2024-11-01 11:46:29",
                        "2024-11-01 11:46:30",
                        "2024-11-01 11:46:30",
                        "2024-11-01 11:46:30",
                        "2024-11-01 11:46:30",
                        "2024-11-01 11:46:31",
                        "2024-11-01 11:46:31",
                        "2024-11-01 11:46:31",
                        "2024-11-01 11:46:31",
                        "2024-11-01 11:46:31",
                        "2024-11-01 11:46:31",
                        "2024-11-01 11:46:32",
                        "2024-11-01 11:46:32",
                        "2024-11-01 11:46:32",
                        "2024-11-01 11:46:32",
                        "2024-11-01 11:46:32",
                        "2024-11-01 11:46:32",
                        "2024-11-01 11:46:32",
                        "2024-11-01 11:46:32"
                      ],
                      "type": "scatter",
                      "x": [
                        8.93859777930715,
                        -0.2825021212365719,
                        2.8999183814283267,
                        -0.5115467826555768,
                        2.2698667104575163,
                        11.114707367986771,
                        14.416390342308112,
                        -3.295894975407959,
                        -0.6859346549073058,
                        -2.9473233096693106,
                        12.97119267226589,
                        6.029844385559195,
                        -0.4194182346202,
                        -2.113222994604722,
                        9.871815243492948,
                        2.5063234822041807,
                        9.385770130748918,
                        4.95967343745062,
                        3.921157925800822,
                        7.257549372660787,
                        2.475919857189078,
                        12.718870861698576,
                        7.447386302200798,
                        13.573485595661301,
                        1.0853855503351908,
                        10.690386455619398,
                        7.208149404517586,
                        -0.1259233166476701,
                        11.74762076907948,
                        19.09479799773741,
                        17.3224358089386,
                        5.043875297942094,
                        null
                      ],
                      "y": [
                        -0.01941981084851019,
                        -0.8938217200062688,
                        9.98195151307322,
                        -4.177560490044009,
                        -1.6901767463231323,
                        -5.2305328021094075,
                        14.621745083566854,
                        13.053211155554425,
                        -2.0283738952029426,
                        10.751968259787807,
                        2.5926045974020635,
                        7.64585067371058,
                        -1.7523286235532485,
                        14.975537229405344,
                        6.566479336748516,
                        8.211626962353158,
                        9.642825408722175,
                        7.716846342382114,
                        19.35932005764407,
                        13.770259735391344,
                        8.521273132445234,
                        15.98295839022479,
                        1.8324527419394063,
                        6.396609087110986,
                        8.77388703374307,
                        9.76907949246,
                        1.6876640262180032,
                        20.25536859479137,
                        8.698657642869616,
                        14.495537523926702,
                        9.622286082442228,
                        18.91023732354538,
                        null
                      ]
                    },
                    {
                      "type": "scatter",
                      "x": [
                        null,
                        null
                      ],
                      "y": [
                        null,
                        null
                      ]
                    },
                    {
                      "customdata": [
                        "2024-11-01 11:46:26",
                        "2024-11-01 11:46:27",
                        "2024-11-01 11:46:28",
                        "2024-11-01 11:46:29",
                        "2024-11-01 11:46:30",
                        "2024-11-01 11:46:31",
                        "2024-11-01 11:46:32"
                      ],
                      "hovertemplate": "%{meta}<br>(%{x}, %{y})<br>Time: %{customdata}",
                      "meta": [
                        "GaussianStateUpdate",
                        "GaussianStateUpdate",
                        "GaussianStateUpdate",
                        "GaussianStateUpdate",
                        "GaussianStateUpdate",
                        "GaussianStateUpdate",
                        "GaussianStateUpdate"
                      ],
                      "type": "scatter",
                      "x": [
                        2.91924591376858,
                        3.5724590506670317,
                        4.711634330144442,
                        6.159102274939291,
                        7.078658970038035,
                        7.739053578754781,
                        9.613663558191483,
                        null
                      ],
                      "y": [
                        2.858178093862018,
                        3.616316705035669,
                        4.900191348842403,
                        6.0082382708012405,
                        7.539613304181913,
                        9.250358905195846,
                        10.47825282875295,
                        null
                      ]
                    },
                    {
                      "type": "scatter",
                      "x": [
                        null
                      ],
                      "y": [
                        null
                      ]
                    },
                    {
                      "type": "scatter",
                      "x": [
                        10.378430926014978,
                        10.575927833333044,
                        10.739037331271106,
                        10.861275450669641,
                        10.935275018086791,
                        10.953076759499648,
                        10.907512187047091,
                        10.795179872347722,
                        10.620097702260523,
                        10.394836343159302,
                        10.136997716724686,
                        9.863879401944272,
                        9.589399151506019,
                        9.32385441573552,
                        9.07494296558223,
                        8.848896190367977,
                        8.65139874181836,
                        8.488287412702384,
                        8.366048980623173,
                        8.292051405386815,
                        8.274250266829362,
                        8.319814095362862,
                        8.432147017575236,
                        8.607229097567457,
                        8.832488187343259,
                        9.090327524145502,
                        9.363451760495908,
                        9.637935296782707,
                        9.903476962136821,
                        10.152384862555502,
                        10.378430926014978,
                        null,
                        null
                      ],
                      "y": [
                        11.22445452651993,
                        10.993486072711823,
                        10.740494059385657,
                        10.471867803930142,
                        10.195482595384906,
                        9.921838340440157,
                        9.665041032978039,
                        9.442474844749508,
                        9.271643100166703,
                        9.164812779259904,
                        9.12557240784579,
                        9.1500916873988,
                        9.230857848874589,
                        9.359659816744799,
                        9.528938208492354,
                        9.73205113098598,
                        9.963020310066305,
                        10.21601591920621,
                        10.484645253690514,
                        10.761027126430601,
                        11.034665443199929,
                        11.291462058364102,
                        11.514030501671794,
                        11.68486233859116,
                        11.791692107577491,
                        11.830933205675747,
                        11.806413177543552,
                        11.725644942524989,
                        11.596843362895285,
                        11.427566890124856,
                        11.22445452651993,
                        null,
                        null
                      ]
                    },
                    {
                      "type": "scatter",
                      "x": [
                        null,
                        null
                      ],
                      "y": [
                        null,
                        null
                      ]
                    },
                    {
                      "customdata": [
                        "2024-11-01 11:46:26",
                        "2024-11-01 11:46:27",
                        "2024-11-01 11:46:28",
                        "2024-11-01 11:46:29",
                        "2024-11-01 11:46:30",
                        "2024-11-01 11:46:31",
                        "2024-11-01 11:46:32"
                      ],
                      "hovertemplate": "%{meta}<br>(%{x}, %{y})<br>Time: %{customdata}",
                      "meta": [
                        "GaussianStateUpdate",
                        "GaussianStateUpdate",
                        "GaussianStateUpdate",
                        "GaussianStateUpdate",
                        "GaussianStateUpdate",
                        "GaussianStateUpdate",
                        "GaussianStateUpdate"
                      ],
                      "type": "scatter",
                      "x": [
                        2.91924591376858,
                        3.5724590506670317,
                        4.711634330144442,
                        6.159102274939291,
                        7.078658970038035,
                        7.739053578754781,
                        9.613663558191483,
                        null
                      ],
                      "y": [
                        2.858178093862018,
                        3.616316705035669,
                        4.900191348842403,
                        6.0082382708012405,
                        7.539613304181913,
                        9.250358905195846,
                        10.47825282875295,
                        null
                      ]
                    },
                    {
                      "type": "scatter",
                      "x": [
                        null
                      ],
                      "y": [
                        null
                      ]
                    },
                    {
                      "type": "scatter",
                      "x": [
                        10.378430926014978,
                        10.575927833333044,
                        10.739037331271106,
                        10.861275450669641,
                        10.935275018086791,
                        10.953076759499648,
                        10.907512187047091,
                        10.795179872347722,
                        10.620097702260523,
                        10.394836343159302,
                        10.136997716724686,
                        9.863879401944272,
                        9.589399151506019,
                        9.32385441573552,
                        9.07494296558223,
                        8.848896190367977,
                        8.65139874181836,
                        8.488287412702384,
                        8.366048980623173,
                        8.292051405386815,
                        8.274250266829362,
                        8.319814095362862,
                        8.432147017575236,
                        8.607229097567457,
                        8.832488187343259,
                        9.090327524145502,
                        9.363451760495908,
                        9.637935296782707,
                        9.903476962136821,
                        10.152384862555502,
                        10.378430926014978,
                        null,
                        null
                      ],
                      "y": [
                        11.22445452651993,
                        10.993486072711823,
                        10.740494059385657,
                        10.471867803930142,
                        10.195482595384906,
                        9.921838340440157,
                        9.665041032978039,
                        9.442474844749508,
                        9.271643100166703,
                        9.164812779259904,
                        9.12557240784579,
                        9.1500916873988,
                        9.230857848874589,
                        9.359659816744799,
                        9.528938208492354,
                        9.73205113098598,
                        9.963020310066305,
                        10.21601591920621,
                        10.484645253690514,
                        10.761027126430601,
                        11.034665443199929,
                        11.291462058364102,
                        11.514030501671794,
                        11.68486233859116,
                        11.791692107577491,
                        11.830933205675747,
                        11.806413177543552,
                        11.725644942524989,
                        11.596843362895285,
                        11.427566890124856,
                        11.22445452651993,
                        null,
                        null
                      ]
                    }
                  ],
                  "name": "2024-11-01 11:46:32",
                  "traces": [
                    0,
                    1,
                    2,
                    3,
                    4,
                    5,
                    6,
                    7,
                    8,
                    9,
                    10,
                    11,
                    12
                  ]
                },
                {
                  "data": [
                    {
                      "type": "scatter",
                      "x": [
                        0,
                        0
                      ],
                      "y": [
                        0,
                        0
                      ]
                    },
                    {
                      "hovertemplate": "GroundTruthState<br>(%{x}, %{y})<br>Time: %{meta}",
                      "meta": [
                        "2024-11-01 11:46:27",
                        "2024-11-01 11:46:28",
                        "2024-11-01 11:46:29",
                        "2024-11-01 11:46:30",
                        "2024-11-01 11:46:31",
                        "2024-11-01 11:46:32",
                        "2024-11-01 11:46:33"
                      ],
                      "type": "scatter",
                      "x": [
                        4.035254516130913,
                        5.021794006527739,
                        6.0424073988889715,
                        7.106461743252968,
                        8.224123195449215,
                        9.209238100519523,
                        10.091524942750768,
                        null
                      ],
                      "y": [
                        4.215523952736348,
                        5.45033879682299,
                        6.724654049033004,
                        8.015133207951292,
                        9.467034723032649,
                        10.921792166951443,
                        12.360286222626502,
                        null
                      ]
                    },
                    {
                      "type": "scatter",
                      "x": [
                        null,
                        null
                      ],
                      "y": [
                        null,
                        null
                      ]
                    },
                    {
                      "hovertemplate": "Detection<br>(%{x}, %{y})<br>Time: %{meta}",
                      "meta": [
                        "2024-11-01 11:46:27",
                        "2024-11-01 11:46:28",
                        "2024-11-01 11:46:29",
                        "2024-11-01 11:46:30",
                        "2024-11-01 11:46:31",
                        "2024-11-01 11:46:32",
                        "2024-11-01 11:46:33"
                      ],
                      "type": "scatter",
                      "x": [
                        3.1835218470644002,
                        6.012096786906354,
                        6.608185083307628,
                        5.881154401900239,
                        7.314946729915822,
                        8.970774699865254,
                        10.865412930345748,
                        null
                      ],
                      "y": [
                        3.4763241167318055,
                        7.942997574754449,
                        6.079638574508856,
                        8.273313820175215,
                        10.102385506435162,
                        12.973331345839838,
                        12.788826091141713,
                        null
                      ]
                    },
                    {
                      "hovertemplate": "Clutter<br>(%{x}, %{y})<br>Time: %{meta}",
                      "meta": [
                        "2024-11-01 11:46:27",
                        "2024-11-01 11:46:27",
                        "2024-11-01 11:46:28",
                        "2024-11-01 11:46:28",
                        "2024-11-01 11:46:28",
                        "2024-11-01 11:46:28",
                        "2024-11-01 11:46:28",
                        "2024-11-01 11:46:28",
                        "2024-11-01 11:46:28",
                        "2024-11-01 11:46:29",
                        "2024-11-01 11:46:30",
                        "2024-11-01 11:46:30",
                        "2024-11-01 11:46:30",
                        "2024-11-01 11:46:30",
                        "2024-11-01 11:46:31",
                        "2024-11-01 11:46:31",
                        "2024-11-01 11:46:31",
                        "2024-11-01 11:46:31",
                        "2024-11-01 11:46:31",
                        "2024-11-01 11:46:31",
                        "2024-11-01 11:46:32",
                        "2024-11-01 11:46:32",
                        "2024-11-01 11:46:32",
                        "2024-11-01 11:46:32",
                        "2024-11-01 11:46:32",
                        "2024-11-01 11:46:32",
                        "2024-11-01 11:46:32",
                        "2024-11-01 11:46:32",
                        "2024-11-01 11:46:33"
                      ],
                      "type": "scatter",
                      "x": [
                        2.2698667104575163,
                        11.114707367986771,
                        14.416390342308112,
                        -3.295894975407959,
                        -0.6859346549073058,
                        -2.9473233096693106,
                        12.97119267226589,
                        6.029844385559195,
                        -0.4194182346202,
                        -2.113222994604722,
                        9.871815243492948,
                        2.5063234822041807,
                        9.385770130748918,
                        4.95967343745062,
                        3.921157925800822,
                        7.257549372660787,
                        2.475919857189078,
                        12.718870861698576,
                        7.447386302200798,
                        13.573485595661301,
                        1.0853855503351908,
                        10.690386455619398,
                        7.208149404517586,
                        -0.1259233166476701,
                        11.74762076907948,
                        19.09479799773741,
                        17.3224358089386,
                        5.043875297942094,
                        10.904125256424583,
                        null
                      ],
                      "y": [
                        -1.6901767463231323,
                        -5.2305328021094075,
                        14.621745083566854,
                        13.053211155554425,
                        -2.0283738952029426,
                        10.751968259787807,
                        2.5926045974020635,
                        7.64585067371058,
                        -1.7523286235532485,
                        14.975537229405344,
                        6.566479336748516,
                        8.211626962353158,
                        9.642825408722175,
                        7.716846342382114,
                        19.35932005764407,
                        13.770259735391344,
                        8.521273132445234,
                        15.98295839022479,
                        1.8324527419394063,
                        6.396609087110986,
                        8.77388703374307,
                        9.76907949246,
                        1.6876640262180032,
                        20.25536859479137,
                        8.698657642869616,
                        14.495537523926702,
                        9.622286082442228,
                        18.91023732354538,
                        3.395351806840208,
                        null
                      ]
                    },
                    {
                      "type": "scatter",
                      "x": [
                        null,
                        null
                      ],
                      "y": [
                        null,
                        null
                      ]
                    },
                    {
                      "customdata": [
                        "2024-11-01 11:46:27",
                        "2024-11-01 11:46:28",
                        "2024-11-01 11:46:29",
                        "2024-11-01 11:46:30",
                        "2024-11-01 11:46:31",
                        "2024-11-01 11:46:32",
                        "2024-11-01 11:46:33"
                      ],
                      "hovertemplate": "%{meta}<br>(%{x}, %{y})<br>Time: %{customdata}",
                      "meta": [
                        "GaussianStateUpdate",
                        "GaussianStateUpdate",
                        "GaussianStateUpdate",
                        "GaussianStateUpdate",
                        "GaussianStateUpdate",
                        "GaussianStateUpdate",
                        "GaussianStateUpdate"
                      ],
                      "type": "scatter",
                      "x": [
                        3.5724590506670317,
                        4.711634330144442,
                        6.159102274939291,
                        7.078658970038035,
                        7.739053578754781,
                        9.613663558191483,
                        10.741922753076446,
                        null
                      ],
                      "y": [
                        3.616316705035669,
                        4.900191348842403,
                        6.0082382708012405,
                        7.539613304181913,
                        9.250358905195846,
                        10.47825282875295,
                        12.228128739875691,
                        null
                      ]
                    },
                    {
                      "type": "scatter",
                      "x": [
                        null
                      ],
                      "y": [
                        null
                      ]
                    },
                    {
                      "type": "scatter",
                      "x": [
                        11.493131545340034,
                        11.629420409449693,
                        11.73091880980164,
                        11.793037282809909,
                        11.811485954877607,
                        11.782874589365399,
                        11.705694030973167,
                        11.581598048607841,
                        11.41633978103497,
                        11.219528060049488,
                        11.003013413234918,
                        10.778800477763147,
                        10.557450534995422,
                        10.347788820528828,
                        10.156901936738066,
                        9.990713960812858,
                        9.854438918638058,
                        9.75292653003486,
                        9.690808098755502,
                        9.67235998111316,
                        9.700970857777248,
                        9.778151348875307,
                        9.902247432791196,
                        10.067505694106838,
                        10.264317185712109,
                        10.480831844785925,
                        10.705065840467032,
                        10.926395630805551,
                        11.136057091188832,
                        11.326922844433913,
                        11.493131545340034,
                        null,
                        null
                      ],
                      "y": [
                        12.805774283924604,
                        12.597576779613158,
                        12.373112133386611,
                        12.139664819316282,
                        11.905749670486154,
                        11.681335996159413,
                        11.477817155992769,
                        11.307153449090242,
                        11.180077331238346,
                        11.103977678285773,
                        11.08165826207728,
                        11.111640212254501,
                        11.189553750216774,
                        11.309547212573667,
                        11.465312500635116,
                        11.65048319582678,
                        11.858655582516603,
                        12.083145810206553,
                        12.316593376089894,
                        12.550529229512433,
                        12.774921242529407,
                        12.978440087895112,
                        13.149104005152125,
                        13.27618013114134,
                        13.35227973997762,
                        13.374599222558148,
                        13.344612181320533,
                        13.266703425317178,
                        13.146709987307096,
                        12.990964788608064,
                        12.805774283924604,
                        null,
                        null
                      ]
                    },
                    {
                      "type": "scatter",
                      "x": [
                        null,
                        null
                      ],
                      "y": [
                        null,
                        null
                      ]
                    },
                    {
                      "customdata": [
                        "2024-11-01 11:46:27",
                        "2024-11-01 11:46:28",
                        "2024-11-01 11:46:29",
                        "2024-11-01 11:46:30",
                        "2024-11-01 11:46:31",
                        "2024-11-01 11:46:32",
                        "2024-11-01 11:46:33"
                      ],
                      "hovertemplate": "%{meta}<br>(%{x}, %{y})<br>Time: %{customdata}",
                      "meta": [
                        "GaussianStateUpdate",
                        "GaussianStateUpdate",
                        "GaussianStateUpdate",
                        "GaussianStateUpdate",
                        "GaussianStateUpdate",
                        "GaussianStateUpdate",
                        "GaussianStateUpdate"
                      ],
                      "type": "scatter",
                      "x": [
                        3.5724590506670317,
                        4.711634330144442,
                        6.159102274939291,
                        7.078658970038035,
                        7.739053578754781,
                        9.613663558191483,
                        10.741922753076446,
                        null
                      ],
                      "y": [
                        3.616316705035669,
                        4.900191348842403,
                        6.0082382708012405,
                        7.539613304181913,
                        9.250358905195846,
                        10.47825282875295,
                        12.228128739875691,
                        null
                      ]
                    },
                    {
                      "type": "scatter",
                      "x": [
                        null
                      ],
                      "y": [
                        null
                      ]
                    },
                    {
                      "type": "scatter",
                      "x": [
                        11.493131545340034,
                        11.629420409449693,
                        11.73091880980164,
                        11.793037282809909,
                        11.811485954877607,
                        11.782874589365399,
                        11.705694030973167,
                        11.581598048607841,
                        11.41633978103497,
                        11.219528060049488,
                        11.003013413234918,
                        10.778800477763147,
                        10.557450534995422,
                        10.347788820528828,
                        10.156901936738066,
                        9.990713960812858,
                        9.854438918638058,
                        9.75292653003486,
                        9.690808098755502,
                        9.67235998111316,
                        9.700970857777248,
                        9.778151348875307,
                        9.902247432791196,
                        10.067505694106838,
                        10.264317185712109,
                        10.480831844785925,
                        10.705065840467032,
                        10.926395630805551,
                        11.136057091188832,
                        11.326922844433913,
                        11.493131545340034,
                        null,
                        null
                      ],
                      "y": [
                        12.805774283924604,
                        12.597576779613158,
                        12.373112133386611,
                        12.139664819316282,
                        11.905749670486154,
                        11.681335996159413,
                        11.477817155992769,
                        11.307153449090242,
                        11.180077331238346,
                        11.103977678285773,
                        11.08165826207728,
                        11.111640212254501,
                        11.189553750216774,
                        11.309547212573667,
                        11.465312500635116,
                        11.65048319582678,
                        11.858655582516603,
                        12.083145810206553,
                        12.316593376089894,
                        12.550529229512433,
                        12.774921242529407,
                        12.978440087895112,
                        13.149104005152125,
                        13.27618013114134,
                        13.35227973997762,
                        13.374599222558148,
                        13.344612181320533,
                        13.266703425317178,
                        13.146709987307096,
                        12.990964788608064,
                        12.805774283924604,
                        null,
                        null
                      ]
                    }
                  ],
                  "name": "2024-11-01 11:46:33",
                  "traces": [
                    0,
                    1,
                    2,
                    3,
                    4,
                    5,
                    6,
                    7,
                    8,
                    9,
                    10,
                    11,
                    12
                  ]
                },
                {
                  "data": [
                    {
                      "type": "scatter",
                      "x": [
                        0,
                        0
                      ],
                      "y": [
                        0,
                        0
                      ]
                    },
                    {
                      "hovertemplate": "GroundTruthState<br>(%{x}, %{y})<br>Time: %{meta}",
                      "meta": [
                        "2024-11-01 11:46:28",
                        "2024-11-01 11:46:29",
                        "2024-11-01 11:46:30",
                        "2024-11-01 11:46:31",
                        "2024-11-01 11:46:32",
                        "2024-11-01 11:46:33",
                        "2024-11-01 11:46:34"
                      ],
                      "type": "scatter",
                      "x": [
                        5.021794006527739,
                        6.0424073988889715,
                        7.106461743252968,
                        8.224123195449215,
                        9.209238100519523,
                        10.091524942750768,
                        10.971070275320162,
                        null
                      ],
                      "y": [
                        5.45033879682299,
                        6.724654049033004,
                        8.015133207951292,
                        9.467034723032649,
                        10.921792166951443,
                        12.360286222626502,
                        13.821696431233978,
                        null
                      ]
                    },
                    {
                      "type": "scatter",
                      "x": [
                        null,
                        null
                      ],
                      "y": [
                        null,
                        null
                      ]
                    },
                    {
                      "hovertemplate": "Detection<br>(%{x}, %{y})<br>Time: %{meta}",
                      "meta": [
                        "2024-11-01 11:46:28",
                        "2024-11-01 11:46:29",
                        "2024-11-01 11:46:30",
                        "2024-11-01 11:46:31",
                        "2024-11-01 11:46:32",
                        "2024-11-01 11:46:33",
                        "2024-11-01 11:46:34"
                      ],
                      "type": "scatter",
                      "x": [
                        6.012096786906354,
                        6.608185083307628,
                        5.881154401900239,
                        7.314946729915822,
                        8.970774699865254,
                        10.865412930345748,
                        9.746622425395444,
                        null
                      ],
                      "y": [
                        7.942997574754449,
                        6.079638574508856,
                        8.273313820175215,
                        10.102385506435162,
                        12.973331345839838,
                        12.788826091141713,
                        14.359221315477548,
                        null
                      ]
                    },
                    {
                      "hovertemplate": "Clutter<br>(%{x}, %{y})<br>Time: %{meta}",
                      "meta": [
                        "2024-11-01 11:46:28",
                        "2024-11-01 11:46:28",
                        "2024-11-01 11:46:28",
                        "2024-11-01 11:46:28",
                        "2024-11-01 11:46:28",
                        "2024-11-01 11:46:28",
                        "2024-11-01 11:46:28",
                        "2024-11-01 11:46:29",
                        "2024-11-01 11:46:30",
                        "2024-11-01 11:46:30",
                        "2024-11-01 11:46:30",
                        "2024-11-01 11:46:30",
                        "2024-11-01 11:46:31",
                        "2024-11-01 11:46:31",
                        "2024-11-01 11:46:31",
                        "2024-11-01 11:46:31",
                        "2024-11-01 11:46:31",
                        "2024-11-01 11:46:31",
                        "2024-11-01 11:46:32",
                        "2024-11-01 11:46:32",
                        "2024-11-01 11:46:32",
                        "2024-11-01 11:46:32",
                        "2024-11-01 11:46:32",
                        "2024-11-01 11:46:32",
                        "2024-11-01 11:46:32",
                        "2024-11-01 11:46:32",
                        "2024-11-01 11:46:33",
                        "2024-11-01 11:46:34",
                        "2024-11-01 11:46:34",
                        "2024-11-01 11:46:34",
                        "2024-11-01 11:46:34",
                        "2024-11-01 11:46:34",
                        "2024-11-01 11:46:34",
                        "2024-11-01 11:46:34",
                        "2024-11-01 11:46:34",
                        "2024-11-01 11:46:34"
                      ],
                      "type": "scatter",
                      "x": [
                        14.416390342308112,
                        -3.295894975407959,
                        -0.6859346549073058,
                        -2.9473233096693106,
                        12.97119267226589,
                        6.029844385559195,
                        -0.4194182346202,
                        -2.113222994604722,
                        9.871815243492948,
                        2.5063234822041807,
                        9.385770130748918,
                        4.95967343745062,
                        3.921157925800822,
                        7.257549372660787,
                        2.475919857189078,
                        12.718870861698576,
                        7.447386302200798,
                        13.573485595661301,
                        1.0853855503351908,
                        10.690386455619398,
                        7.208149404517586,
                        -0.1259233166476701,
                        11.74762076907948,
                        19.09479799773741,
                        17.3224358089386,
                        5.043875297942094,
                        10.904125256424583,
                        7.909496138098941,
                        8.78407937047826,
                        10.154039802380565,
                        17.182302536978305,
                        10.569720715145547,
                        18.666830962284873,
                        15.415778048124608,
                        6.618658692073384,
                        11.277615804202421,
                        null
                      ],
                      "y": [
                        14.621745083566854,
                        13.053211155554425,
                        -2.0283738952029426,
                        10.751968259787807,
                        2.5926045974020635,
                        7.64585067371058,
                        -1.7523286235532485,
                        14.975537229405344,
                        6.566479336748516,
                        8.211626962353158,
                        9.642825408722175,
                        7.716846342382114,
                        19.35932005764407,
                        13.770259735391344,
                        8.521273132445234,
                        15.98295839022479,
                        1.8324527419394063,
                        6.396609087110986,
                        8.77388703374307,
                        9.76907949246,
                        1.6876640262180032,
                        20.25536859479137,
                        8.698657642869616,
                        14.495537523926702,
                        9.622286082442228,
                        18.91023732354538,
                        3.395351806840208,
                        8.917226456947997,
                        12.19400043696164,
                        10.692632096217203,
                        6.122225953696395,
                        4.810650600938512,
                        7.670884859248738,
                        19.255840339468914,
                        22.100556558082058,
                        15.304819290414741,
                        null
                      ]
                    },
                    {
                      "type": "scatter",
                      "x": [
                        null,
                        null
                      ],
                      "y": [
                        null,
                        null
                      ]
                    },
                    {
                      "customdata": [
                        "2024-11-01 11:46:28",
                        "2024-11-01 11:46:29",
                        "2024-11-01 11:46:30",
                        "2024-11-01 11:46:31",
                        "2024-11-01 11:46:32",
                        "2024-11-01 11:46:33",
                        "2024-11-01 11:46:34"
                      ],
                      "hovertemplate": "%{meta}<br>(%{x}, %{y})<br>Time: %{customdata}",
                      "meta": [
                        "GaussianStateUpdate",
                        "GaussianStateUpdate",
                        "GaussianStateUpdate",
                        "GaussianStateUpdate",
                        "GaussianStateUpdate",
                        "GaussianStateUpdate",
                        "GaussianStateUpdate"
                      ],
                      "type": "scatter",
                      "x": [
                        4.711634330144442,
                        6.159102274939291,
                        7.078658970038035,
                        7.739053578754781,
                        9.613663558191483,
                        10.741922753076446,
                        11.134106226857215,
                        null
                      ],
                      "y": [
                        4.900191348842403,
                        6.0082382708012405,
                        7.539613304181913,
                        9.250358905195846,
                        10.47825282875295,
                        12.228128739875691,
                        14.069673754817055,
                        null
                      ]
                    },
                    {
                      "type": "scatter",
                      "x": [
                        null
                      ],
                      "y": [
                        null
                      ]
                    },
                    {
                      "type": "scatter",
                      "x": [
                        12.141783267608707,
                        12.168383252832399,
                        12.151398073855386,
                        12.09089588096106,
                        11.988493012263334,
                        11.847611695874376,
                        11.673757329425912,
                        11.474573811791096,
                        11.259511638389753,
                        11.039174781183007,
                        10.8242529480772,
                        10.624693695947407,
                        10.449039825892184,
                        10.30417883187882,
                        10.195375504104444,
                        10.126429186105723,
                        10.099829308264152,
                        10.116817840145728,
                        10.177316580046078,
                        10.27971917418223,
                        10.420600751379595,
                        10.594455117134709,
                        10.793633864898053,
                        11.008695793805167,
                        11.229037664181856,
                        11.443959497124961,
                        11.643518345232897,
                        11.819172642189082,
                        11.96404497833005,
                        12.072834993336471,
                        12.141783267608707,
                        null,
                        null
                      ],
                      "y": [
                        14.268339585454399,
                        14.021844100077736,
                        13.776618448212938,
                        13.542401404200444,
                        13.329217877281401,
                        13.14684588859658,
                        13.004370193269468,
                        12.909355076119827,
                        12.866955721486725,
                        12.879260797320558,
                        12.945088378995962,
                        13.060342109178345,
                        13.218705713460926,
                        13.412414150623489,
                        13.632866552136631,
                        13.871007924179711,
                        14.117497993640846,
                        14.362750547658536,
                        14.596946125509552,
                        14.810129196931591,
                        14.992501614357963,
                        15.134977311803803,
                        15.229990847547128,
                        15.272391442309049,
                        15.260086713817865,
                        15.194259134365808,
                        15.07900570185217,
                        14.920641780367527,
                        14.726914793935501,
                        14.506486008899843,
                        14.268339585454399,
                        null,
                        null
                      ]
                    },
                    {
                      "type": "scatter",
                      "x": [
                        null,
                        null
                      ],
                      "y": [
                        null,
                        null
                      ]
                    },
                    {
                      "customdata": [
                        "2024-11-01 11:46:28",
                        "2024-11-01 11:46:29",
                        "2024-11-01 11:46:30",
                        "2024-11-01 11:46:31",
                        "2024-11-01 11:46:32",
                        "2024-11-01 11:46:33",
                        "2024-11-01 11:46:34"
                      ],
                      "hovertemplate": "%{meta}<br>(%{x}, %{y})<br>Time: %{customdata}",
                      "meta": [
                        "GaussianStateUpdate",
                        "GaussianStateUpdate",
                        "GaussianStateUpdate",
                        "GaussianStateUpdate",
                        "GaussianStateUpdate",
                        "GaussianStateUpdate",
                        "GaussianStateUpdate"
                      ],
                      "type": "scatter",
                      "x": [
                        4.711634330144442,
                        6.159102274939291,
                        7.078658970038035,
                        7.739053578754781,
                        9.613663558191483,
                        10.741922753076446,
                        11.134106226857215,
                        null
                      ],
                      "y": [
                        4.900191348842403,
                        6.0082382708012405,
                        7.539613304181913,
                        9.250358905195846,
                        10.47825282875295,
                        12.228128739875691,
                        14.069673754817055,
                        null
                      ]
                    },
                    {
                      "type": "scatter",
                      "x": [
                        null
                      ],
                      "y": [
                        null
                      ]
                    },
                    {
                      "type": "scatter",
                      "x": [
                        12.141783267608707,
                        12.168383252832399,
                        12.151398073855386,
                        12.09089588096106,
                        11.988493012263334,
                        11.847611695874376,
                        11.673757329425912,
                        11.474573811791096,
                        11.259511638389753,
                        11.039174781183007,
                        10.8242529480772,
                        10.624693695947407,
                        10.449039825892184,
                        10.30417883187882,
                        10.195375504104444,
                        10.126429186105723,
                        10.099829308264152,
                        10.116817840145728,
                        10.177316580046078,
                        10.27971917418223,
                        10.420600751379595,
                        10.594455117134709,
                        10.793633864898053,
                        11.008695793805167,
                        11.229037664181856,
                        11.443959497124961,
                        11.643518345232897,
                        11.819172642189082,
                        11.96404497833005,
                        12.072834993336471,
                        12.141783267608707,
                        null,
                        null
                      ],
                      "y": [
                        14.268339585454399,
                        14.021844100077736,
                        13.776618448212938,
                        13.542401404200444,
                        13.329217877281401,
                        13.14684588859658,
                        13.004370193269468,
                        12.909355076119827,
                        12.866955721486725,
                        12.879260797320558,
                        12.945088378995962,
                        13.060342109178345,
                        13.218705713460926,
                        13.412414150623489,
                        13.632866552136631,
                        13.871007924179711,
                        14.117497993640846,
                        14.362750547658536,
                        14.596946125509552,
                        14.810129196931591,
                        14.992501614357963,
                        15.134977311803803,
                        15.229990847547128,
                        15.272391442309049,
                        15.260086713817865,
                        15.194259134365808,
                        15.07900570185217,
                        14.920641780367527,
                        14.726914793935501,
                        14.506486008899843,
                        14.268339585454399,
                        null,
                        null
                      ]
                    }
                  ],
                  "name": "2024-11-01 11:46:34",
                  "traces": [
                    0,
                    1,
                    2,
                    3,
                    4,
                    5,
                    6,
                    7,
                    8,
                    9,
                    10,
                    11,
                    12
                  ]
                },
                {
                  "data": [
                    {
                      "type": "scatter",
                      "x": [
                        0,
                        0
                      ],
                      "y": [
                        0,
                        0
                      ]
                    },
                    {
                      "hovertemplate": "GroundTruthState<br>(%{x}, %{y})<br>Time: %{meta}",
                      "meta": [
                        "2024-11-01 11:46:29",
                        "2024-11-01 11:46:30",
                        "2024-11-01 11:46:31",
                        "2024-11-01 11:46:32",
                        "2024-11-01 11:46:33",
                        "2024-11-01 11:46:34",
                        "2024-11-01 11:46:35"
                      ],
                      "type": "scatter",
                      "x": [
                        6.0424073988889715,
                        7.106461743252968,
                        8.224123195449215,
                        9.209238100519523,
                        10.091524942750768,
                        10.971070275320162,
                        11.821804026571751,
                        null
                      ],
                      "y": [
                        6.724654049033004,
                        8.015133207951292,
                        9.467034723032649,
                        10.921792166951443,
                        12.360286222626502,
                        13.821696431233978,
                        15.299912146467127,
                        null
                      ]
                    },
                    {
                      "type": "scatter",
                      "x": [
                        null,
                        null
                      ],
                      "y": [
                        null,
                        null
                      ]
                    },
                    {
                      "hovertemplate": "Detection<br>(%{x}, %{y})<br>Time: %{meta}",
                      "meta": [
                        "2024-11-01 11:46:29",
                        "2024-11-01 11:46:30",
                        "2024-11-01 11:46:31",
                        "2024-11-01 11:46:32",
                        "2024-11-01 11:46:33",
                        "2024-11-01 11:46:34",
                        "2024-11-01 11:46:35"
                      ],
                      "type": "scatter",
                      "x": [
                        6.608185083307628,
                        5.881154401900239,
                        7.314946729915822,
                        8.970774699865254,
                        10.865412930345748,
                        9.746622425395444,
                        12.027356008218458,
                        null
                      ],
                      "y": [
                        6.079638574508856,
                        8.273313820175215,
                        10.102385506435162,
                        12.973331345839838,
                        12.788826091141713,
                        14.359221315477548,
                        14.829752172827643,
                        null
                      ]
                    },
                    {
                      "hovertemplate": "Clutter<br>(%{x}, %{y})<br>Time: %{meta}",
                      "meta": [
                        "2024-11-01 11:46:29",
                        "2024-11-01 11:46:30",
                        "2024-11-01 11:46:30",
                        "2024-11-01 11:46:30",
                        "2024-11-01 11:46:30",
                        "2024-11-01 11:46:31",
                        "2024-11-01 11:46:31",
                        "2024-11-01 11:46:31",
                        "2024-11-01 11:46:31",
                        "2024-11-01 11:46:31",
                        "2024-11-01 11:46:31",
                        "2024-11-01 11:46:32",
                        "2024-11-01 11:46:32",
                        "2024-11-01 11:46:32",
                        "2024-11-01 11:46:32",
                        "2024-11-01 11:46:32",
                        "2024-11-01 11:46:32",
                        "2024-11-01 11:46:32",
                        "2024-11-01 11:46:32",
                        "2024-11-01 11:46:33",
                        "2024-11-01 11:46:34",
                        "2024-11-01 11:46:34",
                        "2024-11-01 11:46:34",
                        "2024-11-01 11:46:34",
                        "2024-11-01 11:46:34",
                        "2024-11-01 11:46:34",
                        "2024-11-01 11:46:34",
                        "2024-11-01 11:46:34",
                        "2024-11-01 11:46:34",
                        "2024-11-01 11:46:35",
                        "2024-11-01 11:46:35",
                        "2024-11-01 11:46:35",
                        "2024-11-01 11:46:35",
                        "2024-11-01 11:46:35",
                        "2024-11-01 11:46:35",
                        "2024-11-01 11:46:35",
                        "2024-11-01 11:46:35",
                        "2024-11-01 11:46:35"
                      ],
                      "type": "scatter",
                      "x": [
                        -2.113222994604722,
                        9.871815243492948,
                        2.5063234822041807,
                        9.385770130748918,
                        4.95967343745062,
                        3.921157925800822,
                        7.257549372660787,
                        2.475919857189078,
                        12.718870861698576,
                        7.447386302200798,
                        13.573485595661301,
                        1.0853855503351908,
                        10.690386455619398,
                        7.208149404517586,
                        -0.1259233166476701,
                        11.74762076907948,
                        19.09479799773741,
                        17.3224358089386,
                        5.043875297942094,
                        10.904125256424583,
                        7.909496138098941,
                        8.78407937047826,
                        10.154039802380565,
                        17.182302536978305,
                        10.569720715145547,
                        18.666830962284873,
                        15.415778048124608,
                        6.618658692073384,
                        11.277615804202421,
                        17.689550085296247,
                        20.795182031368974,
                        8.323104214971083,
                        3.704548753737828,
                        2.171105305979481,
                        9.36427435090579,
                        16.5524483653178,
                        17.636682138488872,
                        13.344280032433685,
                        null
                      ],
                      "y": [
                        14.975537229405344,
                        6.566479336748516,
                        8.211626962353158,
                        9.642825408722175,
                        7.716846342382114,
                        19.35932005764407,
                        13.770259735391344,
                        8.521273132445234,
                        15.98295839022479,
                        1.8324527419394063,
                        6.396609087110986,
                        8.77388703374307,
                        9.76907949246,
                        1.6876640262180032,
                        20.25536859479137,
                        8.698657642869616,
                        14.495537523926702,
                        9.622286082442228,
                        18.91023732354538,
                        3.395351806840208,
                        8.917226456947997,
                        12.19400043696164,
                        10.692632096217203,
                        6.122225953696395,
                        4.810650600938512,
                        7.670884859248738,
                        19.255840339468914,
                        22.100556558082058,
                        15.304819290414741,
                        23.950127004181788,
                        16.462220574225256,
                        17.998337614276693,
                        18.170715436375005,
                        12.17463057937778,
                        10.933026056467824,
                        17.132162773020198,
                        14.786507922898855,
                        8.927267583839459,
                        null
                      ]
                    },
                    {
                      "type": "scatter",
                      "x": [
                        null,
                        null
                      ],
                      "y": [
                        null,
                        null
                      ]
                    },
                    {
                      "customdata": [
                        "2024-11-01 11:46:29",
                        "2024-11-01 11:46:30",
                        "2024-11-01 11:46:31",
                        "2024-11-01 11:46:32",
                        "2024-11-01 11:46:33",
                        "2024-11-01 11:46:34",
                        "2024-11-01 11:46:35"
                      ],
                      "hovertemplate": "%{meta}<br>(%{x}, %{y})<br>Time: %{customdata}",
                      "meta": [
                        "GaussianStateUpdate",
                        "GaussianStateUpdate",
                        "GaussianStateUpdate",
                        "GaussianStateUpdate",
                        "GaussianStateUpdate",
                        "GaussianStateUpdate",
                        "GaussianStateUpdate"
                      ],
                      "type": "scatter",
                      "x": [
                        6.159102274939291,
                        7.078658970038035,
                        7.739053578754781,
                        9.613663558191483,
                        10.741922753076446,
                        11.134106226857215,
                        12.09989795910947,
                        null
                      ],
                      "y": [
                        6.0082382708012405,
                        7.539613304181913,
                        9.250358905195846,
                        10.47825282875295,
                        12.228128739875691,
                        14.069673754817055,
                        15.09940870541408,
                        null
                      ]
                    },
                    {
                      "type": "scatter",
                      "x": [
                        null
                      ],
                      "y": [
                        null
                      ]
                    },
                    {
                      "type": "scatter",
                      "x": [
                        12.933878960535997,
                        12.937503205648214,
                        12.905242034694448,
                        12.838161311072598,
                        12.7386576622933,
                        12.610640493079465,
                        12.459464505925995,
                        12.29179246134691,
                        12.115405736006341,
                        11.93845778812525,
                        11.769264980506739,
                        11.615318438855503,
                        11.483282176218442,
                        11.378564858852473,
                        11.305181569710566,
                        11.265916957682942,
                        11.262294294926003,
                        11.294554660861195,
                        11.361633157535987,
                        11.461139882841383,
                        11.589171218220006,
                        11.740321367309303,
                        11.908002145970947,
                        12.084388835976284,
                        12.261327223648811,
                        12.430549220115847,
                        12.584479524646987,
                        12.716511681001007,
                        12.821232453843361,
                        12.89462058366235,
                        12.933878960535997,
                        null,
                        null
                      ],
                      "y": [
                        15.191832044967029,
                        14.996382087240521,
                        14.804973626864793,
                        14.625631656926759,
                        14.466041723183004,
                        14.333505301468005,
                        14.234332763982536,
                        14.173430203428696,
                        14.153882856916253,
                        14.17659775626825,
                        14.240251119188168,
                        14.34154925173193,
                        14.475484201065326,
                        14.635781578835624,
                        14.815463890420519,
                        15.00698536586113,
                        15.202456749002442,
                        15.393846688684505,
                        15.573182800943606,
                        15.732777778693842,
                        15.865325228704755,
                        15.964479599214243,
                        16.025386900741445,
                        16.044934566100974,
                        16.022222380314663,
                        15.95855694860449,
                        15.85726647500756,
                        15.72333577366826,
                        15.563033167955856,
                        15.38333296134388,
                        15.191832044967029,
                        null,
                        null
                      ]
                    },
                    {
                      "type": "scatter",
                      "x": [
                        null,
                        null
                      ],
                      "y": [
                        null,
                        null
                      ]
                    },
                    {
                      "customdata": [
                        "2024-11-01 11:46:29",
                        "2024-11-01 11:46:30",
                        "2024-11-01 11:46:31",
                        "2024-11-01 11:46:32",
                        "2024-11-01 11:46:33",
                        "2024-11-01 11:46:34",
                        "2024-11-01 11:46:35"
                      ],
                      "hovertemplate": "%{meta}<br>(%{x}, %{y})<br>Time: %{customdata}",
                      "meta": [
                        "GaussianStateUpdate",
                        "GaussianStateUpdate",
                        "GaussianStateUpdate",
                        "GaussianStateUpdate",
                        "GaussianStateUpdate",
                        "GaussianStateUpdate",
                        "GaussianStateUpdate"
                      ],
                      "type": "scatter",
                      "x": [
                        6.159102274939291,
                        7.078658970038035,
                        7.739053578754781,
                        9.613663558191483,
                        10.741922753076446,
                        11.134106226857215,
                        12.09989795910947,
                        null
                      ],
                      "y": [
                        6.0082382708012405,
                        7.539613304181913,
                        9.250358905195846,
                        10.47825282875295,
                        12.228128739875691,
                        14.069673754817055,
                        15.09940870541408,
                        null
                      ]
                    },
                    {
                      "type": "scatter",
                      "x": [
                        null
                      ],
                      "y": [
                        null
                      ]
                    },
                    {
                      "type": "scatter",
                      "x": [
                        12.933878960535997,
                        12.937503205648214,
                        12.905242034694448,
                        12.838161311072598,
                        12.7386576622933,
                        12.610640493079465,
                        12.459464505925995,
                        12.29179246134691,
                        12.115405736006341,
                        11.93845778812525,
                        11.769264980506739,
                        11.615318438855503,
                        11.483282176218442,
                        11.378564858852473,
                        11.305181569710566,
                        11.265916957682942,
                        11.262294294926003,
                        11.294554660861195,
                        11.361633157535987,
                        11.461139882841383,
                        11.589171218220006,
                        11.740321367309303,
                        11.908002145970947,
                        12.084388835976284,
                        12.261327223648811,
                        12.430549220115847,
                        12.584479524646987,
                        12.716511681001007,
                        12.821232453843361,
                        12.89462058366235,
                        12.933878960535997,
                        null,
                        null
                      ],
                      "y": [
                        15.191832044967029,
                        14.996382087240521,
                        14.804973626864793,
                        14.625631656926759,
                        14.466041723183004,
                        14.333505301468005,
                        14.234332763982536,
                        14.173430203428696,
                        14.153882856916253,
                        14.17659775626825,
                        14.240251119188168,
                        14.34154925173193,
                        14.475484201065326,
                        14.635781578835624,
                        14.815463890420519,
                        15.00698536586113,
                        15.202456749002442,
                        15.393846688684505,
                        15.573182800943606,
                        15.732777778693842,
                        15.865325228704755,
                        15.964479599214243,
                        16.025386900741445,
                        16.044934566100974,
                        16.022222380314663,
                        15.95855694860449,
                        15.85726647500756,
                        15.72333577366826,
                        15.563033167955856,
                        15.38333296134388,
                        15.191832044967029,
                        null,
                        null
                      ]
                    }
                  ],
                  "name": "2024-11-01 11:46:35",
                  "traces": [
                    0,
                    1,
                    2,
                    3,
                    4,
                    5,
                    6,
                    7,
                    8,
                    9,
                    10,
                    11,
                    12
                  ]
                },
                {
                  "data": [
                    {
                      "type": "scatter",
                      "x": [
                        0,
                        0
                      ],
                      "y": [
                        0,
                        0
                      ]
                    },
                    {
                      "hovertemplate": "GroundTruthState<br>(%{x}, %{y})<br>Time: %{meta}",
                      "meta": [
                        "2024-11-01 11:46:30",
                        "2024-11-01 11:46:31",
                        "2024-11-01 11:46:32",
                        "2024-11-01 11:46:33",
                        "2024-11-01 11:46:34",
                        "2024-11-01 11:46:35",
                        "2024-11-01 11:46:36"
                      ],
                      "type": "scatter",
                      "x": [
                        7.106461743252968,
                        8.224123195449215,
                        9.209238100519523,
                        10.091524942750768,
                        10.971070275320162,
                        11.821804026571751,
                        12.710258644131923,
                        null
                      ],
                      "y": [
                        8.015133207951292,
                        9.467034723032649,
                        10.921792166951443,
                        12.360286222626502,
                        13.821696431233978,
                        15.299912146467127,
                        16.866280896600955,
                        null
                      ]
                    },
                    {
                      "type": "scatter",
                      "x": [
                        null,
                        null
                      ],
                      "y": [
                        null,
                        null
                      ]
                    },
                    {
                      "hovertemplate": "Detection<br>(%{x}, %{y})<br>Time: %{meta}",
                      "meta": [
                        "2024-11-01 11:46:30",
                        "2024-11-01 11:46:31",
                        "2024-11-01 11:46:32",
                        "2024-11-01 11:46:33",
                        "2024-11-01 11:46:34",
                        "2024-11-01 11:46:35",
                        "2024-11-01 11:46:36"
                      ],
                      "type": "scatter",
                      "x": [
                        5.881154401900239,
                        7.314946729915822,
                        8.970774699865254,
                        10.865412930345748,
                        9.746622425395444,
                        12.027356008218458,
                        12.189603182817091,
                        null
                      ],
                      "y": [
                        8.273313820175215,
                        10.102385506435162,
                        12.973331345839838,
                        12.788826091141713,
                        14.359221315477548,
                        14.829752172827643,
                        17.394815111117204,
                        null
                      ]
                    },
                    {
                      "hovertemplate": "Clutter<br>(%{x}, %{y})<br>Time: %{meta}",
                      "meta": [
                        "2024-11-01 11:46:30",
                        "2024-11-01 11:46:30",
                        "2024-11-01 11:46:30",
                        "2024-11-01 11:46:30",
                        "2024-11-01 11:46:31",
                        "2024-11-01 11:46:31",
                        "2024-11-01 11:46:31",
                        "2024-11-01 11:46:31",
                        "2024-11-01 11:46:31",
                        "2024-11-01 11:46:31",
                        "2024-11-01 11:46:32",
                        "2024-11-01 11:46:32",
                        "2024-11-01 11:46:32",
                        "2024-11-01 11:46:32",
                        "2024-11-01 11:46:32",
                        "2024-11-01 11:46:32",
                        "2024-11-01 11:46:32",
                        "2024-11-01 11:46:32",
                        "2024-11-01 11:46:33",
                        "2024-11-01 11:46:34",
                        "2024-11-01 11:46:34",
                        "2024-11-01 11:46:34",
                        "2024-11-01 11:46:34",
                        "2024-11-01 11:46:34",
                        "2024-11-01 11:46:34",
                        "2024-11-01 11:46:34",
                        "2024-11-01 11:46:34",
                        "2024-11-01 11:46:34",
                        "2024-11-01 11:46:35",
                        "2024-11-01 11:46:35",
                        "2024-11-01 11:46:35",
                        "2024-11-01 11:46:35",
                        "2024-11-01 11:46:35",
                        "2024-11-01 11:46:35",
                        "2024-11-01 11:46:35",
                        "2024-11-01 11:46:35",
                        "2024-11-01 11:46:35",
                        "2024-11-01 11:46:36",
                        "2024-11-01 11:46:36",
                        "2024-11-01 11:46:36",
                        "2024-11-01 11:46:36",
                        "2024-11-01 11:46:36",
                        "2024-11-01 11:46:36",
                        "2024-11-01 11:46:36",
                        "2024-11-01 11:46:36",
                        "2024-11-01 11:46:36"
                      ],
                      "type": "scatter",
                      "x": [
                        9.871815243492948,
                        2.5063234822041807,
                        9.385770130748918,
                        4.95967343745062,
                        3.921157925800822,
                        7.257549372660787,
                        2.475919857189078,
                        12.718870861698576,
                        7.447386302200798,
                        13.573485595661301,
                        1.0853855503351908,
                        10.690386455619398,
                        7.208149404517586,
                        -0.1259233166476701,
                        11.74762076907948,
                        19.09479799773741,
                        17.3224358089386,
                        5.043875297942094,
                        10.904125256424583,
                        7.909496138098941,
                        8.78407937047826,
                        10.154039802380565,
                        17.182302536978305,
                        10.569720715145547,
                        18.666830962284873,
                        15.415778048124608,
                        6.618658692073384,
                        11.277615804202421,
                        17.689550085296247,
                        20.795182031368974,
                        8.323104214971083,
                        3.704548753737828,
                        2.171105305979481,
                        9.36427435090579,
                        16.5524483653178,
                        17.636682138488872,
                        13.344280032433685,
                        22.333709494443085,
                        14.846910802713833,
                        8.987568682419717,
                        5.448786356817646,
                        15.209892208162575,
                        9.297590594091725,
                        22.41706025208678,
                        21.76486423135404,
                        9.17725536936278,
                        null
                      ],
                      "y": [
                        6.566479336748516,
                        8.211626962353158,
                        9.642825408722175,
                        7.716846342382114,
                        19.35932005764407,
                        13.770259735391344,
                        8.521273132445234,
                        15.98295839022479,
                        1.8324527419394063,
                        6.396609087110986,
                        8.77388703374307,
                        9.76907949246,
                        1.6876640262180032,
                        20.25536859479137,
                        8.698657642869616,
                        14.495537523926702,
                        9.622286082442228,
                        18.91023732354538,
                        3.395351806840208,
                        8.917226456947997,
                        12.19400043696164,
                        10.692632096217203,
                        6.122225953696395,
                        4.810650600938512,
                        7.670884859248738,
                        19.255840339468914,
                        22.100556558082058,
                        15.304819290414741,
                        23.950127004181788,
                        16.462220574225256,
                        17.998337614276693,
                        18.170715436375005,
                        12.17463057937778,
                        10.933026056467824,
                        17.132162773020198,
                        14.786507922898855,
                        8.927267583839459,
                        25.107275117022763,
                        12.070358067061147,
                        14.851943548218827,
                        22.828097532154004,
                        19.52447046363757,
                        12.109385665865076,
                        16.990765489984646,
                        8.734726224208623,
                        8.438510978584103,
                        null
                      ]
                    },
                    {
                      "type": "scatter",
                      "x": [
                        null,
                        null
                      ],
                      "y": [
                        null,
                        null
                      ]
                    },
                    {
                      "customdata": [
                        "2024-11-01 11:46:30",
                        "2024-11-01 11:46:31",
                        "2024-11-01 11:46:32",
                        "2024-11-01 11:46:33",
                        "2024-11-01 11:46:34",
                        "2024-11-01 11:46:35",
                        "2024-11-01 11:46:36"
                      ],
                      "hovertemplate": "%{meta}<br>(%{x}, %{y})<br>Time: %{customdata}",
                      "meta": [
                        "GaussianStateUpdate",
                        "GaussianStateUpdate",
                        "GaussianStateUpdate",
                        "GaussianStateUpdate",
                        "GaussianStateUpdate",
                        "GaussianStateUpdate",
                        "GaussianStateUpdate"
                      ],
                      "type": "scatter",
                      "x": [
                        7.078658970038035,
                        7.739053578754781,
                        9.613663558191483,
                        10.741922753076446,
                        11.134106226857215,
                        12.09989795910947,
                        12.742470663661049,
                        null
                      ],
                      "y": [
                        7.539613304181913,
                        9.250358905195846,
                        10.47825282875295,
                        12.228128739875691,
                        14.069673754817055,
                        15.09940870541408,
                        16.843294447230335,
                        null
                      ]
                    },
                    {
                      "type": "scatter",
                      "x": [
                        null
                      ],
                      "y": [
                        null
                      ]
                    },
                    {
                      "type": "scatter",
                      "x": [
                        13.42610059228305,
                        13.48722906559978,
                        13.51674318842381,
                        13.513115048268428,
                        13.47600060816546,
                        13.406429080886948,
                        13.306982834976207,
                        13.181861871408438,
                        13.036858961873875,
                        12.878774168836811,
                        12.715195514243272,
                        12.553708190174742,
                        12.40142607102444,
                        12.264705288653685,
                        12.149021524331392,
                        12.058840735039048,
                        11.997710536384224,
                        11.96819918512811,
                        11.97182791700289,
                        12.00894078340442,
                        12.078506910389358,
                        12.177956551876656,
                        12.303077855506595,
                        12.448080569534323,
                        12.606164377681417,
                        12.769735540824456,
                        12.93123332642998,
                        13.083526925614702,
                        13.220225896129524,
                        13.335923717353571,
                        13.42610059228305,
                        null,
                        null
                      ],
                      "y": [
                        17.16516623020635,
                        16.9976476064951,
                        16.82314949940611,
                        16.648798665397937,
                        16.48189374501725,
                        16.32987483849526,
                        16.19985882322846,
                        16.09818330024933,
                        16.029912193799884,
                        15.998247489708703,
                        16.004429457604267,
                        16.0476529321572,
                        16.125371888284963,
                        16.233670117801978,
                        16.367575353585114,
                        16.52142266425432,
                        16.68894779242905,
                        16.86342537163323,
                        17.037804014687858,
                        17.204695341909968,
                        17.356705139500644,
                        17.486728067377776,
                        17.588404587050206,
                        17.656676108740545,
                        17.6883411857011,
                        17.682161004503936,
                        17.638935889206017,
                        17.561209485977738,
                        17.452928517287393,
                        17.319008067065177,
                        17.16516623020635,
                        null,
                        null
                      ]
                    },
                    {
                      "type": "scatter",
                      "x": [
                        null,
                        null
                      ],
                      "y": [
                        null,
                        null
                      ]
                    },
                    {
                      "customdata": [
                        "2024-11-01 11:46:30",
                        "2024-11-01 11:46:31",
                        "2024-11-01 11:46:32",
                        "2024-11-01 11:46:33",
                        "2024-11-01 11:46:34",
                        "2024-11-01 11:46:35",
                        "2024-11-01 11:46:36"
                      ],
                      "hovertemplate": "%{meta}<br>(%{x}, %{y})<br>Time: %{customdata}",
                      "meta": [
                        "GaussianStateUpdate",
                        "GaussianStateUpdate",
                        "GaussianStateUpdate",
                        "GaussianStateUpdate",
                        "GaussianStateUpdate",
                        "GaussianStateUpdate",
                        "GaussianStateUpdate"
                      ],
                      "type": "scatter",
                      "x": [
                        7.078658970038035,
                        7.739053578754781,
                        9.613663558191483,
                        10.741922753076446,
                        11.134106226857215,
                        12.09989795910947,
                        12.742470663661049,
                        null
                      ],
                      "y": [
                        7.539613304181913,
                        9.250358905195846,
                        10.47825282875295,
                        12.228128739875691,
                        14.069673754817055,
                        15.09940870541408,
                        16.843294447230335,
                        null
                      ]
                    },
                    {
                      "type": "scatter",
                      "x": [
                        null
                      ],
                      "y": [
                        null
                      ]
                    },
                    {
                      "type": "scatter",
                      "x": [
                        13.42610059228305,
                        13.48722906559978,
                        13.51674318842381,
                        13.513115048268428,
                        13.47600060816546,
                        13.406429080886948,
                        13.306982834976207,
                        13.181861871408438,
                        13.036858961873875,
                        12.878774168836811,
                        12.715195514243272,
                        12.553708190174742,
                        12.40142607102444,
                        12.264705288653685,
                        12.149021524331392,
                        12.058840735039048,
                        11.997710536384224,
                        11.96819918512811,
                        11.97182791700289,
                        12.00894078340442,
                        12.078506910389358,
                        12.177956551876656,
                        12.303077855506595,
                        12.448080569534323,
                        12.606164377681417,
                        12.769735540824456,
                        12.93123332642998,
                        13.083526925614702,
                        13.220225896129524,
                        13.335923717353571,
                        13.42610059228305,
                        null,
                        null
                      ],
                      "y": [
                        17.16516623020635,
                        16.9976476064951,
                        16.82314949940611,
                        16.648798665397937,
                        16.48189374501725,
                        16.32987483849526,
                        16.19985882322846,
                        16.09818330024933,
                        16.029912193799884,
                        15.998247489708703,
                        16.004429457604267,
                        16.0476529321572,
                        16.125371888284963,
                        16.233670117801978,
                        16.367575353585114,
                        16.52142266425432,
                        16.68894779242905,
                        16.86342537163323,
                        17.037804014687858,
                        17.204695341909968,
                        17.356705139500644,
                        17.486728067377776,
                        17.588404587050206,
                        17.656676108740545,
                        17.6883411857011,
                        17.682161004503936,
                        17.638935889206017,
                        17.561209485977738,
                        17.452928517287393,
                        17.319008067065177,
                        17.16516623020635,
                        null,
                        null
                      ]
                    }
                  ],
                  "name": "2024-11-01 11:46:36",
                  "traces": [
                    0,
                    1,
                    2,
                    3,
                    4,
                    5,
                    6,
                    7,
                    8,
                    9,
                    10,
                    11,
                    12
                  ]
                },
                {
                  "data": [
                    {
                      "type": "scatter",
                      "x": [
                        0,
                        0
                      ],
                      "y": [
                        0,
                        0
                      ]
                    },
                    {
                      "hovertemplate": "GroundTruthState<br>(%{x}, %{y})<br>Time: %{meta}",
                      "meta": [
                        "2024-11-01 11:46:31",
                        "2024-11-01 11:46:32",
                        "2024-11-01 11:46:33",
                        "2024-11-01 11:46:34",
                        "2024-11-01 11:46:35",
                        "2024-11-01 11:46:36",
                        "2024-11-01 11:46:37"
                      ],
                      "type": "scatter",
                      "x": [
                        8.224123195449215,
                        9.209238100519523,
                        10.091524942750768,
                        10.971070275320162,
                        11.821804026571751,
                        12.710258644131923,
                        13.638632472379063,
                        null
                      ],
                      "y": [
                        9.467034723032649,
                        10.921792166951443,
                        12.360286222626502,
                        13.821696431233978,
                        15.299912146467127,
                        16.866280896600955,
                        18.527460445589806,
                        null
                      ]
                    },
                    {
                      "type": "scatter",
                      "x": [
                        null,
                        null
                      ],
                      "y": [
                        null,
                        null
                      ]
                    },
                    {
                      "hovertemplate": "Detection<br>(%{x}, %{y})<br>Time: %{meta}",
                      "meta": [
                        "2024-11-01 11:46:31",
                        "2024-11-01 11:46:32",
                        "2024-11-01 11:46:33",
                        "2024-11-01 11:46:34",
                        "2024-11-01 11:46:35",
                        "2024-11-01 11:46:36",
                        "2024-11-01 11:46:37"
                      ],
                      "type": "scatter",
                      "x": [
                        7.314946729915822,
                        8.970774699865254,
                        10.865412930345748,
                        9.746622425395444,
                        12.027356008218458,
                        12.189603182817091,
                        14.994536479334519,
                        null
                      ],
                      "y": [
                        10.102385506435162,
                        12.973331345839838,
                        12.788826091141713,
                        14.359221315477548,
                        14.829752172827643,
                        17.394815111117204,
                        16.868609032746924,
                        null
                      ]
                    },
                    {
                      "hovertemplate": "Clutter<br>(%{x}, %{y})<br>Time: %{meta}",
                      "meta": [
                        "2024-11-01 11:46:31",
                        "2024-11-01 11:46:31",
                        "2024-11-01 11:46:31",
                        "2024-11-01 11:46:31",
                        "2024-11-01 11:46:31",
                        "2024-11-01 11:46:31",
                        "2024-11-01 11:46:32",
                        "2024-11-01 11:46:32",
                        "2024-11-01 11:46:32",
                        "2024-11-01 11:46:32",
                        "2024-11-01 11:46:32",
                        "2024-11-01 11:46:32",
                        "2024-11-01 11:46:32",
                        "2024-11-01 11:46:32",
                        "2024-11-01 11:46:33",
                        "2024-11-01 11:46:34",
                        "2024-11-01 11:46:34",
                        "2024-11-01 11:46:34",
                        "2024-11-01 11:46:34",
                        "2024-11-01 11:46:34",
                        "2024-11-01 11:46:34",
                        "2024-11-01 11:46:34",
                        "2024-11-01 11:46:34",
                        "2024-11-01 11:46:34",
                        "2024-11-01 11:46:35",
                        "2024-11-01 11:46:35",
                        "2024-11-01 11:46:35",
                        "2024-11-01 11:46:35",
                        "2024-11-01 11:46:35",
                        "2024-11-01 11:46:35",
                        "2024-11-01 11:46:35",
                        "2024-11-01 11:46:35",
                        "2024-11-01 11:46:35",
                        "2024-11-01 11:46:36",
                        "2024-11-01 11:46:36",
                        "2024-11-01 11:46:36",
                        "2024-11-01 11:46:36",
                        "2024-11-01 11:46:36",
                        "2024-11-01 11:46:36",
                        "2024-11-01 11:46:36",
                        "2024-11-01 11:46:36",
                        "2024-11-01 11:46:36",
                        "2024-11-01 11:46:37",
                        "2024-11-01 11:46:37"
                      ],
                      "type": "scatter",
                      "x": [
                        3.921157925800822,
                        7.257549372660787,
                        2.475919857189078,
                        12.718870861698576,
                        7.447386302200798,
                        13.573485595661301,
                        1.0853855503351908,
                        10.690386455619398,
                        7.208149404517586,
                        -0.1259233166476701,
                        11.74762076907948,
                        19.09479799773741,
                        17.3224358089386,
                        5.043875297942094,
                        10.904125256424583,
                        7.909496138098941,
                        8.78407937047826,
                        10.154039802380565,
                        17.182302536978305,
                        10.569720715145547,
                        18.666830962284873,
                        15.415778048124608,
                        6.618658692073384,
                        11.277615804202421,
                        17.689550085296247,
                        20.795182031368974,
                        8.323104214971083,
                        3.704548753737828,
                        2.171105305979481,
                        9.36427435090579,
                        16.5524483653178,
                        17.636682138488872,
                        13.344280032433685,
                        22.333709494443085,
                        14.846910802713833,
                        8.987568682419717,
                        5.448786356817646,
                        15.209892208162575,
                        9.297590594091725,
                        22.41706025208678,
                        21.76486423135404,
                        9.17725536936278,
                        4.354665659774552,
                        13.452597457334498,
                        null
                      ],
                      "y": [
                        19.35932005764407,
                        13.770259735391344,
                        8.521273132445234,
                        15.98295839022479,
                        1.8324527419394063,
                        6.396609087110986,
                        8.77388703374307,
                        9.76907949246,
                        1.6876640262180032,
                        20.25536859479137,
                        8.698657642869616,
                        14.495537523926702,
                        9.622286082442228,
                        18.91023732354538,
                        3.395351806840208,
                        8.917226456947997,
                        12.19400043696164,
                        10.692632096217203,
                        6.122225953696395,
                        4.810650600938512,
                        7.670884859248738,
                        19.255840339468914,
                        22.100556558082058,
                        15.304819290414741,
                        23.950127004181788,
                        16.462220574225256,
                        17.998337614276693,
                        18.170715436375005,
                        12.17463057937778,
                        10.933026056467824,
                        17.132162773020198,
                        14.786507922898855,
                        8.927267583839459,
                        25.107275117022763,
                        12.070358067061147,
                        14.851943548218827,
                        22.828097532154004,
                        19.52447046363757,
                        12.109385665865076,
                        16.990765489984646,
                        8.734726224208623,
                        8.438510978584103,
                        16.278157689398846,
                        27.646310123460037,
                        null
                      ]
                    },
                    {
                      "type": "scatter",
                      "x": [
                        null,
                        null
                      ],
                      "y": [
                        null,
                        null
                      ]
                    },
                    {
                      "customdata": [
                        "2024-11-01 11:46:31",
                        "2024-11-01 11:46:32",
                        "2024-11-01 11:46:33",
                        "2024-11-01 11:46:34",
                        "2024-11-01 11:46:35",
                        "2024-11-01 11:46:36",
                        "2024-11-01 11:46:37"
                      ],
                      "hovertemplate": "%{meta}<br>(%{x}, %{y})<br>Time: %{customdata}",
                      "meta": [
                        "GaussianStateUpdate",
                        "GaussianStateUpdate",
                        "GaussianStateUpdate",
                        "GaussianStateUpdate",
                        "GaussianStateUpdate",
                        "GaussianStateUpdate",
                        "GaussianStateUpdate"
                      ],
                      "type": "scatter",
                      "x": [
                        7.739053578754781,
                        9.613663558191483,
                        10.741922753076446,
                        11.134106226857215,
                        12.09989795910947,
                        12.742470663661049,
                        14.153744357989517,
                        null
                      ],
                      "y": [
                        9.250358905195846,
                        10.47825282875295,
                        12.228128739875691,
                        14.069673754817055,
                        15.09940870541408,
                        16.843294447230335,
                        17.709744886432,
                        null
                      ]
                    },
                    {
                      "type": "scatter",
                      "x": [
                        null
                      ],
                      "y": [
                        null
                      ]
                    },
                    {
                      "type": "scatter",
                      "x": [
                        14.729792058078791,
                        14.829390966311347,
                        14.902076660598304,
                        14.944514622224377,
                        14.953775155728383,
                        14.927765157960264,
                        14.865887694962163,
                        14.769827060637148,
                        14.644052591233946,
                        14.495583516894369,
                        14.332948749428754,
                        14.16483584181587,
                        13.999165772842062,
                        13.842555882481754,
                        13.700525208760817,
                        13.577696657900242,
                        13.478105290581436,
                        13.405411991095896,
                        13.362974050569651,
                        13.353712886115721,
                        13.379723529926784,
                        13.441600966961998,
                        13.537661645152733,
                        13.663436112137067,
                        13.811905092280238,
                        13.97453986009631,
                        14.142638922683156,
                        14.308323209545964,
                        14.46493299964299,
                        14.606951930378816,
                        14.729792058078791,
                        null,
                        null
                      ],
                      "y": [
                        18.142288575216106,
                        17.985444313599935,
                        17.816445444645154,
                        17.6410379949318,
                        17.4658171985199,
                        17.29832591449663,
                        17.146942188817555,
                        17.020237909597487,
                        16.925796161993723,
                        16.868887604992587,
                        16.851689227204908,
                        16.873430914254897,
                        16.931192500978668,
                        17.02087041871709,
                        17.137819557869566,
                        17.27720119764789,
                        17.43403121380989,
                        17.603044519901548,
                        17.77845206789324,
                        17.953658242121183,
                        18.12116375567334,
                        18.272547488528225,
                        18.399251853096832,
                        18.49369360392197,
                        18.550602142603328,
                        18.567800547325017,
                        18.54606220872509,
                        18.488297149539093,
                        18.398619238949667,
                        18.281681429945802,
                        18.142288575216106,
                        null,
                        null
                      ]
                    },
                    {
                      "type": "scatter",
                      "x": [
                        null,
                        null
                      ],
                      "y": [
                        null,
                        null
                      ]
                    },
                    {
                      "customdata": [
                        "2024-11-01 11:46:31",
                        "2024-11-01 11:46:32",
                        "2024-11-01 11:46:33",
                        "2024-11-01 11:46:34",
                        "2024-11-01 11:46:35",
                        "2024-11-01 11:46:36",
                        "2024-11-01 11:46:37"
                      ],
                      "hovertemplate": "%{meta}<br>(%{x}, %{y})<br>Time: %{customdata}",
                      "meta": [
                        "GaussianStateUpdate",
                        "GaussianStateUpdate",
                        "GaussianStateUpdate",
                        "GaussianStateUpdate",
                        "GaussianStateUpdate",
                        "GaussianStateUpdate",
                        "GaussianStateUpdate"
                      ],
                      "type": "scatter",
                      "x": [
                        7.739053578754781,
                        9.613663558191483,
                        10.741922753076446,
                        11.134106226857215,
                        12.09989795910947,
                        12.742470663661049,
                        14.153744357989517,
                        null
                      ],
                      "y": [
                        9.250358905195846,
                        10.47825282875295,
                        12.228128739875691,
                        14.069673754817055,
                        15.09940870541408,
                        16.843294447230335,
                        17.709744886432,
                        null
                      ]
                    },
                    {
                      "type": "scatter",
                      "x": [
                        null
                      ],
                      "y": [
                        null
                      ]
                    },
                    {
                      "type": "scatter",
                      "x": [
                        14.729792058078791,
                        14.829390966311347,
                        14.902076660598304,
                        14.944514622224377,
                        14.953775155728383,
                        14.927765157960264,
                        14.865887694962163,
                        14.769827060637148,
                        14.644052591233946,
                        14.495583516894369,
                        14.332948749428754,
                        14.16483584181587,
                        13.999165772842062,
                        13.842555882481754,
                        13.700525208760817,
                        13.577696657900242,
                        13.478105290581436,
                        13.405411991095896,
                        13.362974050569651,
                        13.353712886115721,
                        13.379723529926784,
                        13.441600966961998,
                        13.537661645152733,
                        13.663436112137067,
                        13.811905092280238,
                        13.97453986009631,
                        14.142638922683156,
                        14.308323209545964,
                        14.46493299964299,
                        14.606951930378816,
                        14.729792058078791,
                        null,
                        null
                      ],
                      "y": [
                        18.142288575216106,
                        17.985444313599935,
                        17.816445444645154,
                        17.6410379949318,
                        17.4658171985199,
                        17.29832591449663,
                        17.146942188817555,
                        17.020237909597487,
                        16.925796161993723,
                        16.868887604992587,
                        16.851689227204908,
                        16.873430914254897,
                        16.931192500978668,
                        17.02087041871709,
                        17.137819557869566,
                        17.27720119764789,
                        17.43403121380989,
                        17.603044519901548,
                        17.77845206789324,
                        17.953658242121183,
                        18.12116375567334,
                        18.272547488528225,
                        18.399251853096832,
                        18.49369360392197,
                        18.550602142603328,
                        18.567800547325017,
                        18.54606220872509,
                        18.488297149539093,
                        18.398619238949667,
                        18.281681429945802,
                        18.142288575216106,
                        null,
                        null
                      ]
                    }
                  ],
                  "name": "2024-11-01 11:46:37",
                  "traces": [
                    0,
                    1,
                    2,
                    3,
                    4,
                    5,
                    6,
                    7,
                    8,
                    9,
                    10,
                    11,
                    12
                  ]
                },
                {
                  "data": [
                    {
                      "type": "scatter",
                      "x": [
                        0,
                        0
                      ],
                      "y": [
                        0,
                        0
                      ]
                    },
                    {
                      "hovertemplate": "GroundTruthState<br>(%{x}, %{y})<br>Time: %{meta}",
                      "meta": [
                        "2024-11-01 11:46:32",
                        "2024-11-01 11:46:33",
                        "2024-11-01 11:46:34",
                        "2024-11-01 11:46:35",
                        "2024-11-01 11:46:36",
                        "2024-11-01 11:46:37",
                        "2024-11-01 11:46:38"
                      ],
                      "type": "scatter",
                      "x": [
                        9.209238100519523,
                        10.091524942750768,
                        10.971070275320162,
                        11.821804026571751,
                        12.710258644131923,
                        13.638632472379063,
                        14.577522670536728,
                        null
                      ],
                      "y": [
                        10.921792166951443,
                        12.360286222626502,
                        13.821696431233978,
                        15.299912146467127,
                        16.866280896600955,
                        18.527460445589806,
                        20.266330812982275,
                        null
                      ]
                    },
                    {
                      "type": "scatter",
                      "x": [
                        null,
                        null
                      ],
                      "y": [
                        null,
                        null
                      ]
                    },
                    {
                      "hovertemplate": "Detection<br>(%{x}, %{y})<br>Time: %{meta}",
                      "meta": [
                        "2024-11-01 11:46:32",
                        "2024-11-01 11:46:33",
                        "2024-11-01 11:46:34",
                        "2024-11-01 11:46:35",
                        "2024-11-01 11:46:36",
                        "2024-11-01 11:46:37",
                        "2024-11-01 11:46:38"
                      ],
                      "type": "scatter",
                      "x": [
                        8.970774699865254,
                        10.865412930345748,
                        9.746622425395444,
                        12.027356008218458,
                        12.189603182817091,
                        14.994536479334519,
                        13.541582429689747,
                        null
                      ],
                      "y": [
                        12.973331345839838,
                        12.788826091141713,
                        14.359221315477548,
                        14.829752172827643,
                        17.394815111117204,
                        16.868609032746924,
                        20.477828949347035,
                        null
                      ]
                    },
                    {
                      "hovertemplate": "Clutter<br>(%{x}, %{y})<br>Time: %{meta}",
                      "meta": [
                        "2024-11-01 11:46:32",
                        "2024-11-01 11:46:32",
                        "2024-11-01 11:46:32",
                        "2024-11-01 11:46:32",
                        "2024-11-01 11:46:32",
                        "2024-11-01 11:46:32",
                        "2024-11-01 11:46:32",
                        "2024-11-01 11:46:32",
                        "2024-11-01 11:46:33",
                        "2024-11-01 11:46:34",
                        "2024-11-01 11:46:34",
                        "2024-11-01 11:46:34",
                        "2024-11-01 11:46:34",
                        "2024-11-01 11:46:34",
                        "2024-11-01 11:46:34",
                        "2024-11-01 11:46:34",
                        "2024-11-01 11:46:34",
                        "2024-11-01 11:46:34",
                        "2024-11-01 11:46:35",
                        "2024-11-01 11:46:35",
                        "2024-11-01 11:46:35",
                        "2024-11-01 11:46:35",
                        "2024-11-01 11:46:35",
                        "2024-11-01 11:46:35",
                        "2024-11-01 11:46:35",
                        "2024-11-01 11:46:35",
                        "2024-11-01 11:46:35",
                        "2024-11-01 11:46:36",
                        "2024-11-01 11:46:36",
                        "2024-11-01 11:46:36",
                        "2024-11-01 11:46:36",
                        "2024-11-01 11:46:36",
                        "2024-11-01 11:46:36",
                        "2024-11-01 11:46:36",
                        "2024-11-01 11:46:36",
                        "2024-11-01 11:46:36",
                        "2024-11-01 11:46:37",
                        "2024-11-01 11:46:37",
                        "2024-11-01 11:46:38",
                        "2024-11-01 11:46:38",
                        "2024-11-01 11:46:38",
                        "2024-11-01 11:46:38",
                        "2024-11-01 11:46:38",
                        "2024-11-01 11:46:38",
                        "2024-11-01 11:46:38",
                        "2024-11-01 11:46:38"
                      ],
                      "type": "scatter",
                      "x": [
                        1.0853855503351908,
                        10.690386455619398,
                        7.208149404517586,
                        -0.1259233166476701,
                        11.74762076907948,
                        19.09479799773741,
                        17.3224358089386,
                        5.043875297942094,
                        10.904125256424583,
                        7.909496138098941,
                        8.78407937047826,
                        10.154039802380565,
                        17.182302536978305,
                        10.569720715145547,
                        18.666830962284873,
                        15.415778048124608,
                        6.618658692073384,
                        11.277615804202421,
                        17.689550085296247,
                        20.795182031368974,
                        8.323104214971083,
                        3.704548753737828,
                        2.171105305979481,
                        9.36427435090579,
                        16.5524483653178,
                        17.636682138488872,
                        13.344280032433685,
                        22.333709494443085,
                        14.846910802713833,
                        8.987568682419717,
                        5.448786356817646,
                        15.209892208162575,
                        9.297590594091725,
                        22.41706025208678,
                        21.76486423135404,
                        9.17725536936278,
                        4.354665659774552,
                        13.452597457334498,
                        9.552498134889902,
                        12.44229922137789,
                        9.838834396934493,
                        12.272513468340984,
                        7.523213691499432,
                        16.896835533774627,
                        22.735722802841494,
                        16.885134174878583,
                        null
                      ],
                      "y": [
                        8.77388703374307,
                        9.76907949246,
                        1.6876640262180032,
                        20.25536859479137,
                        8.698657642869616,
                        14.495537523926702,
                        9.622286082442228,
                        18.91023732354538,
                        3.395351806840208,
                        8.917226456947997,
                        12.19400043696164,
                        10.692632096217203,
                        6.122225953696395,
                        4.810650600938512,
                        7.670884859248738,
                        19.255840339468914,
                        22.100556558082058,
                        15.304819290414741,
                        23.950127004181788,
                        16.462220574225256,
                        17.998337614276693,
                        18.170715436375005,
                        12.17463057937778,
                        10.933026056467824,
                        17.132162773020198,
                        14.786507922898855,
                        8.927267583839459,
                        25.107275117022763,
                        12.070358067061147,
                        14.851943548218827,
                        22.828097532154004,
                        19.52447046363757,
                        12.109385665865076,
                        16.990765489984646,
                        8.734726224208623,
                        8.438510978584103,
                        16.278157689398846,
                        27.646310123460037,
                        18.75544730568103,
                        22.32421743986299,
                        26.91838456195311,
                        19.168177499008706,
                        29.047146073316664,
                        26.72895684118154,
                        24.78604429988824,
                        24.55196263505583,
                        null
                      ]
                    },
                    {
                      "type": "scatter",
                      "x": [
                        null,
                        null
                      ],
                      "y": [
                        null,
                        null
                      ]
                    },
                    {
                      "customdata": [
                        "2024-11-01 11:46:32",
                        "2024-11-01 11:46:33",
                        "2024-11-01 11:46:34",
                        "2024-11-01 11:46:35",
                        "2024-11-01 11:46:36",
                        "2024-11-01 11:46:37",
                        "2024-11-01 11:46:38"
                      ],
                      "hovertemplate": "%{meta}<br>(%{x}, %{y})<br>Time: %{customdata}",
                      "meta": [
                        "GaussianStateUpdate",
                        "GaussianStateUpdate",
                        "GaussianStateUpdate",
                        "GaussianStateUpdate",
                        "GaussianStateUpdate",
                        "GaussianStateUpdate",
                        "GaussianStateUpdate"
                      ],
                      "type": "scatter",
                      "x": [
                        9.613663558191483,
                        10.741922753076446,
                        11.134106226857215,
                        12.09989795910947,
                        12.742470663661049,
                        14.153744357989517,
                        14.52054283372957,
                        null
                      ],
                      "y": [
                        10.47825282875295,
                        12.228128739875691,
                        14.069673754817055,
                        15.09940870541408,
                        16.843294447230335,
                        17.709744886432,
                        19.485833201150843,
                        null
                      ]
                    },
                    {
                      "type": "scatter",
                      "x": [
                        null
                      ],
                      "y": [
                        null
                      ]
                    },
                    {
                      "type": "scatter",
                      "x": [
                        15.026343377403894,
                        15.170553210868539,
                        15.290422416919347,
                        15.381054919409218,
                        15.437382246090548,
                        15.454433747315594,
                        15.42824482156666,
                        15.357375478754381,
                        15.244467626211012,
                        15.09662226628178,
                        14.923925002950021,
                        14.737068066089083,
                        14.545597780291967,
                        14.357340004903627,
                        14.178616854686409,
                        14.014742290055246,
                        13.87052263458319,
                        13.750662708562471,
                        13.66003015604596,
                        13.603703281363007,
                        13.586651909598451,
                        13.612840690015618,
                        13.683710147059626,
                        13.796617982011744,
                        13.944462881196324,
                        14.117160193060807,
                        14.304018313492504,
                        14.49548940849743,
                        14.68374660491265,
                        14.86248154027067,
                        15.026343377403894,
                        null,
                        null
                      ],
                      "y": [
                        20.05571395989479,
                        19.907927812146188,
                        19.742252271443146,
                        19.563490875102275,
                        19.37739089303738,
                        19.191240618436762,
                        19.014181854468088,
                        18.8568101836129,
                        18.729597976114857,
                        18.64054617868642,
                        18.593521824428507,
                        18.588352574818064,
                        18.622186974124038,
                        18.69095551878999,
                        18.790299653875522,
                        18.915952442406898,
                        19.063750233913687,
                        19.2294150151249,
                        19.408176988581193,
                        19.59427620971894,
                        19.7804253077977,
                        19.957484005510956,
                        20.11485615405105,
                        20.2420683771623,
                        20.331120004455116,
                        20.37814451088293,
                        20.383313771627726,
                        20.34947901385903,
                        20.28071045034952,
                        20.181358378257073,
                        20.05571395989479,
                        null,
                        null
                      ]
                    },
                    {
                      "type": "scatter",
                      "x": [
                        null,
                        null
                      ],
                      "y": [
                        null,
                        null
                      ]
                    },
                    {
                      "customdata": [
                        "2024-11-01 11:46:32",
                        "2024-11-01 11:46:33",
                        "2024-11-01 11:46:34",
                        "2024-11-01 11:46:35",
                        "2024-11-01 11:46:36",
                        "2024-11-01 11:46:37",
                        "2024-11-01 11:46:38"
                      ],
                      "hovertemplate": "%{meta}<br>(%{x}, %{y})<br>Time: %{customdata}",
                      "meta": [
                        "GaussianStateUpdate",
                        "GaussianStateUpdate",
                        "GaussianStateUpdate",
                        "GaussianStateUpdate",
                        "GaussianStateUpdate",
                        "GaussianStateUpdate",
                        "GaussianStateUpdate"
                      ],
                      "type": "scatter",
                      "x": [
                        9.613663558191483,
                        10.741922753076446,
                        11.134106226857215,
                        12.09989795910947,
                        12.742470663661049,
                        14.153744357989517,
                        14.52054283372957,
                        null
                      ],
                      "y": [
                        10.47825282875295,
                        12.228128739875691,
                        14.069673754817055,
                        15.09940870541408,
                        16.843294447230335,
                        17.709744886432,
                        19.485833201150843,
                        null
                      ]
                    },
                    {
                      "type": "scatter",
                      "x": [
                        null
                      ],
                      "y": [
                        null
                      ]
                    },
                    {
                      "type": "scatter",
                      "x": [
                        15.026343377403894,
                        15.170553210868539,
                        15.290422416919347,
                        15.381054919409218,
                        15.437382246090548,
                        15.454433747315594,
                        15.42824482156666,
                        15.357375478754381,
                        15.244467626211012,
                        15.09662226628178,
                        14.923925002950021,
                        14.737068066089083,
                        14.545597780291967,
                        14.357340004903627,
                        14.178616854686409,
                        14.014742290055246,
                        13.87052263458319,
                        13.750662708562471,
                        13.66003015604596,
                        13.603703281363007,
                        13.586651909598451,
                        13.612840690015618,
                        13.683710147059626,
                        13.796617982011744,
                        13.944462881196324,
                        14.117160193060807,
                        14.304018313492504,
                        14.49548940849743,
                        14.68374660491265,
                        14.86248154027067,
                        15.026343377403894,
                        null,
                        null
                      ],
                      "y": [
                        20.05571395989479,
                        19.907927812146188,
                        19.742252271443146,
                        19.563490875102275,
                        19.37739089303738,
                        19.191240618436762,
                        19.014181854468088,
                        18.8568101836129,
                        18.729597976114857,
                        18.64054617868642,
                        18.593521824428507,
                        18.588352574818064,
                        18.622186974124038,
                        18.69095551878999,
                        18.790299653875522,
                        18.915952442406898,
                        19.063750233913687,
                        19.2294150151249,
                        19.408176988581193,
                        19.59427620971894,
                        19.7804253077977,
                        19.957484005510956,
                        20.11485615405105,
                        20.2420683771623,
                        20.331120004455116,
                        20.37814451088293,
                        20.383313771627726,
                        20.34947901385903,
                        20.28071045034952,
                        20.181358378257073,
                        20.05571395989479,
                        null,
                        null
                      ]
                    }
                  ],
                  "name": "2024-11-01 11:46:38",
                  "traces": [
                    0,
                    1,
                    2,
                    3,
                    4,
                    5,
                    6,
                    7,
                    8,
                    9,
                    10,
                    11,
                    12
                  ]
                },
                {
                  "data": [
                    {
                      "type": "scatter",
                      "x": [
                        0,
                        0
                      ],
                      "y": [
                        0,
                        0
                      ]
                    },
                    {
                      "hovertemplate": "GroundTruthState<br>(%{x}, %{y})<br>Time: %{meta}",
                      "meta": [
                        "2024-11-01 11:46:33",
                        "2024-11-01 11:46:34",
                        "2024-11-01 11:46:35",
                        "2024-11-01 11:46:36",
                        "2024-11-01 11:46:37",
                        "2024-11-01 11:46:38",
                        "2024-11-01 11:46:39"
                      ],
                      "type": "scatter",
                      "x": [
                        10.091524942750768,
                        10.971070275320162,
                        11.821804026571751,
                        12.710258644131923,
                        13.638632472379063,
                        14.577522670536728,
                        15.576552678974165,
                        null
                      ],
                      "y": [
                        12.360286222626502,
                        13.821696431233978,
                        15.299912146467127,
                        16.866280896600955,
                        18.527460445589806,
                        20.266330812982275,
                        21.99562363004073,
                        null
                      ]
                    },
                    {
                      "type": "scatter",
                      "x": [
                        null,
                        null
                      ],
                      "y": [
                        null,
                        null
                      ]
                    },
                    {
                      "hovertemplate": "Detection<br>(%{x}, %{y})<br>Time: %{meta}",
                      "meta": [
                        "2024-11-01 11:46:33",
                        "2024-11-01 11:46:34",
                        "2024-11-01 11:46:35",
                        "2024-11-01 11:46:36",
                        "2024-11-01 11:46:37",
                        "2024-11-01 11:46:38",
                        "2024-11-01 11:46:39"
                      ],
                      "type": "scatter",
                      "x": [
                        10.865412930345748,
                        9.746622425395444,
                        12.027356008218458,
                        12.189603182817091,
                        14.994536479334519,
                        13.541582429689747,
                        16.565876285380888,
                        null
                      ],
                      "y": [
                        12.788826091141713,
                        14.359221315477548,
                        14.829752172827643,
                        17.394815111117204,
                        16.868609032746924,
                        20.477828949347035,
                        21.24775356259589,
                        null
                      ]
                    },
                    {
                      "hovertemplate": "Clutter<br>(%{x}, %{y})<br>Time: %{meta}",
                      "meta": [
                        "2024-11-01 11:46:33",
                        "2024-11-01 11:46:34",
                        "2024-11-01 11:46:34",
                        "2024-11-01 11:46:34",
                        "2024-11-01 11:46:34",
                        "2024-11-01 11:46:34",
                        "2024-11-01 11:46:34",
                        "2024-11-01 11:46:34",
                        "2024-11-01 11:46:34",
                        "2024-11-01 11:46:34",
                        "2024-11-01 11:46:35",
                        "2024-11-01 11:46:35",
                        "2024-11-01 11:46:35",
                        "2024-11-01 11:46:35",
                        "2024-11-01 11:46:35",
                        "2024-11-01 11:46:35",
                        "2024-11-01 11:46:35",
                        "2024-11-01 11:46:35",
                        "2024-11-01 11:46:35",
                        "2024-11-01 11:46:36",
                        "2024-11-01 11:46:36",
                        "2024-11-01 11:46:36",
                        "2024-11-01 11:46:36",
                        "2024-11-01 11:46:36",
                        "2024-11-01 11:46:36",
                        "2024-11-01 11:46:36",
                        "2024-11-01 11:46:36",
                        "2024-11-01 11:46:36",
                        "2024-11-01 11:46:37",
                        "2024-11-01 11:46:37",
                        "2024-11-01 11:46:38",
                        "2024-11-01 11:46:38",
                        "2024-11-01 11:46:38",
                        "2024-11-01 11:46:38",
                        "2024-11-01 11:46:38",
                        "2024-11-01 11:46:38",
                        "2024-11-01 11:46:38",
                        "2024-11-01 11:46:38",
                        "2024-11-01 11:46:39",
                        "2024-11-01 11:46:39",
                        "2024-11-01 11:46:39",
                        "2024-11-01 11:46:39",
                        "2024-11-01 11:46:39",
                        "2024-11-01 11:46:39",
                        "2024-11-01 11:46:39",
                        "2024-11-01 11:46:39"
                      ],
                      "type": "scatter",
                      "x": [
                        10.904125256424583,
                        7.909496138098941,
                        8.78407937047826,
                        10.154039802380565,
                        17.182302536978305,
                        10.569720715145547,
                        18.666830962284873,
                        15.415778048124608,
                        6.618658692073384,
                        11.277615804202421,
                        17.689550085296247,
                        20.795182031368974,
                        8.323104214971083,
                        3.704548753737828,
                        2.171105305979481,
                        9.36427435090579,
                        16.5524483653178,
                        17.636682138488872,
                        13.344280032433685,
                        22.333709494443085,
                        14.846910802713833,
                        8.987568682419717,
                        5.448786356817646,
                        15.209892208162575,
                        9.297590594091725,
                        22.41706025208678,
                        21.76486423135404,
                        9.17725536936278,
                        4.354665659774552,
                        13.452597457334498,
                        9.552498134889902,
                        12.44229922137789,
                        9.838834396934493,
                        12.272513468340984,
                        7.523213691499432,
                        16.896835533774627,
                        22.735722802841494,
                        16.885134174878583,
                        24.690118175323008,
                        24.897672999964918,
                        22.89613006495027,
                        13.323769460151583,
                        16.09667760658821,
                        10.563744991030877,
                        19.387958515561266,
                        20.623975302275255,
                        null
                      ],
                      "y": [
                        3.395351806840208,
                        8.917226456947997,
                        12.19400043696164,
                        10.692632096217203,
                        6.122225953696395,
                        4.810650600938512,
                        7.670884859248738,
                        19.255840339468914,
                        22.100556558082058,
                        15.304819290414741,
                        23.950127004181788,
                        16.462220574225256,
                        17.998337614276693,
                        18.170715436375005,
                        12.17463057937778,
                        10.933026056467824,
                        17.132162773020198,
                        14.786507922898855,
                        8.927267583839459,
                        25.107275117022763,
                        12.070358067061147,
                        14.851943548218827,
                        22.828097532154004,
                        19.52447046363757,
                        12.109385665865076,
                        16.990765489984646,
                        8.734726224208623,
                        8.438510978584103,
                        16.278157689398846,
                        27.646310123460037,
                        18.75544730568103,
                        22.32421743986299,
                        26.91838456195311,
                        19.168177499008706,
                        29.047146073316664,
                        26.72895684118154,
                        24.78604429988824,
                        24.55196263505583,
                        28.923304747032283,
                        31.254668256798606,
                        15.822394842175502,
                        21.14497471390816,
                        19.0361726846686,
                        12.023570841032697,
                        14.599519288253935,
                        31.65416922096453,
                        null
                      ]
                    },
                    {
                      "type": "scatter",
                      "x": [
                        null,
                        null
                      ],
                      "y": [
                        null,
                        null
                      ]
                    },
                    {
                      "customdata": [
                        "2024-11-01 11:46:33",
                        "2024-11-01 11:46:34",
                        "2024-11-01 11:46:35",
                        "2024-11-01 11:46:36",
                        "2024-11-01 11:46:37",
                        "2024-11-01 11:46:38",
                        "2024-11-01 11:46:39"
                      ],
                      "hovertemplate": "%{meta}<br>(%{x}, %{y})<br>Time: %{customdata}",
                      "meta": [
                        "GaussianStateUpdate",
                        "GaussianStateUpdate",
                        "GaussianStateUpdate",
                        "GaussianStateUpdate",
                        "GaussianStateUpdate",
                        "GaussianStateUpdate",
                        "GaussianStateUpdate"
                      ],
                      "type": "scatter",
                      "x": [
                        10.741922753076446,
                        11.134106226857215,
                        12.09989795910947,
                        12.742470663661049,
                        14.153744357989517,
                        14.52054283372957,
                        15.597503300692091,
                        null
                      ],
                      "y": [
                        12.228128739875691,
                        14.069673754817055,
                        15.09940870541408,
                        16.843294447230335,
                        17.709744886432,
                        19.485833201150843,
                        20.697941267410872,
                        null
                      ]
                    },
                    {
                      "type": "scatter",
                      "x": [
                        null
                      ],
                      "y": [
                        null
                      ]
                    },
                    {
                      "type": "scatter",
                      "x": [
                        16.026410967308536,
                        16.204441101854698,
                        16.35984685030384,
                        16.486548675591095,
                        16.578242625072793,
                        16.628591546928675,
                        16.63211473503729,
                        16.585735629348765,
                        16.490486168274632,
                        16.352193450822913,
                        16.180352946192837,
                        15.985873226170987,
                        15.779141402446557,
                        15.569144641496427,
                        15.363451843585343,
                        15.168595634075645,
                        14.990549351989522,
                        14.83515921410334,
                        14.708457283189242,
                        14.616763786096477,
                        14.566415109423467,
                        14.562891816251767,
                        14.6092709486749,
                        14.704520394460776,
                        14.842812780078772,
                        15.014653288243954,
                        15.209133909135474,
                        15.415866421178576,
                        15.625862749815756,
                        15.831574140500198,
                        16.026410967308536,
                        null,
                        null
                      ],
                      "y": [
                        21.395272144287485,
                        21.266939995187805,
                        21.11498953473421,
                        20.94373163611493,
                        20.75843841328219,
                        20.565977888359274,
                        20.375219708665615,
                        20.196830924856314,
                        20.041971527285384,
                        19.920115694906546,
                        19.83721867496693,
                        19.795345765328108,
                        19.793605703019942,
                        19.829440813640055,
                        19.899594766095486,
                        20.00061039053426,
                        20.128956096346926,
                        20.28089361378524,
                        20.452151943408484,
                        20.63744462364212,
                        20.82990426309589,
                        21.020662385731818,
                        21.199051554855473,
                        21.353910961829758,
                        21.475766596551804,
                        21.558663735995932,
                        21.600536826200763,
                        21.60227672949218,
                        21.566441518739243,
                        21.49627947183516,
                        21.395272144287485,
                        null,
                        null
                      ]
                    },
                    {
                      "type": "scatter",
                      "x": [
                        null,
                        null
                      ],
                      "y": [
                        null,
                        null
                      ]
                    },
                    {
                      "customdata": [
                        "2024-11-01 11:46:33",
                        "2024-11-01 11:46:34",
                        "2024-11-01 11:46:35",
                        "2024-11-01 11:46:36",
                        "2024-11-01 11:46:37",
                        "2024-11-01 11:46:38",
                        "2024-11-01 11:46:39"
                      ],
                      "hovertemplate": "%{meta}<br>(%{x}, %{y})<br>Time: %{customdata}",
                      "meta": [
                        "GaussianStateUpdate",
                        "GaussianStateUpdate",
                        "GaussianStateUpdate",
                        "GaussianStateUpdate",
                        "GaussianStateUpdate",
                        "GaussianStateUpdate",
                        "GaussianStateUpdate"
                      ],
                      "type": "scatter",
                      "x": [
                        10.741922753076446,
                        11.134106226857215,
                        12.09989795910947,
                        12.742470663661049,
                        14.153744357989517,
                        14.52054283372957,
                        15.597503300692091,
                        null
                      ],
                      "y": [
                        12.228128739875691,
                        14.069673754817055,
                        15.09940870541408,
                        16.843294447230335,
                        17.709744886432,
                        19.485833201150843,
                        20.697941267410872,
                        null
                      ]
                    },
                    {
                      "type": "scatter",
                      "x": [
                        null
                      ],
                      "y": [
                        null
                      ]
                    },
                    {
                      "type": "scatter",
                      "x": [
                        16.026410967308536,
                        16.204441101854698,
                        16.35984685030384,
                        16.486548675591095,
                        16.578242625072793,
                        16.628591546928675,
                        16.63211473503729,
                        16.585735629348765,
                        16.490486168274632,
                        16.352193450822913,
                        16.180352946192837,
                        15.985873226170987,
                        15.779141402446557,
                        15.569144641496427,
                        15.363451843585343,
                        15.168595634075645,
                        14.990549351989522,
                        14.83515921410334,
                        14.708457283189242,
                        14.616763786096477,
                        14.566415109423467,
                        14.562891816251767,
                        14.6092709486749,
                        14.704520394460776,
                        14.842812780078772,
                        15.014653288243954,
                        15.209133909135474,
                        15.415866421178576,
                        15.625862749815756,
                        15.831574140500198,
                        16.026410967308536,
                        null,
                        null
                      ],
                      "y": [
                        21.395272144287485,
                        21.266939995187805,
                        21.11498953473421,
                        20.94373163611493,
                        20.75843841328219,
                        20.565977888359274,
                        20.375219708665615,
                        20.196830924856314,
                        20.041971527285384,
                        19.920115694906546,
                        19.83721867496693,
                        19.795345765328108,
                        19.793605703019942,
                        19.829440813640055,
                        19.899594766095486,
                        20.00061039053426,
                        20.128956096346926,
                        20.28089361378524,
                        20.452151943408484,
                        20.63744462364212,
                        20.82990426309589,
                        21.020662385731818,
                        21.199051554855473,
                        21.353910961829758,
                        21.475766596551804,
                        21.558663735995932,
                        21.600536826200763,
                        21.60227672949218,
                        21.566441518739243,
                        21.49627947183516,
                        21.395272144287485,
                        null,
                        null
                      ]
                    }
                  ],
                  "name": "2024-11-01 11:46:39",
                  "traces": [
                    0,
                    1,
                    2,
                    3,
                    4,
                    5,
                    6,
                    7,
                    8,
                    9,
                    10,
                    11,
                    12
                  ]
                },
                {
                  "data": [
                    {
                      "type": "scatter",
                      "x": [
                        0,
                        0
                      ],
                      "y": [
                        0,
                        0
                      ]
                    },
                    {
                      "hovertemplate": "GroundTruthState<br>(%{x}, %{y})<br>Time: %{meta}",
                      "meta": [
                        "2024-11-01 11:46:34",
                        "2024-11-01 11:46:35",
                        "2024-11-01 11:46:36",
                        "2024-11-01 11:46:37",
                        "2024-11-01 11:46:38",
                        "2024-11-01 11:46:39",
                        "2024-11-01 11:46:40"
                      ],
                      "type": "scatter",
                      "x": [
                        10.971070275320162,
                        11.821804026571751,
                        12.710258644131923,
                        13.638632472379063,
                        14.577522670536728,
                        15.576552678974165,
                        16.60904495187587,
                        null
                      ],
                      "y": [
                        13.821696431233978,
                        15.299912146467127,
                        16.866280896600955,
                        18.527460445589806,
                        20.266330812982275,
                        21.99562363004073,
                        23.74412133809568,
                        null
                      ]
                    },
                    {
                      "type": "scatter",
                      "x": [
                        null,
                        null
                      ],
                      "y": [
                        null,
                        null
                      ]
                    },
                    {
                      "hovertemplate": "Detection<br>(%{x}, %{y})<br>Time: %{meta}",
                      "meta": [
                        "2024-11-01 11:46:34",
                        "2024-11-01 11:46:35",
                        "2024-11-01 11:46:36",
                        "2024-11-01 11:46:37",
                        "2024-11-01 11:46:38",
                        "2024-11-01 11:46:39"
                      ],
                      "type": "scatter",
                      "x": [
                        9.746622425395444,
                        12.027356008218458,
                        12.189603182817091,
                        14.994536479334519,
                        13.541582429689747,
                        16.565876285380888,
                        null
                      ],
                      "y": [
                        14.359221315477548,
                        14.829752172827643,
                        17.394815111117204,
                        16.868609032746924,
                        20.477828949347035,
                        21.24775356259589,
                        null
                      ]
                    },
                    {
                      "hovertemplate": "Clutter<br>(%{x}, %{y})<br>Time: %{meta}",
                      "meta": [
                        "2024-11-01 11:46:34",
                        "2024-11-01 11:46:34",
                        "2024-11-01 11:46:34",
                        "2024-11-01 11:46:34",
                        "2024-11-01 11:46:34",
                        "2024-11-01 11:46:34",
                        "2024-11-01 11:46:34",
                        "2024-11-01 11:46:34",
                        "2024-11-01 11:46:34",
                        "2024-11-01 11:46:35",
                        "2024-11-01 11:46:35",
                        "2024-11-01 11:46:35",
                        "2024-11-01 11:46:35",
                        "2024-11-01 11:46:35",
                        "2024-11-01 11:46:35",
                        "2024-11-01 11:46:35",
                        "2024-11-01 11:46:35",
                        "2024-11-01 11:46:35",
                        "2024-11-01 11:46:36",
                        "2024-11-01 11:46:36",
                        "2024-11-01 11:46:36",
                        "2024-11-01 11:46:36",
                        "2024-11-01 11:46:36",
                        "2024-11-01 11:46:36",
                        "2024-11-01 11:46:36",
                        "2024-11-01 11:46:36",
                        "2024-11-01 11:46:36",
                        "2024-11-01 11:46:37",
                        "2024-11-01 11:46:37",
                        "2024-11-01 11:46:38",
                        "2024-11-01 11:46:38",
                        "2024-11-01 11:46:38",
                        "2024-11-01 11:46:38",
                        "2024-11-01 11:46:38",
                        "2024-11-01 11:46:38",
                        "2024-11-01 11:46:38",
                        "2024-11-01 11:46:38",
                        "2024-11-01 11:46:39",
                        "2024-11-01 11:46:39",
                        "2024-11-01 11:46:39",
                        "2024-11-01 11:46:39",
                        "2024-11-01 11:46:39",
                        "2024-11-01 11:46:39",
                        "2024-11-01 11:46:39",
                        "2024-11-01 11:46:39"
                      ],
                      "type": "scatter",
                      "x": [
                        7.909496138098941,
                        8.78407937047826,
                        10.154039802380565,
                        17.182302536978305,
                        10.569720715145547,
                        18.666830962284873,
                        15.415778048124608,
                        6.618658692073384,
                        11.277615804202421,
                        17.689550085296247,
                        20.795182031368974,
                        8.323104214971083,
                        3.704548753737828,
                        2.171105305979481,
                        9.36427435090579,
                        16.5524483653178,
                        17.636682138488872,
                        13.344280032433685,
                        22.333709494443085,
                        14.846910802713833,
                        8.987568682419717,
                        5.448786356817646,
                        15.209892208162575,
                        9.297590594091725,
                        22.41706025208678,
                        21.76486423135404,
                        9.17725536936278,
                        4.354665659774552,
                        13.452597457334498,
                        9.552498134889902,
                        12.44229922137789,
                        9.838834396934493,
                        12.272513468340984,
                        7.523213691499432,
                        16.896835533774627,
                        22.735722802841494,
                        16.885134174878583,
                        24.690118175323008,
                        24.897672999964918,
                        22.89613006495027,
                        13.323769460151583,
                        16.09667760658821,
                        10.563744991030877,
                        19.387958515561266,
                        20.623975302275255,
                        null
                      ],
                      "y": [
                        8.917226456947997,
                        12.19400043696164,
                        10.692632096217203,
                        6.122225953696395,
                        4.810650600938512,
                        7.670884859248738,
                        19.255840339468914,
                        22.100556558082058,
                        15.304819290414741,
                        23.950127004181788,
                        16.462220574225256,
                        17.998337614276693,
                        18.170715436375005,
                        12.17463057937778,
                        10.933026056467824,
                        17.132162773020198,
                        14.786507922898855,
                        8.927267583839459,
                        25.107275117022763,
                        12.070358067061147,
                        14.851943548218827,
                        22.828097532154004,
                        19.52447046363757,
                        12.109385665865076,
                        16.990765489984646,
                        8.734726224208623,
                        8.438510978584103,
                        16.278157689398846,
                        27.646310123460037,
                        18.75544730568103,
                        22.32421743986299,
                        26.91838456195311,
                        19.168177499008706,
                        29.047146073316664,
                        26.72895684118154,
                        24.78604429988824,
                        24.55196263505583,
                        28.923304747032283,
                        31.254668256798606,
                        15.822394842175502,
                        21.14497471390816,
                        19.0361726846686,
                        12.023570841032697,
                        14.599519288253935,
                        31.65416922096453,
                        null
                      ]
                    },
                    {
                      "type": "scatter",
                      "x": [
                        null,
                        null
                      ],
                      "y": [
                        null,
                        null
                      ]
                    },
                    {
                      "customdata": [
                        "2024-11-01 11:46:34",
                        "2024-11-01 11:46:35",
                        "2024-11-01 11:46:36",
                        "2024-11-01 11:46:37",
                        "2024-11-01 11:46:38",
                        "2024-11-01 11:46:39",
                        "2024-11-01 11:46:40"
                      ],
                      "hovertemplate": "%{meta}<br>(%{x}, %{y})<br>Time: %{customdata}",
                      "meta": [
                        "GaussianStateUpdate",
                        "GaussianStateUpdate",
                        "GaussianStateUpdate",
                        "GaussianStateUpdate",
                        "GaussianStateUpdate",
                        "GaussianStateUpdate",
                        "GaussianStateUpdate"
                      ],
                      "type": "scatter",
                      "x": [
                        11.134106226857215,
                        12.09989795910947,
                        12.742470663661049,
                        14.153744357989517,
                        14.52054283372957,
                        15.597503300692091,
                        16.55210000463719,
                        null
                      ],
                      "y": [
                        14.069673754817055,
                        15.09940870541408,
                        16.843294447230335,
                        17.709744886432,
                        19.485833201150843,
                        20.697941267410872,
                        22.035767914415892,
                        null
                      ]
                    },
                    {
                      "type": "scatter",
                      "x": [
                        null
                      ],
                      "y": [
                        null
                      ]
                    },
                    {
                      "type": "scatter",
                      "x": [
                        17.034747832189932,
                        17.24154419492486,
                        17.42227353160935,
                        17.569767151641816,
                        17.676774559947848,
                        17.736190733724097,
                        17.74204981684076,
                        17.691131380284055,
                        17.58464549453381,
                        17.428881610074015,
                        17.234103605431866,
                        17.012327107124737,
                        16.775231312970725,
                        16.533271270702794,
                        16.29539701994996,
                        16.069452177084447,
                        15.862631859101949,
                        15.681926068555939,
                        15.53443237426476,
                        15.42742017066315,
                        15.368009320709884,
                        15.362150158130952,
                        15.413068612318542,
                        15.519554486881495,
                        15.675318126791492,
                        15.870096120030288,
                        16.091887377925456,
                        16.328969603557493,
                        16.570929335781575,
                        16.808831640800335,
                        17.034747832189932,
                        null,
                        null
                      ],
                      "y": [
                        22.856789101929685,
                        22.71333913981651,
                        22.54166233705751,
                        22.346842692702268,
                        22.13507029275587,
                        21.914308324294723,
                        21.694651965978252,
                        21.488043589656726,
                        21.30690289617048,
                        21.161928960073997,
                        21.060219763117665,
                        21.004771309746697,
                        20.99527434681,
                        21.02939975935297,
                        21.103809599844325,
                        21.2147467269021,
                        21.35821614610693,
                        21.529873947550122,
                        21.72469390540832,
                        21.93647916502492,
                        22.157227204858653,
                        22.376883531996633,
                        22.583492198011545,
                        22.764632898074385,
                        22.909606677874685,
                        23.01131595942601,
                        23.066766535133834,
                        23.076261433805833,
                        23.042135933677095,
                        22.96771476054249,
                        22.856789101929685,
                        null,
                        null
                      ]
                    },
                    {
                      "type": "scatter",
                      "x": [
                        null,
                        null
                      ],
                      "y": [
                        null,
                        null
                      ]
                    },
                    {
                      "customdata": [
                        "2024-11-01 11:46:34",
                        "2024-11-01 11:46:35",
                        "2024-11-01 11:46:36",
                        "2024-11-01 11:46:37",
                        "2024-11-01 11:46:38",
                        "2024-11-01 11:46:39",
                        "2024-11-01 11:46:40"
                      ],
                      "hovertemplate": "%{meta}<br>(%{x}, %{y})<br>Time: %{customdata}",
                      "meta": [
                        "GaussianStateUpdate",
                        "GaussianStateUpdate",
                        "GaussianStateUpdate",
                        "GaussianStateUpdate",
                        "GaussianStateUpdate",
                        "GaussianStateUpdate",
                        "GaussianStateUpdate"
                      ],
                      "type": "scatter",
                      "x": [
                        11.134106226857215,
                        12.09989795910947,
                        12.742470663661049,
                        14.153744357989517,
                        14.52054283372957,
                        15.597503300692091,
                        16.55210000463719,
                        null
                      ],
                      "y": [
                        14.069673754817055,
                        15.09940870541408,
                        16.843294447230335,
                        17.709744886432,
                        19.485833201150843,
                        20.697941267410872,
                        22.035767914415892,
                        null
                      ]
                    },
                    {
                      "type": "scatter",
                      "x": [
                        null
                      ],
                      "y": [
                        null
                      ]
                    },
                    {
                      "type": "scatter",
                      "x": [
                        17.034747832189932,
                        17.24154419492486,
                        17.42227353160935,
                        17.569767151641816,
                        17.676774559947848,
                        17.736190733724097,
                        17.74204981684076,
                        17.691131380284055,
                        17.58464549453381,
                        17.428881610074015,
                        17.234103605431866,
                        17.012327107124737,
                        16.775231312970725,
                        16.533271270702794,
                        16.29539701994996,
                        16.069452177084447,
                        15.862631859101949,
                        15.681926068555939,
                        15.53443237426476,
                        15.42742017066315,
                        15.368009320709884,
                        15.362150158130952,
                        15.413068612318542,
                        15.519554486881495,
                        15.675318126791492,
                        15.870096120030288,
                        16.091887377925456,
                        16.328969603557493,
                        16.570929335781575,
                        16.808831640800335,
                        17.034747832189932,
                        null,
                        null
                      ],
                      "y": [
                        22.856789101929685,
                        22.71333913981651,
                        22.54166233705751,
                        22.346842692702268,
                        22.13507029275587,
                        21.914308324294723,
                        21.694651965978252,
                        21.488043589656726,
                        21.30690289617048,
                        21.161928960073997,
                        21.060219763117665,
                        21.004771309746697,
                        20.99527434681,
                        21.02939975935297,
                        21.103809599844325,
                        21.2147467269021,
                        21.35821614610693,
                        21.529873947550122,
                        21.72469390540832,
                        21.93647916502492,
                        22.157227204858653,
                        22.376883531996633,
                        22.583492198011545,
                        22.764632898074385,
                        22.909606677874685,
                        23.01131595942601,
                        23.066766535133834,
                        23.076261433805833,
                        23.042135933677095,
                        22.96771476054249,
                        22.856789101929685,
                        null,
                        null
                      ]
                    }
                  ],
                  "name": "2024-11-01 11:46:40",
                  "traces": [
                    0,
                    1,
                    2,
                    3,
                    4,
                    5,
                    6,
                    7,
                    8,
                    9,
                    10,
                    11,
                    12
                  ]
                },
                {
                  "data": [
                    {
                      "type": "scatter",
                      "x": [
                        0,
                        0
                      ],
                      "y": [
                        0,
                        0
                      ]
                    },
                    {
                      "hovertemplate": "GroundTruthState<br>(%{x}, %{y})<br>Time: %{meta}",
                      "meta": [
                        "2024-11-01 11:46:35",
                        "2024-11-01 11:46:36",
                        "2024-11-01 11:46:37",
                        "2024-11-01 11:46:38",
                        "2024-11-01 11:46:39",
                        "2024-11-01 11:46:40",
                        "2024-11-01 11:46:41"
                      ],
                      "type": "scatter",
                      "x": [
                        11.821804026571751,
                        12.710258644131923,
                        13.638632472379063,
                        14.577522670536728,
                        15.576552678974165,
                        16.60904495187587,
                        17.68196897193471,
                        null
                      ],
                      "y": [
                        15.299912146467127,
                        16.866280896600955,
                        18.527460445589806,
                        20.266330812982275,
                        21.99562363004073,
                        23.74412133809568,
                        25.478975314072432,
                        null
                      ]
                    },
                    {
                      "type": "scatter",
                      "x": [
                        null,
                        null
                      ],
                      "y": [
                        null,
                        null
                      ]
                    },
                    {
                      "hovertemplate": "Detection<br>(%{x}, %{y})<br>Time: %{meta}",
                      "meta": [
                        "2024-11-01 11:46:35",
                        "2024-11-01 11:46:36",
                        "2024-11-01 11:46:37",
                        "2024-11-01 11:46:38",
                        "2024-11-01 11:46:39",
                        "2024-11-01 11:46:41"
                      ],
                      "type": "scatter",
                      "x": [
                        12.027356008218458,
                        12.189603182817091,
                        14.994536479334519,
                        13.541582429689747,
                        16.565876285380888,
                        18.96049694435057,
                        null
                      ],
                      "y": [
                        14.829752172827643,
                        17.394815111117204,
                        16.868609032746924,
                        20.477828949347035,
                        21.24775356259589,
                        24.49260238223579,
                        null
                      ]
                    },
                    {
                      "hovertemplate": "Clutter<br>(%{x}, %{y})<br>Time: %{meta}",
                      "meta": [
                        "2024-11-01 11:46:35",
                        "2024-11-01 11:46:35",
                        "2024-11-01 11:46:35",
                        "2024-11-01 11:46:35",
                        "2024-11-01 11:46:35",
                        "2024-11-01 11:46:35",
                        "2024-11-01 11:46:35",
                        "2024-11-01 11:46:35",
                        "2024-11-01 11:46:35",
                        "2024-11-01 11:46:36",
                        "2024-11-01 11:46:36",
                        "2024-11-01 11:46:36",
                        "2024-11-01 11:46:36",
                        "2024-11-01 11:46:36",
                        "2024-11-01 11:46:36",
                        "2024-11-01 11:46:36",
                        "2024-11-01 11:46:36",
                        "2024-11-01 11:46:36",
                        "2024-11-01 11:46:37",
                        "2024-11-01 11:46:37",
                        "2024-11-01 11:46:38",
                        "2024-11-01 11:46:38",
                        "2024-11-01 11:46:38",
                        "2024-11-01 11:46:38",
                        "2024-11-01 11:46:38",
                        "2024-11-01 11:46:38",
                        "2024-11-01 11:46:38",
                        "2024-11-01 11:46:38",
                        "2024-11-01 11:46:39",
                        "2024-11-01 11:46:39",
                        "2024-11-01 11:46:39",
                        "2024-11-01 11:46:39",
                        "2024-11-01 11:46:39",
                        "2024-11-01 11:46:39",
                        "2024-11-01 11:46:39",
                        "2024-11-01 11:46:39",
                        "2024-11-01 11:46:41",
                        "2024-11-01 11:46:41",
                        "2024-11-01 11:46:41",
                        "2024-11-01 11:46:41"
                      ],
                      "type": "scatter",
                      "x": [
                        17.689550085296247,
                        20.795182031368974,
                        8.323104214971083,
                        3.704548753737828,
                        2.171105305979481,
                        9.36427435090579,
                        16.5524483653178,
                        17.636682138488872,
                        13.344280032433685,
                        22.333709494443085,
                        14.846910802713833,
                        8.987568682419717,
                        5.448786356817646,
                        15.209892208162575,
                        9.297590594091725,
                        22.41706025208678,
                        21.76486423135404,
                        9.17725536936278,
                        4.354665659774552,
                        13.452597457334498,
                        9.552498134889902,
                        12.44229922137789,
                        9.838834396934493,
                        12.272513468340984,
                        7.523213691499432,
                        16.896835533774627,
                        22.735722802841494,
                        16.885134174878583,
                        24.690118175323008,
                        24.897672999964918,
                        22.89613006495027,
                        13.323769460151583,
                        16.09667760658821,
                        10.563744991030877,
                        19.387958515561266,
                        20.623975302275255,
                        23.310024051956177,
                        11.842723597571926,
                        15.036739454411505,
                        12.033295792165084,
                        null
                      ],
                      "y": [
                        23.950127004181788,
                        16.462220574225256,
                        17.998337614276693,
                        18.170715436375005,
                        12.17463057937778,
                        10.933026056467824,
                        17.132162773020198,
                        14.786507922898855,
                        8.927267583839459,
                        25.107275117022763,
                        12.070358067061147,
                        14.851943548218827,
                        22.828097532154004,
                        19.52447046363757,
                        12.109385665865076,
                        16.990765489984646,
                        8.734726224208623,
                        8.438510978584103,
                        16.278157689398846,
                        27.646310123460037,
                        18.75544730568103,
                        22.32421743986299,
                        26.91838456195311,
                        19.168177499008706,
                        29.047146073316664,
                        26.72895684118154,
                        24.78604429988824,
                        24.55196263505583,
                        28.923304747032283,
                        31.254668256798606,
                        15.822394842175502,
                        21.14497471390816,
                        19.0361726846686,
                        12.023570841032697,
                        14.599519288253935,
                        31.65416922096453,
                        21.319913817411727,
                        34.19991679850982,
                        25.77007464946659,
                        30.800636569563043,
                        null
                      ]
                    },
                    {
                      "type": "scatter",
                      "x": [
                        null,
                        null
                      ],
                      "y": [
                        null,
                        null
                      ]
                    },
                    {
                      "customdata": [
                        "2024-11-01 11:46:35",
                        "2024-11-01 11:46:36",
                        "2024-11-01 11:46:37",
                        "2024-11-01 11:46:38",
                        "2024-11-01 11:46:39",
                        "2024-11-01 11:46:40",
                        "2024-11-01 11:46:41"
                      ],
                      "hovertemplate": "%{meta}<br>(%{x}, %{y})<br>Time: %{customdata}",
                      "meta": [
                        "GaussianStateUpdate",
                        "GaussianStateUpdate",
                        "GaussianStateUpdate",
                        "GaussianStateUpdate",
                        "GaussianStateUpdate",
                        "GaussianStateUpdate",
                        "GaussianStateUpdate"
                      ],
                      "type": "scatter",
                      "x": [
                        12.09989795910947,
                        12.742470663661049,
                        14.153744357989517,
                        14.52054283372957,
                        15.597503300692091,
                        16.55210000463719,
                        17.757441524569753,
                        null
                      ],
                      "y": [
                        15.09940870541408,
                        16.843294447230335,
                        17.709744886432,
                        19.485833201150843,
                        20.697941267410872,
                        22.035767914415892,
                        23.93641788088856,
                        null
                      ]
                    },
                    {
                      "type": "scatter",
                      "x": [
                        null
                      ],
                      "y": [
                        null
                      ]
                    },
                    {
                      "type": "scatter",
                      "x": [
                        18.12128055128192,
                        18.369139369282216,
                        18.596452261776868,
                        18.795516179019288,
                        18.957354397187654,
                        19.07154408691313,
                        19.127007443042586,
                        19.114602231381646,
                        19.031303667099458,
                        18.883093036070406,
                        18.683283535541463,
                        18.44763011622675,
                        18.19041748280743,
                        17.923176843075005,
                        17.655043662046765,
                        17.393602497857575,
                        17.145742966110074,
                        16.918427243214904,
                        16.71936194558044,
                        16.55752659685446,
                        16.443339568879328,
                        16.38787584631811,
                        16.400280742645318,
                        16.48357919841864,
                        16.631788143513347,
                        16.8315979707983,
                        17.067256585856637,
                        17.32447270473501,
                        17.59171065014955,
                        17.859840182072123,
                        18.12128055128192,
                        null,
                        null
                      ],
                      "y": [
                        24.83364785926851,
                        24.713637858998332,
                        24.562856438382674,
                        24.38425169513032,
                        24.18168422607918,
                        23.960978414578037,
                        23.73124024925387,
                        23.505667209805708,
                        23.300252433326502,
                        23.12974838084653,
                        23.00352784524997,
                        22.924691837112547,
                        22.892056103754513,
                        22.902542349033457,
                        22.95266991146599,
                        23.039187902508615,
                        23.159198308843013,
                        23.309982052689605,
                        23.48858924219314,
                        23.691154663193508,
                        23.911855757110068,
                        24.14159307577545,
                        24.367168210950485,
                        24.572583031431524,
                        24.743085799726195,
                        24.8693071980706,
                        24.948144737471342,
                        24.9807799418807,
                        24.970292902701182,
                        24.92016564456609,
                        24.83364785926851,
                        null,
                        null
                      ]
                    },
                    {
                      "type": "scatter",
                      "x": [
                        null,
                        null
                      ],
                      "y": [
                        null,
                        null
                      ]
                    },
                    {
                      "customdata": [
                        "2024-11-01 11:46:35",
                        "2024-11-01 11:46:36",
                        "2024-11-01 11:46:37",
                        "2024-11-01 11:46:38",
                        "2024-11-01 11:46:39",
                        "2024-11-01 11:46:40",
                        "2024-11-01 11:46:41"
                      ],
                      "hovertemplate": "%{meta}<br>(%{x}, %{y})<br>Time: %{customdata}",
                      "meta": [
                        "GaussianStateUpdate",
                        "GaussianStateUpdate",
                        "GaussianStateUpdate",
                        "GaussianStateUpdate",
                        "GaussianStateUpdate",
                        "GaussianStateUpdate",
                        "GaussianStateUpdate"
                      ],
                      "type": "scatter",
                      "x": [
                        12.09989795910947,
                        12.742470663661049,
                        14.153744357989517,
                        14.52054283372957,
                        15.597503300692091,
                        16.55210000463719,
                        17.757441524569753,
                        null
                      ],
                      "y": [
                        15.09940870541408,
                        16.843294447230335,
                        17.709744886432,
                        19.485833201150843,
                        20.697941267410872,
                        22.035767914415892,
                        23.93641788088856,
                        null
                      ]
                    },
                    {
                      "type": "scatter",
                      "x": [
                        null
                      ],
                      "y": [
                        null
                      ]
                    },
                    {
                      "type": "scatter",
                      "x": [
                        18.12128055128192,
                        18.369139369282216,
                        18.596452261776868,
                        18.795516179019288,
                        18.957354397187654,
                        19.07154408691313,
                        19.127007443042586,
                        19.114602231381646,
                        19.031303667099458,
                        18.883093036070406,
                        18.683283535541463,
                        18.44763011622675,
                        18.19041748280743,
                        17.923176843075005,
                        17.655043662046765,
                        17.393602497857575,
                        17.145742966110074,
                        16.918427243214904,
                        16.71936194558044,
                        16.55752659685446,
                        16.443339568879328,
                        16.38787584631811,
                        16.400280742645318,
                        16.48357919841864,
                        16.631788143513347,
                        16.8315979707983,
                        17.067256585856637,
                        17.32447270473501,
                        17.59171065014955,
                        17.859840182072123,
                        18.12128055128192,
                        null,
                        null
                      ],
                      "y": [
                        24.83364785926851,
                        24.713637858998332,
                        24.562856438382674,
                        24.38425169513032,
                        24.18168422607918,
                        23.960978414578037,
                        23.73124024925387,
                        23.505667209805708,
                        23.300252433326502,
                        23.12974838084653,
                        23.00352784524997,
                        22.924691837112547,
                        22.892056103754513,
                        22.902542349033457,
                        22.95266991146599,
                        23.039187902508615,
                        23.159198308843013,
                        23.309982052689605,
                        23.48858924219314,
                        23.691154663193508,
                        23.911855757110068,
                        24.14159307577545,
                        24.367168210950485,
                        24.572583031431524,
                        24.743085799726195,
                        24.8693071980706,
                        24.948144737471342,
                        24.9807799418807,
                        24.970292902701182,
                        24.92016564456609,
                        24.83364785926851,
                        null,
                        null
                      ]
                    }
                  ],
                  "name": "2024-11-01 11:46:41",
                  "traces": [
                    0,
                    1,
                    2,
                    3,
                    4,
                    5,
                    6,
                    7,
                    8,
                    9,
                    10,
                    11,
                    12
                  ]
                },
                {
                  "data": [
                    {
                      "type": "scatter",
                      "x": [
                        0,
                        0
                      ],
                      "y": [
                        0,
                        0
                      ]
                    },
                    {
                      "hovertemplate": "GroundTruthState<br>(%{x}, %{y})<br>Time: %{meta}",
                      "meta": [
                        "2024-11-01 11:46:36",
                        "2024-11-01 11:46:37",
                        "2024-11-01 11:46:38",
                        "2024-11-01 11:46:39",
                        "2024-11-01 11:46:40",
                        "2024-11-01 11:46:41",
                        "2024-11-01 11:46:42"
                      ],
                      "type": "scatter",
                      "x": [
                        12.710258644131923,
                        13.638632472379063,
                        14.577522670536728,
                        15.576552678974165,
                        16.60904495187587,
                        17.68196897193471,
                        18.779309145022523,
                        null
                      ],
                      "y": [
                        16.866280896600955,
                        18.527460445589806,
                        20.266330812982275,
                        21.99562363004073,
                        23.74412133809568,
                        25.478975314072432,
                        27.205219735304418,
                        null
                      ]
                    },
                    {
                      "type": "scatter",
                      "x": [
                        null,
                        null
                      ],
                      "y": [
                        null,
                        null
                      ]
                    },
                    {
                      "hovertemplate": "Detection<br>(%{x}, %{y})<br>Time: %{meta}",
                      "meta": [
                        "2024-11-01 11:46:36",
                        "2024-11-01 11:46:37",
                        "2024-11-01 11:46:38",
                        "2024-11-01 11:46:39",
                        "2024-11-01 11:46:41",
                        "2024-11-01 11:46:42"
                      ],
                      "type": "scatter",
                      "x": [
                        12.189603182817091,
                        14.994536479334519,
                        13.541582429689747,
                        16.565876285380888,
                        18.96049694435057,
                        18.085024895926598,
                        null
                      ],
                      "y": [
                        17.394815111117204,
                        16.868609032746924,
                        20.477828949347035,
                        21.24775356259589,
                        24.49260238223579,
                        26.36350354523736,
                        null
                      ]
                    },
                    {
                      "hovertemplate": "Clutter<br>(%{x}, %{y})<br>Time: %{meta}",
                      "meta": [
                        "2024-11-01 11:46:36",
                        "2024-11-01 11:46:36",
                        "2024-11-01 11:46:36",
                        "2024-11-01 11:46:36",
                        "2024-11-01 11:46:36",
                        "2024-11-01 11:46:36",
                        "2024-11-01 11:46:36",
                        "2024-11-01 11:46:36",
                        "2024-11-01 11:46:36",
                        "2024-11-01 11:46:37",
                        "2024-11-01 11:46:37",
                        "2024-11-01 11:46:38",
                        "2024-11-01 11:46:38",
                        "2024-11-01 11:46:38",
                        "2024-11-01 11:46:38",
                        "2024-11-01 11:46:38",
                        "2024-11-01 11:46:38",
                        "2024-11-01 11:46:38",
                        "2024-11-01 11:46:38",
                        "2024-11-01 11:46:39",
                        "2024-11-01 11:46:39",
                        "2024-11-01 11:46:39",
                        "2024-11-01 11:46:39",
                        "2024-11-01 11:46:39",
                        "2024-11-01 11:46:39",
                        "2024-11-01 11:46:39",
                        "2024-11-01 11:46:39",
                        "2024-11-01 11:46:41",
                        "2024-11-01 11:46:41",
                        "2024-11-01 11:46:41",
                        "2024-11-01 11:46:41"
                      ],
                      "type": "scatter",
                      "x": [
                        22.333709494443085,
                        14.846910802713833,
                        8.987568682419717,
                        5.448786356817646,
                        15.209892208162575,
                        9.297590594091725,
                        22.41706025208678,
                        21.76486423135404,
                        9.17725536936278,
                        4.354665659774552,
                        13.452597457334498,
                        9.552498134889902,
                        12.44229922137789,
                        9.838834396934493,
                        12.272513468340984,
                        7.523213691499432,
                        16.896835533774627,
                        22.735722802841494,
                        16.885134174878583,
                        24.690118175323008,
                        24.897672999964918,
                        22.89613006495027,
                        13.323769460151583,
                        16.09667760658821,
                        10.563744991030877,
                        19.387958515561266,
                        20.623975302275255,
                        23.310024051956177,
                        11.842723597571926,
                        15.036739454411505,
                        12.033295792165084,
                        null
                      ],
                      "y": [
                        25.107275117022763,
                        12.070358067061147,
                        14.851943548218827,
                        22.828097532154004,
                        19.52447046363757,
                        12.109385665865076,
                        16.990765489984646,
                        8.734726224208623,
                        8.438510978584103,
                        16.278157689398846,
                        27.646310123460037,
                        18.75544730568103,
                        22.32421743986299,
                        26.91838456195311,
                        19.168177499008706,
                        29.047146073316664,
                        26.72895684118154,
                        24.78604429988824,
                        24.55196263505583,
                        28.923304747032283,
                        31.254668256798606,
                        15.822394842175502,
                        21.14497471390816,
                        19.0361726846686,
                        12.023570841032697,
                        14.599519288253935,
                        31.65416922096453,
                        21.319913817411727,
                        34.19991679850982,
                        25.77007464946659,
                        30.800636569563043,
                        null
                      ]
                    },
                    {
                      "type": "scatter",
                      "x": [
                        null,
                        null
                      ],
                      "y": [
                        null,
                        null
                      ]
                    },
                    {
                      "customdata": [
                        "2024-11-01 11:46:36",
                        "2024-11-01 11:46:37",
                        "2024-11-01 11:46:38",
                        "2024-11-01 11:46:39",
                        "2024-11-01 11:46:40",
                        "2024-11-01 11:46:41",
                        "2024-11-01 11:46:42"
                      ],
                      "hovertemplate": "%{meta}<br>(%{x}, %{y})<br>Time: %{customdata}",
                      "meta": [
                        "GaussianStateUpdate",
                        "GaussianStateUpdate",
                        "GaussianStateUpdate",
                        "GaussianStateUpdate",
                        "GaussianStateUpdate",
                        "GaussianStateUpdate",
                        "GaussianStateUpdate"
                      ],
                      "type": "scatter",
                      "x": [
                        12.742470663661049,
                        14.153744357989517,
                        14.52054283372957,
                        15.597503300692091,
                        16.55210000463719,
                        17.757441524569753,
                        18.361860907164452,
                        null
                      ],
                      "y": [
                        16.843294447230335,
                        17.709744886432,
                        19.485833201150843,
                        20.697941267410872,
                        22.035767914415892,
                        23.93641788088856,
                        25.833266803192796,
                        null
                      ]
                    },
                    {
                      "type": "scatter",
                      "x": [
                        null
                      ],
                      "y": [
                        null
                      ]
                    },
                    {
                      "type": "scatter",
                      "x": [
                        18.765304116124533,
                        18.95752744308887,
                        19.12749170484155,
                        19.268576575228316,
                        19.373967101019968,
                        19.436825229694442,
                        19.451181223324824,
                        19.41346437904872,
                        19.324195059821395,
                        19.188728869234684,
                        19.01627402436854,
                        18.81776028185764,
                        18.60386623752707,
                        18.384090776214375,
                        18.16656956145031,
                        17.95841769820437,
                        17.76617409089813,
                        17.5962296387321,
                        17.455144667125662,
                        17.349752259855485,
                        17.28689664823662,
                        17.272540569707715,
                        17.310257418809815,
                        17.399526725254923,
                        17.534992653601932,
                        17.70744748802065,
                        17.905967517047984,
                        18.119856580536215,
                        18.33963169903557,
                        18.557176072565287,
                        18.765304116124533,
                        null,
                        null
                      ],
                      "y": [
                        26.587969658308992,
                        26.466085175502755,
                        26.31800651738234,
                        26.14795251449693,
                        25.961131870100385,
                        25.76438084187752,
                        25.56657474470909,
                        25.378465203809093,
                        25.211473165283905,
                        25.07561739192822,
                        24.977675275946055,
                        24.920650932139555,
                        24.90450723382439,
                        24.92735886253434,
                        24.98642321809033,
                        25.0785639480766,
                        25.20046352865439,
                        25.348527569351866,
                        25.518581916890287,
                        25.705407294409447,
                        25.902152443880187,
                        26.099958496897095,
                        26.288068356394064,
                        26.45506040175227,
                        26.590915994117246,
                        26.688858205220196,
                        26.74588372163344,
                        26.762026355232344,
                        26.73917461923712,
                        26.680101911414976,
                        26.587969658308992,
                        null,
                        null
                      ]
                    },
                    {
                      "type": "scatter",
                      "x": [
                        null,
                        null
                      ],
                      "y": [
                        null,
                        null
                      ]
                    },
                    {
                      "customdata": [
                        "2024-11-01 11:46:36",
                        "2024-11-01 11:46:37",
                        "2024-11-01 11:46:38",
                        "2024-11-01 11:46:39",
                        "2024-11-01 11:46:40",
                        "2024-11-01 11:46:41",
                        "2024-11-01 11:46:42"
                      ],
                      "hovertemplate": "%{meta}<br>(%{x}, %{y})<br>Time: %{customdata}",
                      "meta": [
                        "GaussianStateUpdate",
                        "GaussianStateUpdate",
                        "GaussianStateUpdate",
                        "GaussianStateUpdate",
                        "GaussianStateUpdate",
                        "GaussianStateUpdate",
                        "GaussianStateUpdate"
                      ],
                      "type": "scatter",
                      "x": [
                        12.742470663661049,
                        14.153744357989517,
                        14.52054283372957,
                        15.597503300692091,
                        16.55210000463719,
                        17.757441524569753,
                        18.361860907164452,
                        null
                      ],
                      "y": [
                        16.843294447230335,
                        17.709744886432,
                        19.485833201150843,
                        20.697941267410872,
                        22.035767914415892,
                        23.93641788088856,
                        25.833266803192796,
                        null
                      ]
                    },
                    {
                      "type": "scatter",
                      "x": [
                        null
                      ],
                      "y": [
                        null
                      ]
                    },
                    {
                      "type": "scatter",
                      "x": [
                        18.765304116124533,
                        18.95752744308887,
                        19.12749170484155,
                        19.268576575228316,
                        19.373967101019968,
                        19.436825229694442,
                        19.451181223324824,
                        19.41346437904872,
                        19.324195059821395,
                        19.188728869234684,
                        19.01627402436854,
                        18.81776028185764,
                        18.60386623752707,
                        18.384090776214375,
                        18.16656956145031,
                        17.95841769820437,
                        17.76617409089813,
                        17.5962296387321,
                        17.455144667125662,
                        17.349752259855485,
                        17.28689664823662,
                        17.272540569707715,
                        17.310257418809815,
                        17.399526725254923,
                        17.534992653601932,
                        17.70744748802065,
                        17.905967517047984,
                        18.119856580536215,
                        18.33963169903557,
                        18.557176072565287,
                        18.765304116124533,
                        null,
                        null
                      ],
                      "y": [
                        26.587969658308992,
                        26.466085175502755,
                        26.31800651738234,
                        26.14795251449693,
                        25.961131870100385,
                        25.76438084187752,
                        25.56657474470909,
                        25.378465203809093,
                        25.211473165283905,
                        25.07561739192822,
                        24.977675275946055,
                        24.920650932139555,
                        24.90450723382439,
                        24.92735886253434,
                        24.98642321809033,
                        25.0785639480766,
                        25.20046352865439,
                        25.348527569351866,
                        25.518581916890287,
                        25.705407294409447,
                        25.902152443880187,
                        26.099958496897095,
                        26.288068356394064,
                        26.45506040175227,
                        26.590915994117246,
                        26.688858205220196,
                        26.74588372163344,
                        26.762026355232344,
                        26.73917461923712,
                        26.680101911414976,
                        26.587969658308992,
                        null,
                        null
                      ]
                    }
                  ],
                  "name": "2024-11-01 11:46:42",
                  "traces": [
                    0,
                    1,
                    2,
                    3,
                    4,
                    5,
                    6,
                    7,
                    8,
                    9,
                    10,
                    11,
                    12
                  ]
                },
                {
                  "data": [
                    {
                      "type": "scatter",
                      "x": [
                        0,
                        0
                      ],
                      "y": [
                        0,
                        0
                      ]
                    },
                    {
                      "hovertemplate": "GroundTruthState<br>(%{x}, %{y})<br>Time: %{meta}",
                      "meta": [
                        "2024-11-01 11:46:37",
                        "2024-11-01 11:46:38",
                        "2024-11-01 11:46:39",
                        "2024-11-01 11:46:40",
                        "2024-11-01 11:46:41",
                        "2024-11-01 11:46:42",
                        "2024-11-01 11:46:43"
                      ],
                      "type": "scatter",
                      "x": [
                        13.638632472379063,
                        14.577522670536728,
                        15.576552678974165,
                        16.60904495187587,
                        17.68196897193471,
                        18.779309145022523,
                        19.9113690605784,
                        null
                      ],
                      "y": [
                        18.527460445589806,
                        20.266330812982275,
                        21.99562363004073,
                        23.74412133809568,
                        25.478975314072432,
                        27.205219735304418,
                        28.875551645250404,
                        null
                      ]
                    },
                    {
                      "type": "scatter",
                      "x": [
                        null,
                        null
                      ],
                      "y": [
                        null,
                        null
                      ]
                    },
                    {
                      "hovertemplate": "Detection<br>(%{x}, %{y})<br>Time: %{meta}",
                      "meta": [
                        "2024-11-01 11:46:37",
                        "2024-11-01 11:46:38",
                        "2024-11-01 11:46:39",
                        "2024-11-01 11:46:41",
                        "2024-11-01 11:46:42"
                      ],
                      "type": "scatter",
                      "x": [
                        14.994536479334519,
                        13.541582429689747,
                        16.565876285380888,
                        18.96049694435057,
                        18.085024895926598,
                        null
                      ],
                      "y": [
                        16.868609032746924,
                        20.477828949347035,
                        21.24775356259589,
                        24.49260238223579,
                        26.36350354523736,
                        null
                      ]
                    },
                    {
                      "hovertemplate": "Clutter<br>(%{x}, %{y})<br>Time: %{meta}",
                      "meta": [
                        "2024-11-01 11:46:37",
                        "2024-11-01 11:46:37",
                        "2024-11-01 11:46:38",
                        "2024-11-01 11:46:38",
                        "2024-11-01 11:46:38",
                        "2024-11-01 11:46:38",
                        "2024-11-01 11:46:38",
                        "2024-11-01 11:46:38",
                        "2024-11-01 11:46:38",
                        "2024-11-01 11:46:38",
                        "2024-11-01 11:46:39",
                        "2024-11-01 11:46:39",
                        "2024-11-01 11:46:39",
                        "2024-11-01 11:46:39",
                        "2024-11-01 11:46:39",
                        "2024-11-01 11:46:39",
                        "2024-11-01 11:46:39",
                        "2024-11-01 11:46:39",
                        "2024-11-01 11:46:41",
                        "2024-11-01 11:46:41",
                        "2024-11-01 11:46:41",
                        "2024-11-01 11:46:41",
                        "2024-11-01 11:46:43",
                        "2024-11-01 11:46:43",
                        "2024-11-01 11:46:43",
                        "2024-11-01 11:46:43",
                        "2024-11-01 11:46:43"
                      ],
                      "type": "scatter",
                      "x": [
                        4.354665659774552,
                        13.452597457334498,
                        9.552498134889902,
                        12.44229922137789,
                        9.838834396934493,
                        12.272513468340984,
                        7.523213691499432,
                        16.896835533774627,
                        22.735722802841494,
                        16.885134174878583,
                        24.690118175323008,
                        24.897672999964918,
                        22.89613006495027,
                        13.323769460151583,
                        16.09667760658821,
                        10.563744991030877,
                        19.387958515561266,
                        20.623975302275255,
                        23.310024051956177,
                        11.842723597571926,
                        15.036739454411505,
                        12.033295792165084,
                        21.80600817531409,
                        23.59873315314899,
                        17.141953624940285,
                        22.562716144567485,
                        12.711479496812778,
                        null
                      ],
                      "y": [
                        16.278157689398846,
                        27.646310123460037,
                        18.75544730568103,
                        22.32421743986299,
                        26.91838456195311,
                        19.168177499008706,
                        29.047146073316664,
                        26.72895684118154,
                        24.78604429988824,
                        24.55196263505583,
                        28.923304747032283,
                        31.254668256798606,
                        15.822394842175502,
                        21.14497471390816,
                        19.0361726846686,
                        12.023570841032697,
                        14.599519288253935,
                        31.65416922096453,
                        21.319913817411727,
                        34.19991679850982,
                        25.77007464946659,
                        30.800636569563043,
                        37.09343363443742,
                        19.23225483219309,
                        38.78369983698228,
                        22.534031895720478,
                        27.112343078296853,
                        null
                      ]
                    },
                    {
                      "type": "scatter",
                      "x": [
                        null,
                        null
                      ],
                      "y": [
                        null,
                        null
                      ]
                    },
                    {
                      "customdata": [
                        "2024-11-01 11:46:37",
                        "2024-11-01 11:46:38",
                        "2024-11-01 11:46:39",
                        "2024-11-01 11:46:40",
                        "2024-11-01 11:46:41",
                        "2024-11-01 11:46:42",
                        "2024-11-01 11:46:43"
                      ],
                      "hovertemplate": "%{meta}<br>(%{x}, %{y})<br>Time: %{customdata}",
                      "meta": [
                        "GaussianStateUpdate",
                        "GaussianStateUpdate",
                        "GaussianStateUpdate",
                        "GaussianStateUpdate",
                        "GaussianStateUpdate",
                        "GaussianStateUpdate",
                        "GaussianStateUpdate"
                      ],
                      "type": "scatter",
                      "x": [
                        14.153744357989517,
                        14.52054283372957,
                        15.597503300692091,
                        16.55210000463719,
                        17.757441524569753,
                        18.361860907164452,
                        19.31195697069522,
                        null
                      ],
                      "y": [
                        17.709744886432,
                        19.485833201150843,
                        20.697941267410872,
                        22.035767914415892,
                        23.93641788088856,
                        25.833266803192796,
                        27.310678649352464,
                        null
                      ]
                    },
                    {
                      "type": "scatter",
                      "x": [
                        null
                      ],
                      "y": [
                        null
                      ]
                    },
                    {
                      "type": "scatter",
                      "x": [
                        19.77158678685065,
                        19.989723612854736,
                        20.181945214318663,
                        20.34075573473461,
                        20.45846836279706,
                        20.527677938252715,
                        20.542189962910506,
                        20.49854831337802,
                        20.397613380493034,
                        20.245197741734895,
                        20.051117277542772,
                        19.82718607476965,
                        19.58515501820844,
                        19.33587694767641,
                        19.088799386941922,
                        18.85232715453979,
                        18.634212727216802,
                        18.441968415008102,
                        18.283157836105488,
                        18.165435221478326,
                        18.096236045333647,
                        18.08172396287002,
                        18.12536561724608,
                        18.226300541975,
                        18.378716008542877,
                        18.57279645541138,
                        18.79675357316783,
                        19.03875957997114,
                        19.288037434371038,
                        19.53508817580722,
                        19.77158678685065,
                        null,
                        null
                      ],
                      "y": [
                        28.18245787512956,
                        28.04519533693387,
                        27.877398964981417,
                        27.684025728148384,
                        27.471324620468828,
                        27.247286481464666,
                        27.022004592180508,
                        26.807399450992147,
                        26.615956315651246,
                        26.45870007673543,
                        26.34339485039384,
                        26.273928684837006,
                        26.25087766685721,
                        26.272661561467057,
                        26.336472741323416,
                        26.438899423575368,
                        26.576145328898463,
                        26.743958654104087,
                        26.93733211283397,
                        27.15005674181564,
                        27.37407059351567,
                        27.599352464213887,
                        27.81395781740741,
                        28.005400957048447,
                        28.162657072189603,
                        28.277962356727794,
                        28.34743366353443,
                        28.370479632479004,
                        28.34869566076009,
                        28.2848936414692,
                        28.18245787512956,
                        null,
                        null
                      ]
                    },
                    {
                      "type": "scatter",
                      "x": [
                        null,
                        null
                      ],
                      "y": [
                        null,
                        null
                      ]
                    },
                    {
                      "customdata": [
                        "2024-11-01 11:46:37",
                        "2024-11-01 11:46:38",
                        "2024-11-01 11:46:39",
                        "2024-11-01 11:46:40",
                        "2024-11-01 11:46:41",
                        "2024-11-01 11:46:42",
                        "2024-11-01 11:46:43"
                      ],
                      "hovertemplate": "%{meta}<br>(%{x}, %{y})<br>Time: %{customdata}",
                      "meta": [
                        "GaussianStateUpdate",
                        "GaussianStateUpdate",
                        "GaussianStateUpdate",
                        "GaussianStateUpdate",
                        "GaussianStateUpdate",
                        "GaussianStateUpdate",
                        "GaussianStateUpdate"
                      ],
                      "type": "scatter",
                      "x": [
                        14.153744357989517,
                        14.52054283372957,
                        15.597503300692091,
                        16.55210000463719,
                        17.757441524569753,
                        18.361860907164452,
                        19.31195697069522,
                        null
                      ],
                      "y": [
                        17.709744886432,
                        19.485833201150843,
                        20.697941267410872,
                        22.035767914415892,
                        23.93641788088856,
                        25.833266803192796,
                        27.310678649352464,
                        null
                      ]
                    },
                    {
                      "type": "scatter",
                      "x": [
                        null
                      ],
                      "y": [
                        null
                      ]
                    },
                    {
                      "type": "scatter",
                      "x": [
                        19.77158678685065,
                        19.989723612854736,
                        20.181945214318663,
                        20.34075573473461,
                        20.45846836279706,
                        20.527677938252715,
                        20.542189962910506,
                        20.49854831337802,
                        20.397613380493034,
                        20.245197741734895,
                        20.051117277542772,
                        19.82718607476965,
                        19.58515501820844,
                        19.33587694767641,
                        19.088799386941922,
                        18.85232715453979,
                        18.634212727216802,
                        18.441968415008102,
                        18.283157836105488,
                        18.165435221478326,
                        18.096236045333647,
                        18.08172396287002,
                        18.12536561724608,
                        18.226300541975,
                        18.378716008542877,
                        18.57279645541138,
                        18.79675357316783,
                        19.03875957997114,
                        19.288037434371038,
                        19.53508817580722,
                        19.77158678685065,
                        null,
                        null
                      ],
                      "y": [
                        28.18245787512956,
                        28.04519533693387,
                        27.877398964981417,
                        27.684025728148384,
                        27.471324620468828,
                        27.247286481464666,
                        27.022004592180508,
                        26.807399450992147,
                        26.615956315651246,
                        26.45870007673543,
                        26.34339485039384,
                        26.273928684837006,
                        26.25087766685721,
                        26.272661561467057,
                        26.336472741323416,
                        26.438899423575368,
                        26.576145328898463,
                        26.743958654104087,
                        26.93733211283397,
                        27.15005674181564,
                        27.37407059351567,
                        27.599352464213887,
                        27.81395781740741,
                        28.005400957048447,
                        28.162657072189603,
                        28.277962356727794,
                        28.34743366353443,
                        28.370479632479004,
                        28.34869566076009,
                        28.2848936414692,
                        28.18245787512956,
                        null,
                        null
                      ]
                    }
                  ],
                  "name": "2024-11-01 11:46:43",
                  "traces": [
                    0,
                    1,
                    2,
                    3,
                    4,
                    5,
                    6,
                    7,
                    8,
                    9,
                    10,
                    11,
                    12
                  ]
                }
              ],
              "layout": {
                "autosize": true,
                "colorway": [
                  "#EF553B",
                  "#00CC96",
                  "#AB63FA",
                  "#FFA15A",
                  "#19D3F3",
                  "#FF6692",
                  "#B6E880",
                  "#FF97FF",
                  "#FECB52"
                ],
                "height": 550,
                "sliders": [
                  {
                    "currentvalue": {
                      "font": {
                        "size": 16
                      },
                      "prefix": "Time: ",
                      "visible": true,
                      "xanchor": "right"
                    },
                    "len": 0.9,
                    "pad": {
                      "b": 10,
                      "t": 50
                    },
                    "steps": [
                      {
                        "args": [
                          [
                            "2024-11-01 11:46:23"
                          ],
                          {
                            "frame": {
                              "duration": 1,
                              "easing": "linear",
                              "redraw": true
                            },
                            "transition": {
                              "duration": 0,
                              "easing": "linear"
                            }
                          }
                        ],
                        "label": "11:46:23",
                        "method": "animate"
                      },
                      {
                        "args": [
                          [
                            "2024-11-01 11:46:24"
                          ],
                          {
                            "frame": {
                              "duration": 1,
                              "easing": "linear",
                              "redraw": true
                            },
                            "transition": {
                              "duration": 0,
                              "easing": "linear"
                            }
                          }
                        ],
                        "label": "11:46:24",
                        "method": "animate"
                      },
                      {
                        "args": [
                          [
                            "2024-11-01 11:46:25"
                          ],
                          {
                            "frame": {
                              "duration": 1,
                              "easing": "linear",
                              "redraw": true
                            },
                            "transition": {
                              "duration": 0,
                              "easing": "linear"
                            }
                          }
                        ],
                        "label": "11:46:25",
                        "method": "animate"
                      },
                      {
                        "args": [
                          [
                            "2024-11-01 11:46:26"
                          ],
                          {
                            "frame": {
                              "duration": 1,
                              "easing": "linear",
                              "redraw": true
                            },
                            "transition": {
                              "duration": 0,
                              "easing": "linear"
                            }
                          }
                        ],
                        "label": "11:46:26",
                        "method": "animate"
                      },
                      {
                        "args": [
                          [
                            "2024-11-01 11:46:27"
                          ],
                          {
                            "frame": {
                              "duration": 1,
                              "easing": "linear",
                              "redraw": true
                            },
                            "transition": {
                              "duration": 0,
                              "easing": "linear"
                            }
                          }
                        ],
                        "label": "11:46:27",
                        "method": "animate"
                      },
                      {
                        "args": [
                          [
                            "2024-11-01 11:46:28"
                          ],
                          {
                            "frame": {
                              "duration": 1,
                              "easing": "linear",
                              "redraw": true
                            },
                            "transition": {
                              "duration": 0,
                              "easing": "linear"
                            }
                          }
                        ],
                        "label": "11:46:28",
                        "method": "animate"
                      },
                      {
                        "args": [
                          [
                            "2024-11-01 11:46:29"
                          ],
                          {
                            "frame": {
                              "duration": 1,
                              "easing": "linear",
                              "redraw": true
                            },
                            "transition": {
                              "duration": 0,
                              "easing": "linear"
                            }
                          }
                        ],
                        "label": "11:46:29",
                        "method": "animate"
                      },
                      {
                        "args": [
                          [
                            "2024-11-01 11:46:30"
                          ],
                          {
                            "frame": {
                              "duration": 1,
                              "easing": "linear",
                              "redraw": true
                            },
                            "transition": {
                              "duration": 0,
                              "easing": "linear"
                            }
                          }
                        ],
                        "label": "11:46:30",
                        "method": "animate"
                      },
                      {
                        "args": [
                          [
                            "2024-11-01 11:46:31"
                          ],
                          {
                            "frame": {
                              "duration": 1,
                              "easing": "linear",
                              "redraw": true
                            },
                            "transition": {
                              "duration": 0,
                              "easing": "linear"
                            }
                          }
                        ],
                        "label": "11:46:31",
                        "method": "animate"
                      },
                      {
                        "args": [
                          [
                            "2024-11-01 11:46:32"
                          ],
                          {
                            "frame": {
                              "duration": 1,
                              "easing": "linear",
                              "redraw": true
                            },
                            "transition": {
                              "duration": 0,
                              "easing": "linear"
                            }
                          }
                        ],
                        "label": "11:46:32",
                        "method": "animate"
                      },
                      {
                        "args": [
                          [
                            "2024-11-01 11:46:33"
                          ],
                          {
                            "frame": {
                              "duration": 1,
                              "easing": "linear",
                              "redraw": true
                            },
                            "transition": {
                              "duration": 0,
                              "easing": "linear"
                            }
                          }
                        ],
                        "label": "11:46:33",
                        "method": "animate"
                      },
                      {
                        "args": [
                          [
                            "2024-11-01 11:46:34"
                          ],
                          {
                            "frame": {
                              "duration": 1,
                              "easing": "linear",
                              "redraw": true
                            },
                            "transition": {
                              "duration": 0,
                              "easing": "linear"
                            }
                          }
                        ],
                        "label": "11:46:34",
                        "method": "animate"
                      },
                      {
                        "args": [
                          [
                            "2024-11-01 11:46:35"
                          ],
                          {
                            "frame": {
                              "duration": 1,
                              "easing": "linear",
                              "redraw": true
                            },
                            "transition": {
                              "duration": 0,
                              "easing": "linear"
                            }
                          }
                        ],
                        "label": "11:46:35",
                        "method": "animate"
                      },
                      {
                        "args": [
                          [
                            "2024-11-01 11:46:36"
                          ],
                          {
                            "frame": {
                              "duration": 1,
                              "easing": "linear",
                              "redraw": true
                            },
                            "transition": {
                              "duration": 0,
                              "easing": "linear"
                            }
                          }
                        ],
                        "label": "11:46:36",
                        "method": "animate"
                      },
                      {
                        "args": [
                          [
                            "2024-11-01 11:46:37"
                          ],
                          {
                            "frame": {
                              "duration": 1,
                              "easing": "linear",
                              "redraw": true
                            },
                            "transition": {
                              "duration": 0,
                              "easing": "linear"
                            }
                          }
                        ],
                        "label": "11:46:37",
                        "method": "animate"
                      },
                      {
                        "args": [
                          [
                            "2024-11-01 11:46:38"
                          ],
                          {
                            "frame": {
                              "duration": 1,
                              "easing": "linear",
                              "redraw": true
                            },
                            "transition": {
                              "duration": 0,
                              "easing": "linear"
                            }
                          }
                        ],
                        "label": "11:46:38",
                        "method": "animate"
                      },
                      {
                        "args": [
                          [
                            "2024-11-01 11:46:39"
                          ],
                          {
                            "frame": {
                              "duration": 1,
                              "easing": "linear",
                              "redraw": true
                            },
                            "transition": {
                              "duration": 0,
                              "easing": "linear"
                            }
                          }
                        ],
                        "label": "11:46:39",
                        "method": "animate"
                      },
                      {
                        "args": [
                          [
                            "2024-11-01 11:46:40"
                          ],
                          {
                            "frame": {
                              "duration": 1,
                              "easing": "linear",
                              "redraw": true
                            },
                            "transition": {
                              "duration": 0,
                              "easing": "linear"
                            }
                          }
                        ],
                        "label": "11:46:40",
                        "method": "animate"
                      },
                      {
                        "args": [
                          [
                            "2024-11-01 11:46:41"
                          ],
                          {
                            "frame": {
                              "duration": 1,
                              "easing": "linear",
                              "redraw": true
                            },
                            "transition": {
                              "duration": 0,
                              "easing": "linear"
                            }
                          }
                        ],
                        "label": "11:46:41",
                        "method": "animate"
                      },
                      {
                        "args": [
                          [
                            "2024-11-01 11:46:42"
                          ],
                          {
                            "frame": {
                              "duration": 1,
                              "easing": "linear",
                              "redraw": true
                            },
                            "transition": {
                              "duration": 0,
                              "easing": "linear"
                            }
                          }
                        ],
                        "label": "11:46:42",
                        "method": "animate"
                      },
                      {
                        "args": [
                          [
                            "2024-11-01 11:46:43"
                          ],
                          {
                            "frame": {
                              "duration": 1,
                              "easing": "linear",
                              "redraw": true
                            },
                            "transition": {
                              "duration": 0,
                              "easing": "linear"
                            }
                          }
                        ],
                        "label": "11:46:43",
                        "method": "animate"
                      }
                    ],
                    "transition": {
                      "duration": 285.7142857142857,
                      "easing": "linear"
                    },
                    "x": 0.1,
                    "xanchor": "left",
                    "y": 0,
                    "yanchor": "top"
                  }
                ],
                "template": {
                  "data": {
                    "bar": [
                      {
                        "error_x": {
                          "color": "#2a3f5f"
                        },
                        "error_y": {
                          "color": "#2a3f5f"
                        },
                        "marker": {
                          "line": {
                            "color": "#E5ECF6",
                            "width": 0.5
                          },
                          "pattern": {
                            "fillmode": "overlay",
                            "size": 10,
                            "solidity": 0.2
                          }
                        },
                        "type": "bar"
                      }
                    ],
                    "barpolar": [
                      {
                        "marker": {
                          "line": {
                            "color": "#E5ECF6",
                            "width": 0.5
                          },
                          "pattern": {
                            "fillmode": "overlay",
                            "size": 10,
                            "solidity": 0.2
                          }
                        },
                        "type": "barpolar"
                      }
                    ],
                    "carpet": [
                      {
                        "aaxis": {
                          "endlinecolor": "#2a3f5f",
                          "gridcolor": "white",
                          "linecolor": "white",
                          "minorgridcolor": "white",
                          "startlinecolor": "#2a3f5f"
                        },
                        "baxis": {
                          "endlinecolor": "#2a3f5f",
                          "gridcolor": "white",
                          "linecolor": "white",
                          "minorgridcolor": "white",
                          "startlinecolor": "#2a3f5f"
                        },
                        "type": "carpet"
                      }
                    ],
                    "choropleth": [
                      {
                        "colorbar": {
                          "outlinewidth": 0,
                          "ticks": ""
                        },
                        "type": "choropleth"
                      }
                    ],
                    "contour": [
                      {
                        "colorbar": {
                          "outlinewidth": 0,
                          "ticks": ""
                        },
                        "colorscale": [
                          [
                            0,
                            "#0d0887"
                          ],
                          [
                            0.1111111111111111,
                            "#46039f"
                          ],
                          [
                            0.2222222222222222,
                            "#7201a8"
                          ],
                          [
                            0.3333333333333333,
                            "#9c179e"
                          ],
                          [
                            0.4444444444444444,
                            "#bd3786"
                          ],
                          [
                            0.5555555555555556,
                            "#d8576b"
                          ],
                          [
                            0.6666666666666666,
                            "#ed7953"
                          ],
                          [
                            0.7777777777777778,
                            "#fb9f3a"
                          ],
                          [
                            0.8888888888888888,
                            "#fdca26"
                          ],
                          [
                            1,
                            "#f0f921"
                          ]
                        ],
                        "type": "contour"
                      }
                    ],
                    "contourcarpet": [
                      {
                        "colorbar": {
                          "outlinewidth": 0,
                          "ticks": ""
                        },
                        "type": "contourcarpet"
                      }
                    ],
                    "heatmap": [
                      {
                        "colorbar": {
                          "outlinewidth": 0,
                          "ticks": ""
                        },
                        "colorscale": [
                          [
                            0,
                            "#0d0887"
                          ],
                          [
                            0.1111111111111111,
                            "#46039f"
                          ],
                          [
                            0.2222222222222222,
                            "#7201a8"
                          ],
                          [
                            0.3333333333333333,
                            "#9c179e"
                          ],
                          [
                            0.4444444444444444,
                            "#bd3786"
                          ],
                          [
                            0.5555555555555556,
                            "#d8576b"
                          ],
                          [
                            0.6666666666666666,
                            "#ed7953"
                          ],
                          [
                            0.7777777777777778,
                            "#fb9f3a"
                          ],
                          [
                            0.8888888888888888,
                            "#fdca26"
                          ],
                          [
                            1,
                            "#f0f921"
                          ]
                        ],
                        "type": "heatmap"
                      }
                    ],
                    "heatmapgl": [
                      {
                        "colorbar": {
                          "outlinewidth": 0,
                          "ticks": ""
                        },
                        "colorscale": [
                          [
                            0,
                            "#0d0887"
                          ],
                          [
                            0.1111111111111111,
                            "#46039f"
                          ],
                          [
                            0.2222222222222222,
                            "#7201a8"
                          ],
                          [
                            0.3333333333333333,
                            "#9c179e"
                          ],
                          [
                            0.4444444444444444,
                            "#bd3786"
                          ],
                          [
                            0.5555555555555556,
                            "#d8576b"
                          ],
                          [
                            0.6666666666666666,
                            "#ed7953"
                          ],
                          [
                            0.7777777777777778,
                            "#fb9f3a"
                          ],
                          [
                            0.8888888888888888,
                            "#fdca26"
                          ],
                          [
                            1,
                            "#f0f921"
                          ]
                        ],
                        "type": "heatmapgl"
                      }
                    ],
                    "histogram": [
                      {
                        "marker": {
                          "pattern": {
                            "fillmode": "overlay",
                            "size": 10,
                            "solidity": 0.2
                          }
                        },
                        "type": "histogram"
                      }
                    ],
                    "histogram2d": [
                      {
                        "colorbar": {
                          "outlinewidth": 0,
                          "ticks": ""
                        },
                        "colorscale": [
                          [
                            0,
                            "#0d0887"
                          ],
                          [
                            0.1111111111111111,
                            "#46039f"
                          ],
                          [
                            0.2222222222222222,
                            "#7201a8"
                          ],
                          [
                            0.3333333333333333,
                            "#9c179e"
                          ],
                          [
                            0.4444444444444444,
                            "#bd3786"
                          ],
                          [
                            0.5555555555555556,
                            "#d8576b"
                          ],
                          [
                            0.6666666666666666,
                            "#ed7953"
                          ],
                          [
                            0.7777777777777778,
                            "#fb9f3a"
                          ],
                          [
                            0.8888888888888888,
                            "#fdca26"
                          ],
                          [
                            1,
                            "#f0f921"
                          ]
                        ],
                        "type": "histogram2d"
                      }
                    ],
                    "histogram2dcontour": [
                      {
                        "colorbar": {
                          "outlinewidth": 0,
                          "ticks": ""
                        },
                        "colorscale": [
                          [
                            0,
                            "#0d0887"
                          ],
                          [
                            0.1111111111111111,
                            "#46039f"
                          ],
                          [
                            0.2222222222222222,
                            "#7201a8"
                          ],
                          [
                            0.3333333333333333,
                            "#9c179e"
                          ],
                          [
                            0.4444444444444444,
                            "#bd3786"
                          ],
                          [
                            0.5555555555555556,
                            "#d8576b"
                          ],
                          [
                            0.6666666666666666,
                            "#ed7953"
                          ],
                          [
                            0.7777777777777778,
                            "#fb9f3a"
                          ],
                          [
                            0.8888888888888888,
                            "#fdca26"
                          ],
                          [
                            1,
                            "#f0f921"
                          ]
                        ],
                        "type": "histogram2dcontour"
                      }
                    ],
                    "mesh3d": [
                      {
                        "colorbar": {
                          "outlinewidth": 0,
                          "ticks": ""
                        },
                        "type": "mesh3d"
                      }
                    ],
                    "parcoords": [
                      {
                        "line": {
                          "colorbar": {
                            "outlinewidth": 0,
                            "ticks": ""
                          }
                        },
                        "type": "parcoords"
                      }
                    ],
                    "pie": [
                      {
                        "automargin": true,
                        "type": "pie"
                      }
                    ],
                    "scatter": [
                      {
                        "fillpattern": {
                          "fillmode": "overlay",
                          "size": 10,
                          "solidity": 0.2
                        },
                        "type": "scatter"
                      }
                    ],
                    "scatter3d": [
                      {
                        "line": {
                          "colorbar": {
                            "outlinewidth": 0,
                            "ticks": ""
                          }
                        },
                        "marker": {
                          "colorbar": {
                            "outlinewidth": 0,
                            "ticks": ""
                          }
                        },
                        "type": "scatter3d"
                      }
                    ],
                    "scattercarpet": [
                      {
                        "marker": {
                          "colorbar": {
                            "outlinewidth": 0,
                            "ticks": ""
                          }
                        },
                        "type": "scattercarpet"
                      }
                    ],
                    "scattergeo": [
                      {
                        "marker": {
                          "colorbar": {
                            "outlinewidth": 0,
                            "ticks": ""
                          }
                        },
                        "type": "scattergeo"
                      }
                    ],
                    "scattergl": [
                      {
                        "marker": {
                          "colorbar": {
                            "outlinewidth": 0,
                            "ticks": ""
                          }
                        },
                        "type": "scattergl"
                      }
                    ],
                    "scattermapbox": [
                      {
                        "marker": {
                          "colorbar": {
                            "outlinewidth": 0,
                            "ticks": ""
                          }
                        },
                        "type": "scattermapbox"
                      }
                    ],
                    "scatterpolar": [
                      {
                        "marker": {
                          "colorbar": {
                            "outlinewidth": 0,
                            "ticks": ""
                          }
                        },
                        "type": "scatterpolar"
                      }
                    ],
                    "scatterpolargl": [
                      {
                        "marker": {
                          "colorbar": {
                            "outlinewidth": 0,
                            "ticks": ""
                          }
                        },
                        "type": "scatterpolargl"
                      }
                    ],
                    "scatterternary": [
                      {
                        "marker": {
                          "colorbar": {
                            "outlinewidth": 0,
                            "ticks": ""
                          }
                        },
                        "type": "scatterternary"
                      }
                    ],
                    "surface": [
                      {
                        "colorbar": {
                          "outlinewidth": 0,
                          "ticks": ""
                        },
                        "colorscale": [
                          [
                            0,
                            "#0d0887"
                          ],
                          [
                            0.1111111111111111,
                            "#46039f"
                          ],
                          [
                            0.2222222222222222,
                            "#7201a8"
                          ],
                          [
                            0.3333333333333333,
                            "#9c179e"
                          ],
                          [
                            0.4444444444444444,
                            "#bd3786"
                          ],
                          [
                            0.5555555555555556,
                            "#d8576b"
                          ],
                          [
                            0.6666666666666666,
                            "#ed7953"
                          ],
                          [
                            0.7777777777777778,
                            "#fb9f3a"
                          ],
                          [
                            0.8888888888888888,
                            "#fdca26"
                          ],
                          [
                            1,
                            "#f0f921"
                          ]
                        ],
                        "type": "surface"
                      }
                    ],
                    "table": [
                      {
                        "cells": {
                          "fill": {
                            "color": "#EBF0F8"
                          },
                          "line": {
                            "color": "white"
                          }
                        },
                        "header": {
                          "fill": {
                            "color": "#C8D4E3"
                          },
                          "line": {
                            "color": "white"
                          }
                        },
                        "type": "table"
                      }
                    ]
                  },
                  "layout": {
                    "annotationdefaults": {
                      "arrowcolor": "#2a3f5f",
                      "arrowhead": 0,
                      "arrowwidth": 1
                    },
                    "autotypenumbers": "strict",
                    "coloraxis": {
                      "colorbar": {
                        "outlinewidth": 0,
                        "ticks": ""
                      }
                    },
                    "colorscale": {
                      "diverging": [
                        [
                          0,
                          "#8e0152"
                        ],
                        [
                          0.1,
                          "#c51b7d"
                        ],
                        [
                          0.2,
                          "#de77ae"
                        ],
                        [
                          0.3,
                          "#f1b6da"
                        ],
                        [
                          0.4,
                          "#fde0ef"
                        ],
                        [
                          0.5,
                          "#f7f7f7"
                        ],
                        [
                          0.6,
                          "#e6f5d0"
                        ],
                        [
                          0.7,
                          "#b8e186"
                        ],
                        [
                          0.8,
                          "#7fbc41"
                        ],
                        [
                          0.9,
                          "#4d9221"
                        ],
                        [
                          1,
                          "#276419"
                        ]
                      ],
                      "sequential": [
                        [
                          0,
                          "#0d0887"
                        ],
                        [
                          0.1111111111111111,
                          "#46039f"
                        ],
                        [
                          0.2222222222222222,
                          "#7201a8"
                        ],
                        [
                          0.3333333333333333,
                          "#9c179e"
                        ],
                        [
                          0.4444444444444444,
                          "#bd3786"
                        ],
                        [
                          0.5555555555555556,
                          "#d8576b"
                        ],
                        [
                          0.6666666666666666,
                          "#ed7953"
                        ],
                        [
                          0.7777777777777778,
                          "#fb9f3a"
                        ],
                        [
                          0.8888888888888888,
                          "#fdca26"
                        ],
                        [
                          1,
                          "#f0f921"
                        ]
                      ],
                      "sequentialminus": [
                        [
                          0,
                          "#0d0887"
                        ],
                        [
                          0.1111111111111111,
                          "#46039f"
                        ],
                        [
                          0.2222222222222222,
                          "#7201a8"
                        ],
                        [
                          0.3333333333333333,
                          "#9c179e"
                        ],
                        [
                          0.4444444444444444,
                          "#bd3786"
                        ],
                        [
                          0.5555555555555556,
                          "#d8576b"
                        ],
                        [
                          0.6666666666666666,
                          "#ed7953"
                        ],
                        [
                          0.7777777777777778,
                          "#fb9f3a"
                        ],
                        [
                          0.8888888888888888,
                          "#fdca26"
                        ],
                        [
                          1,
                          "#f0f921"
                        ]
                      ]
                    },
                    "colorway": [
                      "#636efa",
                      "#EF553B",
                      "#00cc96",
                      "#ab63fa",
                      "#FFA15A",
                      "#19d3f3",
                      "#FF6692",
                      "#B6E880",
                      "#FF97FF",
                      "#FECB52"
                    ],
                    "font": {
                      "color": "#2a3f5f"
                    },
                    "geo": {
                      "bgcolor": "white",
                      "lakecolor": "white",
                      "landcolor": "#E5ECF6",
                      "showlakes": true,
                      "showland": true,
                      "subunitcolor": "white"
                    },
                    "hoverlabel": {
                      "align": "left"
                    },
                    "hovermode": "closest",
                    "mapbox": {
                      "style": "light"
                    },
                    "paper_bgcolor": "white",
                    "plot_bgcolor": "#E5ECF6",
                    "polar": {
                      "angularaxis": {
                        "gridcolor": "white",
                        "linecolor": "white",
                        "ticks": ""
                      },
                      "bgcolor": "#E5ECF6",
                      "radialaxis": {
                        "gridcolor": "white",
                        "linecolor": "white",
                        "ticks": ""
                      }
                    },
                    "scene": {
                      "xaxis": {
                        "backgroundcolor": "#E5ECF6",
                        "gridcolor": "white",
                        "gridwidth": 2,
                        "linecolor": "white",
                        "showbackground": true,
                        "ticks": "",
                        "zerolinecolor": "white"
                      },
                      "yaxis": {
                        "backgroundcolor": "#E5ECF6",
                        "gridcolor": "white",
                        "gridwidth": 2,
                        "linecolor": "white",
                        "showbackground": true,
                        "ticks": "",
                        "zerolinecolor": "white"
                      },
                      "zaxis": {
                        "backgroundcolor": "#E5ECF6",
                        "gridcolor": "white",
                        "gridwidth": 2,
                        "linecolor": "white",
                        "showbackground": true,
                        "ticks": "",
                        "zerolinecolor": "white"
                      }
                    },
                    "shapedefaults": {
                      "line": {
                        "color": "#2a3f5f"
                      }
                    },
                    "ternary": {
                      "aaxis": {
                        "gridcolor": "white",
                        "linecolor": "white",
                        "ticks": ""
                      },
                      "baxis": {
                        "gridcolor": "white",
                        "linecolor": "white",
                        "ticks": ""
                      },
                      "bgcolor": "#E5ECF6",
                      "caxis": {
                        "gridcolor": "white",
                        "linecolor": "white",
                        "ticks": ""
                      }
                    },
                    "title": {
                      "x": 0.05
                    },
                    "xaxis": {
                      "automargin": true,
                      "gridcolor": "white",
                      "linecolor": "white",
                      "ticks": "",
                      "title": {
                        "standoff": 15
                      },
                      "zerolinecolor": "white",
                      "zerolinewidth": 2
                    },
                    "yaxis": {
                      "automargin": true,
                      "gridcolor": "white",
                      "linecolor": "white",
                      "ticks": "",
                      "title": {
                        "standoff": 15
                      },
                      "zerolinecolor": "white",
                      "zerolinewidth": 2
                    }
                  }
                },
                "updatemenus": [
                  {
                    "buttons": [
                      {
                        "args": [
                          null,
                          {
                            "frame": {
                              "duration": 285.7142857142857,
                              "redraw": true
                            },
                            "fromcurrent": true,
                            "transition": {
                              "duration": 0
                            }
                          }
                        ],
                        "label": "Play",
                        "method": "animate"
                      },
                      {
                        "args": [
                          [
                            null
                          ],
                          {
                            "frame": {
                              "duration": 0,
                              "redraw": true
                            },
                            "mode": "immediate",
                            "transition": {
                              "duration": 0
                            }
                          }
                        ],
                        "label": "Stop",
                        "method": "animate"
                      }
                    ],
                    "direction": "left",
                    "pad": {
                      "r": 10,
                      "t": 75
                    },
                    "showactive": true,
                    "type": "buttons",
                    "x": 0.1,
                    "xanchor": "right",
                    "y": 0,
                    "yanchor": "top"
                  }
                ],
                "xaxis": {
                  "range": [
                    -11.578497192437425,
                    26.634633485317412
                  ],
                  "title": {
                    "text": "<i>x</i>"
                  }
                },
                "yaxis": {
                  "range": [
                    -11.101646098291107,
                    41.159192500566725
                  ],
                  "title": {
                    "text": "<i>y</i>"
                  }
                }
              }
            }
          },
          "metadata": {},
          "output_type": "display_data"
        }
      ],
      "source": [
        "plotter.plot_tracks(track, [0, 2], uncertainty=True)\n",
        "plotter.fig"
      ]
    },
    {
      "cell_type": "markdown",
      "metadata": {},
      "source": [
        "## References\n",
        "1. Bar-Shalom Y, Daum F, Huang F 2009, The Probabilistic Data Association Filter, IEEE Control\n",
        "Systems Magazine\n",
        "\n"
      ]
    }
  ],
  "metadata": {
    "kernelspec": {
      "display_name": "asterix",
      "language": "python",
      "name": "python3"
    },
    "language_info": {
      "codemirror_mode": {
        "name": "ipython",
        "version": 3
      },
      "file_extension": ".py",
      "mimetype": "text/x-python",
      "name": "python",
      "nbconvert_exporter": "python",
      "pygments_lexer": "ipython3",
      "version": "3.8.18"
    }
  },
  "nbformat": 4,
  "nbformat_minor": 0
}
