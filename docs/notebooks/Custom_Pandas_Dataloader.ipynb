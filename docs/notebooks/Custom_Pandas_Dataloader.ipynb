{
  "cells": [
    {
      "cell_type": "markdown",
      "metadata": {},
      "source": [
        "\n",
        "# Use of Custom Readers that support Pandas DataFrames\n",
        "This is a demonstration of using customised readers that support data contained within Pandas DataFrames, rather than loading directly from a .csv file using `CSVGroundTruthReader` or `CSVDetectionReader`.\n",
        "\n",
        "The benefit is that this allows us to use the versatile data loading capabilities of pandas to read from many different data source types as needed, including .csv, JSON, XML, Parquet, HDF5, .txt, .zip and more. The resulting DataFrame can then simply be fed into the defined `DataFrameGroundTruthReader` or `DataFrameDetectionReader` for further processing in Stone Soup as required.\n"
      ]
    },
    {
      "cell_type": "markdown",
      "metadata": {},
      "source": [
        "The main dependencies and imports for this example are included below:\n",
        "\n"
      ]
    },
    {
      "cell_type": "code",
      "execution_count": 1,
      "metadata": {
        "collapsed": false
      },
      "outputs": [],
      "source": [
        "import numpy as np\n",
        "import pandas as pd\n",
        "\n",
        "from math import modf\n",
        "\n",
        "from stonesoup.base import Property\n",
        "from stonesoup.buffered_generator import BufferedGenerator\n",
        "from stonesoup.reader.base import GroundTruthReader, DetectionReader, Reader\n",
        "from stonesoup.types.detection import Detection\n",
        "from stonesoup.types.groundtruth import GroundTruthPath, GroundTruthState\n",
        "\n",
        "from typing import Sequence, Collection\n",
        "\n",
        "from datetime import datetime, timedelta, timezone\n",
        "from dateutil.parser import parse"
      ]
    },
    {
      "cell_type": "markdown",
      "metadata": {},
      "source": [
        "### Data Frame Reader\n",
        "Similarly to Stone Soup's :class:`_CSVFrameReader`, we'll define a `_DataFrameReader` class that inherits from the base :class:`~.Reader` class to read a DataFrame containing state vector fields, a time field, and additional metadata fields (all other columns by default). The only difference between this class and the :class:`~._CSVFrameReader` class is that we have no path attribute (the DataFrame is already loaded in memory)."
      ]
    },
    {
      "cell_type": "code",
      "execution_count": 2,
      "metadata": {
        "collapsed": false
      },
      "outputs": [],
      "source": [
        "class _DataFrameReader(Reader):\n",
        "    state_vector_fields: Sequence[str] = Property(\n",
        "        doc='List of columns names to be used in state vector')\n",
        "    time_field: str = Property(\n",
        "        doc='Name of column to be used as time field')\n",
        "    time_field_format: str = Property(\n",
        "        default=None, doc='Optional datetime format')\n",
        "    timestamp: bool = Property(\n",
        "        default=False, doc='Treat time field as a timestamp from epoch')\n",
        "    metadata_fields: Collection[str] = Property(\n",
        "        default=None, doc='List of columns to be saved as metadata, default all')\n",
        "\n",
        "    def _get_metadata(self, row):\n",
        "        if self.metadata_fields is None:\n",
        "            local_metadata = dict(row)\n",
        "            for key in list(local_metadata):\n",
        "                if key == self.time_field or key in self.state_vector_fields:\n",
        "                    del local_metadata[key]\n",
        "        else:\n",
        "            local_metadata = {field: row[field]\n",
        "                              for field in self.metadata_fields\n",
        "                              if field in row}\n",
        "        return local_metadata\n",
        "\n",
        "    def _get_time(self, row):\n",
        "        if self.time_field_format is not None:\n",
        "            time_field_value = datetime.strptime(row[self.time_field], self.time_field_format)\n",
        "        elif self.timestamp:\n",
        "            fractional, timestamp = modf(float(row[self.time_field]))\n",
        "            time_field_value = datetime.fromtimestamp(\n",
        "                int(timestamp), timezone.utc).replace(tzinfo=None)\n",
        "            time_field_value += timedelta(microseconds=fractional * 1E6)\n",
        "        else:\n",
        "            time_field_value = row[self.time_field]\n",
        "\n",
        "            if not isinstance(time_field_value, datetime):\n",
        "                time_field_value = parse(time_field_value, ignoretz=True)\n",
        "\n",
        "        return time_field_value"
      ]
    },
    {
      "cell_type": "markdown",
      "metadata": {},
      "source": [
        "### Data Ground Truth Reader\n",
        "With the help of our `_DataFrameReader` class, we can now define a custom `DataFrameGroundTruthReader`. This is similar to :class:`~.CSVGroundTruthReader` and inherits from the base `GroundTruthReader` class. A key difference is that we include an instance attribute for the dataframe containing our data.\n",
        "\n",
        "We also define a custom generator function (groundtruth_paths_gen) that uses the decorator `@BufferedGenerator.generator_method`. The generator needs to return a time and a set of detections, like so:"
      ]
    },
    {
      "cell_type": "code",
      "execution_count": 3,
      "metadata": {
        "collapsed": false
      },
      "outputs": [],
      "source": [
        "class DataFrameGroundTruthReader(GroundTruthReader, _DataFrameReader):\n",
        "    \"\"\"A custom reader for pandas DataFrames containing truth data.\n",
        "\n",
        "    The DataFrame must have columns containing all fields needed to generate the\n",
        "    ground truth state. Those states with the same ID will be put into\n",
        "    a :class:`~.GroundTruthPath` in sequence, and all paths that are updated at the same time\n",
        "    are yielded together, and such assumes file is in time order.\n",
        "\n",
        "    Parameters\n",
        "    ----------\n",
        "    \"\"\"\n",
        "    dataframe: pd.DataFrame = Property(doc=\"DataFrame containing the ground truth data.\")\n",
        "    path_id_field: str = Property(doc='Name of column to be used as path ID')\n",
        "\n",
        "    @BufferedGenerator.generator_method\n",
        "    def groundtruth_paths_gen(self):\n",
        "        \"\"\" Generator method for providing each row of ground truth data. \"\"\"\n",
        "        groundtruth_dict = {}\n",
        "        updated_paths = set()\n",
        "        previous_time = None\n",
        "        for row in self.dataframe.to_dict(orient=\"records\"):\n",
        "\n",
        "            time = self._get_time(row)\n",
        "            if previous_time is not None and previous_time != time:\n",
        "                yield previous_time, updated_paths\n",
        "                updated_paths = set()\n",
        "            previous_time = time\n",
        "\n",
        "            state = GroundTruthState(np.array([[row[col_name]] for col_name\n",
        "                                              in self.state_vector_fields],\n",
        "                                              dtype=np.float64),\n",
        "                                     timestamp=time,\n",
        "                                     metadata=self._get_metadata(row))\n",
        "\n",
        "            id_ = row[self.path_id_field]\n",
        "            if id_ not in groundtruth_dict:\n",
        "                groundtruth_dict[id_] = GroundTruthPath(id=id_)\n",
        "            groundtruth_path = groundtruth_dict[id_]\n",
        "            groundtruth_path.append(state)\n",
        "            updated_paths.add(groundtruth_path)\n",
        "\n",
        "            # Yield remaining\n",
        "        yield previous_time, updated_paths"
      ]
    },
    {
      "cell_type": "markdown",
      "metadata": {},
      "source": [
        "With our `DataFrameGroundTruthReader` defined, we can test it on a simple example. Let's\n",
        "do a basic 3D simulation to create an example dataframe, from which we can test our class:\n",
        "\n"
      ]
    },
    {
      "cell_type": "code",
      "execution_count": 4,
      "metadata": {
        "collapsed": false
      },
      "outputs": [
        {
          "data": {
            "text/html": [
              "<div>\n",
              "<style scoped>\n",
              "    .dataframe tbody tr th:only-of-type {\n",
              "        vertical-align: middle;\n",
              "    }\n",
              "\n",
              "    .dataframe tbody tr th {\n",
              "        vertical-align: top;\n",
              "    }\n",
              "\n",
              "    .dataframe thead th {\n",
              "        text-align: right;\n",
              "    }\n",
              "</style>\n",
              "<table border=\"1\" class=\"dataframe\">\n",
              "  <thead>\n",
              "    <tr style=\"text-align: right;\">\n",
              "      <th></th>\n",
              "      <th>time</th>\n",
              "      <th>x</th>\n",
              "      <th>y</th>\n",
              "      <th>z</th>\n",
              "      <th>vel_x</th>\n",
              "      <th>vel_y</th>\n",
              "      <th>vel_z</th>\n",
              "      <th>track_id</th>\n",
              "    </tr>\n",
              "  </thead>\n",
              "  <tbody>\n",
              "    <tr>\n",
              "      <th>0</th>\n",
              "      <td>2024-09-27 12:34:44.634775</td>\n",
              "      <td>1.064525</td>\n",
              "      <td>0.947090</td>\n",
              "      <td>0.804920</td>\n",
              "      <td>1.099636</td>\n",
              "      <td>0.889091</td>\n",
              "      <td>0.711385</td>\n",
              "      <td>0</td>\n",
              "    </tr>\n",
              "    <tr>\n",
              "      <th>1</th>\n",
              "      <td>2024-09-27 12:34:45.634775</td>\n",
              "      <td>2.020132</td>\n",
              "      <td>1.842180</td>\n",
              "      <td>1.560851</td>\n",
              "      <td>0.884217</td>\n",
              "      <td>0.926104</td>\n",
              "      <td>0.789083</td>\n",
              "      <td>0</td>\n",
              "    </tr>\n",
              "    <tr>\n",
              "      <th>2</th>\n",
              "      <td>2024-09-27 12:34:46.634775</td>\n",
              "      <td>2.887496</td>\n",
              "      <td>2.696619</td>\n",
              "      <td>2.070879</td>\n",
              "      <td>0.924071</td>\n",
              "      <td>0.870633</td>\n",
              "      <td>0.435136</td>\n",
              "      <td>0</td>\n",
              "    </tr>\n",
              "    <tr>\n",
              "      <th>3</th>\n",
              "      <td>2024-09-27 12:34:47.634775</td>\n",
              "      <td>3.866425</td>\n",
              "      <td>3.555163</td>\n",
              "      <td>2.548159</td>\n",
              "      <td>0.989453</td>\n",
              "      <td>0.730772</td>\n",
              "      <td>0.415171</td>\n",
              "      <td>0</td>\n",
              "    </tr>\n",
              "    <tr>\n",
              "      <th>4</th>\n",
              "      <td>2024-09-27 12:34:48.634775</td>\n",
              "      <td>4.809993</td>\n",
              "      <td>4.062078</td>\n",
              "      <td>2.821550</td>\n",
              "      <td>1.014899</td>\n",
              "      <td>0.321447</td>\n",
              "      <td>0.263039</td>\n",
              "      <td>0</td>\n",
              "    </tr>\n",
              "  </tbody>\n",
              "</table>\n",
              "</div>"
            ],
            "text/plain": [
              "                        time         x         y         z     vel_x  \\\n",
              "0 2024-09-27 12:34:44.634775  1.064525  0.947090  0.804920  1.099636   \n",
              "1 2024-09-27 12:34:45.634775  2.020132  1.842180  1.560851  0.884217   \n",
              "2 2024-09-27 12:34:46.634775  2.887496  2.696619  2.070879  0.924071   \n",
              "3 2024-09-27 12:34:47.634775  3.866425  3.555163  2.548159  0.989453   \n",
              "4 2024-09-27 12:34:48.634775  4.809993  4.062078  2.821550  1.014899   \n",
              "\n",
              "      vel_y     vel_z  track_id  \n",
              "0  0.889091  0.711385         0  \n",
              "1  0.926104  0.789083         0  \n",
              "2  0.870633  0.435136         0  \n",
              "3  0.730772  0.415171         0  \n",
              "4  0.321447  0.263039         0  "
            ]
          },
          "execution_count": 4,
          "metadata": {},
          "output_type": "execute_result"
        }
      ],
      "source": [
        "from stonesoup.models.transition.linear import CombinedLinearGaussianTransitionModel, \\\n",
        "                                               ConstantVelocity\n",
        "\n",
        "q_x = 0.05\n",
        "q_y = 0.05\n",
        "q_z = 0.05\n",
        "start_time = datetime.now()\n",
        "transition_model = CombinedLinearGaussianTransitionModel([ConstantVelocity(q_x),\n",
        "                                                          ConstantVelocity(q_y),\n",
        "                                                          ConstantVelocity(q_z)])\n",
        "truth = GroundTruthPath([GroundTruthState([0, 1, 0, 1, 0, 1], timestamp=start_time)])\n",
        "\n",
        "times = []\n",
        "x, y, z = [], [], []\n",
        "vel_x, vel_y, vel_z = [], [], []\n",
        "\n",
        "num_steps = 25\n",
        "for k in range(1, num_steps + 1):\n",
        "\n",
        "    time = start_time+timedelta(seconds=k)\n",
        "\n",
        "    next_state = GroundTruthState(\n",
        "        transition_model.function(truth[k-1], noise=True,\n",
        "                                  time_interval=timedelta(seconds=1)),\n",
        "        timestamp=time)\n",
        "    truth.append(next_state)\n",
        "\n",
        "    times.append(time)\n",
        "    x.append(next_state.state_vector[0])\n",
        "    vel_x.append(next_state.state_vector[1])\n",
        "    y.append(next_state.state_vector[2])\n",
        "    vel_y.append(next_state.state_vector[3])\n",
        "    z.append(next_state.state_vector[4])\n",
        "    vel_z.append(next_state.state_vector[5])\n",
        "\n",
        "truth_df = pd.DataFrame({'time': times,\n",
        "                         'x': x,\n",
        "                         'y': y,\n",
        "                         'z': z,\n",
        "                         'vel_x': vel_x,\n",
        "                         'vel_y': vel_y,\n",
        "                         'vel_z': vel_z,\n",
        "                         'track_id': 0})\n",
        "\n",
        "truth_df.head(5)"
      ]
    },
    {
      "cell_type": "markdown",
      "metadata": {},
      "source": [
        "Note that the process above is just an example for providing a simple dataframe to use,\n",
        "and is not generally something we would need to do (since we already have the GroundTruthPath).\n",
        "The dataframe above is just used to show the workings of our newly defined\n",
        "`DataFrameGroundTruthReader`. In practice, we can use any dataframe containing\n",
        "our Cartesian positions or longitude and latitude co-ordinates. Note that if we\n",
        "are using longitude and latitude inputs, we would also need to transform these\n",
        "using :class:`~.LongLatToUTMConverter` or equivalent.\n",
        "\n",
        "We can now initialise our DataFrameGroundTruthReader using this example DataFrame like so:\n",
        "\n"
      ]
    },
    {
      "cell_type": "code",
      "execution_count": 5,
      "metadata": {
        "collapsed": false
      },
      "outputs": [],
      "source": [
        "# read ground truth data from pandas dataframe\n",
        "ground_truth_reader = DataFrameGroundTruthReader(\n",
        "    dataframe=truth_df,\n",
        "    state_vector_fields=['x', 'vel_x', 'y', 'vel_y', 'z', 'vel_z'],\n",
        "    time_field='time',\n",
        "    path_id_field='track_id')"
      ]
    },
    {
      "cell_type": "markdown",
      "metadata": {},
      "source": [
        "Let's demonstrate the ground truth reader generating output for one iteration:\n",
        "\n"
      ]
    },
    {
      "cell_type": "code",
      "execution_count": 6,
      "metadata": {
        "collapsed": false
      },
      "outputs": [
        {
          "data": {
            "text/plain": [
              "(Timestamp('2024-09-27 12:34:44.634775'),\n",
              " {GroundTruthPath(\n",
              "      states=[GroundTruthState(\n",
              "                 state_vector=StateVector([[1.06452521],\n",
              "                                           [1.09963638],\n",
              "                                           [0.94709002],\n",
              "                                           [0.88909138],\n",
              "                                           [0.80491993],\n",
              "                                           [0.71138505]]),\n",
              "                 timestamp=2024-09-27 12:34:44.634775,\n",
              "                 metadata={'track_id': 0})],\n",
              "      id=0)})"
            ]
          },
          "execution_count": 6,
          "metadata": {},
          "output_type": "execute_result"
        }
      ],
      "source": [
        "next(iter(ground_truth_reader))"
      ]
    },
    {
      "cell_type": "markdown",
      "metadata": {},
      "source": [
        "Another benefit of this ground truth reader is that we now have convenient access to the original\n",
        "dataframe, using the .dataframe attribute, like so:\n",
        "\n"
      ]
    },
    {
      "cell_type": "code",
      "execution_count": 7,
      "metadata": {
        "collapsed": false
      },
      "outputs": [
        {
          "data": {
            "text/html": [
              "<div>\n",
              "<style scoped>\n",
              "    .dataframe tbody tr th:only-of-type {\n",
              "        vertical-align: middle;\n",
              "    }\n",
              "\n",
              "    .dataframe tbody tr th {\n",
              "        vertical-align: top;\n",
              "    }\n",
              "\n",
              "    .dataframe thead th {\n",
              "        text-align: right;\n",
              "    }\n",
              "</style>\n",
              "<table border=\"1\" class=\"dataframe\">\n",
              "  <thead>\n",
              "    <tr style=\"text-align: right;\">\n",
              "      <th></th>\n",
              "      <th>time</th>\n",
              "      <th>x</th>\n",
              "      <th>y</th>\n",
              "      <th>z</th>\n",
              "      <th>vel_x</th>\n",
              "      <th>vel_y</th>\n",
              "      <th>vel_z</th>\n",
              "      <th>track_id</th>\n",
              "    </tr>\n",
              "  </thead>\n",
              "  <tbody>\n",
              "    <tr>\n",
              "      <th>0</th>\n",
              "      <td>2024-09-27 12:34:44.634775</td>\n",
              "      <td>1.064525</td>\n",
              "      <td>0.947090</td>\n",
              "      <td>0.804920</td>\n",
              "      <td>1.099636</td>\n",
              "      <td>0.889091</td>\n",
              "      <td>0.711385</td>\n",
              "      <td>0</td>\n",
              "    </tr>\n",
              "    <tr>\n",
              "      <th>1</th>\n",
              "      <td>2024-09-27 12:34:45.634775</td>\n",
              "      <td>2.020132</td>\n",
              "      <td>1.842180</td>\n",
              "      <td>1.560851</td>\n",
              "      <td>0.884217</td>\n",
              "      <td>0.926104</td>\n",
              "      <td>0.789083</td>\n",
              "      <td>0</td>\n",
              "    </tr>\n",
              "    <tr>\n",
              "      <th>2</th>\n",
              "      <td>2024-09-27 12:34:46.634775</td>\n",
              "      <td>2.887496</td>\n",
              "      <td>2.696619</td>\n",
              "      <td>2.070879</td>\n",
              "      <td>0.924071</td>\n",
              "      <td>0.870633</td>\n",
              "      <td>0.435136</td>\n",
              "      <td>0</td>\n",
              "    </tr>\n",
              "  </tbody>\n",
              "</table>\n",
              "</div>"
            ],
            "text/plain": [
              "                        time         x         y         z     vel_x  \\\n",
              "0 2024-09-27 12:34:44.634775  1.064525  0.947090  0.804920  1.099636   \n",
              "1 2024-09-27 12:34:45.634775  2.020132  1.842180  1.560851  0.884217   \n",
              "2 2024-09-27 12:34:46.634775  2.887496  2.696619  2.070879  0.924071   \n",
              "\n",
              "      vel_y     vel_z  track_id  \n",
              "0  0.889091  0.711385         0  \n",
              "1  0.926104  0.789083         0  \n",
              "2  0.870633  0.435136         0  "
            ]
          },
          "execution_count": 7,
          "metadata": {},
          "output_type": "execute_result"
        }
      ],
      "source": [
        "ground_truth_reader.dataframe.head(3)"
      ]
    },
    {
      "cell_type": "markdown",
      "metadata": {},
      "source": [
        "### DataFrame Detection Reader\n",
        "Similarly to our `DataFrameGroundTruthReader`, we can develop a custom `DataFrameDetectionReader`\n",
        "that can read in DataFrames containing detections through subclassing from Stone Soup's\n",
        "`DetectionReader` class, along with our custom `_DataFrameReader` class above.\n",
        "Again, this closely resembles the existing `CSVDetectionReader` class within the Stone Soup\n",
        "library, except we include an instance attribute 'dataframe', and modify our detections_gen\n",
        "function to work with dataframes rather than .csv files. This can be seen below:\n",
        "\n"
      ]
    },
    {
      "cell_type": "code",
      "execution_count": 8,
      "metadata": {
        "collapsed": false
      },
      "outputs": [],
      "source": [
        "class DataFrameDetectionReader(DetectionReader, _DataFrameReader):\n",
        "    \"\"\"A custom detection reader for DataFrames containing detections.\n",
        "\n",
        "    DataFrame must have headers with the appropriate fields needed to generate\n",
        "    the detection. Detections at the same time are yielded together, and such assume file is in\n",
        "    time order.\n",
        "\n",
        "    Parameters\n",
        "    ----------\n",
        "    \"\"\"\n",
        "    dataframe: pd.DataFrame = Property(doc=\"DataFrame containing the detection data.\")\n",
        "\n",
        "    @BufferedGenerator.generator_method\n",
        "    def detections_gen(self):\n",
        "        detections = set()\n",
        "        previous_time = None\n",
        "        for row in self.dataframe.to_dict(orient=\"records\"):\n",
        "\n",
        "            time = self._get_time(row)\n",
        "            if previous_time is not None and previous_time != time:\n",
        "                yield previous_time, detections\n",
        "                detections = set()\n",
        "            previous_time = time\n",
        "\n",
        "            detections.add(Detection(\n",
        "                np.array([[row[col_name]] for col_name in self.state_vector_fields],\n",
        "                         dtype=np.float64),\n",
        "                timestamp=time,\n",
        "                metadata=self._get_metadata(row)))\n",
        "\n",
        "        # Yield remaining\n",
        "        yield previous_time, detections"
      ]
    },
    {
      "cell_type": "markdown",
      "metadata": {},
      "source": [
        "We can instantiate this using our example DataFrame above like so:\n",
        "\n"
      ]
    },
    {
      "cell_type": "code",
      "execution_count": 9,
      "metadata": {
        "collapsed": false
      },
      "outputs": [],
      "source": [
        "detection_reader = DataFrameDetectionReader(\n",
        "    dataframe=truth_df,\n",
        "    state_vector_fields=['x', 'vel_x', 'y', 'vel_y', 'z', 'vel_z'],\n",
        "    time_field='time')"
      ]
    },
    {
      "cell_type": "markdown",
      "metadata": {},
      "source": [
        "Following this, we can now perform any desired follow-up task such as simulation or tracking\n",
        "as covered in the other Stone Soup examples, tutorials and demonstrations. As discussed\n",
        "previously, the huge benefits of using a custom DataFrame reader like this is that we can\n",
        "read any type of data supported by the pandas library, which gives us a huge range of\n",
        "options. This strategy also saves us the overhead of manually specifying custom Stone\n",
        "Soup Reader classes for each format of data.\n",
        "\n"
      ]
    },
    {
      "cell_type": "code",
      "execution_count": 10,
      "metadata": {},
      "outputs": [
        {
          "data": {
            "text/plain": [
              "DataFrameDetectionReader(\n",
              "    state_vector_fields=['x',\n",
              "                         'vel_x',\n",
              "                         'y',\n",
              "                         'vel_y',\n",
              "                         'z',\n",
              "                         'vel_z'],\n",
              "    time_field=time,\n",
              "    dataframe=                         time          x         y          z     vel_x  \\\n",
              "              0  2024-09-27 12:34:44.634775   1.064525  0.947090   0.804920  1.099636   \n",
              "              1  2024-09-27 12:34:45.634775   2.020132  1.842180   1.560851  0.884217   \n",
              "              2  2024-09-27 12:34:46.634775   2.887496  2.696619   2.070879  0.924071   \n",
              "              3  2024-09-27 12:34:47.634775   3.866425  3.555163   2.548159  0.989453   \n",
              "              4  2024-09-27 12:34:48.634775   4.809993  4.062078   2.821550  1.014899   \n",
              "              5  2024-09-27 12:34:49.634775   5.617308  4.311717   2.882595  0.610558   \n",
              "              6  2024-09-27 12:34:50.634775   5.958821  4.692973   3.162891  0.257427   \n",
              "              7  2024-09-27 12:34:51.634775   6.326148  5.285680   3.545914  0.433561   \n",
              "              8  2024-09-27 12:34:52.634775   6.917520  5.565288   4.209122  0.605308   \n",
              "              9  2024-09-27 12:34:53.634775   7.644080  5.827574   4.932936  0.687060   \n",
              "              10 2024-09-27 12:34:54.634775   8.367783  5.588842   5.865033  0.715823   \n",
              "              11 2024-09-27 12:34:55.634775   9.007986  5.046347   7.037387  0.788716   \n",
              "              12 2024-09-27 12:34:56.634775   9.870426  4.563174   8.406170  1.040946   \n",
              "              13 2024-09-27 12:34:57.634775  10.973603  4.084472   9.590946  1.113008   \n",
              "              14 2024-09-27 12:34:58.634775  12.283393  3.493419  10.457159  1.432217   \n",
              "              15 2024-09-27 12:34:59.634775  13.605177  2.781718  11.245973  1.195280   \n",
              "              16 2024-09-27 12:35:00.634775  14.996147  2.236898  12.070865  1.453766   \n",
              "              17 2024-09-27 12:35:01.634775  16.393956  1.650390  12.745790  1.174110   \n",
              "              18 2024-09-27 12:35:02.634775  17.492465  1.207725  13.758356  1.162884   \n",
              "              19 2024-09-27 12:35:03.634775  18.653691  0.722200  14.933811  1.034096   \n",
              "              20 2024-09-27 12:35:04.634775  19.757364  0.098661  16.230128  1.270648   \n",
              "              21 2024-09-27 12:35:05.634775  21.174809 -0.566133  17.691507  1.476886   \n",
              "              22 2024-09-27 12:35:06.634775  22.206154 -1.480706  18.910098  0.604788   \n",
              "              23 2024-09-27 12:35:07.634775  22.994381 -2.528172  19.877208  0.890043   \n",
              "              24 2024-09-27 12:35:08.634775  23.967907 -3.867994  20.713599  1.179612   \n",
              "              \n",
              "                     vel_y     vel_z  track_id  \n",
              "              0   0.889091  0.711385         0  \n",
              "              1   0.926104  0.789083         0  \n",
              "              2   0.870633  0.435136         0  \n",
              "              3   0.730772  0.415171         0  \n",
              "              4   0.321447  0.263039         0  \n",
              "              5   0.343144  0.190854         0  \n",
              "              6   0.479627  0.226604         0  \n",
              "              7   0.405294  0.562193         0  \n",
              "              8   0.453749  0.682637         0  \n",
              "              9   0.069548  0.842298         0  \n",
              "              10 -0.564045  0.997795         0  \n",
              "              11 -0.476447  1.435134         0  \n",
              "              12 -0.456896  1.310262         0  \n",
              "              13 -0.507972  0.979503         0  \n",
              "              14 -0.708436  0.792014         0  \n",
              "              15 -0.717130  0.826476         0  \n",
              "              16 -0.546435  0.658798         0  \n",
              "              17 -0.613315  0.757084         0  \n",
              "              18 -0.448430  1.033520         0  \n",
              "              19 -0.633439  1.294845         0  \n",
              "              20 -0.614284  1.565417         0  \n",
              "              21 -0.836498  1.311100         0  \n",
              "              22 -0.806042  1.215438         0  \n",
              "              23 -1.078530  0.812187         0  \n",
              "              24 -1.491237  0.849472         0  ,\n",
              "    time_field_format=None,\n",
              "    timestamp=False,\n",
              "    metadata_fields=None)"
            ]
          },
          "execution_count": 10,
          "metadata": {},
          "output_type": "execute_result"
        }
      ],
      "source": [
        "detection_reader"
      ]
    },
    {
      "cell_type": "code",
      "execution_count": null,
      "metadata": {},
      "outputs": [],
      "source": []
    }
  ],
  "metadata": {
    "kernelspec": {
      "display_name": "Python 3",
      "language": "python",
      "name": "python3"
    },
    "language_info": {
      "codemirror_mode": {
        "name": "ipython",
        "version": 3
      },
      "file_extension": ".py",
      "mimetype": "text/x-python",
      "name": "python",
      "nbconvert_exporter": "python",
      "pygments_lexer": "ipython3",
      "version": "3.8.18"
    }
  },
  "nbformat": 4,
  "nbformat_minor": 0
}
